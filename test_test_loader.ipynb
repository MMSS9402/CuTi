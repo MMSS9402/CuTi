{
 "cells": [
  {
   "cell_type": "code",
   "execution_count": 1,
   "metadata": {},
   "outputs": [],
   "source": [
    "import numpy as np\n",
    "import wandb\n",
    "from collections import OrderedDict\n",
    "\n",
    "import cv2\n",
    "import torch\n",
    "import torch.optim as optim\n",
    "from torch.utils.data import DataLoader\n",
    "from test_data.factory_test import dataset_factory\n",
    "from config import cfg\n",
    "\n",
    "import lietorch\n",
    "from lietorch import SE3\n",
    "from geom.losses import geodesic_loss\n",
    "# from src.geom.losses import geodesic_loss\n",
    "\n",
    "# network\n",
    "# from src.model import ViTEss\n",
    "from logger import Logger\n",
    "from cuti import build\n",
    "\n",
    "# DDP training\n",
    "import torch.multiprocessing as mp\n",
    "import torch.distributed as dist\n",
    "from torch.nn.parallel import DistributedDataParallel as DDP\n",
    "\n",
    "from tqdm import tqdm\n",
    "import random\n",
    "from datetime import datetime\n",
    "import os\n",
    "\n",
    "import torchvision.models as models\n",
    "\n",
    "from cuti import build\n",
    "from config import cfg"
   ]
  },
  {
   "cell_type": "code",
   "execution_count": 2,
   "metadata": {},
   "outputs": [
    {
     "name": "stdout",
     "output_type": "stream",
     "text": [
      "Building Matterport dataset\n",
      "Dataset matterport has 7996 images\n"
     ]
    }
   ],
   "source": [
    "db = dataset_factory(\n",
    "    [\"matterport\"],\n",
    "    datapath=\"/home/kmuvcl/source/CuTi/matterport\",\n",
    "    subepoch=0,\n",
    "    is_training=False,\n",
    "    gpu = 0,\n",
    "    streetlearn_interiornet_type = None,\n",
    "    use_mini_dataset = False\n",
    ")"
   ]
  },
  {
   "cell_type": "code",
   "execution_count": 3,
   "metadata": {},
   "outputs": [],
   "source": [
    "model = build(cfg)"
   ]
  },
  {
   "cell_type": "code",
   "execution_count": 4,
   "metadata": {},
   "outputs": [],
   "source": [
    "ckpt = \"/home/kmuvcl/source/CuTi/checkpoint/006000.pth\""
   ]
  },
  {
   "cell_type": "code",
   "execution_count": 5,
   "metadata": {},
   "outputs": [],
   "source": [
    "state_dict = OrderedDict([\n",
    "        (k.replace(\"module.\", \"\"), v) for (k, v) in torch.load(ckpt)['model'].items()])"
   ]
  },
  {
   "cell_type": "code",
   "execution_count": 6,
   "metadata": {},
   "outputs": [],
   "source": [
    "model.load_state_dict(state_dict,False)\n",
    "model = model.cuda().eval()"
   ]
  },
  {
   "cell_type": "code",
   "execution_count": 7,
   "metadata": {},
   "outputs": [],
   "source": [
    "\n",
    "test_loader = DataLoader(\n",
    " db, batch_size=cfg.SOLVER.BATCH_SIZE, num_workers=1, shuffle=False\n",
    ")"
   ]
  },
  {
   "cell_type": "code",
   "execution_count": 18,
   "metadata": {},
   "outputs": [],
   "source": [
    "DEPTH_SCALE =5\n",
    "predictions = {'camera': {'preds': {'tran': [], 'rot': []}, 'gts': {'tran': [], 'rot': []}}}\n",
    "loss_list =[]"
   ]
  },
  {
   "cell_type": "code",
   "execution_count": 20,
   "metadata": {},
   "outputs": [
    {
     "name": "stderr",
     "output_type": "stream",
     "text": [
      "  0%|          | 0/1333 [00:00<?, ?batch/s]/home/kmuvcl/source/CuTi/ctrlc/ctrlc.py:75: UserWarning: To copy construct from a tensor, it is recommended to use sourceTensor.clone().detach() or sourceTensor.clone().detach().requires_grad_(True), rather than torch.tensor(sourceTensor).\n",
      "  extra_samples = torch.tensor(extra_samples, dtype = torch.float32)\n",
      "  0%|          | 1/1333 [00:00<15:29,  1.43batch/s]"
     ]
    },
    {
     "name": "stdout",
     "output_type": "stream",
     "text": [
      "GS______ [SE3: size=torch.Size([6, 2]), device=cuda:0, dtype=torch.float32]\n",
      "GS[0]__ __ __  SE3: size=torch.Size([6, 2]), device=cuda:0, dtype=torch.float32\n",
      "GS[0][:,jj] SE3: size=torch.Size([6, 2]), device=cuda:0, dtype=torch.float32\n"
     ]
    },
    {
     "name": "stderr",
     "output_type": "stream",
     "text": [
      "  0%|          | 2/1333 [00:01<12:11,  1.82batch/s]"
     ]
    },
    {
     "name": "stdout",
     "output_type": "stream",
     "text": [
      "GS______ [SE3: size=torch.Size([6, 2]), device=cuda:0, dtype=torch.float32]\n",
      "GS[0]__ __ __  SE3: size=torch.Size([6, 2]), device=cuda:0, dtype=torch.float32\n",
      "GS[0][:,jj] SE3: size=torch.Size([6, 2]), device=cuda:0, dtype=torch.float32\n"
     ]
    },
    {
     "name": "stderr",
     "output_type": "stream",
     "text": [
      "  0%|          | 3/1333 [00:01<11:18,  1.96batch/s]"
     ]
    },
    {
     "name": "stdout",
     "output_type": "stream",
     "text": [
      "GS______ [SE3: size=torch.Size([6, 2]), device=cuda:0, dtype=torch.float32]\n",
      "GS[0]__ __ __  SE3: size=torch.Size([6, 2]), device=cuda:0, dtype=torch.float32\n",
      "GS[0][:,jj] SE3: size=torch.Size([6, 2]), device=cuda:0, dtype=torch.float32\n"
     ]
    },
    {
     "name": "stderr",
     "output_type": "stream",
     "text": [
      "  0%|          | 4/1333 [00:02<10:59,  2.02batch/s]"
     ]
    },
    {
     "name": "stdout",
     "output_type": "stream",
     "text": [
      "GS______ [SE3: size=torch.Size([6, 2]), device=cuda:0, dtype=torch.float32]\n",
      "GS[0]__ __ __  SE3: size=torch.Size([6, 2]), device=cuda:0, dtype=torch.float32\n",
      "GS[0][:,jj] SE3: size=torch.Size([6, 2]), device=cuda:0, dtype=torch.float32\n"
     ]
    },
    {
     "name": "stderr",
     "output_type": "stream",
     "text": [
      "  0%|          | 5/1333 [00:02<10:42,  2.07batch/s]"
     ]
    },
    {
     "name": "stdout",
     "output_type": "stream",
     "text": [
      "GS______ [SE3: size=torch.Size([6, 2]), device=cuda:0, dtype=torch.float32]\n",
      "GS[0]__ __ __  SE3: size=torch.Size([6, 2]), device=cuda:0, dtype=torch.float32\n",
      "GS[0][:,jj] SE3: size=torch.Size([6, 2]), device=cuda:0, dtype=torch.float32\n"
     ]
    },
    {
     "name": "stderr",
     "output_type": "stream",
     "text": [
      "  0%|          | 6/1333 [00:03<10:30,  2.10batch/s]"
     ]
    },
    {
     "name": "stdout",
     "output_type": "stream",
     "text": [
      "GS______ [SE3: size=torch.Size([6, 2]), device=cuda:0, dtype=torch.float32]\n",
      "GS[0]__ __ __  SE3: size=torch.Size([6, 2]), device=cuda:0, dtype=torch.float32\n",
      "GS[0][:,jj] SE3: size=torch.Size([6, 2]), device=cuda:0, dtype=torch.float32\n"
     ]
    },
    {
     "name": "stderr",
     "output_type": "stream",
     "text": [
      "  1%|          | 7/1333 [00:03<10:24,  2.12batch/s]"
     ]
    },
    {
     "name": "stdout",
     "output_type": "stream",
     "text": [
      "GS______ [SE3: size=torch.Size([6, 2]), device=cuda:0, dtype=torch.float32]\n",
      "GS[0]__ __ __  SE3: size=torch.Size([6, 2]), device=cuda:0, dtype=torch.float32\n",
      "GS[0][:,jj] SE3: size=torch.Size([6, 2]), device=cuda:0, dtype=torch.float32\n"
     ]
    },
    {
     "name": "stderr",
     "output_type": "stream",
     "text": [
      "  1%|          | 8/1333 [00:03<10:21,  2.13batch/s]"
     ]
    },
    {
     "name": "stdout",
     "output_type": "stream",
     "text": [
      "GS______ [SE3: size=torch.Size([6, 2]), device=cuda:0, dtype=torch.float32]\n",
      "GS[0]__ __ __  SE3: size=torch.Size([6, 2]), device=cuda:0, dtype=torch.float32\n",
      "GS[0][:,jj] SE3: size=torch.Size([6, 2]), device=cuda:0, dtype=torch.float32\n"
     ]
    },
    {
     "name": "stderr",
     "output_type": "stream",
     "text": [
      "  1%|          | 9/1333 [00:04<10:19,  2.14batch/s]"
     ]
    },
    {
     "name": "stdout",
     "output_type": "stream",
     "text": [
      "GS______ [SE3: size=torch.Size([6, 2]), device=cuda:0, dtype=torch.float32]\n",
      "GS[0]__ __ __  SE3: size=torch.Size([6, 2]), device=cuda:0, dtype=torch.float32\n",
      "GS[0][:,jj] SE3: size=torch.Size([6, 2]), device=cuda:0, dtype=torch.float32\n"
     ]
    },
    {
     "name": "stderr",
     "output_type": "stream",
     "text": [
      "  1%|          | 10/1333 [00:04<10:19,  2.14batch/s]"
     ]
    },
    {
     "name": "stdout",
     "output_type": "stream",
     "text": [
      "GS______ [SE3: size=torch.Size([6, 2]), device=cuda:0, dtype=torch.float32]\n",
      "GS[0]__ __ __  SE3: size=torch.Size([6, 2]), device=cuda:0, dtype=torch.float32\n",
      "GS[0][:,jj] SE3: size=torch.Size([6, 2]), device=cuda:0, dtype=torch.float32\n"
     ]
    },
    {
     "name": "stderr",
     "output_type": "stream",
     "text": [
      "  1%|          | 11/1333 [00:05<10:24,  2.12batch/s]"
     ]
    },
    {
     "name": "stdout",
     "output_type": "stream",
     "text": [
      "GS______ [SE3: size=torch.Size([6, 2]), device=cuda:0, dtype=torch.float32]\n",
      "GS[0]__ __ __  SE3: size=torch.Size([6, 2]), device=cuda:0, dtype=torch.float32\n",
      "GS[0][:,jj] SE3: size=torch.Size([6, 2]), device=cuda:0, dtype=torch.float32\n"
     ]
    },
    {
     "name": "stderr",
     "output_type": "stream",
     "text": [
      "  1%|          | 12/1333 [00:05<10:20,  2.13batch/s]"
     ]
    },
    {
     "name": "stdout",
     "output_type": "stream",
     "text": [
      "GS______ [SE3: size=torch.Size([6, 2]), device=cuda:0, dtype=torch.float32]\n",
      "GS[0]__ __ __  SE3: size=torch.Size([6, 2]), device=cuda:0, dtype=torch.float32\n",
      "GS[0][:,jj] SE3: size=torch.Size([6, 2]), device=cuda:0, dtype=torch.float32\n"
     ]
    },
    {
     "name": "stderr",
     "output_type": "stream",
     "text": [
      "  1%|          | 13/1333 [00:06<10:18,  2.14batch/s]"
     ]
    },
    {
     "name": "stdout",
     "output_type": "stream",
     "text": [
      "GS______ [SE3: size=torch.Size([6, 2]), device=cuda:0, dtype=torch.float32]\n",
      "GS[0]__ __ __  SE3: size=torch.Size([6, 2]), device=cuda:0, dtype=torch.float32\n",
      "GS[0][:,jj] SE3: size=torch.Size([6, 2]), device=cuda:0, dtype=torch.float32\n"
     ]
    },
    {
     "name": "stderr",
     "output_type": "stream",
     "text": [
      "  1%|          | 14/1333 [00:06<10:15,  2.14batch/s]"
     ]
    },
    {
     "name": "stdout",
     "output_type": "stream",
     "text": [
      "GS______ [SE3: size=torch.Size([6, 2]), device=cuda:0, dtype=torch.float32]\n",
      "GS[0]__ __ __  SE3: size=torch.Size([6, 2]), device=cuda:0, dtype=torch.float32\n",
      "GS[0][:,jj] SE3: size=torch.Size([6, 2]), device=cuda:0, dtype=torch.float32\n"
     ]
    },
    {
     "name": "stderr",
     "output_type": "stream",
     "text": [
      "  1%|          | 15/1333 [00:07<10:14,  2.14batch/s]"
     ]
    },
    {
     "name": "stdout",
     "output_type": "stream",
     "text": [
      "GS______ [SE3: size=torch.Size([6, 2]), device=cuda:0, dtype=torch.float32]\n",
      "GS[0]__ __ __  SE3: size=torch.Size([6, 2]), device=cuda:0, dtype=torch.float32\n",
      "GS[0][:,jj] SE3: size=torch.Size([6, 2]), device=cuda:0, dtype=torch.float32\n"
     ]
    },
    {
     "name": "stderr",
     "output_type": "stream",
     "text": [
      "  1%|          | 16/1333 [00:07<10:13,  2.15batch/s]"
     ]
    },
    {
     "name": "stdout",
     "output_type": "stream",
     "text": [
      "GS______ [SE3: size=torch.Size([6, 2]), device=cuda:0, dtype=torch.float32]\n",
      "GS[0]__ __ __  SE3: size=torch.Size([6, 2]), device=cuda:0, dtype=torch.float32\n",
      "GS[0][:,jj] SE3: size=torch.Size([6, 2]), device=cuda:0, dtype=torch.float32\n"
     ]
    },
    {
     "name": "stderr",
     "output_type": "stream",
     "text": [
      "  1%|▏         | 17/1333 [00:08<10:09,  2.16batch/s]"
     ]
    },
    {
     "name": "stdout",
     "output_type": "stream",
     "text": [
      "GS______ [SE3: size=torch.Size([6, 2]), device=cuda:0, dtype=torch.float32]\n",
      "GS[0]__ __ __  SE3: size=torch.Size([6, 2]), device=cuda:0, dtype=torch.float32\n",
      "GS[0][:,jj] SE3: size=torch.Size([6, 2]), device=cuda:0, dtype=torch.float32\n"
     ]
    },
    {
     "name": "stderr",
     "output_type": "stream",
     "text": [
      "  1%|▏         | 18/1333 [00:08<10:05,  2.17batch/s]"
     ]
    },
    {
     "name": "stdout",
     "output_type": "stream",
     "text": [
      "GS______ [SE3: size=torch.Size([6, 2]), device=cuda:0, dtype=torch.float32]\n",
      "GS[0]__ __ __  SE3: size=torch.Size([6, 2]), device=cuda:0, dtype=torch.float32\n",
      "GS[0][:,jj] SE3: size=torch.Size([6, 2]), device=cuda:0, dtype=torch.float32\n"
     ]
    },
    {
     "name": "stderr",
     "output_type": "stream",
     "text": [
      "  1%|▏         | 19/1333 [00:09<10:09,  2.16batch/s]"
     ]
    },
    {
     "name": "stdout",
     "output_type": "stream",
     "text": [
      "GS______ [SE3: size=torch.Size([6, 2]), device=cuda:0, dtype=torch.float32]\n",
      "GS[0]__ __ __  SE3: size=torch.Size([6, 2]), device=cuda:0, dtype=torch.float32\n",
      "GS[0][:,jj] SE3: size=torch.Size([6, 2]), device=cuda:0, dtype=torch.float32\n"
     ]
    },
    {
     "name": "stderr",
     "output_type": "stream",
     "text": [
      "  2%|▏         | 20/1333 [00:09<10:08,  2.16batch/s]"
     ]
    },
    {
     "name": "stdout",
     "output_type": "stream",
     "text": [
      "GS______ [SE3: size=torch.Size([6, 2]), device=cuda:0, dtype=torch.float32]\n",
      "GS[0]__ __ __  SE3: size=torch.Size([6, 2]), device=cuda:0, dtype=torch.float32\n",
      "GS[0][:,jj] SE3: size=torch.Size([6, 2]), device=cuda:0, dtype=torch.float32\n"
     ]
    },
    {
     "name": "stderr",
     "output_type": "stream",
     "text": [
      "  2%|▏         | 21/1333 [00:09<10:09,  2.15batch/s]"
     ]
    },
    {
     "name": "stdout",
     "output_type": "stream",
     "text": [
      "GS______ [SE3: size=torch.Size([6, 2]), device=cuda:0, dtype=torch.float32]\n",
      "GS[0]__ __ __  SE3: size=torch.Size([6, 2]), device=cuda:0, dtype=torch.float32\n",
      "GS[0][:,jj] SE3: size=torch.Size([6, 2]), device=cuda:0, dtype=torch.float32\n"
     ]
    },
    {
     "name": "stderr",
     "output_type": "stream",
     "text": [
      "  2%|▏         | 22/1333 [00:10<10:08,  2.16batch/s]"
     ]
    },
    {
     "name": "stdout",
     "output_type": "stream",
     "text": [
      "GS______ [SE3: size=torch.Size([6, 2]), device=cuda:0, dtype=torch.float32]\n",
      "GS[0]__ __ __  SE3: size=torch.Size([6, 2]), device=cuda:0, dtype=torch.float32\n",
      "GS[0][:,jj] SE3: size=torch.Size([6, 2]), device=cuda:0, dtype=torch.float32\n"
     ]
    },
    {
     "name": "stderr",
     "output_type": "stream",
     "text": [
      "  2%|▏         | 23/1333 [00:10<10:08,  2.15batch/s]"
     ]
    },
    {
     "name": "stdout",
     "output_type": "stream",
     "text": [
      "GS______ [SE3: size=torch.Size([6, 2]), device=cuda:0, dtype=torch.float32]\n",
      "GS[0]__ __ __  SE3: size=torch.Size([6, 2]), device=cuda:0, dtype=torch.float32\n",
      "GS[0][:,jj] SE3: size=torch.Size([6, 2]), device=cuda:0, dtype=torch.float32\n"
     ]
    },
    {
     "name": "stderr",
     "output_type": "stream",
     "text": [
      "  2%|▏         | 24/1333 [00:11<10:09,  2.15batch/s]"
     ]
    },
    {
     "name": "stdout",
     "output_type": "stream",
     "text": [
      "GS______ [SE3: size=torch.Size([6, 2]), device=cuda:0, dtype=torch.float32]\n",
      "GS[0]__ __ __  SE3: size=torch.Size([6, 2]), device=cuda:0, dtype=torch.float32\n",
      "GS[0][:,jj] SE3: size=torch.Size([6, 2]), device=cuda:0, dtype=torch.float32\n"
     ]
    },
    {
     "name": "stderr",
     "output_type": "stream",
     "text": [
      "  2%|▏         | 25/1333 [00:11<10:11,  2.14batch/s]"
     ]
    },
    {
     "name": "stdout",
     "output_type": "stream",
     "text": [
      "GS______ [SE3: size=torch.Size([6, 2]), device=cuda:0, dtype=torch.float32]\n",
      "GS[0]__ __ __  SE3: size=torch.Size([6, 2]), device=cuda:0, dtype=torch.float32\n",
      "GS[0][:,jj] SE3: size=torch.Size([6, 2]), device=cuda:0, dtype=torch.float32\n"
     ]
    },
    {
     "name": "stderr",
     "output_type": "stream",
     "text": [
      "  2%|▏         | 26/1333 [00:12<10:06,  2.15batch/s]"
     ]
    },
    {
     "name": "stdout",
     "output_type": "stream",
     "text": [
      "GS______ [SE3: size=torch.Size([6, 2]), device=cuda:0, dtype=torch.float32]\n",
      "GS[0]__ __ __  SE3: size=torch.Size([6, 2]), device=cuda:0, dtype=torch.float32\n",
      "GS[0][:,jj] SE3: size=torch.Size([6, 2]), device=cuda:0, dtype=torch.float32\n"
     ]
    },
    {
     "name": "stderr",
     "output_type": "stream",
     "text": [
      "  2%|▏         | 27/1333 [00:12<10:05,  2.16batch/s]"
     ]
    },
    {
     "name": "stdout",
     "output_type": "stream",
     "text": [
      "GS______ [SE3: size=torch.Size([6, 2]), device=cuda:0, dtype=torch.float32]\n",
      "GS[0]__ __ __  SE3: size=torch.Size([6, 2]), device=cuda:0, dtype=torch.float32\n",
      "GS[0][:,jj] SE3: size=torch.Size([6, 2]), device=cuda:0, dtype=torch.float32\n"
     ]
    },
    {
     "name": "stderr",
     "output_type": "stream",
     "text": [
      "  2%|▏         | 28/1333 [00:13<10:05,  2.16batch/s]"
     ]
    },
    {
     "name": "stdout",
     "output_type": "stream",
     "text": [
      "GS______ [SE3: size=torch.Size([6, 2]), device=cuda:0, dtype=torch.float32]\n",
      "GS[0]__ __ __  SE3: size=torch.Size([6, 2]), device=cuda:0, dtype=torch.float32\n",
      "GS[0][:,jj] SE3: size=torch.Size([6, 2]), device=cuda:0, dtype=torch.float32\n"
     ]
    },
    {
     "name": "stderr",
     "output_type": "stream",
     "text": [
      "  2%|▏         | 29/1333 [00:13<10:04,  2.16batch/s]"
     ]
    },
    {
     "name": "stdout",
     "output_type": "stream",
     "text": [
      "GS______ [SE3: size=torch.Size([6, 2]), device=cuda:0, dtype=torch.float32]\n",
      "GS[0]__ __ __  SE3: size=torch.Size([6, 2]), device=cuda:0, dtype=torch.float32\n",
      "GS[0][:,jj] SE3: size=torch.Size([6, 2]), device=cuda:0, dtype=torch.float32\n"
     ]
    },
    {
     "name": "stderr",
     "output_type": "stream",
     "text": [
      "  2%|▏         | 30/1333 [00:14<10:01,  2.17batch/s]"
     ]
    },
    {
     "name": "stdout",
     "output_type": "stream",
     "text": [
      "GS______ [SE3: size=torch.Size([6, 2]), device=cuda:0, dtype=torch.float32]\n",
      "GS[0]__ __ __  SE3: size=torch.Size([6, 2]), device=cuda:0, dtype=torch.float32\n",
      "GS[0][:,jj] SE3: size=torch.Size([6, 2]), device=cuda:0, dtype=torch.float32\n"
     ]
    },
    {
     "name": "stderr",
     "output_type": "stream",
     "text": [
      "  2%|▏         | 31/1333 [00:14<10:02,  2.16batch/s]"
     ]
    },
    {
     "name": "stdout",
     "output_type": "stream",
     "text": [
      "GS______ [SE3: size=torch.Size([6, 2]), device=cuda:0, dtype=torch.float32]\n",
      "GS[0]__ __ __  SE3: size=torch.Size([6, 2]), device=cuda:0, dtype=torch.float32\n",
      "GS[0][:,jj] SE3: size=torch.Size([6, 2]), device=cuda:0, dtype=torch.float32\n"
     ]
    },
    {
     "name": "stderr",
     "output_type": "stream",
     "text": [
      "  2%|▏         | 32/1333 [00:15<10:00,  2.16batch/s]"
     ]
    },
    {
     "name": "stdout",
     "output_type": "stream",
     "text": [
      "GS______ [SE3: size=torch.Size([6, 2]), device=cuda:0, dtype=torch.float32]\n",
      "GS[0]__ __ __  SE3: size=torch.Size([6, 2]), device=cuda:0, dtype=torch.float32\n",
      "GS[0][:,jj] SE3: size=torch.Size([6, 2]), device=cuda:0, dtype=torch.float32\n"
     ]
    },
    {
     "name": "stderr",
     "output_type": "stream",
     "text": [
      "  2%|▏         | 33/1333 [00:15<10:02,  2.16batch/s]"
     ]
    },
    {
     "name": "stdout",
     "output_type": "stream",
     "text": [
      "GS______ [SE3: size=torch.Size([6, 2]), device=cuda:0, dtype=torch.float32]\n",
      "GS[0]__ __ __  SE3: size=torch.Size([6, 2]), device=cuda:0, dtype=torch.float32\n",
      "GS[0][:,jj] SE3: size=torch.Size([6, 2]), device=cuda:0, dtype=torch.float32\n"
     ]
    },
    {
     "name": "stderr",
     "output_type": "stream",
     "text": [
      "  3%|▎         | 34/1333 [00:16<09:59,  2.17batch/s]"
     ]
    },
    {
     "name": "stdout",
     "output_type": "stream",
     "text": [
      "GS______ [SE3: size=torch.Size([6, 2]), device=cuda:0, dtype=torch.float32]\n",
      "GS[0]__ __ __  SE3: size=torch.Size([6, 2]), device=cuda:0, dtype=torch.float32\n",
      "GS[0][:,jj] SE3: size=torch.Size([6, 2]), device=cuda:0, dtype=torch.float32\n"
     ]
    },
    {
     "name": "stderr",
     "output_type": "stream",
     "text": [
      "  3%|▎         | 35/1333 [00:16<10:00,  2.16batch/s]"
     ]
    },
    {
     "name": "stdout",
     "output_type": "stream",
     "text": [
      "GS______ [SE3: size=torch.Size([6, 2]), device=cuda:0, dtype=torch.float32]\n",
      "GS[0]__ __ __  SE3: size=torch.Size([6, 2]), device=cuda:0, dtype=torch.float32\n",
      "GS[0][:,jj] SE3: size=torch.Size([6, 2]), device=cuda:0, dtype=torch.float32\n"
     ]
    },
    {
     "name": "stderr",
     "output_type": "stream",
     "text": [
      "  3%|▎         | 36/1333 [00:16<09:59,  2.16batch/s]"
     ]
    },
    {
     "name": "stdout",
     "output_type": "stream",
     "text": [
      "GS______ [SE3: size=torch.Size([6, 2]), device=cuda:0, dtype=torch.float32]\n",
      "GS[0]__ __ __  SE3: size=torch.Size([6, 2]), device=cuda:0, dtype=torch.float32\n",
      "GS[0][:,jj] SE3: size=torch.Size([6, 2]), device=cuda:0, dtype=torch.float32\n"
     ]
    },
    {
     "name": "stderr",
     "output_type": "stream",
     "text": [
      "  3%|▎         | 37/1333 [00:17<10:03,  2.15batch/s]"
     ]
    },
    {
     "name": "stdout",
     "output_type": "stream",
     "text": [
      "GS______ [SE3: size=torch.Size([6, 2]), device=cuda:0, dtype=torch.float32]\n",
      "GS[0]__ __ __  SE3: size=torch.Size([6, 2]), device=cuda:0, dtype=torch.float32\n",
      "GS[0][:,jj] SE3: size=torch.Size([6, 2]), device=cuda:0, dtype=torch.float32\n"
     ]
    },
    {
     "name": "stderr",
     "output_type": "stream",
     "text": [
      "  3%|▎         | 38/1333 [00:17<10:02,  2.15batch/s]"
     ]
    },
    {
     "name": "stdout",
     "output_type": "stream",
     "text": [
      "GS______ [SE3: size=torch.Size([6, 2]), device=cuda:0, dtype=torch.float32]\n",
      "GS[0]__ __ __  SE3: size=torch.Size([6, 2]), device=cuda:0, dtype=torch.float32\n",
      "GS[0][:,jj] SE3: size=torch.Size([6, 2]), device=cuda:0, dtype=torch.float32\n"
     ]
    },
    {
     "name": "stderr",
     "output_type": "stream",
     "text": [
      "  3%|▎         | 39/1333 [00:18<10:03,  2.14batch/s]"
     ]
    },
    {
     "name": "stdout",
     "output_type": "stream",
     "text": [
      "GS______ [SE3: size=torch.Size([6, 2]), device=cuda:0, dtype=torch.float32]\n",
      "GS[0]__ __ __  SE3: size=torch.Size([6, 2]), device=cuda:0, dtype=torch.float32\n",
      "GS[0][:,jj] SE3: size=torch.Size([6, 2]), device=cuda:0, dtype=torch.float32\n"
     ]
    },
    {
     "name": "stderr",
     "output_type": "stream",
     "text": [
      "  3%|▎         | 40/1333 [00:18<10:03,  2.14batch/s]"
     ]
    },
    {
     "name": "stdout",
     "output_type": "stream",
     "text": [
      "GS______ [SE3: size=torch.Size([6, 2]), device=cuda:0, dtype=torch.float32]\n",
      "GS[0]__ __ __  SE3: size=torch.Size([6, 2]), device=cuda:0, dtype=torch.float32\n",
      "GS[0][:,jj] SE3: size=torch.Size([6, 2]), device=cuda:0, dtype=torch.float32\n"
     ]
    },
    {
     "name": "stderr",
     "output_type": "stream",
     "text": [
      "  3%|▎         | 41/1333 [00:19<10:01,  2.15batch/s]"
     ]
    },
    {
     "name": "stdout",
     "output_type": "stream",
     "text": [
      "GS______ [SE3: size=torch.Size([6, 2]), device=cuda:0, dtype=torch.float32]\n",
      "GS[0]__ __ __  SE3: size=torch.Size([6, 2]), device=cuda:0, dtype=torch.float32\n",
      "GS[0][:,jj] SE3: size=torch.Size([6, 2]), device=cuda:0, dtype=torch.float32\n"
     ]
    },
    {
     "name": "stderr",
     "output_type": "stream",
     "text": [
      "  3%|▎         | 42/1333 [00:19<09:59,  2.15batch/s]"
     ]
    },
    {
     "name": "stdout",
     "output_type": "stream",
     "text": [
      "GS______ [SE3: size=torch.Size([6, 2]), device=cuda:0, dtype=torch.float32]\n",
      "GS[0]__ __ __  SE3: size=torch.Size([6, 2]), device=cuda:0, dtype=torch.float32\n",
      "GS[0][:,jj] SE3: size=torch.Size([6, 2]), device=cuda:0, dtype=torch.float32\n"
     ]
    },
    {
     "name": "stderr",
     "output_type": "stream",
     "text": [
      "  3%|▎         | 43/1333 [00:20<09:58,  2.16batch/s]"
     ]
    },
    {
     "name": "stdout",
     "output_type": "stream",
     "text": [
      "GS______ [SE3: size=torch.Size([6, 2]), device=cuda:0, dtype=torch.float32]\n",
      "GS[0]__ __ __  SE3: size=torch.Size([6, 2]), device=cuda:0, dtype=torch.float32\n",
      "GS[0][:,jj] SE3: size=torch.Size([6, 2]), device=cuda:0, dtype=torch.float32\n"
     ]
    },
    {
     "name": "stderr",
     "output_type": "stream",
     "text": [
      "  3%|▎         | 44/1333 [00:20<09:56,  2.16batch/s]"
     ]
    },
    {
     "name": "stdout",
     "output_type": "stream",
     "text": [
      "GS______ [SE3: size=torch.Size([6, 2]), device=cuda:0, dtype=torch.float32]\n",
      "GS[0]__ __ __  SE3: size=torch.Size([6, 2]), device=cuda:0, dtype=torch.float32\n",
      "GS[0][:,jj] SE3: size=torch.Size([6, 2]), device=cuda:0, dtype=torch.float32\n"
     ]
    },
    {
     "name": "stderr",
     "output_type": "stream",
     "text": [
      "  3%|▎         | 45/1333 [00:21<09:53,  2.17batch/s]"
     ]
    },
    {
     "name": "stdout",
     "output_type": "stream",
     "text": [
      "GS______ [SE3: size=torch.Size([6, 2]), device=cuda:0, dtype=torch.float32]\n",
      "GS[0]__ __ __  SE3: size=torch.Size([6, 2]), device=cuda:0, dtype=torch.float32\n",
      "GS[0][:,jj] SE3: size=torch.Size([6, 2]), device=cuda:0, dtype=torch.float32\n"
     ]
    },
    {
     "name": "stderr",
     "output_type": "stream",
     "text": [
      "  3%|▎         | 46/1333 [00:21<09:51,  2.18batch/s]"
     ]
    },
    {
     "name": "stdout",
     "output_type": "stream",
     "text": [
      "GS______ [SE3: size=torch.Size([6, 2]), device=cuda:0, dtype=torch.float32]\n",
      "GS[0]__ __ __  SE3: size=torch.Size([6, 2]), device=cuda:0, dtype=torch.float32\n",
      "GS[0][:,jj] SE3: size=torch.Size([6, 2]), device=cuda:0, dtype=torch.float32\n"
     ]
    },
    {
     "name": "stderr",
     "output_type": "stream",
     "text": [
      "  4%|▎         | 47/1333 [00:22<09:50,  2.18batch/s]"
     ]
    },
    {
     "name": "stdout",
     "output_type": "stream",
     "text": [
      "GS______ [SE3: size=torch.Size([6, 2]), device=cuda:0, dtype=torch.float32]\n",
      "GS[0]__ __ __  SE3: size=torch.Size([6, 2]), device=cuda:0, dtype=torch.float32\n",
      "GS[0][:,jj] SE3: size=torch.Size([6, 2]), device=cuda:0, dtype=torch.float32\n"
     ]
    },
    {
     "name": "stderr",
     "output_type": "stream",
     "text": [
      "  4%|▎         | 48/1333 [00:22<09:53,  2.16batch/s]"
     ]
    },
    {
     "name": "stdout",
     "output_type": "stream",
     "text": [
      "GS______ [SE3: size=torch.Size([6, 2]), device=cuda:0, dtype=torch.float32]\n",
      "GS[0]__ __ __  SE3: size=torch.Size([6, 2]), device=cuda:0, dtype=torch.float32\n",
      "GS[0][:,jj] SE3: size=torch.Size([6, 2]), device=cuda:0, dtype=torch.float32\n"
     ]
    },
    {
     "name": "stderr",
     "output_type": "stream",
     "text": [
      "  4%|▎         | 49/1333 [00:22<09:51,  2.17batch/s]"
     ]
    },
    {
     "name": "stdout",
     "output_type": "stream",
     "text": [
      "GS______ [SE3: size=torch.Size([6, 2]), device=cuda:0, dtype=torch.float32]\n",
      "GS[0]__ __ __  SE3: size=torch.Size([6, 2]), device=cuda:0, dtype=torch.float32\n",
      "GS[0][:,jj] SE3: size=torch.Size([6, 2]), device=cuda:0, dtype=torch.float32\n"
     ]
    },
    {
     "name": "stderr",
     "output_type": "stream",
     "text": [
      "  4%|▍         | 50/1333 [00:23<09:48,  2.18batch/s]"
     ]
    },
    {
     "name": "stdout",
     "output_type": "stream",
     "text": [
      "GS______ [SE3: size=torch.Size([6, 2]), device=cuda:0, dtype=torch.float32]\n",
      "GS[0]__ __ __  SE3: size=torch.Size([6, 2]), device=cuda:0, dtype=torch.float32\n",
      "GS[0][:,jj] SE3: size=torch.Size([6, 2]), device=cuda:0, dtype=torch.float32\n"
     ]
    },
    {
     "name": "stderr",
     "output_type": "stream",
     "text": [
      "  4%|▍         | 51/1333 [00:23<09:47,  2.18batch/s]"
     ]
    },
    {
     "name": "stdout",
     "output_type": "stream",
     "text": [
      "GS______ [SE3: size=torch.Size([6, 2]), device=cuda:0, dtype=torch.float32]\n",
      "GS[0]__ __ __  SE3: size=torch.Size([6, 2]), device=cuda:0, dtype=torch.float32\n",
      "GS[0][:,jj] SE3: size=torch.Size([6, 2]), device=cuda:0, dtype=torch.float32\n"
     ]
    },
    {
     "name": "stderr",
     "output_type": "stream",
     "text": [
      "  4%|▍         | 52/1333 [00:24<09:45,  2.19batch/s]"
     ]
    },
    {
     "name": "stdout",
     "output_type": "stream",
     "text": [
      "GS______ [SE3: size=torch.Size([6, 2]), device=cuda:0, dtype=torch.float32]\n",
      "GS[0]__ __ __  SE3: size=torch.Size([6, 2]), device=cuda:0, dtype=torch.float32\n",
      "GS[0][:,jj] SE3: size=torch.Size([6, 2]), device=cuda:0, dtype=torch.float32\n"
     ]
    },
    {
     "name": "stderr",
     "output_type": "stream",
     "text": [
      "  4%|▍         | 53/1333 [00:24<09:42,  2.20batch/s]"
     ]
    },
    {
     "name": "stdout",
     "output_type": "stream",
     "text": [
      "GS______ [SE3: size=torch.Size([6, 2]), device=cuda:0, dtype=torch.float32]\n",
      "GS[0]__ __ __  SE3: size=torch.Size([6, 2]), device=cuda:0, dtype=torch.float32\n",
      "GS[0][:,jj] SE3: size=torch.Size([6, 2]), device=cuda:0, dtype=torch.float32\n"
     ]
    },
    {
     "name": "stderr",
     "output_type": "stream",
     "text": [
      "  4%|▍         | 54/1333 [00:25<09:38,  2.21batch/s]"
     ]
    },
    {
     "name": "stdout",
     "output_type": "stream",
     "text": [
      "GS______ [SE3: size=torch.Size([6, 2]), device=cuda:0, dtype=torch.float32]\n",
      "GS[0]__ __ __  SE3: size=torch.Size([6, 2]), device=cuda:0, dtype=torch.float32\n",
      "GS[0][:,jj] SE3: size=torch.Size([6, 2]), device=cuda:0, dtype=torch.float32\n"
     ]
    },
    {
     "name": "stderr",
     "output_type": "stream",
     "text": [
      "  4%|▍         | 55/1333 [00:25<09:44,  2.19batch/s]"
     ]
    },
    {
     "name": "stdout",
     "output_type": "stream",
     "text": [
      "GS______ [SE3: size=torch.Size([6, 2]), device=cuda:0, dtype=torch.float32]\n",
      "GS[0]__ __ __  SE3: size=torch.Size([6, 2]), device=cuda:0, dtype=torch.float32\n",
      "GS[0][:,jj] SE3: size=torch.Size([6, 2]), device=cuda:0, dtype=torch.float32\n"
     ]
    },
    {
     "name": "stderr",
     "output_type": "stream",
     "text": [
      "  4%|▍         | 56/1333 [00:26<09:43,  2.19batch/s]"
     ]
    },
    {
     "name": "stdout",
     "output_type": "stream",
     "text": [
      "GS______ [SE3: size=torch.Size([6, 2]), device=cuda:0, dtype=torch.float32]\n",
      "GS[0]__ __ __  SE3: size=torch.Size([6, 2]), device=cuda:0, dtype=torch.float32\n",
      "GS[0][:,jj] SE3: size=torch.Size([6, 2]), device=cuda:0, dtype=torch.float32\n"
     ]
    },
    {
     "name": "stderr",
     "output_type": "stream",
     "text": [
      "  4%|▍         | 57/1333 [00:26<09:41,  2.19batch/s]"
     ]
    },
    {
     "name": "stdout",
     "output_type": "stream",
     "text": [
      "GS______ [SE3: size=torch.Size([6, 2]), device=cuda:0, dtype=torch.float32]\n",
      "GS[0]__ __ __  SE3: size=torch.Size([6, 2]), device=cuda:0, dtype=torch.float32\n",
      "GS[0][:,jj] SE3: size=torch.Size([6, 2]), device=cuda:0, dtype=torch.float32\n"
     ]
    },
    {
     "name": "stderr",
     "output_type": "stream",
     "text": [
      "  4%|▍         | 58/1333 [00:27<09:38,  2.20batch/s]"
     ]
    },
    {
     "name": "stdout",
     "output_type": "stream",
     "text": [
      "GS______ [SE3: size=torch.Size([6, 2]), device=cuda:0, dtype=torch.float32]\n",
      "GS[0]__ __ __  SE3: size=torch.Size([6, 2]), device=cuda:0, dtype=torch.float32\n",
      "GS[0][:,jj] SE3: size=torch.Size([6, 2]), device=cuda:0, dtype=torch.float32\n"
     ]
    },
    {
     "name": "stderr",
     "output_type": "stream",
     "text": [
      "  4%|▍         | 59/1333 [00:27<09:37,  2.21batch/s]"
     ]
    },
    {
     "name": "stdout",
     "output_type": "stream",
     "text": [
      "GS______ [SE3: size=torch.Size([6, 2]), device=cuda:0, dtype=torch.float32]\n",
      "GS[0]__ __ __  SE3: size=torch.Size([6, 2]), device=cuda:0, dtype=torch.float32\n",
      "GS[0][:,jj] SE3: size=torch.Size([6, 2]), device=cuda:0, dtype=torch.float32\n"
     ]
    },
    {
     "name": "stderr",
     "output_type": "stream",
     "text": [
      "  5%|▍         | 60/1333 [00:27<09:35,  2.21batch/s]"
     ]
    },
    {
     "name": "stdout",
     "output_type": "stream",
     "text": [
      "GS______ [SE3: size=torch.Size([6, 2]), device=cuda:0, dtype=torch.float32]\n",
      "GS[0]__ __ __  SE3: size=torch.Size([6, 2]), device=cuda:0, dtype=torch.float32\n",
      "GS[0][:,jj] SE3: size=torch.Size([6, 2]), device=cuda:0, dtype=torch.float32\n"
     ]
    },
    {
     "name": "stderr",
     "output_type": "stream",
     "text": [
      "  5%|▍         | 61/1333 [00:28<09:35,  2.21batch/s]"
     ]
    },
    {
     "name": "stdout",
     "output_type": "stream",
     "text": [
      "GS______ [SE3: size=torch.Size([6, 2]), device=cuda:0, dtype=torch.float32]\n",
      "GS[0]__ __ __  SE3: size=torch.Size([6, 2]), device=cuda:0, dtype=torch.float32\n",
      "GS[0][:,jj] SE3: size=torch.Size([6, 2]), device=cuda:0, dtype=torch.float32\n"
     ]
    },
    {
     "name": "stderr",
     "output_type": "stream",
     "text": [
      "  5%|▍         | 62/1333 [00:28<09:35,  2.21batch/s]"
     ]
    },
    {
     "name": "stdout",
     "output_type": "stream",
     "text": [
      "GS______ [SE3: size=torch.Size([6, 2]), device=cuda:0, dtype=torch.float32]\n",
      "GS[0]__ __ __  SE3: size=torch.Size([6, 2]), device=cuda:0, dtype=torch.float32\n",
      "GS[0][:,jj] SE3: size=torch.Size([6, 2]), device=cuda:0, dtype=torch.float32\n"
     ]
    },
    {
     "name": "stderr",
     "output_type": "stream",
     "text": [
      "  5%|▍         | 63/1333 [00:29<09:39,  2.19batch/s]"
     ]
    },
    {
     "name": "stdout",
     "output_type": "stream",
     "text": [
      "GS______ [SE3: size=torch.Size([6, 2]), device=cuda:0, dtype=torch.float32]\n",
      "GS[0]__ __ __  SE3: size=torch.Size([6, 2]), device=cuda:0, dtype=torch.float32\n",
      "GS[0][:,jj] SE3: size=torch.Size([6, 2]), device=cuda:0, dtype=torch.float32\n"
     ]
    },
    {
     "name": "stderr",
     "output_type": "stream",
     "text": [
      "  5%|▍         | 64/1333 [00:29<09:38,  2.19batch/s]"
     ]
    },
    {
     "name": "stdout",
     "output_type": "stream",
     "text": [
      "GS______ [SE3: size=torch.Size([6, 2]), device=cuda:0, dtype=torch.float32]\n",
      "GS[0]__ __ __  SE3: size=torch.Size([6, 2]), device=cuda:0, dtype=torch.float32\n",
      "GS[0][:,jj] SE3: size=torch.Size([6, 2]), device=cuda:0, dtype=torch.float32\n"
     ]
    },
    {
     "name": "stderr",
     "output_type": "stream",
     "text": [
      "  5%|▍         | 65/1333 [00:30<09:38,  2.19batch/s]"
     ]
    },
    {
     "name": "stdout",
     "output_type": "stream",
     "text": [
      "GS______ [SE3: size=torch.Size([6, 2]), device=cuda:0, dtype=torch.float32]\n",
      "GS[0]__ __ __  SE3: size=torch.Size([6, 2]), device=cuda:0, dtype=torch.float32\n",
      "GS[0][:,jj] SE3: size=torch.Size([6, 2]), device=cuda:0, dtype=torch.float32\n"
     ]
    },
    {
     "name": "stderr",
     "output_type": "stream",
     "text": [
      "  5%|▍         | 66/1333 [00:30<09:39,  2.19batch/s]"
     ]
    },
    {
     "name": "stdout",
     "output_type": "stream",
     "text": [
      "GS______ [SE3: size=torch.Size([6, 2]), device=cuda:0, dtype=torch.float32]\n",
      "GS[0]__ __ __  SE3: size=torch.Size([6, 2]), device=cuda:0, dtype=torch.float32\n",
      "GS[0][:,jj] SE3: size=torch.Size([6, 2]), device=cuda:0, dtype=torch.float32\n"
     ]
    },
    {
     "name": "stderr",
     "output_type": "stream",
     "text": [
      "  5%|▌         | 67/1333 [00:31<09:39,  2.19batch/s]"
     ]
    },
    {
     "name": "stdout",
     "output_type": "stream",
     "text": [
      "GS______ [SE3: size=torch.Size([6, 2]), device=cuda:0, dtype=torch.float32]\n",
      "GS[0]__ __ __  SE3: size=torch.Size([6, 2]), device=cuda:0, dtype=torch.float32\n",
      "GS[0][:,jj] SE3: size=torch.Size([6, 2]), device=cuda:0, dtype=torch.float32\n"
     ]
    },
    {
     "name": "stderr",
     "output_type": "stream",
     "text": [
      "  5%|▌         | 68/1333 [00:31<09:38,  2.19batch/s]"
     ]
    },
    {
     "name": "stdout",
     "output_type": "stream",
     "text": [
      "GS______ [SE3: size=torch.Size([6, 2]), device=cuda:0, dtype=torch.float32]\n",
      "GS[0]__ __ __  SE3: size=torch.Size([6, 2]), device=cuda:0, dtype=torch.float32\n",
      "GS[0][:,jj] SE3: size=torch.Size([6, 2]), device=cuda:0, dtype=torch.float32\n"
     ]
    },
    {
     "name": "stderr",
     "output_type": "stream",
     "text": [
      "  5%|▌         | 69/1333 [00:32<09:40,  2.18batch/s]"
     ]
    },
    {
     "name": "stdout",
     "output_type": "stream",
     "text": [
      "GS______ [SE3: size=torch.Size([6, 2]), device=cuda:0, dtype=torch.float32]\n",
      "GS[0]__ __ __  SE3: size=torch.Size([6, 2]), device=cuda:0, dtype=torch.float32\n",
      "GS[0][:,jj] SE3: size=torch.Size([6, 2]), device=cuda:0, dtype=torch.float32\n"
     ]
    },
    {
     "name": "stderr",
     "output_type": "stream",
     "text": [
      "  5%|▌         | 70/1333 [00:32<09:46,  2.15batch/s]"
     ]
    },
    {
     "name": "stdout",
     "output_type": "stream",
     "text": [
      "GS______ [SE3: size=torch.Size([6, 2]), device=cuda:0, dtype=torch.float32]\n",
      "GS[0]__ __ __  SE3: size=torch.Size([6, 2]), device=cuda:0, dtype=torch.float32\n",
      "GS[0][:,jj] SE3: size=torch.Size([6, 2]), device=cuda:0, dtype=torch.float32\n"
     ]
    },
    {
     "name": "stderr",
     "output_type": "stream",
     "text": [
      "  5%|▌         | 71/1333 [00:32<09:42,  2.17batch/s]"
     ]
    },
    {
     "name": "stdout",
     "output_type": "stream",
     "text": [
      "GS______ [SE3: size=torch.Size([6, 2]), device=cuda:0, dtype=torch.float32]\n",
      "GS[0]__ __ __  SE3: size=torch.Size([6, 2]), device=cuda:0, dtype=torch.float32\n",
      "GS[0][:,jj] SE3: size=torch.Size([6, 2]), device=cuda:0, dtype=torch.float32\n"
     ]
    },
    {
     "name": "stderr",
     "output_type": "stream",
     "text": [
      "  5%|▌         | 72/1333 [00:33<09:40,  2.17batch/s]"
     ]
    },
    {
     "name": "stdout",
     "output_type": "stream",
     "text": [
      "GS______ [SE3: size=torch.Size([6, 2]), device=cuda:0, dtype=torch.float32]\n",
      "GS[0]__ __ __  SE3: size=torch.Size([6, 2]), device=cuda:0, dtype=torch.float32\n",
      "GS[0][:,jj] SE3: size=torch.Size([6, 2]), device=cuda:0, dtype=torch.float32\n"
     ]
    },
    {
     "name": "stderr",
     "output_type": "stream",
     "text": [
      "  5%|▌         | 73/1333 [00:33<09:37,  2.18batch/s]"
     ]
    },
    {
     "name": "stdout",
     "output_type": "stream",
     "text": [
      "GS______ [SE3: size=torch.Size([6, 2]), device=cuda:0, dtype=torch.float32]\n",
      "GS[0]__ __ __  SE3: size=torch.Size([6, 2]), device=cuda:0, dtype=torch.float32\n",
      "GS[0][:,jj] SE3: size=torch.Size([6, 2]), device=cuda:0, dtype=torch.float32\n"
     ]
    },
    {
     "name": "stderr",
     "output_type": "stream",
     "text": [
      "  6%|▌         | 74/1333 [00:34<09:38,  2.18batch/s]"
     ]
    },
    {
     "name": "stdout",
     "output_type": "stream",
     "text": [
      "GS______ [SE3: size=torch.Size([6, 2]), device=cuda:0, dtype=torch.float32]\n",
      "GS[0]__ __ __  SE3: size=torch.Size([6, 2]), device=cuda:0, dtype=torch.float32\n",
      "GS[0][:,jj] SE3: size=torch.Size([6, 2]), device=cuda:0, dtype=torch.float32\n"
     ]
    },
    {
     "name": "stderr",
     "output_type": "stream",
     "text": [
      "  6%|▌         | 75/1333 [00:34<09:38,  2.18batch/s]"
     ]
    },
    {
     "name": "stdout",
     "output_type": "stream",
     "text": [
      "GS______ [SE3: size=torch.Size([6, 2]), device=cuda:0, dtype=torch.float32]\n",
      "GS[0]__ __ __  SE3: size=torch.Size([6, 2]), device=cuda:0, dtype=torch.float32\n",
      "GS[0][:,jj] SE3: size=torch.Size([6, 2]), device=cuda:0, dtype=torch.float32\n"
     ]
    },
    {
     "name": "stderr",
     "output_type": "stream",
     "text": [
      "  6%|▌         | 76/1333 [00:35<09:34,  2.19batch/s]"
     ]
    },
    {
     "name": "stdout",
     "output_type": "stream",
     "text": [
      "GS______ [SE3: size=torch.Size([6, 2]), device=cuda:0, dtype=torch.float32]\n",
      "GS[0]__ __ __  SE3: size=torch.Size([6, 2]), device=cuda:0, dtype=torch.float32\n",
      "GS[0][:,jj] SE3: size=torch.Size([6, 2]), device=cuda:0, dtype=torch.float32\n"
     ]
    },
    {
     "name": "stderr",
     "output_type": "stream",
     "text": [
      "  6%|▌         | 77/1333 [00:35<09:35,  2.18batch/s]"
     ]
    },
    {
     "name": "stdout",
     "output_type": "stream",
     "text": [
      "GS______ [SE3: size=torch.Size([6, 2]), device=cuda:0, dtype=torch.float32]\n",
      "GS[0]__ __ __  SE3: size=torch.Size([6, 2]), device=cuda:0, dtype=torch.float32\n",
      "GS[0][:,jj] SE3: size=torch.Size([6, 2]), device=cuda:0, dtype=torch.float32\n"
     ]
    },
    {
     "name": "stderr",
     "output_type": "stream",
     "text": [
      "  6%|▌         | 78/1333 [00:36<09:34,  2.19batch/s]"
     ]
    },
    {
     "name": "stdout",
     "output_type": "stream",
     "text": [
      "GS______ [SE3: size=torch.Size([6, 2]), device=cuda:0, dtype=torch.float32]\n",
      "GS[0]__ __ __  SE3: size=torch.Size([6, 2]), device=cuda:0, dtype=torch.float32\n",
      "GS[0][:,jj] SE3: size=torch.Size([6, 2]), device=cuda:0, dtype=torch.float32\n"
     ]
    },
    {
     "name": "stderr",
     "output_type": "stream",
     "text": [
      "  6%|▌         | 79/1333 [00:36<09:32,  2.19batch/s]"
     ]
    },
    {
     "name": "stdout",
     "output_type": "stream",
     "text": [
      "GS______ [SE3: size=torch.Size([6, 2]), device=cuda:0, dtype=torch.float32]\n",
      "GS[0]__ __ __  SE3: size=torch.Size([6, 2]), device=cuda:0, dtype=torch.float32\n",
      "GS[0][:,jj] SE3: size=torch.Size([6, 2]), device=cuda:0, dtype=torch.float32\n"
     ]
    },
    {
     "name": "stderr",
     "output_type": "stream",
     "text": [
      "  6%|▌         | 80/1333 [00:37<09:32,  2.19batch/s]"
     ]
    },
    {
     "name": "stdout",
     "output_type": "stream",
     "text": [
      "GS______ [SE3: size=torch.Size([6, 2]), device=cuda:0, dtype=torch.float32]\n",
      "GS[0]__ __ __  SE3: size=torch.Size([6, 2]), device=cuda:0, dtype=torch.float32\n",
      "GS[0][:,jj] SE3: size=torch.Size([6, 2]), device=cuda:0, dtype=torch.float32\n"
     ]
    },
    {
     "name": "stderr",
     "output_type": "stream",
     "text": [
      "  6%|▌         | 81/1333 [00:37<09:31,  2.19batch/s]"
     ]
    },
    {
     "name": "stdout",
     "output_type": "stream",
     "text": [
      "GS______ [SE3: size=torch.Size([6, 2]), device=cuda:0, dtype=torch.float32]\n",
      "GS[0]__ __ __  SE3: size=torch.Size([6, 2]), device=cuda:0, dtype=torch.float32\n",
      "GS[0][:,jj] SE3: size=torch.Size([6, 2]), device=cuda:0, dtype=torch.float32\n"
     ]
    },
    {
     "name": "stderr",
     "output_type": "stream",
     "text": [
      "  6%|▌         | 82/1333 [00:38<09:36,  2.17batch/s]"
     ]
    },
    {
     "name": "stdout",
     "output_type": "stream",
     "text": [
      "GS______ [SE3: size=torch.Size([6, 2]), device=cuda:0, dtype=torch.float32]\n",
      "GS[0]__ __ __  SE3: size=torch.Size([6, 2]), device=cuda:0, dtype=torch.float32\n",
      "GS[0][:,jj] SE3: size=torch.Size([6, 2]), device=cuda:0, dtype=torch.float32\n"
     ]
    },
    {
     "name": "stderr",
     "output_type": "stream",
     "text": [
      "  6%|▌         | 83/1333 [00:38<09:34,  2.17batch/s]"
     ]
    },
    {
     "name": "stdout",
     "output_type": "stream",
     "text": [
      "GS______ [SE3: size=torch.Size([6, 2]), device=cuda:0, dtype=torch.float32]\n",
      "GS[0]__ __ __  SE3: size=torch.Size([6, 2]), device=cuda:0, dtype=torch.float32\n",
      "GS[0][:,jj] SE3: size=torch.Size([6, 2]), device=cuda:0, dtype=torch.float32\n"
     ]
    },
    {
     "name": "stderr",
     "output_type": "stream",
     "text": [
      "  6%|▋         | 84/1333 [00:38<09:36,  2.17batch/s]"
     ]
    },
    {
     "name": "stdout",
     "output_type": "stream",
     "text": [
      "GS______ [SE3: size=torch.Size([6, 2]), device=cuda:0, dtype=torch.float32]\n",
      "GS[0]__ __ __  SE3: size=torch.Size([6, 2]), device=cuda:0, dtype=torch.float32\n",
      "GS[0][:,jj] SE3: size=torch.Size([6, 2]), device=cuda:0, dtype=torch.float32\n"
     ]
    },
    {
     "name": "stderr",
     "output_type": "stream",
     "text": [
      "  6%|▋         | 85/1333 [00:39<09:36,  2.17batch/s]"
     ]
    },
    {
     "name": "stdout",
     "output_type": "stream",
     "text": [
      "GS______ [SE3: size=torch.Size([6, 2]), device=cuda:0, dtype=torch.float32]\n",
      "GS[0]__ __ __  SE3: size=torch.Size([6, 2]), device=cuda:0, dtype=torch.float32\n",
      "GS[0][:,jj] SE3: size=torch.Size([6, 2]), device=cuda:0, dtype=torch.float32\n"
     ]
    },
    {
     "name": "stderr",
     "output_type": "stream",
     "text": [
      "  6%|▋         | 86/1333 [00:39<09:34,  2.17batch/s]"
     ]
    },
    {
     "name": "stdout",
     "output_type": "stream",
     "text": [
      "GS______ [SE3: size=torch.Size([6, 2]), device=cuda:0, dtype=torch.float32]\n",
      "GS[0]__ __ __  SE3: size=torch.Size([6, 2]), device=cuda:0, dtype=torch.float32\n",
      "GS[0][:,jj] SE3: size=torch.Size([6, 2]), device=cuda:0, dtype=torch.float32\n"
     ]
    },
    {
     "name": "stderr",
     "output_type": "stream",
     "text": [
      "  7%|▋         | 87/1333 [00:40<09:32,  2.18batch/s]"
     ]
    },
    {
     "name": "stdout",
     "output_type": "stream",
     "text": [
      "GS______ [SE3: size=torch.Size([6, 2]), device=cuda:0, dtype=torch.float32]\n",
      "GS[0]__ __ __  SE3: size=torch.Size([6, 2]), device=cuda:0, dtype=torch.float32\n",
      "GS[0][:,jj] SE3: size=torch.Size([6, 2]), device=cuda:0, dtype=torch.float32\n"
     ]
    },
    {
     "name": "stderr",
     "output_type": "stream",
     "text": [
      "  7%|▋         | 88/1333 [00:40<09:38,  2.15batch/s]"
     ]
    },
    {
     "name": "stdout",
     "output_type": "stream",
     "text": [
      "GS______ [SE3: size=torch.Size([6, 2]), device=cuda:0, dtype=torch.float32]\n",
      "GS[0]__ __ __  SE3: size=torch.Size([6, 2]), device=cuda:0, dtype=torch.float32\n",
      "GS[0][:,jj] SE3: size=torch.Size([6, 2]), device=cuda:0, dtype=torch.float32\n"
     ]
    },
    {
     "name": "stderr",
     "output_type": "stream",
     "text": [
      "  7%|▋         | 89/1333 [00:41<09:37,  2.15batch/s]"
     ]
    },
    {
     "name": "stdout",
     "output_type": "stream",
     "text": [
      "GS______ [SE3: size=torch.Size([6, 2]), device=cuda:0, dtype=torch.float32]\n",
      "GS[0]__ __ __  SE3: size=torch.Size([6, 2]), device=cuda:0, dtype=torch.float32\n",
      "GS[0][:,jj] SE3: size=torch.Size([6, 2]), device=cuda:0, dtype=torch.float32\n"
     ]
    },
    {
     "name": "stderr",
     "output_type": "stream",
     "text": [
      "  7%|▋         | 90/1333 [00:41<09:33,  2.17batch/s]"
     ]
    },
    {
     "name": "stdout",
     "output_type": "stream",
     "text": [
      "GS______ [SE3: size=torch.Size([6, 2]), device=cuda:0, dtype=torch.float32]\n",
      "GS[0]__ __ __  SE3: size=torch.Size([6, 2]), device=cuda:0, dtype=torch.float32\n",
      "GS[0][:,jj] SE3: size=torch.Size([6, 2]), device=cuda:0, dtype=torch.float32\n"
     ]
    },
    {
     "name": "stderr",
     "output_type": "stream",
     "text": [
      "  7%|▋         | 91/1333 [00:42<09:31,  2.17batch/s]"
     ]
    },
    {
     "name": "stdout",
     "output_type": "stream",
     "text": [
      "GS______ [SE3: size=torch.Size([6, 2]), device=cuda:0, dtype=torch.float32]\n",
      "GS[0]__ __ __  SE3: size=torch.Size([6, 2]), device=cuda:0, dtype=torch.float32\n",
      "GS[0][:,jj] SE3: size=torch.Size([6, 2]), device=cuda:0, dtype=torch.float32\n"
     ]
    },
    {
     "name": "stderr",
     "output_type": "stream",
     "text": [
      "  7%|▋         | 92/1333 [00:42<09:33,  2.16batch/s]"
     ]
    },
    {
     "name": "stdout",
     "output_type": "stream",
     "text": [
      "GS______ [SE3: size=torch.Size([6, 2]), device=cuda:0, dtype=torch.float32]\n",
      "GS[0]__ __ __  SE3: size=torch.Size([6, 2]), device=cuda:0, dtype=torch.float32\n",
      "GS[0][:,jj] SE3: size=torch.Size([6, 2]), device=cuda:0, dtype=torch.float32\n"
     ]
    },
    {
     "name": "stderr",
     "output_type": "stream",
     "text": [
      "  7%|▋         | 93/1333 [00:43<09:31,  2.17batch/s]"
     ]
    },
    {
     "name": "stdout",
     "output_type": "stream",
     "text": [
      "GS______ [SE3: size=torch.Size([6, 2]), device=cuda:0, dtype=torch.float32]\n",
      "GS[0]__ __ __  SE3: size=torch.Size([6, 2]), device=cuda:0, dtype=torch.float32\n",
      "GS[0][:,jj] SE3: size=torch.Size([6, 2]), device=cuda:0, dtype=torch.float32\n"
     ]
    },
    {
     "name": "stderr",
     "output_type": "stream",
     "text": [
      "  7%|▋         | 94/1333 [00:43<09:30,  2.17batch/s]"
     ]
    },
    {
     "name": "stdout",
     "output_type": "stream",
     "text": [
      "GS______ [SE3: size=torch.Size([6, 2]), device=cuda:0, dtype=torch.float32]\n",
      "GS[0]__ __ __  SE3: size=torch.Size([6, 2]), device=cuda:0, dtype=torch.float32\n",
      "GS[0][:,jj] SE3: size=torch.Size([6, 2]), device=cuda:0, dtype=torch.float32\n"
     ]
    },
    {
     "name": "stderr",
     "output_type": "stream",
     "text": [
      "  7%|▋         | 95/1333 [00:44<09:29,  2.17batch/s]"
     ]
    },
    {
     "name": "stdout",
     "output_type": "stream",
     "text": [
      "GS______ [SE3: size=torch.Size([6, 2]), device=cuda:0, dtype=torch.float32]\n",
      "GS[0]__ __ __  SE3: size=torch.Size([6, 2]), device=cuda:0, dtype=torch.float32\n",
      "GS[0][:,jj] SE3: size=torch.Size([6, 2]), device=cuda:0, dtype=torch.float32\n"
     ]
    },
    {
     "name": "stderr",
     "output_type": "stream",
     "text": [
      "  7%|▋         | 96/1333 [00:44<09:28,  2.18batch/s]"
     ]
    },
    {
     "name": "stdout",
     "output_type": "stream",
     "text": [
      "GS______ [SE3: size=torch.Size([6, 2]), device=cuda:0, dtype=torch.float32]\n",
      "GS[0]__ __ __  SE3: size=torch.Size([6, 2]), device=cuda:0, dtype=torch.float32\n",
      "GS[0][:,jj] SE3: size=torch.Size([6, 2]), device=cuda:0, dtype=torch.float32\n"
     ]
    },
    {
     "name": "stderr",
     "output_type": "stream",
     "text": [
      "  7%|▋         | 97/1333 [00:44<09:32,  2.16batch/s]"
     ]
    },
    {
     "name": "stdout",
     "output_type": "stream",
     "text": [
      "GS______ [SE3: size=torch.Size([6, 2]), device=cuda:0, dtype=torch.float32]\n",
      "GS[0]__ __ __  SE3: size=torch.Size([6, 2]), device=cuda:0, dtype=torch.float32\n",
      "GS[0][:,jj] SE3: size=torch.Size([6, 2]), device=cuda:0, dtype=torch.float32\n"
     ]
    },
    {
     "name": "stderr",
     "output_type": "stream",
     "text": [
      "  7%|▋         | 98/1333 [00:45<09:31,  2.16batch/s]"
     ]
    },
    {
     "name": "stdout",
     "output_type": "stream",
     "text": [
      "GS______ [SE3: size=torch.Size([6, 2]), device=cuda:0, dtype=torch.float32]\n",
      "GS[0]__ __ __  SE3: size=torch.Size([6, 2]), device=cuda:0, dtype=torch.float32\n",
      "GS[0][:,jj] SE3: size=torch.Size([6, 2]), device=cuda:0, dtype=torch.float32\n"
     ]
    },
    {
     "name": "stderr",
     "output_type": "stream",
     "text": [
      "  7%|▋         | 99/1333 [00:45<09:27,  2.18batch/s]"
     ]
    },
    {
     "name": "stdout",
     "output_type": "stream",
     "text": [
      "GS______ [SE3: size=torch.Size([6, 2]), device=cuda:0, dtype=torch.float32]\n",
      "GS[0]__ __ __  SE3: size=torch.Size([6, 2]), device=cuda:0, dtype=torch.float32\n",
      "GS[0][:,jj] SE3: size=torch.Size([6, 2]), device=cuda:0, dtype=torch.float32\n"
     ]
    },
    {
     "name": "stderr",
     "output_type": "stream",
     "text": [
      "  8%|▊         | 100/1333 [00:46<09:24,  2.18batch/s]"
     ]
    },
    {
     "name": "stdout",
     "output_type": "stream",
     "text": [
      "GS______ [SE3: size=torch.Size([6, 2]), device=cuda:0, dtype=torch.float32]\n",
      "GS[0]__ __ __  SE3: size=torch.Size([6, 2]), device=cuda:0, dtype=torch.float32\n",
      "GS[0][:,jj] SE3: size=torch.Size([6, 2]), device=cuda:0, dtype=torch.float32\n"
     ]
    },
    {
     "name": "stderr",
     "output_type": "stream",
     "text": [
      "  8%|▊         | 101/1333 [00:46<09:20,  2.20batch/s]"
     ]
    },
    {
     "name": "stdout",
     "output_type": "stream",
     "text": [
      "GS______ [SE3: size=torch.Size([6, 2]), device=cuda:0, dtype=torch.float32]\n",
      "GS[0]__ __ __  SE3: size=torch.Size([6, 2]), device=cuda:0, dtype=torch.float32\n",
      "GS[0][:,jj] SE3: size=torch.Size([6, 2]), device=cuda:0, dtype=torch.float32\n"
     ]
    },
    {
     "name": "stderr",
     "output_type": "stream",
     "text": [
      "  8%|▊         | 102/1333 [00:47<09:19,  2.20batch/s]"
     ]
    },
    {
     "name": "stdout",
     "output_type": "stream",
     "text": [
      "GS______ [SE3: size=torch.Size([6, 2]), device=cuda:0, dtype=torch.float32]\n",
      "GS[0]__ __ __  SE3: size=torch.Size([6, 2]), device=cuda:0, dtype=torch.float32\n",
      "GS[0][:,jj] SE3: size=torch.Size([6, 2]), device=cuda:0, dtype=torch.float32\n"
     ]
    },
    {
     "name": "stderr",
     "output_type": "stream",
     "text": [
      "  8%|▊         | 103/1333 [00:47<09:16,  2.21batch/s]"
     ]
    },
    {
     "name": "stdout",
     "output_type": "stream",
     "text": [
      "GS______ [SE3: size=torch.Size([6, 2]), device=cuda:0, dtype=torch.float32]\n",
      "GS[0]__ __ __  SE3: size=torch.Size([6, 2]), device=cuda:0, dtype=torch.float32\n",
      "GS[0][:,jj] SE3: size=torch.Size([6, 2]), device=cuda:0, dtype=torch.float32\n"
     ]
    },
    {
     "name": "stderr",
     "output_type": "stream",
     "text": [
      "  8%|▊         | 104/1333 [00:48<09:23,  2.18batch/s]"
     ]
    },
    {
     "name": "stdout",
     "output_type": "stream",
     "text": [
      "GS______ [SE3: size=torch.Size([6, 2]), device=cuda:0, dtype=torch.float32]\n",
      "GS[0]__ __ __  SE3: size=torch.Size([6, 2]), device=cuda:0, dtype=torch.float32\n",
      "GS[0][:,jj] SE3: size=torch.Size([6, 2]), device=cuda:0, dtype=torch.float32\n"
     ]
    },
    {
     "name": "stderr",
     "output_type": "stream",
     "text": [
      "  8%|▊         | 105/1333 [00:48<09:20,  2.19batch/s]"
     ]
    },
    {
     "name": "stdout",
     "output_type": "stream",
     "text": [
      "GS______ [SE3: size=torch.Size([6, 2]), device=cuda:0, dtype=torch.float32]\n",
      "GS[0]__ __ __  SE3: size=torch.Size([6, 2]), device=cuda:0, dtype=torch.float32\n",
      "GS[0][:,jj] SE3: size=torch.Size([6, 2]), device=cuda:0, dtype=torch.float32\n"
     ]
    },
    {
     "name": "stderr",
     "output_type": "stream",
     "text": [
      "  8%|▊         | 106/1333 [00:49<09:17,  2.20batch/s]"
     ]
    },
    {
     "name": "stdout",
     "output_type": "stream",
     "text": [
      "GS______ [SE3: size=torch.Size([6, 2]), device=cuda:0, dtype=torch.float32]\n",
      "GS[0]__ __ __  SE3: size=torch.Size([6, 2]), device=cuda:0, dtype=torch.float32\n",
      "GS[0][:,jj] SE3: size=torch.Size([6, 2]), device=cuda:0, dtype=torch.float32\n"
     ]
    },
    {
     "name": "stderr",
     "output_type": "stream",
     "text": [
      "  8%|▊         | 107/1333 [00:49<09:15,  2.21batch/s]"
     ]
    },
    {
     "name": "stdout",
     "output_type": "stream",
     "text": [
      "GS______ [SE3: size=torch.Size([6, 2]), device=cuda:0, dtype=torch.float32]\n",
      "GS[0]__ __ __  SE3: size=torch.Size([6, 2]), device=cuda:0, dtype=torch.float32\n",
      "GS[0][:,jj] SE3: size=torch.Size([6, 2]), device=cuda:0, dtype=torch.float32\n"
     ]
    },
    {
     "name": "stderr",
     "output_type": "stream",
     "text": [
      "  8%|▊         | 108/1333 [00:49<09:13,  2.21batch/s]"
     ]
    },
    {
     "name": "stdout",
     "output_type": "stream",
     "text": [
      "GS______ [SE3: size=torch.Size([6, 2]), device=cuda:0, dtype=torch.float32]\n",
      "GS[0]__ __ __  SE3: size=torch.Size([6, 2]), device=cuda:0, dtype=torch.float32\n",
      "GS[0][:,jj] SE3: size=torch.Size([6, 2]), device=cuda:0, dtype=torch.float32\n"
     ]
    },
    {
     "name": "stderr",
     "output_type": "stream",
     "text": [
      "  8%|▊         | 109/1333 [00:50<09:10,  2.22batch/s]"
     ]
    },
    {
     "name": "stdout",
     "output_type": "stream",
     "text": [
      "GS______ [SE3: size=torch.Size([6, 2]), device=cuda:0, dtype=torch.float32]\n",
      "GS[0]__ __ __  SE3: size=torch.Size([6, 2]), device=cuda:0, dtype=torch.float32\n",
      "GS[0][:,jj] SE3: size=torch.Size([6, 2]), device=cuda:0, dtype=torch.float32\n"
     ]
    },
    {
     "name": "stderr",
     "output_type": "stream",
     "text": [
      "  8%|▊         | 110/1333 [00:50<09:11,  2.22batch/s]"
     ]
    },
    {
     "name": "stdout",
     "output_type": "stream",
     "text": [
      "GS______ [SE3: size=torch.Size([6, 2]), device=cuda:0, dtype=torch.float32]\n",
      "GS[0]__ __ __  SE3: size=torch.Size([6, 2]), device=cuda:0, dtype=torch.float32\n",
      "GS[0][:,jj] SE3: size=torch.Size([6, 2]), device=cuda:0, dtype=torch.float32\n"
     ]
    },
    {
     "name": "stderr",
     "output_type": "stream",
     "text": [
      "  8%|▊         | 111/1333 [00:51<09:09,  2.22batch/s]"
     ]
    },
    {
     "name": "stdout",
     "output_type": "stream",
     "text": [
      "GS______ [SE3: size=torch.Size([6, 2]), device=cuda:0, dtype=torch.float32]\n",
      "GS[0]__ __ __  SE3: size=torch.Size([6, 2]), device=cuda:0, dtype=torch.float32\n",
      "GS[0][:,jj] SE3: size=torch.Size([6, 2]), device=cuda:0, dtype=torch.float32\n"
     ]
    },
    {
     "name": "stderr",
     "output_type": "stream",
     "text": [
      "  8%|▊         | 112/1333 [00:51<09:13,  2.21batch/s]"
     ]
    },
    {
     "name": "stdout",
     "output_type": "stream",
     "text": [
      "GS______ [SE3: size=torch.Size([6, 2]), device=cuda:0, dtype=torch.float32]\n",
      "GS[0]__ __ __  SE3: size=torch.Size([6, 2]), device=cuda:0, dtype=torch.float32\n",
      "GS[0][:,jj] SE3: size=torch.Size([6, 2]), device=cuda:0, dtype=torch.float32\n"
     ]
    },
    {
     "name": "stderr",
     "output_type": "stream",
     "text": [
      "  8%|▊         | 113/1333 [00:52<09:15,  2.20batch/s]"
     ]
    },
    {
     "name": "stdout",
     "output_type": "stream",
     "text": [
      "GS______ [SE3: size=torch.Size([6, 2]), device=cuda:0, dtype=torch.float32]\n",
      "GS[0]__ __ __  SE3: size=torch.Size([6, 2]), device=cuda:0, dtype=torch.float32\n",
      "GS[0][:,jj] SE3: size=torch.Size([6, 2]), device=cuda:0, dtype=torch.float32\n"
     ]
    },
    {
     "name": "stderr",
     "output_type": "stream",
     "text": [
      "  9%|▊         | 114/1333 [00:52<09:20,  2.17batch/s]"
     ]
    },
    {
     "name": "stdout",
     "output_type": "stream",
     "text": [
      "GS______ [SE3: size=torch.Size([6, 2]), device=cuda:0, dtype=torch.float32]\n",
      "GS[0]__ __ __  SE3: size=torch.Size([6, 2]), device=cuda:0, dtype=torch.float32\n",
      "GS[0][:,jj] SE3: size=torch.Size([6, 2]), device=cuda:0, dtype=torch.float32\n"
     ]
    },
    {
     "name": "stderr",
     "output_type": "stream",
     "text": [
      "  9%|▊         | 115/1333 [00:53<09:22,  2.16batch/s]"
     ]
    },
    {
     "name": "stdout",
     "output_type": "stream",
     "text": [
      "GS______ [SE3: size=torch.Size([6, 2]), device=cuda:0, dtype=torch.float32]\n",
      "GS[0]__ __ __  SE3: size=torch.Size([6, 2]), device=cuda:0, dtype=torch.float32\n",
      "GS[0][:,jj] SE3: size=torch.Size([6, 2]), device=cuda:0, dtype=torch.float32\n"
     ]
    },
    {
     "name": "stderr",
     "output_type": "stream",
     "text": [
      "  9%|▊         | 116/1333 [00:53<09:23,  2.16batch/s]"
     ]
    },
    {
     "name": "stdout",
     "output_type": "stream",
     "text": [
      "GS______ [SE3: size=torch.Size([6, 2]), device=cuda:0, dtype=torch.float32]\n",
      "GS[0]__ __ __  SE3: size=torch.Size([6, 2]), device=cuda:0, dtype=torch.float32\n",
      "GS[0][:,jj] SE3: size=torch.Size([6, 2]), device=cuda:0, dtype=torch.float32\n"
     ]
    },
    {
     "name": "stderr",
     "output_type": "stream",
     "text": [
      "  9%|▉         | 117/1333 [00:54<09:22,  2.16batch/s]"
     ]
    },
    {
     "name": "stdout",
     "output_type": "stream",
     "text": [
      "GS______ [SE3: size=torch.Size([6, 2]), device=cuda:0, dtype=torch.float32]\n",
      "GS[0]__ __ __  SE3: size=torch.Size([6, 2]), device=cuda:0, dtype=torch.float32\n",
      "GS[0][:,jj] SE3: size=torch.Size([6, 2]), device=cuda:0, dtype=torch.float32\n"
     ]
    },
    {
     "name": "stderr",
     "output_type": "stream",
     "text": [
      "  9%|▉         | 118/1333 [00:54<09:22,  2.16batch/s]"
     ]
    },
    {
     "name": "stdout",
     "output_type": "stream",
     "text": [
      "GS______ [SE3: size=torch.Size([6, 2]), device=cuda:0, dtype=torch.float32]\n",
      "GS[0]__ __ __  SE3: size=torch.Size([6, 2]), device=cuda:0, dtype=torch.float32\n",
      "GS[0][:,jj] SE3: size=torch.Size([6, 2]), device=cuda:0, dtype=torch.float32\n"
     ]
    },
    {
     "name": "stderr",
     "output_type": "stream",
     "text": [
      "  9%|▉         | 119/1333 [00:55<09:27,  2.14batch/s]"
     ]
    },
    {
     "name": "stdout",
     "output_type": "stream",
     "text": [
      "GS______ [SE3: size=torch.Size([6, 2]), device=cuda:0, dtype=torch.float32]\n",
      "GS[0]__ __ __  SE3: size=torch.Size([6, 2]), device=cuda:0, dtype=torch.float32\n",
      "GS[0][:,jj] SE3: size=torch.Size([6, 2]), device=cuda:0, dtype=torch.float32\n"
     ]
    },
    {
     "name": "stderr",
     "output_type": "stream",
     "text": [
      "  9%|▉         | 120/1333 [00:55<09:26,  2.14batch/s]"
     ]
    },
    {
     "name": "stdout",
     "output_type": "stream",
     "text": [
      "GS______ [SE3: size=torch.Size([6, 2]), device=cuda:0, dtype=torch.float32]\n",
      "GS[0]__ __ __  SE3: size=torch.Size([6, 2]), device=cuda:0, dtype=torch.float32\n",
      "GS[0][:,jj] SE3: size=torch.Size([6, 2]), device=cuda:0, dtype=torch.float32\n"
     ]
    },
    {
     "name": "stderr",
     "output_type": "stream",
     "text": [
      "  9%|▉         | 121/1333 [00:55<09:25,  2.14batch/s]"
     ]
    },
    {
     "name": "stdout",
     "output_type": "stream",
     "text": [
      "GS______ [SE3: size=torch.Size([6, 2]), device=cuda:0, dtype=torch.float32]\n",
      "GS[0]__ __ __  SE3: size=torch.Size([6, 2]), device=cuda:0, dtype=torch.float32\n",
      "GS[0][:,jj] SE3: size=torch.Size([6, 2]), device=cuda:0, dtype=torch.float32\n"
     ]
    },
    {
     "name": "stderr",
     "output_type": "stream",
     "text": [
      "  9%|▉         | 122/1333 [00:56<09:22,  2.15batch/s]"
     ]
    },
    {
     "name": "stdout",
     "output_type": "stream",
     "text": [
      "GS______ [SE3: size=torch.Size([6, 2]), device=cuda:0, dtype=torch.float32]\n",
      "GS[0]__ __ __  SE3: size=torch.Size([6, 2]), device=cuda:0, dtype=torch.float32\n",
      "GS[0][:,jj] SE3: size=torch.Size([6, 2]), device=cuda:0, dtype=torch.float32\n"
     ]
    },
    {
     "name": "stderr",
     "output_type": "stream",
     "text": [
      "  9%|▉         | 123/1333 [00:56<09:23,  2.15batch/s]"
     ]
    },
    {
     "name": "stdout",
     "output_type": "stream",
     "text": [
      "GS______ [SE3: size=torch.Size([6, 2]), device=cuda:0, dtype=torch.float32]\n",
      "GS[0]__ __ __  SE3: size=torch.Size([6, 2]), device=cuda:0, dtype=torch.float32\n",
      "GS[0][:,jj] SE3: size=torch.Size([6, 2]), device=cuda:0, dtype=torch.float32\n"
     ]
    },
    {
     "name": "stderr",
     "output_type": "stream",
     "text": [
      "  9%|▉         | 124/1333 [00:57<09:16,  2.17batch/s]"
     ]
    },
    {
     "name": "stdout",
     "output_type": "stream",
     "text": [
      "GS______ [SE3: size=torch.Size([6, 2]), device=cuda:0, dtype=torch.float32]\n",
      "GS[0]__ __ __  SE3: size=torch.Size([6, 2]), device=cuda:0, dtype=torch.float32\n",
      "GS[0][:,jj] SE3: size=torch.Size([6, 2]), device=cuda:0, dtype=torch.float32\n"
     ]
    },
    {
     "name": "stderr",
     "output_type": "stream",
     "text": [
      "  9%|▉         | 125/1333 [00:57<09:17,  2.17batch/s]"
     ]
    },
    {
     "name": "stdout",
     "output_type": "stream",
     "text": [
      "GS______ [SE3: size=torch.Size([6, 2]), device=cuda:0, dtype=torch.float32]\n",
      "GS[0]__ __ __  SE3: size=torch.Size([6, 2]), device=cuda:0, dtype=torch.float32\n",
      "GS[0][:,jj] SE3: size=torch.Size([6, 2]), device=cuda:0, dtype=torch.float32\n"
     ]
    },
    {
     "name": "stderr",
     "output_type": "stream",
     "text": [
      "  9%|▉         | 126/1333 [00:58<09:13,  2.18batch/s]"
     ]
    },
    {
     "name": "stdout",
     "output_type": "stream",
     "text": [
      "GS______ [SE3: size=torch.Size([6, 2]), device=cuda:0, dtype=torch.float32]\n",
      "GS[0]__ __ __  SE3: size=torch.Size([6, 2]), device=cuda:0, dtype=torch.float32\n",
      "GS[0][:,jj] SE3: size=torch.Size([6, 2]), device=cuda:0, dtype=torch.float32\n"
     ]
    },
    {
     "name": "stderr",
     "output_type": "stream",
     "text": [
      " 10%|▉         | 127/1333 [00:58<09:14,  2.17batch/s]"
     ]
    },
    {
     "name": "stdout",
     "output_type": "stream",
     "text": [
      "GS______ [SE3: size=torch.Size([6, 2]), device=cuda:0, dtype=torch.float32]\n",
      "GS[0]__ __ __  SE3: size=torch.Size([6, 2]), device=cuda:0, dtype=torch.float32\n",
      "GS[0][:,jj] SE3: size=torch.Size([6, 2]), device=cuda:0, dtype=torch.float32\n"
     ]
    },
    {
     "name": "stderr",
     "output_type": "stream",
     "text": [
      " 10%|▉         | 128/1333 [00:59<09:10,  2.19batch/s]"
     ]
    },
    {
     "name": "stdout",
     "output_type": "stream",
     "text": [
      "GS______ [SE3: size=torch.Size([6, 2]), device=cuda:0, dtype=torch.float32]\n",
      "GS[0]__ __ __  SE3: size=torch.Size([6, 2]), device=cuda:0, dtype=torch.float32\n",
      "GS[0][:,jj] SE3: size=torch.Size([6, 2]), device=cuda:0, dtype=torch.float32\n"
     ]
    },
    {
     "name": "stderr",
     "output_type": "stream",
     "text": [
      " 10%|▉         | 129/1333 [00:59<09:07,  2.20batch/s]"
     ]
    },
    {
     "name": "stdout",
     "output_type": "stream",
     "text": [
      "GS______ [SE3: size=torch.Size([6, 2]), device=cuda:0, dtype=torch.float32]\n",
      "GS[0]__ __ __  SE3: size=torch.Size([6, 2]), device=cuda:0, dtype=torch.float32\n",
      "GS[0][:,jj] SE3: size=torch.Size([6, 2]), device=cuda:0, dtype=torch.float32\n"
     ]
    },
    {
     "name": "stderr",
     "output_type": "stream",
     "text": [
      " 10%|▉         | 130/1333 [01:00<09:07,  2.20batch/s]"
     ]
    },
    {
     "name": "stdout",
     "output_type": "stream",
     "text": [
      "GS______ [SE3: size=torch.Size([6, 2]), device=cuda:0, dtype=torch.float32]\n",
      "GS[0]__ __ __  SE3: size=torch.Size([6, 2]), device=cuda:0, dtype=torch.float32\n",
      "GS[0][:,jj] SE3: size=torch.Size([6, 2]), device=cuda:0, dtype=torch.float32\n"
     ]
    },
    {
     "name": "stderr",
     "output_type": "stream",
     "text": [
      " 10%|▉         | 131/1333 [01:00<09:06,  2.20batch/s]"
     ]
    },
    {
     "name": "stdout",
     "output_type": "stream",
     "text": [
      "GS______ [SE3: size=torch.Size([6, 2]), device=cuda:0, dtype=torch.float32]\n",
      "GS[0]__ __ __  SE3: size=torch.Size([6, 2]), device=cuda:0, dtype=torch.float32\n",
      "GS[0][:,jj] SE3: size=torch.Size([6, 2]), device=cuda:0, dtype=torch.float32\n"
     ]
    },
    {
     "name": "stderr",
     "output_type": "stream",
     "text": [
      " 10%|▉         | 132/1333 [01:00<09:04,  2.20batch/s]"
     ]
    },
    {
     "name": "stdout",
     "output_type": "stream",
     "text": [
      "GS______ [SE3: size=torch.Size([6, 2]), device=cuda:0, dtype=torch.float32]\n",
      "GS[0]__ __ __  SE3: size=torch.Size([6, 2]), device=cuda:0, dtype=torch.float32\n",
      "GS[0][:,jj] SE3: size=torch.Size([6, 2]), device=cuda:0, dtype=torch.float32\n"
     ]
    },
    {
     "name": "stderr",
     "output_type": "stream",
     "text": [
      " 10%|▉         | 133/1333 [01:01<09:05,  2.20batch/s]"
     ]
    },
    {
     "name": "stdout",
     "output_type": "stream",
     "text": [
      "GS______ [SE3: size=torch.Size([6, 2]), device=cuda:0, dtype=torch.float32]\n",
      "GS[0]__ __ __  SE3: size=torch.Size([6, 2]), device=cuda:0, dtype=torch.float32\n",
      "GS[0][:,jj] SE3: size=torch.Size([6, 2]), device=cuda:0, dtype=torch.float32\n"
     ]
    },
    {
     "name": "stderr",
     "output_type": "stream",
     "text": [
      " 10%|█         | 134/1333 [01:01<09:09,  2.18batch/s]"
     ]
    },
    {
     "name": "stdout",
     "output_type": "stream",
     "text": [
      "GS______ [SE3: size=torch.Size([6, 2]), device=cuda:0, dtype=torch.float32]\n",
      "GS[0]__ __ __  SE3: size=torch.Size([6, 2]), device=cuda:0, dtype=torch.float32\n",
      "GS[0][:,jj] SE3: size=torch.Size([6, 2]), device=cuda:0, dtype=torch.float32\n"
     ]
    },
    {
     "name": "stderr",
     "output_type": "stream",
     "text": [
      " 10%|█         | 135/1333 [01:02<09:08,  2.18batch/s]"
     ]
    },
    {
     "name": "stdout",
     "output_type": "stream",
     "text": [
      "GS______ [SE3: size=torch.Size([6, 2]), device=cuda:0, dtype=torch.float32]\n",
      "GS[0]__ __ __  SE3: size=torch.Size([6, 2]), device=cuda:0, dtype=torch.float32\n",
      "GS[0][:,jj] SE3: size=torch.Size([6, 2]), device=cuda:0, dtype=torch.float32\n"
     ]
    },
    {
     "name": "stderr",
     "output_type": "stream",
     "text": [
      " 10%|█         | 136/1333 [01:02<09:06,  2.19batch/s]"
     ]
    },
    {
     "name": "stdout",
     "output_type": "stream",
     "text": [
      "GS______ [SE3: size=torch.Size([6, 2]), device=cuda:0, dtype=torch.float32]\n",
      "GS[0]__ __ __  SE3: size=torch.Size([6, 2]), device=cuda:0, dtype=torch.float32\n",
      "GS[0][:,jj] SE3: size=torch.Size([6, 2]), device=cuda:0, dtype=torch.float32\n"
     ]
    },
    {
     "name": "stderr",
     "output_type": "stream",
     "text": [
      " 10%|█         | 137/1333 [01:03<09:03,  2.20batch/s]"
     ]
    },
    {
     "name": "stdout",
     "output_type": "stream",
     "text": [
      "GS______ [SE3: size=torch.Size([6, 2]), device=cuda:0, dtype=torch.float32]\n",
      "GS[0]__ __ __  SE3: size=torch.Size([6, 2]), device=cuda:0, dtype=torch.float32\n",
      "GS[0][:,jj] SE3: size=torch.Size([6, 2]), device=cuda:0, dtype=torch.float32\n"
     ]
    },
    {
     "name": "stderr",
     "output_type": "stream",
     "text": [
      " 10%|█         | 138/1333 [01:03<09:01,  2.20batch/s]"
     ]
    },
    {
     "name": "stdout",
     "output_type": "stream",
     "text": [
      "GS______ [SE3: size=torch.Size([6, 2]), device=cuda:0, dtype=torch.float32]\n",
      "GS[0]__ __ __  SE3: size=torch.Size([6, 2]), device=cuda:0, dtype=torch.float32\n",
      "GS[0][:,jj] SE3: size=torch.Size([6, 2]), device=cuda:0, dtype=torch.float32\n"
     ]
    },
    {
     "name": "stderr",
     "output_type": "stream",
     "text": [
      " 10%|█         | 139/1333 [01:04<09:01,  2.21batch/s]"
     ]
    },
    {
     "name": "stdout",
     "output_type": "stream",
     "text": [
      "GS______ [SE3: size=torch.Size([6, 2]), device=cuda:0, dtype=torch.float32]\n",
      "GS[0]__ __ __  SE3: size=torch.Size([6, 2]), device=cuda:0, dtype=torch.float32\n",
      "GS[0][:,jj] SE3: size=torch.Size([6, 2]), device=cuda:0, dtype=torch.float32\n"
     ]
    },
    {
     "name": "stderr",
     "output_type": "stream",
     "text": [
      " 11%|█         | 140/1333 [01:04<08:58,  2.22batch/s]"
     ]
    },
    {
     "name": "stdout",
     "output_type": "stream",
     "text": [
      "GS______ [SE3: size=torch.Size([6, 2]), device=cuda:0, dtype=torch.float32]\n",
      "GS[0]__ __ __  SE3: size=torch.Size([6, 2]), device=cuda:0, dtype=torch.float32\n",
      "GS[0][:,jj] SE3: size=torch.Size([6, 2]), device=cuda:0, dtype=torch.float32\n"
     ]
    },
    {
     "name": "stderr",
     "output_type": "stream",
     "text": [
      " 11%|█         | 141/1333 [01:05<08:56,  2.22batch/s]"
     ]
    },
    {
     "name": "stdout",
     "output_type": "stream",
     "text": [
      "GS______ [SE3: size=torch.Size([6, 2]), device=cuda:0, dtype=torch.float32]\n",
      "GS[0]__ __ __  SE3: size=torch.Size([6, 2]), device=cuda:0, dtype=torch.float32\n",
      "GS[0][:,jj] SE3: size=torch.Size([6, 2]), device=cuda:0, dtype=torch.float32\n"
     ]
    },
    {
     "name": "stderr",
     "output_type": "stream",
     "text": [
      " 11%|█         | 142/1333 [01:05<09:02,  2.19batch/s]"
     ]
    },
    {
     "name": "stdout",
     "output_type": "stream",
     "text": [
      "GS______ [SE3: size=torch.Size([6, 2]), device=cuda:0, dtype=torch.float32]\n",
      "GS[0]__ __ __  SE3: size=torch.Size([6, 2]), device=cuda:0, dtype=torch.float32\n",
      "GS[0][:,jj] SE3: size=torch.Size([6, 2]), device=cuda:0, dtype=torch.float32\n"
     ]
    },
    {
     "name": "stderr",
     "output_type": "stream",
     "text": [
      " 11%|█         | 143/1333 [01:05<09:00,  2.20batch/s]"
     ]
    },
    {
     "name": "stdout",
     "output_type": "stream",
     "text": [
      "GS______ [SE3: size=torch.Size([6, 2]), device=cuda:0, dtype=torch.float32]\n",
      "GS[0]__ __ __  SE3: size=torch.Size([6, 2]), device=cuda:0, dtype=torch.float32\n",
      "GS[0][:,jj] SE3: size=torch.Size([6, 2]), device=cuda:0, dtype=torch.float32\n"
     ]
    },
    {
     "name": "stderr",
     "output_type": "stream",
     "text": [
      " 11%|█         | 144/1333 [01:06<09:00,  2.20batch/s]"
     ]
    },
    {
     "name": "stdout",
     "output_type": "stream",
     "text": [
      "GS______ [SE3: size=torch.Size([6, 2]), device=cuda:0, dtype=torch.float32]\n",
      "GS[0]__ __ __  SE3: size=torch.Size([6, 2]), device=cuda:0, dtype=torch.float32\n",
      "GS[0][:,jj] SE3: size=torch.Size([6, 2]), device=cuda:0, dtype=torch.float32\n"
     ]
    },
    {
     "name": "stderr",
     "output_type": "stream",
     "text": [
      " 11%|█         | 145/1333 [01:06<08:59,  2.20batch/s]"
     ]
    },
    {
     "name": "stdout",
     "output_type": "stream",
     "text": [
      "GS______ [SE3: size=torch.Size([6, 2]), device=cuda:0, dtype=torch.float32]\n",
      "GS[0]__ __ __  SE3: size=torch.Size([6, 2]), device=cuda:0, dtype=torch.float32\n",
      "GS[0][:,jj] SE3: size=torch.Size([6, 2]), device=cuda:0, dtype=torch.float32\n"
     ]
    },
    {
     "name": "stderr",
     "output_type": "stream",
     "text": [
      " 11%|█         | 146/1333 [01:07<08:58,  2.20batch/s]"
     ]
    },
    {
     "name": "stdout",
     "output_type": "stream",
     "text": [
      "GS______ [SE3: size=torch.Size([6, 2]), device=cuda:0, dtype=torch.float32]\n",
      "GS[0]__ __ __  SE3: size=torch.Size([6, 2]), device=cuda:0, dtype=torch.float32\n",
      "GS[0][:,jj] SE3: size=torch.Size([6, 2]), device=cuda:0, dtype=torch.float32\n"
     ]
    },
    {
     "name": "stderr",
     "output_type": "stream",
     "text": [
      " 11%|█         | 147/1333 [01:07<08:57,  2.21batch/s]"
     ]
    },
    {
     "name": "stdout",
     "output_type": "stream",
     "text": [
      "GS______ [SE3: size=torch.Size([6, 2]), device=cuda:0, dtype=torch.float32]\n",
      "GS[0]__ __ __  SE3: size=torch.Size([6, 2]), device=cuda:0, dtype=torch.float32\n",
      "GS[0][:,jj] SE3: size=torch.Size([6, 2]), device=cuda:0, dtype=torch.float32\n"
     ]
    },
    {
     "name": "stderr",
     "output_type": "stream",
     "text": [
      " 11%|█         | 148/1333 [01:08<08:59,  2.19batch/s]"
     ]
    },
    {
     "name": "stdout",
     "output_type": "stream",
     "text": [
      "GS______ [SE3: size=torch.Size([6, 2]), device=cuda:0, dtype=torch.float32]\n",
      "GS[0]__ __ __  SE3: size=torch.Size([6, 2]), device=cuda:0, dtype=torch.float32\n",
      "GS[0][:,jj] SE3: size=torch.Size([6, 2]), device=cuda:0, dtype=torch.float32\n"
     ]
    },
    {
     "name": "stderr",
     "output_type": "stream",
     "text": [
      " 11%|█         | 149/1333 [01:08<09:04,  2.18batch/s]"
     ]
    },
    {
     "name": "stdout",
     "output_type": "stream",
     "text": [
      "GS______ [SE3: size=torch.Size([6, 2]), device=cuda:0, dtype=torch.float32]\n",
      "GS[0]__ __ __  SE3: size=torch.Size([6, 2]), device=cuda:0, dtype=torch.float32\n",
      "GS[0][:,jj] SE3: size=torch.Size([6, 2]), device=cuda:0, dtype=torch.float32\n"
     ]
    },
    {
     "name": "stderr",
     "output_type": "stream",
     "text": [
      " 11%|█▏        | 150/1333 [01:09<09:03,  2.18batch/s]"
     ]
    },
    {
     "name": "stdout",
     "output_type": "stream",
     "text": [
      "GS______ [SE3: size=torch.Size([6, 2]), device=cuda:0, dtype=torch.float32]\n",
      "GS[0]__ __ __  SE3: size=torch.Size([6, 2]), device=cuda:0, dtype=torch.float32\n",
      "GS[0][:,jj] SE3: size=torch.Size([6, 2]), device=cuda:0, dtype=torch.float32\n"
     ]
    },
    {
     "name": "stderr",
     "output_type": "stream",
     "text": [
      " 11%|█▏        | 151/1333 [01:09<09:02,  2.18batch/s]"
     ]
    },
    {
     "name": "stdout",
     "output_type": "stream",
     "text": [
      "GS______ [SE3: size=torch.Size([6, 2]), device=cuda:0, dtype=torch.float32]\n",
      "GS[0]__ __ __  SE3: size=torch.Size([6, 2]), device=cuda:0, dtype=torch.float32\n",
      "GS[0][:,jj] SE3: size=torch.Size([6, 2]), device=cuda:0, dtype=torch.float32\n"
     ]
    },
    {
     "name": "stderr",
     "output_type": "stream",
     "text": [
      " 11%|█▏        | 152/1333 [01:10<09:01,  2.18batch/s]"
     ]
    },
    {
     "name": "stdout",
     "output_type": "stream",
     "text": [
      "GS______ [SE3: size=torch.Size([6, 2]), device=cuda:0, dtype=torch.float32]\n",
      "GS[0]__ __ __  SE3: size=torch.Size([6, 2]), device=cuda:0, dtype=torch.float32\n",
      "GS[0][:,jj] SE3: size=torch.Size([6, 2]), device=cuda:0, dtype=torch.float32\n"
     ]
    },
    {
     "name": "stderr",
     "output_type": "stream",
     "text": [
      " 11%|█▏        | 153/1333 [01:10<08:59,  2.19batch/s]"
     ]
    },
    {
     "name": "stdout",
     "output_type": "stream",
     "text": [
      "GS______ [SE3: size=torch.Size([6, 2]), device=cuda:0, dtype=torch.float32]\n",
      "GS[0]__ __ __  SE3: size=torch.Size([6, 2]), device=cuda:0, dtype=torch.float32\n",
      "GS[0][:,jj] SE3: size=torch.Size([6, 2]), device=cuda:0, dtype=torch.float32\n"
     ]
    },
    {
     "name": "stderr",
     "output_type": "stream",
     "text": [
      " 12%|█▏        | 154/1333 [01:10<08:58,  2.19batch/s]"
     ]
    },
    {
     "name": "stdout",
     "output_type": "stream",
     "text": [
      "GS______ [SE3: size=torch.Size([6, 2]), device=cuda:0, dtype=torch.float32]\n",
      "GS[0]__ __ __  SE3: size=torch.Size([6, 2]), device=cuda:0, dtype=torch.float32\n",
      "GS[0][:,jj] SE3: size=torch.Size([6, 2]), device=cuda:0, dtype=torch.float32\n"
     ]
    },
    {
     "name": "stderr",
     "output_type": "stream",
     "text": [
      " 12%|█▏        | 155/1333 [01:11<08:57,  2.19batch/s]"
     ]
    },
    {
     "name": "stdout",
     "output_type": "stream",
     "text": [
      "GS______ [SE3: size=torch.Size([6, 2]), device=cuda:0, dtype=torch.float32]\n",
      "GS[0]__ __ __  SE3: size=torch.Size([6, 2]), device=cuda:0, dtype=torch.float32\n",
      "GS[0][:,jj] SE3: size=torch.Size([6, 2]), device=cuda:0, dtype=torch.float32\n"
     ]
    },
    {
     "name": "stderr",
     "output_type": "stream",
     "text": [
      " 12%|█▏        | 156/1333 [01:11<08:58,  2.19batch/s]"
     ]
    },
    {
     "name": "stdout",
     "output_type": "stream",
     "text": [
      "GS______ [SE3: size=torch.Size([6, 2]), device=cuda:0, dtype=torch.float32]\n",
      "GS[0]__ __ __  SE3: size=torch.Size([6, 2]), device=cuda:0, dtype=torch.float32\n",
      "GS[0][:,jj] SE3: size=torch.Size([6, 2]), device=cuda:0, dtype=torch.float32\n"
     ]
    },
    {
     "name": "stderr",
     "output_type": "stream",
     "text": [
      " 12%|█▏        | 157/1333 [01:12<09:01,  2.17batch/s]"
     ]
    },
    {
     "name": "stdout",
     "output_type": "stream",
     "text": [
      "GS______ [SE3: size=torch.Size([6, 2]), device=cuda:0, dtype=torch.float32]\n",
      "GS[0]__ __ __  SE3: size=torch.Size([6, 2]), device=cuda:0, dtype=torch.float32\n",
      "GS[0][:,jj] SE3: size=torch.Size([6, 2]), device=cuda:0, dtype=torch.float32\n"
     ]
    },
    {
     "name": "stderr",
     "output_type": "stream",
     "text": [
      " 12%|█▏        | 158/1333 [01:12<09:06,  2.15batch/s]"
     ]
    },
    {
     "name": "stdout",
     "output_type": "stream",
     "text": [
      "GS______ [SE3: size=torch.Size([6, 2]), device=cuda:0, dtype=torch.float32]\n",
      "GS[0]__ __ __  SE3: size=torch.Size([6, 2]), device=cuda:0, dtype=torch.float32\n",
      "GS[0][:,jj] SE3: size=torch.Size([6, 2]), device=cuda:0, dtype=torch.float32\n"
     ]
    },
    {
     "name": "stderr",
     "output_type": "stream",
     "text": [
      " 12%|█▏        | 159/1333 [01:13<09:03,  2.16batch/s]"
     ]
    },
    {
     "name": "stdout",
     "output_type": "stream",
     "text": [
      "GS______ [SE3: size=torch.Size([6, 2]), device=cuda:0, dtype=torch.float32]\n",
      "GS[0]__ __ __  SE3: size=torch.Size([6, 2]), device=cuda:0, dtype=torch.float32\n",
      "GS[0][:,jj] SE3: size=torch.Size([6, 2]), device=cuda:0, dtype=torch.float32\n"
     ]
    },
    {
     "name": "stderr",
     "output_type": "stream",
     "text": [
      " 12%|█▏        | 160/1333 [01:13<09:05,  2.15batch/s]"
     ]
    },
    {
     "name": "stdout",
     "output_type": "stream",
     "text": [
      "GS______ [SE3: size=torch.Size([6, 2]), device=cuda:0, dtype=torch.float32]\n",
      "GS[0]__ __ __  SE3: size=torch.Size([6, 2]), device=cuda:0, dtype=torch.float32\n",
      "GS[0][:,jj] SE3: size=torch.Size([6, 2]), device=cuda:0, dtype=torch.float32\n"
     ]
    },
    {
     "name": "stderr",
     "output_type": "stream",
     "text": [
      " 12%|█▏        | 161/1333 [01:14<09:05,  2.15batch/s]"
     ]
    },
    {
     "name": "stdout",
     "output_type": "stream",
     "text": [
      "GS______ [SE3: size=torch.Size([6, 2]), device=cuda:0, dtype=torch.float32]\n",
      "GS[0]__ __ __  SE3: size=torch.Size([6, 2]), device=cuda:0, dtype=torch.float32\n",
      "GS[0][:,jj] SE3: size=torch.Size([6, 2]), device=cuda:0, dtype=torch.float32\n"
     ]
    },
    {
     "name": "stderr",
     "output_type": "stream",
     "text": [
      " 12%|█▏        | 162/1333 [01:14<09:08,  2.14batch/s]"
     ]
    },
    {
     "name": "stdout",
     "output_type": "stream",
     "text": [
      "GS______ [SE3: size=torch.Size([6, 2]), device=cuda:0, dtype=torch.float32]\n",
      "GS[0]__ __ __  SE3: size=torch.Size([6, 2]), device=cuda:0, dtype=torch.float32\n",
      "GS[0][:,jj] SE3: size=torch.Size([6, 2]), device=cuda:0, dtype=torch.float32\n"
     ]
    },
    {
     "name": "stderr",
     "output_type": "stream",
     "text": [
      " 12%|█▏        | 163/1333 [01:15<09:07,  2.14batch/s]"
     ]
    },
    {
     "name": "stdout",
     "output_type": "stream",
     "text": [
      "GS______ [SE3: size=torch.Size([6, 2]), device=cuda:0, dtype=torch.float32]\n",
      "GS[0]__ __ __  SE3: size=torch.Size([6, 2]), device=cuda:0, dtype=torch.float32\n",
      "GS[0][:,jj] SE3: size=torch.Size([6, 2]), device=cuda:0, dtype=torch.float32\n"
     ]
    },
    {
     "name": "stderr",
     "output_type": "stream",
     "text": [
      " 12%|█▏        | 164/1333 [01:15<09:09,  2.13batch/s]"
     ]
    },
    {
     "name": "stdout",
     "output_type": "stream",
     "text": [
      "GS______ [SE3: size=torch.Size([6, 2]), device=cuda:0, dtype=torch.float32]\n",
      "GS[0]__ __ __  SE3: size=torch.Size([6, 2]), device=cuda:0, dtype=torch.float32\n",
      "GS[0][:,jj] SE3: size=torch.Size([6, 2]), device=cuda:0, dtype=torch.float32\n"
     ]
    },
    {
     "name": "stderr",
     "output_type": "stream",
     "text": [
      " 12%|█▏        | 165/1333 [01:16<09:05,  2.14batch/s]"
     ]
    },
    {
     "name": "stdout",
     "output_type": "stream",
     "text": [
      "GS______ [SE3: size=torch.Size([6, 2]), device=cuda:0, dtype=torch.float32]\n",
      "GS[0]__ __ __  SE3: size=torch.Size([6, 2]), device=cuda:0, dtype=torch.float32\n",
      "GS[0][:,jj] SE3: size=torch.Size([6, 2]), device=cuda:0, dtype=torch.float32\n"
     ]
    },
    {
     "name": "stderr",
     "output_type": "stream",
     "text": [
      " 12%|█▏        | 166/1333 [01:16<09:01,  2.15batch/s]"
     ]
    },
    {
     "name": "stdout",
     "output_type": "stream",
     "text": [
      "GS______ [SE3: size=torch.Size([6, 2]), device=cuda:0, dtype=torch.float32]\n",
      "GS[0]__ __ __  SE3: size=torch.Size([6, 2]), device=cuda:0, dtype=torch.float32\n",
      "GS[0][:,jj] SE3: size=torch.Size([6, 2]), device=cuda:0, dtype=torch.float32\n"
     ]
    },
    {
     "name": "stderr",
     "output_type": "stream",
     "text": [
      " 13%|█▎        | 167/1333 [01:17<08:58,  2.16batch/s]"
     ]
    },
    {
     "name": "stdout",
     "output_type": "stream",
     "text": [
      "GS______ [SE3: size=torch.Size([6, 2]), device=cuda:0, dtype=torch.float32]\n",
      "GS[0]__ __ __  SE3: size=torch.Size([6, 2]), device=cuda:0, dtype=torch.float32\n",
      "GS[0][:,jj] SE3: size=torch.Size([6, 2]), device=cuda:0, dtype=torch.float32\n"
     ]
    },
    {
     "name": "stderr",
     "output_type": "stream",
     "text": [
      " 13%|█▎        | 168/1333 [01:17<08:57,  2.17batch/s]"
     ]
    },
    {
     "name": "stdout",
     "output_type": "stream",
     "text": [
      "GS______ [SE3: size=torch.Size([6, 2]), device=cuda:0, dtype=torch.float32]\n",
      "GS[0]__ __ __  SE3: size=torch.Size([6, 2]), device=cuda:0, dtype=torch.float32\n",
      "GS[0][:,jj] SE3: size=torch.Size([6, 2]), device=cuda:0, dtype=torch.float32\n"
     ]
    },
    {
     "name": "stderr",
     "output_type": "stream",
     "text": [
      " 13%|█▎        | 169/1333 [01:17<08:55,  2.17batch/s]"
     ]
    },
    {
     "name": "stdout",
     "output_type": "stream",
     "text": [
      "GS______ [SE3: size=torch.Size([6, 2]), device=cuda:0, dtype=torch.float32]\n",
      "GS[0]__ __ __  SE3: size=torch.Size([6, 2]), device=cuda:0, dtype=torch.float32\n",
      "GS[0][:,jj] SE3: size=torch.Size([6, 2]), device=cuda:0, dtype=torch.float32\n"
     ]
    },
    {
     "name": "stderr",
     "output_type": "stream",
     "text": [
      " 13%|█▎        | 170/1333 [01:18<08:55,  2.17batch/s]"
     ]
    },
    {
     "name": "stdout",
     "output_type": "stream",
     "text": [
      "GS______ [SE3: size=torch.Size([6, 2]), device=cuda:0, dtype=torch.float32]\n",
      "GS[0]__ __ __  SE3: size=torch.Size([6, 2]), device=cuda:0, dtype=torch.float32\n",
      "GS[0][:,jj] SE3: size=torch.Size([6, 2]), device=cuda:0, dtype=torch.float32\n"
     ]
    },
    {
     "name": "stderr",
     "output_type": "stream",
     "text": [
      " 13%|█▎        | 171/1333 [01:18<08:56,  2.17batch/s]"
     ]
    },
    {
     "name": "stdout",
     "output_type": "stream",
     "text": [
      "GS______ [SE3: size=torch.Size([6, 2]), device=cuda:0, dtype=torch.float32]\n",
      "GS[0]__ __ __  SE3: size=torch.Size([6, 2]), device=cuda:0, dtype=torch.float32\n",
      "GS[0][:,jj] SE3: size=torch.Size([6, 2]), device=cuda:0, dtype=torch.float32\n"
     ]
    },
    {
     "name": "stderr",
     "output_type": "stream",
     "text": [
      " 13%|█▎        | 172/1333 [01:19<08:56,  2.17batch/s]"
     ]
    },
    {
     "name": "stdout",
     "output_type": "stream",
     "text": [
      "GS______ [SE3: size=torch.Size([6, 2]), device=cuda:0, dtype=torch.float32]\n",
      "GS[0]__ __ __  SE3: size=torch.Size([6, 2]), device=cuda:0, dtype=torch.float32\n",
      "GS[0][:,jj] SE3: size=torch.Size([6, 2]), device=cuda:0, dtype=torch.float32\n"
     ]
    },
    {
     "name": "stderr",
     "output_type": "stream",
     "text": [
      " 13%|█▎        | 173/1333 [01:19<08:54,  2.17batch/s]"
     ]
    },
    {
     "name": "stdout",
     "output_type": "stream",
     "text": [
      "GS______ [SE3: size=torch.Size([6, 2]), device=cuda:0, dtype=torch.float32]\n",
      "GS[0]__ __ __  SE3: size=torch.Size([6, 2]), device=cuda:0, dtype=torch.float32\n",
      "GS[0][:,jj] SE3: size=torch.Size([6, 2]), device=cuda:0, dtype=torch.float32\n"
     ]
    },
    {
     "name": "stderr",
     "output_type": "stream",
     "text": [
      " 13%|█▎        | 174/1333 [01:20<08:50,  2.18batch/s]"
     ]
    },
    {
     "name": "stdout",
     "output_type": "stream",
     "text": [
      "GS______ [SE3: size=torch.Size([6, 2]), device=cuda:0, dtype=torch.float32]\n",
      "GS[0]__ __ __  SE3: size=torch.Size([6, 2]), device=cuda:0, dtype=torch.float32\n",
      "GS[0][:,jj] SE3: size=torch.Size([6, 2]), device=cuda:0, dtype=torch.float32\n"
     ]
    },
    {
     "name": "stderr",
     "output_type": "stream",
     "text": [
      " 13%|█▎        | 175/1333 [01:20<08:47,  2.20batch/s]"
     ]
    },
    {
     "name": "stdout",
     "output_type": "stream",
     "text": [
      "GS______ [SE3: size=torch.Size([6, 2]), device=cuda:0, dtype=torch.float32]\n",
      "GS[0]__ __ __  SE3: size=torch.Size([6, 2]), device=cuda:0, dtype=torch.float32\n",
      "GS[0][:,jj] SE3: size=torch.Size([6, 2]), device=cuda:0, dtype=torch.float32\n"
     ]
    },
    {
     "name": "stderr",
     "output_type": "stream",
     "text": [
      " 13%|█▎        | 176/1333 [01:21<08:45,  2.20batch/s]"
     ]
    },
    {
     "name": "stdout",
     "output_type": "stream",
     "text": [
      "GS______ [SE3: size=torch.Size([6, 2]), device=cuda:0, dtype=torch.float32]\n",
      "GS[0]__ __ __  SE3: size=torch.Size([6, 2]), device=cuda:0, dtype=torch.float32\n",
      "GS[0][:,jj] SE3: size=torch.Size([6, 2]), device=cuda:0, dtype=torch.float32\n"
     ]
    },
    {
     "name": "stderr",
     "output_type": "stream",
     "text": [
      " 13%|█▎        | 177/1333 [01:21<08:44,  2.21batch/s]"
     ]
    },
    {
     "name": "stdout",
     "output_type": "stream",
     "text": [
      "GS______ [SE3: size=torch.Size([6, 2]), device=cuda:0, dtype=torch.float32]\n",
      "GS[0]__ __ __  SE3: size=torch.Size([6, 2]), device=cuda:0, dtype=torch.float32\n",
      "GS[0][:,jj] SE3: size=torch.Size([6, 2]), device=cuda:0, dtype=torch.float32\n"
     ]
    },
    {
     "name": "stderr",
     "output_type": "stream",
     "text": [
      " 13%|█▎        | 178/1333 [01:22<08:43,  2.21batch/s]"
     ]
    },
    {
     "name": "stdout",
     "output_type": "stream",
     "text": [
      "GS______ [SE3: size=torch.Size([6, 2]), device=cuda:0, dtype=torch.float32]\n",
      "GS[0]__ __ __  SE3: size=torch.Size([6, 2]), device=cuda:0, dtype=torch.float32\n",
      "GS[0][:,jj] SE3: size=torch.Size([6, 2]), device=cuda:0, dtype=torch.float32\n"
     ]
    },
    {
     "name": "stderr",
     "output_type": "stream",
     "text": [
      " 13%|█▎        | 179/1333 [01:22<08:47,  2.19batch/s]"
     ]
    },
    {
     "name": "stdout",
     "output_type": "stream",
     "text": [
      "GS______ [SE3: size=torch.Size([6, 2]), device=cuda:0, dtype=torch.float32]\n",
      "GS[0]__ __ __  SE3: size=torch.Size([6, 2]), device=cuda:0, dtype=torch.float32\n",
      "GS[0][:,jj] SE3: size=torch.Size([6, 2]), device=cuda:0, dtype=torch.float32\n"
     ]
    },
    {
     "name": "stderr",
     "output_type": "stream",
     "text": [
      " 14%|█▎        | 180/1333 [01:22<08:46,  2.19batch/s]"
     ]
    },
    {
     "name": "stdout",
     "output_type": "stream",
     "text": [
      "GS______ [SE3: size=torch.Size([6, 2]), device=cuda:0, dtype=torch.float32]\n",
      "GS[0]__ __ __  SE3: size=torch.Size([6, 2]), device=cuda:0, dtype=torch.float32\n",
      "GS[0][:,jj] SE3: size=torch.Size([6, 2]), device=cuda:0, dtype=torch.float32\n"
     ]
    },
    {
     "name": "stderr",
     "output_type": "stream",
     "text": [
      " 14%|█▎        | 181/1333 [01:23<08:45,  2.19batch/s]"
     ]
    },
    {
     "name": "stdout",
     "output_type": "stream",
     "text": [
      "GS______ [SE3: size=torch.Size([6, 2]), device=cuda:0, dtype=torch.float32]\n",
      "GS[0]__ __ __  SE3: size=torch.Size([6, 2]), device=cuda:0, dtype=torch.float32\n",
      "GS[0][:,jj] SE3: size=torch.Size([6, 2]), device=cuda:0, dtype=torch.float32\n"
     ]
    },
    {
     "name": "stderr",
     "output_type": "stream",
     "text": [
      " 14%|█▎        | 182/1333 [01:23<08:43,  2.20batch/s]"
     ]
    },
    {
     "name": "stdout",
     "output_type": "stream",
     "text": [
      "GS______ [SE3: size=torch.Size([6, 2]), device=cuda:0, dtype=torch.float32]\n",
      "GS[0]__ __ __  SE3: size=torch.Size([6, 2]), device=cuda:0, dtype=torch.float32\n",
      "GS[0][:,jj] SE3: size=torch.Size([6, 2]), device=cuda:0, dtype=torch.float32\n"
     ]
    },
    {
     "name": "stderr",
     "output_type": "stream",
     "text": [
      " 14%|█▎        | 183/1333 [01:24<08:45,  2.19batch/s]"
     ]
    },
    {
     "name": "stdout",
     "output_type": "stream",
     "text": [
      "GS______ [SE3: size=torch.Size([6, 2]), device=cuda:0, dtype=torch.float32]\n",
      "GS[0]__ __ __  SE3: size=torch.Size([6, 2]), device=cuda:0, dtype=torch.float32\n",
      "GS[0][:,jj] SE3: size=torch.Size([6, 2]), device=cuda:0, dtype=torch.float32\n"
     ]
    },
    {
     "name": "stderr",
     "output_type": "stream",
     "text": [
      " 14%|█▍        | 184/1333 [01:24<08:45,  2.19batch/s]"
     ]
    },
    {
     "name": "stdout",
     "output_type": "stream",
     "text": [
      "GS______ [SE3: size=torch.Size([6, 2]), device=cuda:0, dtype=torch.float32]\n",
      "GS[0]__ __ __  SE3: size=torch.Size([6, 2]), device=cuda:0, dtype=torch.float32\n",
      "GS[0][:,jj] SE3: size=torch.Size([6, 2]), device=cuda:0, dtype=torch.float32\n"
     ]
    },
    {
     "name": "stderr",
     "output_type": "stream",
     "text": [
      " 14%|█▍        | 185/1333 [01:25<08:45,  2.18batch/s]"
     ]
    },
    {
     "name": "stdout",
     "output_type": "stream",
     "text": [
      "GS______ [SE3: size=torch.Size([6, 2]), device=cuda:0, dtype=torch.float32]\n",
      "GS[0]__ __ __  SE3: size=torch.Size([6, 2]), device=cuda:0, dtype=torch.float32\n",
      "GS[0][:,jj] SE3: size=torch.Size([6, 2]), device=cuda:0, dtype=torch.float32\n"
     ]
    },
    {
     "name": "stderr",
     "output_type": "stream",
     "text": [
      " 14%|█▍        | 186/1333 [01:25<08:48,  2.17batch/s]"
     ]
    },
    {
     "name": "stdout",
     "output_type": "stream",
     "text": [
      "GS______ [SE3: size=torch.Size([6, 2]), device=cuda:0, dtype=torch.float32]\n",
      "GS[0]__ __ __  SE3: size=torch.Size([6, 2]), device=cuda:0, dtype=torch.float32\n",
      "GS[0][:,jj] SE3: size=torch.Size([6, 2]), device=cuda:0, dtype=torch.float32\n"
     ]
    },
    {
     "name": "stderr",
     "output_type": "stream",
     "text": [
      " 14%|█▍        | 187/1333 [01:26<08:44,  2.19batch/s]"
     ]
    },
    {
     "name": "stdout",
     "output_type": "stream",
     "text": [
      "GS______ [SE3: size=torch.Size([6, 2]), device=cuda:0, dtype=torch.float32]\n",
      "GS[0]__ __ __  SE3: size=torch.Size([6, 2]), device=cuda:0, dtype=torch.float32\n",
      "GS[0][:,jj] SE3: size=torch.Size([6, 2]), device=cuda:0, dtype=torch.float32\n"
     ]
    },
    {
     "name": "stderr",
     "output_type": "stream",
     "text": [
      " 14%|█▍        | 188/1333 [01:26<08:43,  2.19batch/s]"
     ]
    },
    {
     "name": "stdout",
     "output_type": "stream",
     "text": [
      "GS______ [SE3: size=torch.Size([6, 2]), device=cuda:0, dtype=torch.float32]\n",
      "GS[0]__ __ __  SE3: size=torch.Size([6, 2]), device=cuda:0, dtype=torch.float32\n",
      "GS[0][:,jj] SE3: size=torch.Size([6, 2]), device=cuda:0, dtype=torch.float32\n"
     ]
    },
    {
     "name": "stderr",
     "output_type": "stream",
     "text": [
      " 14%|█▍        | 189/1333 [01:27<08:41,  2.19batch/s]"
     ]
    },
    {
     "name": "stdout",
     "output_type": "stream",
     "text": [
      "GS______ [SE3: size=torch.Size([6, 2]), device=cuda:0, dtype=torch.float32]\n",
      "GS[0]__ __ __  SE3: size=torch.Size([6, 2]), device=cuda:0, dtype=torch.float32\n",
      "GS[0][:,jj] SE3: size=torch.Size([6, 2]), device=cuda:0, dtype=torch.float32\n"
     ]
    },
    {
     "name": "stderr",
     "output_type": "stream",
     "text": [
      " 14%|█▍        | 190/1333 [01:27<08:40,  2.19batch/s]"
     ]
    },
    {
     "name": "stdout",
     "output_type": "stream",
     "text": [
      "GS______ [SE3: size=torch.Size([6, 2]), device=cuda:0, dtype=torch.float32]\n",
      "GS[0]__ __ __  SE3: size=torch.Size([6, 2]), device=cuda:0, dtype=torch.float32\n",
      "GS[0][:,jj] SE3: size=torch.Size([6, 2]), device=cuda:0, dtype=torch.float32\n"
     ]
    },
    {
     "name": "stderr",
     "output_type": "stream",
     "text": [
      " 14%|█▍        | 191/1333 [01:28<08:40,  2.19batch/s]"
     ]
    },
    {
     "name": "stdout",
     "output_type": "stream",
     "text": [
      "GS______ [SE3: size=torch.Size([6, 2]), device=cuda:0, dtype=torch.float32]\n",
      "GS[0]__ __ __  SE3: size=torch.Size([6, 2]), device=cuda:0, dtype=torch.float32\n",
      "GS[0][:,jj] SE3: size=torch.Size([6, 2]), device=cuda:0, dtype=torch.float32\n"
     ]
    },
    {
     "name": "stderr",
     "output_type": "stream",
     "text": [
      " 14%|█▍        | 192/1333 [01:28<08:37,  2.20batch/s]"
     ]
    },
    {
     "name": "stdout",
     "output_type": "stream",
     "text": [
      "GS______ [SE3: size=torch.Size([6, 2]), device=cuda:0, dtype=torch.float32]\n",
      "GS[0]__ __ __  SE3: size=torch.Size([6, 2]), device=cuda:0, dtype=torch.float32\n",
      "GS[0][:,jj] SE3: size=torch.Size([6, 2]), device=cuda:0, dtype=torch.float32\n"
     ]
    },
    {
     "name": "stderr",
     "output_type": "stream",
     "text": [
      " 14%|█▍        | 193/1333 [01:28<08:40,  2.19batch/s]"
     ]
    },
    {
     "name": "stdout",
     "output_type": "stream",
     "text": [
      "GS______ [SE3: size=torch.Size([6, 2]), device=cuda:0, dtype=torch.float32]\n",
      "GS[0]__ __ __  SE3: size=torch.Size([6, 2]), device=cuda:0, dtype=torch.float32\n",
      "GS[0][:,jj] SE3: size=torch.Size([6, 2]), device=cuda:0, dtype=torch.float32\n"
     ]
    },
    {
     "name": "stderr",
     "output_type": "stream",
     "text": [
      " 15%|█▍        | 194/1333 [01:29<08:36,  2.20batch/s]"
     ]
    },
    {
     "name": "stdout",
     "output_type": "stream",
     "text": [
      "GS______ [SE3: size=torch.Size([6, 2]), device=cuda:0, dtype=torch.float32]\n",
      "GS[0]__ __ __  SE3: size=torch.Size([6, 2]), device=cuda:0, dtype=torch.float32\n",
      "GS[0][:,jj] SE3: size=torch.Size([6, 2]), device=cuda:0, dtype=torch.float32\n"
     ]
    },
    {
     "name": "stderr",
     "output_type": "stream",
     "text": [
      " 15%|█▍        | 195/1333 [01:29<08:38,  2.19batch/s]"
     ]
    },
    {
     "name": "stdout",
     "output_type": "stream",
     "text": [
      "GS______ [SE3: size=torch.Size([6, 2]), device=cuda:0, dtype=torch.float32]\n",
      "GS[0]__ __ __  SE3: size=torch.Size([6, 2]), device=cuda:0, dtype=torch.float32\n",
      "GS[0][:,jj] SE3: size=torch.Size([6, 2]), device=cuda:0, dtype=torch.float32\n"
     ]
    },
    {
     "name": "stderr",
     "output_type": "stream",
     "text": [
      " 15%|█▍        | 196/1333 [01:30<08:37,  2.20batch/s]"
     ]
    },
    {
     "name": "stdout",
     "output_type": "stream",
     "text": [
      "GS______ [SE3: size=torch.Size([6, 2]), device=cuda:0, dtype=torch.float32]\n",
      "GS[0]__ __ __  SE3: size=torch.Size([6, 2]), device=cuda:0, dtype=torch.float32\n",
      "GS[0][:,jj] SE3: size=torch.Size([6, 2]), device=cuda:0, dtype=torch.float32\n"
     ]
    },
    {
     "name": "stderr",
     "output_type": "stream",
     "text": [
      " 15%|█▍        | 197/1333 [01:30<08:38,  2.19batch/s]"
     ]
    },
    {
     "name": "stdout",
     "output_type": "stream",
     "text": [
      "GS______ [SE3: size=torch.Size([6, 2]), device=cuda:0, dtype=torch.float32]\n",
      "GS[0]__ __ __  SE3: size=torch.Size([6, 2]), device=cuda:0, dtype=torch.float32\n",
      "GS[0][:,jj] SE3: size=torch.Size([6, 2]), device=cuda:0, dtype=torch.float32\n"
     ]
    },
    {
     "name": "stderr",
     "output_type": "stream",
     "text": [
      " 15%|█▍        | 198/1333 [01:31<08:42,  2.17batch/s]"
     ]
    },
    {
     "name": "stdout",
     "output_type": "stream",
     "text": [
      "GS______ [SE3: size=torch.Size([6, 2]), device=cuda:0, dtype=torch.float32]\n",
      "GS[0]__ __ __  SE3: size=torch.Size([6, 2]), device=cuda:0, dtype=torch.float32\n",
      "GS[0][:,jj] SE3: size=torch.Size([6, 2]), device=cuda:0, dtype=torch.float32\n"
     ]
    },
    {
     "name": "stderr",
     "output_type": "stream",
     "text": [
      " 15%|█▍        | 199/1333 [01:31<08:41,  2.18batch/s]"
     ]
    },
    {
     "name": "stdout",
     "output_type": "stream",
     "text": [
      "GS______ [SE3: size=torch.Size([6, 2]), device=cuda:0, dtype=torch.float32]\n",
      "GS[0]__ __ __  SE3: size=torch.Size([6, 2]), device=cuda:0, dtype=torch.float32\n",
      "GS[0][:,jj] SE3: size=torch.Size([6, 2]), device=cuda:0, dtype=torch.float32\n"
     ]
    },
    {
     "name": "stderr",
     "output_type": "stream",
     "text": [
      " 15%|█▌        | 200/1333 [01:32<08:43,  2.17batch/s]"
     ]
    },
    {
     "name": "stdout",
     "output_type": "stream",
     "text": [
      "GS______ [SE3: size=torch.Size([6, 2]), device=cuda:0, dtype=torch.float32]\n",
      "GS[0]__ __ __  SE3: size=torch.Size([6, 2]), device=cuda:0, dtype=torch.float32\n",
      "GS[0][:,jj] SE3: size=torch.Size([6, 2]), device=cuda:0, dtype=torch.float32\n"
     ]
    },
    {
     "name": "stderr",
     "output_type": "stream",
     "text": [
      " 15%|█▌        | 201/1333 [01:32<08:38,  2.18batch/s]"
     ]
    },
    {
     "name": "stdout",
     "output_type": "stream",
     "text": [
      "GS______ [SE3: size=torch.Size([6, 2]), device=cuda:0, dtype=torch.float32]\n",
      "GS[0]__ __ __  SE3: size=torch.Size([6, 2]), device=cuda:0, dtype=torch.float32\n",
      "GS[0][:,jj] SE3: size=torch.Size([6, 2]), device=cuda:0, dtype=torch.float32\n"
     ]
    },
    {
     "name": "stderr",
     "output_type": "stream",
     "text": [
      " 15%|█▌        | 202/1333 [01:33<08:40,  2.17batch/s]"
     ]
    },
    {
     "name": "stdout",
     "output_type": "stream",
     "text": [
      "GS______ [SE3: size=torch.Size([6, 2]), device=cuda:0, dtype=torch.float32]\n",
      "GS[0]__ __ __  SE3: size=torch.Size([6, 2]), device=cuda:0, dtype=torch.float32\n",
      "GS[0][:,jj] SE3: size=torch.Size([6, 2]), device=cuda:0, dtype=torch.float32\n"
     ]
    },
    {
     "name": "stderr",
     "output_type": "stream",
     "text": [
      " 15%|█▌        | 203/1333 [01:33<08:43,  2.16batch/s]"
     ]
    },
    {
     "name": "stdout",
     "output_type": "stream",
     "text": [
      "GS______ [SE3: size=torch.Size([6, 2]), device=cuda:0, dtype=torch.float32]\n",
      "GS[0]__ __ __  SE3: size=torch.Size([6, 2]), device=cuda:0, dtype=torch.float32\n",
      "GS[0][:,jj] SE3: size=torch.Size([6, 2]), device=cuda:0, dtype=torch.float32\n"
     ]
    },
    {
     "name": "stderr",
     "output_type": "stream",
     "text": [
      " 15%|█▌        | 204/1333 [01:33<08:41,  2.17batch/s]"
     ]
    },
    {
     "name": "stdout",
     "output_type": "stream",
     "text": [
      "GS______ [SE3: size=torch.Size([6, 2]), device=cuda:0, dtype=torch.float32]\n",
      "GS[0]__ __ __  SE3: size=torch.Size([6, 2]), device=cuda:0, dtype=torch.float32\n",
      "GS[0][:,jj] SE3: size=torch.Size([6, 2]), device=cuda:0, dtype=torch.float32\n"
     ]
    },
    {
     "name": "stderr",
     "output_type": "stream",
     "text": [
      " 15%|█▌        | 205/1333 [01:34<08:42,  2.16batch/s]"
     ]
    },
    {
     "name": "stdout",
     "output_type": "stream",
     "text": [
      "GS______ [SE3: size=torch.Size([6, 2]), device=cuda:0, dtype=torch.float32]\n",
      "GS[0]__ __ __  SE3: size=torch.Size([6, 2]), device=cuda:0, dtype=torch.float32\n",
      "GS[0][:,jj] SE3: size=torch.Size([6, 2]), device=cuda:0, dtype=torch.float32\n"
     ]
    },
    {
     "name": "stderr",
     "output_type": "stream",
     "text": [
      " 15%|█▌        | 206/1333 [01:34<08:42,  2.16batch/s]"
     ]
    },
    {
     "name": "stdout",
     "output_type": "stream",
     "text": [
      "GS______ [SE3: size=torch.Size([6, 2]), device=cuda:0, dtype=torch.float32]\n",
      "GS[0]__ __ __  SE3: size=torch.Size([6, 2]), device=cuda:0, dtype=torch.float32\n",
      "GS[0][:,jj] SE3: size=torch.Size([6, 2]), device=cuda:0, dtype=torch.float32\n"
     ]
    },
    {
     "name": "stderr",
     "output_type": "stream",
     "text": [
      " 16%|█▌        | 207/1333 [01:35<08:43,  2.15batch/s]"
     ]
    },
    {
     "name": "stdout",
     "output_type": "stream",
     "text": [
      "GS______ [SE3: size=torch.Size([6, 2]), device=cuda:0, dtype=torch.float32]\n",
      "GS[0]__ __ __  SE3: size=torch.Size([6, 2]), device=cuda:0, dtype=torch.float32\n",
      "GS[0][:,jj] SE3: size=torch.Size([6, 2]), device=cuda:0, dtype=torch.float32\n"
     ]
    },
    {
     "name": "stderr",
     "output_type": "stream",
     "text": [
      " 16%|█▌        | 208/1333 [01:35<08:40,  2.16batch/s]"
     ]
    },
    {
     "name": "stdout",
     "output_type": "stream",
     "text": [
      "GS______ [SE3: size=torch.Size([6, 2]), device=cuda:0, dtype=torch.float32]\n",
      "GS[0]__ __ __  SE3: size=torch.Size([6, 2]), device=cuda:0, dtype=torch.float32\n",
      "GS[0][:,jj] SE3: size=torch.Size([6, 2]), device=cuda:0, dtype=torch.float32\n"
     ]
    },
    {
     "name": "stderr",
     "output_type": "stream",
     "text": [
      " 16%|█▌        | 209/1333 [01:36<08:39,  2.16batch/s]"
     ]
    },
    {
     "name": "stdout",
     "output_type": "stream",
     "text": [
      "GS______ [SE3: size=torch.Size([6, 2]), device=cuda:0, dtype=torch.float32]\n",
      "GS[0]__ __ __  SE3: size=torch.Size([6, 2]), device=cuda:0, dtype=torch.float32\n",
      "GS[0][:,jj] SE3: size=torch.Size([6, 2]), device=cuda:0, dtype=torch.float32\n"
     ]
    },
    {
     "name": "stderr",
     "output_type": "stream",
     "text": [
      " 16%|█▌        | 210/1333 [01:36<08:40,  2.16batch/s]"
     ]
    },
    {
     "name": "stdout",
     "output_type": "stream",
     "text": [
      "GS______ [SE3: size=torch.Size([6, 2]), device=cuda:0, dtype=torch.float32]\n",
      "GS[0]__ __ __  SE3: size=torch.Size([6, 2]), device=cuda:0, dtype=torch.float32\n",
      "GS[0][:,jj] SE3: size=torch.Size([6, 2]), device=cuda:0, dtype=torch.float32\n"
     ]
    },
    {
     "name": "stderr",
     "output_type": "stream",
     "text": [
      " 16%|█▌        | 211/1333 [01:37<08:38,  2.16batch/s]"
     ]
    },
    {
     "name": "stdout",
     "output_type": "stream",
     "text": [
      "GS______ [SE3: size=torch.Size([6, 2]), device=cuda:0, dtype=torch.float32]\n",
      "GS[0]__ __ __  SE3: size=torch.Size([6, 2]), device=cuda:0, dtype=torch.float32\n",
      "GS[0][:,jj] SE3: size=torch.Size([6, 2]), device=cuda:0, dtype=torch.float32\n"
     ]
    },
    {
     "name": "stderr",
     "output_type": "stream",
     "text": [
      " 16%|█▌        | 212/1333 [01:37<08:36,  2.17batch/s]"
     ]
    },
    {
     "name": "stdout",
     "output_type": "stream",
     "text": [
      "GS______ [SE3: size=torch.Size([6, 2]), device=cuda:0, dtype=torch.float32]\n",
      "GS[0]__ __ __  SE3: size=torch.Size([6, 2]), device=cuda:0, dtype=torch.float32\n",
      "GS[0][:,jj] SE3: size=torch.Size([6, 2]), device=cuda:0, dtype=torch.float32\n"
     ]
    },
    {
     "name": "stderr",
     "output_type": "stream",
     "text": [
      " 16%|█▌        | 213/1333 [01:38<08:36,  2.17batch/s]"
     ]
    },
    {
     "name": "stdout",
     "output_type": "stream",
     "text": [
      "GS______ [SE3: size=torch.Size([6, 2]), device=cuda:0, dtype=torch.float32]\n",
      "GS[0]__ __ __  SE3: size=torch.Size([6, 2]), device=cuda:0, dtype=torch.float32\n",
      "GS[0][:,jj] SE3: size=torch.Size([6, 2]), device=cuda:0, dtype=torch.float32\n"
     ]
    },
    {
     "name": "stderr",
     "output_type": "stream",
     "text": [
      " 16%|█▌        | 214/1333 [01:38<08:41,  2.14batch/s]"
     ]
    },
    {
     "name": "stdout",
     "output_type": "stream",
     "text": [
      "GS______ [SE3: size=torch.Size([6, 2]), device=cuda:0, dtype=torch.float32]\n",
      "GS[0]__ __ __  SE3: size=torch.Size([6, 2]), device=cuda:0, dtype=torch.float32\n",
      "GS[0][:,jj] SE3: size=torch.Size([6, 2]), device=cuda:0, dtype=torch.float32\n"
     ]
    },
    {
     "name": "stderr",
     "output_type": "stream",
     "text": [
      " 16%|█▌        | 215/1333 [01:39<08:43,  2.13batch/s]"
     ]
    },
    {
     "name": "stdout",
     "output_type": "stream",
     "text": [
      "GS______ [SE3: size=torch.Size([6, 2]), device=cuda:0, dtype=torch.float32]\n",
      "GS[0]__ __ __  SE3: size=torch.Size([6, 2]), device=cuda:0, dtype=torch.float32\n",
      "GS[0][:,jj] SE3: size=torch.Size([6, 2]), device=cuda:0, dtype=torch.float32\n"
     ]
    },
    {
     "name": "stderr",
     "output_type": "stream",
     "text": [
      " 16%|█▌        | 216/1333 [01:39<08:37,  2.16batch/s]"
     ]
    },
    {
     "name": "stdout",
     "output_type": "stream",
     "text": [
      "GS______ [SE3: size=torch.Size([6, 2]), device=cuda:0, dtype=torch.float32]\n",
      "GS[0]__ __ __  SE3: size=torch.Size([6, 2]), device=cuda:0, dtype=torch.float32\n",
      "GS[0][:,jj] SE3: size=torch.Size([6, 2]), device=cuda:0, dtype=torch.float32\n"
     ]
    },
    {
     "name": "stderr",
     "output_type": "stream",
     "text": [
      " 16%|█▋        | 217/1333 [01:39<08:30,  2.18batch/s]"
     ]
    },
    {
     "name": "stdout",
     "output_type": "stream",
     "text": [
      "GS______ [SE3: size=torch.Size([6, 2]), device=cuda:0, dtype=torch.float32]\n",
      "GS[0]__ __ __  SE3: size=torch.Size([6, 2]), device=cuda:0, dtype=torch.float32\n",
      "GS[0][:,jj] SE3: size=torch.Size([6, 2]), device=cuda:0, dtype=torch.float32\n"
     ]
    },
    {
     "name": "stderr",
     "output_type": "stream",
     "text": [
      " 16%|█▋        | 218/1333 [01:40<08:25,  2.21batch/s]"
     ]
    },
    {
     "name": "stdout",
     "output_type": "stream",
     "text": [
      "GS______ [SE3: size=torch.Size([6, 2]), device=cuda:0, dtype=torch.float32]\n",
      "GS[0]__ __ __  SE3: size=torch.Size([6, 2]), device=cuda:0, dtype=torch.float32\n",
      "GS[0][:,jj] SE3: size=torch.Size([6, 2]), device=cuda:0, dtype=torch.float32\n"
     ]
    },
    {
     "name": "stderr",
     "output_type": "stream",
     "text": [
      " 16%|█▋        | 219/1333 [01:40<08:25,  2.20batch/s]"
     ]
    },
    {
     "name": "stdout",
     "output_type": "stream",
     "text": [
      "GS______ [SE3: size=torch.Size([6, 2]), device=cuda:0, dtype=torch.float32]\n",
      "GS[0]__ __ __  SE3: size=torch.Size([6, 2]), device=cuda:0, dtype=torch.float32\n",
      "GS[0][:,jj] SE3: size=torch.Size([6, 2]), device=cuda:0, dtype=torch.float32\n"
     ]
    },
    {
     "name": "stderr",
     "output_type": "stream",
     "text": [
      " 17%|█▋        | 220/1333 [01:41<08:24,  2.20batch/s]"
     ]
    },
    {
     "name": "stdout",
     "output_type": "stream",
     "text": [
      "GS______ [SE3: size=torch.Size([6, 2]), device=cuda:0, dtype=torch.float32]\n",
      "GS[0]__ __ __  SE3: size=torch.Size([6, 2]), device=cuda:0, dtype=torch.float32\n",
      "GS[0][:,jj] SE3: size=torch.Size([6, 2]), device=cuda:0, dtype=torch.float32\n"
     ]
    },
    {
     "name": "stderr",
     "output_type": "stream",
     "text": [
      " 17%|█▋        | 221/1333 [01:41<08:26,  2.20batch/s]"
     ]
    },
    {
     "name": "stdout",
     "output_type": "stream",
     "text": [
      "GS______ [SE3: size=torch.Size([6, 2]), device=cuda:0, dtype=torch.float32]\n",
      "GS[0]__ __ __  SE3: size=torch.Size([6, 2]), device=cuda:0, dtype=torch.float32\n",
      "GS[0][:,jj] SE3: size=torch.Size([6, 2]), device=cuda:0, dtype=torch.float32\n"
     ]
    },
    {
     "name": "stderr",
     "output_type": "stream",
     "text": [
      " 17%|█▋        | 222/1333 [01:42<08:26,  2.19batch/s]"
     ]
    },
    {
     "name": "stdout",
     "output_type": "stream",
     "text": [
      "GS______ [SE3: size=torch.Size([6, 2]), device=cuda:0, dtype=torch.float32]\n",
      "GS[0]__ __ __  SE3: size=torch.Size([6, 2]), device=cuda:0, dtype=torch.float32\n",
      "GS[0][:,jj] SE3: size=torch.Size([6, 2]), device=cuda:0, dtype=torch.float32\n"
     ]
    },
    {
     "name": "stderr",
     "output_type": "stream",
     "text": [
      " 17%|█▋        | 223/1333 [01:42<08:26,  2.19batch/s]"
     ]
    },
    {
     "name": "stdout",
     "output_type": "stream",
     "text": [
      "GS______ [SE3: size=torch.Size([6, 2]), device=cuda:0, dtype=torch.float32]\n",
      "GS[0]__ __ __  SE3: size=torch.Size([6, 2]), device=cuda:0, dtype=torch.float32\n",
      "GS[0][:,jj] SE3: size=torch.Size([6, 2]), device=cuda:0, dtype=torch.float32\n"
     ]
    },
    {
     "name": "stderr",
     "output_type": "stream",
     "text": [
      " 17%|█▋        | 224/1333 [01:43<08:24,  2.20batch/s]"
     ]
    },
    {
     "name": "stdout",
     "output_type": "stream",
     "text": [
      "GS______ [SE3: size=torch.Size([6, 2]), device=cuda:0, dtype=torch.float32]\n",
      "GS[0]__ __ __  SE3: size=torch.Size([6, 2]), device=cuda:0, dtype=torch.float32\n",
      "GS[0][:,jj] SE3: size=torch.Size([6, 2]), device=cuda:0, dtype=torch.float32\n"
     ]
    },
    {
     "name": "stderr",
     "output_type": "stream",
     "text": [
      " 17%|█▋        | 225/1333 [01:43<08:23,  2.20batch/s]"
     ]
    },
    {
     "name": "stdout",
     "output_type": "stream",
     "text": [
      "GS______ [SE3: size=torch.Size([6, 2]), device=cuda:0, dtype=torch.float32]\n",
      "GS[0]__ __ __  SE3: size=torch.Size([6, 2]), device=cuda:0, dtype=torch.float32\n",
      "GS[0][:,jj] SE3: size=torch.Size([6, 2]), device=cuda:0, dtype=torch.float32\n"
     ]
    },
    {
     "name": "stderr",
     "output_type": "stream",
     "text": [
      " 17%|█▋        | 226/1333 [01:44<08:23,  2.20batch/s]"
     ]
    },
    {
     "name": "stdout",
     "output_type": "stream",
     "text": [
      "GS______ [SE3: size=torch.Size([6, 2]), device=cuda:0, dtype=torch.float32]\n",
      "GS[0]__ __ __  SE3: size=torch.Size([6, 2]), device=cuda:0, dtype=torch.float32\n",
      "GS[0][:,jj] SE3: size=torch.Size([6, 2]), device=cuda:0, dtype=torch.float32\n"
     ]
    },
    {
     "name": "stderr",
     "output_type": "stream",
     "text": [
      " 17%|█▋        | 227/1333 [01:44<08:21,  2.21batch/s]"
     ]
    },
    {
     "name": "stdout",
     "output_type": "stream",
     "text": [
      "GS______ [SE3: size=torch.Size([6, 2]), device=cuda:0, dtype=torch.float32]\n",
      "GS[0]__ __ __  SE3: size=torch.Size([6, 2]), device=cuda:0, dtype=torch.float32\n",
      "GS[0][:,jj] SE3: size=torch.Size([6, 2]), device=cuda:0, dtype=torch.float32\n"
     ]
    },
    {
     "name": "stderr",
     "output_type": "stream",
     "text": [
      " 17%|█▋        | 228/1333 [01:44<08:23,  2.20batch/s]"
     ]
    },
    {
     "name": "stdout",
     "output_type": "stream",
     "text": [
      "GS______ [SE3: size=torch.Size([6, 2]), device=cuda:0, dtype=torch.float32]\n",
      "GS[0]__ __ __  SE3: size=torch.Size([6, 2]), device=cuda:0, dtype=torch.float32\n",
      "GS[0][:,jj] SE3: size=torch.Size([6, 2]), device=cuda:0, dtype=torch.float32\n"
     ]
    },
    {
     "name": "stderr",
     "output_type": "stream",
     "text": [
      " 17%|█▋        | 229/1333 [01:45<08:23,  2.19batch/s]"
     ]
    },
    {
     "name": "stdout",
     "output_type": "stream",
     "text": [
      "GS______ [SE3: size=torch.Size([6, 2]), device=cuda:0, dtype=torch.float32]\n",
      "GS[0]__ __ __  SE3: size=torch.Size([6, 2]), device=cuda:0, dtype=torch.float32\n",
      "GS[0][:,jj] SE3: size=torch.Size([6, 2]), device=cuda:0, dtype=torch.float32\n"
     ]
    },
    {
     "name": "stderr",
     "output_type": "stream",
     "text": [
      " 17%|█▋        | 230/1333 [01:45<08:20,  2.20batch/s]"
     ]
    },
    {
     "name": "stdout",
     "output_type": "stream",
     "text": [
      "GS______ [SE3: size=torch.Size([6, 2]), device=cuda:0, dtype=torch.float32]\n",
      "GS[0]__ __ __  SE3: size=torch.Size([6, 2]), device=cuda:0, dtype=torch.float32\n",
      "GS[0][:,jj] SE3: size=torch.Size([6, 2]), device=cuda:0, dtype=torch.float32\n"
     ]
    },
    {
     "name": "stderr",
     "output_type": "stream",
     "text": [
      " 17%|█▋        | 231/1333 [01:46<08:19,  2.20batch/s]"
     ]
    },
    {
     "name": "stdout",
     "output_type": "stream",
     "text": [
      "GS______ [SE3: size=torch.Size([6, 2]), device=cuda:0, dtype=torch.float32]\n",
      "GS[0]__ __ __  SE3: size=torch.Size([6, 2]), device=cuda:0, dtype=torch.float32\n",
      "GS[0][:,jj] SE3: size=torch.Size([6, 2]), device=cuda:0, dtype=torch.float32\n"
     ]
    },
    {
     "name": "stderr",
     "output_type": "stream",
     "text": [
      " 17%|█▋        | 232/1333 [01:46<08:19,  2.21batch/s]"
     ]
    },
    {
     "name": "stdout",
     "output_type": "stream",
     "text": [
      "GS______ [SE3: size=torch.Size([6, 2]), device=cuda:0, dtype=torch.float32]\n",
      "GS[0]__ __ __  SE3: size=torch.Size([6, 2]), device=cuda:0, dtype=torch.float32\n",
      "GS[0][:,jj] SE3: size=torch.Size([6, 2]), device=cuda:0, dtype=torch.float32\n"
     ]
    },
    {
     "name": "stderr",
     "output_type": "stream",
     "text": [
      " 17%|█▋        | 233/1333 [01:47<08:17,  2.21batch/s]"
     ]
    },
    {
     "name": "stdout",
     "output_type": "stream",
     "text": [
      "GS______ [SE3: size=torch.Size([6, 2]), device=cuda:0, dtype=torch.float32]\n",
      "GS[0]__ __ __  SE3: size=torch.Size([6, 2]), device=cuda:0, dtype=torch.float32\n",
      "GS[0][:,jj] SE3: size=torch.Size([6, 2]), device=cuda:0, dtype=torch.float32\n"
     ]
    },
    {
     "name": "stderr",
     "output_type": "stream",
     "text": [
      " 18%|█▊        | 234/1333 [01:47<08:18,  2.20batch/s]"
     ]
    },
    {
     "name": "stdout",
     "output_type": "stream",
     "text": [
      "GS______ [SE3: size=torch.Size([6, 2]), device=cuda:0, dtype=torch.float32]\n",
      "GS[0]__ __ __  SE3: size=torch.Size([6, 2]), device=cuda:0, dtype=torch.float32\n",
      "GS[0][:,jj] SE3: size=torch.Size([6, 2]), device=cuda:0, dtype=torch.float32\n"
     ]
    },
    {
     "name": "stderr",
     "output_type": "stream",
     "text": [
      " 18%|█▊        | 235/1333 [01:48<08:22,  2.18batch/s]"
     ]
    },
    {
     "name": "stdout",
     "output_type": "stream",
     "text": [
      "GS______ [SE3: size=torch.Size([6, 2]), device=cuda:0, dtype=torch.float32]\n",
      "GS[0]__ __ __  SE3: size=torch.Size([6, 2]), device=cuda:0, dtype=torch.float32\n",
      "GS[0][:,jj] SE3: size=torch.Size([6, 2]), device=cuda:0, dtype=torch.float32\n"
     ]
    },
    {
     "name": "stderr",
     "output_type": "stream",
     "text": [
      " 18%|█▊        | 236/1333 [01:48<08:21,  2.19batch/s]"
     ]
    },
    {
     "name": "stdout",
     "output_type": "stream",
     "text": [
      "GS______ [SE3: size=torch.Size([6, 2]), device=cuda:0, dtype=torch.float32]\n",
      "GS[0]__ __ __  SE3: size=torch.Size([6, 2]), device=cuda:0, dtype=torch.float32\n",
      "GS[0][:,jj] SE3: size=torch.Size([6, 2]), device=cuda:0, dtype=torch.float32\n"
     ]
    },
    {
     "name": "stderr",
     "output_type": "stream",
     "text": [
      " 18%|█▊        | 237/1333 [01:49<08:15,  2.21batch/s]"
     ]
    },
    {
     "name": "stdout",
     "output_type": "stream",
     "text": [
      "GS______ [SE3: size=torch.Size([6, 2]), device=cuda:0, dtype=torch.float32]\n",
      "GS[0]__ __ __  SE3: size=torch.Size([6, 2]), device=cuda:0, dtype=torch.float32\n",
      "GS[0][:,jj] SE3: size=torch.Size([6, 2]), device=cuda:0, dtype=torch.float32\n"
     ]
    },
    {
     "name": "stderr",
     "output_type": "stream",
     "text": [
      " 18%|█▊        | 238/1333 [01:49<08:12,  2.22batch/s]"
     ]
    },
    {
     "name": "stdout",
     "output_type": "stream",
     "text": [
      "GS______ [SE3: size=torch.Size([6, 2]), device=cuda:0, dtype=torch.float32]\n",
      "GS[0]__ __ __  SE3: size=torch.Size([6, 2]), device=cuda:0, dtype=torch.float32\n",
      "GS[0][:,jj] SE3: size=torch.Size([6, 2]), device=cuda:0, dtype=torch.float32\n"
     ]
    },
    {
     "name": "stderr",
     "output_type": "stream",
     "text": [
      " 18%|█▊        | 239/1333 [01:49<08:11,  2.22batch/s]"
     ]
    },
    {
     "name": "stdout",
     "output_type": "stream",
     "text": [
      "GS______ [SE3: size=torch.Size([6, 2]), device=cuda:0, dtype=torch.float32]\n",
      "GS[0]__ __ __  SE3: size=torch.Size([6, 2]), device=cuda:0, dtype=torch.float32\n",
      "GS[0][:,jj] SE3: size=torch.Size([6, 2]), device=cuda:0, dtype=torch.float32\n"
     ]
    },
    {
     "name": "stderr",
     "output_type": "stream",
     "text": [
      " 18%|█▊        | 240/1333 [01:50<08:07,  2.24batch/s]"
     ]
    },
    {
     "name": "stdout",
     "output_type": "stream",
     "text": [
      "GS______ [SE3: size=torch.Size([6, 2]), device=cuda:0, dtype=torch.float32]\n",
      "GS[0]__ __ __  SE3: size=torch.Size([6, 2]), device=cuda:0, dtype=torch.float32\n",
      "GS[0][:,jj] SE3: size=torch.Size([6, 2]), device=cuda:0, dtype=torch.float32\n"
     ]
    },
    {
     "name": "stderr",
     "output_type": "stream",
     "text": [
      " 18%|█▊        | 241/1333 [01:50<08:02,  2.26batch/s]"
     ]
    },
    {
     "name": "stdout",
     "output_type": "stream",
     "text": [
      "GS______ [SE3: size=torch.Size([6, 2]), device=cuda:0, dtype=torch.float32]\n",
      "GS[0]__ __ __  SE3: size=torch.Size([6, 2]), device=cuda:0, dtype=torch.float32\n",
      "GS[0][:,jj] SE3: size=torch.Size([6, 2]), device=cuda:0, dtype=torch.float32\n"
     ]
    },
    {
     "name": "stderr",
     "output_type": "stream",
     "text": [
      " 18%|█▊        | 242/1333 [01:51<08:06,  2.24batch/s]"
     ]
    },
    {
     "name": "stdout",
     "output_type": "stream",
     "text": [
      "GS______ [SE3: size=torch.Size([6, 2]), device=cuda:0, dtype=torch.float32]\n",
      "GS[0]__ __ __  SE3: size=torch.Size([6, 2]), device=cuda:0, dtype=torch.float32\n",
      "GS[0][:,jj] SE3: size=torch.Size([6, 2]), device=cuda:0, dtype=torch.float32\n"
     ]
    },
    {
     "name": "stderr",
     "output_type": "stream",
     "text": [
      " 18%|█▊        | 243/1333 [01:51<08:08,  2.23batch/s]"
     ]
    },
    {
     "name": "stdout",
     "output_type": "stream",
     "text": [
      "GS______ [SE3: size=torch.Size([6, 2]), device=cuda:0, dtype=torch.float32]\n",
      "GS[0]__ __ __  SE3: size=torch.Size([6, 2]), device=cuda:0, dtype=torch.float32\n",
      "GS[0][:,jj] SE3: size=torch.Size([6, 2]), device=cuda:0, dtype=torch.float32\n"
     ]
    },
    {
     "name": "stderr",
     "output_type": "stream",
     "text": [
      " 18%|█▊        | 244/1333 [01:52<08:05,  2.24batch/s]"
     ]
    },
    {
     "name": "stdout",
     "output_type": "stream",
     "text": [
      "GS______ [SE3: size=torch.Size([6, 2]), device=cuda:0, dtype=torch.float32]\n",
      "GS[0]__ __ __  SE3: size=torch.Size([6, 2]), device=cuda:0, dtype=torch.float32\n",
      "GS[0][:,jj] SE3: size=torch.Size([6, 2]), device=cuda:0, dtype=torch.float32\n"
     ]
    },
    {
     "name": "stderr",
     "output_type": "stream",
     "text": [
      " 18%|█▊        | 245/1333 [01:52<08:04,  2.24batch/s]"
     ]
    },
    {
     "name": "stdout",
     "output_type": "stream",
     "text": [
      "GS______ [SE3: size=torch.Size([6, 2]), device=cuda:0, dtype=torch.float32]\n",
      "GS[0]__ __ __  SE3: size=torch.Size([6, 2]), device=cuda:0, dtype=torch.float32\n",
      "GS[0][:,jj] SE3: size=torch.Size([6, 2]), device=cuda:0, dtype=torch.float32\n"
     ]
    },
    {
     "name": "stderr",
     "output_type": "stream",
     "text": [
      " 18%|█▊        | 246/1333 [01:53<08:03,  2.25batch/s]"
     ]
    },
    {
     "name": "stdout",
     "output_type": "stream",
     "text": [
      "GS______ [SE3: size=torch.Size([6, 2]), device=cuda:0, dtype=torch.float32]\n",
      "GS[0]__ __ __  SE3: size=torch.Size([6, 2]), device=cuda:0, dtype=torch.float32\n",
      "GS[0][:,jj] SE3: size=torch.Size([6, 2]), device=cuda:0, dtype=torch.float32\n"
     ]
    },
    {
     "name": "stderr",
     "output_type": "stream",
     "text": [
      " 19%|█▊        | 247/1333 [01:53<08:02,  2.25batch/s]"
     ]
    },
    {
     "name": "stdout",
     "output_type": "stream",
     "text": [
      "GS______ [SE3: size=torch.Size([6, 2]), device=cuda:0, dtype=torch.float32]\n",
      "GS[0]__ __ __  SE3: size=torch.Size([6, 2]), device=cuda:0, dtype=torch.float32\n",
      "GS[0][:,jj] SE3: size=torch.Size([6, 2]), device=cuda:0, dtype=torch.float32\n"
     ]
    },
    {
     "name": "stderr",
     "output_type": "stream",
     "text": [
      " 19%|█▊        | 248/1333 [01:53<08:03,  2.25batch/s]"
     ]
    },
    {
     "name": "stdout",
     "output_type": "stream",
     "text": [
      "GS______ [SE3: size=torch.Size([6, 2]), device=cuda:0, dtype=torch.float32]\n",
      "GS[0]__ __ __  SE3: size=torch.Size([6, 2]), device=cuda:0, dtype=torch.float32\n",
      "GS[0][:,jj] SE3: size=torch.Size([6, 2]), device=cuda:0, dtype=torch.float32\n"
     ]
    },
    {
     "name": "stderr",
     "output_type": "stream",
     "text": [
      " 19%|█▊        | 249/1333 [01:54<08:01,  2.25batch/s]"
     ]
    },
    {
     "name": "stdout",
     "output_type": "stream",
     "text": [
      "GS______ [SE3: size=torch.Size([6, 2]), device=cuda:0, dtype=torch.float32]\n",
      "GS[0]__ __ __  SE3: size=torch.Size([6, 2]), device=cuda:0, dtype=torch.float32\n",
      "GS[0][:,jj] SE3: size=torch.Size([6, 2]), device=cuda:0, dtype=torch.float32\n"
     ]
    },
    {
     "name": "stderr",
     "output_type": "stream",
     "text": [
      " 19%|█▉        | 250/1333 [01:54<08:07,  2.22batch/s]"
     ]
    },
    {
     "name": "stdout",
     "output_type": "stream",
     "text": [
      "GS______ [SE3: size=torch.Size([6, 2]), device=cuda:0, dtype=torch.float32]\n",
      "GS[0]__ __ __  SE3: size=torch.Size([6, 2]), device=cuda:0, dtype=torch.float32\n",
      "GS[0][:,jj] SE3: size=torch.Size([6, 2]), device=cuda:0, dtype=torch.float32\n"
     ]
    },
    {
     "name": "stderr",
     "output_type": "stream",
     "text": [
      " 19%|█▉        | 251/1333 [01:55<08:03,  2.24batch/s]"
     ]
    },
    {
     "name": "stdout",
     "output_type": "stream",
     "text": [
      "GS______ [SE3: size=torch.Size([6, 2]), device=cuda:0, dtype=torch.float32]\n",
      "GS[0]__ __ __  SE3: size=torch.Size([6, 2]), device=cuda:0, dtype=torch.float32\n",
      "GS[0][:,jj] SE3: size=torch.Size([6, 2]), device=cuda:0, dtype=torch.float32\n"
     ]
    },
    {
     "name": "stderr",
     "output_type": "stream",
     "text": [
      " 19%|█▉        | 252/1333 [01:55<08:00,  2.25batch/s]"
     ]
    },
    {
     "name": "stdout",
     "output_type": "stream",
     "text": [
      "GS______ [SE3: size=torch.Size([6, 2]), device=cuda:0, dtype=torch.float32]\n",
      "GS[0]__ __ __  SE3: size=torch.Size([6, 2]), device=cuda:0, dtype=torch.float32\n",
      "GS[0][:,jj] SE3: size=torch.Size([6, 2]), device=cuda:0, dtype=torch.float32\n"
     ]
    },
    {
     "name": "stderr",
     "output_type": "stream",
     "text": [
      " 19%|█▉        | 253/1333 [01:56<08:01,  2.24batch/s]"
     ]
    },
    {
     "name": "stdout",
     "output_type": "stream",
     "text": [
      "GS______ [SE3: size=torch.Size([6, 2]), device=cuda:0, dtype=torch.float32]\n",
      "GS[0]__ __ __  SE3: size=torch.Size([6, 2]), device=cuda:0, dtype=torch.float32\n",
      "GS[0][:,jj] SE3: size=torch.Size([6, 2]), device=cuda:0, dtype=torch.float32\n"
     ]
    },
    {
     "name": "stderr",
     "output_type": "stream",
     "text": [
      " 19%|█▉        | 254/1333 [01:56<07:58,  2.25batch/s]"
     ]
    },
    {
     "name": "stdout",
     "output_type": "stream",
     "text": [
      "GS______ [SE3: size=torch.Size([6, 2]), device=cuda:0, dtype=torch.float32]\n",
      "GS[0]__ __ __  SE3: size=torch.Size([6, 2]), device=cuda:0, dtype=torch.float32\n",
      "GS[0][:,jj] SE3: size=torch.Size([6, 2]), device=cuda:0, dtype=torch.float32\n"
     ]
    },
    {
     "name": "stderr",
     "output_type": "stream",
     "text": [
      " 19%|█▉        | 255/1333 [01:57<07:55,  2.27batch/s]"
     ]
    },
    {
     "name": "stdout",
     "output_type": "stream",
     "text": [
      "GS______ [SE3: size=torch.Size([6, 2]), device=cuda:0, dtype=torch.float32]\n",
      "GS[0]__ __ __  SE3: size=torch.Size([6, 2]), device=cuda:0, dtype=torch.float32\n",
      "GS[0][:,jj] SE3: size=torch.Size([6, 2]), device=cuda:0, dtype=torch.float32\n"
     ]
    },
    {
     "name": "stderr",
     "output_type": "stream",
     "text": [
      " 19%|█▉        | 256/1333 [01:57<07:53,  2.28batch/s]"
     ]
    },
    {
     "name": "stdout",
     "output_type": "stream",
     "text": [
      "GS______ [SE3: size=torch.Size([6, 2]), device=cuda:0, dtype=torch.float32]\n",
      "GS[0]__ __ __  SE3: size=torch.Size([6, 2]), device=cuda:0, dtype=torch.float32\n",
      "GS[0][:,jj] SE3: size=torch.Size([6, 2]), device=cuda:0, dtype=torch.float32\n"
     ]
    },
    {
     "name": "stderr",
     "output_type": "stream",
     "text": [
      " 19%|█▉        | 257/1333 [01:57<07:56,  2.26batch/s]"
     ]
    },
    {
     "name": "stdout",
     "output_type": "stream",
     "text": [
      "GS______ [SE3: size=torch.Size([6, 2]), device=cuda:0, dtype=torch.float32]\n",
      "GS[0]__ __ __  SE3: size=torch.Size([6, 2]), device=cuda:0, dtype=torch.float32\n",
      "GS[0][:,jj] SE3: size=torch.Size([6, 2]), device=cuda:0, dtype=torch.float32\n"
     ]
    },
    {
     "name": "stderr",
     "output_type": "stream",
     "text": [
      " 19%|█▉        | 258/1333 [01:58<07:55,  2.26batch/s]"
     ]
    },
    {
     "name": "stdout",
     "output_type": "stream",
     "text": [
      "GS______ [SE3: size=torch.Size([6, 2]), device=cuda:0, dtype=torch.float32]\n",
      "GS[0]__ __ __  SE3: size=torch.Size([6, 2]), device=cuda:0, dtype=torch.float32\n",
      "GS[0][:,jj] SE3: size=torch.Size([6, 2]), device=cuda:0, dtype=torch.float32\n"
     ]
    },
    {
     "name": "stderr",
     "output_type": "stream",
     "text": [
      " 19%|█▉        | 259/1333 [01:58<07:51,  2.28batch/s]"
     ]
    },
    {
     "name": "stdout",
     "output_type": "stream",
     "text": [
      "GS______ [SE3: size=torch.Size([6, 2]), device=cuda:0, dtype=torch.float32]\n",
      "GS[0]__ __ __  SE3: size=torch.Size([6, 2]), device=cuda:0, dtype=torch.float32\n",
      "GS[0][:,jj] SE3: size=torch.Size([6, 2]), device=cuda:0, dtype=torch.float32\n"
     ]
    },
    {
     "name": "stderr",
     "output_type": "stream",
     "text": [
      " 20%|█▉        | 260/1333 [01:59<07:50,  2.28batch/s]"
     ]
    },
    {
     "name": "stdout",
     "output_type": "stream",
     "text": [
      "GS______ [SE3: size=torch.Size([6, 2]), device=cuda:0, dtype=torch.float32]\n",
      "GS[0]__ __ __  SE3: size=torch.Size([6, 2]), device=cuda:0, dtype=torch.float32\n",
      "GS[0][:,jj] SE3: size=torch.Size([6, 2]), device=cuda:0, dtype=torch.float32\n"
     ]
    },
    {
     "name": "stderr",
     "output_type": "stream",
     "text": [
      " 20%|█▉        | 261/1333 [01:59<07:50,  2.28batch/s]"
     ]
    },
    {
     "name": "stdout",
     "output_type": "stream",
     "text": [
      "GS______ [SE3: size=torch.Size([6, 2]), device=cuda:0, dtype=torch.float32]\n",
      "GS[0]__ __ __  SE3: size=torch.Size([6, 2]), device=cuda:0, dtype=torch.float32\n",
      "GS[0][:,jj] SE3: size=torch.Size([6, 2]), device=cuda:0, dtype=torch.float32\n"
     ]
    },
    {
     "name": "stderr",
     "output_type": "stream",
     "text": [
      " 20%|█▉        | 262/1333 [02:00<07:51,  2.27batch/s]"
     ]
    },
    {
     "name": "stdout",
     "output_type": "stream",
     "text": [
      "GS______ [SE3: size=torch.Size([6, 2]), device=cuda:0, dtype=torch.float32]\n",
      "GS[0]__ __ __  SE3: size=torch.Size([6, 2]), device=cuda:0, dtype=torch.float32\n",
      "GS[0][:,jj] SE3: size=torch.Size([6, 2]), device=cuda:0, dtype=torch.float32\n"
     ]
    },
    {
     "name": "stderr",
     "output_type": "stream",
     "text": [
      " 20%|█▉        | 263/1333 [02:00<07:49,  2.28batch/s]"
     ]
    },
    {
     "name": "stdout",
     "output_type": "stream",
     "text": [
      "GS______ [SE3: size=torch.Size([6, 2]), device=cuda:0, dtype=torch.float32]\n",
      "GS[0]__ __ __  SE3: size=torch.Size([6, 2]), device=cuda:0, dtype=torch.float32\n",
      "GS[0][:,jj] SE3: size=torch.Size([6, 2]), device=cuda:0, dtype=torch.float32\n"
     ]
    },
    {
     "name": "stderr",
     "output_type": "stream",
     "text": [
      " 20%|█▉        | 264/1333 [02:01<07:50,  2.27batch/s]"
     ]
    },
    {
     "name": "stdout",
     "output_type": "stream",
     "text": [
      "GS______ [SE3: size=torch.Size([6, 2]), device=cuda:0, dtype=torch.float32]\n",
      "GS[0]__ __ __  SE3: size=torch.Size([6, 2]), device=cuda:0, dtype=torch.float32\n",
      "GS[0][:,jj] SE3: size=torch.Size([6, 2]), device=cuda:0, dtype=torch.float32\n"
     ]
    },
    {
     "name": "stderr",
     "output_type": "stream",
     "text": [
      " 20%|█▉        | 265/1333 [02:01<07:52,  2.26batch/s]"
     ]
    },
    {
     "name": "stdout",
     "output_type": "stream",
     "text": [
      "GS______ [SE3: size=torch.Size([6, 2]), device=cuda:0, dtype=torch.float32]\n",
      "GS[0]__ __ __  SE3: size=torch.Size([6, 2]), device=cuda:0, dtype=torch.float32\n",
      "GS[0][:,jj] SE3: size=torch.Size([6, 2]), device=cuda:0, dtype=torch.float32\n"
     ]
    },
    {
     "name": "stderr",
     "output_type": "stream",
     "text": [
      " 20%|█▉        | 266/1333 [02:01<07:55,  2.25batch/s]"
     ]
    },
    {
     "name": "stdout",
     "output_type": "stream",
     "text": [
      "GS______ [SE3: size=torch.Size([6, 2]), device=cuda:0, dtype=torch.float32]\n",
      "GS[0]__ __ __  SE3: size=torch.Size([6, 2]), device=cuda:0, dtype=torch.float32\n",
      "GS[0][:,jj] SE3: size=torch.Size([6, 2]), device=cuda:0, dtype=torch.float32\n"
     ]
    },
    {
     "name": "stderr",
     "output_type": "stream",
     "text": [
      " 20%|██        | 267/1333 [02:02<07:55,  2.24batch/s]"
     ]
    },
    {
     "name": "stdout",
     "output_type": "stream",
     "text": [
      "GS______ [SE3: size=torch.Size([6, 2]), device=cuda:0, dtype=torch.float32]\n",
      "GS[0]__ __ __  SE3: size=torch.Size([6, 2]), device=cuda:0, dtype=torch.float32\n",
      "GS[0][:,jj] SE3: size=torch.Size([6, 2]), device=cuda:0, dtype=torch.float32\n"
     ]
    },
    {
     "name": "stderr",
     "output_type": "stream",
     "text": [
      " 20%|██        | 268/1333 [02:02<08:00,  2.22batch/s]"
     ]
    },
    {
     "name": "stdout",
     "output_type": "stream",
     "text": [
      "GS______ [SE3: size=torch.Size([6, 2]), device=cuda:0, dtype=torch.float32]\n",
      "GS[0]__ __ __  SE3: size=torch.Size([6, 2]), device=cuda:0, dtype=torch.float32\n",
      "GS[0][:,jj] SE3: size=torch.Size([6, 2]), device=cuda:0, dtype=torch.float32\n"
     ]
    },
    {
     "name": "stderr",
     "output_type": "stream",
     "text": [
      " 20%|██        | 269/1333 [02:03<07:57,  2.23batch/s]"
     ]
    },
    {
     "name": "stdout",
     "output_type": "stream",
     "text": [
      "GS______ [SE3: size=torch.Size([6, 2]), device=cuda:0, dtype=torch.float32]\n",
      "GS[0]__ __ __  SE3: size=torch.Size([6, 2]), device=cuda:0, dtype=torch.float32\n",
      "GS[0][:,jj] SE3: size=torch.Size([6, 2]), device=cuda:0, dtype=torch.float32\n"
     ]
    },
    {
     "name": "stderr",
     "output_type": "stream",
     "text": [
      " 20%|██        | 270/1333 [02:03<07:56,  2.23batch/s]"
     ]
    },
    {
     "name": "stdout",
     "output_type": "stream",
     "text": [
      "GS______ [SE3: size=torch.Size([6, 2]), device=cuda:0, dtype=torch.float32]\n",
      "GS[0]__ __ __  SE3: size=torch.Size([6, 2]), device=cuda:0, dtype=torch.float32\n",
      "GS[0][:,jj] SE3: size=torch.Size([6, 2]), device=cuda:0, dtype=torch.float32\n"
     ]
    },
    {
     "name": "stderr",
     "output_type": "stream",
     "text": [
      " 20%|██        | 271/1333 [02:04<07:59,  2.21batch/s]"
     ]
    },
    {
     "name": "stdout",
     "output_type": "stream",
     "text": [
      "GS______ [SE3: size=torch.Size([6, 2]), device=cuda:0, dtype=torch.float32]\n",
      "GS[0]__ __ __  SE3: size=torch.Size([6, 2]), device=cuda:0, dtype=torch.float32\n",
      "GS[0][:,jj] SE3: size=torch.Size([6, 2]), device=cuda:0, dtype=torch.float32\n"
     ]
    },
    {
     "name": "stderr",
     "output_type": "stream",
     "text": [
      " 20%|██        | 272/1333 [02:04<07:57,  2.22batch/s]"
     ]
    },
    {
     "name": "stdout",
     "output_type": "stream",
     "text": [
      "GS______ [SE3: size=torch.Size([6, 2]), device=cuda:0, dtype=torch.float32]\n",
      "GS[0]__ __ __  SE3: size=torch.Size([6, 2]), device=cuda:0, dtype=torch.float32\n",
      "GS[0][:,jj] SE3: size=torch.Size([6, 2]), device=cuda:0, dtype=torch.float32\n"
     ]
    },
    {
     "name": "stderr",
     "output_type": "stream",
     "text": [
      " 20%|██        | 273/1333 [02:05<07:55,  2.23batch/s]"
     ]
    },
    {
     "name": "stdout",
     "output_type": "stream",
     "text": [
      "GS______ [SE3: size=torch.Size([6, 2]), device=cuda:0, dtype=torch.float32]\n",
      "GS[0]__ __ __  SE3: size=torch.Size([6, 2]), device=cuda:0, dtype=torch.float32\n",
      "GS[0][:,jj] SE3: size=torch.Size([6, 2]), device=cuda:0, dtype=torch.float32\n"
     ]
    },
    {
     "name": "stderr",
     "output_type": "stream",
     "text": [
      " 21%|██        | 274/1333 [02:05<07:53,  2.24batch/s]"
     ]
    },
    {
     "name": "stdout",
     "output_type": "stream",
     "text": [
      "GS______ [SE3: size=torch.Size([6, 2]), device=cuda:0, dtype=torch.float32]\n",
      "GS[0]__ __ __  SE3: size=torch.Size([6, 2]), device=cuda:0, dtype=torch.float32\n",
      "GS[0][:,jj] SE3: size=torch.Size([6, 2]), device=cuda:0, dtype=torch.float32\n"
     ]
    },
    {
     "name": "stderr",
     "output_type": "stream",
     "text": [
      " 21%|██        | 275/1333 [02:05<07:51,  2.25batch/s]"
     ]
    },
    {
     "name": "stdout",
     "output_type": "stream",
     "text": [
      "GS______ [SE3: size=torch.Size([6, 2]), device=cuda:0, dtype=torch.float32]\n",
      "GS[0]__ __ __  SE3: size=torch.Size([6, 2]), device=cuda:0, dtype=torch.float32\n",
      "GS[0][:,jj] SE3: size=torch.Size([6, 2]), device=cuda:0, dtype=torch.float32\n"
     ]
    },
    {
     "name": "stderr",
     "output_type": "stream",
     "text": [
      " 21%|██        | 276/1333 [02:06<07:51,  2.24batch/s]"
     ]
    },
    {
     "name": "stdout",
     "output_type": "stream",
     "text": [
      "GS______ [SE3: size=torch.Size([6, 2]), device=cuda:0, dtype=torch.float32]\n",
      "GS[0]__ __ __  SE3: size=torch.Size([6, 2]), device=cuda:0, dtype=torch.float32\n",
      "GS[0][:,jj] SE3: size=torch.Size([6, 2]), device=cuda:0, dtype=torch.float32\n"
     ]
    },
    {
     "name": "stderr",
     "output_type": "stream",
     "text": [
      " 21%|██        | 277/1333 [02:06<07:51,  2.24batch/s]"
     ]
    },
    {
     "name": "stdout",
     "output_type": "stream",
     "text": [
      "GS______ [SE3: size=torch.Size([6, 2]), device=cuda:0, dtype=torch.float32]\n",
      "GS[0]__ __ __  SE3: size=torch.Size([6, 2]), device=cuda:0, dtype=torch.float32\n",
      "GS[0][:,jj] SE3: size=torch.Size([6, 2]), device=cuda:0, dtype=torch.float32\n"
     ]
    },
    {
     "name": "stderr",
     "output_type": "stream",
     "text": [
      " 21%|██        | 278/1333 [02:07<07:50,  2.24batch/s]"
     ]
    },
    {
     "name": "stdout",
     "output_type": "stream",
     "text": [
      "GS______ [SE3: size=torch.Size([6, 2]), device=cuda:0, dtype=torch.float32]\n",
      "GS[0]__ __ __  SE3: size=torch.Size([6, 2]), device=cuda:0, dtype=torch.float32\n",
      "GS[0][:,jj] SE3: size=torch.Size([6, 2]), device=cuda:0, dtype=torch.float32\n"
     ]
    },
    {
     "name": "stderr",
     "output_type": "stream",
     "text": [
      " 21%|██        | 279/1333 [02:07<07:49,  2.24batch/s]"
     ]
    },
    {
     "name": "stdout",
     "output_type": "stream",
     "text": [
      "GS______ [SE3: size=torch.Size([6, 2]), device=cuda:0, dtype=torch.float32]\n",
      "GS[0]__ __ __  SE3: size=torch.Size([6, 2]), device=cuda:0, dtype=torch.float32\n",
      "GS[0][:,jj] SE3: size=torch.Size([6, 2]), device=cuda:0, dtype=torch.float32\n"
     ]
    },
    {
     "name": "stderr",
     "output_type": "stream",
     "text": [
      " 21%|██        | 280/1333 [02:08<07:47,  2.25batch/s]"
     ]
    },
    {
     "name": "stdout",
     "output_type": "stream",
     "text": [
      "GS______ [SE3: size=torch.Size([6, 2]), device=cuda:0, dtype=torch.float32]\n",
      "GS[0]__ __ __  SE3: size=torch.Size([6, 2]), device=cuda:0, dtype=torch.float32\n",
      "GS[0][:,jj] SE3: size=torch.Size([6, 2]), device=cuda:0, dtype=torch.float32\n"
     ]
    },
    {
     "name": "stderr",
     "output_type": "stream",
     "text": [
      " 21%|██        | 281/1333 [02:08<07:49,  2.24batch/s]"
     ]
    },
    {
     "name": "stdout",
     "output_type": "stream",
     "text": [
      "GS______ [SE3: size=torch.Size([6, 2]), device=cuda:0, dtype=torch.float32]\n",
      "GS[0]__ __ __  SE3: size=torch.Size([6, 2]), device=cuda:0, dtype=torch.float32\n",
      "GS[0][:,jj] SE3: size=torch.Size([6, 2]), device=cuda:0, dtype=torch.float32\n"
     ]
    },
    {
     "name": "stderr",
     "output_type": "stream",
     "text": [
      " 21%|██        | 282/1333 [02:09<07:51,  2.23batch/s]"
     ]
    },
    {
     "name": "stdout",
     "output_type": "stream",
     "text": [
      "GS______ [SE3: size=torch.Size([6, 2]), device=cuda:0, dtype=torch.float32]\n",
      "GS[0]__ __ __  SE3: size=torch.Size([6, 2]), device=cuda:0, dtype=torch.float32\n",
      "GS[0][:,jj] SE3: size=torch.Size([6, 2]), device=cuda:0, dtype=torch.float32\n"
     ]
    },
    {
     "name": "stderr",
     "output_type": "stream",
     "text": [
      " 21%|██        | 283/1333 [02:09<07:53,  2.22batch/s]"
     ]
    },
    {
     "name": "stdout",
     "output_type": "stream",
     "text": [
      "GS______ [SE3: size=torch.Size([6, 2]), device=cuda:0, dtype=torch.float32]\n",
      "GS[0]__ __ __  SE3: size=torch.Size([6, 2]), device=cuda:0, dtype=torch.float32\n",
      "GS[0][:,jj] SE3: size=torch.Size([6, 2]), device=cuda:0, dtype=torch.float32\n"
     ]
    },
    {
     "name": "stderr",
     "output_type": "stream",
     "text": [
      " 21%|██▏       | 284/1333 [02:10<07:54,  2.21batch/s]"
     ]
    },
    {
     "name": "stdout",
     "output_type": "stream",
     "text": [
      "GS______ [SE3: size=torch.Size([6, 2]), device=cuda:0, dtype=torch.float32]\n",
      "GS[0]__ __ __  SE3: size=torch.Size([6, 2]), device=cuda:0, dtype=torch.float32\n",
      "GS[0][:,jj] SE3: size=torch.Size([6, 2]), device=cuda:0, dtype=torch.float32\n"
     ]
    },
    {
     "name": "stderr",
     "output_type": "stream",
     "text": [
      " 21%|██▏       | 285/1333 [02:10<07:58,  2.19batch/s]"
     ]
    },
    {
     "name": "stdout",
     "output_type": "stream",
     "text": [
      "GS______ [SE3: size=torch.Size([6, 2]), device=cuda:0, dtype=torch.float32]\n",
      "GS[0]__ __ __  SE3: size=torch.Size([6, 2]), device=cuda:0, dtype=torch.float32\n",
      "GS[0][:,jj] SE3: size=torch.Size([6, 2]), device=cuda:0, dtype=torch.float32\n"
     ]
    },
    {
     "name": "stderr",
     "output_type": "stream",
     "text": [
      " 21%|██▏       | 286/1333 [02:10<07:58,  2.19batch/s]"
     ]
    },
    {
     "name": "stdout",
     "output_type": "stream",
     "text": [
      "GS______ [SE3: size=torch.Size([6, 2]), device=cuda:0, dtype=torch.float32]\n",
      "GS[0]__ __ __  SE3: size=torch.Size([6, 2]), device=cuda:0, dtype=torch.float32\n",
      "GS[0][:,jj] SE3: size=torch.Size([6, 2]), device=cuda:0, dtype=torch.float32\n"
     ]
    },
    {
     "name": "stderr",
     "output_type": "stream",
     "text": [
      " 22%|██▏       | 287/1333 [02:11<07:59,  2.18batch/s]"
     ]
    },
    {
     "name": "stdout",
     "output_type": "stream",
     "text": [
      "GS______ [SE3: size=torch.Size([6, 2]), device=cuda:0, dtype=torch.float32]\n",
      "GS[0]__ __ __  SE3: size=torch.Size([6, 2]), device=cuda:0, dtype=torch.float32\n",
      "GS[0][:,jj] SE3: size=torch.Size([6, 2]), device=cuda:0, dtype=torch.float32\n"
     ]
    },
    {
     "name": "stderr",
     "output_type": "stream",
     "text": [
      " 22%|██▏       | 288/1333 [02:11<07:57,  2.19batch/s]"
     ]
    },
    {
     "name": "stdout",
     "output_type": "stream",
     "text": [
      "GS______ [SE3: size=torch.Size([6, 2]), device=cuda:0, dtype=torch.float32]\n",
      "GS[0]__ __ __  SE3: size=torch.Size([6, 2]), device=cuda:0, dtype=torch.float32\n",
      "GS[0][:,jj] SE3: size=torch.Size([6, 2]), device=cuda:0, dtype=torch.float32\n"
     ]
    },
    {
     "name": "stderr",
     "output_type": "stream",
     "text": [
      " 22%|██▏       | 289/1333 [02:12<07:58,  2.18batch/s]"
     ]
    },
    {
     "name": "stdout",
     "output_type": "stream",
     "text": [
      "GS______ [SE3: size=torch.Size([6, 2]), device=cuda:0, dtype=torch.float32]\n",
      "GS[0]__ __ __  SE3: size=torch.Size([6, 2]), device=cuda:0, dtype=torch.float32\n",
      "GS[0][:,jj] SE3: size=torch.Size([6, 2]), device=cuda:0, dtype=torch.float32\n"
     ]
    },
    {
     "name": "stderr",
     "output_type": "stream",
     "text": [
      " 22%|██▏       | 290/1333 [02:12<07:58,  2.18batch/s]"
     ]
    },
    {
     "name": "stdout",
     "output_type": "stream",
     "text": [
      "GS______ [SE3: size=torch.Size([6, 2]), device=cuda:0, dtype=torch.float32]\n",
      "GS[0]__ __ __  SE3: size=torch.Size([6, 2]), device=cuda:0, dtype=torch.float32\n",
      "GS[0][:,jj] SE3: size=torch.Size([6, 2]), device=cuda:0, dtype=torch.float32\n"
     ]
    },
    {
     "name": "stderr",
     "output_type": "stream",
     "text": [
      " 22%|██▏       | 291/1333 [02:13<08:02,  2.16batch/s]"
     ]
    },
    {
     "name": "stdout",
     "output_type": "stream",
     "text": [
      "GS______ [SE3: size=torch.Size([6, 2]), device=cuda:0, dtype=torch.float32]\n",
      "GS[0]__ __ __  SE3: size=torch.Size([6, 2]), device=cuda:0, dtype=torch.float32\n",
      "GS[0][:,jj] SE3: size=torch.Size([6, 2]), device=cuda:0, dtype=torch.float32\n"
     ]
    },
    {
     "name": "stderr",
     "output_type": "stream",
     "text": [
      " 22%|██▏       | 292/1333 [02:13<08:00,  2.16batch/s]"
     ]
    },
    {
     "name": "stdout",
     "output_type": "stream",
     "text": [
      "GS______ [SE3: size=torch.Size([6, 2]), device=cuda:0, dtype=torch.float32]\n",
      "GS[0]__ __ __  SE3: size=torch.Size([6, 2]), device=cuda:0, dtype=torch.float32\n",
      "GS[0][:,jj] SE3: size=torch.Size([6, 2]), device=cuda:0, dtype=torch.float32\n"
     ]
    },
    {
     "name": "stderr",
     "output_type": "stream",
     "text": [
      " 22%|██▏       | 293/1333 [02:14<07:58,  2.17batch/s]"
     ]
    },
    {
     "name": "stdout",
     "output_type": "stream",
     "text": [
      "GS______ [SE3: size=torch.Size([6, 2]), device=cuda:0, dtype=torch.float32]\n",
      "GS[0]__ __ __  SE3: size=torch.Size([6, 2]), device=cuda:0, dtype=torch.float32\n",
      "GS[0][:,jj] SE3: size=torch.Size([6, 2]), device=cuda:0, dtype=torch.float32\n"
     ]
    },
    {
     "name": "stderr",
     "output_type": "stream",
     "text": [
      " 22%|██▏       | 294/1333 [02:14<07:55,  2.18batch/s]"
     ]
    },
    {
     "name": "stdout",
     "output_type": "stream",
     "text": [
      "GS______ [SE3: size=torch.Size([6, 2]), device=cuda:0, dtype=torch.float32]\n",
      "GS[0]__ __ __  SE3: size=torch.Size([6, 2]), device=cuda:0, dtype=torch.float32\n",
      "GS[0][:,jj] SE3: size=torch.Size([6, 2]), device=cuda:0, dtype=torch.float32\n"
     ]
    },
    {
     "name": "stderr",
     "output_type": "stream",
     "text": [
      " 22%|██▏       | 295/1333 [02:15<07:54,  2.19batch/s]"
     ]
    },
    {
     "name": "stdout",
     "output_type": "stream",
     "text": [
      "GS______ [SE3: size=torch.Size([6, 2]), device=cuda:0, dtype=torch.float32]\n",
      "GS[0]__ __ __  SE3: size=torch.Size([6, 2]), device=cuda:0, dtype=torch.float32\n",
      "GS[0][:,jj] SE3: size=torch.Size([6, 2]), device=cuda:0, dtype=torch.float32\n"
     ]
    },
    {
     "name": "stderr",
     "output_type": "stream",
     "text": [
      " 22%|██▏       | 296/1333 [02:15<07:52,  2.19batch/s]"
     ]
    },
    {
     "name": "stdout",
     "output_type": "stream",
     "text": [
      "GS______ [SE3: size=torch.Size([6, 2]), device=cuda:0, dtype=torch.float32]\n",
      "GS[0]__ __ __  SE3: size=torch.Size([6, 2]), device=cuda:0, dtype=torch.float32\n",
      "GS[0][:,jj] SE3: size=torch.Size([6, 2]), device=cuda:0, dtype=torch.float32\n"
     ]
    },
    {
     "name": "stderr",
     "output_type": "stream",
     "text": [
      " 22%|██▏       | 297/1333 [02:15<07:51,  2.20batch/s]"
     ]
    },
    {
     "name": "stdout",
     "output_type": "stream",
     "text": [
      "GS______ [SE3: size=torch.Size([6, 2]), device=cuda:0, dtype=torch.float32]\n",
      "GS[0]__ __ __  SE3: size=torch.Size([6, 2]), device=cuda:0, dtype=torch.float32\n",
      "GS[0][:,jj] SE3: size=torch.Size([6, 2]), device=cuda:0, dtype=torch.float32\n"
     ]
    },
    {
     "name": "stderr",
     "output_type": "stream",
     "text": [
      " 22%|██▏       | 298/1333 [02:16<07:53,  2.19batch/s]"
     ]
    },
    {
     "name": "stdout",
     "output_type": "stream",
     "text": [
      "GS______ [SE3: size=torch.Size([6, 2]), device=cuda:0, dtype=torch.float32]\n",
      "GS[0]__ __ __  SE3: size=torch.Size([6, 2]), device=cuda:0, dtype=torch.float32\n",
      "GS[0][:,jj] SE3: size=torch.Size([6, 2]), device=cuda:0, dtype=torch.float32\n"
     ]
    },
    {
     "name": "stderr",
     "output_type": "stream",
     "text": [
      " 22%|██▏       | 299/1333 [02:16<07:51,  2.19batch/s]"
     ]
    },
    {
     "name": "stdout",
     "output_type": "stream",
     "text": [
      "GS______ [SE3: size=torch.Size([6, 2]), device=cuda:0, dtype=torch.float32]\n",
      "GS[0]__ __ __  SE3: size=torch.Size([6, 2]), device=cuda:0, dtype=torch.float32\n",
      "GS[0][:,jj] SE3: size=torch.Size([6, 2]), device=cuda:0, dtype=torch.float32\n"
     ]
    },
    {
     "name": "stderr",
     "output_type": "stream",
     "text": [
      " 23%|██▎       | 300/1333 [02:17<07:51,  2.19batch/s]"
     ]
    },
    {
     "name": "stdout",
     "output_type": "stream",
     "text": [
      "GS______ [SE3: size=torch.Size([6, 2]), device=cuda:0, dtype=torch.float32]\n",
      "GS[0]__ __ __  SE3: size=torch.Size([6, 2]), device=cuda:0, dtype=torch.float32\n",
      "GS[0][:,jj] SE3: size=torch.Size([6, 2]), device=cuda:0, dtype=torch.float32\n"
     ]
    },
    {
     "name": "stderr",
     "output_type": "stream",
     "text": [
      " 23%|██▎       | 301/1333 [02:17<07:49,  2.20batch/s]"
     ]
    },
    {
     "name": "stdout",
     "output_type": "stream",
     "text": [
      "GS______ [SE3: size=torch.Size([6, 2]), device=cuda:0, dtype=torch.float32]\n",
      "GS[0]__ __ __  SE3: size=torch.Size([6, 2]), device=cuda:0, dtype=torch.float32\n",
      "GS[0][:,jj] SE3: size=torch.Size([6, 2]), device=cuda:0, dtype=torch.float32\n"
     ]
    },
    {
     "name": "stderr",
     "output_type": "stream",
     "text": [
      " 23%|██▎       | 302/1333 [02:18<07:48,  2.20batch/s]"
     ]
    },
    {
     "name": "stdout",
     "output_type": "stream",
     "text": [
      "GS______ [SE3: size=torch.Size([6, 2]), device=cuda:0, dtype=torch.float32]\n",
      "GS[0]__ __ __  SE3: size=torch.Size([6, 2]), device=cuda:0, dtype=torch.float32\n",
      "GS[0][:,jj] SE3: size=torch.Size([6, 2]), device=cuda:0, dtype=torch.float32\n"
     ]
    },
    {
     "name": "stderr",
     "output_type": "stream",
     "text": [
      " 23%|██▎       | 303/1333 [02:18<07:46,  2.21batch/s]"
     ]
    },
    {
     "name": "stdout",
     "output_type": "stream",
     "text": [
      "GS______ [SE3: size=torch.Size([6, 2]), device=cuda:0, dtype=torch.float32]\n",
      "GS[0]__ __ __  SE3: size=torch.Size([6, 2]), device=cuda:0, dtype=torch.float32\n",
      "GS[0][:,jj] SE3: size=torch.Size([6, 2]), device=cuda:0, dtype=torch.float32\n"
     ]
    },
    {
     "name": "stderr",
     "output_type": "stream",
     "text": [
      " 23%|██▎       | 304/1333 [02:19<07:48,  2.20batch/s]"
     ]
    },
    {
     "name": "stdout",
     "output_type": "stream",
     "text": [
      "GS______ [SE3: size=torch.Size([6, 2]), device=cuda:0, dtype=torch.float32]\n",
      "GS[0]__ __ __  SE3: size=torch.Size([6, 2]), device=cuda:0, dtype=torch.float32\n",
      "GS[0][:,jj] SE3: size=torch.Size([6, 2]), device=cuda:0, dtype=torch.float32\n"
     ]
    },
    {
     "name": "stderr",
     "output_type": "stream",
     "text": [
      " 23%|██▎       | 305/1333 [02:19<07:46,  2.20batch/s]"
     ]
    },
    {
     "name": "stdout",
     "output_type": "stream",
     "text": [
      "GS______ [SE3: size=torch.Size([6, 2]), device=cuda:0, dtype=torch.float32]\n",
      "GS[0]__ __ __  SE3: size=torch.Size([6, 2]), device=cuda:0, dtype=torch.float32\n",
      "GS[0][:,jj] SE3: size=torch.Size([6, 2]), device=cuda:0, dtype=torch.float32\n"
     ]
    },
    {
     "name": "stderr",
     "output_type": "stream",
     "text": [
      " 23%|██▎       | 306/1333 [02:20<07:44,  2.21batch/s]"
     ]
    },
    {
     "name": "stdout",
     "output_type": "stream",
     "text": [
      "GS______ [SE3: size=torch.Size([6, 2]), device=cuda:0, dtype=torch.float32]\n",
      "GS[0]__ __ __  SE3: size=torch.Size([6, 2]), device=cuda:0, dtype=torch.float32\n",
      "GS[0][:,jj] SE3: size=torch.Size([6, 2]), device=cuda:0, dtype=torch.float32\n"
     ]
    },
    {
     "name": "stderr",
     "output_type": "stream",
     "text": [
      " 23%|██▎       | 307/1333 [02:20<07:44,  2.21batch/s]"
     ]
    },
    {
     "name": "stdout",
     "output_type": "stream",
     "text": [
      "GS______ [SE3: size=torch.Size([6, 2]), device=cuda:0, dtype=torch.float32]\n",
      "GS[0]__ __ __  SE3: size=torch.Size([6, 2]), device=cuda:0, dtype=torch.float32\n",
      "GS[0][:,jj] SE3: size=torch.Size([6, 2]), device=cuda:0, dtype=torch.float32\n"
     ]
    },
    {
     "name": "stderr",
     "output_type": "stream",
     "text": [
      " 23%|██▎       | 308/1333 [02:20<07:41,  2.22batch/s]"
     ]
    },
    {
     "name": "stdout",
     "output_type": "stream",
     "text": [
      "GS______ [SE3: size=torch.Size([6, 2]), device=cuda:0, dtype=torch.float32]\n",
      "GS[0]__ __ __  SE3: size=torch.Size([6, 2]), device=cuda:0, dtype=torch.float32\n",
      "GS[0][:,jj] SE3: size=torch.Size([6, 2]), device=cuda:0, dtype=torch.float32\n"
     ]
    },
    {
     "name": "stderr",
     "output_type": "stream",
     "text": [
      " 23%|██▎       | 309/1333 [02:21<07:38,  2.23batch/s]"
     ]
    },
    {
     "name": "stdout",
     "output_type": "stream",
     "text": [
      "GS______ [SE3: size=torch.Size([6, 2]), device=cuda:0, dtype=torch.float32]\n",
      "GS[0]__ __ __  SE3: size=torch.Size([6, 2]), device=cuda:0, dtype=torch.float32\n",
      "GS[0][:,jj] SE3: size=torch.Size([6, 2]), device=cuda:0, dtype=torch.float32\n"
     ]
    },
    {
     "name": "stderr",
     "output_type": "stream",
     "text": [
      " 23%|██▎       | 310/1333 [02:21<07:36,  2.24batch/s]"
     ]
    },
    {
     "name": "stdout",
     "output_type": "stream",
     "text": [
      "GS______ [SE3: size=torch.Size([6, 2]), device=cuda:0, dtype=torch.float32]\n",
      "GS[0]__ __ __  SE3: size=torch.Size([6, 2]), device=cuda:0, dtype=torch.float32\n",
      "GS[0][:,jj] SE3: size=torch.Size([6, 2]), device=cuda:0, dtype=torch.float32\n"
     ]
    },
    {
     "name": "stderr",
     "output_type": "stream",
     "text": [
      " 23%|██▎       | 311/1333 [02:22<07:39,  2.22batch/s]"
     ]
    },
    {
     "name": "stdout",
     "output_type": "stream",
     "text": [
      "GS______ [SE3: size=torch.Size([6, 2]), device=cuda:0, dtype=torch.float32]\n",
      "GS[0]__ __ __  SE3: size=torch.Size([6, 2]), device=cuda:0, dtype=torch.float32\n",
      "GS[0][:,jj] SE3: size=torch.Size([6, 2]), device=cuda:0, dtype=torch.float32\n"
     ]
    },
    {
     "name": "stderr",
     "output_type": "stream",
     "text": [
      " 23%|██▎       | 312/1333 [02:22<07:36,  2.24batch/s]"
     ]
    },
    {
     "name": "stdout",
     "output_type": "stream",
     "text": [
      "GS______ [SE3: size=torch.Size([6, 2]), device=cuda:0, dtype=torch.float32]\n",
      "GS[0]__ __ __  SE3: size=torch.Size([6, 2]), device=cuda:0, dtype=torch.float32\n",
      "GS[0][:,jj] SE3: size=torch.Size([6, 2]), device=cuda:0, dtype=torch.float32\n"
     ]
    },
    {
     "name": "stderr",
     "output_type": "stream",
     "text": [
      " 23%|██▎       | 313/1333 [02:23<07:35,  2.24batch/s]"
     ]
    },
    {
     "name": "stdout",
     "output_type": "stream",
     "text": [
      "GS______ [SE3: size=torch.Size([6, 2]), device=cuda:0, dtype=torch.float32]\n",
      "GS[0]__ __ __  SE3: size=torch.Size([6, 2]), device=cuda:0, dtype=torch.float32\n",
      "GS[0][:,jj] SE3: size=torch.Size([6, 2]), device=cuda:0, dtype=torch.float32\n"
     ]
    },
    {
     "name": "stderr",
     "output_type": "stream",
     "text": [
      " 24%|██▎       | 314/1333 [02:23<07:33,  2.25batch/s]"
     ]
    },
    {
     "name": "stdout",
     "output_type": "stream",
     "text": [
      "GS______ [SE3: size=torch.Size([6, 2]), device=cuda:0, dtype=torch.float32]\n",
      "GS[0]__ __ __  SE3: size=torch.Size([6, 2]), device=cuda:0, dtype=torch.float32\n",
      "GS[0][:,jj] SE3: size=torch.Size([6, 2]), device=cuda:0, dtype=torch.float32\n"
     ]
    },
    {
     "name": "stderr",
     "output_type": "stream",
     "text": [
      " 24%|██▎       | 315/1333 [02:24<07:34,  2.24batch/s]"
     ]
    },
    {
     "name": "stdout",
     "output_type": "stream",
     "text": [
      "GS______ [SE3: size=torch.Size([6, 2]), device=cuda:0, dtype=torch.float32]\n",
      "GS[0]__ __ __  SE3: size=torch.Size([6, 2]), device=cuda:0, dtype=torch.float32\n",
      "GS[0][:,jj] SE3: size=torch.Size([6, 2]), device=cuda:0, dtype=torch.float32\n"
     ]
    },
    {
     "name": "stderr",
     "output_type": "stream",
     "text": [
      " 24%|██▎       | 316/1333 [02:24<07:34,  2.24batch/s]"
     ]
    },
    {
     "name": "stdout",
     "output_type": "stream",
     "text": [
      "GS______ [SE3: size=torch.Size([6, 2]), device=cuda:0, dtype=torch.float32]\n",
      "GS[0]__ __ __  SE3: size=torch.Size([6, 2]), device=cuda:0, dtype=torch.float32\n",
      "GS[0][:,jj] SE3: size=torch.Size([6, 2]), device=cuda:0, dtype=torch.float32\n"
     ]
    },
    {
     "name": "stderr",
     "output_type": "stream",
     "text": [
      " 24%|██▍       | 317/1333 [02:24<07:33,  2.24batch/s]"
     ]
    },
    {
     "name": "stdout",
     "output_type": "stream",
     "text": [
      "GS______ [SE3: size=torch.Size([6, 2]), device=cuda:0, dtype=torch.float32]\n",
      "GS[0]__ __ __  SE3: size=torch.Size([6, 2]), device=cuda:0, dtype=torch.float32\n",
      "GS[0][:,jj] SE3: size=torch.Size([6, 2]), device=cuda:0, dtype=torch.float32\n"
     ]
    },
    {
     "name": "stderr",
     "output_type": "stream",
     "text": [
      " 24%|██▍       | 318/1333 [02:25<07:33,  2.24batch/s]"
     ]
    },
    {
     "name": "stdout",
     "output_type": "stream",
     "text": [
      "GS______ [SE3: size=torch.Size([6, 2]), device=cuda:0, dtype=torch.float32]\n",
      "GS[0]__ __ __  SE3: size=torch.Size([6, 2]), device=cuda:0, dtype=torch.float32\n",
      "GS[0][:,jj] SE3: size=torch.Size([6, 2]), device=cuda:0, dtype=torch.float32\n"
     ]
    },
    {
     "name": "stderr",
     "output_type": "stream",
     "text": [
      " 24%|██▍       | 319/1333 [02:25<07:35,  2.22batch/s]"
     ]
    },
    {
     "name": "stdout",
     "output_type": "stream",
     "text": [
      "GS______ [SE3: size=torch.Size([6, 2]), device=cuda:0, dtype=torch.float32]\n",
      "GS[0]__ __ __  SE3: size=torch.Size([6, 2]), device=cuda:0, dtype=torch.float32\n",
      "GS[0][:,jj] SE3: size=torch.Size([6, 2]), device=cuda:0, dtype=torch.float32\n"
     ]
    },
    {
     "name": "stderr",
     "output_type": "stream",
     "text": [
      " 24%|██▍       | 320/1333 [02:26<07:35,  2.22batch/s]"
     ]
    },
    {
     "name": "stdout",
     "output_type": "stream",
     "text": [
      "GS______ [SE3: size=torch.Size([6, 2]), device=cuda:0, dtype=torch.float32]\n",
      "GS[0]__ __ __  SE3: size=torch.Size([6, 2]), device=cuda:0, dtype=torch.float32\n",
      "GS[0][:,jj] SE3: size=torch.Size([6, 2]), device=cuda:0, dtype=torch.float32\n"
     ]
    },
    {
     "name": "stderr",
     "output_type": "stream",
     "text": [
      " 24%|██▍       | 321/1333 [02:26<07:37,  2.21batch/s]"
     ]
    },
    {
     "name": "stdout",
     "output_type": "stream",
     "text": [
      "GS______ [SE3: size=torch.Size([6, 2]), device=cuda:0, dtype=torch.float32]\n",
      "GS[0]__ __ __  SE3: size=torch.Size([6, 2]), device=cuda:0, dtype=torch.float32\n",
      "GS[0][:,jj] SE3: size=torch.Size([6, 2]), device=cuda:0, dtype=torch.float32\n"
     ]
    },
    {
     "name": "stderr",
     "output_type": "stream",
     "text": [
      " 24%|██▍       | 322/1333 [02:27<07:38,  2.20batch/s]"
     ]
    },
    {
     "name": "stdout",
     "output_type": "stream",
     "text": [
      "GS______ [SE3: size=torch.Size([6, 2]), device=cuda:0, dtype=torch.float32]\n",
      "GS[0]__ __ __  SE3: size=torch.Size([6, 2]), device=cuda:0, dtype=torch.float32\n",
      "GS[0][:,jj] SE3: size=torch.Size([6, 2]), device=cuda:0, dtype=torch.float32\n"
     ]
    },
    {
     "name": "stderr",
     "output_type": "stream",
     "text": [
      " 24%|██▍       | 323/1333 [02:27<07:39,  2.20batch/s]"
     ]
    },
    {
     "name": "stdout",
     "output_type": "stream",
     "text": [
      "GS______ [SE3: size=torch.Size([6, 2]), device=cuda:0, dtype=torch.float32]\n",
      "GS[0]__ __ __  SE3: size=torch.Size([6, 2]), device=cuda:0, dtype=torch.float32\n",
      "GS[0][:,jj] SE3: size=torch.Size([6, 2]), device=cuda:0, dtype=torch.float32\n"
     ]
    },
    {
     "name": "stderr",
     "output_type": "stream",
     "text": [
      " 24%|██▍       | 324/1333 [02:28<07:43,  2.17batch/s]"
     ]
    },
    {
     "name": "stdout",
     "output_type": "stream",
     "text": [
      "GS______ [SE3: size=torch.Size([6, 2]), device=cuda:0, dtype=torch.float32]\n",
      "GS[0]__ __ __  SE3: size=torch.Size([6, 2]), device=cuda:0, dtype=torch.float32\n",
      "GS[0][:,jj] SE3: size=torch.Size([6, 2]), device=cuda:0, dtype=torch.float32\n"
     ]
    },
    {
     "name": "stderr",
     "output_type": "stream",
     "text": [
      " 24%|██▍       | 325/1333 [02:28<07:44,  2.17batch/s]"
     ]
    },
    {
     "name": "stdout",
     "output_type": "stream",
     "text": [
      "GS______ [SE3: size=torch.Size([6, 2]), device=cuda:0, dtype=torch.float32]\n",
      "GS[0]__ __ __  SE3: size=torch.Size([6, 2]), device=cuda:0, dtype=torch.float32\n",
      "GS[0][:,jj] SE3: size=torch.Size([6, 2]), device=cuda:0, dtype=torch.float32\n"
     ]
    },
    {
     "name": "stderr",
     "output_type": "stream",
     "text": [
      " 24%|██▍       | 326/1333 [02:29<07:41,  2.18batch/s]"
     ]
    },
    {
     "name": "stdout",
     "output_type": "stream",
     "text": [
      "GS______ [SE3: size=torch.Size([6, 2]), device=cuda:0, dtype=torch.float32]\n",
      "GS[0]__ __ __  SE3: size=torch.Size([6, 2]), device=cuda:0, dtype=torch.float32\n",
      "GS[0][:,jj] SE3: size=torch.Size([6, 2]), device=cuda:0, dtype=torch.float32\n"
     ]
    },
    {
     "name": "stderr",
     "output_type": "stream",
     "text": [
      " 25%|██▍       | 327/1333 [02:29<07:39,  2.19batch/s]"
     ]
    },
    {
     "name": "stdout",
     "output_type": "stream",
     "text": [
      "GS______ [SE3: size=torch.Size([6, 2]), device=cuda:0, dtype=torch.float32]\n",
      "GS[0]__ __ __  SE3: size=torch.Size([6, 2]), device=cuda:0, dtype=torch.float32\n",
      "GS[0][:,jj] SE3: size=torch.Size([6, 2]), device=cuda:0, dtype=torch.float32\n"
     ]
    },
    {
     "name": "stderr",
     "output_type": "stream",
     "text": [
      " 25%|██▍       | 328/1333 [02:29<07:39,  2.19batch/s]"
     ]
    },
    {
     "name": "stdout",
     "output_type": "stream",
     "text": [
      "GS______ [SE3: size=torch.Size([6, 2]), device=cuda:0, dtype=torch.float32]\n",
      "GS[0]__ __ __  SE3: size=torch.Size([6, 2]), device=cuda:0, dtype=torch.float32\n",
      "GS[0][:,jj] SE3: size=torch.Size([6, 2]), device=cuda:0, dtype=torch.float32\n"
     ]
    },
    {
     "name": "stderr",
     "output_type": "stream",
     "text": [
      " 25%|██▍       | 329/1333 [02:30<07:38,  2.19batch/s]"
     ]
    },
    {
     "name": "stdout",
     "output_type": "stream",
     "text": [
      "GS______ [SE3: size=torch.Size([6, 2]), device=cuda:0, dtype=torch.float32]\n",
      "GS[0]__ __ __  SE3: size=torch.Size([6, 2]), device=cuda:0, dtype=torch.float32\n",
      "GS[0][:,jj] SE3: size=torch.Size([6, 2]), device=cuda:0, dtype=torch.float32\n"
     ]
    },
    {
     "name": "stderr",
     "output_type": "stream",
     "text": [
      " 25%|██▍       | 330/1333 [02:30<07:39,  2.18batch/s]"
     ]
    },
    {
     "name": "stdout",
     "output_type": "stream",
     "text": [
      "GS______ [SE3: size=torch.Size([6, 2]), device=cuda:0, dtype=torch.float32]\n",
      "GS[0]__ __ __  SE3: size=torch.Size([6, 2]), device=cuda:0, dtype=torch.float32\n",
      "GS[0][:,jj] SE3: size=torch.Size([6, 2]), device=cuda:0, dtype=torch.float32\n"
     ]
    },
    {
     "name": "stderr",
     "output_type": "stream",
     "text": [
      " 25%|██▍       | 331/1333 [02:31<07:38,  2.19batch/s]"
     ]
    },
    {
     "name": "stdout",
     "output_type": "stream",
     "text": [
      "GS______ [SE3: size=torch.Size([6, 2]), device=cuda:0, dtype=torch.float32]\n",
      "GS[0]__ __ __  SE3: size=torch.Size([6, 2]), device=cuda:0, dtype=torch.float32\n",
      "GS[0][:,jj] SE3: size=torch.Size([6, 2]), device=cuda:0, dtype=torch.float32\n"
     ]
    },
    {
     "name": "stderr",
     "output_type": "stream",
     "text": [
      " 25%|██▍       | 332/1333 [02:31<07:36,  2.19batch/s]"
     ]
    },
    {
     "name": "stdout",
     "output_type": "stream",
     "text": [
      "GS______ [SE3: size=torch.Size([6, 2]), device=cuda:0, dtype=torch.float32]\n",
      "GS[0]__ __ __  SE3: size=torch.Size([6, 2]), device=cuda:0, dtype=torch.float32\n",
      "GS[0][:,jj] SE3: size=torch.Size([6, 2]), device=cuda:0, dtype=torch.float32\n"
     ]
    },
    {
     "name": "stderr",
     "output_type": "stream",
     "text": [
      " 25%|██▍       | 333/1333 [02:32<07:32,  2.21batch/s]"
     ]
    },
    {
     "name": "stdout",
     "output_type": "stream",
     "text": [
      "GS______ [SE3: size=torch.Size([6, 2]), device=cuda:0, dtype=torch.float32]\n",
      "GS[0]__ __ __  SE3: size=torch.Size([6, 2]), device=cuda:0, dtype=torch.float32\n",
      "GS[0][:,jj] SE3: size=torch.Size([6, 2]), device=cuda:0, dtype=torch.float32\n"
     ]
    },
    {
     "name": "stderr",
     "output_type": "stream",
     "text": [
      " 25%|██▌       | 334/1333 [02:32<07:32,  2.21batch/s]"
     ]
    },
    {
     "name": "stdout",
     "output_type": "stream",
     "text": [
      "GS______ [SE3: size=torch.Size([6, 2]), device=cuda:0, dtype=torch.float32]\n",
      "GS[0]__ __ __  SE3: size=torch.Size([6, 2]), device=cuda:0, dtype=torch.float32\n",
      "GS[0][:,jj] SE3: size=torch.Size([6, 2]), device=cuda:0, dtype=torch.float32\n"
     ]
    },
    {
     "name": "stderr",
     "output_type": "stream",
     "text": [
      " 25%|██▌       | 335/1333 [02:33<07:33,  2.20batch/s]"
     ]
    },
    {
     "name": "stdout",
     "output_type": "stream",
     "text": [
      "GS______ [SE3: size=torch.Size([6, 2]), device=cuda:0, dtype=torch.float32]\n",
      "GS[0]__ __ __  SE3: size=torch.Size([6, 2]), device=cuda:0, dtype=torch.float32\n",
      "GS[0][:,jj] SE3: size=torch.Size([6, 2]), device=cuda:0, dtype=torch.float32\n"
     ]
    },
    {
     "name": "stderr",
     "output_type": "stream",
     "text": [
      " 25%|██▌       | 336/1333 [02:33<07:36,  2.18batch/s]"
     ]
    },
    {
     "name": "stdout",
     "output_type": "stream",
     "text": [
      "GS______ [SE3: size=torch.Size([6, 2]), device=cuda:0, dtype=torch.float32]\n",
      "GS[0]__ __ __  SE3: size=torch.Size([6, 2]), device=cuda:0, dtype=torch.float32\n",
      "GS[0][:,jj] SE3: size=torch.Size([6, 2]), device=cuda:0, dtype=torch.float32\n"
     ]
    },
    {
     "name": "stderr",
     "output_type": "stream",
     "text": [
      " 25%|██▌       | 337/1333 [02:34<07:36,  2.18batch/s]"
     ]
    },
    {
     "name": "stdout",
     "output_type": "stream",
     "text": [
      "GS______ [SE3: size=torch.Size([6, 2]), device=cuda:0, dtype=torch.float32]\n",
      "GS[0]__ __ __  SE3: size=torch.Size([6, 2]), device=cuda:0, dtype=torch.float32\n",
      "GS[0][:,jj] SE3: size=torch.Size([6, 2]), device=cuda:0, dtype=torch.float32\n"
     ]
    },
    {
     "name": "stderr",
     "output_type": "stream",
     "text": [
      " 25%|██▌       | 338/1333 [02:34<07:34,  2.19batch/s]"
     ]
    },
    {
     "name": "stdout",
     "output_type": "stream",
     "text": [
      "GS______ [SE3: size=torch.Size([6, 2]), device=cuda:0, dtype=torch.float32]\n",
      "GS[0]__ __ __  SE3: size=torch.Size([6, 2]), device=cuda:0, dtype=torch.float32\n",
      "GS[0][:,jj] SE3: size=torch.Size([6, 2]), device=cuda:0, dtype=torch.float32\n"
     ]
    },
    {
     "name": "stderr",
     "output_type": "stream",
     "text": [
      " 25%|██▌       | 339/1333 [02:35<07:33,  2.19batch/s]"
     ]
    },
    {
     "name": "stdout",
     "output_type": "stream",
     "text": [
      "GS______ [SE3: size=torch.Size([6, 2]), device=cuda:0, dtype=torch.float32]\n",
      "GS[0]__ __ __  SE3: size=torch.Size([6, 2]), device=cuda:0, dtype=torch.float32\n",
      "GS[0][:,jj] SE3: size=torch.Size([6, 2]), device=cuda:0, dtype=torch.float32\n"
     ]
    },
    {
     "name": "stderr",
     "output_type": "stream",
     "text": [
      " 26%|██▌       | 340/1333 [02:35<07:31,  2.20batch/s]"
     ]
    },
    {
     "name": "stdout",
     "output_type": "stream",
     "text": [
      "GS______ [SE3: size=torch.Size([6, 2]), device=cuda:0, dtype=torch.float32]\n",
      "GS[0]__ __ __  SE3: size=torch.Size([6, 2]), device=cuda:0, dtype=torch.float32\n",
      "GS[0][:,jj] SE3: size=torch.Size([6, 2]), device=cuda:0, dtype=torch.float32\n"
     ]
    },
    {
     "name": "stderr",
     "output_type": "stream",
     "text": [
      " 26%|██▌       | 341/1333 [02:35<07:30,  2.20batch/s]"
     ]
    },
    {
     "name": "stdout",
     "output_type": "stream",
     "text": [
      "GS______ [SE3: size=torch.Size([6, 2]), device=cuda:0, dtype=torch.float32]\n",
      "GS[0]__ __ __  SE3: size=torch.Size([6, 2]), device=cuda:0, dtype=torch.float32\n",
      "GS[0][:,jj] SE3: size=torch.Size([6, 2]), device=cuda:0, dtype=torch.float32\n"
     ]
    },
    {
     "name": "stderr",
     "output_type": "stream",
     "text": [
      " 26%|██▌       | 342/1333 [02:36<07:26,  2.22batch/s]"
     ]
    },
    {
     "name": "stdout",
     "output_type": "stream",
     "text": [
      "GS______ [SE3: size=torch.Size([6, 2]), device=cuda:0, dtype=torch.float32]\n",
      "GS[0]__ __ __  SE3: size=torch.Size([6, 2]), device=cuda:0, dtype=torch.float32\n",
      "GS[0][:,jj] SE3: size=torch.Size([6, 2]), device=cuda:0, dtype=torch.float32\n"
     ]
    },
    {
     "name": "stderr",
     "output_type": "stream",
     "text": [
      " 26%|██▌       | 343/1333 [02:36<07:31,  2.19batch/s]"
     ]
    },
    {
     "name": "stdout",
     "output_type": "stream",
     "text": [
      "GS______ [SE3: size=torch.Size([6, 2]), device=cuda:0, dtype=torch.float32]\n",
      "GS[0]__ __ __  SE3: size=torch.Size([6, 2]), device=cuda:0, dtype=torch.float32\n",
      "GS[0][:,jj] SE3: size=torch.Size([6, 2]), device=cuda:0, dtype=torch.float32\n"
     ]
    },
    {
     "name": "stderr",
     "output_type": "stream",
     "text": [
      " 26%|██▌       | 344/1333 [02:37<07:28,  2.20batch/s]"
     ]
    },
    {
     "name": "stdout",
     "output_type": "stream",
     "text": [
      "GS______ [SE3: size=torch.Size([6, 2]), device=cuda:0, dtype=torch.float32]\n",
      "GS[0]__ __ __  SE3: size=torch.Size([6, 2]), device=cuda:0, dtype=torch.float32\n",
      "GS[0][:,jj] SE3: size=torch.Size([6, 2]), device=cuda:0, dtype=torch.float32\n"
     ]
    },
    {
     "name": "stderr",
     "output_type": "stream",
     "text": [
      " 26%|██▌       | 345/1333 [02:37<07:29,  2.20batch/s]"
     ]
    },
    {
     "name": "stdout",
     "output_type": "stream",
     "text": [
      "GS______ [SE3: size=torch.Size([6, 2]), device=cuda:0, dtype=torch.float32]\n",
      "GS[0]__ __ __  SE3: size=torch.Size([6, 2]), device=cuda:0, dtype=torch.float32\n",
      "GS[0][:,jj] SE3: size=torch.Size([6, 2]), device=cuda:0, dtype=torch.float32\n"
     ]
    },
    {
     "name": "stderr",
     "output_type": "stream",
     "text": [
      " 26%|██▌       | 346/1333 [02:38<07:26,  2.21batch/s]"
     ]
    },
    {
     "name": "stdout",
     "output_type": "stream",
     "text": [
      "GS______ [SE3: size=torch.Size([6, 2]), device=cuda:0, dtype=torch.float32]\n",
      "GS[0]__ __ __  SE3: size=torch.Size([6, 2]), device=cuda:0, dtype=torch.float32\n",
      "GS[0][:,jj] SE3: size=torch.Size([6, 2]), device=cuda:0, dtype=torch.float32\n"
     ]
    },
    {
     "name": "stderr",
     "output_type": "stream",
     "text": [
      " 26%|██▌       | 347/1333 [02:38<07:24,  2.22batch/s]"
     ]
    },
    {
     "name": "stdout",
     "output_type": "stream",
     "text": [
      "GS______ [SE3: size=torch.Size([6, 2]), device=cuda:0, dtype=torch.float32]\n",
      "GS[0]__ __ __  SE3: size=torch.Size([6, 2]), device=cuda:0, dtype=torch.float32\n",
      "GS[0][:,jj] SE3: size=torch.Size([6, 2]), device=cuda:0, dtype=torch.float32\n"
     ]
    },
    {
     "name": "stderr",
     "output_type": "stream",
     "text": [
      " 26%|██▌       | 348/1333 [02:39<07:25,  2.21batch/s]"
     ]
    },
    {
     "name": "stdout",
     "output_type": "stream",
     "text": [
      "GS______ [SE3: size=torch.Size([6, 2]), device=cuda:0, dtype=torch.float32]\n",
      "GS[0]__ __ __  SE3: size=torch.Size([6, 2]), device=cuda:0, dtype=torch.float32\n",
      "GS[0][:,jj] SE3: size=torch.Size([6, 2]), device=cuda:0, dtype=torch.float32\n"
     ]
    },
    {
     "name": "stderr",
     "output_type": "stream",
     "text": [
      " 26%|██▌       | 349/1333 [02:39<07:28,  2.19batch/s]"
     ]
    },
    {
     "name": "stdout",
     "output_type": "stream",
     "text": [
      "GS______ [SE3: size=torch.Size([6, 2]), device=cuda:0, dtype=torch.float32]\n",
      "GS[0]__ __ __  SE3: size=torch.Size([6, 2]), device=cuda:0, dtype=torch.float32\n",
      "GS[0][:,jj] SE3: size=torch.Size([6, 2]), device=cuda:0, dtype=torch.float32\n"
     ]
    },
    {
     "name": "stderr",
     "output_type": "stream",
     "text": [
      " 26%|██▋       | 350/1333 [02:39<07:28,  2.19batch/s]"
     ]
    },
    {
     "name": "stdout",
     "output_type": "stream",
     "text": [
      "GS______ [SE3: size=torch.Size([6, 2]), device=cuda:0, dtype=torch.float32]\n",
      "GS[0]__ __ __  SE3: size=torch.Size([6, 2]), device=cuda:0, dtype=torch.float32\n",
      "GS[0][:,jj] SE3: size=torch.Size([6, 2]), device=cuda:0, dtype=torch.float32\n"
     ]
    },
    {
     "name": "stderr",
     "output_type": "stream",
     "text": [
      " 26%|██▋       | 351/1333 [02:40<07:27,  2.19batch/s]"
     ]
    },
    {
     "name": "stdout",
     "output_type": "stream",
     "text": [
      "GS______ [SE3: size=torch.Size([6, 2]), device=cuda:0, dtype=torch.float32]\n",
      "GS[0]__ __ __  SE3: size=torch.Size([6, 2]), device=cuda:0, dtype=torch.float32\n",
      "GS[0][:,jj] SE3: size=torch.Size([6, 2]), device=cuda:0, dtype=torch.float32\n"
     ]
    },
    {
     "name": "stderr",
     "output_type": "stream",
     "text": [
      " 26%|██▋       | 352/1333 [02:40<07:25,  2.20batch/s]"
     ]
    },
    {
     "name": "stdout",
     "output_type": "stream",
     "text": [
      "GS______ [SE3: size=torch.Size([6, 2]), device=cuda:0, dtype=torch.float32]\n",
      "GS[0]__ __ __  SE3: size=torch.Size([6, 2]), device=cuda:0, dtype=torch.float32\n",
      "GS[0][:,jj] SE3: size=torch.Size([6, 2]), device=cuda:0, dtype=torch.float32\n"
     ]
    },
    {
     "name": "stderr",
     "output_type": "stream",
     "text": [
      " 26%|██▋       | 353/1333 [02:41<07:26,  2.19batch/s]"
     ]
    },
    {
     "name": "stdout",
     "output_type": "stream",
     "text": [
      "GS______ [SE3: size=torch.Size([6, 2]), device=cuda:0, dtype=torch.float32]\n",
      "GS[0]__ __ __  SE3: size=torch.Size([6, 2]), device=cuda:0, dtype=torch.float32\n",
      "GS[0][:,jj] SE3: size=torch.Size([6, 2]), device=cuda:0, dtype=torch.float32\n"
     ]
    },
    {
     "name": "stderr",
     "output_type": "stream",
     "text": [
      " 27%|██▋       | 354/1333 [02:41<07:27,  2.19batch/s]"
     ]
    },
    {
     "name": "stdout",
     "output_type": "stream",
     "text": [
      "GS______ [SE3: size=torch.Size([6, 2]), device=cuda:0, dtype=torch.float32]\n",
      "GS[0]__ __ __  SE3: size=torch.Size([6, 2]), device=cuda:0, dtype=torch.float32\n",
      "GS[0][:,jj] SE3: size=torch.Size([6, 2]), device=cuda:0, dtype=torch.float32\n"
     ]
    },
    {
     "name": "stderr",
     "output_type": "stream",
     "text": [
      " 27%|██▋       | 355/1333 [02:42<07:29,  2.18batch/s]"
     ]
    },
    {
     "name": "stdout",
     "output_type": "stream",
     "text": [
      "GS______ [SE3: size=torch.Size([6, 2]), device=cuda:0, dtype=torch.float32]\n",
      "GS[0]__ __ __  SE3: size=torch.Size([6, 2]), device=cuda:0, dtype=torch.float32\n",
      "GS[0][:,jj] SE3: size=torch.Size([6, 2]), device=cuda:0, dtype=torch.float32\n"
     ]
    },
    {
     "name": "stderr",
     "output_type": "stream",
     "text": [
      " 27%|██▋       | 356/1333 [02:42<07:26,  2.19batch/s]"
     ]
    },
    {
     "name": "stdout",
     "output_type": "stream",
     "text": [
      "GS______ [SE3: size=torch.Size([6, 2]), device=cuda:0, dtype=torch.float32]\n",
      "GS[0]__ __ __  SE3: size=torch.Size([6, 2]), device=cuda:0, dtype=torch.float32\n",
      "GS[0][:,jj] SE3: size=torch.Size([6, 2]), device=cuda:0, dtype=torch.float32\n"
     ]
    },
    {
     "name": "stderr",
     "output_type": "stream",
     "text": [
      " 27%|██▋       | 357/1333 [02:43<07:26,  2.19batch/s]"
     ]
    },
    {
     "name": "stdout",
     "output_type": "stream",
     "text": [
      "GS______ [SE3: size=torch.Size([6, 2]), device=cuda:0, dtype=torch.float32]\n",
      "GS[0]__ __ __  SE3: size=torch.Size([6, 2]), device=cuda:0, dtype=torch.float32\n",
      "GS[0][:,jj] SE3: size=torch.Size([6, 2]), device=cuda:0, dtype=torch.float32\n"
     ]
    },
    {
     "name": "stderr",
     "output_type": "stream",
     "text": [
      " 27%|██▋       | 358/1333 [02:43<07:26,  2.18batch/s]"
     ]
    },
    {
     "name": "stdout",
     "output_type": "stream",
     "text": [
      "GS______ [SE3: size=torch.Size([6, 2]), device=cuda:0, dtype=torch.float32]\n",
      "GS[0]__ __ __  SE3: size=torch.Size([6, 2]), device=cuda:0, dtype=torch.float32\n",
      "GS[0][:,jj] SE3: size=torch.Size([6, 2]), device=cuda:0, dtype=torch.float32\n"
     ]
    },
    {
     "name": "stderr",
     "output_type": "stream",
     "text": [
      " 27%|██▋       | 359/1333 [02:44<07:27,  2.18batch/s]"
     ]
    },
    {
     "name": "stdout",
     "output_type": "stream",
     "text": [
      "GS______ [SE3: size=torch.Size([6, 2]), device=cuda:0, dtype=torch.float32]\n",
      "GS[0]__ __ __  SE3: size=torch.Size([6, 2]), device=cuda:0, dtype=torch.float32\n",
      "GS[0][:,jj] SE3: size=torch.Size([6, 2]), device=cuda:0, dtype=torch.float32\n"
     ]
    },
    {
     "name": "stderr",
     "output_type": "stream",
     "text": [
      " 27%|██▋       | 360/1333 [02:44<07:23,  2.19batch/s]"
     ]
    },
    {
     "name": "stdout",
     "output_type": "stream",
     "text": [
      "GS______ [SE3: size=torch.Size([6, 2]), device=cuda:0, dtype=torch.float32]\n",
      "GS[0]__ __ __  SE3: size=torch.Size([6, 2]), device=cuda:0, dtype=torch.float32\n",
      "GS[0][:,jj] SE3: size=torch.Size([6, 2]), device=cuda:0, dtype=torch.float32\n"
     ]
    },
    {
     "name": "stderr",
     "output_type": "stream",
     "text": [
      " 27%|██▋       | 361/1333 [02:45<07:26,  2.18batch/s]"
     ]
    },
    {
     "name": "stdout",
     "output_type": "stream",
     "text": [
      "GS______ [SE3: size=torch.Size([6, 2]), device=cuda:0, dtype=torch.float32]\n",
      "GS[0]__ __ __  SE3: size=torch.Size([6, 2]), device=cuda:0, dtype=torch.float32\n",
      "GS[0][:,jj] SE3: size=torch.Size([6, 2]), device=cuda:0, dtype=torch.float32\n"
     ]
    },
    {
     "name": "stderr",
     "output_type": "stream",
     "text": [
      " 27%|██▋       | 362/1333 [02:45<07:24,  2.18batch/s]"
     ]
    },
    {
     "name": "stdout",
     "output_type": "stream",
     "text": [
      "GS______ [SE3: size=torch.Size([6, 2]), device=cuda:0, dtype=torch.float32]\n",
      "GS[0]__ __ __  SE3: size=torch.Size([6, 2]), device=cuda:0, dtype=torch.float32\n",
      "GS[0][:,jj] SE3: size=torch.Size([6, 2]), device=cuda:0, dtype=torch.float32\n"
     ]
    },
    {
     "name": "stderr",
     "output_type": "stream",
     "text": [
      " 27%|██▋       | 363/1333 [02:45<07:27,  2.17batch/s]"
     ]
    },
    {
     "name": "stdout",
     "output_type": "stream",
     "text": [
      "GS______ [SE3: size=torch.Size([6, 2]), device=cuda:0, dtype=torch.float32]\n",
      "GS[0]__ __ __  SE3: size=torch.Size([6, 2]), device=cuda:0, dtype=torch.float32\n",
      "GS[0][:,jj] SE3: size=torch.Size([6, 2]), device=cuda:0, dtype=torch.float32\n"
     ]
    },
    {
     "name": "stderr",
     "output_type": "stream",
     "text": [
      " 27%|██▋       | 364/1333 [02:46<07:24,  2.18batch/s]"
     ]
    },
    {
     "name": "stdout",
     "output_type": "stream",
     "text": [
      "GS______ [SE3: size=torch.Size([6, 2]), device=cuda:0, dtype=torch.float32]\n",
      "GS[0]__ __ __  SE3: size=torch.Size([6, 2]), device=cuda:0, dtype=torch.float32\n",
      "GS[0][:,jj] SE3: size=torch.Size([6, 2]), device=cuda:0, dtype=torch.float32\n"
     ]
    },
    {
     "name": "stderr",
     "output_type": "stream",
     "text": [
      " 27%|██▋       | 365/1333 [02:46<07:20,  2.20batch/s]"
     ]
    },
    {
     "name": "stdout",
     "output_type": "stream",
     "text": [
      "GS______ [SE3: size=torch.Size([6, 2]), device=cuda:0, dtype=torch.float32]\n",
      "GS[0]__ __ __  SE3: size=torch.Size([6, 2]), device=cuda:0, dtype=torch.float32\n",
      "GS[0][:,jj] SE3: size=torch.Size([6, 2]), device=cuda:0, dtype=torch.float32\n"
     ]
    },
    {
     "name": "stderr",
     "output_type": "stream",
     "text": [
      " 27%|██▋       | 366/1333 [02:47<07:17,  2.21batch/s]"
     ]
    },
    {
     "name": "stdout",
     "output_type": "stream",
     "text": [
      "GS______ [SE3: size=torch.Size([6, 2]), device=cuda:0, dtype=torch.float32]\n",
      "GS[0]__ __ __  SE3: size=torch.Size([6, 2]), device=cuda:0, dtype=torch.float32\n",
      "GS[0][:,jj] SE3: size=torch.Size([6, 2]), device=cuda:0, dtype=torch.float32\n"
     ]
    },
    {
     "name": "stderr",
     "output_type": "stream",
     "text": [
      " 28%|██▊       | 367/1333 [02:47<07:17,  2.21batch/s]"
     ]
    },
    {
     "name": "stdout",
     "output_type": "stream",
     "text": [
      "GS______ [SE3: size=torch.Size([6, 2]), device=cuda:0, dtype=torch.float32]\n",
      "GS[0]__ __ __  SE3: size=torch.Size([6, 2]), device=cuda:0, dtype=torch.float32\n",
      "GS[0][:,jj] SE3: size=torch.Size([6, 2]), device=cuda:0, dtype=torch.float32\n"
     ]
    },
    {
     "name": "stderr",
     "output_type": "stream",
     "text": [
      " 28%|██▊       | 368/1333 [02:48<07:14,  2.22batch/s]"
     ]
    },
    {
     "name": "stdout",
     "output_type": "stream",
     "text": [
      "GS______ [SE3: size=torch.Size([6, 2]), device=cuda:0, dtype=torch.float32]\n",
      "GS[0]__ __ __  SE3: size=torch.Size([6, 2]), device=cuda:0, dtype=torch.float32\n",
      "GS[0][:,jj] SE3: size=torch.Size([6, 2]), device=cuda:0, dtype=torch.float32\n"
     ]
    },
    {
     "name": "stderr",
     "output_type": "stream",
     "text": [
      " 28%|██▊       | 369/1333 [02:48<07:15,  2.21batch/s]"
     ]
    },
    {
     "name": "stdout",
     "output_type": "stream",
     "text": [
      "GS______ [SE3: size=torch.Size([6, 2]), device=cuda:0, dtype=torch.float32]\n",
      "GS[0]__ __ __  SE3: size=torch.Size([6, 2]), device=cuda:0, dtype=torch.float32\n",
      "GS[0][:,jj] SE3: size=torch.Size([6, 2]), device=cuda:0, dtype=torch.float32\n"
     ]
    },
    {
     "name": "stderr",
     "output_type": "stream",
     "text": [
      " 28%|██▊       | 370/1333 [02:49<07:12,  2.23batch/s]"
     ]
    },
    {
     "name": "stdout",
     "output_type": "stream",
     "text": [
      "GS______ [SE3: size=torch.Size([6, 2]), device=cuda:0, dtype=torch.float32]\n",
      "GS[0]__ __ __  SE3: size=torch.Size([6, 2]), device=cuda:0, dtype=torch.float32\n",
      "GS[0][:,jj] SE3: size=torch.Size([6, 2]), device=cuda:0, dtype=torch.float32\n"
     ]
    },
    {
     "name": "stderr",
     "output_type": "stream",
     "text": [
      " 28%|██▊       | 371/1333 [02:49<07:11,  2.23batch/s]"
     ]
    },
    {
     "name": "stdout",
     "output_type": "stream",
     "text": [
      "GS______ [SE3: size=torch.Size([6, 2]), device=cuda:0, dtype=torch.float32]\n",
      "GS[0]__ __ __  SE3: size=torch.Size([6, 2]), device=cuda:0, dtype=torch.float32\n",
      "GS[0][:,jj] SE3: size=torch.Size([6, 2]), device=cuda:0, dtype=torch.float32\n"
     ]
    },
    {
     "name": "stderr",
     "output_type": "stream",
     "text": [
      " 28%|██▊       | 372/1333 [02:49<07:10,  2.23batch/s]"
     ]
    },
    {
     "name": "stdout",
     "output_type": "stream",
     "text": [
      "GS______ [SE3: size=torch.Size([6, 2]), device=cuda:0, dtype=torch.float32]\n",
      "GS[0]__ __ __  SE3: size=torch.Size([6, 2]), device=cuda:0, dtype=torch.float32\n",
      "GS[0][:,jj] SE3: size=torch.Size([6, 2]), device=cuda:0, dtype=torch.float32\n"
     ]
    },
    {
     "name": "stderr",
     "output_type": "stream",
     "text": [
      " 28%|██▊       | 373/1333 [02:50<07:09,  2.24batch/s]"
     ]
    },
    {
     "name": "stdout",
     "output_type": "stream",
     "text": [
      "GS______ [SE3: size=torch.Size([6, 2]), device=cuda:0, dtype=torch.float32]\n",
      "GS[0]__ __ __  SE3: size=torch.Size([6, 2]), device=cuda:0, dtype=torch.float32\n",
      "GS[0][:,jj] SE3: size=torch.Size([6, 2]), device=cuda:0, dtype=torch.float32\n"
     ]
    },
    {
     "name": "stderr",
     "output_type": "stream",
     "text": [
      " 28%|██▊       | 374/1333 [02:50<07:07,  2.24batch/s]"
     ]
    },
    {
     "name": "stdout",
     "output_type": "stream",
     "text": [
      "GS______ [SE3: size=torch.Size([6, 2]), device=cuda:0, dtype=torch.float32]\n",
      "GS[0]__ __ __  SE3: size=torch.Size([6, 2]), device=cuda:0, dtype=torch.float32\n",
      "GS[0][:,jj] SE3: size=torch.Size([6, 2]), device=cuda:0, dtype=torch.float32\n"
     ]
    },
    {
     "name": "stderr",
     "output_type": "stream",
     "text": [
      " 28%|██▊       | 375/1333 [02:51<07:10,  2.23batch/s]"
     ]
    },
    {
     "name": "stdout",
     "output_type": "stream",
     "text": [
      "GS______ [SE3: size=torch.Size([6, 2]), device=cuda:0, dtype=torch.float32]\n",
      "GS[0]__ __ __  SE3: size=torch.Size([6, 2]), device=cuda:0, dtype=torch.float32\n",
      "GS[0][:,jj] SE3: size=torch.Size([6, 2]), device=cuda:0, dtype=torch.float32\n"
     ]
    },
    {
     "name": "stderr",
     "output_type": "stream",
     "text": [
      " 28%|██▊       | 376/1333 [02:51<07:09,  2.23batch/s]"
     ]
    },
    {
     "name": "stdout",
     "output_type": "stream",
     "text": [
      "GS______ [SE3: size=torch.Size([6, 2]), device=cuda:0, dtype=torch.float32]\n",
      "GS[0]__ __ __  SE3: size=torch.Size([6, 2]), device=cuda:0, dtype=torch.float32\n",
      "GS[0][:,jj] SE3: size=torch.Size([6, 2]), device=cuda:0, dtype=torch.float32\n"
     ]
    },
    {
     "name": "stderr",
     "output_type": "stream",
     "text": [
      " 28%|██▊       | 377/1333 [02:52<07:09,  2.22batch/s]"
     ]
    },
    {
     "name": "stdout",
     "output_type": "stream",
     "text": [
      "GS______ [SE3: size=torch.Size([6, 2]), device=cuda:0, dtype=torch.float32]\n",
      "GS[0]__ __ __  SE3: size=torch.Size([6, 2]), device=cuda:0, dtype=torch.float32\n",
      "GS[0][:,jj] SE3: size=torch.Size([6, 2]), device=cuda:0, dtype=torch.float32\n"
     ]
    },
    {
     "name": "stderr",
     "output_type": "stream",
     "text": [
      " 28%|██▊       | 378/1333 [02:52<07:09,  2.22batch/s]"
     ]
    },
    {
     "name": "stdout",
     "output_type": "stream",
     "text": [
      "GS______ [SE3: size=torch.Size([6, 2]), device=cuda:0, dtype=torch.float32]\n",
      "GS[0]__ __ __  SE3: size=torch.Size([6, 2]), device=cuda:0, dtype=torch.float32\n",
      "GS[0][:,jj] SE3: size=torch.Size([6, 2]), device=cuda:0, dtype=torch.float32\n"
     ]
    },
    {
     "name": "stderr",
     "output_type": "stream",
     "text": [
      " 28%|██▊       | 379/1333 [02:53<07:08,  2.22batch/s]"
     ]
    },
    {
     "name": "stdout",
     "output_type": "stream",
     "text": [
      "GS______ [SE3: size=torch.Size([6, 2]), device=cuda:0, dtype=torch.float32]\n",
      "GS[0]__ __ __  SE3: size=torch.Size([6, 2]), device=cuda:0, dtype=torch.float32\n",
      "GS[0][:,jj] SE3: size=torch.Size([6, 2]), device=cuda:0, dtype=torch.float32\n"
     ]
    },
    {
     "name": "stderr",
     "output_type": "stream",
     "text": [
      " 29%|██▊       | 380/1333 [02:53<07:08,  2.22batch/s]"
     ]
    },
    {
     "name": "stdout",
     "output_type": "stream",
     "text": [
      "GS______ [SE3: size=torch.Size([6, 2]), device=cuda:0, dtype=torch.float32]\n",
      "GS[0]__ __ __  SE3: size=torch.Size([6, 2]), device=cuda:0, dtype=torch.float32\n",
      "GS[0][:,jj] SE3: size=torch.Size([6, 2]), device=cuda:0, dtype=torch.float32\n"
     ]
    },
    {
     "name": "stderr",
     "output_type": "stream",
     "text": [
      " 29%|██▊       | 381/1333 [02:54<07:10,  2.21batch/s]"
     ]
    },
    {
     "name": "stdout",
     "output_type": "stream",
     "text": [
      "GS______ [SE3: size=torch.Size([6, 2]), device=cuda:0, dtype=torch.float32]\n",
      "GS[0]__ __ __  SE3: size=torch.Size([6, 2]), device=cuda:0, dtype=torch.float32\n",
      "GS[0][:,jj] SE3: size=torch.Size([6, 2]), device=cuda:0, dtype=torch.float32\n"
     ]
    },
    {
     "name": "stderr",
     "output_type": "stream",
     "text": [
      " 29%|██▊       | 382/1333 [02:54<07:05,  2.24batch/s]"
     ]
    },
    {
     "name": "stdout",
     "output_type": "stream",
     "text": [
      "GS______ [SE3: size=torch.Size([6, 2]), device=cuda:0, dtype=torch.float32]\n",
      "GS[0]__ __ __  SE3: size=torch.Size([6, 2]), device=cuda:0, dtype=torch.float32\n",
      "GS[0][:,jj] SE3: size=torch.Size([6, 2]), device=cuda:0, dtype=torch.float32\n"
     ]
    },
    {
     "name": "stderr",
     "output_type": "stream",
     "text": [
      " 29%|██▊       | 383/1333 [02:54<07:07,  2.22batch/s]"
     ]
    },
    {
     "name": "stdout",
     "output_type": "stream",
     "text": [
      "GS______ [SE3: size=torch.Size([6, 2]), device=cuda:0, dtype=torch.float32]\n",
      "GS[0]__ __ __  SE3: size=torch.Size([6, 2]), device=cuda:0, dtype=torch.float32\n",
      "GS[0][:,jj] SE3: size=torch.Size([6, 2]), device=cuda:0, dtype=torch.float32\n"
     ]
    },
    {
     "name": "stderr",
     "output_type": "stream",
     "text": [
      " 29%|██▉       | 384/1333 [02:55<07:05,  2.23batch/s]"
     ]
    },
    {
     "name": "stdout",
     "output_type": "stream",
     "text": [
      "GS______ [SE3: size=torch.Size([6, 2]), device=cuda:0, dtype=torch.float32]\n",
      "GS[0]__ __ __  SE3: size=torch.Size([6, 2]), device=cuda:0, dtype=torch.float32\n",
      "GS[0][:,jj] SE3: size=torch.Size([6, 2]), device=cuda:0, dtype=torch.float32\n"
     ]
    },
    {
     "name": "stderr",
     "output_type": "stream",
     "text": [
      " 29%|██▉       | 385/1333 [02:55<07:02,  2.24batch/s]"
     ]
    },
    {
     "name": "stdout",
     "output_type": "stream",
     "text": [
      "GS______ [SE3: size=torch.Size([6, 2]), device=cuda:0, dtype=torch.float32]\n",
      "GS[0]__ __ __  SE3: size=torch.Size([6, 2]), device=cuda:0, dtype=torch.float32\n",
      "GS[0][:,jj] SE3: size=torch.Size([6, 2]), device=cuda:0, dtype=torch.float32\n"
     ]
    },
    {
     "name": "stderr",
     "output_type": "stream",
     "text": [
      " 29%|██▉       | 386/1333 [02:56<07:02,  2.24batch/s]"
     ]
    },
    {
     "name": "stdout",
     "output_type": "stream",
     "text": [
      "GS______ [SE3: size=torch.Size([6, 2]), device=cuda:0, dtype=torch.float32]\n",
      "GS[0]__ __ __  SE3: size=torch.Size([6, 2]), device=cuda:0, dtype=torch.float32\n",
      "GS[0][:,jj] SE3: size=torch.Size([6, 2]), device=cuda:0, dtype=torch.float32\n"
     ]
    },
    {
     "name": "stderr",
     "output_type": "stream",
     "text": [
      " 29%|██▉       | 387/1333 [02:56<07:08,  2.21batch/s]"
     ]
    },
    {
     "name": "stdout",
     "output_type": "stream",
     "text": [
      "GS______ [SE3: size=torch.Size([6, 2]), device=cuda:0, dtype=torch.float32]\n",
      "GS[0]__ __ __  SE3: size=torch.Size([6, 2]), device=cuda:0, dtype=torch.float32\n",
      "GS[0][:,jj] SE3: size=torch.Size([6, 2]), device=cuda:0, dtype=torch.float32\n"
     ]
    },
    {
     "name": "stderr",
     "output_type": "stream",
     "text": [
      " 29%|██▉       | 388/1333 [02:57<07:08,  2.20batch/s]"
     ]
    },
    {
     "name": "stdout",
     "output_type": "stream",
     "text": [
      "GS______ [SE3: size=torch.Size([6, 2]), device=cuda:0, dtype=torch.float32]\n",
      "GS[0]__ __ __  SE3: size=torch.Size([6, 2]), device=cuda:0, dtype=torch.float32\n",
      "GS[0][:,jj] SE3: size=torch.Size([6, 2]), device=cuda:0, dtype=torch.float32\n"
     ]
    },
    {
     "name": "stderr",
     "output_type": "stream",
     "text": [
      " 29%|██▉       | 389/1333 [02:57<07:08,  2.20batch/s]"
     ]
    },
    {
     "name": "stdout",
     "output_type": "stream",
     "text": [
      "GS______ [SE3: size=torch.Size([6, 2]), device=cuda:0, dtype=torch.float32]\n",
      "GS[0]__ __ __  SE3: size=torch.Size([6, 2]), device=cuda:0, dtype=torch.float32\n",
      "GS[0][:,jj] SE3: size=torch.Size([6, 2]), device=cuda:0, dtype=torch.float32\n"
     ]
    },
    {
     "name": "stderr",
     "output_type": "stream",
     "text": [
      " 29%|██▉       | 390/1333 [02:58<07:07,  2.21batch/s]"
     ]
    },
    {
     "name": "stdout",
     "output_type": "stream",
     "text": [
      "GS______ [SE3: size=torch.Size([6, 2]), device=cuda:0, dtype=torch.float32]\n",
      "GS[0]__ __ __  SE3: size=torch.Size([6, 2]), device=cuda:0, dtype=torch.float32\n",
      "GS[0][:,jj] SE3: size=torch.Size([6, 2]), device=cuda:0, dtype=torch.float32\n"
     ]
    },
    {
     "name": "stderr",
     "output_type": "stream",
     "text": [
      " 29%|██▉       | 391/1333 [02:58<07:07,  2.20batch/s]"
     ]
    },
    {
     "name": "stdout",
     "output_type": "stream",
     "text": [
      "GS______ [SE3: size=torch.Size([6, 2]), device=cuda:0, dtype=torch.float32]\n",
      "GS[0]__ __ __  SE3: size=torch.Size([6, 2]), device=cuda:0, dtype=torch.float32\n",
      "GS[0][:,jj] SE3: size=torch.Size([6, 2]), device=cuda:0, dtype=torch.float32\n"
     ]
    },
    {
     "name": "stderr",
     "output_type": "stream",
     "text": [
      " 29%|██▉       | 392/1333 [02:59<07:13,  2.17batch/s]"
     ]
    },
    {
     "name": "stdout",
     "output_type": "stream",
     "text": [
      "GS______ [SE3: size=torch.Size([6, 2]), device=cuda:0, dtype=torch.float32]\n",
      "GS[0]__ __ __  SE3: size=torch.Size([6, 2]), device=cuda:0, dtype=torch.float32\n",
      "GS[0][:,jj] SE3: size=torch.Size([6, 2]), device=cuda:0, dtype=torch.float32\n"
     ]
    },
    {
     "name": "stderr",
     "output_type": "stream",
     "text": [
      " 29%|██▉       | 393/1333 [02:59<07:11,  2.18batch/s]"
     ]
    },
    {
     "name": "stdout",
     "output_type": "stream",
     "text": [
      "GS______ [SE3: size=torch.Size([6, 2]), device=cuda:0, dtype=torch.float32]\n",
      "GS[0]__ __ __  SE3: size=torch.Size([6, 2]), device=cuda:0, dtype=torch.float32\n",
      "GS[0][:,jj] SE3: size=torch.Size([6, 2]), device=cuda:0, dtype=torch.float32\n"
     ]
    },
    {
     "name": "stderr",
     "output_type": "stream",
     "text": [
      " 30%|██▉       | 394/1333 [02:59<07:12,  2.17batch/s]"
     ]
    },
    {
     "name": "stdout",
     "output_type": "stream",
     "text": [
      "GS______ [SE3: size=torch.Size([6, 2]), device=cuda:0, dtype=torch.float32]\n",
      "GS[0]__ __ __  SE3: size=torch.Size([6, 2]), device=cuda:0, dtype=torch.float32\n",
      "GS[0][:,jj] SE3: size=torch.Size([6, 2]), device=cuda:0, dtype=torch.float32\n"
     ]
    },
    {
     "name": "stderr",
     "output_type": "stream",
     "text": [
      " 30%|██▉       | 395/1333 [03:00<07:14,  2.16batch/s]"
     ]
    },
    {
     "name": "stdout",
     "output_type": "stream",
     "text": [
      "GS______ [SE3: size=torch.Size([6, 2]), device=cuda:0, dtype=torch.float32]\n",
      "GS[0]__ __ __  SE3: size=torch.Size([6, 2]), device=cuda:0, dtype=torch.float32\n",
      "GS[0][:,jj] SE3: size=torch.Size([6, 2]), device=cuda:0, dtype=torch.float32\n"
     ]
    },
    {
     "name": "stderr",
     "output_type": "stream",
     "text": [
      " 30%|██▉       | 396/1333 [03:00<07:11,  2.17batch/s]"
     ]
    },
    {
     "name": "stdout",
     "output_type": "stream",
     "text": [
      "GS______ [SE3: size=torch.Size([6, 2]), device=cuda:0, dtype=torch.float32]\n",
      "GS[0]__ __ __  SE3: size=torch.Size([6, 2]), device=cuda:0, dtype=torch.float32\n",
      "GS[0][:,jj] SE3: size=torch.Size([6, 2]), device=cuda:0, dtype=torch.float32\n"
     ]
    },
    {
     "name": "stderr",
     "output_type": "stream",
     "text": [
      " 30%|██▉       | 397/1333 [03:01<07:11,  2.17batch/s]"
     ]
    },
    {
     "name": "stdout",
     "output_type": "stream",
     "text": [
      "GS______ [SE3: size=torch.Size([6, 2]), device=cuda:0, dtype=torch.float32]\n",
      "GS[0]__ __ __  SE3: size=torch.Size([6, 2]), device=cuda:0, dtype=torch.float32\n",
      "GS[0][:,jj] SE3: size=torch.Size([6, 2]), device=cuda:0, dtype=torch.float32\n"
     ]
    },
    {
     "name": "stderr",
     "output_type": "stream",
     "text": [
      " 30%|██▉       | 398/1333 [03:01<07:16,  2.14batch/s]"
     ]
    },
    {
     "name": "stdout",
     "output_type": "stream",
     "text": [
      "GS______ [SE3: size=torch.Size([6, 2]), device=cuda:0, dtype=torch.float32]\n",
      "GS[0]__ __ __  SE3: size=torch.Size([6, 2]), device=cuda:0, dtype=torch.float32\n",
      "GS[0][:,jj] SE3: size=torch.Size([6, 2]), device=cuda:0, dtype=torch.float32\n"
     ]
    },
    {
     "name": "stderr",
     "output_type": "stream",
     "text": [
      " 30%|██▉       | 399/1333 [03:02<07:15,  2.15batch/s]"
     ]
    },
    {
     "name": "stdout",
     "output_type": "stream",
     "text": [
      "GS______ [SE3: size=torch.Size([6, 2]), device=cuda:0, dtype=torch.float32]\n",
      "GS[0]__ __ __  SE3: size=torch.Size([6, 2]), device=cuda:0, dtype=torch.float32\n",
      "GS[0][:,jj] SE3: size=torch.Size([6, 2]), device=cuda:0, dtype=torch.float32\n"
     ]
    },
    {
     "name": "stderr",
     "output_type": "stream",
     "text": [
      " 30%|███       | 400/1333 [03:02<07:13,  2.15batch/s]"
     ]
    },
    {
     "name": "stdout",
     "output_type": "stream",
     "text": [
      "GS______ [SE3: size=torch.Size([6, 2]), device=cuda:0, dtype=torch.float32]\n",
      "GS[0]__ __ __  SE3: size=torch.Size([6, 2]), device=cuda:0, dtype=torch.float32\n",
      "GS[0][:,jj] SE3: size=torch.Size([6, 2]), device=cuda:0, dtype=torch.float32\n"
     ]
    },
    {
     "name": "stderr",
     "output_type": "stream",
     "text": [
      " 30%|███       | 401/1333 [03:03<07:12,  2.15batch/s]"
     ]
    },
    {
     "name": "stdout",
     "output_type": "stream",
     "text": [
      "GS______ [SE3: size=torch.Size([6, 2]), device=cuda:0, dtype=torch.float32]\n",
      "GS[0]__ __ __  SE3: size=torch.Size([6, 2]), device=cuda:0, dtype=torch.float32\n",
      "GS[0][:,jj] SE3: size=torch.Size([6, 2]), device=cuda:0, dtype=torch.float32\n"
     ]
    },
    {
     "name": "stderr",
     "output_type": "stream",
     "text": [
      " 30%|███       | 402/1333 [03:03<07:15,  2.14batch/s]"
     ]
    },
    {
     "name": "stdout",
     "output_type": "stream",
     "text": [
      "GS______ [SE3: size=torch.Size([6, 2]), device=cuda:0, dtype=torch.float32]\n",
      "GS[0]__ __ __  SE3: size=torch.Size([6, 2]), device=cuda:0, dtype=torch.float32\n",
      "GS[0][:,jj] SE3: size=torch.Size([6, 2]), device=cuda:0, dtype=torch.float32\n"
     ]
    },
    {
     "name": "stderr",
     "output_type": "stream",
     "text": [
      " 30%|███       | 403/1333 [03:04<07:18,  2.12batch/s]"
     ]
    },
    {
     "name": "stdout",
     "output_type": "stream",
     "text": [
      "GS______ [SE3: size=torch.Size([6, 2]), device=cuda:0, dtype=torch.float32]\n",
      "GS[0]__ __ __  SE3: size=torch.Size([6, 2]), device=cuda:0, dtype=torch.float32\n",
      "GS[0][:,jj] SE3: size=torch.Size([6, 2]), device=cuda:0, dtype=torch.float32\n"
     ]
    },
    {
     "name": "stderr",
     "output_type": "stream",
     "text": [
      " 30%|███       | 404/1333 [03:04<07:16,  2.13batch/s]"
     ]
    },
    {
     "name": "stdout",
     "output_type": "stream",
     "text": [
      "GS______ [SE3: size=torch.Size([6, 2]), device=cuda:0, dtype=torch.float32]\n",
      "GS[0]__ __ __  SE3: size=torch.Size([6, 2]), device=cuda:0, dtype=torch.float32\n",
      "GS[0][:,jj] SE3: size=torch.Size([6, 2]), device=cuda:0, dtype=torch.float32\n"
     ]
    },
    {
     "name": "stderr",
     "output_type": "stream",
     "text": [
      " 30%|███       | 405/1333 [03:05<07:14,  2.13batch/s]"
     ]
    },
    {
     "name": "stdout",
     "output_type": "stream",
     "text": [
      "GS______ [SE3: size=torch.Size([6, 2]), device=cuda:0, dtype=torch.float32]\n",
      "GS[0]__ __ __  SE3: size=torch.Size([6, 2]), device=cuda:0, dtype=torch.float32\n",
      "GS[0][:,jj] SE3: size=torch.Size([6, 2]), device=cuda:0, dtype=torch.float32\n"
     ]
    },
    {
     "name": "stderr",
     "output_type": "stream",
     "text": [
      " 30%|███       | 406/1333 [03:05<07:15,  2.13batch/s]"
     ]
    },
    {
     "name": "stdout",
     "output_type": "stream",
     "text": [
      "GS______ [SE3: size=torch.Size([6, 2]), device=cuda:0, dtype=torch.float32]\n",
      "GS[0]__ __ __  SE3: size=torch.Size([6, 2]), device=cuda:0, dtype=torch.float32\n",
      "GS[0][:,jj] SE3: size=torch.Size([6, 2]), device=cuda:0, dtype=torch.float32\n"
     ]
    },
    {
     "name": "stderr",
     "output_type": "stream",
     "text": [
      " 31%|███       | 407/1333 [03:06<07:14,  2.13batch/s]"
     ]
    },
    {
     "name": "stdout",
     "output_type": "stream",
     "text": [
      "GS______ [SE3: size=torch.Size([6, 2]), device=cuda:0, dtype=torch.float32]\n",
      "GS[0]__ __ __  SE3: size=torch.Size([6, 2]), device=cuda:0, dtype=torch.float32\n",
      "GS[0][:,jj] SE3: size=torch.Size([6, 2]), device=cuda:0, dtype=torch.float32\n"
     ]
    },
    {
     "name": "stderr",
     "output_type": "stream",
     "text": [
      " 31%|███       | 408/1333 [03:06<07:11,  2.15batch/s]"
     ]
    },
    {
     "name": "stdout",
     "output_type": "stream",
     "text": [
      "GS______ [SE3: size=torch.Size([6, 2]), device=cuda:0, dtype=torch.float32]\n",
      "GS[0]__ __ __  SE3: size=torch.Size([6, 2]), device=cuda:0, dtype=torch.float32\n",
      "GS[0][:,jj] SE3: size=torch.Size([6, 2]), device=cuda:0, dtype=torch.float32\n"
     ]
    },
    {
     "name": "stderr",
     "output_type": "stream",
     "text": [
      " 31%|███       | 409/1333 [03:06<07:08,  2.16batch/s]"
     ]
    },
    {
     "name": "stdout",
     "output_type": "stream",
     "text": [
      "GS______ [SE3: size=torch.Size([6, 2]), device=cuda:0, dtype=torch.float32]\n",
      "GS[0]__ __ __  SE3: size=torch.Size([6, 2]), device=cuda:0, dtype=torch.float32\n",
      "GS[0][:,jj] SE3: size=torch.Size([6, 2]), device=cuda:0, dtype=torch.float32\n"
     ]
    },
    {
     "name": "stderr",
     "output_type": "stream",
     "text": [
      " 31%|███       | 410/1333 [03:07<07:06,  2.16batch/s]"
     ]
    },
    {
     "name": "stdout",
     "output_type": "stream",
     "text": [
      "GS______ [SE3: size=torch.Size([6, 2]), device=cuda:0, dtype=torch.float32]\n",
      "GS[0]__ __ __  SE3: size=torch.Size([6, 2]), device=cuda:0, dtype=torch.float32\n",
      "GS[0][:,jj] SE3: size=torch.Size([6, 2]), device=cuda:0, dtype=torch.float32\n"
     ]
    },
    {
     "name": "stderr",
     "output_type": "stream",
     "text": [
      " 31%|███       | 411/1333 [03:07<07:05,  2.17batch/s]"
     ]
    },
    {
     "name": "stdout",
     "output_type": "stream",
     "text": [
      "GS______ [SE3: size=torch.Size([6, 2]), device=cuda:0, dtype=torch.float32]\n",
      "GS[0]__ __ __  SE3: size=torch.Size([6, 2]), device=cuda:0, dtype=torch.float32\n",
      "GS[0][:,jj] SE3: size=torch.Size([6, 2]), device=cuda:0, dtype=torch.float32\n"
     ]
    },
    {
     "name": "stderr",
     "output_type": "stream",
     "text": [
      " 31%|███       | 412/1333 [03:08<07:10,  2.14batch/s]"
     ]
    },
    {
     "name": "stdout",
     "output_type": "stream",
     "text": [
      "GS______ [SE3: size=torch.Size([6, 2]), device=cuda:0, dtype=torch.float32]\n",
      "GS[0]__ __ __  SE3: size=torch.Size([6, 2]), device=cuda:0, dtype=torch.float32\n",
      "GS[0][:,jj] SE3: size=torch.Size([6, 2]), device=cuda:0, dtype=torch.float32\n"
     ]
    },
    {
     "name": "stderr",
     "output_type": "stream",
     "text": [
      " 31%|███       | 413/1333 [03:08<07:25,  2.07batch/s]"
     ]
    },
    {
     "name": "stdout",
     "output_type": "stream",
     "text": [
      "GS______ [SE3: size=torch.Size([6, 2]), device=cuda:0, dtype=torch.float32]\n",
      "GS[0]__ __ __  SE3: size=torch.Size([6, 2]), device=cuda:0, dtype=torch.float32\n",
      "GS[0][:,jj] SE3: size=torch.Size([6, 2]), device=cuda:0, dtype=torch.float32\n"
     ]
    },
    {
     "name": "stderr",
     "output_type": "stream",
     "text": [
      " 31%|███       | 414/1333 [03:09<07:45,  1.97batch/s]"
     ]
    },
    {
     "name": "stdout",
     "output_type": "stream",
     "text": [
      "GS______ [SE3: size=torch.Size([6, 2]), device=cuda:0, dtype=torch.float32]\n",
      "GS[0]__ __ __  SE3: size=torch.Size([6, 2]), device=cuda:0, dtype=torch.float32\n",
      "GS[0][:,jj] SE3: size=torch.Size([6, 2]), device=cuda:0, dtype=torch.float32\n"
     ]
    },
    {
     "name": "stderr",
     "output_type": "stream",
     "text": [
      " 31%|███       | 415/1333 [03:09<07:35,  2.02batch/s]"
     ]
    },
    {
     "name": "stdout",
     "output_type": "stream",
     "text": [
      "GS______ [SE3: size=torch.Size([6, 2]), device=cuda:0, dtype=torch.float32]\n",
      "GS[0]__ __ __  SE3: size=torch.Size([6, 2]), device=cuda:0, dtype=torch.float32\n",
      "GS[0][:,jj] SE3: size=torch.Size([6, 2]), device=cuda:0, dtype=torch.float32\n"
     ]
    },
    {
     "name": "stderr",
     "output_type": "stream",
     "text": [
      " 31%|███       | 416/1333 [03:10<07:27,  2.05batch/s]"
     ]
    },
    {
     "name": "stdout",
     "output_type": "stream",
     "text": [
      "GS______ [SE3: size=torch.Size([6, 2]), device=cuda:0, dtype=torch.float32]\n",
      "GS[0]__ __ __  SE3: size=torch.Size([6, 2]), device=cuda:0, dtype=torch.float32\n",
      "GS[0][:,jj] SE3: size=torch.Size([6, 2]), device=cuda:0, dtype=torch.float32\n"
     ]
    },
    {
     "name": "stderr",
     "output_type": "stream",
     "text": [
      " 31%|███▏      | 417/1333 [03:10<07:21,  2.07batch/s]"
     ]
    },
    {
     "name": "stdout",
     "output_type": "stream",
     "text": [
      "GS______ [SE3: size=torch.Size([6, 2]), device=cuda:0, dtype=torch.float32]\n",
      "GS[0]__ __ __  SE3: size=torch.Size([6, 2]), device=cuda:0, dtype=torch.float32\n",
      "GS[0][:,jj] SE3: size=torch.Size([6, 2]), device=cuda:0, dtype=torch.float32\n"
     ]
    },
    {
     "name": "stderr",
     "output_type": "stream",
     "text": [
      " 31%|███▏      | 418/1333 [03:11<07:18,  2.09batch/s]"
     ]
    },
    {
     "name": "stdout",
     "output_type": "stream",
     "text": [
      "GS______ [SE3: size=torch.Size([6, 2]), device=cuda:0, dtype=torch.float32]\n",
      "GS[0]__ __ __  SE3: size=torch.Size([6, 2]), device=cuda:0, dtype=torch.float32\n",
      "GS[0][:,jj] SE3: size=torch.Size([6, 2]), device=cuda:0, dtype=torch.float32\n"
     ]
    },
    {
     "name": "stderr",
     "output_type": "stream",
     "text": [
      " 31%|███▏      | 419/1333 [03:11<07:16,  2.09batch/s]"
     ]
    },
    {
     "name": "stdout",
     "output_type": "stream",
     "text": [
      "GS______ [SE3: size=torch.Size([6, 2]), device=cuda:0, dtype=torch.float32]\n",
      "GS[0]__ __ __  SE3: size=torch.Size([6, 2]), device=cuda:0, dtype=torch.float32\n",
      "GS[0][:,jj] SE3: size=torch.Size([6, 2]), device=cuda:0, dtype=torch.float32\n"
     ]
    },
    {
     "name": "stderr",
     "output_type": "stream",
     "text": [
      " 32%|███▏      | 420/1333 [03:12<07:19,  2.08batch/s]"
     ]
    },
    {
     "name": "stdout",
     "output_type": "stream",
     "text": [
      "GS______ [SE3: size=torch.Size([6, 2]), device=cuda:0, dtype=torch.float32]\n",
      "GS[0]__ __ __  SE3: size=torch.Size([6, 2]), device=cuda:0, dtype=torch.float32\n",
      "GS[0][:,jj] SE3: size=torch.Size([6, 2]), device=cuda:0, dtype=torch.float32\n"
     ]
    },
    {
     "name": "stderr",
     "output_type": "stream",
     "text": [
      " 32%|███▏      | 421/1333 [03:12<07:17,  2.09batch/s]"
     ]
    },
    {
     "name": "stdout",
     "output_type": "stream",
     "text": [
      "GS______ [SE3: size=torch.Size([6, 2]), device=cuda:0, dtype=torch.float32]\n",
      "GS[0]__ __ __  SE3: size=torch.Size([6, 2]), device=cuda:0, dtype=torch.float32\n",
      "GS[0][:,jj] SE3: size=torch.Size([6, 2]), device=cuda:0, dtype=torch.float32\n"
     ]
    },
    {
     "name": "stderr",
     "output_type": "stream",
     "text": [
      " 32%|███▏      | 422/1333 [03:13<07:16,  2.09batch/s]"
     ]
    },
    {
     "name": "stdout",
     "output_type": "stream",
     "text": [
      "GS______ [SE3: size=torch.Size([6, 2]), device=cuda:0, dtype=torch.float32]\n",
      "GS[0]__ __ __  SE3: size=torch.Size([6, 2]), device=cuda:0, dtype=torch.float32\n",
      "GS[0][:,jj] SE3: size=torch.Size([6, 2]), device=cuda:0, dtype=torch.float32\n"
     ]
    },
    {
     "name": "stderr",
     "output_type": "stream",
     "text": [
      " 32%|███▏      | 423/1333 [03:13<07:14,  2.09batch/s]"
     ]
    },
    {
     "name": "stdout",
     "output_type": "stream",
     "text": [
      "GS______ [SE3: size=torch.Size([6, 2]), device=cuda:0, dtype=torch.float32]\n",
      "GS[0]__ __ __  SE3: size=torch.Size([6, 2]), device=cuda:0, dtype=torch.float32\n",
      "GS[0][:,jj] SE3: size=torch.Size([6, 2]), device=cuda:0, dtype=torch.float32\n"
     ]
    },
    {
     "name": "stderr",
     "output_type": "stream",
     "text": [
      " 32%|███▏      | 424/1333 [03:14<07:17,  2.08batch/s]"
     ]
    },
    {
     "name": "stdout",
     "output_type": "stream",
     "text": [
      "GS______ [SE3: size=torch.Size([6, 2]), device=cuda:0, dtype=torch.float32]\n",
      "GS[0]__ __ __  SE3: size=torch.Size([6, 2]), device=cuda:0, dtype=torch.float32\n",
      "GS[0][:,jj] SE3: size=torch.Size([6, 2]), device=cuda:0, dtype=torch.float32\n"
     ]
    },
    {
     "name": "stderr",
     "output_type": "stream",
     "text": [
      " 32%|███▏      | 425/1333 [03:14<07:14,  2.09batch/s]"
     ]
    },
    {
     "name": "stdout",
     "output_type": "stream",
     "text": [
      "GS______ [SE3: size=torch.Size([6, 2]), device=cuda:0, dtype=torch.float32]\n",
      "GS[0]__ __ __  SE3: size=torch.Size([6, 2]), device=cuda:0, dtype=torch.float32\n",
      "GS[0][:,jj] SE3: size=torch.Size([6, 2]), device=cuda:0, dtype=torch.float32\n"
     ]
    },
    {
     "name": "stderr",
     "output_type": "stream",
     "text": [
      " 32%|███▏      | 426/1333 [03:15<07:12,  2.10batch/s]"
     ]
    },
    {
     "name": "stdout",
     "output_type": "stream",
     "text": [
      "GS______ [SE3: size=torch.Size([6, 2]), device=cuda:0, dtype=torch.float32]\n",
      "GS[0]__ __ __  SE3: size=torch.Size([6, 2]), device=cuda:0, dtype=torch.float32\n",
      "GS[0][:,jj] SE3: size=torch.Size([6, 2]), device=cuda:0, dtype=torch.float32\n"
     ]
    },
    {
     "name": "stderr",
     "output_type": "stream",
     "text": [
      " 32%|███▏      | 427/1333 [03:15<07:11,  2.10batch/s]"
     ]
    },
    {
     "name": "stdout",
     "output_type": "stream",
     "text": [
      "GS______ [SE3: size=torch.Size([6, 2]), device=cuda:0, dtype=torch.float32]\n",
      "GS[0]__ __ __  SE3: size=torch.Size([6, 2]), device=cuda:0, dtype=torch.float32\n",
      "GS[0][:,jj] SE3: size=torch.Size([6, 2]), device=cuda:0, dtype=torch.float32\n"
     ]
    },
    {
     "name": "stderr",
     "output_type": "stream",
     "text": [
      " 32%|███▏      | 428/1333 [03:16<07:10,  2.10batch/s]"
     ]
    },
    {
     "name": "stdout",
     "output_type": "stream",
     "text": [
      "GS______ [SE3: size=torch.Size([6, 2]), device=cuda:0, dtype=torch.float32]\n",
      "GS[0]__ __ __  SE3: size=torch.Size([6, 2]), device=cuda:0, dtype=torch.float32\n",
      "GS[0][:,jj] SE3: size=torch.Size([6, 2]), device=cuda:0, dtype=torch.float32\n"
     ]
    },
    {
     "name": "stderr",
     "output_type": "stream",
     "text": [
      " 32%|███▏      | 429/1333 [03:16<07:08,  2.11batch/s]"
     ]
    },
    {
     "name": "stdout",
     "output_type": "stream",
     "text": [
      "GS______ [SE3: size=torch.Size([6, 2]), device=cuda:0, dtype=torch.float32]\n",
      "GS[0]__ __ __  SE3: size=torch.Size([6, 2]), device=cuda:0, dtype=torch.float32\n",
      "GS[0][:,jj] SE3: size=torch.Size([6, 2]), device=cuda:0, dtype=torch.float32\n"
     ]
    },
    {
     "name": "stderr",
     "output_type": "stream",
     "text": [
      " 32%|███▏      | 430/1333 [03:17<07:05,  2.12batch/s]"
     ]
    },
    {
     "name": "stdout",
     "output_type": "stream",
     "text": [
      "GS______ [SE3: size=torch.Size([6, 2]), device=cuda:0, dtype=torch.float32]\n",
      "GS[0]__ __ __  SE3: size=torch.Size([6, 2]), device=cuda:0, dtype=torch.float32\n",
      "GS[0][:,jj] SE3: size=torch.Size([6, 2]), device=cuda:0, dtype=torch.float32\n"
     ]
    },
    {
     "name": "stderr",
     "output_type": "stream",
     "text": [
      " 32%|███▏      | 431/1333 [03:17<07:03,  2.13batch/s]"
     ]
    },
    {
     "name": "stdout",
     "output_type": "stream",
     "text": [
      "GS______ [SE3: size=torch.Size([6, 2]), device=cuda:0, dtype=torch.float32]\n",
      "GS[0]__ __ __  SE3: size=torch.Size([6, 2]), device=cuda:0, dtype=torch.float32\n",
      "GS[0][:,jj] SE3: size=torch.Size([6, 2]), device=cuda:0, dtype=torch.float32\n"
     ]
    },
    {
     "name": "stderr",
     "output_type": "stream",
     "text": [
      " 32%|███▏      | 432/1333 [03:17<07:02,  2.13batch/s]"
     ]
    },
    {
     "name": "stdout",
     "output_type": "stream",
     "text": [
      "GS______ [SE3: size=torch.Size([6, 2]), device=cuda:0, dtype=torch.float32]\n",
      "GS[0]__ __ __  SE3: size=torch.Size([6, 2]), device=cuda:0, dtype=torch.float32\n",
      "GS[0][:,jj] SE3: size=torch.Size([6, 2]), device=cuda:0, dtype=torch.float32\n"
     ]
    },
    {
     "name": "stderr",
     "output_type": "stream",
     "text": [
      " 32%|███▏      | 433/1333 [03:18<06:58,  2.15batch/s]"
     ]
    },
    {
     "name": "stdout",
     "output_type": "stream",
     "text": [
      "GS______ [SE3: size=torch.Size([6, 2]), device=cuda:0, dtype=torch.float32]\n",
      "GS[0]__ __ __  SE3: size=torch.Size([6, 2]), device=cuda:0, dtype=torch.float32\n",
      "GS[0][:,jj] SE3: size=torch.Size([6, 2]), device=cuda:0, dtype=torch.float32\n"
     ]
    },
    {
     "name": "stderr",
     "output_type": "stream",
     "text": [
      " 33%|███▎      | 434/1333 [03:18<06:55,  2.16batch/s]"
     ]
    },
    {
     "name": "stdout",
     "output_type": "stream",
     "text": [
      "GS______ [SE3: size=torch.Size([6, 2]), device=cuda:0, dtype=torch.float32]\n",
      "GS[0]__ __ __  SE3: size=torch.Size([6, 2]), device=cuda:0, dtype=torch.float32\n",
      "GS[0][:,jj] SE3: size=torch.Size([6, 2]), device=cuda:0, dtype=torch.float32\n"
     ]
    },
    {
     "name": "stderr",
     "output_type": "stream",
     "text": [
      " 33%|███▎      | 435/1333 [03:19<06:53,  2.17batch/s]"
     ]
    },
    {
     "name": "stdout",
     "output_type": "stream",
     "text": [
      "GS______ [SE3: size=torch.Size([6, 2]), device=cuda:0, dtype=torch.float32]\n",
      "GS[0]__ __ __  SE3: size=torch.Size([6, 2]), device=cuda:0, dtype=torch.float32\n",
      "GS[0][:,jj] SE3: size=torch.Size([6, 2]), device=cuda:0, dtype=torch.float32\n"
     ]
    },
    {
     "name": "stderr",
     "output_type": "stream",
     "text": [
      " 33%|███▎      | 436/1333 [03:19<06:50,  2.18batch/s]"
     ]
    },
    {
     "name": "stdout",
     "output_type": "stream",
     "text": [
      "GS______ [SE3: size=torch.Size([6, 2]), device=cuda:0, dtype=torch.float32]\n",
      "GS[0]__ __ __  SE3: size=torch.Size([6, 2]), device=cuda:0, dtype=torch.float32\n",
      "GS[0][:,jj] SE3: size=torch.Size([6, 2]), device=cuda:0, dtype=torch.float32\n"
     ]
    },
    {
     "name": "stderr",
     "output_type": "stream",
     "text": [
      " 33%|███▎      | 437/1333 [03:20<06:52,  2.17batch/s]"
     ]
    },
    {
     "name": "stdout",
     "output_type": "stream",
     "text": [
      "GS______ [SE3: size=torch.Size([6, 2]), device=cuda:0, dtype=torch.float32]\n",
      "GS[0]__ __ __  SE3: size=torch.Size([6, 2]), device=cuda:0, dtype=torch.float32\n",
      "GS[0][:,jj] SE3: size=torch.Size([6, 2]), device=cuda:0, dtype=torch.float32\n"
     ]
    },
    {
     "name": "stderr",
     "output_type": "stream",
     "text": [
      " 33%|███▎      | 438/1333 [03:20<06:53,  2.17batch/s]"
     ]
    },
    {
     "name": "stdout",
     "output_type": "stream",
     "text": [
      "GS______ [SE3: size=torch.Size([6, 2]), device=cuda:0, dtype=torch.float32]\n",
      "GS[0]__ __ __  SE3: size=torch.Size([6, 2]), device=cuda:0, dtype=torch.float32\n",
      "GS[0][:,jj] SE3: size=torch.Size([6, 2]), device=cuda:0, dtype=torch.float32\n"
     ]
    },
    {
     "name": "stderr",
     "output_type": "stream",
     "text": [
      " 33%|███▎      | 439/1333 [03:21<06:50,  2.18batch/s]"
     ]
    },
    {
     "name": "stdout",
     "output_type": "stream",
     "text": [
      "GS______ [SE3: size=torch.Size([6, 2]), device=cuda:0, dtype=torch.float32]\n",
      "GS[0]__ __ __  SE3: size=torch.Size([6, 2]), device=cuda:0, dtype=torch.float32\n",
      "GS[0][:,jj] SE3: size=torch.Size([6, 2]), device=cuda:0, dtype=torch.float32\n"
     ]
    },
    {
     "name": "stderr",
     "output_type": "stream",
     "text": [
      " 33%|███▎      | 440/1333 [03:21<06:49,  2.18batch/s]"
     ]
    },
    {
     "name": "stdout",
     "output_type": "stream",
     "text": [
      "GS______ [SE3: size=torch.Size([6, 2]), device=cuda:0, dtype=torch.float32]\n",
      "GS[0]__ __ __  SE3: size=torch.Size([6, 2]), device=cuda:0, dtype=torch.float32\n",
      "GS[0][:,jj] SE3: size=torch.Size([6, 2]), device=cuda:0, dtype=torch.float32\n"
     ]
    },
    {
     "name": "stderr",
     "output_type": "stream",
     "text": [
      " 33%|███▎      | 441/1333 [03:22<06:47,  2.19batch/s]"
     ]
    },
    {
     "name": "stdout",
     "output_type": "stream",
     "text": [
      "GS______ [SE3: size=torch.Size([6, 2]), device=cuda:0, dtype=torch.float32]\n",
      "GS[0]__ __ __  SE3: size=torch.Size([6, 2]), device=cuda:0, dtype=torch.float32\n",
      "GS[0][:,jj] SE3: size=torch.Size([6, 2]), device=cuda:0, dtype=torch.float32\n"
     ]
    },
    {
     "name": "stderr",
     "output_type": "stream",
     "text": [
      " 33%|███▎      | 442/1333 [03:22<06:46,  2.19batch/s]"
     ]
    },
    {
     "name": "stdout",
     "output_type": "stream",
     "text": [
      "GS______ [SE3: size=torch.Size([6, 2]), device=cuda:0, dtype=torch.float32]\n",
      "GS[0]__ __ __  SE3: size=torch.Size([6, 2]), device=cuda:0, dtype=torch.float32\n",
      "GS[0][:,jj] SE3: size=torch.Size([6, 2]), device=cuda:0, dtype=torch.float32\n"
     ]
    },
    {
     "name": "stderr",
     "output_type": "stream",
     "text": [
      " 33%|███▎      | 443/1333 [03:22<06:45,  2.19batch/s]"
     ]
    },
    {
     "name": "stdout",
     "output_type": "stream",
     "text": [
      "GS______ [SE3: size=torch.Size([6, 2]), device=cuda:0, dtype=torch.float32]\n",
      "GS[0]__ __ __  SE3: size=torch.Size([6, 2]), device=cuda:0, dtype=torch.float32\n",
      "GS[0][:,jj] SE3: size=torch.Size([6, 2]), device=cuda:0, dtype=torch.float32\n"
     ]
    },
    {
     "name": "stderr",
     "output_type": "stream",
     "text": [
      " 33%|███▎      | 444/1333 [03:23<06:44,  2.20batch/s]"
     ]
    },
    {
     "name": "stdout",
     "output_type": "stream",
     "text": [
      "GS______ [SE3: size=torch.Size([6, 2]), device=cuda:0, dtype=torch.float32]\n",
      "GS[0]__ __ __  SE3: size=torch.Size([6, 2]), device=cuda:0, dtype=torch.float32\n",
      "GS[0][:,jj] SE3: size=torch.Size([6, 2]), device=cuda:0, dtype=torch.float32\n"
     ]
    },
    {
     "name": "stderr",
     "output_type": "stream",
     "text": [
      " 33%|███▎      | 445/1333 [03:23<06:43,  2.20batch/s]"
     ]
    },
    {
     "name": "stdout",
     "output_type": "stream",
     "text": [
      "GS______ [SE3: size=torch.Size([6, 2]), device=cuda:0, dtype=torch.float32]\n",
      "GS[0]__ __ __  SE3: size=torch.Size([6, 2]), device=cuda:0, dtype=torch.float32\n",
      "GS[0][:,jj] SE3: size=torch.Size([6, 2]), device=cuda:0, dtype=torch.float32\n"
     ]
    },
    {
     "name": "stderr",
     "output_type": "stream",
     "text": [
      " 33%|███▎      | 446/1333 [03:24<06:43,  2.20batch/s]"
     ]
    },
    {
     "name": "stdout",
     "output_type": "stream",
     "text": [
      "GS______ [SE3: size=torch.Size([6, 2]), device=cuda:0, dtype=torch.float32]\n",
      "GS[0]__ __ __  SE3: size=torch.Size([6, 2]), device=cuda:0, dtype=torch.float32\n",
      "GS[0][:,jj] SE3: size=torch.Size([6, 2]), device=cuda:0, dtype=torch.float32\n"
     ]
    },
    {
     "name": "stderr",
     "output_type": "stream",
     "text": [
      " 34%|███▎      | 447/1333 [03:24<06:42,  2.20batch/s]"
     ]
    },
    {
     "name": "stdout",
     "output_type": "stream",
     "text": [
      "GS______ [SE3: size=torch.Size([6, 2]), device=cuda:0, dtype=torch.float32]\n",
      "GS[0]__ __ __  SE3: size=torch.Size([6, 2]), device=cuda:0, dtype=torch.float32\n",
      "GS[0][:,jj] SE3: size=torch.Size([6, 2]), device=cuda:0, dtype=torch.float32\n"
     ]
    },
    {
     "name": "stderr",
     "output_type": "stream",
     "text": [
      " 34%|███▎      | 448/1333 [03:25<06:45,  2.18batch/s]"
     ]
    },
    {
     "name": "stdout",
     "output_type": "stream",
     "text": [
      "GS______ [SE3: size=torch.Size([6, 2]), device=cuda:0, dtype=torch.float32]\n",
      "GS[0]__ __ __  SE3: size=torch.Size([6, 2]), device=cuda:0, dtype=torch.float32\n",
      "GS[0][:,jj] SE3: size=torch.Size([6, 2]), device=cuda:0, dtype=torch.float32\n"
     ]
    },
    {
     "name": "stderr",
     "output_type": "stream",
     "text": [
      " 34%|███▎      | 449/1333 [03:25<06:43,  2.19batch/s]"
     ]
    },
    {
     "name": "stdout",
     "output_type": "stream",
     "text": [
      "GS______ [SE3: size=torch.Size([6, 2]), device=cuda:0, dtype=torch.float32]\n",
      "GS[0]__ __ __  SE3: size=torch.Size([6, 2]), device=cuda:0, dtype=torch.float32\n",
      "GS[0][:,jj] SE3: size=torch.Size([6, 2]), device=cuda:0, dtype=torch.float32\n"
     ]
    },
    {
     "name": "stderr",
     "output_type": "stream",
     "text": [
      " 34%|███▍      | 450/1333 [03:26<06:43,  2.19batch/s]"
     ]
    },
    {
     "name": "stdout",
     "output_type": "stream",
     "text": [
      "GS______ [SE3: size=torch.Size([6, 2]), device=cuda:0, dtype=torch.float32]\n",
      "GS[0]__ __ __  SE3: size=torch.Size([6, 2]), device=cuda:0, dtype=torch.float32\n",
      "GS[0][:,jj] SE3: size=torch.Size([6, 2]), device=cuda:0, dtype=torch.float32\n"
     ]
    },
    {
     "name": "stderr",
     "output_type": "stream",
     "text": [
      " 34%|███▍      | 451/1333 [03:26<06:43,  2.19batch/s]"
     ]
    },
    {
     "name": "stdout",
     "output_type": "stream",
     "text": [
      "GS______ [SE3: size=torch.Size([6, 2]), device=cuda:0, dtype=torch.float32]\n",
      "GS[0]__ __ __  SE3: size=torch.Size([6, 2]), device=cuda:0, dtype=torch.float32\n",
      "GS[0][:,jj] SE3: size=torch.Size([6, 2]), device=cuda:0, dtype=torch.float32\n"
     ]
    },
    {
     "name": "stderr",
     "output_type": "stream",
     "text": [
      " 34%|███▍      | 452/1333 [03:27<06:44,  2.18batch/s]"
     ]
    },
    {
     "name": "stdout",
     "output_type": "stream",
     "text": [
      "GS______ [SE3: size=torch.Size([6, 2]), device=cuda:0, dtype=torch.float32]\n",
      "GS[0]__ __ __  SE3: size=torch.Size([6, 2]), device=cuda:0, dtype=torch.float32\n",
      "GS[0][:,jj] SE3: size=torch.Size([6, 2]), device=cuda:0, dtype=torch.float32\n"
     ]
    },
    {
     "name": "stderr",
     "output_type": "stream",
     "text": [
      " 34%|███▍      | 453/1333 [03:27<06:43,  2.18batch/s]"
     ]
    },
    {
     "name": "stdout",
     "output_type": "stream",
     "text": [
      "GS______ [SE3: size=torch.Size([6, 2]), device=cuda:0, dtype=torch.float32]\n",
      "GS[0]__ __ __  SE3: size=torch.Size([6, 2]), device=cuda:0, dtype=torch.float32\n",
      "GS[0][:,jj] SE3: size=torch.Size([6, 2]), device=cuda:0, dtype=torch.float32\n"
     ]
    },
    {
     "name": "stderr",
     "output_type": "stream",
     "text": [
      " 34%|███▍      | 454/1333 [03:28<06:43,  2.18batch/s]"
     ]
    },
    {
     "name": "stdout",
     "output_type": "stream",
     "text": [
      "GS______ [SE3: size=torch.Size([6, 2]), device=cuda:0, dtype=torch.float32]\n",
      "GS[0]__ __ __  SE3: size=torch.Size([6, 2]), device=cuda:0, dtype=torch.float32\n",
      "GS[0][:,jj] SE3: size=torch.Size([6, 2]), device=cuda:0, dtype=torch.float32\n"
     ]
    },
    {
     "name": "stderr",
     "output_type": "stream",
     "text": [
      " 34%|███▍      | 455/1333 [03:28<07:00,  2.09batch/s]"
     ]
    },
    {
     "name": "stdout",
     "output_type": "stream",
     "text": [
      "GS______ [SE3: size=torch.Size([6, 2]), device=cuda:0, dtype=torch.float32]\n",
      "GS[0]__ __ __  SE3: size=torch.Size([6, 2]), device=cuda:0, dtype=torch.float32\n",
      "GS[0][:,jj] SE3: size=torch.Size([6, 2]), device=cuda:0, dtype=torch.float32\n"
     ]
    },
    {
     "name": "stderr",
     "output_type": "stream",
     "text": [
      " 34%|███▍      | 456/1333 [03:29<06:56,  2.10batch/s]"
     ]
    },
    {
     "name": "stdout",
     "output_type": "stream",
     "text": [
      "GS______ [SE3: size=torch.Size([6, 2]), device=cuda:0, dtype=torch.float32]\n",
      "GS[0]__ __ __  SE3: size=torch.Size([6, 2]), device=cuda:0, dtype=torch.float32\n",
      "GS[0][:,jj] SE3: size=torch.Size([6, 2]), device=cuda:0, dtype=torch.float32\n"
     ]
    },
    {
     "name": "stderr",
     "output_type": "stream",
     "text": [
      " 34%|███▍      | 457/1333 [03:29<06:54,  2.12batch/s]"
     ]
    },
    {
     "name": "stdout",
     "output_type": "stream",
     "text": [
      "GS______ [SE3: size=torch.Size([6, 2]), device=cuda:0, dtype=torch.float32]\n",
      "GS[0]__ __ __  SE3: size=torch.Size([6, 2]), device=cuda:0, dtype=torch.float32\n",
      "GS[0][:,jj] SE3: size=torch.Size([6, 2]), device=cuda:0, dtype=torch.float32\n"
     ]
    },
    {
     "name": "stderr",
     "output_type": "stream",
     "text": [
      " 34%|███▍      | 458/1333 [03:29<06:52,  2.12batch/s]"
     ]
    },
    {
     "name": "stdout",
     "output_type": "stream",
     "text": [
      "GS______ [SE3: size=torch.Size([6, 2]), device=cuda:0, dtype=torch.float32]\n",
      "GS[0]__ __ __  SE3: size=torch.Size([6, 2]), device=cuda:0, dtype=torch.float32\n",
      "GS[0][:,jj] SE3: size=torch.Size([6, 2]), device=cuda:0, dtype=torch.float32\n"
     ]
    },
    {
     "name": "stderr",
     "output_type": "stream",
     "text": [
      " 34%|███▍      | 459/1333 [03:30<06:52,  2.12batch/s]"
     ]
    },
    {
     "name": "stdout",
     "output_type": "stream",
     "text": [
      "GS______ [SE3: size=torch.Size([6, 2]), device=cuda:0, dtype=torch.float32]\n",
      "GS[0]__ __ __  SE3: size=torch.Size([6, 2]), device=cuda:0, dtype=torch.float32\n",
      "GS[0][:,jj] SE3: size=torch.Size([6, 2]), device=cuda:0, dtype=torch.float32\n"
     ]
    },
    {
     "name": "stderr",
     "output_type": "stream",
     "text": [
      " 35%|███▍      | 460/1333 [03:30<06:49,  2.13batch/s]"
     ]
    },
    {
     "name": "stdout",
     "output_type": "stream",
     "text": [
      "GS______ [SE3: size=torch.Size([6, 2]), device=cuda:0, dtype=torch.float32]\n",
      "GS[0]__ __ __  SE3: size=torch.Size([6, 2]), device=cuda:0, dtype=torch.float32\n",
      "GS[0][:,jj] SE3: size=torch.Size([6, 2]), device=cuda:0, dtype=torch.float32\n"
     ]
    },
    {
     "name": "stderr",
     "output_type": "stream",
     "text": [
      " 35%|███▍      | 461/1333 [03:31<06:47,  2.14batch/s]"
     ]
    },
    {
     "name": "stdout",
     "output_type": "stream",
     "text": [
      "GS______ [SE3: size=torch.Size([6, 2]), device=cuda:0, dtype=torch.float32]\n",
      "GS[0]__ __ __  SE3: size=torch.Size([6, 2]), device=cuda:0, dtype=torch.float32\n",
      "GS[0][:,jj] SE3: size=torch.Size([6, 2]), device=cuda:0, dtype=torch.float32\n"
     ]
    },
    {
     "name": "stderr",
     "output_type": "stream",
     "text": [
      " 35%|███▍      | 462/1333 [03:31<06:46,  2.14batch/s]"
     ]
    },
    {
     "name": "stdout",
     "output_type": "stream",
     "text": [
      "GS______ [SE3: size=torch.Size([6, 2]), device=cuda:0, dtype=torch.float32]\n",
      "GS[0]__ __ __  SE3: size=torch.Size([6, 2]), device=cuda:0, dtype=torch.float32\n",
      "GS[0][:,jj] SE3: size=torch.Size([6, 2]), device=cuda:0, dtype=torch.float32\n"
     ]
    },
    {
     "name": "stderr",
     "output_type": "stream",
     "text": [
      " 35%|███▍      | 463/1333 [03:32<06:44,  2.15batch/s]"
     ]
    },
    {
     "name": "stdout",
     "output_type": "stream",
     "text": [
      "GS______ [SE3: size=torch.Size([6, 2]), device=cuda:0, dtype=torch.float32]\n",
      "GS[0]__ __ __  SE3: size=torch.Size([6, 2]), device=cuda:0, dtype=torch.float32\n",
      "GS[0][:,jj] SE3: size=torch.Size([6, 2]), device=cuda:0, dtype=torch.float32\n"
     ]
    },
    {
     "name": "stderr",
     "output_type": "stream",
     "text": [
      " 35%|███▍      | 464/1333 [03:32<06:46,  2.14batch/s]"
     ]
    },
    {
     "name": "stdout",
     "output_type": "stream",
     "text": [
      "GS______ [SE3: size=torch.Size([6, 2]), device=cuda:0, dtype=torch.float32]\n",
      "GS[0]__ __ __  SE3: size=torch.Size([6, 2]), device=cuda:0, dtype=torch.float32\n",
      "GS[0][:,jj] SE3: size=torch.Size([6, 2]), device=cuda:0, dtype=torch.float32\n"
     ]
    },
    {
     "name": "stderr",
     "output_type": "stream",
     "text": [
      " 35%|███▍      | 465/1333 [03:33<06:43,  2.15batch/s]"
     ]
    },
    {
     "name": "stdout",
     "output_type": "stream",
     "text": [
      "GS______ [SE3: size=torch.Size([6, 2]), device=cuda:0, dtype=torch.float32]\n",
      "GS[0]__ __ __  SE3: size=torch.Size([6, 2]), device=cuda:0, dtype=torch.float32\n",
      "GS[0][:,jj] SE3: size=torch.Size([6, 2]), device=cuda:0, dtype=torch.float32\n"
     ]
    },
    {
     "name": "stderr",
     "output_type": "stream",
     "text": [
      " 35%|███▍      | 466/1333 [03:33<06:42,  2.15batch/s]"
     ]
    },
    {
     "name": "stdout",
     "output_type": "stream",
     "text": [
      "GS______ [SE3: size=torch.Size([6, 2]), device=cuda:0, dtype=torch.float32]\n",
      "GS[0]__ __ __  SE3: size=torch.Size([6, 2]), device=cuda:0, dtype=torch.float32\n",
      "GS[0][:,jj] SE3: size=torch.Size([6, 2]), device=cuda:0, dtype=torch.float32\n"
     ]
    },
    {
     "name": "stderr",
     "output_type": "stream",
     "text": [
      " 35%|███▌      | 467/1333 [03:34<06:41,  2.16batch/s]"
     ]
    },
    {
     "name": "stdout",
     "output_type": "stream",
     "text": [
      "GS______ [SE3: size=torch.Size([6, 2]), device=cuda:0, dtype=torch.float32]\n",
      "GS[0]__ __ __  SE3: size=torch.Size([6, 2]), device=cuda:0, dtype=torch.float32\n",
      "GS[0][:,jj] SE3: size=torch.Size([6, 2]), device=cuda:0, dtype=torch.float32\n"
     ]
    },
    {
     "name": "stderr",
     "output_type": "stream",
     "text": [
      " 35%|███▌      | 468/1333 [03:34<06:38,  2.17batch/s]"
     ]
    },
    {
     "name": "stdout",
     "output_type": "stream",
     "text": [
      "GS______ [SE3: size=torch.Size([6, 2]), device=cuda:0, dtype=torch.float32]\n",
      "GS[0]__ __ __  SE3: size=torch.Size([6, 2]), device=cuda:0, dtype=torch.float32\n",
      "GS[0][:,jj] SE3: size=torch.Size([6, 2]), device=cuda:0, dtype=torch.float32\n"
     ]
    },
    {
     "name": "stderr",
     "output_type": "stream",
     "text": [
      " 35%|███▌      | 469/1333 [03:35<06:35,  2.18batch/s]"
     ]
    },
    {
     "name": "stdout",
     "output_type": "stream",
     "text": [
      "GS______ [SE3: size=torch.Size([6, 2]), device=cuda:0, dtype=torch.float32]\n",
      "GS[0]__ __ __  SE3: size=torch.Size([6, 2]), device=cuda:0, dtype=torch.float32\n",
      "GS[0][:,jj] SE3: size=torch.Size([6, 2]), device=cuda:0, dtype=torch.float32\n"
     ]
    },
    {
     "name": "stderr",
     "output_type": "stream",
     "text": [
      " 35%|███▌      | 470/1333 [03:35<06:40,  2.15batch/s]"
     ]
    },
    {
     "name": "stdout",
     "output_type": "stream",
     "text": [
      "GS______ [SE3: size=torch.Size([6, 2]), device=cuda:0, dtype=torch.float32]\n",
      "GS[0]__ __ __  SE3: size=torch.Size([6, 2]), device=cuda:0, dtype=torch.float32\n",
      "GS[0][:,jj] SE3: size=torch.Size([6, 2]), device=cuda:0, dtype=torch.float32\n"
     ]
    },
    {
     "name": "stderr",
     "output_type": "stream",
     "text": [
      " 35%|███▌      | 471/1333 [03:35<06:38,  2.16batch/s]"
     ]
    },
    {
     "name": "stdout",
     "output_type": "stream",
     "text": [
      "GS______ [SE3: size=torch.Size([6, 2]), device=cuda:0, dtype=torch.float32]\n",
      "GS[0]__ __ __  SE3: size=torch.Size([6, 2]), device=cuda:0, dtype=torch.float32\n",
      "GS[0][:,jj] SE3: size=torch.Size([6, 2]), device=cuda:0, dtype=torch.float32\n"
     ]
    },
    {
     "name": "stderr",
     "output_type": "stream",
     "text": [
      " 35%|███▌      | 472/1333 [03:36<06:38,  2.16batch/s]"
     ]
    },
    {
     "name": "stdout",
     "output_type": "stream",
     "text": [
      "GS______ [SE3: size=torch.Size([6, 2]), device=cuda:0, dtype=torch.float32]\n",
      "GS[0]__ __ __  SE3: size=torch.Size([6, 2]), device=cuda:0, dtype=torch.float32\n",
      "GS[0][:,jj] SE3: size=torch.Size([6, 2]), device=cuda:0, dtype=torch.float32\n"
     ]
    },
    {
     "name": "stderr",
     "output_type": "stream",
     "text": [
      " 35%|███▌      | 473/1333 [03:36<06:38,  2.16batch/s]"
     ]
    },
    {
     "name": "stdout",
     "output_type": "stream",
     "text": [
      "GS______ [SE3: size=torch.Size([6, 2]), device=cuda:0, dtype=torch.float32]\n",
      "GS[0]__ __ __  SE3: size=torch.Size([6, 2]), device=cuda:0, dtype=torch.float32\n",
      "GS[0][:,jj] SE3: size=torch.Size([6, 2]), device=cuda:0, dtype=torch.float32\n"
     ]
    },
    {
     "name": "stderr",
     "output_type": "stream",
     "text": [
      " 36%|███▌      | 474/1333 [03:37<06:38,  2.15batch/s]"
     ]
    },
    {
     "name": "stdout",
     "output_type": "stream",
     "text": [
      "GS______ [SE3: size=torch.Size([6, 2]), device=cuda:0, dtype=torch.float32]\n",
      "GS[0]__ __ __  SE3: size=torch.Size([6, 2]), device=cuda:0, dtype=torch.float32\n",
      "GS[0][:,jj] SE3: size=torch.Size([6, 2]), device=cuda:0, dtype=torch.float32\n"
     ]
    },
    {
     "name": "stderr",
     "output_type": "stream",
     "text": [
      " 36%|███▌      | 475/1333 [03:37<06:39,  2.15batch/s]"
     ]
    },
    {
     "name": "stdout",
     "output_type": "stream",
     "text": [
      "GS______ [SE3: size=torch.Size([6, 2]), device=cuda:0, dtype=torch.float32]\n",
      "GS[0]__ __ __  SE3: size=torch.Size([6, 2]), device=cuda:0, dtype=torch.float32\n",
      "GS[0][:,jj] SE3: size=torch.Size([6, 2]), device=cuda:0, dtype=torch.float32\n"
     ]
    },
    {
     "name": "stderr",
     "output_type": "stream",
     "text": [
      " 36%|███▌      | 476/1333 [03:38<06:38,  2.15batch/s]"
     ]
    },
    {
     "name": "stdout",
     "output_type": "stream",
     "text": [
      "GS______ [SE3: size=torch.Size([6, 2]), device=cuda:0, dtype=torch.float32]\n",
      "GS[0]__ __ __  SE3: size=torch.Size([6, 2]), device=cuda:0, dtype=torch.float32\n",
      "GS[0][:,jj] SE3: size=torch.Size([6, 2]), device=cuda:0, dtype=torch.float32\n"
     ]
    },
    {
     "name": "stderr",
     "output_type": "stream",
     "text": [
      " 36%|███▌      | 477/1333 [03:38<06:34,  2.17batch/s]"
     ]
    },
    {
     "name": "stdout",
     "output_type": "stream",
     "text": [
      "GS______ [SE3: size=torch.Size([6, 2]), device=cuda:0, dtype=torch.float32]\n",
      "GS[0]__ __ __  SE3: size=torch.Size([6, 2]), device=cuda:0, dtype=torch.float32\n",
      "GS[0][:,jj] SE3: size=torch.Size([6, 2]), device=cuda:0, dtype=torch.float32\n"
     ]
    },
    {
     "name": "stderr",
     "output_type": "stream",
     "text": [
      " 36%|███▌      | 478/1333 [03:39<06:31,  2.18batch/s]"
     ]
    },
    {
     "name": "stdout",
     "output_type": "stream",
     "text": [
      "GS______ [SE3: size=torch.Size([6, 2]), device=cuda:0, dtype=torch.float32]\n",
      "GS[0]__ __ __  SE3: size=torch.Size([6, 2]), device=cuda:0, dtype=torch.float32\n",
      "GS[0][:,jj] SE3: size=torch.Size([6, 2]), device=cuda:0, dtype=torch.float32\n"
     ]
    },
    {
     "name": "stderr",
     "output_type": "stream",
     "text": [
      " 36%|███▌      | 479/1333 [03:39<06:30,  2.19batch/s]"
     ]
    },
    {
     "name": "stdout",
     "output_type": "stream",
     "text": [
      "GS______ [SE3: size=torch.Size([6, 2]), device=cuda:0, dtype=torch.float32]\n",
      "GS[0]__ __ __  SE3: size=torch.Size([6, 2]), device=cuda:0, dtype=torch.float32\n",
      "GS[0][:,jj] SE3: size=torch.Size([6, 2]), device=cuda:0, dtype=torch.float32\n"
     ]
    },
    {
     "name": "stderr",
     "output_type": "stream",
     "text": [
      " 36%|███▌      | 480/1333 [03:40<06:33,  2.17batch/s]"
     ]
    },
    {
     "name": "stdout",
     "output_type": "stream",
     "text": [
      "GS______ [SE3: size=torch.Size([6, 2]), device=cuda:0, dtype=torch.float32]\n",
      "GS[0]__ __ __  SE3: size=torch.Size([6, 2]), device=cuda:0, dtype=torch.float32\n",
      "GS[0][:,jj] SE3: size=torch.Size([6, 2]), device=cuda:0, dtype=torch.float32\n"
     ]
    },
    {
     "name": "stderr",
     "output_type": "stream",
     "text": [
      " 36%|███▌      | 481/1333 [03:40<06:28,  2.19batch/s]"
     ]
    },
    {
     "name": "stdout",
     "output_type": "stream",
     "text": [
      "GS______ [SE3: size=torch.Size([6, 2]), device=cuda:0, dtype=torch.float32]\n",
      "GS[0]__ __ __  SE3: size=torch.Size([6, 2]), device=cuda:0, dtype=torch.float32\n",
      "GS[0][:,jj] SE3: size=torch.Size([6, 2]), device=cuda:0, dtype=torch.float32\n"
     ]
    },
    {
     "name": "stderr",
     "output_type": "stream",
     "text": [
      " 36%|███▌      | 482/1333 [03:41<06:28,  2.19batch/s]"
     ]
    },
    {
     "name": "stdout",
     "output_type": "stream",
     "text": [
      "GS______ [SE3: size=torch.Size([6, 2]), device=cuda:0, dtype=torch.float32]\n",
      "GS[0]__ __ __  SE3: size=torch.Size([6, 2]), device=cuda:0, dtype=torch.float32\n",
      "GS[0][:,jj] SE3: size=torch.Size([6, 2]), device=cuda:0, dtype=torch.float32\n"
     ]
    },
    {
     "name": "stderr",
     "output_type": "stream",
     "text": [
      " 36%|███▌      | 483/1333 [03:41<06:24,  2.21batch/s]"
     ]
    },
    {
     "name": "stdout",
     "output_type": "stream",
     "text": [
      "GS______ [SE3: size=torch.Size([6, 2]), device=cuda:0, dtype=torch.float32]\n",
      "GS[0]__ __ __  SE3: size=torch.Size([6, 2]), device=cuda:0, dtype=torch.float32\n",
      "GS[0][:,jj] SE3: size=torch.Size([6, 2]), device=cuda:0, dtype=torch.float32\n"
     ]
    },
    {
     "name": "stderr",
     "output_type": "stream",
     "text": [
      " 36%|███▋      | 484/1333 [03:41<06:23,  2.22batch/s]"
     ]
    },
    {
     "name": "stdout",
     "output_type": "stream",
     "text": [
      "GS______ [SE3: size=torch.Size([6, 2]), device=cuda:0, dtype=torch.float32]\n",
      "GS[0]__ __ __  SE3: size=torch.Size([6, 2]), device=cuda:0, dtype=torch.float32\n",
      "GS[0][:,jj] SE3: size=torch.Size([6, 2]), device=cuda:0, dtype=torch.float32\n"
     ]
    },
    {
     "name": "stderr",
     "output_type": "stream",
     "text": [
      " 36%|███▋      | 485/1333 [03:42<06:20,  2.23batch/s]"
     ]
    },
    {
     "name": "stdout",
     "output_type": "stream",
     "text": [
      "GS______ [SE3: size=torch.Size([6, 2]), device=cuda:0, dtype=torch.float32]\n",
      "GS[0]__ __ __  SE3: size=torch.Size([6, 2]), device=cuda:0, dtype=torch.float32\n",
      "GS[0][:,jj] SE3: size=torch.Size([6, 2]), device=cuda:0, dtype=torch.float32\n"
     ]
    },
    {
     "name": "stderr",
     "output_type": "stream",
     "text": [
      " 36%|███▋      | 486/1333 [03:42<06:20,  2.23batch/s]"
     ]
    },
    {
     "name": "stdout",
     "output_type": "stream",
     "text": [
      "GS______ [SE3: size=torch.Size([6, 2]), device=cuda:0, dtype=torch.float32]\n",
      "GS[0]__ __ __  SE3: size=torch.Size([6, 2]), device=cuda:0, dtype=torch.float32\n",
      "GS[0][:,jj] SE3: size=torch.Size([6, 2]), device=cuda:0, dtype=torch.float32\n"
     ]
    },
    {
     "name": "stderr",
     "output_type": "stream",
     "text": [
      " 37%|███▋      | 487/1333 [03:43<06:22,  2.21batch/s]"
     ]
    },
    {
     "name": "stdout",
     "output_type": "stream",
     "text": [
      "GS______ [SE3: size=torch.Size([6, 2]), device=cuda:0, dtype=torch.float32]\n",
      "GS[0]__ __ __  SE3: size=torch.Size([6, 2]), device=cuda:0, dtype=torch.float32\n",
      "GS[0][:,jj] SE3: size=torch.Size([6, 2]), device=cuda:0, dtype=torch.float32\n"
     ]
    },
    {
     "name": "stderr",
     "output_type": "stream",
     "text": [
      " 37%|███▋      | 488/1333 [03:43<06:21,  2.21batch/s]"
     ]
    },
    {
     "name": "stdout",
     "output_type": "stream",
     "text": [
      "GS______ [SE3: size=torch.Size([6, 2]), device=cuda:0, dtype=torch.float32]\n",
      "GS[0]__ __ __  SE3: size=torch.Size([6, 2]), device=cuda:0, dtype=torch.float32\n",
      "GS[0][:,jj] SE3: size=torch.Size([6, 2]), device=cuda:0, dtype=torch.float32\n"
     ]
    },
    {
     "name": "stderr",
     "output_type": "stream",
     "text": [
      " 37%|███▋      | 489/1333 [03:44<06:22,  2.21batch/s]"
     ]
    },
    {
     "name": "stdout",
     "output_type": "stream",
     "text": [
      "GS______ [SE3: size=torch.Size([6, 2]), device=cuda:0, dtype=torch.float32]\n",
      "GS[0]__ __ __  SE3: size=torch.Size([6, 2]), device=cuda:0, dtype=torch.float32\n",
      "GS[0][:,jj] SE3: size=torch.Size([6, 2]), device=cuda:0, dtype=torch.float32\n"
     ]
    },
    {
     "name": "stderr",
     "output_type": "stream",
     "text": [
      " 37%|███▋      | 490/1333 [03:44<06:23,  2.20batch/s]"
     ]
    },
    {
     "name": "stdout",
     "output_type": "stream",
     "text": [
      "GS______ [SE3: size=torch.Size([6, 2]), device=cuda:0, dtype=torch.float32]\n",
      "GS[0]__ __ __  SE3: size=torch.Size([6, 2]), device=cuda:0, dtype=torch.float32\n",
      "GS[0][:,jj] SE3: size=torch.Size([6, 2]), device=cuda:0, dtype=torch.float32\n"
     ]
    },
    {
     "name": "stderr",
     "output_type": "stream",
     "text": [
      " 37%|███▋      | 491/1333 [03:45<06:23,  2.19batch/s]"
     ]
    },
    {
     "name": "stdout",
     "output_type": "stream",
     "text": [
      "GS______ [SE3: size=torch.Size([6, 2]), device=cuda:0, dtype=torch.float32]\n",
      "GS[0]__ __ __  SE3: size=torch.Size([6, 2]), device=cuda:0, dtype=torch.float32\n",
      "GS[0][:,jj] SE3: size=torch.Size([6, 2]), device=cuda:0, dtype=torch.float32\n"
     ]
    },
    {
     "name": "stderr",
     "output_type": "stream",
     "text": [
      " 37%|███▋      | 492/1333 [03:45<06:24,  2.19batch/s]"
     ]
    },
    {
     "name": "stdout",
     "output_type": "stream",
     "text": [
      "GS______ [SE3: size=torch.Size([6, 2]), device=cuda:0, dtype=torch.float32]\n",
      "GS[0]__ __ __  SE3: size=torch.Size([6, 2]), device=cuda:0, dtype=torch.float32\n",
      "GS[0][:,jj] SE3: size=torch.Size([6, 2]), device=cuda:0, dtype=torch.float32\n"
     ]
    },
    {
     "name": "stderr",
     "output_type": "stream",
     "text": [
      " 37%|███▋      | 493/1333 [03:46<06:24,  2.18batch/s]"
     ]
    },
    {
     "name": "stdout",
     "output_type": "stream",
     "text": [
      "GS______ [SE3: size=torch.Size([6, 2]), device=cuda:0, dtype=torch.float32]\n",
      "GS[0]__ __ __  SE3: size=torch.Size([6, 2]), device=cuda:0, dtype=torch.float32\n",
      "GS[0][:,jj] SE3: size=torch.Size([6, 2]), device=cuda:0, dtype=torch.float32\n"
     ]
    },
    {
     "name": "stderr",
     "output_type": "stream",
     "text": [
      " 37%|███▋      | 494/1333 [03:46<06:26,  2.17batch/s]"
     ]
    },
    {
     "name": "stdout",
     "output_type": "stream",
     "text": [
      "GS______ [SE3: size=torch.Size([6, 2]), device=cuda:0, dtype=torch.float32]\n",
      "GS[0]__ __ __  SE3: size=torch.Size([6, 2]), device=cuda:0, dtype=torch.float32\n",
      "GS[0][:,jj] SE3: size=torch.Size([6, 2]), device=cuda:0, dtype=torch.float32\n"
     ]
    },
    {
     "name": "stderr",
     "output_type": "stream",
     "text": [
      " 37%|███▋      | 495/1333 [03:46<06:25,  2.17batch/s]"
     ]
    },
    {
     "name": "stdout",
     "output_type": "stream",
     "text": [
      "GS______ [SE3: size=torch.Size([6, 2]), device=cuda:0, dtype=torch.float32]\n",
      "GS[0]__ __ __  SE3: size=torch.Size([6, 2]), device=cuda:0, dtype=torch.float32\n",
      "GS[0][:,jj] SE3: size=torch.Size([6, 2]), device=cuda:0, dtype=torch.float32\n"
     ]
    },
    {
     "name": "stderr",
     "output_type": "stream",
     "text": [
      " 37%|███▋      | 496/1333 [03:47<06:23,  2.18batch/s]"
     ]
    },
    {
     "name": "stdout",
     "output_type": "stream",
     "text": [
      "GS______ [SE3: size=torch.Size([6, 2]), device=cuda:0, dtype=torch.float32]\n",
      "GS[0]__ __ __  SE3: size=torch.Size([6, 2]), device=cuda:0, dtype=torch.float32\n",
      "GS[0][:,jj] SE3: size=torch.Size([6, 2]), device=cuda:0, dtype=torch.float32\n"
     ]
    },
    {
     "name": "stderr",
     "output_type": "stream",
     "text": [
      " 37%|███▋      | 497/1333 [03:47<06:21,  2.19batch/s]"
     ]
    },
    {
     "name": "stdout",
     "output_type": "stream",
     "text": [
      "GS______ [SE3: size=torch.Size([6, 2]), device=cuda:0, dtype=torch.float32]\n",
      "GS[0]__ __ __  SE3: size=torch.Size([6, 2]), device=cuda:0, dtype=torch.float32\n",
      "GS[0][:,jj] SE3: size=torch.Size([6, 2]), device=cuda:0, dtype=torch.float32\n"
     ]
    },
    {
     "name": "stderr",
     "output_type": "stream",
     "text": [
      " 37%|███▋      | 498/1333 [03:48<06:22,  2.18batch/s]"
     ]
    },
    {
     "name": "stdout",
     "output_type": "stream",
     "text": [
      "GS______ [SE3: size=torch.Size([6, 2]), device=cuda:0, dtype=torch.float32]\n",
      "GS[0]__ __ __  SE3: size=torch.Size([6, 2]), device=cuda:0, dtype=torch.float32\n",
      "GS[0][:,jj] SE3: size=torch.Size([6, 2]), device=cuda:0, dtype=torch.float32\n"
     ]
    },
    {
     "name": "stderr",
     "output_type": "stream",
     "text": [
      " 37%|███▋      | 499/1333 [03:48<06:24,  2.17batch/s]"
     ]
    },
    {
     "name": "stdout",
     "output_type": "stream",
     "text": [
      "GS______ [SE3: size=torch.Size([6, 2]), device=cuda:0, dtype=torch.float32]\n",
      "GS[0]__ __ __  SE3: size=torch.Size([6, 2]), device=cuda:0, dtype=torch.float32\n",
      "GS[0][:,jj] SE3: size=torch.Size([6, 2]), device=cuda:0, dtype=torch.float32\n"
     ]
    },
    {
     "name": "stderr",
     "output_type": "stream",
     "text": [
      " 38%|███▊      | 500/1333 [03:49<06:24,  2.17batch/s]"
     ]
    },
    {
     "name": "stdout",
     "output_type": "stream",
     "text": [
      "GS______ [SE3: size=torch.Size([6, 2]), device=cuda:0, dtype=torch.float32]\n",
      "GS[0]__ __ __  SE3: size=torch.Size([6, 2]), device=cuda:0, dtype=torch.float32\n",
      "GS[0][:,jj] SE3: size=torch.Size([6, 2]), device=cuda:0, dtype=torch.float32\n"
     ]
    },
    {
     "name": "stderr",
     "output_type": "stream",
     "text": [
      " 38%|███▊      | 501/1333 [03:49<06:23,  2.17batch/s]"
     ]
    },
    {
     "name": "stdout",
     "output_type": "stream",
     "text": [
      "GS______ [SE3: size=torch.Size([6, 2]), device=cuda:0, dtype=torch.float32]\n",
      "GS[0]__ __ __  SE3: size=torch.Size([6, 2]), device=cuda:0, dtype=torch.float32\n",
      "GS[0][:,jj] SE3: size=torch.Size([6, 2]), device=cuda:0, dtype=torch.float32\n"
     ]
    },
    {
     "name": "stderr",
     "output_type": "stream",
     "text": [
      " 38%|███▊      | 502/1333 [03:50<06:23,  2.17batch/s]"
     ]
    },
    {
     "name": "stdout",
     "output_type": "stream",
     "text": [
      "GS______ [SE3: size=torch.Size([6, 2]), device=cuda:0, dtype=torch.float32]\n",
      "GS[0]__ __ __  SE3: size=torch.Size([6, 2]), device=cuda:0, dtype=torch.float32\n",
      "GS[0][:,jj] SE3: size=torch.Size([6, 2]), device=cuda:0, dtype=torch.float32\n"
     ]
    },
    {
     "name": "stderr",
     "output_type": "stream",
     "text": [
      " 38%|███▊      | 503/1333 [03:50<06:21,  2.17batch/s]"
     ]
    },
    {
     "name": "stdout",
     "output_type": "stream",
     "text": [
      "GS______ [SE3: size=torch.Size([6, 2]), device=cuda:0, dtype=torch.float32]\n",
      "GS[0]__ __ __  SE3: size=torch.Size([6, 2]), device=cuda:0, dtype=torch.float32\n",
      "GS[0][:,jj] SE3: size=torch.Size([6, 2]), device=cuda:0, dtype=torch.float32\n"
     ]
    },
    {
     "name": "stderr",
     "output_type": "stream",
     "text": [
      " 38%|███▊      | 504/1333 [03:51<06:23,  2.16batch/s]"
     ]
    },
    {
     "name": "stdout",
     "output_type": "stream",
     "text": [
      "GS______ [SE3: size=torch.Size([6, 2]), device=cuda:0, dtype=torch.float32]\n",
      "GS[0]__ __ __  SE3: size=torch.Size([6, 2]), device=cuda:0, dtype=torch.float32\n",
      "GS[0][:,jj] SE3: size=torch.Size([6, 2]), device=cuda:0, dtype=torch.float32\n"
     ]
    },
    {
     "name": "stderr",
     "output_type": "stream",
     "text": [
      " 38%|███▊      | 505/1333 [03:51<06:22,  2.16batch/s]"
     ]
    },
    {
     "name": "stdout",
     "output_type": "stream",
     "text": [
      "GS______ [SE3: size=torch.Size([6, 2]), device=cuda:0, dtype=torch.float32]\n",
      "GS[0]__ __ __  SE3: size=torch.Size([6, 2]), device=cuda:0, dtype=torch.float32\n",
      "GS[0][:,jj] SE3: size=torch.Size([6, 2]), device=cuda:0, dtype=torch.float32\n"
     ]
    },
    {
     "name": "stderr",
     "output_type": "stream",
     "text": [
      " 38%|███▊      | 506/1333 [03:52<06:20,  2.17batch/s]"
     ]
    },
    {
     "name": "stdout",
     "output_type": "stream",
     "text": [
      "GS______ [SE3: size=torch.Size([6, 2]), device=cuda:0, dtype=torch.float32]\n",
      "GS[0]__ __ __  SE3: size=torch.Size([6, 2]), device=cuda:0, dtype=torch.float32\n",
      "GS[0][:,jj] SE3: size=torch.Size([6, 2]), device=cuda:0, dtype=torch.float32\n"
     ]
    },
    {
     "name": "stderr",
     "output_type": "stream",
     "text": [
      " 38%|███▊      | 507/1333 [03:52<06:21,  2.16batch/s]"
     ]
    },
    {
     "name": "stdout",
     "output_type": "stream",
     "text": [
      "GS______ [SE3: size=torch.Size([6, 2]), device=cuda:0, dtype=torch.float32]\n",
      "GS[0]__ __ __  SE3: size=torch.Size([6, 2]), device=cuda:0, dtype=torch.float32\n",
      "GS[0][:,jj] SE3: size=torch.Size([6, 2]), device=cuda:0, dtype=torch.float32\n"
     ]
    },
    {
     "name": "stderr",
     "output_type": "stream",
     "text": [
      " 38%|███▊      | 508/1333 [03:52<06:20,  2.17batch/s]"
     ]
    },
    {
     "name": "stdout",
     "output_type": "stream",
     "text": [
      "GS______ [SE3: size=torch.Size([6, 2]), device=cuda:0, dtype=torch.float32]\n",
      "GS[0]__ __ __  SE3: size=torch.Size([6, 2]), device=cuda:0, dtype=torch.float32\n",
      "GS[0][:,jj] SE3: size=torch.Size([6, 2]), device=cuda:0, dtype=torch.float32\n"
     ]
    },
    {
     "name": "stderr",
     "output_type": "stream",
     "text": [
      " 38%|███▊      | 509/1333 [03:53<06:23,  2.15batch/s]"
     ]
    },
    {
     "name": "stdout",
     "output_type": "stream",
     "text": [
      "GS______ [SE3: size=torch.Size([6, 2]), device=cuda:0, dtype=torch.float32]\n",
      "GS[0]__ __ __  SE3: size=torch.Size([6, 2]), device=cuda:0, dtype=torch.float32\n",
      "GS[0][:,jj] SE3: size=torch.Size([6, 2]), device=cuda:0, dtype=torch.float32\n"
     ]
    },
    {
     "name": "stderr",
     "output_type": "stream",
     "text": [
      " 38%|███▊      | 510/1333 [03:53<06:21,  2.16batch/s]"
     ]
    },
    {
     "name": "stdout",
     "output_type": "stream",
     "text": [
      "GS______ [SE3: size=torch.Size([6, 2]), device=cuda:0, dtype=torch.float32]\n",
      "GS[0]__ __ __  SE3: size=torch.Size([6, 2]), device=cuda:0, dtype=torch.float32\n",
      "GS[0][:,jj] SE3: size=torch.Size([6, 2]), device=cuda:0, dtype=torch.float32\n"
     ]
    },
    {
     "name": "stderr",
     "output_type": "stream",
     "text": [
      " 38%|███▊      | 511/1333 [03:54<06:20,  2.16batch/s]"
     ]
    },
    {
     "name": "stdout",
     "output_type": "stream",
     "text": [
      "GS______ [SE3: size=torch.Size([6, 2]), device=cuda:0, dtype=torch.float32]\n",
      "GS[0]__ __ __  SE3: size=torch.Size([6, 2]), device=cuda:0, dtype=torch.float32\n",
      "GS[0][:,jj] SE3: size=torch.Size([6, 2]), device=cuda:0, dtype=torch.float32\n"
     ]
    },
    {
     "name": "stderr",
     "output_type": "stream",
     "text": [
      " 38%|███▊      | 512/1333 [03:54<06:20,  2.16batch/s]"
     ]
    },
    {
     "name": "stdout",
     "output_type": "stream",
     "text": [
      "GS______ [SE3: size=torch.Size([6, 2]), device=cuda:0, dtype=torch.float32]\n",
      "GS[0]__ __ __  SE3: size=torch.Size([6, 2]), device=cuda:0, dtype=torch.float32\n",
      "GS[0][:,jj] SE3: size=torch.Size([6, 2]), device=cuda:0, dtype=torch.float32\n"
     ]
    },
    {
     "name": "stderr",
     "output_type": "stream",
     "text": [
      " 38%|███▊      | 513/1333 [03:55<06:19,  2.16batch/s]"
     ]
    },
    {
     "name": "stdout",
     "output_type": "stream",
     "text": [
      "GS______ [SE3: size=torch.Size([6, 2]), device=cuda:0, dtype=torch.float32]\n",
      "GS[0]__ __ __  SE3: size=torch.Size([6, 2]), device=cuda:0, dtype=torch.float32\n",
      "GS[0][:,jj] SE3: size=torch.Size([6, 2]), device=cuda:0, dtype=torch.float32\n"
     ]
    },
    {
     "name": "stderr",
     "output_type": "stream",
     "text": [
      " 39%|███▊      | 514/1333 [03:55<06:18,  2.16batch/s]"
     ]
    },
    {
     "name": "stdout",
     "output_type": "stream",
     "text": [
      "GS______ [SE3: size=torch.Size([6, 2]), device=cuda:0, dtype=torch.float32]\n",
      "GS[0]__ __ __  SE3: size=torch.Size([6, 2]), device=cuda:0, dtype=torch.float32\n",
      "GS[0][:,jj] SE3: size=torch.Size([6, 2]), device=cuda:0, dtype=torch.float32\n"
     ]
    },
    {
     "name": "stderr",
     "output_type": "stream",
     "text": [
      " 39%|███▊      | 515/1333 [03:56<06:19,  2.16batch/s]"
     ]
    },
    {
     "name": "stdout",
     "output_type": "stream",
     "text": [
      "GS______ [SE3: size=torch.Size([6, 2]), device=cuda:0, dtype=torch.float32]\n",
      "GS[0]__ __ __  SE3: size=torch.Size([6, 2]), device=cuda:0, dtype=torch.float32\n",
      "GS[0][:,jj] SE3: size=torch.Size([6, 2]), device=cuda:0, dtype=torch.float32\n"
     ]
    },
    {
     "name": "stderr",
     "output_type": "stream",
     "text": [
      " 39%|███▊      | 516/1333 [03:56<06:18,  2.16batch/s]"
     ]
    },
    {
     "name": "stdout",
     "output_type": "stream",
     "text": [
      "GS______ [SE3: size=torch.Size([6, 2]), device=cuda:0, dtype=torch.float32]\n",
      "GS[0]__ __ __  SE3: size=torch.Size([6, 2]), device=cuda:0, dtype=torch.float32\n",
      "GS[0][:,jj] SE3: size=torch.Size([6, 2]), device=cuda:0, dtype=torch.float32\n"
     ]
    },
    {
     "name": "stderr",
     "output_type": "stream",
     "text": [
      " 39%|███▉      | 517/1333 [03:57<06:20,  2.15batch/s]"
     ]
    },
    {
     "name": "stdout",
     "output_type": "stream",
     "text": [
      "GS______ [SE3: size=torch.Size([6, 2]), device=cuda:0, dtype=torch.float32]\n",
      "GS[0]__ __ __  SE3: size=torch.Size([6, 2]), device=cuda:0, dtype=torch.float32\n",
      "GS[0][:,jj] SE3: size=torch.Size([6, 2]), device=cuda:0, dtype=torch.float32\n"
     ]
    },
    {
     "name": "stderr",
     "output_type": "stream",
     "text": [
      " 39%|███▉      | 518/1333 [03:57<06:18,  2.15batch/s]"
     ]
    },
    {
     "name": "stdout",
     "output_type": "stream",
     "text": [
      "GS______ [SE3: size=torch.Size([6, 2]), device=cuda:0, dtype=torch.float32]\n",
      "GS[0]__ __ __  SE3: size=torch.Size([6, 2]), device=cuda:0, dtype=torch.float32\n",
      "GS[0][:,jj] SE3: size=torch.Size([6, 2]), device=cuda:0, dtype=torch.float32\n"
     ]
    },
    {
     "name": "stderr",
     "output_type": "stream",
     "text": [
      " 39%|███▉      | 519/1333 [03:58<06:18,  2.15batch/s]"
     ]
    },
    {
     "name": "stdout",
     "output_type": "stream",
     "text": [
      "GS______ [SE3: size=torch.Size([6, 2]), device=cuda:0, dtype=torch.float32]\n",
      "GS[0]__ __ __  SE3: size=torch.Size([6, 2]), device=cuda:0, dtype=torch.float32\n",
      "GS[0][:,jj] SE3: size=torch.Size([6, 2]), device=cuda:0, dtype=torch.float32\n"
     ]
    },
    {
     "name": "stderr",
     "output_type": "stream",
     "text": [
      " 39%|███▉      | 520/1333 [03:58<06:19,  2.14batch/s]"
     ]
    },
    {
     "name": "stdout",
     "output_type": "stream",
     "text": [
      "GS______ [SE3: size=torch.Size([6, 2]), device=cuda:0, dtype=torch.float32]\n",
      "GS[0]__ __ __  SE3: size=torch.Size([6, 2]), device=cuda:0, dtype=torch.float32\n",
      "GS[0][:,jj] SE3: size=torch.Size([6, 2]), device=cuda:0, dtype=torch.float32\n"
     ]
    },
    {
     "name": "stderr",
     "output_type": "stream",
     "text": [
      " 39%|███▉      | 521/1333 [03:58<06:18,  2.15batch/s]"
     ]
    },
    {
     "name": "stdout",
     "output_type": "stream",
     "text": [
      "GS______ [SE3: size=torch.Size([6, 2]), device=cuda:0, dtype=torch.float32]\n",
      "GS[0]__ __ __  SE3: size=torch.Size([6, 2]), device=cuda:0, dtype=torch.float32\n",
      "GS[0][:,jj] SE3: size=torch.Size([6, 2]), device=cuda:0, dtype=torch.float32\n"
     ]
    },
    {
     "name": "stderr",
     "output_type": "stream",
     "text": [
      " 39%|███▉      | 522/1333 [03:59<06:18,  2.14batch/s]"
     ]
    },
    {
     "name": "stdout",
     "output_type": "stream",
     "text": [
      "GS______ [SE3: size=torch.Size([6, 2]), device=cuda:0, dtype=torch.float32]\n",
      "GS[0]__ __ __  SE3: size=torch.Size([6, 2]), device=cuda:0, dtype=torch.float32\n",
      "GS[0][:,jj] SE3: size=torch.Size([6, 2]), device=cuda:0, dtype=torch.float32\n"
     ]
    },
    {
     "name": "stderr",
     "output_type": "stream",
     "text": [
      " 39%|███▉      | 523/1333 [03:59<06:17,  2.14batch/s]"
     ]
    },
    {
     "name": "stdout",
     "output_type": "stream",
     "text": [
      "GS______ [SE3: size=torch.Size([6, 2]), device=cuda:0, dtype=torch.float32]\n",
      "GS[0]__ __ __  SE3: size=torch.Size([6, 2]), device=cuda:0, dtype=torch.float32\n",
      "GS[0][:,jj] SE3: size=torch.Size([6, 2]), device=cuda:0, dtype=torch.float32\n"
     ]
    },
    {
     "name": "stderr",
     "output_type": "stream",
     "text": [
      " 39%|███▉      | 524/1333 [04:00<06:18,  2.14batch/s]"
     ]
    },
    {
     "name": "stdout",
     "output_type": "stream",
     "text": [
      "GS______ [SE3: size=torch.Size([6, 2]), device=cuda:0, dtype=torch.float32]\n",
      "GS[0]__ __ __  SE3: size=torch.Size([6, 2]), device=cuda:0, dtype=torch.float32\n",
      "GS[0][:,jj] SE3: size=torch.Size([6, 2]), device=cuda:0, dtype=torch.float32\n"
     ]
    },
    {
     "name": "stderr",
     "output_type": "stream",
     "text": [
      " 39%|███▉      | 525/1333 [04:00<06:21,  2.12batch/s]"
     ]
    },
    {
     "name": "stdout",
     "output_type": "stream",
     "text": [
      "GS______ [SE3: size=torch.Size([6, 2]), device=cuda:0, dtype=torch.float32]\n",
      "GS[0]__ __ __  SE3: size=torch.Size([6, 2]), device=cuda:0, dtype=torch.float32\n",
      "GS[0][:,jj] SE3: size=torch.Size([6, 2]), device=cuda:0, dtype=torch.float32\n"
     ]
    },
    {
     "name": "stderr",
     "output_type": "stream",
     "text": [
      " 39%|███▉      | 526/1333 [04:01<06:18,  2.13batch/s]"
     ]
    },
    {
     "name": "stdout",
     "output_type": "stream",
     "text": [
      "GS______ [SE3: size=torch.Size([6, 2]), device=cuda:0, dtype=torch.float32]\n",
      "GS[0]__ __ __  SE3: size=torch.Size([6, 2]), device=cuda:0, dtype=torch.float32\n",
      "GS[0][:,jj] SE3: size=torch.Size([6, 2]), device=cuda:0, dtype=torch.float32\n"
     ]
    },
    {
     "name": "stderr",
     "output_type": "stream",
     "text": [
      " 40%|███▉      | 527/1333 [04:01<06:17,  2.13batch/s]"
     ]
    },
    {
     "name": "stdout",
     "output_type": "stream",
     "text": [
      "GS______ [SE3: size=torch.Size([6, 2]), device=cuda:0, dtype=torch.float32]\n",
      "GS[0]__ __ __  SE3: size=torch.Size([6, 2]), device=cuda:0, dtype=torch.float32\n",
      "GS[0][:,jj] SE3: size=torch.Size([6, 2]), device=cuda:0, dtype=torch.float32\n"
     ]
    },
    {
     "name": "stderr",
     "output_type": "stream",
     "text": [
      " 40%|███▉      | 528/1333 [04:02<06:13,  2.16batch/s]"
     ]
    },
    {
     "name": "stdout",
     "output_type": "stream",
     "text": [
      "GS______ [SE3: size=torch.Size([6, 2]), device=cuda:0, dtype=torch.float32]\n",
      "GS[0]__ __ __  SE3: size=torch.Size([6, 2]), device=cuda:0, dtype=torch.float32\n",
      "GS[0][:,jj] SE3: size=torch.Size([6, 2]), device=cuda:0, dtype=torch.float32\n"
     ]
    },
    {
     "name": "stderr",
     "output_type": "stream",
     "text": [
      " 40%|███▉      | 529/1333 [04:02<06:09,  2.17batch/s]"
     ]
    },
    {
     "name": "stdout",
     "output_type": "stream",
     "text": [
      "GS______ [SE3: size=torch.Size([6, 2]), device=cuda:0, dtype=torch.float32]\n",
      "GS[0]__ __ __  SE3: size=torch.Size([6, 2]), device=cuda:0, dtype=torch.float32\n",
      "GS[0][:,jj] SE3: size=torch.Size([6, 2]), device=cuda:0, dtype=torch.float32\n"
     ]
    },
    {
     "name": "stderr",
     "output_type": "stream",
     "text": [
      " 40%|███▉      | 530/1333 [04:03<06:10,  2.17batch/s]"
     ]
    },
    {
     "name": "stdout",
     "output_type": "stream",
     "text": [
      "GS______ [SE3: size=torch.Size([6, 2]), device=cuda:0, dtype=torch.float32]\n",
      "GS[0]__ __ __  SE3: size=torch.Size([6, 2]), device=cuda:0, dtype=torch.float32\n",
      "GS[0][:,jj] SE3: size=torch.Size([6, 2]), device=cuda:0, dtype=torch.float32\n"
     ]
    },
    {
     "name": "stderr",
     "output_type": "stream",
     "text": [
      " 40%|███▉      | 531/1333 [04:03<06:09,  2.17batch/s]"
     ]
    },
    {
     "name": "stdout",
     "output_type": "stream",
     "text": [
      "GS______ [SE3: size=torch.Size([6, 2]), device=cuda:0, dtype=torch.float32]\n",
      "GS[0]__ __ __  SE3: size=torch.Size([6, 2]), device=cuda:0, dtype=torch.float32\n",
      "GS[0][:,jj] SE3: size=torch.Size([6, 2]), device=cuda:0, dtype=torch.float32\n"
     ]
    },
    {
     "name": "stderr",
     "output_type": "stream",
     "text": [
      " 40%|███▉      | 532/1333 [04:04<06:08,  2.17batch/s]"
     ]
    },
    {
     "name": "stdout",
     "output_type": "stream",
     "text": [
      "GS______ [SE3: size=torch.Size([6, 2]), device=cuda:0, dtype=torch.float32]\n",
      "GS[0]__ __ __  SE3: size=torch.Size([6, 2]), device=cuda:0, dtype=torch.float32\n",
      "GS[0][:,jj] SE3: size=torch.Size([6, 2]), device=cuda:0, dtype=torch.float32\n"
     ]
    },
    {
     "name": "stderr",
     "output_type": "stream",
     "text": [
      " 40%|███▉      | 533/1333 [04:04<06:07,  2.17batch/s]"
     ]
    },
    {
     "name": "stdout",
     "output_type": "stream",
     "text": [
      "GS______ [SE3: size=torch.Size([6, 2]), device=cuda:0, dtype=torch.float32]\n",
      "GS[0]__ __ __  SE3: size=torch.Size([6, 2]), device=cuda:0, dtype=torch.float32\n",
      "GS[0][:,jj] SE3: size=torch.Size([6, 2]), device=cuda:0, dtype=torch.float32\n"
     ]
    },
    {
     "name": "stderr",
     "output_type": "stream",
     "text": [
      " 40%|████      | 534/1333 [04:04<06:06,  2.18batch/s]"
     ]
    },
    {
     "name": "stdout",
     "output_type": "stream",
     "text": [
      "GS______ [SE3: size=torch.Size([6, 2]), device=cuda:0, dtype=torch.float32]\n",
      "GS[0]__ __ __  SE3: size=torch.Size([6, 2]), device=cuda:0, dtype=torch.float32\n",
      "GS[0][:,jj] SE3: size=torch.Size([6, 2]), device=cuda:0, dtype=torch.float32\n"
     ]
    },
    {
     "name": "stderr",
     "output_type": "stream",
     "text": [
      " 40%|████      | 535/1333 [04:05<06:07,  2.17batch/s]"
     ]
    },
    {
     "name": "stdout",
     "output_type": "stream",
     "text": [
      "GS______ [SE3: size=torch.Size([6, 2]), device=cuda:0, dtype=torch.float32]\n",
      "GS[0]__ __ __  SE3: size=torch.Size([6, 2]), device=cuda:0, dtype=torch.float32\n",
      "GS[0][:,jj] SE3: size=torch.Size([6, 2]), device=cuda:0, dtype=torch.float32\n"
     ]
    },
    {
     "name": "stderr",
     "output_type": "stream",
     "text": [
      " 40%|████      | 536/1333 [04:05<06:05,  2.18batch/s]"
     ]
    },
    {
     "name": "stdout",
     "output_type": "stream",
     "text": [
      "GS______ [SE3: size=torch.Size([6, 2]), device=cuda:0, dtype=torch.float32]\n",
      "GS[0]__ __ __  SE3: size=torch.Size([6, 2]), device=cuda:0, dtype=torch.float32\n",
      "GS[0][:,jj] SE3: size=torch.Size([6, 2]), device=cuda:0, dtype=torch.float32\n"
     ]
    },
    {
     "name": "stderr",
     "output_type": "stream",
     "text": [
      " 40%|████      | 537/1333 [04:06<06:04,  2.18batch/s]"
     ]
    },
    {
     "name": "stdout",
     "output_type": "stream",
     "text": [
      "GS______ [SE3: size=torch.Size([6, 2]), device=cuda:0, dtype=torch.float32]\n",
      "GS[0]__ __ __  SE3: size=torch.Size([6, 2]), device=cuda:0, dtype=torch.float32\n",
      "GS[0][:,jj] SE3: size=torch.Size([6, 2]), device=cuda:0, dtype=torch.float32\n"
     ]
    },
    {
     "name": "stderr",
     "output_type": "stream",
     "text": [
      " 40%|████      | 538/1333 [04:06<06:02,  2.19batch/s]"
     ]
    },
    {
     "name": "stdout",
     "output_type": "stream",
     "text": [
      "GS______ [SE3: size=torch.Size([6, 2]), device=cuda:0, dtype=torch.float32]\n",
      "GS[0]__ __ __  SE3: size=torch.Size([6, 2]), device=cuda:0, dtype=torch.float32\n",
      "GS[0][:,jj] SE3: size=torch.Size([6, 2]), device=cuda:0, dtype=torch.float32\n"
     ]
    },
    {
     "name": "stderr",
     "output_type": "stream",
     "text": [
      " 40%|████      | 539/1333 [04:07<06:07,  2.16batch/s]"
     ]
    },
    {
     "name": "stdout",
     "output_type": "stream",
     "text": [
      "GS______ [SE3: size=torch.Size([6, 2]), device=cuda:0, dtype=torch.float32]\n",
      "GS[0]__ __ __  SE3: size=torch.Size([6, 2]), device=cuda:0, dtype=torch.float32\n",
      "GS[0][:,jj] SE3: size=torch.Size([6, 2]), device=cuda:0, dtype=torch.float32\n"
     ]
    },
    {
     "name": "stderr",
     "output_type": "stream",
     "text": [
      " 41%|████      | 540/1333 [04:07<06:04,  2.18batch/s]"
     ]
    },
    {
     "name": "stdout",
     "output_type": "stream",
     "text": [
      "GS______ [SE3: size=torch.Size([6, 2]), device=cuda:0, dtype=torch.float32]\n",
      "GS[0]__ __ __  SE3: size=torch.Size([6, 2]), device=cuda:0, dtype=torch.float32\n",
      "GS[0][:,jj] SE3: size=torch.Size([6, 2]), device=cuda:0, dtype=torch.float32\n"
     ]
    },
    {
     "name": "stderr",
     "output_type": "stream",
     "text": [
      " 41%|████      | 541/1333 [04:08<06:05,  2.17batch/s]"
     ]
    },
    {
     "name": "stdout",
     "output_type": "stream",
     "text": [
      "GS______ [SE3: size=torch.Size([6, 2]), device=cuda:0, dtype=torch.float32]\n",
      "GS[0]__ __ __  SE3: size=torch.Size([6, 2]), device=cuda:0, dtype=torch.float32\n",
      "GS[0][:,jj] SE3: size=torch.Size([6, 2]), device=cuda:0, dtype=torch.float32\n"
     ]
    },
    {
     "name": "stderr",
     "output_type": "stream",
     "text": [
      " 41%|████      | 542/1333 [04:08<06:04,  2.17batch/s]"
     ]
    },
    {
     "name": "stdout",
     "output_type": "stream",
     "text": [
      "GS______ [SE3: size=torch.Size([6, 2]), device=cuda:0, dtype=torch.float32]\n",
      "GS[0]__ __ __  SE3: size=torch.Size([6, 2]), device=cuda:0, dtype=torch.float32\n",
      "GS[0][:,jj] SE3: size=torch.Size([6, 2]), device=cuda:0, dtype=torch.float32\n"
     ]
    },
    {
     "name": "stderr",
     "output_type": "stream",
     "text": [
      " 41%|████      | 543/1333 [04:09<06:02,  2.18batch/s]"
     ]
    },
    {
     "name": "stdout",
     "output_type": "stream",
     "text": [
      "GS______ [SE3: size=torch.Size([6, 2]), device=cuda:0, dtype=torch.float32]\n",
      "GS[0]__ __ __  SE3: size=torch.Size([6, 2]), device=cuda:0, dtype=torch.float32\n",
      "GS[0][:,jj] SE3: size=torch.Size([6, 2]), device=cuda:0, dtype=torch.float32\n"
     ]
    },
    {
     "name": "stderr",
     "output_type": "stream",
     "text": [
      " 41%|████      | 544/1333 [04:09<06:04,  2.16batch/s]"
     ]
    },
    {
     "name": "stdout",
     "output_type": "stream",
     "text": [
      "GS______ [SE3: size=torch.Size([6, 2]), device=cuda:0, dtype=torch.float32]\n",
      "GS[0]__ __ __  SE3: size=torch.Size([6, 2]), device=cuda:0, dtype=torch.float32\n",
      "GS[0][:,jj] SE3: size=torch.Size([6, 2]), device=cuda:0, dtype=torch.float32\n"
     ]
    },
    {
     "name": "stderr",
     "output_type": "stream",
     "text": [
      " 41%|████      | 545/1333 [04:10<06:03,  2.17batch/s]"
     ]
    },
    {
     "name": "stdout",
     "output_type": "stream",
     "text": [
      "GS______ [SE3: size=torch.Size([6, 2]), device=cuda:0, dtype=torch.float32]\n",
      "GS[0]__ __ __  SE3: size=torch.Size([6, 2]), device=cuda:0, dtype=torch.float32\n",
      "GS[0][:,jj] SE3: size=torch.Size([6, 2]), device=cuda:0, dtype=torch.float32\n"
     ]
    },
    {
     "name": "stderr",
     "output_type": "stream",
     "text": [
      " 41%|████      | 546/1333 [04:10<06:01,  2.18batch/s]"
     ]
    },
    {
     "name": "stdout",
     "output_type": "stream",
     "text": [
      "GS______ [SE3: size=torch.Size([6, 2]), device=cuda:0, dtype=torch.float32]\n",
      "GS[0]__ __ __  SE3: size=torch.Size([6, 2]), device=cuda:0, dtype=torch.float32\n",
      "GS[0][:,jj] SE3: size=torch.Size([6, 2]), device=cuda:0, dtype=torch.float32\n"
     ]
    },
    {
     "name": "stderr",
     "output_type": "stream",
     "text": [
      " 41%|████      | 547/1333 [04:10<06:01,  2.18batch/s]"
     ]
    },
    {
     "name": "stdout",
     "output_type": "stream",
     "text": [
      "GS______ [SE3: size=torch.Size([6, 2]), device=cuda:0, dtype=torch.float32]\n",
      "GS[0]__ __ __  SE3: size=torch.Size([6, 2]), device=cuda:0, dtype=torch.float32\n",
      "GS[0][:,jj] SE3: size=torch.Size([6, 2]), device=cuda:0, dtype=torch.float32\n"
     ]
    },
    {
     "name": "stderr",
     "output_type": "stream",
     "text": [
      " 41%|████      | 548/1333 [04:11<06:00,  2.18batch/s]"
     ]
    },
    {
     "name": "stdout",
     "output_type": "stream",
     "text": [
      "GS______ [SE3: size=torch.Size([6, 2]), device=cuda:0, dtype=torch.float32]\n",
      "GS[0]__ __ __  SE3: size=torch.Size([6, 2]), device=cuda:0, dtype=torch.float32\n",
      "GS[0][:,jj] SE3: size=torch.Size([6, 2]), device=cuda:0, dtype=torch.float32\n"
     ]
    },
    {
     "name": "stderr",
     "output_type": "stream",
     "text": [
      " 41%|████      | 549/1333 [04:11<06:03,  2.15batch/s]"
     ]
    },
    {
     "name": "stdout",
     "output_type": "stream",
     "text": [
      "GS______ [SE3: size=torch.Size([6, 2]), device=cuda:0, dtype=torch.float32]\n",
      "GS[0]__ __ __  SE3: size=torch.Size([6, 2]), device=cuda:0, dtype=torch.float32\n",
      "GS[0][:,jj] SE3: size=torch.Size([6, 2]), device=cuda:0, dtype=torch.float32\n"
     ]
    },
    {
     "name": "stderr",
     "output_type": "stream",
     "text": [
      " 41%|████▏     | 550/1333 [04:12<06:04,  2.15batch/s]"
     ]
    },
    {
     "name": "stdout",
     "output_type": "stream",
     "text": [
      "GS______ [SE3: size=torch.Size([6, 2]), device=cuda:0, dtype=torch.float32]\n",
      "GS[0]__ __ __  SE3: size=torch.Size([6, 2]), device=cuda:0, dtype=torch.float32\n",
      "GS[0][:,jj] SE3: size=torch.Size([6, 2]), device=cuda:0, dtype=torch.float32\n"
     ]
    },
    {
     "name": "stderr",
     "output_type": "stream",
     "text": [
      " 41%|████▏     | 551/1333 [04:12<06:21,  2.05batch/s]"
     ]
    },
    {
     "name": "stdout",
     "output_type": "stream",
     "text": [
      "GS______ [SE3: size=torch.Size([6, 2]), device=cuda:0, dtype=torch.float32]\n",
      "GS[0]__ __ __  SE3: size=torch.Size([6, 2]), device=cuda:0, dtype=torch.float32\n",
      "GS[0][:,jj] SE3: size=torch.Size([6, 2]), device=cuda:0, dtype=torch.float32\n"
     ]
    },
    {
     "name": "stderr",
     "output_type": "stream",
     "text": [
      " 41%|████▏     | 552/1333 [04:13<06:32,  1.99batch/s]"
     ]
    },
    {
     "name": "stdout",
     "output_type": "stream",
     "text": [
      "GS______ [SE3: size=torch.Size([6, 2]), device=cuda:0, dtype=torch.float32]\n",
      "GS[0]__ __ __  SE3: size=torch.Size([6, 2]), device=cuda:0, dtype=torch.float32\n",
      "GS[0][:,jj] SE3: size=torch.Size([6, 2]), device=cuda:0, dtype=torch.float32\n"
     ]
    },
    {
     "name": "stderr",
     "output_type": "stream",
     "text": [
      " 41%|████▏     | 553/1333 [04:13<06:25,  2.02batch/s]"
     ]
    },
    {
     "name": "stdout",
     "output_type": "stream",
     "text": [
      "GS______ [SE3: size=torch.Size([6, 2]), device=cuda:0, dtype=torch.float32]\n",
      "GS[0]__ __ __  SE3: size=torch.Size([6, 2]), device=cuda:0, dtype=torch.float32\n",
      "GS[0][:,jj] SE3: size=torch.Size([6, 2]), device=cuda:0, dtype=torch.float32\n"
     ]
    },
    {
     "name": "stderr",
     "output_type": "stream",
     "text": [
      " 42%|████▏     | 554/1333 [04:14<06:16,  2.07batch/s]"
     ]
    },
    {
     "name": "stdout",
     "output_type": "stream",
     "text": [
      "GS______ [SE3: size=torch.Size([6, 2]), device=cuda:0, dtype=torch.float32]\n",
      "GS[0]__ __ __  SE3: size=torch.Size([6, 2]), device=cuda:0, dtype=torch.float32\n",
      "GS[0][:,jj] SE3: size=torch.Size([6, 2]), device=cuda:0, dtype=torch.float32\n"
     ]
    },
    {
     "name": "stderr",
     "output_type": "stream",
     "text": [
      " 42%|████▏     | 555/1333 [04:14<06:12,  2.09batch/s]"
     ]
    },
    {
     "name": "stdout",
     "output_type": "stream",
     "text": [
      "GS______ [SE3: size=torch.Size([6, 2]), device=cuda:0, dtype=torch.float32]\n",
      "GS[0]__ __ __  SE3: size=torch.Size([6, 2]), device=cuda:0, dtype=torch.float32\n",
      "GS[0][:,jj] SE3: size=torch.Size([6, 2]), device=cuda:0, dtype=torch.float32\n"
     ]
    },
    {
     "name": "stderr",
     "output_type": "stream",
     "text": [
      " 42%|████▏     | 556/1333 [04:15<06:07,  2.11batch/s]"
     ]
    },
    {
     "name": "stdout",
     "output_type": "stream",
     "text": [
      "GS______ [SE3: size=torch.Size([6, 2]), device=cuda:0, dtype=torch.float32]\n",
      "GS[0]__ __ __  SE3: size=torch.Size([6, 2]), device=cuda:0, dtype=torch.float32\n",
      "GS[0][:,jj] SE3: size=torch.Size([6, 2]), device=cuda:0, dtype=torch.float32\n"
     ]
    },
    {
     "name": "stderr",
     "output_type": "stream",
     "text": [
      " 42%|████▏     | 557/1333 [04:15<06:04,  2.13batch/s]"
     ]
    },
    {
     "name": "stdout",
     "output_type": "stream",
     "text": [
      "GS______ [SE3: size=torch.Size([6, 2]), device=cuda:0, dtype=torch.float32]\n",
      "GS[0]__ __ __  SE3: size=torch.Size([6, 2]), device=cuda:0, dtype=torch.float32\n",
      "GS[0][:,jj] SE3: size=torch.Size([6, 2]), device=cuda:0, dtype=torch.float32\n"
     ]
    },
    {
     "name": "stderr",
     "output_type": "stream",
     "text": [
      " 42%|████▏     | 558/1333 [04:16<06:00,  2.15batch/s]"
     ]
    },
    {
     "name": "stdout",
     "output_type": "stream",
     "text": [
      "GS______ [SE3: size=torch.Size([6, 2]), device=cuda:0, dtype=torch.float32]\n",
      "GS[0]__ __ __  SE3: size=torch.Size([6, 2]), device=cuda:0, dtype=torch.float32\n",
      "GS[0][:,jj] SE3: size=torch.Size([6, 2]), device=cuda:0, dtype=torch.float32\n"
     ]
    },
    {
     "name": "stderr",
     "output_type": "stream",
     "text": [
      " 42%|████▏     | 559/1333 [04:16<05:57,  2.17batch/s]"
     ]
    },
    {
     "name": "stdout",
     "output_type": "stream",
     "text": [
      "GS______ [SE3: size=torch.Size([6, 2]), device=cuda:0, dtype=torch.float32]\n",
      "GS[0]__ __ __  SE3: size=torch.Size([6, 2]), device=cuda:0, dtype=torch.float32\n",
      "GS[0][:,jj] SE3: size=torch.Size([6, 2]), device=cuda:0, dtype=torch.float32\n"
     ]
    },
    {
     "name": "stderr",
     "output_type": "stream",
     "text": [
      " 42%|████▏     | 560/1333 [04:17<05:54,  2.18batch/s]"
     ]
    },
    {
     "name": "stdout",
     "output_type": "stream",
     "text": [
      "GS______ [SE3: size=torch.Size([6, 2]), device=cuda:0, dtype=torch.float32]\n",
      "GS[0]__ __ __  SE3: size=torch.Size([6, 2]), device=cuda:0, dtype=torch.float32\n",
      "GS[0][:,jj] SE3: size=torch.Size([6, 2]), device=cuda:0, dtype=torch.float32\n"
     ]
    },
    {
     "name": "stderr",
     "output_type": "stream",
     "text": [
      " 42%|████▏     | 561/1333 [04:17<05:55,  2.17batch/s]"
     ]
    },
    {
     "name": "stdout",
     "output_type": "stream",
     "text": [
      "GS______ [SE3: size=torch.Size([6, 2]), device=cuda:0, dtype=torch.float32]\n",
      "GS[0]__ __ __  SE3: size=torch.Size([6, 2]), device=cuda:0, dtype=torch.float32\n",
      "GS[0][:,jj] SE3: size=torch.Size([6, 2]), device=cuda:0, dtype=torch.float32\n"
     ]
    },
    {
     "name": "stderr",
     "output_type": "stream",
     "text": [
      " 42%|████▏     | 562/1333 [04:18<05:52,  2.18batch/s]"
     ]
    },
    {
     "name": "stdout",
     "output_type": "stream",
     "text": [
      "GS______ [SE3: size=torch.Size([6, 2]), device=cuda:0, dtype=torch.float32]\n",
      "GS[0]__ __ __  SE3: size=torch.Size([6, 2]), device=cuda:0, dtype=torch.float32\n",
      "GS[0][:,jj] SE3: size=torch.Size([6, 2]), device=cuda:0, dtype=torch.float32\n"
     ]
    },
    {
     "name": "stderr",
     "output_type": "stream",
     "text": [
      " 42%|████▏     | 563/1333 [04:18<05:50,  2.19batch/s]"
     ]
    },
    {
     "name": "stdout",
     "output_type": "stream",
     "text": [
      "GS______ [SE3: size=torch.Size([6, 2]), device=cuda:0, dtype=torch.float32]\n",
      "GS[0]__ __ __  SE3: size=torch.Size([6, 2]), device=cuda:0, dtype=torch.float32\n",
      "GS[0][:,jj] SE3: size=torch.Size([6, 2]), device=cuda:0, dtype=torch.float32\n"
     ]
    },
    {
     "name": "stderr",
     "output_type": "stream",
     "text": [
      " 42%|████▏     | 564/1333 [04:18<05:48,  2.21batch/s]"
     ]
    },
    {
     "name": "stdout",
     "output_type": "stream",
     "text": [
      "GS______ [SE3: size=torch.Size([6, 2]), device=cuda:0, dtype=torch.float32]\n",
      "GS[0]__ __ __  SE3: size=torch.Size([6, 2]), device=cuda:0, dtype=torch.float32\n",
      "GS[0][:,jj] SE3: size=torch.Size([6, 2]), device=cuda:0, dtype=torch.float32\n"
     ]
    },
    {
     "name": "stderr",
     "output_type": "stream",
     "text": [
      " 42%|████▏     | 565/1333 [04:19<05:46,  2.21batch/s]"
     ]
    },
    {
     "name": "stdout",
     "output_type": "stream",
     "text": [
      "GS______ [SE3: size=torch.Size([6, 2]), device=cuda:0, dtype=torch.float32]\n",
      "GS[0]__ __ __  SE3: size=torch.Size([6, 2]), device=cuda:0, dtype=torch.float32\n",
      "GS[0][:,jj] SE3: size=torch.Size([6, 2]), device=cuda:0, dtype=torch.float32\n"
     ]
    },
    {
     "name": "stderr",
     "output_type": "stream",
     "text": [
      " 42%|████▏     | 566/1333 [04:19<05:43,  2.23batch/s]"
     ]
    },
    {
     "name": "stdout",
     "output_type": "stream",
     "text": [
      "GS______ [SE3: size=torch.Size([6, 2]), device=cuda:0, dtype=torch.float32]\n",
      "GS[0]__ __ __  SE3: size=torch.Size([6, 2]), device=cuda:0, dtype=torch.float32\n",
      "GS[0][:,jj] SE3: size=torch.Size([6, 2]), device=cuda:0, dtype=torch.float32\n"
     ]
    },
    {
     "name": "stderr",
     "output_type": "stream",
     "text": [
      " 43%|████▎     | 567/1333 [04:20<05:42,  2.24batch/s]"
     ]
    },
    {
     "name": "stdout",
     "output_type": "stream",
     "text": [
      "GS______ [SE3: size=torch.Size([6, 2]), device=cuda:0, dtype=torch.float32]\n",
      "GS[0]__ __ __  SE3: size=torch.Size([6, 2]), device=cuda:0, dtype=torch.float32\n",
      "GS[0][:,jj] SE3: size=torch.Size([6, 2]), device=cuda:0, dtype=torch.float32\n"
     ]
    },
    {
     "name": "stderr",
     "output_type": "stream",
     "text": [
      " 43%|████▎     | 568/1333 [04:20<05:40,  2.24batch/s]"
     ]
    },
    {
     "name": "stdout",
     "output_type": "stream",
     "text": [
      "GS______ [SE3: size=torch.Size([6, 2]), device=cuda:0, dtype=torch.float32]\n",
      "GS[0]__ __ __  SE3: size=torch.Size([6, 2]), device=cuda:0, dtype=torch.float32\n",
      "GS[0][:,jj] SE3: size=torch.Size([6, 2]), device=cuda:0, dtype=torch.float32\n"
     ]
    },
    {
     "name": "stderr",
     "output_type": "stream",
     "text": [
      " 43%|████▎     | 569/1333 [04:21<05:39,  2.25batch/s]"
     ]
    },
    {
     "name": "stdout",
     "output_type": "stream",
     "text": [
      "GS______ [SE3: size=torch.Size([6, 2]), device=cuda:0, dtype=torch.float32]\n",
      "GS[0]__ __ __  SE3: size=torch.Size([6, 2]), device=cuda:0, dtype=torch.float32\n",
      "GS[0][:,jj] SE3: size=torch.Size([6, 2]), device=cuda:0, dtype=torch.float32\n"
     ]
    },
    {
     "name": "stderr",
     "output_type": "stream",
     "text": [
      " 43%|████▎     | 570/1333 [04:21<05:38,  2.26batch/s]"
     ]
    },
    {
     "name": "stdout",
     "output_type": "stream",
     "text": [
      "GS______ [SE3: size=torch.Size([6, 2]), device=cuda:0, dtype=torch.float32]\n",
      "GS[0]__ __ __  SE3: size=torch.Size([6, 2]), device=cuda:0, dtype=torch.float32\n",
      "GS[0][:,jj] SE3: size=torch.Size([6, 2]), device=cuda:0, dtype=torch.float32\n"
     ]
    },
    {
     "name": "stderr",
     "output_type": "stream",
     "text": [
      " 43%|████▎     | 571/1333 [04:22<05:41,  2.23batch/s]"
     ]
    },
    {
     "name": "stdout",
     "output_type": "stream",
     "text": [
      "GS______ [SE3: size=torch.Size([6, 2]), device=cuda:0, dtype=torch.float32]\n",
      "GS[0]__ __ __  SE3: size=torch.Size([6, 2]), device=cuda:0, dtype=torch.float32\n",
      "GS[0][:,jj] SE3: size=torch.Size([6, 2]), device=cuda:0, dtype=torch.float32\n"
     ]
    },
    {
     "name": "stderr",
     "output_type": "stream",
     "text": [
      " 43%|████▎     | 572/1333 [04:22<05:40,  2.23batch/s]"
     ]
    },
    {
     "name": "stdout",
     "output_type": "stream",
     "text": [
      "GS______ [SE3: size=torch.Size([6, 2]), device=cuda:0, dtype=torch.float32]\n",
      "GS[0]__ __ __  SE3: size=torch.Size([6, 2]), device=cuda:0, dtype=torch.float32\n",
      "GS[0][:,jj] SE3: size=torch.Size([6, 2]), device=cuda:0, dtype=torch.float32\n"
     ]
    },
    {
     "name": "stderr",
     "output_type": "stream",
     "text": [
      " 43%|████▎     | 573/1333 [04:22<05:42,  2.22batch/s]"
     ]
    },
    {
     "name": "stdout",
     "output_type": "stream",
     "text": [
      "GS______ [SE3: size=torch.Size([6, 2]), device=cuda:0, dtype=torch.float32]\n",
      "GS[0]__ __ __  SE3: size=torch.Size([6, 2]), device=cuda:0, dtype=torch.float32\n",
      "GS[0][:,jj] SE3: size=torch.Size([6, 2]), device=cuda:0, dtype=torch.float32\n"
     ]
    },
    {
     "name": "stderr",
     "output_type": "stream",
     "text": [
      " 43%|████▎     | 574/1333 [04:23<05:40,  2.23batch/s]"
     ]
    },
    {
     "name": "stdout",
     "output_type": "stream",
     "text": [
      "GS______ [SE3: size=torch.Size([6, 2]), device=cuda:0, dtype=torch.float32]\n",
      "GS[0]__ __ __  SE3: size=torch.Size([6, 2]), device=cuda:0, dtype=torch.float32\n",
      "GS[0][:,jj] SE3: size=torch.Size([6, 2]), device=cuda:0, dtype=torch.float32\n"
     ]
    },
    {
     "name": "stderr",
     "output_type": "stream",
     "text": [
      " 43%|████▎     | 575/1333 [04:23<05:38,  2.24batch/s]"
     ]
    },
    {
     "name": "stdout",
     "output_type": "stream",
     "text": [
      "GS______ [SE3: size=torch.Size([6, 2]), device=cuda:0, dtype=torch.float32]\n",
      "GS[0]__ __ __  SE3: size=torch.Size([6, 2]), device=cuda:0, dtype=torch.float32\n",
      "GS[0][:,jj] SE3: size=torch.Size([6, 2]), device=cuda:0, dtype=torch.float32\n"
     ]
    },
    {
     "name": "stderr",
     "output_type": "stream",
     "text": [
      " 43%|████▎     | 576/1333 [04:24<05:39,  2.23batch/s]"
     ]
    },
    {
     "name": "stdout",
     "output_type": "stream",
     "text": [
      "GS______ [SE3: size=torch.Size([6, 2]), device=cuda:0, dtype=torch.float32]\n",
      "GS[0]__ __ __  SE3: size=torch.Size([6, 2]), device=cuda:0, dtype=torch.float32\n",
      "GS[0][:,jj] SE3: size=torch.Size([6, 2]), device=cuda:0, dtype=torch.float32\n"
     ]
    },
    {
     "name": "stderr",
     "output_type": "stream",
     "text": [
      " 43%|████▎     | 577/1333 [04:24<05:39,  2.23batch/s]"
     ]
    },
    {
     "name": "stdout",
     "output_type": "stream",
     "text": [
      "GS______ [SE3: size=torch.Size([6, 2]), device=cuda:0, dtype=torch.float32]\n",
      "GS[0]__ __ __  SE3: size=torch.Size([6, 2]), device=cuda:0, dtype=torch.float32\n",
      "GS[0][:,jj] SE3: size=torch.Size([6, 2]), device=cuda:0, dtype=torch.float32\n"
     ]
    },
    {
     "name": "stderr",
     "output_type": "stream",
     "text": [
      " 43%|████▎     | 578/1333 [04:25<05:38,  2.23batch/s]"
     ]
    },
    {
     "name": "stdout",
     "output_type": "stream",
     "text": [
      "GS______ [SE3: size=torch.Size([6, 2]), device=cuda:0, dtype=torch.float32]\n",
      "GS[0]__ __ __  SE3: size=torch.Size([6, 2]), device=cuda:0, dtype=torch.float32\n",
      "GS[0][:,jj] SE3: size=torch.Size([6, 2]), device=cuda:0, dtype=torch.float32\n"
     ]
    },
    {
     "name": "stderr",
     "output_type": "stream",
     "text": [
      " 43%|████▎     | 579/1333 [04:25<05:38,  2.23batch/s]"
     ]
    },
    {
     "name": "stdout",
     "output_type": "stream",
     "text": [
      "GS______ [SE3: size=torch.Size([6, 2]), device=cuda:0, dtype=torch.float32]\n",
      "GS[0]__ __ __  SE3: size=torch.Size([6, 2]), device=cuda:0, dtype=torch.float32\n",
      "GS[0][:,jj] SE3: size=torch.Size([6, 2]), device=cuda:0, dtype=torch.float32\n"
     ]
    },
    {
     "name": "stderr",
     "output_type": "stream",
     "text": [
      " 44%|████▎     | 580/1333 [04:26<05:39,  2.22batch/s]"
     ]
    },
    {
     "name": "stdout",
     "output_type": "stream",
     "text": [
      "GS______ [SE3: size=torch.Size([6, 2]), device=cuda:0, dtype=torch.float32]\n",
      "GS[0]__ __ __  SE3: size=torch.Size([6, 2]), device=cuda:0, dtype=torch.float32\n",
      "GS[0][:,jj] SE3: size=torch.Size([6, 2]), device=cuda:0, dtype=torch.float32\n"
     ]
    },
    {
     "name": "stderr",
     "output_type": "stream",
     "text": [
      " 44%|████▎     | 581/1333 [04:26<05:38,  2.22batch/s]"
     ]
    },
    {
     "name": "stdout",
     "output_type": "stream",
     "text": [
      "GS______ [SE3: size=torch.Size([6, 2]), device=cuda:0, dtype=torch.float32]\n",
      "GS[0]__ __ __  SE3: size=torch.Size([6, 2]), device=cuda:0, dtype=torch.float32\n",
      "GS[0][:,jj] SE3: size=torch.Size([6, 2]), device=cuda:0, dtype=torch.float32\n"
     ]
    },
    {
     "name": "stderr",
     "output_type": "stream",
     "text": [
      " 44%|████▎     | 582/1333 [04:27<05:39,  2.21batch/s]"
     ]
    },
    {
     "name": "stdout",
     "output_type": "stream",
     "text": [
      "GS______ [SE3: size=torch.Size([6, 2]), device=cuda:0, dtype=torch.float32]\n",
      "GS[0]__ __ __  SE3: size=torch.Size([6, 2]), device=cuda:0, dtype=torch.float32\n",
      "GS[0][:,jj] SE3: size=torch.Size([6, 2]), device=cuda:0, dtype=torch.float32\n"
     ]
    },
    {
     "name": "stderr",
     "output_type": "stream",
     "text": [
      " 44%|████▎     | 583/1333 [04:27<05:40,  2.20batch/s]"
     ]
    },
    {
     "name": "stdout",
     "output_type": "stream",
     "text": [
      "GS______ [SE3: size=torch.Size([6, 2]), device=cuda:0, dtype=torch.float32]\n",
      "GS[0]__ __ __  SE3: size=torch.Size([6, 2]), device=cuda:0, dtype=torch.float32\n",
      "GS[0][:,jj] SE3: size=torch.Size([6, 2]), device=cuda:0, dtype=torch.float32\n"
     ]
    },
    {
     "name": "stderr",
     "output_type": "stream",
     "text": [
      " 44%|████▍     | 584/1333 [04:27<05:41,  2.19batch/s]"
     ]
    },
    {
     "name": "stdout",
     "output_type": "stream",
     "text": [
      "GS______ [SE3: size=torch.Size([6, 2]), device=cuda:0, dtype=torch.float32]\n",
      "GS[0]__ __ __  SE3: size=torch.Size([6, 2]), device=cuda:0, dtype=torch.float32\n",
      "GS[0][:,jj] SE3: size=torch.Size([6, 2]), device=cuda:0, dtype=torch.float32\n"
     ]
    },
    {
     "name": "stderr",
     "output_type": "stream",
     "text": [
      " 44%|████▍     | 585/1333 [04:28<05:42,  2.18batch/s]"
     ]
    },
    {
     "name": "stdout",
     "output_type": "stream",
     "text": [
      "GS______ [SE3: size=torch.Size([6, 2]), device=cuda:0, dtype=torch.float32]\n",
      "GS[0]__ __ __  SE3: size=torch.Size([6, 2]), device=cuda:0, dtype=torch.float32\n",
      "GS[0][:,jj] SE3: size=torch.Size([6, 2]), device=cuda:0, dtype=torch.float32\n"
     ]
    },
    {
     "name": "stderr",
     "output_type": "stream",
     "text": [
      " 44%|████▍     | 586/1333 [04:28<05:43,  2.18batch/s]"
     ]
    },
    {
     "name": "stdout",
     "output_type": "stream",
     "text": [
      "GS______ [SE3: size=torch.Size([6, 2]), device=cuda:0, dtype=torch.float32]\n",
      "GS[0]__ __ __  SE3: size=torch.Size([6, 2]), device=cuda:0, dtype=torch.float32\n",
      "GS[0][:,jj] SE3: size=torch.Size([6, 2]), device=cuda:0, dtype=torch.float32\n"
     ]
    },
    {
     "name": "stderr",
     "output_type": "stream",
     "text": [
      " 44%|████▍     | 587/1333 [04:29<05:40,  2.19batch/s]"
     ]
    },
    {
     "name": "stdout",
     "output_type": "stream",
     "text": [
      "GS______ [SE3: size=torch.Size([6, 2]), device=cuda:0, dtype=torch.float32]\n",
      "GS[0]__ __ __  SE3: size=torch.Size([6, 2]), device=cuda:0, dtype=torch.float32\n",
      "GS[0][:,jj] SE3: size=torch.Size([6, 2]), device=cuda:0, dtype=torch.float32\n"
     ]
    },
    {
     "name": "stderr",
     "output_type": "stream",
     "text": [
      " 44%|████▍     | 588/1333 [04:29<05:40,  2.19batch/s]"
     ]
    },
    {
     "name": "stdout",
     "output_type": "stream",
     "text": [
      "GS______ [SE3: size=torch.Size([6, 2]), device=cuda:0, dtype=torch.float32]\n",
      "GS[0]__ __ __  SE3: size=torch.Size([6, 2]), device=cuda:0, dtype=torch.float32\n",
      "GS[0][:,jj] SE3: size=torch.Size([6, 2]), device=cuda:0, dtype=torch.float32\n"
     ]
    },
    {
     "name": "stderr",
     "output_type": "stream",
     "text": [
      " 44%|████▍     | 589/1333 [04:30<05:39,  2.19batch/s]"
     ]
    },
    {
     "name": "stdout",
     "output_type": "stream",
     "text": [
      "GS______ [SE3: size=torch.Size([6, 2]), device=cuda:0, dtype=torch.float32]\n",
      "GS[0]__ __ __  SE3: size=torch.Size([6, 2]), device=cuda:0, dtype=torch.float32\n",
      "GS[0][:,jj] SE3: size=torch.Size([6, 2]), device=cuda:0, dtype=torch.float32\n"
     ]
    },
    {
     "name": "stderr",
     "output_type": "stream",
     "text": [
      " 44%|████▍     | 590/1333 [04:30<05:38,  2.20batch/s]"
     ]
    },
    {
     "name": "stdout",
     "output_type": "stream",
     "text": [
      "GS______ [SE3: size=torch.Size([6, 2]), device=cuda:0, dtype=torch.float32]\n",
      "GS[0]__ __ __  SE3: size=torch.Size([6, 2]), device=cuda:0, dtype=torch.float32\n",
      "GS[0][:,jj] SE3: size=torch.Size([6, 2]), device=cuda:0, dtype=torch.float32\n"
     ]
    },
    {
     "name": "stderr",
     "output_type": "stream",
     "text": [
      " 44%|████▍     | 591/1333 [04:31<05:39,  2.19batch/s]"
     ]
    },
    {
     "name": "stdout",
     "output_type": "stream",
     "text": [
      "GS______ [SE3: size=torch.Size([6, 2]), device=cuda:0, dtype=torch.float32]\n",
      "GS[0]__ __ __  SE3: size=torch.Size([6, 2]), device=cuda:0, dtype=torch.float32\n",
      "GS[0][:,jj] SE3: size=torch.Size([6, 2]), device=cuda:0, dtype=torch.float32\n"
     ]
    },
    {
     "name": "stderr",
     "output_type": "stream",
     "text": [
      " 44%|████▍     | 592/1333 [04:31<05:38,  2.19batch/s]"
     ]
    },
    {
     "name": "stdout",
     "output_type": "stream",
     "text": [
      "GS______ [SE3: size=torch.Size([6, 2]), device=cuda:0, dtype=torch.float32]\n",
      "GS[0]__ __ __  SE3: size=torch.Size([6, 2]), device=cuda:0, dtype=torch.float32\n",
      "GS[0][:,jj] SE3: size=torch.Size([6, 2]), device=cuda:0, dtype=torch.float32\n"
     ]
    },
    {
     "name": "stderr",
     "output_type": "stream",
     "text": [
      " 44%|████▍     | 593/1333 [04:32<05:38,  2.18batch/s]"
     ]
    },
    {
     "name": "stdout",
     "output_type": "stream",
     "text": [
      "GS______ [SE3: size=torch.Size([6, 2]), device=cuda:0, dtype=torch.float32]\n",
      "GS[0]__ __ __  SE3: size=torch.Size([6, 2]), device=cuda:0, dtype=torch.float32\n",
      "GS[0][:,jj] SE3: size=torch.Size([6, 2]), device=cuda:0, dtype=torch.float32\n"
     ]
    },
    {
     "name": "stderr",
     "output_type": "stream",
     "text": [
      " 45%|████▍     | 594/1333 [04:32<05:36,  2.19batch/s]"
     ]
    },
    {
     "name": "stdout",
     "output_type": "stream",
     "text": [
      "GS______ [SE3: size=torch.Size([6, 2]), device=cuda:0, dtype=torch.float32]\n",
      "GS[0]__ __ __  SE3: size=torch.Size([6, 2]), device=cuda:0, dtype=torch.float32\n",
      "GS[0][:,jj] SE3: size=torch.Size([6, 2]), device=cuda:0, dtype=torch.float32\n"
     ]
    },
    {
     "name": "stderr",
     "output_type": "stream",
     "text": [
      " 45%|████▍     | 595/1333 [04:32<05:36,  2.19batch/s]"
     ]
    },
    {
     "name": "stdout",
     "output_type": "stream",
     "text": [
      "GS______ [SE3: size=torch.Size([6, 2]), device=cuda:0, dtype=torch.float32]\n",
      "GS[0]__ __ __  SE3: size=torch.Size([6, 2]), device=cuda:0, dtype=torch.float32\n",
      "GS[0][:,jj] SE3: size=torch.Size([6, 2]), device=cuda:0, dtype=torch.float32\n"
     ]
    },
    {
     "name": "stderr",
     "output_type": "stream",
     "text": [
      " 45%|████▍     | 596/1333 [04:33<05:37,  2.18batch/s]"
     ]
    },
    {
     "name": "stdout",
     "output_type": "stream",
     "text": [
      "GS______ [SE3: size=torch.Size([6, 2]), device=cuda:0, dtype=torch.float32]\n",
      "GS[0]__ __ __  SE3: size=torch.Size([6, 2]), device=cuda:0, dtype=torch.float32\n",
      "GS[0][:,jj] SE3: size=torch.Size([6, 2]), device=cuda:0, dtype=torch.float32\n"
     ]
    },
    {
     "name": "stderr",
     "output_type": "stream",
     "text": [
      " 45%|████▍     | 597/1333 [04:33<05:36,  2.19batch/s]"
     ]
    },
    {
     "name": "stdout",
     "output_type": "stream",
     "text": [
      "GS______ [SE3: size=torch.Size([6, 2]), device=cuda:0, dtype=torch.float32]\n",
      "GS[0]__ __ __  SE3: size=torch.Size([6, 2]), device=cuda:0, dtype=torch.float32\n",
      "GS[0][:,jj] SE3: size=torch.Size([6, 2]), device=cuda:0, dtype=torch.float32\n"
     ]
    },
    {
     "name": "stderr",
     "output_type": "stream",
     "text": [
      " 45%|████▍     | 598/1333 [04:34<05:37,  2.18batch/s]"
     ]
    },
    {
     "name": "stdout",
     "output_type": "stream",
     "text": [
      "GS______ [SE3: size=torch.Size([6, 2]), device=cuda:0, dtype=torch.float32]\n",
      "GS[0]__ __ __  SE3: size=torch.Size([6, 2]), device=cuda:0, dtype=torch.float32\n",
      "GS[0][:,jj] SE3: size=torch.Size([6, 2]), device=cuda:0, dtype=torch.float32\n"
     ]
    },
    {
     "name": "stderr",
     "output_type": "stream",
     "text": [
      " 45%|████▍     | 599/1333 [04:34<05:33,  2.20batch/s]"
     ]
    },
    {
     "name": "stdout",
     "output_type": "stream",
     "text": [
      "GS______ [SE3: size=torch.Size([6, 2]), device=cuda:0, dtype=torch.float32]\n",
      "GS[0]__ __ __  SE3: size=torch.Size([6, 2]), device=cuda:0, dtype=torch.float32\n",
      "GS[0][:,jj] SE3: size=torch.Size([6, 2]), device=cuda:0, dtype=torch.float32\n"
     ]
    },
    {
     "name": "stderr",
     "output_type": "stream",
     "text": [
      " 45%|████▌     | 600/1333 [04:35<05:31,  2.21batch/s]"
     ]
    },
    {
     "name": "stdout",
     "output_type": "stream",
     "text": [
      "GS______ [SE3: size=torch.Size([6, 2]), device=cuda:0, dtype=torch.float32]\n",
      "GS[0]__ __ __  SE3: size=torch.Size([6, 2]), device=cuda:0, dtype=torch.float32\n",
      "GS[0][:,jj] SE3: size=torch.Size([6, 2]), device=cuda:0, dtype=torch.float32\n"
     ]
    },
    {
     "name": "stderr",
     "output_type": "stream",
     "text": [
      " 45%|████▌     | 601/1333 [04:35<05:33,  2.19batch/s]"
     ]
    },
    {
     "name": "stdout",
     "output_type": "stream",
     "text": [
      "GS______ [SE3: size=torch.Size([6, 2]), device=cuda:0, dtype=torch.float32]\n",
      "GS[0]__ __ __  SE3: size=torch.Size([6, 2]), device=cuda:0, dtype=torch.float32\n",
      "GS[0][:,jj] SE3: size=torch.Size([6, 2]), device=cuda:0, dtype=torch.float32\n"
     ]
    },
    {
     "name": "stderr",
     "output_type": "stream",
     "text": [
      " 45%|████▌     | 602/1333 [04:36<05:30,  2.21batch/s]"
     ]
    },
    {
     "name": "stdout",
     "output_type": "stream",
     "text": [
      "GS______ [SE3: size=torch.Size([6, 2]), device=cuda:0, dtype=torch.float32]\n",
      "GS[0]__ __ __  SE3: size=torch.Size([6, 2]), device=cuda:0, dtype=torch.float32\n",
      "GS[0][:,jj] SE3: size=torch.Size([6, 2]), device=cuda:0, dtype=torch.float32\n"
     ]
    },
    {
     "name": "stderr",
     "output_type": "stream",
     "text": [
      " 45%|████▌     | 603/1333 [04:36<05:31,  2.20batch/s]"
     ]
    },
    {
     "name": "stdout",
     "output_type": "stream",
     "text": [
      "GS______ [SE3: size=torch.Size([6, 2]), device=cuda:0, dtype=torch.float32]\n",
      "GS[0]__ __ __  SE3: size=torch.Size([6, 2]), device=cuda:0, dtype=torch.float32\n",
      "GS[0][:,jj] SE3: size=torch.Size([6, 2]), device=cuda:0, dtype=torch.float32\n"
     ]
    },
    {
     "name": "stderr",
     "output_type": "stream",
     "text": [
      " 45%|████▌     | 604/1333 [04:37<05:30,  2.21batch/s]"
     ]
    },
    {
     "name": "stdout",
     "output_type": "stream",
     "text": [
      "GS______ [SE3: size=torch.Size([6, 2]), device=cuda:0, dtype=torch.float32]\n",
      "GS[0]__ __ __  SE3: size=torch.Size([6, 2]), device=cuda:0, dtype=torch.float32\n",
      "GS[0][:,jj] SE3: size=torch.Size([6, 2]), device=cuda:0, dtype=torch.float32\n"
     ]
    },
    {
     "name": "stderr",
     "output_type": "stream",
     "text": [
      " 45%|████▌     | 605/1333 [04:37<05:30,  2.20batch/s]"
     ]
    },
    {
     "name": "stdout",
     "output_type": "stream",
     "text": [
      "GS______ [SE3: size=torch.Size([6, 2]), device=cuda:0, dtype=torch.float32]\n",
      "GS[0]__ __ __  SE3: size=torch.Size([6, 2]), device=cuda:0, dtype=torch.float32\n",
      "GS[0][:,jj] SE3: size=torch.Size([6, 2]), device=cuda:0, dtype=torch.float32\n"
     ]
    },
    {
     "name": "stderr",
     "output_type": "stream",
     "text": [
      " 45%|████▌     | 606/1333 [04:37<05:34,  2.17batch/s]"
     ]
    },
    {
     "name": "stdout",
     "output_type": "stream",
     "text": [
      "GS______ [SE3: size=torch.Size([6, 2]), device=cuda:0, dtype=torch.float32]\n",
      "GS[0]__ __ __  SE3: size=torch.Size([6, 2]), device=cuda:0, dtype=torch.float32\n",
      "GS[0][:,jj] SE3: size=torch.Size([6, 2]), device=cuda:0, dtype=torch.float32\n"
     ]
    },
    {
     "name": "stderr",
     "output_type": "stream",
     "text": [
      " 46%|████▌     | 607/1333 [04:38<05:33,  2.18batch/s]"
     ]
    },
    {
     "name": "stdout",
     "output_type": "stream",
     "text": [
      "GS______ [SE3: size=torch.Size([6, 2]), device=cuda:0, dtype=torch.float32]\n",
      "GS[0]__ __ __  SE3: size=torch.Size([6, 2]), device=cuda:0, dtype=torch.float32\n",
      "GS[0][:,jj] SE3: size=torch.Size([6, 2]), device=cuda:0, dtype=torch.float32\n"
     ]
    },
    {
     "name": "stderr",
     "output_type": "stream",
     "text": [
      " 46%|████▌     | 608/1333 [04:38<05:33,  2.18batch/s]"
     ]
    },
    {
     "name": "stdout",
     "output_type": "stream",
     "text": [
      "GS______ [SE3: size=torch.Size([6, 2]), device=cuda:0, dtype=torch.float32]\n",
      "GS[0]__ __ __  SE3: size=torch.Size([6, 2]), device=cuda:0, dtype=torch.float32\n",
      "GS[0][:,jj] SE3: size=torch.Size([6, 2]), device=cuda:0, dtype=torch.float32\n"
     ]
    },
    {
     "name": "stderr",
     "output_type": "stream",
     "text": [
      " 46%|████▌     | 609/1333 [04:39<05:33,  2.17batch/s]"
     ]
    },
    {
     "name": "stdout",
     "output_type": "stream",
     "text": [
      "GS______ [SE3: size=torch.Size([6, 2]), device=cuda:0, dtype=torch.float32]\n",
      "GS[0]__ __ __  SE3: size=torch.Size([6, 2]), device=cuda:0, dtype=torch.float32\n",
      "GS[0][:,jj] SE3: size=torch.Size([6, 2]), device=cuda:0, dtype=torch.float32\n"
     ]
    },
    {
     "name": "stderr",
     "output_type": "stream",
     "text": [
      " 46%|████▌     | 610/1333 [04:39<05:40,  2.12batch/s]"
     ]
    },
    {
     "name": "stdout",
     "output_type": "stream",
     "text": [
      "GS______ [SE3: size=torch.Size([6, 2]), device=cuda:0, dtype=torch.float32]\n",
      "GS[0]__ __ __  SE3: size=torch.Size([6, 2]), device=cuda:0, dtype=torch.float32\n",
      "GS[0][:,jj] SE3: size=torch.Size([6, 2]), device=cuda:0, dtype=torch.float32\n"
     ]
    },
    {
     "name": "stderr",
     "output_type": "stream",
     "text": [
      " 46%|████▌     | 611/1333 [04:40<05:54,  2.04batch/s]"
     ]
    },
    {
     "name": "stdout",
     "output_type": "stream",
     "text": [
      "GS______ [SE3: size=torch.Size([6, 2]), device=cuda:0, dtype=torch.float32]\n",
      "GS[0]__ __ __  SE3: size=torch.Size([6, 2]), device=cuda:0, dtype=torch.float32\n",
      "GS[0][:,jj] SE3: size=torch.Size([6, 2]), device=cuda:0, dtype=torch.float32\n"
     ]
    },
    {
     "name": "stderr",
     "output_type": "stream",
     "text": [
      " 46%|████▌     | 612/1333 [04:40<05:51,  2.05batch/s]"
     ]
    },
    {
     "name": "stdout",
     "output_type": "stream",
     "text": [
      "GS______ [SE3: size=torch.Size([6, 2]), device=cuda:0, dtype=torch.float32]\n",
      "GS[0]__ __ __  SE3: size=torch.Size([6, 2]), device=cuda:0, dtype=torch.float32\n",
      "GS[0][:,jj] SE3: size=torch.Size([6, 2]), device=cuda:0, dtype=torch.float32\n"
     ]
    },
    {
     "name": "stderr",
     "output_type": "stream",
     "text": [
      " 46%|████▌     | 613/1333 [04:41<05:44,  2.09batch/s]"
     ]
    },
    {
     "name": "stdout",
     "output_type": "stream",
     "text": [
      "GS______ [SE3: size=torch.Size([6, 2]), device=cuda:0, dtype=torch.float32]\n",
      "GS[0]__ __ __  SE3: size=torch.Size([6, 2]), device=cuda:0, dtype=torch.float32\n",
      "GS[0][:,jj] SE3: size=torch.Size([6, 2]), device=cuda:0, dtype=torch.float32\n"
     ]
    },
    {
     "name": "stderr",
     "output_type": "stream",
     "text": [
      " 46%|████▌     | 614/1333 [04:41<05:38,  2.12batch/s]"
     ]
    },
    {
     "name": "stdout",
     "output_type": "stream",
     "text": [
      "GS______ [SE3: size=torch.Size([6, 2]), device=cuda:0, dtype=torch.float32]\n",
      "GS[0]__ __ __  SE3: size=torch.Size([6, 2]), device=cuda:0, dtype=torch.float32\n",
      "GS[0][:,jj] SE3: size=torch.Size([6, 2]), device=cuda:0, dtype=torch.float32\n"
     ]
    },
    {
     "name": "stderr",
     "output_type": "stream",
     "text": [
      " 46%|████▌     | 615/1333 [04:42<05:35,  2.14batch/s]"
     ]
    },
    {
     "name": "stdout",
     "output_type": "stream",
     "text": [
      "GS______ [SE3: size=torch.Size([6, 2]), device=cuda:0, dtype=torch.float32]\n",
      "GS[0]__ __ __  SE3: size=torch.Size([6, 2]), device=cuda:0, dtype=torch.float32\n",
      "GS[0][:,jj] SE3: size=torch.Size([6, 2]), device=cuda:0, dtype=torch.float32\n"
     ]
    },
    {
     "name": "stderr",
     "output_type": "stream",
     "text": [
      " 46%|████▌     | 616/1333 [04:42<05:36,  2.13batch/s]"
     ]
    },
    {
     "name": "stdout",
     "output_type": "stream",
     "text": [
      "GS______ [SE3: size=torch.Size([6, 2]), device=cuda:0, dtype=torch.float32]\n",
      "GS[0]__ __ __  SE3: size=torch.Size([6, 2]), device=cuda:0, dtype=torch.float32\n",
      "GS[0][:,jj] SE3: size=torch.Size([6, 2]), device=cuda:0, dtype=torch.float32\n"
     ]
    },
    {
     "name": "stderr",
     "output_type": "stream",
     "text": [
      " 46%|████▋     | 617/1333 [04:43<05:34,  2.14batch/s]"
     ]
    },
    {
     "name": "stdout",
     "output_type": "stream",
     "text": [
      "GS______ [SE3: size=torch.Size([6, 2]), device=cuda:0, dtype=torch.float32]\n",
      "GS[0]__ __ __  SE3: size=torch.Size([6, 2]), device=cuda:0, dtype=torch.float32\n",
      "GS[0][:,jj] SE3: size=torch.Size([6, 2]), device=cuda:0, dtype=torch.float32\n"
     ]
    },
    {
     "name": "stderr",
     "output_type": "stream",
     "text": [
      " 46%|████▋     | 618/1333 [04:43<05:30,  2.17batch/s]"
     ]
    },
    {
     "name": "stdout",
     "output_type": "stream",
     "text": [
      "GS______ [SE3: size=torch.Size([6, 2]), device=cuda:0, dtype=torch.float32]\n",
      "GS[0]__ __ __  SE3: size=torch.Size([6, 2]), device=cuda:0, dtype=torch.float32\n",
      "GS[0][:,jj] SE3: size=torch.Size([6, 2]), device=cuda:0, dtype=torch.float32\n"
     ]
    },
    {
     "name": "stderr",
     "output_type": "stream",
     "text": [
      " 46%|████▋     | 619/1333 [04:44<05:26,  2.19batch/s]"
     ]
    },
    {
     "name": "stdout",
     "output_type": "stream",
     "text": [
      "GS______ [SE3: size=torch.Size([6, 2]), device=cuda:0, dtype=torch.float32]\n",
      "GS[0]__ __ __  SE3: size=torch.Size([6, 2]), device=cuda:0, dtype=torch.float32\n",
      "GS[0][:,jj] SE3: size=torch.Size([6, 2]), device=cuda:0, dtype=torch.float32\n"
     ]
    },
    {
     "name": "stderr",
     "output_type": "stream",
     "text": [
      " 47%|████▋     | 620/1333 [04:44<05:24,  2.20batch/s]"
     ]
    },
    {
     "name": "stdout",
     "output_type": "stream",
     "text": [
      "GS______ [SE3: size=torch.Size([6, 2]), device=cuda:0, dtype=torch.float32]\n",
      "GS[0]__ __ __  SE3: size=torch.Size([6, 2]), device=cuda:0, dtype=torch.float32\n",
      "GS[0][:,jj] SE3: size=torch.Size([6, 2]), device=cuda:0, dtype=torch.float32\n"
     ]
    },
    {
     "name": "stderr",
     "output_type": "stream",
     "text": [
      " 47%|████▋     | 621/1333 [04:44<05:22,  2.20batch/s]"
     ]
    },
    {
     "name": "stdout",
     "output_type": "stream",
     "text": [
      "GS______ [SE3: size=torch.Size([6, 2]), device=cuda:0, dtype=torch.float32]\n",
      "GS[0]__ __ __  SE3: size=torch.Size([6, 2]), device=cuda:0, dtype=torch.float32\n",
      "GS[0][:,jj] SE3: size=torch.Size([6, 2]), device=cuda:0, dtype=torch.float32\n"
     ]
    },
    {
     "name": "stderr",
     "output_type": "stream",
     "text": [
      " 47%|████▋     | 622/1333 [04:45<05:23,  2.20batch/s]"
     ]
    },
    {
     "name": "stdout",
     "output_type": "stream",
     "text": [
      "GS______ [SE3: size=torch.Size([6, 2]), device=cuda:0, dtype=torch.float32]\n",
      "GS[0]__ __ __  SE3: size=torch.Size([6, 2]), device=cuda:0, dtype=torch.float32\n",
      "GS[0][:,jj] SE3: size=torch.Size([6, 2]), device=cuda:0, dtype=torch.float32\n"
     ]
    },
    {
     "name": "stderr",
     "output_type": "stream",
     "text": [
      " 47%|████▋     | 623/1333 [04:45<05:23,  2.20batch/s]"
     ]
    },
    {
     "name": "stdout",
     "output_type": "stream",
     "text": [
      "GS______ [SE3: size=torch.Size([6, 2]), device=cuda:0, dtype=torch.float32]\n",
      "GS[0]__ __ __  SE3: size=torch.Size([6, 2]), device=cuda:0, dtype=torch.float32\n",
      "GS[0][:,jj] SE3: size=torch.Size([6, 2]), device=cuda:0, dtype=torch.float32\n"
     ]
    },
    {
     "name": "stderr",
     "output_type": "stream",
     "text": [
      " 47%|████▋     | 624/1333 [04:46<05:20,  2.21batch/s]"
     ]
    },
    {
     "name": "stdout",
     "output_type": "stream",
     "text": [
      "GS______ [SE3: size=torch.Size([6, 2]), device=cuda:0, dtype=torch.float32]\n",
      "GS[0]__ __ __  SE3: size=torch.Size([6, 2]), device=cuda:0, dtype=torch.float32\n",
      "GS[0][:,jj] SE3: size=torch.Size([6, 2]), device=cuda:0, dtype=torch.float32\n"
     ]
    },
    {
     "name": "stderr",
     "output_type": "stream",
     "text": [
      " 47%|████▋     | 625/1333 [04:46<05:21,  2.20batch/s]"
     ]
    },
    {
     "name": "stdout",
     "output_type": "stream",
     "text": [
      "GS______ [SE3: size=torch.Size([6, 2]), device=cuda:0, dtype=torch.float32]\n",
      "GS[0]__ __ __  SE3: size=torch.Size([6, 2]), device=cuda:0, dtype=torch.float32\n",
      "GS[0][:,jj] SE3: size=torch.Size([6, 2]), device=cuda:0, dtype=torch.float32\n"
     ]
    },
    {
     "name": "stderr",
     "output_type": "stream",
     "text": [
      " 47%|████▋     | 626/1333 [04:47<05:22,  2.19batch/s]"
     ]
    },
    {
     "name": "stdout",
     "output_type": "stream",
     "text": [
      "GS______ [SE3: size=torch.Size([6, 2]), device=cuda:0, dtype=torch.float32]\n",
      "GS[0]__ __ __  SE3: size=torch.Size([6, 2]), device=cuda:0, dtype=torch.float32\n",
      "GS[0][:,jj] SE3: size=torch.Size([6, 2]), device=cuda:0, dtype=torch.float32\n"
     ]
    },
    {
     "name": "stderr",
     "output_type": "stream",
     "text": [
      " 47%|████▋     | 627/1333 [04:47<05:19,  2.21batch/s]"
     ]
    },
    {
     "name": "stdout",
     "output_type": "stream",
     "text": [
      "GS______ [SE3: size=torch.Size([6, 2]), device=cuda:0, dtype=torch.float32]\n",
      "GS[0]__ __ __  SE3: size=torch.Size([6, 2]), device=cuda:0, dtype=torch.float32\n",
      "GS[0][:,jj] SE3: size=torch.Size([6, 2]), device=cuda:0, dtype=torch.float32\n"
     ]
    },
    {
     "name": "stderr",
     "output_type": "stream",
     "text": [
      " 47%|████▋     | 628/1333 [04:48<05:18,  2.21batch/s]"
     ]
    },
    {
     "name": "stdout",
     "output_type": "stream",
     "text": [
      "GS______ [SE3: size=torch.Size([6, 2]), device=cuda:0, dtype=torch.float32]\n",
      "GS[0]__ __ __  SE3: size=torch.Size([6, 2]), device=cuda:0, dtype=torch.float32\n",
      "GS[0][:,jj] SE3: size=torch.Size([6, 2]), device=cuda:0, dtype=torch.float32\n"
     ]
    },
    {
     "name": "stderr",
     "output_type": "stream",
     "text": [
      " 47%|████▋     | 629/1333 [04:48<05:19,  2.20batch/s]"
     ]
    },
    {
     "name": "stdout",
     "output_type": "stream",
     "text": [
      "GS______ [SE3: size=torch.Size([6, 2]), device=cuda:0, dtype=torch.float32]\n",
      "GS[0]__ __ __  SE3: size=torch.Size([6, 2]), device=cuda:0, dtype=torch.float32\n",
      "GS[0][:,jj] SE3: size=torch.Size([6, 2]), device=cuda:0, dtype=torch.float32\n"
     ]
    },
    {
     "name": "stderr",
     "output_type": "stream",
     "text": [
      " 47%|████▋     | 630/1333 [04:49<05:21,  2.19batch/s]"
     ]
    },
    {
     "name": "stdout",
     "output_type": "stream",
     "text": [
      "GS______ [SE3: size=torch.Size([6, 2]), device=cuda:0, dtype=torch.float32]\n",
      "GS[0]__ __ __  SE3: size=torch.Size([6, 2]), device=cuda:0, dtype=torch.float32\n",
      "GS[0][:,jj] SE3: size=torch.Size([6, 2]), device=cuda:0, dtype=torch.float32\n"
     ]
    },
    {
     "name": "stderr",
     "output_type": "stream",
     "text": [
      " 47%|████▋     | 631/1333 [04:49<05:20,  2.19batch/s]"
     ]
    },
    {
     "name": "stdout",
     "output_type": "stream",
     "text": [
      "GS______ [SE3: size=torch.Size([6, 2]), device=cuda:0, dtype=torch.float32]\n",
      "GS[0]__ __ __  SE3: size=torch.Size([6, 2]), device=cuda:0, dtype=torch.float32\n",
      "GS[0][:,jj] SE3: size=torch.Size([6, 2]), device=cuda:0, dtype=torch.float32\n"
     ]
    },
    {
     "name": "stderr",
     "output_type": "stream",
     "text": [
      " 47%|████▋     | 632/1333 [04:49<05:22,  2.18batch/s]"
     ]
    },
    {
     "name": "stdout",
     "output_type": "stream",
     "text": [
      "GS______ [SE3: size=torch.Size([6, 2]), device=cuda:0, dtype=torch.float32]\n",
      "GS[0]__ __ __  SE3: size=torch.Size([6, 2]), device=cuda:0, dtype=torch.float32\n",
      "GS[0][:,jj] SE3: size=torch.Size([6, 2]), device=cuda:0, dtype=torch.float32\n"
     ]
    },
    {
     "name": "stderr",
     "output_type": "stream",
     "text": [
      " 47%|████▋     | 633/1333 [04:50<05:19,  2.19batch/s]"
     ]
    },
    {
     "name": "stdout",
     "output_type": "stream",
     "text": [
      "GS______ [SE3: size=torch.Size([6, 2]), device=cuda:0, dtype=torch.float32]\n",
      "GS[0]__ __ __  SE3: size=torch.Size([6, 2]), device=cuda:0, dtype=torch.float32\n",
      "GS[0][:,jj] SE3: size=torch.Size([6, 2]), device=cuda:0, dtype=torch.float32\n"
     ]
    },
    {
     "name": "stderr",
     "output_type": "stream",
     "text": [
      " 48%|████▊     | 634/1333 [04:50<05:15,  2.21batch/s]"
     ]
    },
    {
     "name": "stdout",
     "output_type": "stream",
     "text": [
      "GS______ [SE3: size=torch.Size([6, 2]), device=cuda:0, dtype=torch.float32]\n",
      "GS[0]__ __ __  SE3: size=torch.Size([6, 2]), device=cuda:0, dtype=torch.float32\n",
      "GS[0][:,jj] SE3: size=torch.Size([6, 2]), device=cuda:0, dtype=torch.float32\n"
     ]
    },
    {
     "name": "stderr",
     "output_type": "stream",
     "text": [
      " 48%|████▊     | 635/1333 [04:51<05:13,  2.22batch/s]"
     ]
    },
    {
     "name": "stdout",
     "output_type": "stream",
     "text": [
      "GS______ [SE3: size=torch.Size([6, 2]), device=cuda:0, dtype=torch.float32]\n",
      "GS[0]__ __ __  SE3: size=torch.Size([6, 2]), device=cuda:0, dtype=torch.float32\n",
      "GS[0][:,jj] SE3: size=torch.Size([6, 2]), device=cuda:0, dtype=torch.float32\n"
     ]
    },
    {
     "name": "stderr",
     "output_type": "stream",
     "text": [
      " 48%|████▊     | 636/1333 [04:51<05:12,  2.23batch/s]"
     ]
    },
    {
     "name": "stdout",
     "output_type": "stream",
     "text": [
      "GS______ [SE3: size=torch.Size([6, 2]), device=cuda:0, dtype=torch.float32]\n",
      "GS[0]__ __ __  SE3: size=torch.Size([6, 2]), device=cuda:0, dtype=torch.float32\n",
      "GS[0][:,jj] SE3: size=torch.Size([6, 2]), device=cuda:0, dtype=torch.float32\n"
     ]
    },
    {
     "name": "stderr",
     "output_type": "stream",
     "text": [
      " 48%|████▊     | 637/1333 [04:52<05:13,  2.22batch/s]"
     ]
    },
    {
     "name": "stdout",
     "output_type": "stream",
     "text": [
      "GS______ [SE3: size=torch.Size([6, 2]), device=cuda:0, dtype=torch.float32]\n",
      "GS[0]__ __ __  SE3: size=torch.Size([6, 2]), device=cuda:0, dtype=torch.float32\n",
      "GS[0][:,jj] SE3: size=torch.Size([6, 2]), device=cuda:0, dtype=torch.float32\n"
     ]
    },
    {
     "name": "stderr",
     "output_type": "stream",
     "text": [
      " 48%|████▊     | 638/1333 [04:52<05:10,  2.24batch/s]"
     ]
    },
    {
     "name": "stdout",
     "output_type": "stream",
     "text": [
      "GS______ [SE3: size=torch.Size([6, 2]), device=cuda:0, dtype=torch.float32]\n",
      "GS[0]__ __ __  SE3: size=torch.Size([6, 2]), device=cuda:0, dtype=torch.float32\n",
      "GS[0][:,jj] SE3: size=torch.Size([6, 2]), device=cuda:0, dtype=torch.float32\n"
     ]
    },
    {
     "name": "stderr",
     "output_type": "stream",
     "text": [
      " 48%|████▊     | 639/1333 [04:53<05:09,  2.24batch/s]"
     ]
    },
    {
     "name": "stdout",
     "output_type": "stream",
     "text": [
      "GS______ [SE3: size=torch.Size([6, 2]), device=cuda:0, dtype=torch.float32]\n",
      "GS[0]__ __ __  SE3: size=torch.Size([6, 2]), device=cuda:0, dtype=torch.float32\n",
      "GS[0][:,jj] SE3: size=torch.Size([6, 2]), device=cuda:0, dtype=torch.float32\n"
     ]
    },
    {
     "name": "stderr",
     "output_type": "stream",
     "text": [
      " 48%|████▊     | 640/1333 [04:53<05:10,  2.23batch/s]"
     ]
    },
    {
     "name": "stdout",
     "output_type": "stream",
     "text": [
      "GS______ [SE3: size=torch.Size([6, 2]), device=cuda:0, dtype=torch.float32]\n",
      "GS[0]__ __ __  SE3: size=torch.Size([6, 2]), device=cuda:0, dtype=torch.float32\n",
      "GS[0][:,jj] SE3: size=torch.Size([6, 2]), device=cuda:0, dtype=torch.float32\n"
     ]
    },
    {
     "name": "stderr",
     "output_type": "stream",
     "text": [
      " 48%|████▊     | 641/1333 [04:54<05:09,  2.24batch/s]"
     ]
    },
    {
     "name": "stdout",
     "output_type": "stream",
     "text": [
      "GS______ [SE3: size=torch.Size([6, 2]), device=cuda:0, dtype=torch.float32]\n",
      "GS[0]__ __ __  SE3: size=torch.Size([6, 2]), device=cuda:0, dtype=torch.float32\n",
      "GS[0][:,jj] SE3: size=torch.Size([6, 2]), device=cuda:0, dtype=torch.float32\n"
     ]
    },
    {
     "name": "stderr",
     "output_type": "stream",
     "text": [
      " 48%|████▊     | 642/1333 [04:54<05:08,  2.24batch/s]"
     ]
    },
    {
     "name": "stdout",
     "output_type": "stream",
     "text": [
      "GS______ [SE3: size=torch.Size([6, 2]), device=cuda:0, dtype=torch.float32]\n",
      "GS[0]__ __ __  SE3: size=torch.Size([6, 2]), device=cuda:0, dtype=torch.float32\n",
      "GS[0][:,jj] SE3: size=torch.Size([6, 2]), device=cuda:0, dtype=torch.float32\n"
     ]
    },
    {
     "name": "stderr",
     "output_type": "stream",
     "text": [
      " 48%|████▊     | 643/1333 [04:54<05:08,  2.23batch/s]"
     ]
    },
    {
     "name": "stdout",
     "output_type": "stream",
     "text": [
      "GS______ [SE3: size=torch.Size([6, 2]), device=cuda:0, dtype=torch.float32]\n",
      "GS[0]__ __ __  SE3: size=torch.Size([6, 2]), device=cuda:0, dtype=torch.float32\n",
      "GS[0][:,jj] SE3: size=torch.Size([6, 2]), device=cuda:0, dtype=torch.float32\n"
     ]
    },
    {
     "name": "stderr",
     "output_type": "stream",
     "text": [
      " 48%|████▊     | 644/1333 [04:55<05:08,  2.23batch/s]"
     ]
    },
    {
     "name": "stdout",
     "output_type": "stream",
     "text": [
      "GS______ [SE3: size=torch.Size([6, 2]), device=cuda:0, dtype=torch.float32]\n",
      "GS[0]__ __ __  SE3: size=torch.Size([6, 2]), device=cuda:0, dtype=torch.float32\n",
      "GS[0][:,jj] SE3: size=torch.Size([6, 2]), device=cuda:0, dtype=torch.float32\n"
     ]
    },
    {
     "name": "stderr",
     "output_type": "stream",
     "text": [
      " 48%|████▊     | 645/1333 [04:55<05:08,  2.23batch/s]"
     ]
    },
    {
     "name": "stdout",
     "output_type": "stream",
     "text": [
      "GS______ [SE3: size=torch.Size([6, 2]), device=cuda:0, dtype=torch.float32]\n",
      "GS[0]__ __ __  SE3: size=torch.Size([6, 2]), device=cuda:0, dtype=torch.float32\n",
      "GS[0][:,jj] SE3: size=torch.Size([6, 2]), device=cuda:0, dtype=torch.float32\n"
     ]
    },
    {
     "name": "stderr",
     "output_type": "stream",
     "text": [
      " 48%|████▊     | 646/1333 [04:56<05:10,  2.21batch/s]"
     ]
    },
    {
     "name": "stdout",
     "output_type": "stream",
     "text": [
      "GS______ [SE3: size=torch.Size([6, 2]), device=cuda:0, dtype=torch.float32]\n",
      "GS[0]__ __ __  SE3: size=torch.Size([6, 2]), device=cuda:0, dtype=torch.float32\n",
      "GS[0][:,jj] SE3: size=torch.Size([6, 2]), device=cuda:0, dtype=torch.float32\n"
     ]
    },
    {
     "name": "stderr",
     "output_type": "stream",
     "text": [
      " 49%|████▊     | 647/1333 [04:56<05:09,  2.22batch/s]"
     ]
    },
    {
     "name": "stdout",
     "output_type": "stream",
     "text": [
      "GS______ [SE3: size=torch.Size([6, 2]), device=cuda:0, dtype=torch.float32]\n",
      "GS[0]__ __ __  SE3: size=torch.Size([6, 2]), device=cuda:0, dtype=torch.float32\n",
      "GS[0][:,jj] SE3: size=torch.Size([6, 2]), device=cuda:0, dtype=torch.float32\n"
     ]
    },
    {
     "name": "stderr",
     "output_type": "stream",
     "text": [
      " 49%|████▊     | 648/1333 [04:57<05:09,  2.21batch/s]"
     ]
    },
    {
     "name": "stdout",
     "output_type": "stream",
     "text": [
      "GS______ [SE3: size=torch.Size([6, 2]), device=cuda:0, dtype=torch.float32]\n",
      "GS[0]__ __ __  SE3: size=torch.Size([6, 2]), device=cuda:0, dtype=torch.float32\n",
      "GS[0][:,jj] SE3: size=torch.Size([6, 2]), device=cuda:0, dtype=torch.float32\n"
     ]
    },
    {
     "name": "stderr",
     "output_type": "stream",
     "text": [
      " 49%|████▊     | 649/1333 [04:57<05:08,  2.22batch/s]"
     ]
    },
    {
     "name": "stdout",
     "output_type": "stream",
     "text": [
      "GS______ [SE3: size=torch.Size([6, 2]), device=cuda:0, dtype=torch.float32]\n",
      "GS[0]__ __ __  SE3: size=torch.Size([6, 2]), device=cuda:0, dtype=torch.float32\n",
      "GS[0][:,jj] SE3: size=torch.Size([6, 2]), device=cuda:0, dtype=torch.float32\n"
     ]
    },
    {
     "name": "stderr",
     "output_type": "stream",
     "text": [
      " 49%|████▉     | 650/1333 [04:58<05:08,  2.22batch/s]"
     ]
    },
    {
     "name": "stdout",
     "output_type": "stream",
     "text": [
      "GS______ [SE3: size=torch.Size([6, 2]), device=cuda:0, dtype=torch.float32]\n",
      "GS[0]__ __ __  SE3: size=torch.Size([6, 2]), device=cuda:0, dtype=torch.float32\n",
      "GS[0][:,jj] SE3: size=torch.Size([6, 2]), device=cuda:0, dtype=torch.float32\n"
     ]
    },
    {
     "name": "stderr",
     "output_type": "stream",
     "text": [
      " 49%|████▉     | 651/1333 [04:58<05:08,  2.21batch/s]"
     ]
    },
    {
     "name": "stdout",
     "output_type": "stream",
     "text": [
      "GS______ [SE3: size=torch.Size([6, 2]), device=cuda:0, dtype=torch.float32]\n",
      "GS[0]__ __ __  SE3: size=torch.Size([6, 2]), device=cuda:0, dtype=torch.float32\n",
      "GS[0][:,jj] SE3: size=torch.Size([6, 2]), device=cuda:0, dtype=torch.float32\n"
     ]
    },
    {
     "name": "stderr",
     "output_type": "stream",
     "text": [
      " 49%|████▉     | 652/1333 [04:58<05:08,  2.20batch/s]"
     ]
    },
    {
     "name": "stdout",
     "output_type": "stream",
     "text": [
      "GS______ [SE3: size=torch.Size([6, 2]), device=cuda:0, dtype=torch.float32]\n",
      "GS[0]__ __ __  SE3: size=torch.Size([6, 2]), device=cuda:0, dtype=torch.float32\n",
      "GS[0][:,jj] SE3: size=torch.Size([6, 2]), device=cuda:0, dtype=torch.float32\n"
     ]
    },
    {
     "name": "stderr",
     "output_type": "stream",
     "text": [
      " 49%|████▉     | 653/1333 [04:59<05:07,  2.21batch/s]"
     ]
    },
    {
     "name": "stdout",
     "output_type": "stream",
     "text": [
      "GS______ [SE3: size=torch.Size([6, 2]), device=cuda:0, dtype=torch.float32]\n",
      "GS[0]__ __ __  SE3: size=torch.Size([6, 2]), device=cuda:0, dtype=torch.float32\n",
      "GS[0][:,jj] SE3: size=torch.Size([6, 2]), device=cuda:0, dtype=torch.float32\n"
     ]
    },
    {
     "name": "stderr",
     "output_type": "stream",
     "text": [
      " 49%|████▉     | 654/1333 [04:59<05:05,  2.22batch/s]"
     ]
    },
    {
     "name": "stdout",
     "output_type": "stream",
     "text": [
      "GS______ [SE3: size=torch.Size([6, 2]), device=cuda:0, dtype=torch.float32]\n",
      "GS[0]__ __ __  SE3: size=torch.Size([6, 2]), device=cuda:0, dtype=torch.float32\n",
      "GS[0][:,jj] SE3: size=torch.Size([6, 2]), device=cuda:0, dtype=torch.float32\n"
     ]
    },
    {
     "name": "stderr",
     "output_type": "stream",
     "text": [
      " 49%|████▉     | 655/1333 [05:00<05:06,  2.21batch/s]"
     ]
    },
    {
     "name": "stdout",
     "output_type": "stream",
     "text": [
      "GS______ [SE3: size=torch.Size([6, 2]), device=cuda:0, dtype=torch.float32]\n",
      "GS[0]__ __ __  SE3: size=torch.Size([6, 2]), device=cuda:0, dtype=torch.float32\n",
      "GS[0][:,jj] SE3: size=torch.Size([6, 2]), device=cuda:0, dtype=torch.float32\n"
     ]
    },
    {
     "name": "stderr",
     "output_type": "stream",
     "text": [
      " 49%|████▉     | 656/1333 [05:00<05:07,  2.20batch/s]"
     ]
    },
    {
     "name": "stdout",
     "output_type": "stream",
     "text": [
      "GS______ [SE3: size=torch.Size([6, 2]), device=cuda:0, dtype=torch.float32]\n",
      "GS[0]__ __ __  SE3: size=torch.Size([6, 2]), device=cuda:0, dtype=torch.float32\n",
      "GS[0][:,jj] SE3: size=torch.Size([6, 2]), device=cuda:0, dtype=torch.float32\n"
     ]
    },
    {
     "name": "stderr",
     "output_type": "stream",
     "text": [
      " 49%|████▉     | 657/1333 [05:01<05:07,  2.20batch/s]"
     ]
    },
    {
     "name": "stdout",
     "output_type": "stream",
     "text": [
      "GS______ [SE3: size=torch.Size([6, 2]), device=cuda:0, dtype=torch.float32]\n",
      "GS[0]__ __ __  SE3: size=torch.Size([6, 2]), device=cuda:0, dtype=torch.float32\n",
      "GS[0][:,jj] SE3: size=torch.Size([6, 2]), device=cuda:0, dtype=torch.float32\n"
     ]
    },
    {
     "name": "stderr",
     "output_type": "stream",
     "text": [
      " 49%|████▉     | 658/1333 [05:01<05:06,  2.20batch/s]"
     ]
    },
    {
     "name": "stdout",
     "output_type": "stream",
     "text": [
      "GS______ [SE3: size=torch.Size([6, 2]), device=cuda:0, dtype=torch.float32]\n",
      "GS[0]__ __ __  SE3: size=torch.Size([6, 2]), device=cuda:0, dtype=torch.float32\n",
      "GS[0][:,jj] SE3: size=torch.Size([6, 2]), device=cuda:0, dtype=torch.float32\n"
     ]
    },
    {
     "name": "stderr",
     "output_type": "stream",
     "text": [
      " 49%|████▉     | 659/1333 [05:02<05:05,  2.20batch/s]"
     ]
    },
    {
     "name": "stdout",
     "output_type": "stream",
     "text": [
      "GS______ [SE3: size=torch.Size([6, 2]), device=cuda:0, dtype=torch.float32]\n",
      "GS[0]__ __ __  SE3: size=torch.Size([6, 2]), device=cuda:0, dtype=torch.float32\n",
      "GS[0][:,jj] SE3: size=torch.Size([6, 2]), device=cuda:0, dtype=torch.float32\n"
     ]
    },
    {
     "name": "stderr",
     "output_type": "stream",
     "text": [
      " 50%|████▉     | 660/1333 [05:02<05:09,  2.18batch/s]"
     ]
    },
    {
     "name": "stdout",
     "output_type": "stream",
     "text": [
      "GS______ [SE3: size=torch.Size([6, 2]), device=cuda:0, dtype=torch.float32]\n",
      "GS[0]__ __ __  SE3: size=torch.Size([6, 2]), device=cuda:0, dtype=torch.float32\n",
      "GS[0][:,jj] SE3: size=torch.Size([6, 2]), device=cuda:0, dtype=torch.float32\n"
     ]
    },
    {
     "name": "stderr",
     "output_type": "stream",
     "text": [
      " 50%|████▉     | 661/1333 [05:03<05:09,  2.17batch/s]"
     ]
    },
    {
     "name": "stdout",
     "output_type": "stream",
     "text": [
      "GS______ [SE3: size=torch.Size([6, 2]), device=cuda:0, dtype=torch.float32]\n",
      "GS[0]__ __ __  SE3: size=torch.Size([6, 2]), device=cuda:0, dtype=torch.float32\n",
      "GS[0][:,jj] SE3: size=torch.Size([6, 2]), device=cuda:0, dtype=torch.float32\n"
     ]
    },
    {
     "name": "stderr",
     "output_type": "stream",
     "text": [
      " 50%|████▉     | 662/1333 [05:03<05:08,  2.17batch/s]"
     ]
    },
    {
     "name": "stdout",
     "output_type": "stream",
     "text": [
      "GS______ [SE3: size=torch.Size([6, 2]), device=cuda:0, dtype=torch.float32]\n",
      "GS[0]__ __ __  SE3: size=torch.Size([6, 2]), device=cuda:0, dtype=torch.float32\n",
      "GS[0][:,jj] SE3: size=torch.Size([6, 2]), device=cuda:0, dtype=torch.float32\n"
     ]
    },
    {
     "name": "stderr",
     "output_type": "stream",
     "text": [
      " 50%|████▉     | 663/1333 [05:04<05:09,  2.17batch/s]"
     ]
    },
    {
     "name": "stdout",
     "output_type": "stream",
     "text": [
      "GS______ [SE3: size=torch.Size([6, 2]), device=cuda:0, dtype=torch.float32]\n",
      "GS[0]__ __ __  SE3: size=torch.Size([6, 2]), device=cuda:0, dtype=torch.float32\n",
      "GS[0][:,jj] SE3: size=torch.Size([6, 2]), device=cuda:0, dtype=torch.float32\n"
     ]
    },
    {
     "name": "stderr",
     "output_type": "stream",
     "text": [
      " 50%|████▉     | 664/1333 [05:04<05:08,  2.17batch/s]"
     ]
    },
    {
     "name": "stdout",
     "output_type": "stream",
     "text": [
      "GS______ [SE3: size=torch.Size([6, 2]), device=cuda:0, dtype=torch.float32]\n",
      "GS[0]__ __ __  SE3: size=torch.Size([6, 2]), device=cuda:0, dtype=torch.float32\n",
      "GS[0][:,jj] SE3: size=torch.Size([6, 2]), device=cuda:0, dtype=torch.float32\n"
     ]
    },
    {
     "name": "stderr",
     "output_type": "stream",
     "text": [
      " 50%|████▉     | 665/1333 [05:04<05:10,  2.15batch/s]"
     ]
    },
    {
     "name": "stdout",
     "output_type": "stream",
     "text": [
      "GS______ [SE3: size=torch.Size([6, 2]), device=cuda:0, dtype=torch.float32]\n",
      "GS[0]__ __ __  SE3: size=torch.Size([6, 2]), device=cuda:0, dtype=torch.float32\n",
      "GS[0][:,jj] SE3: size=torch.Size([6, 2]), device=cuda:0, dtype=torch.float32\n"
     ]
    },
    {
     "name": "stderr",
     "output_type": "stream",
     "text": [
      " 50%|████▉     | 666/1333 [05:05<05:06,  2.18batch/s]"
     ]
    },
    {
     "name": "stdout",
     "output_type": "stream",
     "text": [
      "GS______ [SE3: size=torch.Size([6, 2]), device=cuda:0, dtype=torch.float32]\n",
      "GS[0]__ __ __  SE3: size=torch.Size([6, 2]), device=cuda:0, dtype=torch.float32\n",
      "GS[0][:,jj] SE3: size=torch.Size([6, 2]), device=cuda:0, dtype=torch.float32\n"
     ]
    },
    {
     "name": "stderr",
     "output_type": "stream",
     "text": [
      " 50%|█████     | 667/1333 [05:05<05:03,  2.20batch/s]"
     ]
    },
    {
     "name": "stdout",
     "output_type": "stream",
     "text": [
      "GS______ [SE3: size=torch.Size([6, 2]), device=cuda:0, dtype=torch.float32]\n",
      "GS[0]__ __ __  SE3: size=torch.Size([6, 2]), device=cuda:0, dtype=torch.float32\n",
      "GS[0][:,jj] SE3: size=torch.Size([6, 2]), device=cuda:0, dtype=torch.float32\n"
     ]
    },
    {
     "name": "stderr",
     "output_type": "stream",
     "text": [
      " 50%|█████     | 668/1333 [05:06<05:01,  2.21batch/s]"
     ]
    },
    {
     "name": "stdout",
     "output_type": "stream",
     "text": [
      "GS______ [SE3: size=torch.Size([6, 2]), device=cuda:0, dtype=torch.float32]\n",
      "GS[0]__ __ __  SE3: size=torch.Size([6, 2]), device=cuda:0, dtype=torch.float32\n",
      "GS[0][:,jj] SE3: size=torch.Size([6, 2]), device=cuda:0, dtype=torch.float32\n"
     ]
    },
    {
     "name": "stderr",
     "output_type": "stream",
     "text": [
      " 50%|█████     | 669/1333 [05:06<05:01,  2.20batch/s]"
     ]
    },
    {
     "name": "stdout",
     "output_type": "stream",
     "text": [
      "GS______ [SE3: size=torch.Size([6, 2]), device=cuda:0, dtype=torch.float32]\n",
      "GS[0]__ __ __  SE3: size=torch.Size([6, 2]), device=cuda:0, dtype=torch.float32\n",
      "GS[0][:,jj] SE3: size=torch.Size([6, 2]), device=cuda:0, dtype=torch.float32\n"
     ]
    },
    {
     "name": "stderr",
     "output_type": "stream",
     "text": [
      " 50%|█████     | 670/1333 [05:07<05:01,  2.20batch/s]"
     ]
    },
    {
     "name": "stdout",
     "output_type": "stream",
     "text": [
      "GS______ [SE3: size=torch.Size([6, 2]), device=cuda:0, dtype=torch.float32]\n",
      "GS[0]__ __ __  SE3: size=torch.Size([6, 2]), device=cuda:0, dtype=torch.float32\n",
      "GS[0][:,jj] SE3: size=torch.Size([6, 2]), device=cuda:0, dtype=torch.float32\n"
     ]
    },
    {
     "name": "stderr",
     "output_type": "stream",
     "text": [
      " 50%|█████     | 671/1333 [05:07<05:00,  2.20batch/s]"
     ]
    },
    {
     "name": "stdout",
     "output_type": "stream",
     "text": [
      "GS______ [SE3: size=torch.Size([6, 2]), device=cuda:0, dtype=torch.float32]\n",
      "GS[0]__ __ __  SE3: size=torch.Size([6, 2]), device=cuda:0, dtype=torch.float32\n",
      "GS[0][:,jj] SE3: size=torch.Size([6, 2]), device=cuda:0, dtype=torch.float32\n"
     ]
    },
    {
     "name": "stderr",
     "output_type": "stream",
     "text": [
      " 50%|█████     | 672/1333 [05:08<04:58,  2.21batch/s]"
     ]
    },
    {
     "name": "stdout",
     "output_type": "stream",
     "text": [
      "GS______ [SE3: size=torch.Size([6, 2]), device=cuda:0, dtype=torch.float32]\n",
      "GS[0]__ __ __  SE3: size=torch.Size([6, 2]), device=cuda:0, dtype=torch.float32\n",
      "GS[0][:,jj] SE3: size=torch.Size([6, 2]), device=cuda:0, dtype=torch.float32\n"
     ]
    },
    {
     "name": "stderr",
     "output_type": "stream",
     "text": [
      " 50%|█████     | 673/1333 [05:08<04:57,  2.22batch/s]"
     ]
    },
    {
     "name": "stdout",
     "output_type": "stream",
     "text": [
      "GS______ [SE3: size=torch.Size([6, 2]), device=cuda:0, dtype=torch.float32]\n",
      "GS[0]__ __ __  SE3: size=torch.Size([6, 2]), device=cuda:0, dtype=torch.float32\n",
      "GS[0][:,jj] SE3: size=torch.Size([6, 2]), device=cuda:0, dtype=torch.float32\n"
     ]
    },
    {
     "name": "stderr",
     "output_type": "stream",
     "text": [
      " 51%|█████     | 674/1333 [05:09<04:58,  2.21batch/s]"
     ]
    },
    {
     "name": "stdout",
     "output_type": "stream",
     "text": [
      "GS______ [SE3: size=torch.Size([6, 2]), device=cuda:0, dtype=torch.float32]\n",
      "GS[0]__ __ __  SE3: size=torch.Size([6, 2]), device=cuda:0, dtype=torch.float32\n",
      "GS[0][:,jj] SE3: size=torch.Size([6, 2]), device=cuda:0, dtype=torch.float32\n"
     ]
    },
    {
     "name": "stderr",
     "output_type": "stream",
     "text": [
      " 51%|█████     | 675/1333 [05:09<04:55,  2.23batch/s]"
     ]
    },
    {
     "name": "stdout",
     "output_type": "stream",
     "text": [
      "GS______ [SE3: size=torch.Size([6, 2]), device=cuda:0, dtype=torch.float32]\n",
      "GS[0]__ __ __  SE3: size=torch.Size([6, 2]), device=cuda:0, dtype=torch.float32\n",
      "GS[0][:,jj] SE3: size=torch.Size([6, 2]), device=cuda:0, dtype=torch.float32\n"
     ]
    },
    {
     "name": "stderr",
     "output_type": "stream",
     "text": [
      " 51%|█████     | 676/1333 [05:09<04:53,  2.24batch/s]"
     ]
    },
    {
     "name": "stdout",
     "output_type": "stream",
     "text": [
      "GS______ [SE3: size=torch.Size([6, 2]), device=cuda:0, dtype=torch.float32]\n",
      "GS[0]__ __ __  SE3: size=torch.Size([6, 2]), device=cuda:0, dtype=torch.float32\n",
      "GS[0][:,jj] SE3: size=torch.Size([6, 2]), device=cuda:0, dtype=torch.float32\n"
     ]
    },
    {
     "name": "stderr",
     "output_type": "stream",
     "text": [
      " 51%|█████     | 677/1333 [05:10<04:52,  2.24batch/s]"
     ]
    },
    {
     "name": "stdout",
     "output_type": "stream",
     "text": [
      "GS______ [SE3: size=torch.Size([6, 2]), device=cuda:0, dtype=torch.float32]\n",
      "GS[0]__ __ __  SE3: size=torch.Size([6, 2]), device=cuda:0, dtype=torch.float32\n",
      "GS[0][:,jj] SE3: size=torch.Size([6, 2]), device=cuda:0, dtype=torch.float32\n"
     ]
    },
    {
     "name": "stderr",
     "output_type": "stream",
     "text": [
      " 51%|█████     | 678/1333 [05:10<04:56,  2.21batch/s]"
     ]
    },
    {
     "name": "stdout",
     "output_type": "stream",
     "text": [
      "GS______ [SE3: size=torch.Size([6, 2]), device=cuda:0, dtype=torch.float32]\n",
      "GS[0]__ __ __  SE3: size=torch.Size([6, 2]), device=cuda:0, dtype=torch.float32\n",
      "GS[0][:,jj] SE3: size=torch.Size([6, 2]), device=cuda:0, dtype=torch.float32\n"
     ]
    },
    {
     "name": "stderr",
     "output_type": "stream",
     "text": [
      " 51%|█████     | 679/1333 [05:11<04:55,  2.22batch/s]"
     ]
    },
    {
     "name": "stdout",
     "output_type": "stream",
     "text": [
      "GS______ [SE3: size=torch.Size([6, 2]), device=cuda:0, dtype=torch.float32]\n",
      "GS[0]__ __ __  SE3: size=torch.Size([6, 2]), device=cuda:0, dtype=torch.float32\n",
      "GS[0][:,jj] SE3: size=torch.Size([6, 2]), device=cuda:0, dtype=torch.float32\n"
     ]
    },
    {
     "name": "stderr",
     "output_type": "stream",
     "text": [
      " 51%|█████     | 680/1333 [05:11<04:55,  2.21batch/s]"
     ]
    },
    {
     "name": "stdout",
     "output_type": "stream",
     "text": [
      "GS______ [SE3: size=torch.Size([6, 2]), device=cuda:0, dtype=torch.float32]\n",
      "GS[0]__ __ __  SE3: size=torch.Size([6, 2]), device=cuda:0, dtype=torch.float32\n",
      "GS[0][:,jj] SE3: size=torch.Size([6, 2]), device=cuda:0, dtype=torch.float32\n"
     ]
    },
    {
     "name": "stderr",
     "output_type": "stream",
     "text": [
      " 51%|█████     | 681/1333 [05:12<04:55,  2.21batch/s]"
     ]
    },
    {
     "name": "stdout",
     "output_type": "stream",
     "text": [
      "GS______ [SE3: size=torch.Size([6, 2]), device=cuda:0, dtype=torch.float32]\n",
      "GS[0]__ __ __  SE3: size=torch.Size([6, 2]), device=cuda:0, dtype=torch.float32\n",
      "GS[0][:,jj] SE3: size=torch.Size([6, 2]), device=cuda:0, dtype=torch.float32\n"
     ]
    },
    {
     "name": "stderr",
     "output_type": "stream",
     "text": [
      " 51%|█████     | 682/1333 [05:12<04:56,  2.20batch/s]"
     ]
    },
    {
     "name": "stdout",
     "output_type": "stream",
     "text": [
      "GS______ [SE3: size=torch.Size([6, 2]), device=cuda:0, dtype=torch.float32]\n",
      "GS[0]__ __ __  SE3: size=torch.Size([6, 2]), device=cuda:0, dtype=torch.float32\n",
      "GS[0][:,jj] SE3: size=torch.Size([6, 2]), device=cuda:0, dtype=torch.float32\n"
     ]
    },
    {
     "name": "stderr",
     "output_type": "stream",
     "text": [
      " 51%|█████     | 683/1333 [05:13<04:57,  2.18batch/s]"
     ]
    },
    {
     "name": "stdout",
     "output_type": "stream",
     "text": [
      "GS______ [SE3: size=torch.Size([6, 2]), device=cuda:0, dtype=torch.float32]\n",
      "GS[0]__ __ __  SE3: size=torch.Size([6, 2]), device=cuda:0, dtype=torch.float32\n",
      "GS[0][:,jj] SE3: size=torch.Size([6, 2]), device=cuda:0, dtype=torch.float32\n"
     ]
    },
    {
     "name": "stderr",
     "output_type": "stream",
     "text": [
      " 51%|█████▏    | 684/1333 [05:13<04:56,  2.19batch/s]"
     ]
    },
    {
     "name": "stdout",
     "output_type": "stream",
     "text": [
      "GS______ [SE3: size=torch.Size([6, 2]), device=cuda:0, dtype=torch.float32]\n",
      "GS[0]__ __ __  SE3: size=torch.Size([6, 2]), device=cuda:0, dtype=torch.float32\n",
      "GS[0][:,jj] SE3: size=torch.Size([6, 2]), device=cuda:0, dtype=torch.float32\n"
     ]
    },
    {
     "name": "stderr",
     "output_type": "stream",
     "text": [
      " 51%|█████▏    | 685/1333 [05:13<04:54,  2.20batch/s]"
     ]
    },
    {
     "name": "stdout",
     "output_type": "stream",
     "text": [
      "GS______ [SE3: size=torch.Size([6, 2]), device=cuda:0, dtype=torch.float32]\n",
      "GS[0]__ __ __  SE3: size=torch.Size([6, 2]), device=cuda:0, dtype=torch.float32\n",
      "GS[0][:,jj] SE3: size=torch.Size([6, 2]), device=cuda:0, dtype=torch.float32\n"
     ]
    },
    {
     "name": "stderr",
     "output_type": "stream",
     "text": [
      " 51%|█████▏    | 686/1333 [05:14<04:53,  2.20batch/s]"
     ]
    },
    {
     "name": "stdout",
     "output_type": "stream",
     "text": [
      "GS______ [SE3: size=torch.Size([6, 2]), device=cuda:0, dtype=torch.float32]\n",
      "GS[0]__ __ __  SE3: size=torch.Size([6, 2]), device=cuda:0, dtype=torch.float32\n",
      "GS[0][:,jj] SE3: size=torch.Size([6, 2]), device=cuda:0, dtype=torch.float32\n"
     ]
    },
    {
     "name": "stderr",
     "output_type": "stream",
     "text": [
      " 52%|█████▏    | 687/1333 [05:14<04:53,  2.20batch/s]"
     ]
    },
    {
     "name": "stdout",
     "output_type": "stream",
     "text": [
      "GS______ [SE3: size=torch.Size([6, 2]), device=cuda:0, dtype=torch.float32]\n",
      "GS[0]__ __ __  SE3: size=torch.Size([6, 2]), device=cuda:0, dtype=torch.float32\n",
      "GS[0][:,jj] SE3: size=torch.Size([6, 2]), device=cuda:0, dtype=torch.float32\n"
     ]
    },
    {
     "name": "stderr",
     "output_type": "stream",
     "text": [
      " 52%|█████▏    | 688/1333 [05:15<04:52,  2.21batch/s]"
     ]
    },
    {
     "name": "stdout",
     "output_type": "stream",
     "text": [
      "GS______ [SE3: size=torch.Size([6, 2]), device=cuda:0, dtype=torch.float32]\n",
      "GS[0]__ __ __  SE3: size=torch.Size([6, 2]), device=cuda:0, dtype=torch.float32\n",
      "GS[0][:,jj] SE3: size=torch.Size([6, 2]), device=cuda:0, dtype=torch.float32\n"
     ]
    },
    {
     "name": "stderr",
     "output_type": "stream",
     "text": [
      " 52%|█████▏    | 689/1333 [05:15<04:52,  2.20batch/s]"
     ]
    },
    {
     "name": "stdout",
     "output_type": "stream",
     "text": [
      "GS______ [SE3: size=torch.Size([6, 2]), device=cuda:0, dtype=torch.float32]\n",
      "GS[0]__ __ __  SE3: size=torch.Size([6, 2]), device=cuda:0, dtype=torch.float32\n",
      "GS[0][:,jj] SE3: size=torch.Size([6, 2]), device=cuda:0, dtype=torch.float32\n"
     ]
    },
    {
     "name": "stderr",
     "output_type": "stream",
     "text": [
      " 52%|█████▏    | 690/1333 [05:16<04:54,  2.18batch/s]"
     ]
    },
    {
     "name": "stdout",
     "output_type": "stream",
     "text": [
      "GS______ [SE3: size=torch.Size([6, 2]), device=cuda:0, dtype=torch.float32]\n",
      "GS[0]__ __ __  SE3: size=torch.Size([6, 2]), device=cuda:0, dtype=torch.float32\n",
      "GS[0][:,jj] SE3: size=torch.Size([6, 2]), device=cuda:0, dtype=torch.float32\n"
     ]
    },
    {
     "name": "stderr",
     "output_type": "stream",
     "text": [
      " 52%|█████▏    | 691/1333 [05:16<04:54,  2.18batch/s]"
     ]
    },
    {
     "name": "stdout",
     "output_type": "stream",
     "text": [
      "GS______ [SE3: size=torch.Size([6, 2]), device=cuda:0, dtype=torch.float32]\n",
      "GS[0]__ __ __  SE3: size=torch.Size([6, 2]), device=cuda:0, dtype=torch.float32\n",
      "GS[0][:,jj] SE3: size=torch.Size([6, 2]), device=cuda:0, dtype=torch.float32\n"
     ]
    },
    {
     "name": "stderr",
     "output_type": "stream",
     "text": [
      " 52%|█████▏    | 692/1333 [05:17<04:55,  2.17batch/s]"
     ]
    },
    {
     "name": "stdout",
     "output_type": "stream",
     "text": [
      "GS______ [SE3: size=torch.Size([6, 2]), device=cuda:0, dtype=torch.float32]\n",
      "GS[0]__ __ __  SE3: size=torch.Size([6, 2]), device=cuda:0, dtype=torch.float32\n",
      "GS[0][:,jj] SE3: size=torch.Size([6, 2]), device=cuda:0, dtype=torch.float32\n"
     ]
    },
    {
     "name": "stderr",
     "output_type": "stream",
     "text": [
      " 52%|█████▏    | 693/1333 [05:17<04:55,  2.17batch/s]"
     ]
    },
    {
     "name": "stdout",
     "output_type": "stream",
     "text": [
      "GS______ [SE3: size=torch.Size([6, 2]), device=cuda:0, dtype=torch.float32]\n",
      "GS[0]__ __ __  SE3: size=torch.Size([6, 2]), device=cuda:0, dtype=torch.float32\n",
      "GS[0][:,jj] SE3: size=torch.Size([6, 2]), device=cuda:0, dtype=torch.float32\n"
     ]
    },
    {
     "name": "stderr",
     "output_type": "stream",
     "text": [
      " 52%|█████▏    | 694/1333 [05:18<04:55,  2.16batch/s]"
     ]
    },
    {
     "name": "stdout",
     "output_type": "stream",
     "text": [
      "GS______ [SE3: size=torch.Size([6, 2]), device=cuda:0, dtype=torch.float32]\n",
      "GS[0]__ __ __  SE3: size=torch.Size([6, 2]), device=cuda:0, dtype=torch.float32\n",
      "GS[0][:,jj] SE3: size=torch.Size([6, 2]), device=cuda:0, dtype=torch.float32\n"
     ]
    },
    {
     "name": "stderr",
     "output_type": "stream",
     "text": [
      " 52%|█████▏    | 695/1333 [05:18<04:56,  2.15batch/s]"
     ]
    },
    {
     "name": "stdout",
     "output_type": "stream",
     "text": [
      "GS______ [SE3: size=torch.Size([6, 2]), device=cuda:0, dtype=torch.float32]\n",
      "GS[0]__ __ __  SE3: size=torch.Size([6, 2]), device=cuda:0, dtype=torch.float32\n",
      "GS[0][:,jj] SE3: size=torch.Size([6, 2]), device=cuda:0, dtype=torch.float32\n"
     ]
    },
    {
     "name": "stderr",
     "output_type": "stream",
     "text": [
      " 52%|█████▏    | 696/1333 [05:19<04:54,  2.16batch/s]"
     ]
    },
    {
     "name": "stdout",
     "output_type": "stream",
     "text": [
      "GS______ [SE3: size=torch.Size([6, 2]), device=cuda:0, dtype=torch.float32]\n",
      "GS[0]__ __ __  SE3: size=torch.Size([6, 2]), device=cuda:0, dtype=torch.float32\n",
      "GS[0][:,jj] SE3: size=torch.Size([6, 2]), device=cuda:0, dtype=torch.float32\n"
     ]
    },
    {
     "name": "stderr",
     "output_type": "stream",
     "text": [
      " 52%|█████▏    | 697/1333 [05:19<04:51,  2.18batch/s]"
     ]
    },
    {
     "name": "stdout",
     "output_type": "stream",
     "text": [
      "GS______ [SE3: size=torch.Size([6, 2]), device=cuda:0, dtype=torch.float32]\n",
      "GS[0]__ __ __  SE3: size=torch.Size([6, 2]), device=cuda:0, dtype=torch.float32\n",
      "GS[0][:,jj] SE3: size=torch.Size([6, 2]), device=cuda:0, dtype=torch.float32\n"
     ]
    },
    {
     "name": "stderr",
     "output_type": "stream",
     "text": [
      " 52%|█████▏    | 698/1333 [05:19<04:50,  2.18batch/s]"
     ]
    },
    {
     "name": "stdout",
     "output_type": "stream",
     "text": [
      "GS______ [SE3: size=torch.Size([6, 2]), device=cuda:0, dtype=torch.float32]\n",
      "GS[0]__ __ __  SE3: size=torch.Size([6, 2]), device=cuda:0, dtype=torch.float32\n",
      "GS[0][:,jj] SE3: size=torch.Size([6, 2]), device=cuda:0, dtype=torch.float32\n"
     ]
    },
    {
     "name": "stderr",
     "output_type": "stream",
     "text": [
      " 52%|█████▏    | 699/1333 [05:20<04:50,  2.18batch/s]"
     ]
    },
    {
     "name": "stdout",
     "output_type": "stream",
     "text": [
      "GS______ [SE3: size=torch.Size([6, 2]), device=cuda:0, dtype=torch.float32]\n",
      "GS[0]__ __ __  SE3: size=torch.Size([6, 2]), device=cuda:0, dtype=torch.float32\n",
      "GS[0][:,jj] SE3: size=torch.Size([6, 2]), device=cuda:0, dtype=torch.float32\n"
     ]
    },
    {
     "name": "stderr",
     "output_type": "stream",
     "text": [
      " 53%|█████▎    | 700/1333 [05:20<04:49,  2.18batch/s]"
     ]
    },
    {
     "name": "stdout",
     "output_type": "stream",
     "text": [
      "GS______ [SE3: size=torch.Size([6, 2]), device=cuda:0, dtype=torch.float32]\n",
      "GS[0]__ __ __  SE3: size=torch.Size([6, 2]), device=cuda:0, dtype=torch.float32\n",
      "GS[0][:,jj] SE3: size=torch.Size([6, 2]), device=cuda:0, dtype=torch.float32\n"
     ]
    },
    {
     "name": "stderr",
     "output_type": "stream",
     "text": [
      " 53%|█████▎    | 701/1333 [05:21<04:49,  2.19batch/s]"
     ]
    },
    {
     "name": "stdout",
     "output_type": "stream",
     "text": [
      "GS______ [SE3: size=torch.Size([6, 2]), device=cuda:0, dtype=torch.float32]\n",
      "GS[0]__ __ __  SE3: size=torch.Size([6, 2]), device=cuda:0, dtype=torch.float32\n",
      "GS[0][:,jj] SE3: size=torch.Size([6, 2]), device=cuda:0, dtype=torch.float32\n"
     ]
    },
    {
     "name": "stderr",
     "output_type": "stream",
     "text": [
      " 53%|█████▎    | 702/1333 [05:21<04:48,  2.19batch/s]"
     ]
    },
    {
     "name": "stdout",
     "output_type": "stream",
     "text": [
      "GS______ [SE3: size=torch.Size([6, 2]), device=cuda:0, dtype=torch.float32]\n",
      "GS[0]__ __ __  SE3: size=torch.Size([6, 2]), device=cuda:0, dtype=torch.float32\n",
      "GS[0][:,jj] SE3: size=torch.Size([6, 2]), device=cuda:0, dtype=torch.float32\n"
     ]
    },
    {
     "name": "stderr",
     "output_type": "stream",
     "text": [
      " 53%|█████▎    | 703/1333 [05:22<04:48,  2.18batch/s]"
     ]
    },
    {
     "name": "stdout",
     "output_type": "stream",
     "text": [
      "GS______ [SE3: size=torch.Size([6, 2]), device=cuda:0, dtype=torch.float32]\n",
      "GS[0]__ __ __  SE3: size=torch.Size([6, 2]), device=cuda:0, dtype=torch.float32\n",
      "GS[0][:,jj] SE3: size=torch.Size([6, 2]), device=cuda:0, dtype=torch.float32\n"
     ]
    },
    {
     "name": "stderr",
     "output_type": "stream",
     "text": [
      " 53%|█████▎    | 704/1333 [05:22<04:47,  2.19batch/s]"
     ]
    },
    {
     "name": "stdout",
     "output_type": "stream",
     "text": [
      "GS______ [SE3: size=torch.Size([6, 2]), device=cuda:0, dtype=torch.float32]\n",
      "GS[0]__ __ __  SE3: size=torch.Size([6, 2]), device=cuda:0, dtype=torch.float32\n",
      "GS[0][:,jj] SE3: size=torch.Size([6, 2]), device=cuda:0, dtype=torch.float32\n"
     ]
    },
    {
     "name": "stderr",
     "output_type": "stream",
     "text": [
      " 53%|█████▎    | 705/1333 [05:23<04:46,  2.20batch/s]"
     ]
    },
    {
     "name": "stdout",
     "output_type": "stream",
     "text": [
      "GS______ [SE3: size=torch.Size([6, 2]), device=cuda:0, dtype=torch.float32]\n",
      "GS[0]__ __ __  SE3: size=torch.Size([6, 2]), device=cuda:0, dtype=torch.float32\n",
      "GS[0][:,jj] SE3: size=torch.Size([6, 2]), device=cuda:0, dtype=torch.float32\n"
     ]
    },
    {
     "name": "stderr",
     "output_type": "stream",
     "text": [
      " 53%|█████▎    | 706/1333 [05:23<04:46,  2.19batch/s]"
     ]
    },
    {
     "name": "stdout",
     "output_type": "stream",
     "text": [
      "GS______ [SE3: size=torch.Size([6, 2]), device=cuda:0, dtype=torch.float32]\n",
      "GS[0]__ __ __  SE3: size=torch.Size([6, 2]), device=cuda:0, dtype=torch.float32\n",
      "GS[0][:,jj] SE3: size=torch.Size([6, 2]), device=cuda:0, dtype=torch.float32\n"
     ]
    },
    {
     "name": "stderr",
     "output_type": "stream",
     "text": [
      " 53%|█████▎    | 707/1333 [05:24<04:47,  2.17batch/s]"
     ]
    },
    {
     "name": "stdout",
     "output_type": "stream",
     "text": [
      "GS______ [SE3: size=torch.Size([6, 2]), device=cuda:0, dtype=torch.float32]\n",
      "GS[0]__ __ __  SE3: size=torch.Size([6, 2]), device=cuda:0, dtype=torch.float32\n",
      "GS[0][:,jj] SE3: size=torch.Size([6, 2]), device=cuda:0, dtype=torch.float32\n"
     ]
    },
    {
     "name": "stderr",
     "output_type": "stream",
     "text": [
      " 53%|█████▎    | 708/1333 [05:24<04:46,  2.18batch/s]"
     ]
    },
    {
     "name": "stdout",
     "output_type": "stream",
     "text": [
      "GS______ [SE3: size=torch.Size([6, 2]), device=cuda:0, dtype=torch.float32]\n",
      "GS[0]__ __ __  SE3: size=torch.Size([6, 2]), device=cuda:0, dtype=torch.float32\n",
      "GS[0][:,jj] SE3: size=torch.Size([6, 2]), device=cuda:0, dtype=torch.float32\n"
     ]
    },
    {
     "name": "stderr",
     "output_type": "stream",
     "text": [
      " 53%|█████▎    | 709/1333 [05:24<04:44,  2.19batch/s]"
     ]
    },
    {
     "name": "stdout",
     "output_type": "stream",
     "text": [
      "GS______ [SE3: size=torch.Size([6, 2]), device=cuda:0, dtype=torch.float32]\n",
      "GS[0]__ __ __  SE3: size=torch.Size([6, 2]), device=cuda:0, dtype=torch.float32\n",
      "GS[0][:,jj] SE3: size=torch.Size([6, 2]), device=cuda:0, dtype=torch.float32\n"
     ]
    },
    {
     "name": "stderr",
     "output_type": "stream",
     "text": [
      " 53%|█████▎    | 710/1333 [05:25<04:43,  2.20batch/s]"
     ]
    },
    {
     "name": "stdout",
     "output_type": "stream",
     "text": [
      "GS______ [SE3: size=torch.Size([6, 2]), device=cuda:0, dtype=torch.float32]\n",
      "GS[0]__ __ __  SE3: size=torch.Size([6, 2]), device=cuda:0, dtype=torch.float32\n",
      "GS[0][:,jj] SE3: size=torch.Size([6, 2]), device=cuda:0, dtype=torch.float32\n"
     ]
    },
    {
     "name": "stderr",
     "output_type": "stream",
     "text": [
      " 53%|█████▎    | 711/1333 [05:25<04:42,  2.20batch/s]"
     ]
    },
    {
     "name": "stdout",
     "output_type": "stream",
     "text": [
      "GS______ [SE3: size=torch.Size([6, 2]), device=cuda:0, dtype=torch.float32]\n",
      "GS[0]__ __ __  SE3: size=torch.Size([6, 2]), device=cuda:0, dtype=torch.float32\n",
      "GS[0][:,jj] SE3: size=torch.Size([6, 2]), device=cuda:0, dtype=torch.float32\n"
     ]
    },
    {
     "name": "stderr",
     "output_type": "stream",
     "text": [
      " 53%|█████▎    | 712/1333 [05:26<04:41,  2.21batch/s]"
     ]
    },
    {
     "name": "stdout",
     "output_type": "stream",
     "text": [
      "GS______ [SE3: size=torch.Size([6, 2]), device=cuda:0, dtype=torch.float32]\n",
      "GS[0]__ __ __  SE3: size=torch.Size([6, 2]), device=cuda:0, dtype=torch.float32\n",
      "GS[0][:,jj] SE3: size=torch.Size([6, 2]), device=cuda:0, dtype=torch.float32\n"
     ]
    },
    {
     "name": "stderr",
     "output_type": "stream",
     "text": [
      " 53%|█████▎    | 713/1333 [05:26<04:39,  2.22batch/s]"
     ]
    },
    {
     "name": "stdout",
     "output_type": "stream",
     "text": [
      "GS______ [SE3: size=torch.Size([6, 2]), device=cuda:0, dtype=torch.float32]\n",
      "GS[0]__ __ __  SE3: size=torch.Size([6, 2]), device=cuda:0, dtype=torch.float32\n",
      "GS[0][:,jj] SE3: size=torch.Size([6, 2]), device=cuda:0, dtype=torch.float32\n"
     ]
    },
    {
     "name": "stderr",
     "output_type": "stream",
     "text": [
      " 54%|█████▎    | 714/1333 [05:27<04:38,  2.23batch/s]"
     ]
    },
    {
     "name": "stdout",
     "output_type": "stream",
     "text": [
      "GS______ [SE3: size=torch.Size([6, 2]), device=cuda:0, dtype=torch.float32]\n",
      "GS[0]__ __ __  SE3: size=torch.Size([6, 2]), device=cuda:0, dtype=torch.float32\n",
      "GS[0][:,jj] SE3: size=torch.Size([6, 2]), device=cuda:0, dtype=torch.float32\n"
     ]
    },
    {
     "name": "stderr",
     "output_type": "stream",
     "text": [
      " 54%|█████▎    | 715/1333 [05:27<04:37,  2.23batch/s]"
     ]
    },
    {
     "name": "stdout",
     "output_type": "stream",
     "text": [
      "GS______ [SE3: size=torch.Size([6, 2]), device=cuda:0, dtype=torch.float32]\n",
      "GS[0]__ __ __  SE3: size=torch.Size([6, 2]), device=cuda:0, dtype=torch.float32\n",
      "GS[0][:,jj] SE3: size=torch.Size([6, 2]), device=cuda:0, dtype=torch.float32\n"
     ]
    },
    {
     "name": "stderr",
     "output_type": "stream",
     "text": [
      " 54%|█████▎    | 716/1333 [05:28<04:38,  2.21batch/s]"
     ]
    },
    {
     "name": "stdout",
     "output_type": "stream",
     "text": [
      "GS______ [SE3: size=torch.Size([6, 2]), device=cuda:0, dtype=torch.float32]\n",
      "GS[0]__ __ __  SE3: size=torch.Size([6, 2]), device=cuda:0, dtype=torch.float32\n",
      "GS[0][:,jj] SE3: size=torch.Size([6, 2]), device=cuda:0, dtype=torch.float32\n"
     ]
    },
    {
     "name": "stderr",
     "output_type": "stream",
     "text": [
      " 54%|█████▍    | 717/1333 [05:28<04:38,  2.22batch/s]"
     ]
    },
    {
     "name": "stdout",
     "output_type": "stream",
     "text": [
      "GS______ [SE3: size=torch.Size([6, 2]), device=cuda:0, dtype=torch.float32]\n",
      "GS[0]__ __ __  SE3: size=torch.Size([6, 2]), device=cuda:0, dtype=torch.float32\n",
      "GS[0][:,jj] SE3: size=torch.Size([6, 2]), device=cuda:0, dtype=torch.float32\n"
     ]
    },
    {
     "name": "stderr",
     "output_type": "stream",
     "text": [
      " 54%|█████▍    | 718/1333 [05:29<04:37,  2.21batch/s]"
     ]
    },
    {
     "name": "stdout",
     "output_type": "stream",
     "text": [
      "GS______ [SE3: size=torch.Size([6, 2]), device=cuda:0, dtype=torch.float32]\n",
      "GS[0]__ __ __  SE3: size=torch.Size([6, 2]), device=cuda:0, dtype=torch.float32\n",
      "GS[0][:,jj] SE3: size=torch.Size([6, 2]), device=cuda:0, dtype=torch.float32\n"
     ]
    },
    {
     "name": "stderr",
     "output_type": "stream",
     "text": [
      " 54%|█████▍    | 719/1333 [05:29<04:37,  2.22batch/s]"
     ]
    },
    {
     "name": "stdout",
     "output_type": "stream",
     "text": [
      "GS______ [SE3: size=torch.Size([6, 2]), device=cuda:0, dtype=torch.float32]\n",
      "GS[0]__ __ __  SE3: size=torch.Size([6, 2]), device=cuda:0, dtype=torch.float32\n",
      "GS[0][:,jj] SE3: size=torch.Size([6, 2]), device=cuda:0, dtype=torch.float32\n"
     ]
    },
    {
     "name": "stderr",
     "output_type": "stream",
     "text": [
      " 54%|█████▍    | 720/1333 [05:29<04:36,  2.22batch/s]"
     ]
    },
    {
     "name": "stdout",
     "output_type": "stream",
     "text": [
      "GS______ [SE3: size=torch.Size([6, 2]), device=cuda:0, dtype=torch.float32]\n",
      "GS[0]__ __ __  SE3: size=torch.Size([6, 2]), device=cuda:0, dtype=torch.float32\n",
      "GS[0][:,jj] SE3: size=torch.Size([6, 2]), device=cuda:0, dtype=torch.float32\n"
     ]
    },
    {
     "name": "stderr",
     "output_type": "stream",
     "text": [
      " 54%|█████▍    | 721/1333 [05:30<04:34,  2.23batch/s]"
     ]
    },
    {
     "name": "stdout",
     "output_type": "stream",
     "text": [
      "GS______ [SE3: size=torch.Size([6, 2]), device=cuda:0, dtype=torch.float32]\n",
      "GS[0]__ __ __  SE3: size=torch.Size([6, 2]), device=cuda:0, dtype=torch.float32\n",
      "GS[0][:,jj] SE3: size=torch.Size([6, 2]), device=cuda:0, dtype=torch.float32\n"
     ]
    },
    {
     "name": "stderr",
     "output_type": "stream",
     "text": [
      " 54%|█████▍    | 722/1333 [05:30<04:34,  2.23batch/s]"
     ]
    },
    {
     "name": "stdout",
     "output_type": "stream",
     "text": [
      "GS______ [SE3: size=torch.Size([6, 2]), device=cuda:0, dtype=torch.float32]\n",
      "GS[0]__ __ __  SE3: size=torch.Size([6, 2]), device=cuda:0, dtype=torch.float32\n",
      "GS[0][:,jj] SE3: size=torch.Size([6, 2]), device=cuda:0, dtype=torch.float32\n"
     ]
    },
    {
     "name": "stderr",
     "output_type": "stream",
     "text": [
      " 54%|█████▍    | 723/1333 [05:31<04:36,  2.21batch/s]"
     ]
    },
    {
     "name": "stdout",
     "output_type": "stream",
     "text": [
      "GS______ [SE3: size=torch.Size([6, 2]), device=cuda:0, dtype=torch.float32]\n",
      "GS[0]__ __ __  SE3: size=torch.Size([6, 2]), device=cuda:0, dtype=torch.float32\n",
      "GS[0][:,jj] SE3: size=torch.Size([6, 2]), device=cuda:0, dtype=torch.float32\n"
     ]
    },
    {
     "name": "stderr",
     "output_type": "stream",
     "text": [
      " 54%|█████▍    | 724/1333 [05:31<04:34,  2.22batch/s]"
     ]
    },
    {
     "name": "stdout",
     "output_type": "stream",
     "text": [
      "GS______ [SE3: size=torch.Size([6, 2]), device=cuda:0, dtype=torch.float32]\n",
      "GS[0]__ __ __  SE3: size=torch.Size([6, 2]), device=cuda:0, dtype=torch.float32\n",
      "GS[0][:,jj] SE3: size=torch.Size([6, 2]), device=cuda:0, dtype=torch.float32\n"
     ]
    },
    {
     "name": "stderr",
     "output_type": "stream",
     "text": [
      " 54%|█████▍    | 725/1333 [05:32<04:31,  2.24batch/s]"
     ]
    },
    {
     "name": "stdout",
     "output_type": "stream",
     "text": [
      "GS______ [SE3: size=torch.Size([6, 2]), device=cuda:0, dtype=torch.float32]\n",
      "GS[0]__ __ __  SE3: size=torch.Size([6, 2]), device=cuda:0, dtype=torch.float32\n",
      "GS[0][:,jj] SE3: size=torch.Size([6, 2]), device=cuda:0, dtype=torch.float32\n"
     ]
    },
    {
     "name": "stderr",
     "output_type": "stream",
     "text": [
      " 54%|█████▍    | 726/1333 [05:32<04:31,  2.24batch/s]"
     ]
    },
    {
     "name": "stdout",
     "output_type": "stream",
     "text": [
      "GS______ [SE3: size=torch.Size([6, 2]), device=cuda:0, dtype=torch.float32]\n",
      "GS[0]__ __ __  SE3: size=torch.Size([6, 2]), device=cuda:0, dtype=torch.float32\n",
      "GS[0][:,jj] SE3: size=torch.Size([6, 2]), device=cuda:0, dtype=torch.float32\n"
     ]
    },
    {
     "name": "stderr",
     "output_type": "stream",
     "text": [
      " 55%|█████▍    | 727/1333 [05:33<04:33,  2.22batch/s]"
     ]
    },
    {
     "name": "stdout",
     "output_type": "stream",
     "text": [
      "GS______ [SE3: size=torch.Size([6, 2]), device=cuda:0, dtype=torch.float32]\n",
      "GS[0]__ __ __  SE3: size=torch.Size([6, 2]), device=cuda:0, dtype=torch.float32\n",
      "GS[0][:,jj] SE3: size=torch.Size([6, 2]), device=cuda:0, dtype=torch.float32\n"
     ]
    },
    {
     "name": "stderr",
     "output_type": "stream",
     "text": [
      " 55%|█████▍    | 728/1333 [05:33<04:31,  2.23batch/s]"
     ]
    },
    {
     "name": "stdout",
     "output_type": "stream",
     "text": [
      "GS______ [SE3: size=torch.Size([6, 2]), device=cuda:0, dtype=torch.float32]\n",
      "GS[0]__ __ __  SE3: size=torch.Size([6, 2]), device=cuda:0, dtype=torch.float32\n",
      "GS[0][:,jj] SE3: size=torch.Size([6, 2]), device=cuda:0, dtype=torch.float32\n"
     ]
    },
    {
     "name": "stderr",
     "output_type": "stream",
     "text": [
      " 55%|█████▍    | 729/1333 [05:33<04:31,  2.23batch/s]"
     ]
    },
    {
     "name": "stdout",
     "output_type": "stream",
     "text": [
      "GS______ [SE3: size=torch.Size([6, 2]), device=cuda:0, dtype=torch.float32]\n",
      "GS[0]__ __ __  SE3: size=torch.Size([6, 2]), device=cuda:0, dtype=torch.float32\n",
      "GS[0][:,jj] SE3: size=torch.Size([6, 2]), device=cuda:0, dtype=torch.float32\n"
     ]
    },
    {
     "name": "stderr",
     "output_type": "stream",
     "text": [
      " 55%|█████▍    | 730/1333 [05:34<04:30,  2.23batch/s]"
     ]
    },
    {
     "name": "stdout",
     "output_type": "stream",
     "text": [
      "GS______ [SE3: size=torch.Size([6, 2]), device=cuda:0, dtype=torch.float32]\n",
      "GS[0]__ __ __  SE3: size=torch.Size([6, 2]), device=cuda:0, dtype=torch.float32\n",
      "GS[0][:,jj] SE3: size=torch.Size([6, 2]), device=cuda:0, dtype=torch.float32\n"
     ]
    },
    {
     "name": "stderr",
     "output_type": "stream",
     "text": [
      " 55%|█████▍    | 731/1333 [05:34<04:32,  2.21batch/s]"
     ]
    },
    {
     "name": "stdout",
     "output_type": "stream",
     "text": [
      "GS______ [SE3: size=torch.Size([6, 2]), device=cuda:0, dtype=torch.float32]\n",
      "GS[0]__ __ __  SE3: size=torch.Size([6, 2]), device=cuda:0, dtype=torch.float32\n",
      "GS[0][:,jj] SE3: size=torch.Size([6, 2]), device=cuda:0, dtype=torch.float32\n"
     ]
    },
    {
     "name": "stderr",
     "output_type": "stream",
     "text": [
      " 55%|█████▍    | 732/1333 [05:35<04:31,  2.21batch/s]"
     ]
    },
    {
     "name": "stdout",
     "output_type": "stream",
     "text": [
      "GS______ [SE3: size=torch.Size([6, 2]), device=cuda:0, dtype=torch.float32]\n",
      "GS[0]__ __ __  SE3: size=torch.Size([6, 2]), device=cuda:0, dtype=torch.float32\n",
      "GS[0][:,jj] SE3: size=torch.Size([6, 2]), device=cuda:0, dtype=torch.float32\n"
     ]
    },
    {
     "name": "stderr",
     "output_type": "stream",
     "text": [
      " 55%|█████▍    | 733/1333 [05:35<04:30,  2.22batch/s]"
     ]
    },
    {
     "name": "stdout",
     "output_type": "stream",
     "text": [
      "GS______ [SE3: size=torch.Size([6, 2]), device=cuda:0, dtype=torch.float32]\n",
      "GS[0]__ __ __  SE3: size=torch.Size([6, 2]), device=cuda:0, dtype=torch.float32\n",
      "GS[0][:,jj] SE3: size=torch.Size([6, 2]), device=cuda:0, dtype=torch.float32\n"
     ]
    },
    {
     "name": "stderr",
     "output_type": "stream",
     "text": [
      " 55%|█████▌    | 734/1333 [05:36<04:28,  2.23batch/s]"
     ]
    },
    {
     "name": "stdout",
     "output_type": "stream",
     "text": [
      "GS______ [SE3: size=torch.Size([6, 2]), device=cuda:0, dtype=torch.float32]\n",
      "GS[0]__ __ __  SE3: size=torch.Size([6, 2]), device=cuda:0, dtype=torch.float32\n",
      "GS[0][:,jj] SE3: size=torch.Size([6, 2]), device=cuda:0, dtype=torch.float32\n"
     ]
    },
    {
     "name": "stderr",
     "output_type": "stream",
     "text": [
      " 55%|█████▌    | 735/1333 [05:36<04:30,  2.21batch/s]"
     ]
    },
    {
     "name": "stdout",
     "output_type": "stream",
     "text": [
      "GS______ [SE3: size=torch.Size([6, 2]), device=cuda:0, dtype=torch.float32]\n",
      "GS[0]__ __ __  SE3: size=torch.Size([6, 2]), device=cuda:0, dtype=torch.float32\n",
      "GS[0][:,jj] SE3: size=torch.Size([6, 2]), device=cuda:0, dtype=torch.float32\n"
     ]
    },
    {
     "name": "stderr",
     "output_type": "stream",
     "text": [
      " 55%|█████▌    | 736/1333 [05:37<04:28,  2.23batch/s]"
     ]
    },
    {
     "name": "stdout",
     "output_type": "stream",
     "text": [
      "GS______ [SE3: size=torch.Size([6, 2]), device=cuda:0, dtype=torch.float32]\n",
      "GS[0]__ __ __  SE3: size=torch.Size([6, 2]), device=cuda:0, dtype=torch.float32\n",
      "GS[0][:,jj] SE3: size=torch.Size([6, 2]), device=cuda:0, dtype=torch.float32\n"
     ]
    },
    {
     "name": "stderr",
     "output_type": "stream",
     "text": [
      " 55%|█████▌    | 737/1333 [05:37<04:26,  2.23batch/s]"
     ]
    },
    {
     "name": "stdout",
     "output_type": "stream",
     "text": [
      "GS______ [SE3: size=torch.Size([6, 2]), device=cuda:0, dtype=torch.float32]\n",
      "GS[0]__ __ __  SE3: size=torch.Size([6, 2]), device=cuda:0, dtype=torch.float32\n",
      "GS[0][:,jj] SE3: size=torch.Size([6, 2]), device=cuda:0, dtype=torch.float32\n"
     ]
    },
    {
     "name": "stderr",
     "output_type": "stream",
     "text": [
      " 55%|█████▌    | 738/1333 [05:38<04:26,  2.23batch/s]"
     ]
    },
    {
     "name": "stdout",
     "output_type": "stream",
     "text": [
      "GS______ [SE3: size=torch.Size([6, 2]), device=cuda:0, dtype=torch.float32]\n",
      "GS[0]__ __ __  SE3: size=torch.Size([6, 2]), device=cuda:0, dtype=torch.float32\n",
      "GS[0][:,jj] SE3: size=torch.Size([6, 2]), device=cuda:0, dtype=torch.float32\n"
     ]
    },
    {
     "name": "stderr",
     "output_type": "stream",
     "text": [
      " 55%|█████▌    | 739/1333 [05:38<04:27,  2.22batch/s]"
     ]
    },
    {
     "name": "stdout",
     "output_type": "stream",
     "text": [
      "GS______ [SE3: size=torch.Size([6, 2]), device=cuda:0, dtype=torch.float32]\n",
      "GS[0]__ __ __  SE3: size=torch.Size([6, 2]), device=cuda:0, dtype=torch.float32\n",
      "GS[0][:,jj] SE3: size=torch.Size([6, 2]), device=cuda:0, dtype=torch.float32\n"
     ]
    },
    {
     "name": "stderr",
     "output_type": "stream",
     "text": [
      " 56%|█████▌    | 740/1333 [05:38<04:27,  2.22batch/s]"
     ]
    },
    {
     "name": "stdout",
     "output_type": "stream",
     "text": [
      "GS______ [SE3: size=torch.Size([6, 2]), device=cuda:0, dtype=torch.float32]\n",
      "GS[0]__ __ __  SE3: size=torch.Size([6, 2]), device=cuda:0, dtype=torch.float32\n",
      "GS[0][:,jj] SE3: size=torch.Size([6, 2]), device=cuda:0, dtype=torch.float32\n"
     ]
    },
    {
     "name": "stderr",
     "output_type": "stream",
     "text": [
      " 56%|█████▌    | 741/1333 [05:39<04:26,  2.22batch/s]"
     ]
    },
    {
     "name": "stdout",
     "output_type": "stream",
     "text": [
      "GS______ [SE3: size=torch.Size([6, 2]), device=cuda:0, dtype=torch.float32]\n",
      "GS[0]__ __ __  SE3: size=torch.Size([6, 2]), device=cuda:0, dtype=torch.float32\n",
      "GS[0][:,jj] SE3: size=torch.Size([6, 2]), device=cuda:0, dtype=torch.float32\n"
     ]
    },
    {
     "name": "stderr",
     "output_type": "stream",
     "text": [
      " 56%|█████▌    | 742/1333 [05:39<04:25,  2.23batch/s]"
     ]
    },
    {
     "name": "stdout",
     "output_type": "stream",
     "text": [
      "GS______ [SE3: size=torch.Size([6, 2]), device=cuda:0, dtype=torch.float32]\n",
      "GS[0]__ __ __  SE3: size=torch.Size([6, 2]), device=cuda:0, dtype=torch.float32\n",
      "GS[0][:,jj] SE3: size=torch.Size([6, 2]), device=cuda:0, dtype=torch.float32\n"
     ]
    },
    {
     "name": "stderr",
     "output_type": "stream",
     "text": [
      " 56%|█████▌    | 743/1333 [05:40<04:27,  2.21batch/s]"
     ]
    },
    {
     "name": "stdout",
     "output_type": "stream",
     "text": [
      "GS______ [SE3: size=torch.Size([6, 2]), device=cuda:0, dtype=torch.float32]\n",
      "GS[0]__ __ __  SE3: size=torch.Size([6, 2]), device=cuda:0, dtype=torch.float32\n",
      "GS[0][:,jj] SE3: size=torch.Size([6, 2]), device=cuda:0, dtype=torch.float32\n"
     ]
    },
    {
     "name": "stderr",
     "output_type": "stream",
     "text": [
      " 56%|█████▌    | 744/1333 [05:40<04:26,  2.21batch/s]"
     ]
    },
    {
     "name": "stdout",
     "output_type": "stream",
     "text": [
      "GS______ [SE3: size=torch.Size([6, 2]), device=cuda:0, dtype=torch.float32]\n",
      "GS[0]__ __ __  SE3: size=torch.Size([6, 2]), device=cuda:0, dtype=torch.float32\n",
      "GS[0][:,jj] SE3: size=torch.Size([6, 2]), device=cuda:0, dtype=torch.float32\n"
     ]
    },
    {
     "name": "stderr",
     "output_type": "stream",
     "text": [
      " 56%|█████▌    | 745/1333 [05:41<04:26,  2.21batch/s]"
     ]
    },
    {
     "name": "stdout",
     "output_type": "stream",
     "text": [
      "GS______ [SE3: size=torch.Size([6, 2]), device=cuda:0, dtype=torch.float32]\n",
      "GS[0]__ __ __  SE3: size=torch.Size([6, 2]), device=cuda:0, dtype=torch.float32\n",
      "GS[0][:,jj] SE3: size=torch.Size([6, 2]), device=cuda:0, dtype=torch.float32\n"
     ]
    },
    {
     "name": "stderr",
     "output_type": "stream",
     "text": [
      " 56%|█████▌    | 746/1333 [05:41<04:25,  2.21batch/s]"
     ]
    },
    {
     "name": "stdout",
     "output_type": "stream",
     "text": [
      "GS______ [SE3: size=torch.Size([6, 2]), device=cuda:0, dtype=torch.float32]\n",
      "GS[0]__ __ __  SE3: size=torch.Size([6, 2]), device=cuda:0, dtype=torch.float32\n",
      "GS[0][:,jj] SE3: size=torch.Size([6, 2]), device=cuda:0, dtype=torch.float32\n"
     ]
    },
    {
     "name": "stderr",
     "output_type": "stream",
     "text": [
      " 56%|█████▌    | 747/1333 [05:42<04:26,  2.20batch/s]"
     ]
    },
    {
     "name": "stdout",
     "output_type": "stream",
     "text": [
      "GS______ [SE3: size=torch.Size([6, 2]), device=cuda:0, dtype=torch.float32]\n",
      "GS[0]__ __ __  SE3: size=torch.Size([6, 2]), device=cuda:0, dtype=torch.float32\n",
      "GS[0][:,jj] SE3: size=torch.Size([6, 2]), device=cuda:0, dtype=torch.float32\n"
     ]
    },
    {
     "name": "stderr",
     "output_type": "stream",
     "text": [
      " 56%|█████▌    | 748/1333 [05:42<04:24,  2.21batch/s]"
     ]
    },
    {
     "name": "stdout",
     "output_type": "stream",
     "text": [
      "GS______ [SE3: size=torch.Size([6, 2]), device=cuda:0, dtype=torch.float32]\n",
      "GS[0]__ __ __  SE3: size=torch.Size([6, 2]), device=cuda:0, dtype=torch.float32\n",
      "GS[0][:,jj] SE3: size=torch.Size([6, 2]), device=cuda:0, dtype=torch.float32\n"
     ]
    },
    {
     "name": "stderr",
     "output_type": "stream",
     "text": [
      " 56%|█████▌    | 749/1333 [05:42<04:21,  2.23batch/s]"
     ]
    },
    {
     "name": "stdout",
     "output_type": "stream",
     "text": [
      "GS______ [SE3: size=torch.Size([6, 2]), device=cuda:0, dtype=torch.float32]\n",
      "GS[0]__ __ __  SE3: size=torch.Size([6, 2]), device=cuda:0, dtype=torch.float32\n",
      "GS[0][:,jj] SE3: size=torch.Size([6, 2]), device=cuda:0, dtype=torch.float32\n"
     ]
    },
    {
     "name": "stderr",
     "output_type": "stream",
     "text": [
      " 56%|█████▋    | 750/1333 [05:43<04:18,  2.25batch/s]"
     ]
    },
    {
     "name": "stdout",
     "output_type": "stream",
     "text": [
      "GS______ [SE3: size=torch.Size([6, 2]), device=cuda:0, dtype=torch.float32]\n",
      "GS[0]__ __ __  SE3: size=torch.Size([6, 2]), device=cuda:0, dtype=torch.float32\n",
      "GS[0][:,jj] SE3: size=torch.Size([6, 2]), device=cuda:0, dtype=torch.float32\n"
     ]
    },
    {
     "name": "stderr",
     "output_type": "stream",
     "text": [
      " 56%|█████▋    | 751/1333 [05:43<04:20,  2.23batch/s]"
     ]
    },
    {
     "name": "stdout",
     "output_type": "stream",
     "text": [
      "GS______ [SE3: size=torch.Size([6, 2]), device=cuda:0, dtype=torch.float32]\n",
      "GS[0]__ __ __  SE3: size=torch.Size([6, 2]), device=cuda:0, dtype=torch.float32\n",
      "GS[0][:,jj] SE3: size=torch.Size([6, 2]), device=cuda:0, dtype=torch.float32\n"
     ]
    },
    {
     "name": "stderr",
     "output_type": "stream",
     "text": [
      " 56%|█████▋    | 752/1333 [05:44<04:16,  2.26batch/s]"
     ]
    },
    {
     "name": "stdout",
     "output_type": "stream",
     "text": [
      "GS______ [SE3: size=torch.Size([6, 2]), device=cuda:0, dtype=torch.float32]\n",
      "GS[0]__ __ __  SE3: size=torch.Size([6, 2]), device=cuda:0, dtype=torch.float32\n",
      "GS[0][:,jj] SE3: size=torch.Size([6, 2]), device=cuda:0, dtype=torch.float32\n"
     ]
    },
    {
     "name": "stderr",
     "output_type": "stream",
     "text": [
      " 56%|█████▋    | 753/1333 [05:44<04:15,  2.27batch/s]"
     ]
    },
    {
     "name": "stdout",
     "output_type": "stream",
     "text": [
      "GS______ [SE3: size=torch.Size([6, 2]), device=cuda:0, dtype=torch.float32]\n",
      "GS[0]__ __ __  SE3: size=torch.Size([6, 2]), device=cuda:0, dtype=torch.float32\n",
      "GS[0][:,jj] SE3: size=torch.Size([6, 2]), device=cuda:0, dtype=torch.float32\n"
     ]
    },
    {
     "name": "stderr",
     "output_type": "stream",
     "text": [
      " 57%|█████▋    | 754/1333 [05:45<04:15,  2.27batch/s]"
     ]
    },
    {
     "name": "stdout",
     "output_type": "stream",
     "text": [
      "GS______ [SE3: size=torch.Size([6, 2]), device=cuda:0, dtype=torch.float32]\n",
      "GS[0]__ __ __  SE3: size=torch.Size([6, 2]), device=cuda:0, dtype=torch.float32\n",
      "GS[0][:,jj] SE3: size=torch.Size([6, 2]), device=cuda:0, dtype=torch.float32\n"
     ]
    },
    {
     "name": "stderr",
     "output_type": "stream",
     "text": [
      " 57%|█████▋    | 755/1333 [05:45<04:17,  2.25batch/s]"
     ]
    },
    {
     "name": "stdout",
     "output_type": "stream",
     "text": [
      "GS______ [SE3: size=torch.Size([6, 2]), device=cuda:0, dtype=torch.float32]\n",
      "GS[0]__ __ __  SE3: size=torch.Size([6, 2]), device=cuda:0, dtype=torch.float32\n",
      "GS[0][:,jj] SE3: size=torch.Size([6, 2]), device=cuda:0, dtype=torch.float32\n"
     ]
    },
    {
     "name": "stderr",
     "output_type": "stream",
     "text": [
      " 57%|█████▋    | 756/1333 [05:46<04:17,  2.24batch/s]"
     ]
    },
    {
     "name": "stdout",
     "output_type": "stream",
     "text": [
      "GS______ [SE3: size=torch.Size([6, 2]), device=cuda:0, dtype=torch.float32]\n",
      "GS[0]__ __ __  SE3: size=torch.Size([6, 2]), device=cuda:0, dtype=torch.float32\n",
      "GS[0][:,jj] SE3: size=torch.Size([6, 2]), device=cuda:0, dtype=torch.float32\n"
     ]
    },
    {
     "name": "stderr",
     "output_type": "stream",
     "text": [
      " 57%|█████▋    | 757/1333 [05:46<04:18,  2.23batch/s]"
     ]
    },
    {
     "name": "stdout",
     "output_type": "stream",
     "text": [
      "GS______ [SE3: size=torch.Size([6, 2]), device=cuda:0, dtype=torch.float32]\n",
      "GS[0]__ __ __  SE3: size=torch.Size([6, 2]), device=cuda:0, dtype=torch.float32\n",
      "GS[0][:,jj] SE3: size=torch.Size([6, 2]), device=cuda:0, dtype=torch.float32\n"
     ]
    },
    {
     "name": "stderr",
     "output_type": "stream",
     "text": [
      " 57%|█████▋    | 758/1333 [05:46<04:16,  2.24batch/s]"
     ]
    },
    {
     "name": "stdout",
     "output_type": "stream",
     "text": [
      "GS______ [SE3: size=torch.Size([6, 2]), device=cuda:0, dtype=torch.float32]\n",
      "GS[0]__ __ __  SE3: size=torch.Size([6, 2]), device=cuda:0, dtype=torch.float32\n",
      "GS[0][:,jj] SE3: size=torch.Size([6, 2]), device=cuda:0, dtype=torch.float32\n"
     ]
    },
    {
     "name": "stderr",
     "output_type": "stream",
     "text": [
      " 57%|█████▋    | 759/1333 [05:47<04:17,  2.23batch/s]"
     ]
    },
    {
     "name": "stdout",
     "output_type": "stream",
     "text": [
      "GS______ [SE3: size=torch.Size([6, 2]), device=cuda:0, dtype=torch.float32]\n",
      "GS[0]__ __ __  SE3: size=torch.Size([6, 2]), device=cuda:0, dtype=torch.float32\n",
      "GS[0][:,jj] SE3: size=torch.Size([6, 2]), device=cuda:0, dtype=torch.float32\n"
     ]
    },
    {
     "name": "stderr",
     "output_type": "stream",
     "text": [
      " 57%|█████▋    | 760/1333 [05:47<04:16,  2.23batch/s]"
     ]
    },
    {
     "name": "stdout",
     "output_type": "stream",
     "text": [
      "GS______ [SE3: size=torch.Size([6, 2]), device=cuda:0, dtype=torch.float32]\n",
      "GS[0]__ __ __  SE3: size=torch.Size([6, 2]), device=cuda:0, dtype=torch.float32\n",
      "GS[0][:,jj] SE3: size=torch.Size([6, 2]), device=cuda:0, dtype=torch.float32\n"
     ]
    },
    {
     "name": "stderr",
     "output_type": "stream",
     "text": [
      " 57%|█████▋    | 761/1333 [05:48<04:17,  2.22batch/s]"
     ]
    },
    {
     "name": "stdout",
     "output_type": "stream",
     "text": [
      "GS______ [SE3: size=torch.Size([6, 2]), device=cuda:0, dtype=torch.float32]\n",
      "GS[0]__ __ __  SE3: size=torch.Size([6, 2]), device=cuda:0, dtype=torch.float32\n",
      "GS[0][:,jj] SE3: size=torch.Size([6, 2]), device=cuda:0, dtype=torch.float32\n"
     ]
    },
    {
     "name": "stderr",
     "output_type": "stream",
     "text": [
      " 57%|█████▋    | 762/1333 [05:48<04:17,  2.22batch/s]"
     ]
    },
    {
     "name": "stdout",
     "output_type": "stream",
     "text": [
      "GS______ [SE3: size=torch.Size([6, 2]), device=cuda:0, dtype=torch.float32]\n",
      "GS[0]__ __ __  SE3: size=torch.Size([6, 2]), device=cuda:0, dtype=torch.float32\n",
      "GS[0][:,jj] SE3: size=torch.Size([6, 2]), device=cuda:0, dtype=torch.float32\n"
     ]
    },
    {
     "name": "stderr",
     "output_type": "stream",
     "text": [
      " 57%|█████▋    | 763/1333 [05:49<04:17,  2.21batch/s]"
     ]
    },
    {
     "name": "stdout",
     "output_type": "stream",
     "text": [
      "GS______ [SE3: size=torch.Size([6, 2]), device=cuda:0, dtype=torch.float32]\n",
      "GS[0]__ __ __  SE3: size=torch.Size([6, 2]), device=cuda:0, dtype=torch.float32\n",
      "GS[0][:,jj] SE3: size=torch.Size([6, 2]), device=cuda:0, dtype=torch.float32\n"
     ]
    },
    {
     "name": "stderr",
     "output_type": "stream",
     "text": [
      " 57%|█████▋    | 764/1333 [05:49<04:17,  2.21batch/s]"
     ]
    },
    {
     "name": "stdout",
     "output_type": "stream",
     "text": [
      "GS______ [SE3: size=torch.Size([6, 2]), device=cuda:0, dtype=torch.float32]\n",
      "GS[0]__ __ __  SE3: size=torch.Size([6, 2]), device=cuda:0, dtype=torch.float32\n",
      "GS[0][:,jj] SE3: size=torch.Size([6, 2]), device=cuda:0, dtype=torch.float32\n"
     ]
    },
    {
     "name": "stderr",
     "output_type": "stream",
     "text": [
      " 57%|█████▋    | 765/1333 [05:50<04:18,  2.20batch/s]"
     ]
    },
    {
     "name": "stdout",
     "output_type": "stream",
     "text": [
      "GS______ [SE3: size=torch.Size([6, 2]), device=cuda:0, dtype=torch.float32]\n",
      "GS[0]__ __ __  SE3: size=torch.Size([6, 2]), device=cuda:0, dtype=torch.float32\n",
      "GS[0][:,jj] SE3: size=torch.Size([6, 2]), device=cuda:0, dtype=torch.float32\n"
     ]
    },
    {
     "name": "stderr",
     "output_type": "stream",
     "text": [
      " 57%|█████▋    | 766/1333 [05:50<04:16,  2.21batch/s]"
     ]
    },
    {
     "name": "stdout",
     "output_type": "stream",
     "text": [
      "GS______ [SE3: size=torch.Size([6, 2]), device=cuda:0, dtype=torch.float32]\n",
      "GS[0]__ __ __  SE3: size=torch.Size([6, 2]), device=cuda:0, dtype=torch.float32\n",
      "GS[0][:,jj] SE3: size=torch.Size([6, 2]), device=cuda:0, dtype=torch.float32\n"
     ]
    },
    {
     "name": "stderr",
     "output_type": "stream",
     "text": [
      " 58%|█████▊    | 767/1333 [05:51<04:16,  2.21batch/s]"
     ]
    },
    {
     "name": "stdout",
     "output_type": "stream",
     "text": [
      "GS______ [SE3: size=torch.Size([6, 2]), device=cuda:0, dtype=torch.float32]\n",
      "GS[0]__ __ __  SE3: size=torch.Size([6, 2]), device=cuda:0, dtype=torch.float32\n",
      "GS[0][:,jj] SE3: size=torch.Size([6, 2]), device=cuda:0, dtype=torch.float32\n"
     ]
    },
    {
     "name": "stderr",
     "output_type": "stream",
     "text": [
      " 58%|█████▊    | 768/1333 [05:51<04:16,  2.21batch/s]"
     ]
    },
    {
     "name": "stdout",
     "output_type": "stream",
     "text": [
      "GS______ [SE3: size=torch.Size([6, 2]), device=cuda:0, dtype=torch.float32]\n",
      "GS[0]__ __ __  SE3: size=torch.Size([6, 2]), device=cuda:0, dtype=torch.float32\n",
      "GS[0][:,jj] SE3: size=torch.Size([6, 2]), device=cuda:0, dtype=torch.float32\n"
     ]
    },
    {
     "name": "stderr",
     "output_type": "stream",
     "text": [
      " 58%|█████▊    | 769/1333 [05:51<04:16,  2.20batch/s]"
     ]
    },
    {
     "name": "stdout",
     "output_type": "stream",
     "text": [
      "GS______ [SE3: size=torch.Size([6, 2]), device=cuda:0, dtype=torch.float32]\n",
      "GS[0]__ __ __  SE3: size=torch.Size([6, 2]), device=cuda:0, dtype=torch.float32\n",
      "GS[0][:,jj] SE3: size=torch.Size([6, 2]), device=cuda:0, dtype=torch.float32\n"
     ]
    },
    {
     "name": "stderr",
     "output_type": "stream",
     "text": [
      " 58%|█████▊    | 770/1333 [05:52<04:15,  2.20batch/s]"
     ]
    },
    {
     "name": "stdout",
     "output_type": "stream",
     "text": [
      "GS______ [SE3: size=torch.Size([6, 2]), device=cuda:0, dtype=torch.float32]\n",
      "GS[0]__ __ __  SE3: size=torch.Size([6, 2]), device=cuda:0, dtype=torch.float32\n",
      "GS[0][:,jj] SE3: size=torch.Size([6, 2]), device=cuda:0, dtype=torch.float32\n"
     ]
    },
    {
     "name": "stderr",
     "output_type": "stream",
     "text": [
      " 58%|█████▊    | 771/1333 [05:52<04:15,  2.20batch/s]"
     ]
    },
    {
     "name": "stdout",
     "output_type": "stream",
     "text": [
      "GS______ [SE3: size=torch.Size([6, 2]), device=cuda:0, dtype=torch.float32]\n",
      "GS[0]__ __ __  SE3: size=torch.Size([6, 2]), device=cuda:0, dtype=torch.float32\n",
      "GS[0][:,jj] SE3: size=torch.Size([6, 2]), device=cuda:0, dtype=torch.float32\n"
     ]
    },
    {
     "name": "stderr",
     "output_type": "stream",
     "text": [
      " 58%|█████▊    | 772/1333 [05:53<04:15,  2.20batch/s]"
     ]
    },
    {
     "name": "stdout",
     "output_type": "stream",
     "text": [
      "GS______ [SE3: size=torch.Size([6, 2]), device=cuda:0, dtype=torch.float32]\n",
      "GS[0]__ __ __  SE3: size=torch.Size([6, 2]), device=cuda:0, dtype=torch.float32\n",
      "GS[0][:,jj] SE3: size=torch.Size([6, 2]), device=cuda:0, dtype=torch.float32\n"
     ]
    },
    {
     "name": "stderr",
     "output_type": "stream",
     "text": [
      " 58%|█████▊    | 773/1333 [05:53<04:15,  2.19batch/s]"
     ]
    },
    {
     "name": "stdout",
     "output_type": "stream",
     "text": [
      "GS______ [SE3: size=torch.Size([6, 2]), device=cuda:0, dtype=torch.float32]\n",
      "GS[0]__ __ __  SE3: size=torch.Size([6, 2]), device=cuda:0, dtype=torch.float32\n",
      "GS[0][:,jj] SE3: size=torch.Size([6, 2]), device=cuda:0, dtype=torch.float32\n"
     ]
    },
    {
     "name": "stderr",
     "output_type": "stream",
     "text": [
      " 58%|█████▊    | 774/1333 [05:54<04:15,  2.19batch/s]"
     ]
    },
    {
     "name": "stdout",
     "output_type": "stream",
     "text": [
      "GS______ [SE3: size=torch.Size([6, 2]), device=cuda:0, dtype=torch.float32]\n",
      "GS[0]__ __ __  SE3: size=torch.Size([6, 2]), device=cuda:0, dtype=torch.float32\n",
      "GS[0][:,jj] SE3: size=torch.Size([6, 2]), device=cuda:0, dtype=torch.float32\n"
     ]
    },
    {
     "name": "stderr",
     "output_type": "stream",
     "text": [
      " 58%|█████▊    | 775/1333 [05:54<04:15,  2.18batch/s]"
     ]
    },
    {
     "name": "stdout",
     "output_type": "stream",
     "text": [
      "GS______ [SE3: size=torch.Size([6, 2]), device=cuda:0, dtype=torch.float32]\n",
      "GS[0]__ __ __  SE3: size=torch.Size([6, 2]), device=cuda:0, dtype=torch.float32\n",
      "GS[0][:,jj] SE3: size=torch.Size([6, 2]), device=cuda:0, dtype=torch.float32\n"
     ]
    },
    {
     "name": "stderr",
     "output_type": "stream",
     "text": [
      " 58%|█████▊    | 776/1333 [05:55<04:13,  2.20batch/s]"
     ]
    },
    {
     "name": "stdout",
     "output_type": "stream",
     "text": [
      "GS______ [SE3: size=torch.Size([6, 2]), device=cuda:0, dtype=torch.float32]\n",
      "GS[0]__ __ __  SE3: size=torch.Size([6, 2]), device=cuda:0, dtype=torch.float32\n",
      "GS[0][:,jj] SE3: size=torch.Size([6, 2]), device=cuda:0, dtype=torch.float32\n"
     ]
    },
    {
     "name": "stderr",
     "output_type": "stream",
     "text": [
      " 58%|█████▊    | 777/1333 [05:55<04:13,  2.20batch/s]"
     ]
    },
    {
     "name": "stdout",
     "output_type": "stream",
     "text": [
      "GS______ [SE3: size=torch.Size([6, 2]), device=cuda:0, dtype=torch.float32]\n",
      "GS[0]__ __ __  SE3: size=torch.Size([6, 2]), device=cuda:0, dtype=torch.float32\n",
      "GS[0][:,jj] SE3: size=torch.Size([6, 2]), device=cuda:0, dtype=torch.float32\n"
     ]
    },
    {
     "name": "stderr",
     "output_type": "stream",
     "text": [
      " 58%|█████▊    | 778/1333 [05:56<04:11,  2.21batch/s]"
     ]
    },
    {
     "name": "stdout",
     "output_type": "stream",
     "text": [
      "GS______ [SE3: size=torch.Size([6, 2]), device=cuda:0, dtype=torch.float32]\n",
      "GS[0]__ __ __  SE3: size=torch.Size([6, 2]), device=cuda:0, dtype=torch.float32\n",
      "GS[0][:,jj] SE3: size=torch.Size([6, 2]), device=cuda:0, dtype=torch.float32\n"
     ]
    },
    {
     "name": "stderr",
     "output_type": "stream",
     "text": [
      " 58%|█████▊    | 779/1333 [05:56<04:12,  2.19batch/s]"
     ]
    },
    {
     "name": "stdout",
     "output_type": "stream",
     "text": [
      "GS______ [SE3: size=torch.Size([6, 2]), device=cuda:0, dtype=torch.float32]\n",
      "GS[0]__ __ __  SE3: size=torch.Size([6, 2]), device=cuda:0, dtype=torch.float32\n",
      "GS[0][:,jj] SE3: size=torch.Size([6, 2]), device=cuda:0, dtype=torch.float32\n"
     ]
    },
    {
     "name": "stderr",
     "output_type": "stream",
     "text": [
      " 59%|█████▊    | 780/1333 [05:56<04:11,  2.20batch/s]"
     ]
    },
    {
     "name": "stdout",
     "output_type": "stream",
     "text": [
      "GS______ [SE3: size=torch.Size([6, 2]), device=cuda:0, dtype=torch.float32]\n",
      "GS[0]__ __ __  SE3: size=torch.Size([6, 2]), device=cuda:0, dtype=torch.float32\n",
      "GS[0][:,jj] SE3: size=torch.Size([6, 2]), device=cuda:0, dtype=torch.float32\n"
     ]
    },
    {
     "name": "stderr",
     "output_type": "stream",
     "text": [
      " 59%|█████▊    | 781/1333 [05:57<04:11,  2.20batch/s]"
     ]
    },
    {
     "name": "stdout",
     "output_type": "stream",
     "text": [
      "GS______ [SE3: size=torch.Size([6, 2]), device=cuda:0, dtype=torch.float32]\n",
      "GS[0]__ __ __  SE3: size=torch.Size([6, 2]), device=cuda:0, dtype=torch.float32\n",
      "GS[0][:,jj] SE3: size=torch.Size([6, 2]), device=cuda:0, dtype=torch.float32\n"
     ]
    },
    {
     "name": "stderr",
     "output_type": "stream",
     "text": [
      " 59%|█████▊    | 782/1333 [05:57<04:09,  2.21batch/s]"
     ]
    },
    {
     "name": "stdout",
     "output_type": "stream",
     "text": [
      "GS______ [SE3: size=torch.Size([6, 2]), device=cuda:0, dtype=torch.float32]\n",
      "GS[0]__ __ __  SE3: size=torch.Size([6, 2]), device=cuda:0, dtype=torch.float32\n",
      "GS[0][:,jj] SE3: size=torch.Size([6, 2]), device=cuda:0, dtype=torch.float32\n"
     ]
    },
    {
     "name": "stderr",
     "output_type": "stream",
     "text": [
      " 59%|█████▊    | 783/1333 [05:58<04:09,  2.20batch/s]"
     ]
    },
    {
     "name": "stdout",
     "output_type": "stream",
     "text": [
      "GS______ [SE3: size=torch.Size([6, 2]), device=cuda:0, dtype=torch.float32]\n",
      "GS[0]__ __ __  SE3: size=torch.Size([6, 2]), device=cuda:0, dtype=torch.float32\n",
      "GS[0][:,jj] SE3: size=torch.Size([6, 2]), device=cuda:0, dtype=torch.float32\n"
     ]
    },
    {
     "name": "stderr",
     "output_type": "stream",
     "text": [
      " 59%|█████▉    | 784/1333 [05:58<04:09,  2.20batch/s]"
     ]
    },
    {
     "name": "stdout",
     "output_type": "stream",
     "text": [
      "GS______ [SE3: size=torch.Size([6, 2]), device=cuda:0, dtype=torch.float32]\n",
      "GS[0]__ __ __  SE3: size=torch.Size([6, 2]), device=cuda:0, dtype=torch.float32\n",
      "GS[0][:,jj] SE3: size=torch.Size([6, 2]), device=cuda:0, dtype=torch.float32\n"
     ]
    },
    {
     "name": "stderr",
     "output_type": "stream",
     "text": [
      " 59%|█████▉    | 785/1333 [05:59<04:10,  2.19batch/s]"
     ]
    },
    {
     "name": "stdout",
     "output_type": "stream",
     "text": [
      "GS______ [SE3: size=torch.Size([6, 2]), device=cuda:0, dtype=torch.float32]\n",
      "GS[0]__ __ __  SE3: size=torch.Size([6, 2]), device=cuda:0, dtype=torch.float32\n",
      "GS[0][:,jj] SE3: size=torch.Size([6, 2]), device=cuda:0, dtype=torch.float32\n"
     ]
    },
    {
     "name": "stderr",
     "output_type": "stream",
     "text": [
      " 59%|█████▉    | 786/1333 [05:59<04:08,  2.20batch/s]"
     ]
    },
    {
     "name": "stdout",
     "output_type": "stream",
     "text": [
      "GS______ [SE3: size=torch.Size([6, 2]), device=cuda:0, dtype=torch.float32]\n",
      "GS[0]__ __ __  SE3: size=torch.Size([6, 2]), device=cuda:0, dtype=torch.float32\n",
      "GS[0][:,jj] SE3: size=torch.Size([6, 2]), device=cuda:0, dtype=torch.float32\n"
     ]
    },
    {
     "name": "stderr",
     "output_type": "stream",
     "text": [
      " 59%|█████▉    | 787/1333 [06:00<04:07,  2.21batch/s]"
     ]
    },
    {
     "name": "stdout",
     "output_type": "stream",
     "text": [
      "GS______ [SE3: size=torch.Size([6, 2]), device=cuda:0, dtype=torch.float32]\n",
      "GS[0]__ __ __  SE3: size=torch.Size([6, 2]), device=cuda:0, dtype=torch.float32\n",
      "GS[0][:,jj] SE3: size=torch.Size([6, 2]), device=cuda:0, dtype=torch.float32\n"
     ]
    },
    {
     "name": "stderr",
     "output_type": "stream",
     "text": [
      " 59%|█████▉    | 788/1333 [06:00<04:07,  2.20batch/s]"
     ]
    },
    {
     "name": "stdout",
     "output_type": "stream",
     "text": [
      "GS______ [SE3: size=torch.Size([6, 2]), device=cuda:0, dtype=torch.float32]\n",
      "GS[0]__ __ __  SE3: size=torch.Size([6, 2]), device=cuda:0, dtype=torch.float32\n",
      "GS[0][:,jj] SE3: size=torch.Size([6, 2]), device=cuda:0, dtype=torch.float32\n"
     ]
    },
    {
     "name": "stderr",
     "output_type": "stream",
     "text": [
      " 59%|█████▉    | 789/1333 [06:01<04:18,  2.10batch/s]"
     ]
    },
    {
     "name": "stdout",
     "output_type": "stream",
     "text": [
      "GS______ [SE3: size=torch.Size([6, 2]), device=cuda:0, dtype=torch.float32]\n",
      "GS[0]__ __ __  SE3: size=torch.Size([6, 2]), device=cuda:0, dtype=torch.float32\n",
      "GS[0][:,jj] SE3: size=torch.Size([6, 2]), device=cuda:0, dtype=torch.float32\n"
     ]
    },
    {
     "name": "stderr",
     "output_type": "stream",
     "text": [
      " 59%|█████▉    | 790/1333 [06:01<04:27,  2.03batch/s]"
     ]
    },
    {
     "name": "stdout",
     "output_type": "stream",
     "text": [
      "GS______ [SE3: size=torch.Size([6, 2]), device=cuda:0, dtype=torch.float32]\n",
      "GS[0]__ __ __  SE3: size=torch.Size([6, 2]), device=cuda:0, dtype=torch.float32\n",
      "GS[0][:,jj] SE3: size=torch.Size([6, 2]), device=cuda:0, dtype=torch.float32\n"
     ]
    },
    {
     "name": "stderr",
     "output_type": "stream",
     "text": [
      " 59%|█████▉    | 791/1333 [06:02<04:30,  2.00batch/s]"
     ]
    },
    {
     "name": "stdout",
     "output_type": "stream",
     "text": [
      "GS______ [SE3: size=torch.Size([6, 2]), device=cuda:0, dtype=torch.float32]\n",
      "GS[0]__ __ __  SE3: size=torch.Size([6, 2]), device=cuda:0, dtype=torch.float32\n",
      "GS[0][:,jj] SE3: size=torch.Size([6, 2]), device=cuda:0, dtype=torch.float32\n"
     ]
    },
    {
     "name": "stderr",
     "output_type": "stream",
     "text": [
      " 59%|█████▉    | 792/1333 [06:02<04:21,  2.07batch/s]"
     ]
    },
    {
     "name": "stdout",
     "output_type": "stream",
     "text": [
      "GS______ [SE3: size=torch.Size([6, 2]), device=cuda:0, dtype=torch.float32]\n",
      "GS[0]__ __ __  SE3: size=torch.Size([6, 2]), device=cuda:0, dtype=torch.float32\n",
      "GS[0][:,jj] SE3: size=torch.Size([6, 2]), device=cuda:0, dtype=torch.float32\n"
     ]
    },
    {
     "name": "stderr",
     "output_type": "stream",
     "text": [
      " 59%|█████▉    | 793/1333 [06:03<04:13,  2.13batch/s]"
     ]
    },
    {
     "name": "stdout",
     "output_type": "stream",
     "text": [
      "GS______ [SE3: size=torch.Size([6, 2]), device=cuda:0, dtype=torch.float32]\n",
      "GS[0]__ __ __  SE3: size=torch.Size([6, 2]), device=cuda:0, dtype=torch.float32\n",
      "GS[0][:,jj] SE3: size=torch.Size([6, 2]), device=cuda:0, dtype=torch.float32\n"
     ]
    },
    {
     "name": "stderr",
     "output_type": "stream",
     "text": [
      " 60%|█████▉    | 794/1333 [06:03<04:07,  2.18batch/s]"
     ]
    },
    {
     "name": "stdout",
     "output_type": "stream",
     "text": [
      "GS______ [SE3: size=torch.Size([6, 2]), device=cuda:0, dtype=torch.float32]\n",
      "GS[0]__ __ __  SE3: size=torch.Size([6, 2]), device=cuda:0, dtype=torch.float32\n",
      "GS[0][:,jj] SE3: size=torch.Size([6, 2]), device=cuda:0, dtype=torch.float32\n"
     ]
    },
    {
     "name": "stderr",
     "output_type": "stream",
     "text": [
      " 60%|█████▉    | 795/1333 [06:03<04:04,  2.20batch/s]"
     ]
    },
    {
     "name": "stdout",
     "output_type": "stream",
     "text": [
      "GS______ [SE3: size=torch.Size([6, 2]), device=cuda:0, dtype=torch.float32]\n",
      "GS[0]__ __ __  SE3: size=torch.Size([6, 2]), device=cuda:0, dtype=torch.float32\n",
      "GS[0][:,jj] SE3: size=torch.Size([6, 2]), device=cuda:0, dtype=torch.float32\n"
     ]
    },
    {
     "name": "stderr",
     "output_type": "stream",
     "text": [
      " 60%|█████▉    | 796/1333 [06:04<04:02,  2.22batch/s]"
     ]
    },
    {
     "name": "stdout",
     "output_type": "stream",
     "text": [
      "GS______ [SE3: size=torch.Size([6, 2]), device=cuda:0, dtype=torch.float32]\n",
      "GS[0]__ __ __  SE3: size=torch.Size([6, 2]), device=cuda:0, dtype=torch.float32\n",
      "GS[0][:,jj] SE3: size=torch.Size([6, 2]), device=cuda:0, dtype=torch.float32\n"
     ]
    },
    {
     "name": "stderr",
     "output_type": "stream",
     "text": [
      " 60%|█████▉    | 797/1333 [06:04<03:59,  2.23batch/s]"
     ]
    },
    {
     "name": "stdout",
     "output_type": "stream",
     "text": [
      "GS______ [SE3: size=torch.Size([6, 2]), device=cuda:0, dtype=torch.float32]\n",
      "GS[0]__ __ __  SE3: size=torch.Size([6, 2]), device=cuda:0, dtype=torch.float32\n",
      "GS[0][:,jj] SE3: size=torch.Size([6, 2]), device=cuda:0, dtype=torch.float32\n"
     ]
    },
    {
     "name": "stderr",
     "output_type": "stream",
     "text": [
      " 60%|█████▉    | 798/1333 [06:05<03:58,  2.25batch/s]"
     ]
    },
    {
     "name": "stdout",
     "output_type": "stream",
     "text": [
      "GS______ [SE3: size=torch.Size([6, 2]), device=cuda:0, dtype=torch.float32]\n",
      "GS[0]__ __ __  SE3: size=torch.Size([6, 2]), device=cuda:0, dtype=torch.float32\n",
      "GS[0][:,jj] SE3: size=torch.Size([6, 2]), device=cuda:0, dtype=torch.float32\n"
     ]
    },
    {
     "name": "stderr",
     "output_type": "stream",
     "text": [
      " 60%|█████▉    | 799/1333 [06:05<03:56,  2.26batch/s]"
     ]
    },
    {
     "name": "stdout",
     "output_type": "stream",
     "text": [
      "GS______ [SE3: size=torch.Size([6, 2]), device=cuda:0, dtype=torch.float32]\n",
      "GS[0]__ __ __  SE3: size=torch.Size([6, 2]), device=cuda:0, dtype=torch.float32\n",
      "GS[0][:,jj] SE3: size=torch.Size([6, 2]), device=cuda:0, dtype=torch.float32\n"
     ]
    },
    {
     "name": "stderr",
     "output_type": "stream",
     "text": [
      " 60%|██████    | 800/1333 [06:06<03:55,  2.26batch/s]"
     ]
    },
    {
     "name": "stdout",
     "output_type": "stream",
     "text": [
      "GS______ [SE3: size=torch.Size([6, 2]), device=cuda:0, dtype=torch.float32]\n",
      "GS[0]__ __ __  SE3: size=torch.Size([6, 2]), device=cuda:0, dtype=torch.float32\n",
      "GS[0][:,jj] SE3: size=torch.Size([6, 2]), device=cuda:0, dtype=torch.float32\n"
     ]
    },
    {
     "name": "stderr",
     "output_type": "stream",
     "text": [
      " 60%|██████    | 801/1333 [06:06<03:55,  2.25batch/s]"
     ]
    },
    {
     "name": "stdout",
     "output_type": "stream",
     "text": [
      "GS______ [SE3: size=torch.Size([6, 2]), device=cuda:0, dtype=torch.float32]\n",
      "GS[0]__ __ __  SE3: size=torch.Size([6, 2]), device=cuda:0, dtype=torch.float32\n",
      "GS[0][:,jj] SE3: size=torch.Size([6, 2]), device=cuda:0, dtype=torch.float32\n"
     ]
    },
    {
     "name": "stderr",
     "output_type": "stream",
     "text": [
      " 60%|██████    | 802/1333 [06:07<03:54,  2.26batch/s]"
     ]
    },
    {
     "name": "stdout",
     "output_type": "stream",
     "text": [
      "GS______ [SE3: size=torch.Size([6, 2]), device=cuda:0, dtype=torch.float32]\n",
      "GS[0]__ __ __  SE3: size=torch.Size([6, 2]), device=cuda:0, dtype=torch.float32\n",
      "GS[0][:,jj] SE3: size=torch.Size([6, 2]), device=cuda:0, dtype=torch.float32\n"
     ]
    },
    {
     "name": "stderr",
     "output_type": "stream",
     "text": [
      " 60%|██████    | 803/1333 [06:07<03:56,  2.24batch/s]"
     ]
    },
    {
     "name": "stdout",
     "output_type": "stream",
     "text": [
      "GS______ [SE3: size=torch.Size([6, 2]), device=cuda:0, dtype=torch.float32]\n",
      "GS[0]__ __ __  SE3: size=torch.Size([6, 2]), device=cuda:0, dtype=torch.float32\n",
      "GS[0][:,jj] SE3: size=torch.Size([6, 2]), device=cuda:0, dtype=torch.float32\n"
     ]
    },
    {
     "name": "stderr",
     "output_type": "stream",
     "text": [
      " 60%|██████    | 804/1333 [06:07<03:56,  2.23batch/s]"
     ]
    },
    {
     "name": "stdout",
     "output_type": "stream",
     "text": [
      "GS______ [SE3: size=torch.Size([6, 2]), device=cuda:0, dtype=torch.float32]\n",
      "GS[0]__ __ __  SE3: size=torch.Size([6, 2]), device=cuda:0, dtype=torch.float32\n",
      "GS[0][:,jj] SE3: size=torch.Size([6, 2]), device=cuda:0, dtype=torch.float32\n"
     ]
    },
    {
     "name": "stderr",
     "output_type": "stream",
     "text": [
      " 60%|██████    | 805/1333 [06:08<03:56,  2.23batch/s]"
     ]
    },
    {
     "name": "stdout",
     "output_type": "stream",
     "text": [
      "GS______ [SE3: size=torch.Size([6, 2]), device=cuda:0, dtype=torch.float32]\n",
      "GS[0]__ __ __  SE3: size=torch.Size([6, 2]), device=cuda:0, dtype=torch.float32\n",
      "GS[0][:,jj] SE3: size=torch.Size([6, 2]), device=cuda:0, dtype=torch.float32\n"
     ]
    },
    {
     "name": "stderr",
     "output_type": "stream",
     "text": [
      " 60%|██████    | 806/1333 [06:08<03:54,  2.25batch/s]"
     ]
    },
    {
     "name": "stdout",
     "output_type": "stream",
     "text": [
      "GS______ [SE3: size=torch.Size([6, 2]), device=cuda:0, dtype=torch.float32]\n",
      "GS[0]__ __ __  SE3: size=torch.Size([6, 2]), device=cuda:0, dtype=torch.float32\n",
      "GS[0][:,jj] SE3: size=torch.Size([6, 2]), device=cuda:0, dtype=torch.float32\n"
     ]
    },
    {
     "name": "stderr",
     "output_type": "stream",
     "text": [
      " 61%|██████    | 807/1333 [06:09<03:52,  2.26batch/s]"
     ]
    },
    {
     "name": "stdout",
     "output_type": "stream",
     "text": [
      "GS______ [SE3: size=torch.Size([6, 2]), device=cuda:0, dtype=torch.float32]\n",
      "GS[0]__ __ __  SE3: size=torch.Size([6, 2]), device=cuda:0, dtype=torch.float32\n",
      "GS[0][:,jj] SE3: size=torch.Size([6, 2]), device=cuda:0, dtype=torch.float32\n"
     ]
    },
    {
     "name": "stderr",
     "output_type": "stream",
     "text": [
      " 61%|██████    | 808/1333 [06:09<03:51,  2.27batch/s]"
     ]
    },
    {
     "name": "stdout",
     "output_type": "stream",
     "text": [
      "GS______ [SE3: size=torch.Size([6, 2]), device=cuda:0, dtype=torch.float32]\n",
      "GS[0]__ __ __  SE3: size=torch.Size([6, 2]), device=cuda:0, dtype=torch.float32\n",
      "GS[0][:,jj] SE3: size=torch.Size([6, 2]), device=cuda:0, dtype=torch.float32\n"
     ]
    },
    {
     "name": "stderr",
     "output_type": "stream",
     "text": [
      " 61%|██████    | 809/1333 [06:10<03:50,  2.27batch/s]"
     ]
    },
    {
     "name": "stdout",
     "output_type": "stream",
     "text": [
      "GS______ [SE3: size=torch.Size([6, 2]), device=cuda:0, dtype=torch.float32]\n",
      "GS[0]__ __ __  SE3: size=torch.Size([6, 2]), device=cuda:0, dtype=torch.float32\n",
      "GS[0][:,jj] SE3: size=torch.Size([6, 2]), device=cuda:0, dtype=torch.float32\n"
     ]
    },
    {
     "name": "stderr",
     "output_type": "stream",
     "text": [
      " 61%|██████    | 810/1333 [06:10<03:52,  2.25batch/s]"
     ]
    },
    {
     "name": "stdout",
     "output_type": "stream",
     "text": [
      "GS______ [SE3: size=torch.Size([6, 2]), device=cuda:0, dtype=torch.float32]\n",
      "GS[0]__ __ __  SE3: size=torch.Size([6, 2]), device=cuda:0, dtype=torch.float32\n",
      "GS[0][:,jj] SE3: size=torch.Size([6, 2]), device=cuda:0, dtype=torch.float32\n"
     ]
    },
    {
     "name": "stderr",
     "output_type": "stream",
     "text": [
      " 61%|██████    | 811/1333 [06:11<03:52,  2.25batch/s]"
     ]
    },
    {
     "name": "stdout",
     "output_type": "stream",
     "text": [
      "GS______ [SE3: size=torch.Size([6, 2]), device=cuda:0, dtype=torch.float32]\n",
      "GS[0]__ __ __  SE3: size=torch.Size([6, 2]), device=cuda:0, dtype=torch.float32\n",
      "GS[0][:,jj] SE3: size=torch.Size([6, 2]), device=cuda:0, dtype=torch.float32\n"
     ]
    },
    {
     "name": "stderr",
     "output_type": "stream",
     "text": [
      " 61%|██████    | 812/1333 [06:11<03:50,  2.26batch/s]"
     ]
    },
    {
     "name": "stdout",
     "output_type": "stream",
     "text": [
      "GS______ [SE3: size=torch.Size([6, 2]), device=cuda:0, dtype=torch.float32]\n",
      "GS[0]__ __ __  SE3: size=torch.Size([6, 2]), device=cuda:0, dtype=torch.float32\n",
      "GS[0][:,jj] SE3: size=torch.Size([6, 2]), device=cuda:0, dtype=torch.float32\n"
     ]
    },
    {
     "name": "stderr",
     "output_type": "stream",
     "text": [
      " 61%|██████    | 813/1333 [06:11<03:51,  2.24batch/s]"
     ]
    },
    {
     "name": "stdout",
     "output_type": "stream",
     "text": [
      "GS______ [SE3: size=torch.Size([6, 2]), device=cuda:0, dtype=torch.float32]\n",
      "GS[0]__ __ __  SE3: size=torch.Size([6, 2]), device=cuda:0, dtype=torch.float32\n",
      "GS[0][:,jj] SE3: size=torch.Size([6, 2]), device=cuda:0, dtype=torch.float32\n"
     ]
    },
    {
     "name": "stderr",
     "output_type": "stream",
     "text": [
      " 61%|██████    | 814/1333 [06:12<03:50,  2.25batch/s]"
     ]
    },
    {
     "name": "stdout",
     "output_type": "stream",
     "text": [
      "GS______ [SE3: size=torch.Size([6, 2]), device=cuda:0, dtype=torch.float32]\n",
      "GS[0]__ __ __  SE3: size=torch.Size([6, 2]), device=cuda:0, dtype=torch.float32\n",
      "GS[0][:,jj] SE3: size=torch.Size([6, 2]), device=cuda:0, dtype=torch.float32\n"
     ]
    },
    {
     "name": "stderr",
     "output_type": "stream",
     "text": [
      " 61%|██████    | 815/1333 [06:12<03:49,  2.26batch/s]"
     ]
    },
    {
     "name": "stdout",
     "output_type": "stream",
     "text": [
      "GS______ [SE3: size=torch.Size([6, 2]), device=cuda:0, dtype=torch.float32]\n",
      "GS[0]__ __ __  SE3: size=torch.Size([6, 2]), device=cuda:0, dtype=torch.float32\n",
      "GS[0][:,jj] SE3: size=torch.Size([6, 2]), device=cuda:0, dtype=torch.float32\n"
     ]
    },
    {
     "name": "stderr",
     "output_type": "stream",
     "text": [
      " 61%|██████    | 816/1333 [06:13<03:47,  2.27batch/s]"
     ]
    },
    {
     "name": "stdout",
     "output_type": "stream",
     "text": [
      "GS______ [SE3: size=torch.Size([6, 2]), device=cuda:0, dtype=torch.float32]\n",
      "GS[0]__ __ __  SE3: size=torch.Size([6, 2]), device=cuda:0, dtype=torch.float32\n",
      "GS[0][:,jj] SE3: size=torch.Size([6, 2]), device=cuda:0, dtype=torch.float32\n"
     ]
    },
    {
     "name": "stderr",
     "output_type": "stream",
     "text": [
      " 61%|██████▏   | 817/1333 [06:13<03:46,  2.28batch/s]"
     ]
    },
    {
     "name": "stdout",
     "output_type": "stream",
     "text": [
      "GS______ [SE3: size=torch.Size([6, 2]), device=cuda:0, dtype=torch.float32]\n",
      "GS[0]__ __ __  SE3: size=torch.Size([6, 2]), device=cuda:0, dtype=torch.float32\n",
      "GS[0][:,jj] SE3: size=torch.Size([6, 2]), device=cuda:0, dtype=torch.float32\n"
     ]
    },
    {
     "name": "stderr",
     "output_type": "stream",
     "text": [
      " 61%|██████▏   | 818/1333 [06:14<03:46,  2.27batch/s]"
     ]
    },
    {
     "name": "stdout",
     "output_type": "stream",
     "text": [
      "GS______ [SE3: size=torch.Size([6, 2]), device=cuda:0, dtype=torch.float32]\n",
      "GS[0]__ __ __  SE3: size=torch.Size([6, 2]), device=cuda:0, dtype=torch.float32\n",
      "GS[0][:,jj] SE3: size=torch.Size([6, 2]), device=cuda:0, dtype=torch.float32\n"
     ]
    },
    {
     "name": "stderr",
     "output_type": "stream",
     "text": [
      " 61%|██████▏   | 819/1333 [06:14<03:46,  2.27batch/s]"
     ]
    },
    {
     "name": "stdout",
     "output_type": "stream",
     "text": [
      "GS______ [SE3: size=torch.Size([6, 2]), device=cuda:0, dtype=torch.float32]\n",
      "GS[0]__ __ __  SE3: size=torch.Size([6, 2]), device=cuda:0, dtype=torch.float32\n",
      "GS[0][:,jj] SE3: size=torch.Size([6, 2]), device=cuda:0, dtype=torch.float32\n"
     ]
    },
    {
     "name": "stderr",
     "output_type": "stream",
     "text": [
      " 62%|██████▏   | 820/1333 [06:15<03:47,  2.25batch/s]"
     ]
    },
    {
     "name": "stdout",
     "output_type": "stream",
     "text": [
      "GS______ [SE3: size=torch.Size([6, 2]), device=cuda:0, dtype=torch.float32]\n",
      "GS[0]__ __ __  SE3: size=torch.Size([6, 2]), device=cuda:0, dtype=torch.float32\n",
      "GS[0][:,jj] SE3: size=torch.Size([6, 2]), device=cuda:0, dtype=torch.float32\n"
     ]
    },
    {
     "name": "stderr",
     "output_type": "stream",
     "text": [
      " 62%|██████▏   | 821/1333 [06:15<03:46,  2.26batch/s]"
     ]
    },
    {
     "name": "stdout",
     "output_type": "stream",
     "text": [
      "GS______ [SE3: size=torch.Size([6, 2]), device=cuda:0, dtype=torch.float32]\n",
      "GS[0]__ __ __  SE3: size=torch.Size([6, 2]), device=cuda:0, dtype=torch.float32\n",
      "GS[0][:,jj] SE3: size=torch.Size([6, 2]), device=cuda:0, dtype=torch.float32\n"
     ]
    },
    {
     "name": "stderr",
     "output_type": "stream",
     "text": [
      " 62%|██████▏   | 822/1333 [06:15<03:47,  2.25batch/s]"
     ]
    },
    {
     "name": "stdout",
     "output_type": "stream",
     "text": [
      "GS______ [SE3: size=torch.Size([6, 2]), device=cuda:0, dtype=torch.float32]\n",
      "GS[0]__ __ __  SE3: size=torch.Size([6, 2]), device=cuda:0, dtype=torch.float32\n",
      "GS[0][:,jj] SE3: size=torch.Size([6, 2]), device=cuda:0, dtype=torch.float32\n"
     ]
    },
    {
     "name": "stderr",
     "output_type": "stream",
     "text": [
      " 62%|██████▏   | 823/1333 [06:16<03:47,  2.24batch/s]"
     ]
    },
    {
     "name": "stdout",
     "output_type": "stream",
     "text": [
      "GS______ [SE3: size=torch.Size([6, 2]), device=cuda:0, dtype=torch.float32]\n",
      "GS[0]__ __ __  SE3: size=torch.Size([6, 2]), device=cuda:0, dtype=torch.float32\n",
      "GS[0][:,jj] SE3: size=torch.Size([6, 2]), device=cuda:0, dtype=torch.float32\n"
     ]
    },
    {
     "name": "stderr",
     "output_type": "stream",
     "text": [
      " 62%|██████▏   | 824/1333 [06:16<03:47,  2.24batch/s]"
     ]
    },
    {
     "name": "stdout",
     "output_type": "stream",
     "text": [
      "GS______ [SE3: size=torch.Size([6, 2]), device=cuda:0, dtype=torch.float32]\n",
      "GS[0]__ __ __  SE3: size=torch.Size([6, 2]), device=cuda:0, dtype=torch.float32\n",
      "GS[0][:,jj] SE3: size=torch.Size([6, 2]), device=cuda:0, dtype=torch.float32\n"
     ]
    },
    {
     "name": "stderr",
     "output_type": "stream",
     "text": [
      " 62%|██████▏   | 825/1333 [06:17<03:46,  2.24batch/s]"
     ]
    },
    {
     "name": "stdout",
     "output_type": "stream",
     "text": [
      "GS______ [SE3: size=torch.Size([6, 2]), device=cuda:0, dtype=torch.float32]\n",
      "GS[0]__ __ __  SE3: size=torch.Size([6, 2]), device=cuda:0, dtype=torch.float32\n",
      "GS[0][:,jj] SE3: size=torch.Size([6, 2]), device=cuda:0, dtype=torch.float32\n"
     ]
    },
    {
     "name": "stderr",
     "output_type": "stream",
     "text": [
      " 62%|██████▏   | 826/1333 [06:17<03:46,  2.24batch/s]"
     ]
    },
    {
     "name": "stdout",
     "output_type": "stream",
     "text": [
      "GS______ [SE3: size=torch.Size([6, 2]), device=cuda:0, dtype=torch.float32]\n",
      "GS[0]__ __ __  SE3: size=torch.Size([6, 2]), device=cuda:0, dtype=torch.float32\n",
      "GS[0][:,jj] SE3: size=torch.Size([6, 2]), device=cuda:0, dtype=torch.float32\n"
     ]
    },
    {
     "name": "stderr",
     "output_type": "stream",
     "text": [
      " 62%|██████▏   | 827/1333 [06:18<03:46,  2.24batch/s]"
     ]
    },
    {
     "name": "stdout",
     "output_type": "stream",
     "text": [
      "GS______ [SE3: size=torch.Size([6, 2]), device=cuda:0, dtype=torch.float32]\n",
      "GS[0]__ __ __  SE3: size=torch.Size([6, 2]), device=cuda:0, dtype=torch.float32\n",
      "GS[0][:,jj] SE3: size=torch.Size([6, 2]), device=cuda:0, dtype=torch.float32\n"
     ]
    },
    {
     "name": "stderr",
     "output_type": "stream",
     "text": [
      " 62%|██████▏   | 828/1333 [06:18<03:45,  2.24batch/s]"
     ]
    },
    {
     "name": "stdout",
     "output_type": "stream",
     "text": [
      "GS______ [SE3: size=torch.Size([6, 2]), device=cuda:0, dtype=torch.float32]\n",
      "GS[0]__ __ __  SE3: size=torch.Size([6, 2]), device=cuda:0, dtype=torch.float32\n",
      "GS[0][:,jj] SE3: size=torch.Size([6, 2]), device=cuda:0, dtype=torch.float32\n"
     ]
    },
    {
     "name": "stderr",
     "output_type": "stream",
     "text": [
      " 62%|██████▏   | 829/1333 [06:19<03:46,  2.23batch/s]"
     ]
    },
    {
     "name": "stdout",
     "output_type": "stream",
     "text": [
      "GS______ [SE3: size=torch.Size([6, 2]), device=cuda:0, dtype=torch.float32]\n",
      "GS[0]__ __ __  SE3: size=torch.Size([6, 2]), device=cuda:0, dtype=torch.float32\n",
      "GS[0][:,jj] SE3: size=torch.Size([6, 2]), device=cuda:0, dtype=torch.float32\n"
     ]
    },
    {
     "name": "stderr",
     "output_type": "stream",
     "text": [
      " 62%|██████▏   | 830/1333 [06:19<03:47,  2.21batch/s]"
     ]
    },
    {
     "name": "stdout",
     "output_type": "stream",
     "text": [
      "GS______ [SE3: size=torch.Size([6, 2]), device=cuda:0, dtype=torch.float32]\n",
      "GS[0]__ __ __  SE3: size=torch.Size([6, 2]), device=cuda:0, dtype=torch.float32\n",
      "GS[0][:,jj] SE3: size=torch.Size([6, 2]), device=cuda:0, dtype=torch.float32\n"
     ]
    },
    {
     "name": "stderr",
     "output_type": "stream",
     "text": [
      " 62%|██████▏   | 831/1333 [06:19<03:45,  2.23batch/s]"
     ]
    },
    {
     "name": "stdout",
     "output_type": "stream",
     "text": [
      "GS______ [SE3: size=torch.Size([6, 2]), device=cuda:0, dtype=torch.float32]\n",
      "GS[0]__ __ __  SE3: size=torch.Size([6, 2]), device=cuda:0, dtype=torch.float32\n",
      "GS[0][:,jj] SE3: size=torch.Size([6, 2]), device=cuda:0, dtype=torch.float32\n"
     ]
    },
    {
     "name": "stderr",
     "output_type": "stream",
     "text": [
      " 62%|██████▏   | 832/1333 [06:20<03:45,  2.22batch/s]"
     ]
    },
    {
     "name": "stdout",
     "output_type": "stream",
     "text": [
      "GS______ [SE3: size=torch.Size([6, 2]), device=cuda:0, dtype=torch.float32]\n",
      "GS[0]__ __ __  SE3: size=torch.Size([6, 2]), device=cuda:0, dtype=torch.float32\n",
      "GS[0][:,jj] SE3: size=torch.Size([6, 2]), device=cuda:0, dtype=torch.float32\n"
     ]
    },
    {
     "name": "stderr",
     "output_type": "stream",
     "text": [
      " 62%|██████▏   | 833/1333 [06:20<03:45,  2.22batch/s]"
     ]
    },
    {
     "name": "stdout",
     "output_type": "stream",
     "text": [
      "GS______ [SE3: size=torch.Size([6, 2]), device=cuda:0, dtype=torch.float32]\n",
      "GS[0]__ __ __  SE3: size=torch.Size([6, 2]), device=cuda:0, dtype=torch.float32\n",
      "GS[0][:,jj] SE3: size=torch.Size([6, 2]), device=cuda:0, dtype=torch.float32\n"
     ]
    },
    {
     "name": "stderr",
     "output_type": "stream",
     "text": [
      " 63%|██████▎   | 834/1333 [06:21<03:44,  2.22batch/s]"
     ]
    },
    {
     "name": "stdout",
     "output_type": "stream",
     "text": [
      "GS______ [SE3: size=torch.Size([6, 2]), device=cuda:0, dtype=torch.float32]\n",
      "GS[0]__ __ __  SE3: size=torch.Size([6, 2]), device=cuda:0, dtype=torch.float32\n",
      "GS[0][:,jj] SE3: size=torch.Size([6, 2]), device=cuda:0, dtype=torch.float32\n"
     ]
    },
    {
     "name": "stderr",
     "output_type": "stream",
     "text": [
      " 63%|██████▎   | 835/1333 [06:21<03:44,  2.22batch/s]"
     ]
    },
    {
     "name": "stdout",
     "output_type": "stream",
     "text": [
      "GS______ [SE3: size=torch.Size([6, 2]), device=cuda:0, dtype=torch.float32]\n",
      "GS[0]__ __ __  SE3: size=torch.Size([6, 2]), device=cuda:0, dtype=torch.float32\n",
      "GS[0][:,jj] SE3: size=torch.Size([6, 2]), device=cuda:0, dtype=torch.float32\n"
     ]
    },
    {
     "name": "stderr",
     "output_type": "stream",
     "text": [
      " 63%|██████▎   | 836/1333 [06:22<03:44,  2.22batch/s]"
     ]
    },
    {
     "name": "stdout",
     "output_type": "stream",
     "text": [
      "GS______ [SE3: size=torch.Size([6, 2]), device=cuda:0, dtype=torch.float32]\n",
      "GS[0]__ __ __  SE3: size=torch.Size([6, 2]), device=cuda:0, dtype=torch.float32\n",
      "GS[0][:,jj] SE3: size=torch.Size([6, 2]), device=cuda:0, dtype=torch.float32\n"
     ]
    },
    {
     "name": "stderr",
     "output_type": "stream",
     "text": [
      " 63%|██████▎   | 837/1333 [06:22<03:45,  2.20batch/s]"
     ]
    },
    {
     "name": "stdout",
     "output_type": "stream",
     "text": [
      "GS______ [SE3: size=torch.Size([6, 2]), device=cuda:0, dtype=torch.float32]\n",
      "GS[0]__ __ __  SE3: size=torch.Size([6, 2]), device=cuda:0, dtype=torch.float32\n",
      "GS[0][:,jj] SE3: size=torch.Size([6, 2]), device=cuda:0, dtype=torch.float32\n"
     ]
    },
    {
     "name": "stderr",
     "output_type": "stream",
     "text": [
      " 63%|██████▎   | 838/1333 [06:23<03:44,  2.20batch/s]"
     ]
    },
    {
     "name": "stdout",
     "output_type": "stream",
     "text": [
      "GS______ [SE3: size=torch.Size([6, 2]), device=cuda:0, dtype=torch.float32]\n",
      "GS[0]__ __ __  SE3: size=torch.Size([6, 2]), device=cuda:0, dtype=torch.float32\n",
      "GS[0][:,jj] SE3: size=torch.Size([6, 2]), device=cuda:0, dtype=torch.float32\n"
     ]
    },
    {
     "name": "stderr",
     "output_type": "stream",
     "text": [
      " 63%|██████▎   | 839/1333 [06:23<03:43,  2.21batch/s]"
     ]
    },
    {
     "name": "stdout",
     "output_type": "stream",
     "text": [
      "GS______ [SE3: size=torch.Size([6, 2]), device=cuda:0, dtype=torch.float32]\n",
      "GS[0]__ __ __  SE3: size=torch.Size([6, 2]), device=cuda:0, dtype=torch.float32\n",
      "GS[0][:,jj] SE3: size=torch.Size([6, 2]), device=cuda:0, dtype=torch.float32\n"
     ]
    },
    {
     "name": "stderr",
     "output_type": "stream",
     "text": [
      " 63%|██████▎   | 840/1333 [06:24<03:42,  2.21batch/s]"
     ]
    },
    {
     "name": "stdout",
     "output_type": "stream",
     "text": [
      "GS______ [SE3: size=torch.Size([6, 2]), device=cuda:0, dtype=torch.float32]\n",
      "GS[0]__ __ __  SE3: size=torch.Size([6, 2]), device=cuda:0, dtype=torch.float32\n",
      "GS[0][:,jj] SE3: size=torch.Size([6, 2]), device=cuda:0, dtype=torch.float32\n"
     ]
    },
    {
     "name": "stderr",
     "output_type": "stream",
     "text": [
      " 63%|██████▎   | 841/1333 [06:24<03:44,  2.19batch/s]"
     ]
    },
    {
     "name": "stdout",
     "output_type": "stream",
     "text": [
      "GS______ [SE3: size=torch.Size([6, 2]), device=cuda:0, dtype=torch.float32]\n",
      "GS[0]__ __ __  SE3: size=torch.Size([6, 2]), device=cuda:0, dtype=torch.float32\n",
      "GS[0][:,jj] SE3: size=torch.Size([6, 2]), device=cuda:0, dtype=torch.float32\n"
     ]
    },
    {
     "name": "stderr",
     "output_type": "stream",
     "text": [
      " 63%|██████▎   | 842/1333 [06:24<03:43,  2.20batch/s]"
     ]
    },
    {
     "name": "stdout",
     "output_type": "stream",
     "text": [
      "GS______ [SE3: size=torch.Size([6, 2]), device=cuda:0, dtype=torch.float32]\n",
      "GS[0]__ __ __  SE3: size=torch.Size([6, 2]), device=cuda:0, dtype=torch.float32\n",
      "GS[0][:,jj] SE3: size=torch.Size([6, 2]), device=cuda:0, dtype=torch.float32\n"
     ]
    },
    {
     "name": "stderr",
     "output_type": "stream",
     "text": [
      " 63%|██████▎   | 843/1333 [06:25<03:41,  2.21batch/s]"
     ]
    },
    {
     "name": "stdout",
     "output_type": "stream",
     "text": [
      "GS______ [SE3: size=torch.Size([6, 2]), device=cuda:0, dtype=torch.float32]\n",
      "GS[0]__ __ __  SE3: size=torch.Size([6, 2]), device=cuda:0, dtype=torch.float32\n",
      "GS[0][:,jj] SE3: size=torch.Size([6, 2]), device=cuda:0, dtype=torch.float32\n"
     ]
    },
    {
     "name": "stderr",
     "output_type": "stream",
     "text": [
      " 63%|██████▎   | 844/1333 [06:25<03:41,  2.20batch/s]"
     ]
    },
    {
     "name": "stdout",
     "output_type": "stream",
     "text": [
      "GS______ [SE3: size=torch.Size([6, 2]), device=cuda:0, dtype=torch.float32]\n",
      "GS[0]__ __ __  SE3: size=torch.Size([6, 2]), device=cuda:0, dtype=torch.float32\n",
      "GS[0][:,jj] SE3: size=torch.Size([6, 2]), device=cuda:0, dtype=torch.float32\n"
     ]
    },
    {
     "name": "stderr",
     "output_type": "stream",
     "text": [
      " 63%|██████▎   | 845/1333 [06:26<03:41,  2.21batch/s]"
     ]
    },
    {
     "name": "stdout",
     "output_type": "stream",
     "text": [
      "GS______ [SE3: size=torch.Size([6, 2]), device=cuda:0, dtype=torch.float32]\n",
      "GS[0]__ __ __  SE3: size=torch.Size([6, 2]), device=cuda:0, dtype=torch.float32\n",
      "GS[0][:,jj] SE3: size=torch.Size([6, 2]), device=cuda:0, dtype=torch.float32\n"
     ]
    },
    {
     "name": "stderr",
     "output_type": "stream",
     "text": [
      " 63%|██████▎   | 846/1333 [06:26<03:39,  2.21batch/s]"
     ]
    },
    {
     "name": "stdout",
     "output_type": "stream",
     "text": [
      "GS______ [SE3: size=torch.Size([6, 2]), device=cuda:0, dtype=torch.float32]\n",
      "GS[0]__ __ __  SE3: size=torch.Size([6, 2]), device=cuda:0, dtype=torch.float32\n",
      "GS[0][:,jj] SE3: size=torch.Size([6, 2]), device=cuda:0, dtype=torch.float32\n"
     ]
    },
    {
     "name": "stderr",
     "output_type": "stream",
     "text": [
      " 64%|██████▎   | 847/1333 [06:27<03:37,  2.23batch/s]"
     ]
    },
    {
     "name": "stdout",
     "output_type": "stream",
     "text": [
      "GS______ [SE3: size=torch.Size([6, 2]), device=cuda:0, dtype=torch.float32]\n",
      "GS[0]__ __ __  SE3: size=torch.Size([6, 2]), device=cuda:0, dtype=torch.float32\n",
      "GS[0][:,jj] SE3: size=torch.Size([6, 2]), device=cuda:0, dtype=torch.float32\n"
     ]
    },
    {
     "name": "stderr",
     "output_type": "stream",
     "text": [
      " 64%|██████▎   | 848/1333 [06:27<03:38,  2.22batch/s]"
     ]
    },
    {
     "name": "stdout",
     "output_type": "stream",
     "text": [
      "GS______ [SE3: size=torch.Size([6, 2]), device=cuda:0, dtype=torch.float32]\n",
      "GS[0]__ __ __  SE3: size=torch.Size([6, 2]), device=cuda:0, dtype=torch.float32\n",
      "GS[0][:,jj] SE3: size=torch.Size([6, 2]), device=cuda:0, dtype=torch.float32\n"
     ]
    },
    {
     "name": "stderr",
     "output_type": "stream",
     "text": [
      " 64%|██████▎   | 849/1333 [06:28<03:38,  2.21batch/s]"
     ]
    },
    {
     "name": "stdout",
     "output_type": "stream",
     "text": [
      "GS______ [SE3: size=torch.Size([6, 2]), device=cuda:0, dtype=torch.float32]\n",
      "GS[0]__ __ __  SE3: size=torch.Size([6, 2]), device=cuda:0, dtype=torch.float32\n",
      "GS[0][:,jj] SE3: size=torch.Size([6, 2]), device=cuda:0, dtype=torch.float32\n"
     ]
    },
    {
     "name": "stderr",
     "output_type": "stream",
     "text": [
      " 64%|██████▍   | 850/1333 [06:28<03:37,  2.22batch/s]"
     ]
    },
    {
     "name": "stdout",
     "output_type": "stream",
     "text": [
      "GS______ [SE3: size=torch.Size([6, 2]), device=cuda:0, dtype=torch.float32]\n",
      "GS[0]__ __ __  SE3: size=torch.Size([6, 2]), device=cuda:0, dtype=torch.float32\n",
      "GS[0][:,jj] SE3: size=torch.Size([6, 2]), device=cuda:0, dtype=torch.float32\n"
     ]
    },
    {
     "name": "stderr",
     "output_type": "stream",
     "text": [
      " 64%|██████▍   | 851/1333 [06:29<03:37,  2.21batch/s]"
     ]
    },
    {
     "name": "stdout",
     "output_type": "stream",
     "text": [
      "GS______ [SE3: size=torch.Size([6, 2]), device=cuda:0, dtype=torch.float32]\n",
      "GS[0]__ __ __  SE3: size=torch.Size([6, 2]), device=cuda:0, dtype=torch.float32\n",
      "GS[0][:,jj] SE3: size=torch.Size([6, 2]), device=cuda:0, dtype=torch.float32\n"
     ]
    },
    {
     "name": "stderr",
     "output_type": "stream",
     "text": [
      " 64%|██████▍   | 852/1333 [06:29<03:37,  2.21batch/s]"
     ]
    },
    {
     "name": "stdout",
     "output_type": "stream",
     "text": [
      "GS______ [SE3: size=torch.Size([6, 2]), device=cuda:0, dtype=torch.float32]\n",
      "GS[0]__ __ __  SE3: size=torch.Size([6, 2]), device=cuda:0, dtype=torch.float32\n",
      "GS[0][:,jj] SE3: size=torch.Size([6, 2]), device=cuda:0, dtype=torch.float32\n"
     ]
    },
    {
     "name": "stderr",
     "output_type": "stream",
     "text": [
      " 64%|██████▍   | 853/1333 [06:29<03:37,  2.21batch/s]"
     ]
    },
    {
     "name": "stdout",
     "output_type": "stream",
     "text": [
      "GS______ [SE3: size=torch.Size([6, 2]), device=cuda:0, dtype=torch.float32]\n",
      "GS[0]__ __ __  SE3: size=torch.Size([6, 2]), device=cuda:0, dtype=torch.float32\n",
      "GS[0][:,jj] SE3: size=torch.Size([6, 2]), device=cuda:0, dtype=torch.float32\n"
     ]
    },
    {
     "name": "stderr",
     "output_type": "stream",
     "text": [
      " 64%|██████▍   | 854/1333 [06:30<03:35,  2.22batch/s]"
     ]
    },
    {
     "name": "stdout",
     "output_type": "stream",
     "text": [
      "GS______ [SE3: size=torch.Size([6, 2]), device=cuda:0, dtype=torch.float32]\n",
      "GS[0]__ __ __  SE3: size=torch.Size([6, 2]), device=cuda:0, dtype=torch.float32\n",
      "GS[0][:,jj] SE3: size=torch.Size([6, 2]), device=cuda:0, dtype=torch.float32\n"
     ]
    },
    {
     "name": "stderr",
     "output_type": "stream",
     "text": [
      " 64%|██████▍   | 855/1333 [06:30<03:37,  2.20batch/s]"
     ]
    },
    {
     "name": "stdout",
     "output_type": "stream",
     "text": [
      "GS______ [SE3: size=torch.Size([6, 2]), device=cuda:0, dtype=torch.float32]\n",
      "GS[0]__ __ __  SE3: size=torch.Size([6, 2]), device=cuda:0, dtype=torch.float32\n",
      "GS[0][:,jj] SE3: size=torch.Size([6, 2]), device=cuda:0, dtype=torch.float32\n"
     ]
    },
    {
     "name": "stderr",
     "output_type": "stream",
     "text": [
      " 64%|██████▍   | 856/1333 [06:31<03:38,  2.18batch/s]"
     ]
    },
    {
     "name": "stdout",
     "output_type": "stream",
     "text": [
      "GS______ [SE3: size=torch.Size([6, 2]), device=cuda:0, dtype=torch.float32]\n",
      "GS[0]__ __ __  SE3: size=torch.Size([6, 2]), device=cuda:0, dtype=torch.float32\n",
      "GS[0][:,jj] SE3: size=torch.Size([6, 2]), device=cuda:0, dtype=torch.float32\n"
     ]
    },
    {
     "name": "stderr",
     "output_type": "stream",
     "text": [
      " 64%|██████▍   | 857/1333 [06:31<03:39,  2.17batch/s]"
     ]
    },
    {
     "name": "stdout",
     "output_type": "stream",
     "text": [
      "GS______ [SE3: size=torch.Size([6, 2]), device=cuda:0, dtype=torch.float32]\n",
      "GS[0]__ __ __  SE3: size=torch.Size([6, 2]), device=cuda:0, dtype=torch.float32\n",
      "GS[0][:,jj] SE3: size=torch.Size([6, 2]), device=cuda:0, dtype=torch.float32\n"
     ]
    },
    {
     "name": "stderr",
     "output_type": "stream",
     "text": [
      " 64%|██████▍   | 858/1333 [06:32<03:39,  2.17batch/s]"
     ]
    },
    {
     "name": "stdout",
     "output_type": "stream",
     "text": [
      "GS______ [SE3: size=torch.Size([6, 2]), device=cuda:0, dtype=torch.float32]\n",
      "GS[0]__ __ __  SE3: size=torch.Size([6, 2]), device=cuda:0, dtype=torch.float32\n",
      "GS[0][:,jj] SE3: size=torch.Size([6, 2]), device=cuda:0, dtype=torch.float32\n"
     ]
    },
    {
     "name": "stderr",
     "output_type": "stream",
     "text": [
      " 64%|██████▍   | 859/1333 [06:32<03:38,  2.16batch/s]"
     ]
    },
    {
     "name": "stdout",
     "output_type": "stream",
     "text": [
      "GS______ [SE3: size=torch.Size([6, 2]), device=cuda:0, dtype=torch.float32]\n",
      "GS[0]__ __ __  SE3: size=torch.Size([6, 2]), device=cuda:0, dtype=torch.float32\n",
      "GS[0][:,jj] SE3: size=torch.Size([6, 2]), device=cuda:0, dtype=torch.float32\n"
     ]
    },
    {
     "name": "stderr",
     "output_type": "stream",
     "text": [
      " 65%|██████▍   | 860/1333 [06:33<03:38,  2.16batch/s]"
     ]
    },
    {
     "name": "stdout",
     "output_type": "stream",
     "text": [
      "GS______ [SE3: size=torch.Size([6, 2]), device=cuda:0, dtype=torch.float32]\n",
      "GS[0]__ __ __  SE3: size=torch.Size([6, 2]), device=cuda:0, dtype=torch.float32\n",
      "GS[0][:,jj] SE3: size=torch.Size([6, 2]), device=cuda:0, dtype=torch.float32\n"
     ]
    },
    {
     "name": "stderr",
     "output_type": "stream",
     "text": [
      " 65%|██████▍   | 861/1333 [06:33<03:38,  2.16batch/s]"
     ]
    },
    {
     "name": "stdout",
     "output_type": "stream",
     "text": [
      "GS______ [SE3: size=torch.Size([6, 2]), device=cuda:0, dtype=torch.float32]\n",
      "GS[0]__ __ __  SE3: size=torch.Size([6, 2]), device=cuda:0, dtype=torch.float32\n",
      "GS[0][:,jj] SE3: size=torch.Size([6, 2]), device=cuda:0, dtype=torch.float32\n"
     ]
    },
    {
     "name": "stderr",
     "output_type": "stream",
     "text": [
      " 65%|██████▍   | 862/1333 [06:34<03:38,  2.15batch/s]"
     ]
    },
    {
     "name": "stdout",
     "output_type": "stream",
     "text": [
      "GS______ [SE3: size=torch.Size([6, 2]), device=cuda:0, dtype=torch.float32]\n",
      "GS[0]__ __ __  SE3: size=torch.Size([6, 2]), device=cuda:0, dtype=torch.float32\n",
      "GS[0][:,jj] SE3: size=torch.Size([6, 2]), device=cuda:0, dtype=torch.float32\n"
     ]
    },
    {
     "name": "stderr",
     "output_type": "stream",
     "text": [
      " 65%|██████▍   | 863/1333 [06:34<03:37,  2.16batch/s]"
     ]
    },
    {
     "name": "stdout",
     "output_type": "stream",
     "text": [
      "GS______ [SE3: size=torch.Size([6, 2]), device=cuda:0, dtype=torch.float32]\n",
      "GS[0]__ __ __  SE3: size=torch.Size([6, 2]), device=cuda:0, dtype=torch.float32\n",
      "GS[0][:,jj] SE3: size=torch.Size([6, 2]), device=cuda:0, dtype=torch.float32\n"
     ]
    },
    {
     "name": "stderr",
     "output_type": "stream",
     "text": [
      " 65%|██████▍   | 864/1333 [06:35<03:37,  2.16batch/s]"
     ]
    },
    {
     "name": "stdout",
     "output_type": "stream",
     "text": [
      "GS______ [SE3: size=torch.Size([6, 2]), device=cuda:0, dtype=torch.float32]\n",
      "GS[0]__ __ __  SE3: size=torch.Size([6, 2]), device=cuda:0, dtype=torch.float32\n",
      "GS[0][:,jj] SE3: size=torch.Size([6, 2]), device=cuda:0, dtype=torch.float32\n"
     ]
    },
    {
     "name": "stderr",
     "output_type": "stream",
     "text": [
      " 65%|██████▍   | 865/1333 [06:35<03:38,  2.15batch/s]"
     ]
    },
    {
     "name": "stdout",
     "output_type": "stream",
     "text": [
      "GS______ [SE3: size=torch.Size([6, 2]), device=cuda:0, dtype=torch.float32]\n",
      "GS[0]__ __ __  SE3: size=torch.Size([6, 2]), device=cuda:0, dtype=torch.float32\n",
      "GS[0][:,jj] SE3: size=torch.Size([6, 2]), device=cuda:0, dtype=torch.float32\n"
     ]
    },
    {
     "name": "stderr",
     "output_type": "stream",
     "text": [
      " 65%|██████▍   | 866/1333 [06:35<03:36,  2.16batch/s]"
     ]
    },
    {
     "name": "stdout",
     "output_type": "stream",
     "text": [
      "GS______ [SE3: size=torch.Size([6, 2]), device=cuda:0, dtype=torch.float32]\n",
      "GS[0]__ __ __  SE3: size=torch.Size([6, 2]), device=cuda:0, dtype=torch.float32\n",
      "GS[0][:,jj] SE3: size=torch.Size([6, 2]), device=cuda:0, dtype=torch.float32\n"
     ]
    },
    {
     "name": "stderr",
     "output_type": "stream",
     "text": [
      " 65%|██████▌   | 867/1333 [06:36<03:35,  2.17batch/s]"
     ]
    },
    {
     "name": "stdout",
     "output_type": "stream",
     "text": [
      "GS______ [SE3: size=torch.Size([6, 2]), device=cuda:0, dtype=torch.float32]\n",
      "GS[0]__ __ __  SE3: size=torch.Size([6, 2]), device=cuda:0, dtype=torch.float32\n",
      "GS[0][:,jj] SE3: size=torch.Size([6, 2]), device=cuda:0, dtype=torch.float32\n"
     ]
    },
    {
     "name": "stderr",
     "output_type": "stream",
     "text": [
      " 65%|██████▌   | 868/1333 [06:36<03:35,  2.16batch/s]"
     ]
    },
    {
     "name": "stdout",
     "output_type": "stream",
     "text": [
      "GS______ [SE3: size=torch.Size([6, 2]), device=cuda:0, dtype=torch.float32]\n",
      "GS[0]__ __ __  SE3: size=torch.Size([6, 2]), device=cuda:0, dtype=torch.float32\n",
      "GS[0][:,jj] SE3: size=torch.Size([6, 2]), device=cuda:0, dtype=torch.float32\n"
     ]
    },
    {
     "name": "stderr",
     "output_type": "stream",
     "text": [
      " 65%|██████▌   | 869/1333 [06:37<03:33,  2.17batch/s]"
     ]
    },
    {
     "name": "stdout",
     "output_type": "stream",
     "text": [
      "GS______ [SE3: size=torch.Size([6, 2]), device=cuda:0, dtype=torch.float32]\n",
      "GS[0]__ __ __  SE3: size=torch.Size([6, 2]), device=cuda:0, dtype=torch.float32\n",
      "GS[0][:,jj] SE3: size=torch.Size([6, 2]), device=cuda:0, dtype=torch.float32\n"
     ]
    },
    {
     "name": "stderr",
     "output_type": "stream",
     "text": [
      " 65%|██████▌   | 870/1333 [06:37<03:31,  2.19batch/s]"
     ]
    },
    {
     "name": "stdout",
     "output_type": "stream",
     "text": [
      "GS______ [SE3: size=torch.Size([6, 2]), device=cuda:0, dtype=torch.float32]\n",
      "GS[0]__ __ __  SE3: size=torch.Size([6, 2]), device=cuda:0, dtype=torch.float32\n",
      "GS[0][:,jj] SE3: size=torch.Size([6, 2]), device=cuda:0, dtype=torch.float32\n"
     ]
    },
    {
     "name": "stderr",
     "output_type": "stream",
     "text": [
      " 65%|██████▌   | 871/1333 [06:38<03:32,  2.18batch/s]"
     ]
    },
    {
     "name": "stdout",
     "output_type": "stream",
     "text": [
      "GS______ [SE3: size=torch.Size([6, 2]), device=cuda:0, dtype=torch.float32]\n",
      "GS[0]__ __ __  SE3: size=torch.Size([6, 2]), device=cuda:0, dtype=torch.float32\n",
      "GS[0][:,jj] SE3: size=torch.Size([6, 2]), device=cuda:0, dtype=torch.float32\n"
     ]
    },
    {
     "name": "stderr",
     "output_type": "stream",
     "text": [
      " 65%|██████▌   | 872/1333 [06:38<03:32,  2.17batch/s]"
     ]
    },
    {
     "name": "stdout",
     "output_type": "stream",
     "text": [
      "GS______ [SE3: size=torch.Size([6, 2]), device=cuda:0, dtype=torch.float32]\n",
      "GS[0]__ __ __  SE3: size=torch.Size([6, 2]), device=cuda:0, dtype=torch.float32\n",
      "GS[0][:,jj] SE3: size=torch.Size([6, 2]), device=cuda:0, dtype=torch.float32\n"
     ]
    },
    {
     "name": "stderr",
     "output_type": "stream",
     "text": [
      " 65%|██████▌   | 873/1333 [06:39<03:32,  2.17batch/s]"
     ]
    },
    {
     "name": "stdout",
     "output_type": "stream",
     "text": [
      "GS______ [SE3: size=torch.Size([6, 2]), device=cuda:0, dtype=torch.float32]\n",
      "GS[0]__ __ __  SE3: size=torch.Size([6, 2]), device=cuda:0, dtype=torch.float32\n",
      "GS[0][:,jj] SE3: size=torch.Size([6, 2]), device=cuda:0, dtype=torch.float32\n"
     ]
    },
    {
     "name": "stderr",
     "output_type": "stream",
     "text": [
      " 66%|██████▌   | 874/1333 [06:39<03:31,  2.17batch/s]"
     ]
    },
    {
     "name": "stdout",
     "output_type": "stream",
     "text": [
      "GS______ [SE3: size=torch.Size([6, 2]), device=cuda:0, dtype=torch.float32]\n",
      "GS[0]__ __ __  SE3: size=torch.Size([6, 2]), device=cuda:0, dtype=torch.float32\n",
      "GS[0][:,jj] SE3: size=torch.Size([6, 2]), device=cuda:0, dtype=torch.float32\n"
     ]
    },
    {
     "name": "stderr",
     "output_type": "stream",
     "text": [
      " 66%|██████▌   | 875/1333 [06:40<03:31,  2.17batch/s]"
     ]
    },
    {
     "name": "stdout",
     "output_type": "stream",
     "text": [
      "GS______ [SE3: size=torch.Size([6, 2]), device=cuda:0, dtype=torch.float32]\n",
      "GS[0]__ __ __  SE3: size=torch.Size([6, 2]), device=cuda:0, dtype=torch.float32\n",
      "GS[0][:,jj] SE3: size=torch.Size([6, 2]), device=cuda:0, dtype=torch.float32\n"
     ]
    },
    {
     "name": "stderr",
     "output_type": "stream",
     "text": [
      " 66%|██████▌   | 876/1333 [06:40<03:30,  2.17batch/s]"
     ]
    },
    {
     "name": "stdout",
     "output_type": "stream",
     "text": [
      "GS______ [SE3: size=torch.Size([6, 2]), device=cuda:0, dtype=torch.float32]\n",
      "GS[0]__ __ __  SE3: size=torch.Size([6, 2]), device=cuda:0, dtype=torch.float32\n",
      "GS[0][:,jj] SE3: size=torch.Size([6, 2]), device=cuda:0, dtype=torch.float32\n"
     ]
    },
    {
     "name": "stderr",
     "output_type": "stream",
     "text": [
      " 66%|██████▌   | 877/1333 [06:40<03:27,  2.19batch/s]"
     ]
    },
    {
     "name": "stdout",
     "output_type": "stream",
     "text": [
      "GS______ [SE3: size=torch.Size([6, 2]), device=cuda:0, dtype=torch.float32]\n",
      "GS[0]__ __ __  SE3: size=torch.Size([6, 2]), device=cuda:0, dtype=torch.float32\n",
      "GS[0][:,jj] SE3: size=torch.Size([6, 2]), device=cuda:0, dtype=torch.float32\n"
     ]
    },
    {
     "name": "stderr",
     "output_type": "stream",
     "text": [
      " 66%|██████▌   | 878/1333 [06:41<03:25,  2.21batch/s]"
     ]
    },
    {
     "name": "stdout",
     "output_type": "stream",
     "text": [
      "GS______ [SE3: size=torch.Size([6, 2]), device=cuda:0, dtype=torch.float32]\n",
      "GS[0]__ __ __  SE3: size=torch.Size([6, 2]), device=cuda:0, dtype=torch.float32\n",
      "GS[0][:,jj] SE3: size=torch.Size([6, 2]), device=cuda:0, dtype=torch.float32\n"
     ]
    },
    {
     "name": "stderr",
     "output_type": "stream",
     "text": [
      " 66%|██████▌   | 879/1333 [06:41<03:27,  2.19batch/s]"
     ]
    },
    {
     "name": "stdout",
     "output_type": "stream",
     "text": [
      "GS______ [SE3: size=torch.Size([6, 2]), device=cuda:0, dtype=torch.float32]\n",
      "GS[0]__ __ __  SE3: size=torch.Size([6, 2]), device=cuda:0, dtype=torch.float32\n",
      "GS[0][:,jj] SE3: size=torch.Size([6, 2]), device=cuda:0, dtype=torch.float32\n"
     ]
    },
    {
     "name": "stderr",
     "output_type": "stream",
     "text": [
      " 66%|██████▌   | 880/1333 [06:42<03:26,  2.19batch/s]"
     ]
    },
    {
     "name": "stdout",
     "output_type": "stream",
     "text": [
      "GS______ [SE3: size=torch.Size([6, 2]), device=cuda:0, dtype=torch.float32]\n",
      "GS[0]__ __ __  SE3: size=torch.Size([6, 2]), device=cuda:0, dtype=torch.float32\n",
      "GS[0][:,jj] SE3: size=torch.Size([6, 2]), device=cuda:0, dtype=torch.float32\n"
     ]
    },
    {
     "name": "stderr",
     "output_type": "stream",
     "text": [
      " 66%|██████▌   | 881/1333 [06:42<03:26,  2.18batch/s]"
     ]
    },
    {
     "name": "stdout",
     "output_type": "stream",
     "text": [
      "GS______ [SE3: size=torch.Size([6, 2]), device=cuda:0, dtype=torch.float32]\n",
      "GS[0]__ __ __  SE3: size=torch.Size([6, 2]), device=cuda:0, dtype=torch.float32\n",
      "GS[0][:,jj] SE3: size=torch.Size([6, 2]), device=cuda:0, dtype=torch.float32\n"
     ]
    },
    {
     "name": "stderr",
     "output_type": "stream",
     "text": [
      " 66%|██████▌   | 882/1333 [06:43<03:28,  2.16batch/s]"
     ]
    },
    {
     "name": "stdout",
     "output_type": "stream",
     "text": [
      "GS______ [SE3: size=torch.Size([6, 2]), device=cuda:0, dtype=torch.float32]\n",
      "GS[0]__ __ __  SE3: size=torch.Size([6, 2]), device=cuda:0, dtype=torch.float32\n",
      "GS[0][:,jj] SE3: size=torch.Size([6, 2]), device=cuda:0, dtype=torch.float32\n"
     ]
    },
    {
     "name": "stderr",
     "output_type": "stream",
     "text": [
      " 66%|██████▌   | 883/1333 [06:43<03:28,  2.16batch/s]"
     ]
    },
    {
     "name": "stdout",
     "output_type": "stream",
     "text": [
      "GS______ [SE3: size=torch.Size([6, 2]), device=cuda:0, dtype=torch.float32]\n",
      "GS[0]__ __ __  SE3: size=torch.Size([6, 2]), device=cuda:0, dtype=torch.float32\n",
      "GS[0][:,jj] SE3: size=torch.Size([6, 2]), device=cuda:0, dtype=torch.float32\n"
     ]
    },
    {
     "name": "stderr",
     "output_type": "stream",
     "text": [
      " 66%|██████▋   | 884/1333 [06:44<03:28,  2.15batch/s]"
     ]
    },
    {
     "name": "stdout",
     "output_type": "stream",
     "text": [
      "GS______ [SE3: size=torch.Size([6, 2]), device=cuda:0, dtype=torch.float32]\n",
      "GS[0]__ __ __  SE3: size=torch.Size([6, 2]), device=cuda:0, dtype=torch.float32\n",
      "GS[0][:,jj] SE3: size=torch.Size([6, 2]), device=cuda:0, dtype=torch.float32\n"
     ]
    },
    {
     "name": "stderr",
     "output_type": "stream",
     "text": [
      " 66%|██████▋   | 885/1333 [06:44<03:27,  2.16batch/s]"
     ]
    },
    {
     "name": "stdout",
     "output_type": "stream",
     "text": [
      "GS______ [SE3: size=torch.Size([6, 2]), device=cuda:0, dtype=torch.float32]\n",
      "GS[0]__ __ __  SE3: size=torch.Size([6, 2]), device=cuda:0, dtype=torch.float32\n",
      "GS[0][:,jj] SE3: size=torch.Size([6, 2]), device=cuda:0, dtype=torch.float32\n"
     ]
    },
    {
     "name": "stderr",
     "output_type": "stream",
     "text": [
      " 66%|██████▋   | 886/1333 [06:45<03:26,  2.16batch/s]"
     ]
    },
    {
     "name": "stdout",
     "output_type": "stream",
     "text": [
      "GS______ [SE3: size=torch.Size([6, 2]), device=cuda:0, dtype=torch.float32]\n",
      "GS[0]__ __ __  SE3: size=torch.Size([6, 2]), device=cuda:0, dtype=torch.float32\n",
      "GS[0][:,jj] SE3: size=torch.Size([6, 2]), device=cuda:0, dtype=torch.float32\n"
     ]
    },
    {
     "name": "stderr",
     "output_type": "stream",
     "text": [
      " 67%|██████▋   | 887/1333 [06:45<03:26,  2.16batch/s]"
     ]
    },
    {
     "name": "stdout",
     "output_type": "stream",
     "text": [
      "GS______ [SE3: size=torch.Size([6, 2]), device=cuda:0, dtype=torch.float32]\n",
      "GS[0]__ __ __  SE3: size=torch.Size([6, 2]), device=cuda:0, dtype=torch.float32\n",
      "GS[0][:,jj] SE3: size=torch.Size([6, 2]), device=cuda:0, dtype=torch.float32\n"
     ]
    },
    {
     "name": "stderr",
     "output_type": "stream",
     "text": [
      " 67%|██████▋   | 888/1333 [06:46<03:28,  2.14batch/s]"
     ]
    },
    {
     "name": "stdout",
     "output_type": "stream",
     "text": [
      "GS______ [SE3: size=torch.Size([6, 2]), device=cuda:0, dtype=torch.float32]\n",
      "GS[0]__ __ __  SE3: size=torch.Size([6, 2]), device=cuda:0, dtype=torch.float32\n",
      "GS[0][:,jj] SE3: size=torch.Size([6, 2]), device=cuda:0, dtype=torch.float32\n"
     ]
    },
    {
     "name": "stderr",
     "output_type": "stream",
     "text": [
      " 67%|██████▋   | 889/1333 [06:46<03:26,  2.14batch/s]"
     ]
    },
    {
     "name": "stdout",
     "output_type": "stream",
     "text": [
      "GS______ [SE3: size=torch.Size([6, 2]), device=cuda:0, dtype=torch.float32]\n",
      "GS[0]__ __ __  SE3: size=torch.Size([6, 2]), device=cuda:0, dtype=torch.float32\n",
      "GS[0][:,jj] SE3: size=torch.Size([6, 2]), device=cuda:0, dtype=torch.float32\n"
     ]
    },
    {
     "name": "stderr",
     "output_type": "stream",
     "text": [
      " 67%|██████▋   | 890/1333 [06:47<03:26,  2.14batch/s]"
     ]
    },
    {
     "name": "stdout",
     "output_type": "stream",
     "text": [
      "GS______ [SE3: size=torch.Size([6, 2]), device=cuda:0, dtype=torch.float32]\n",
      "GS[0]__ __ __  SE3: size=torch.Size([6, 2]), device=cuda:0, dtype=torch.float32\n",
      "GS[0][:,jj] SE3: size=torch.Size([6, 2]), device=cuda:0, dtype=torch.float32\n"
     ]
    },
    {
     "name": "stderr",
     "output_type": "stream",
     "text": [
      " 67%|██████▋   | 891/1333 [06:47<03:24,  2.16batch/s]"
     ]
    },
    {
     "name": "stdout",
     "output_type": "stream",
     "text": [
      "GS______ [SE3: size=torch.Size([6, 2]), device=cuda:0, dtype=torch.float32]\n",
      "GS[0]__ __ __  SE3: size=torch.Size([6, 2]), device=cuda:0, dtype=torch.float32\n",
      "GS[0][:,jj] SE3: size=torch.Size([6, 2]), device=cuda:0, dtype=torch.float32\n"
     ]
    },
    {
     "name": "stderr",
     "output_type": "stream",
     "text": [
      " 67%|██████▋   | 892/1333 [06:47<03:22,  2.17batch/s]"
     ]
    },
    {
     "name": "stdout",
     "output_type": "stream",
     "text": [
      "GS______ [SE3: size=torch.Size([6, 2]), device=cuda:0, dtype=torch.float32]\n",
      "GS[0]__ __ __  SE3: size=torch.Size([6, 2]), device=cuda:0, dtype=torch.float32\n",
      "GS[0][:,jj] SE3: size=torch.Size([6, 2]), device=cuda:0, dtype=torch.float32\n"
     ]
    },
    {
     "name": "stderr",
     "output_type": "stream",
     "text": [
      " 67%|██████▋   | 893/1333 [06:48<03:20,  2.19batch/s]"
     ]
    },
    {
     "name": "stdout",
     "output_type": "stream",
     "text": [
      "GS______ [SE3: size=torch.Size([6, 2]), device=cuda:0, dtype=torch.float32]\n",
      "GS[0]__ __ __  SE3: size=torch.Size([6, 2]), device=cuda:0, dtype=torch.float32\n",
      "GS[0][:,jj] SE3: size=torch.Size([6, 2]), device=cuda:0, dtype=torch.float32\n"
     ]
    },
    {
     "name": "stderr",
     "output_type": "stream",
     "text": [
      " 67%|██████▋   | 894/1333 [06:48<03:21,  2.18batch/s]"
     ]
    },
    {
     "name": "stdout",
     "output_type": "stream",
     "text": [
      "GS______ [SE3: size=torch.Size([6, 2]), device=cuda:0, dtype=torch.float32]\n",
      "GS[0]__ __ __  SE3: size=torch.Size([6, 2]), device=cuda:0, dtype=torch.float32\n",
      "GS[0][:,jj] SE3: size=torch.Size([6, 2]), device=cuda:0, dtype=torch.float32\n"
     ]
    },
    {
     "name": "stderr",
     "output_type": "stream",
     "text": [
      " 67%|██████▋   | 895/1333 [06:49<03:21,  2.18batch/s]"
     ]
    },
    {
     "name": "stdout",
     "output_type": "stream",
     "text": [
      "GS______ [SE3: size=torch.Size([6, 2]), device=cuda:0, dtype=torch.float32]\n",
      "GS[0]__ __ __  SE3: size=torch.Size([6, 2]), device=cuda:0, dtype=torch.float32\n",
      "GS[0][:,jj] SE3: size=torch.Size([6, 2]), device=cuda:0, dtype=torch.float32\n"
     ]
    },
    {
     "name": "stderr",
     "output_type": "stream",
     "text": [
      " 67%|██████▋   | 896/1333 [06:49<03:19,  2.19batch/s]"
     ]
    },
    {
     "name": "stdout",
     "output_type": "stream",
     "text": [
      "GS______ [SE3: size=torch.Size([6, 2]), device=cuda:0, dtype=torch.float32]\n",
      "GS[0]__ __ __  SE3: size=torch.Size([6, 2]), device=cuda:0, dtype=torch.float32\n",
      "GS[0][:,jj] SE3: size=torch.Size([6, 2]), device=cuda:0, dtype=torch.float32\n"
     ]
    },
    {
     "name": "stderr",
     "output_type": "stream",
     "text": [
      " 67%|██████▋   | 897/1333 [06:50<03:20,  2.18batch/s]"
     ]
    },
    {
     "name": "stdout",
     "output_type": "stream",
     "text": [
      "GS______ [SE3: size=torch.Size([6, 2]), device=cuda:0, dtype=torch.float32]\n",
      "GS[0]__ __ __  SE3: size=torch.Size([6, 2]), device=cuda:0, dtype=torch.float32\n",
      "GS[0][:,jj] SE3: size=torch.Size([6, 2]), device=cuda:0, dtype=torch.float32\n"
     ]
    },
    {
     "name": "stderr",
     "output_type": "stream",
     "text": [
      " 67%|██████▋   | 898/1333 [06:50<03:18,  2.19batch/s]"
     ]
    },
    {
     "name": "stdout",
     "output_type": "stream",
     "text": [
      "GS______ [SE3: size=torch.Size([6, 2]), device=cuda:0, dtype=torch.float32]\n",
      "GS[0]__ __ __  SE3: size=torch.Size([6, 2]), device=cuda:0, dtype=torch.float32\n",
      "GS[0][:,jj] SE3: size=torch.Size([6, 2]), device=cuda:0, dtype=torch.float32\n"
     ]
    },
    {
     "name": "stderr",
     "output_type": "stream",
     "text": [
      " 67%|██████▋   | 899/1333 [06:51<03:17,  2.19batch/s]"
     ]
    },
    {
     "name": "stdout",
     "output_type": "stream",
     "text": [
      "GS______ [SE3: size=torch.Size([6, 2]), device=cuda:0, dtype=torch.float32]\n",
      "GS[0]__ __ __  SE3: size=torch.Size([6, 2]), device=cuda:0, dtype=torch.float32\n",
      "GS[0][:,jj] SE3: size=torch.Size([6, 2]), device=cuda:0, dtype=torch.float32\n"
     ]
    },
    {
     "name": "stderr",
     "output_type": "stream",
     "text": [
      " 68%|██████▊   | 900/1333 [06:51<03:17,  2.19batch/s]"
     ]
    },
    {
     "name": "stdout",
     "output_type": "stream",
     "text": [
      "GS______ [SE3: size=torch.Size([6, 2]), device=cuda:0, dtype=torch.float32]\n",
      "GS[0]__ __ __  SE3: size=torch.Size([6, 2]), device=cuda:0, dtype=torch.float32\n",
      "GS[0][:,jj] SE3: size=torch.Size([6, 2]), device=cuda:0, dtype=torch.float32\n"
     ]
    },
    {
     "name": "stderr",
     "output_type": "stream",
     "text": [
      " 68%|██████▊   | 901/1333 [06:52<03:18,  2.17batch/s]"
     ]
    },
    {
     "name": "stdout",
     "output_type": "stream",
     "text": [
      "GS______ [SE3: size=torch.Size([6, 2]), device=cuda:0, dtype=torch.float32]\n",
      "GS[0]__ __ __  SE3: size=torch.Size([6, 2]), device=cuda:0, dtype=torch.float32\n",
      "GS[0][:,jj] SE3: size=torch.Size([6, 2]), device=cuda:0, dtype=torch.float32\n"
     ]
    },
    {
     "name": "stderr",
     "output_type": "stream",
     "text": [
      " 68%|██████▊   | 902/1333 [06:52<03:16,  2.19batch/s]"
     ]
    },
    {
     "name": "stdout",
     "output_type": "stream",
     "text": [
      "GS______ [SE3: size=torch.Size([6, 2]), device=cuda:0, dtype=torch.float32]\n",
      "GS[0]__ __ __  SE3: size=torch.Size([6, 2]), device=cuda:0, dtype=torch.float32\n",
      "GS[0][:,jj] SE3: size=torch.Size([6, 2]), device=cuda:0, dtype=torch.float32\n"
     ]
    },
    {
     "name": "stderr",
     "output_type": "stream",
     "text": [
      " 68%|██████▊   | 903/1333 [06:52<03:15,  2.20batch/s]"
     ]
    },
    {
     "name": "stdout",
     "output_type": "stream",
     "text": [
      "GS______ [SE3: size=torch.Size([6, 2]), device=cuda:0, dtype=torch.float32]\n",
      "GS[0]__ __ __  SE3: size=torch.Size([6, 2]), device=cuda:0, dtype=torch.float32\n",
      "GS[0][:,jj] SE3: size=torch.Size([6, 2]), device=cuda:0, dtype=torch.float32\n"
     ]
    },
    {
     "name": "stderr",
     "output_type": "stream",
     "text": [
      " 68%|██████▊   | 904/1333 [06:53<03:15,  2.19batch/s]"
     ]
    },
    {
     "name": "stdout",
     "output_type": "stream",
     "text": [
      "GS______ [SE3: size=torch.Size([6, 2]), device=cuda:0, dtype=torch.float32]\n",
      "GS[0]__ __ __  SE3: size=torch.Size([6, 2]), device=cuda:0, dtype=torch.float32\n",
      "GS[0][:,jj] SE3: size=torch.Size([6, 2]), device=cuda:0, dtype=torch.float32\n"
     ]
    },
    {
     "name": "stderr",
     "output_type": "stream",
     "text": [
      " 68%|██████▊   | 905/1333 [06:53<03:13,  2.21batch/s]"
     ]
    },
    {
     "name": "stdout",
     "output_type": "stream",
     "text": [
      "GS______ [SE3: size=torch.Size([6, 2]), device=cuda:0, dtype=torch.float32]\n",
      "GS[0]__ __ __  SE3: size=torch.Size([6, 2]), device=cuda:0, dtype=torch.float32\n",
      "GS[0][:,jj] SE3: size=torch.Size([6, 2]), device=cuda:0, dtype=torch.float32\n"
     ]
    },
    {
     "name": "stderr",
     "output_type": "stream",
     "text": [
      " 68%|██████▊   | 906/1333 [06:54<03:12,  2.21batch/s]"
     ]
    },
    {
     "name": "stdout",
     "output_type": "stream",
     "text": [
      "GS______ [SE3: size=torch.Size([6, 2]), device=cuda:0, dtype=torch.float32]\n",
      "GS[0]__ __ __  SE3: size=torch.Size([6, 2]), device=cuda:0, dtype=torch.float32\n",
      "GS[0][:,jj] SE3: size=torch.Size([6, 2]), device=cuda:0, dtype=torch.float32\n"
     ]
    },
    {
     "name": "stderr",
     "output_type": "stream",
     "text": [
      " 68%|██████▊   | 907/1333 [06:54<03:12,  2.21batch/s]"
     ]
    },
    {
     "name": "stdout",
     "output_type": "stream",
     "text": [
      "GS______ [SE3: size=torch.Size([6, 2]), device=cuda:0, dtype=torch.float32]\n",
      "GS[0]__ __ __  SE3: size=torch.Size([6, 2]), device=cuda:0, dtype=torch.float32\n",
      "GS[0][:,jj] SE3: size=torch.Size([6, 2]), device=cuda:0, dtype=torch.float32\n"
     ]
    },
    {
     "name": "stderr",
     "output_type": "stream",
     "text": [
      " 68%|██████▊   | 908/1333 [06:55<03:13,  2.20batch/s]"
     ]
    },
    {
     "name": "stdout",
     "output_type": "stream",
     "text": [
      "GS______ [SE3: size=torch.Size([6, 2]), device=cuda:0, dtype=torch.float32]\n",
      "GS[0]__ __ __  SE3: size=torch.Size([6, 2]), device=cuda:0, dtype=torch.float32\n",
      "GS[0][:,jj] SE3: size=torch.Size([6, 2]), device=cuda:0, dtype=torch.float32\n"
     ]
    },
    {
     "name": "stderr",
     "output_type": "stream",
     "text": [
      " 68%|██████▊   | 909/1333 [06:55<03:12,  2.20batch/s]"
     ]
    },
    {
     "name": "stdout",
     "output_type": "stream",
     "text": [
      "GS______ [SE3: size=torch.Size([6, 2]), device=cuda:0, dtype=torch.float32]\n",
      "GS[0]__ __ __  SE3: size=torch.Size([6, 2]), device=cuda:0, dtype=torch.float32\n",
      "GS[0][:,jj] SE3: size=torch.Size([6, 2]), device=cuda:0, dtype=torch.float32\n"
     ]
    },
    {
     "name": "stderr",
     "output_type": "stream",
     "text": [
      " 68%|██████▊   | 910/1333 [06:56<03:12,  2.20batch/s]"
     ]
    },
    {
     "name": "stdout",
     "output_type": "stream",
     "text": [
      "GS______ [SE3: size=torch.Size([6, 2]), device=cuda:0, dtype=torch.float32]\n",
      "GS[0]__ __ __  SE3: size=torch.Size([6, 2]), device=cuda:0, dtype=torch.float32\n",
      "GS[0][:,jj] SE3: size=torch.Size([6, 2]), device=cuda:0, dtype=torch.float32\n"
     ]
    },
    {
     "name": "stderr",
     "output_type": "stream",
     "text": [
      " 68%|██████▊   | 911/1333 [06:56<03:12,  2.19batch/s]"
     ]
    },
    {
     "name": "stdout",
     "output_type": "stream",
     "text": [
      "GS______ [SE3: size=torch.Size([6, 2]), device=cuda:0, dtype=torch.float32]\n",
      "GS[0]__ __ __  SE3: size=torch.Size([6, 2]), device=cuda:0, dtype=torch.float32\n",
      "GS[0][:,jj] SE3: size=torch.Size([6, 2]), device=cuda:0, dtype=torch.float32\n"
     ]
    },
    {
     "name": "stderr",
     "output_type": "stream",
     "text": [
      " 68%|██████▊   | 912/1333 [06:57<03:12,  2.19batch/s]"
     ]
    },
    {
     "name": "stdout",
     "output_type": "stream",
     "text": [
      "GS______ [SE3: size=torch.Size([6, 2]), device=cuda:0, dtype=torch.float32]\n",
      "GS[0]__ __ __  SE3: size=torch.Size([6, 2]), device=cuda:0, dtype=torch.float32\n",
      "GS[0][:,jj] SE3: size=torch.Size([6, 2]), device=cuda:0, dtype=torch.float32\n"
     ]
    },
    {
     "name": "stderr",
     "output_type": "stream",
     "text": [
      " 68%|██████▊   | 913/1333 [06:57<03:11,  2.19batch/s]"
     ]
    },
    {
     "name": "stdout",
     "output_type": "stream",
     "text": [
      "GS______ [SE3: size=torch.Size([6, 2]), device=cuda:0, dtype=torch.float32]\n",
      "GS[0]__ __ __  SE3: size=torch.Size([6, 2]), device=cuda:0, dtype=torch.float32\n",
      "GS[0][:,jj] SE3: size=torch.Size([6, 2]), device=cuda:0, dtype=torch.float32\n"
     ]
    },
    {
     "name": "stderr",
     "output_type": "stream",
     "text": [
      " 69%|██████▊   | 914/1333 [06:57<03:11,  2.19batch/s]"
     ]
    },
    {
     "name": "stdout",
     "output_type": "stream",
     "text": [
      "GS______ [SE3: size=torch.Size([6, 2]), device=cuda:0, dtype=torch.float32]\n",
      "GS[0]__ __ __  SE3: size=torch.Size([6, 2]), device=cuda:0, dtype=torch.float32\n",
      "GS[0][:,jj] SE3: size=torch.Size([6, 2]), device=cuda:0, dtype=torch.float32\n"
     ]
    },
    {
     "name": "stderr",
     "output_type": "stream",
     "text": [
      " 69%|██████▊   | 915/1333 [06:58<03:12,  2.17batch/s]"
     ]
    },
    {
     "name": "stdout",
     "output_type": "stream",
     "text": [
      "GS______ [SE3: size=torch.Size([6, 2]), device=cuda:0, dtype=torch.float32]\n",
      "GS[0]__ __ __  SE3: size=torch.Size([6, 2]), device=cuda:0, dtype=torch.float32\n",
      "GS[0][:,jj] SE3: size=torch.Size([6, 2]), device=cuda:0, dtype=torch.float32\n"
     ]
    },
    {
     "name": "stderr",
     "output_type": "stream",
     "text": [
      " 69%|██████▊   | 916/1333 [06:58<03:11,  2.17batch/s]"
     ]
    },
    {
     "name": "stdout",
     "output_type": "stream",
     "text": [
      "GS______ [SE3: size=torch.Size([6, 2]), device=cuda:0, dtype=torch.float32]\n",
      "GS[0]__ __ __  SE3: size=torch.Size([6, 2]), device=cuda:0, dtype=torch.float32\n",
      "GS[0][:,jj] SE3: size=torch.Size([6, 2]), device=cuda:0, dtype=torch.float32\n"
     ]
    },
    {
     "name": "stderr",
     "output_type": "stream",
     "text": [
      " 69%|██████▉   | 917/1333 [06:59<03:11,  2.18batch/s]"
     ]
    },
    {
     "name": "stdout",
     "output_type": "stream",
     "text": [
      "GS______ [SE3: size=torch.Size([6, 2]), device=cuda:0, dtype=torch.float32]\n",
      "GS[0]__ __ __  SE3: size=torch.Size([6, 2]), device=cuda:0, dtype=torch.float32\n",
      "GS[0][:,jj] SE3: size=torch.Size([6, 2]), device=cuda:0, dtype=torch.float32\n"
     ]
    },
    {
     "name": "stderr",
     "output_type": "stream",
     "text": [
      " 69%|██████▉   | 918/1333 [06:59<03:10,  2.18batch/s]"
     ]
    },
    {
     "name": "stdout",
     "output_type": "stream",
     "text": [
      "GS______ [SE3: size=torch.Size([6, 2]), device=cuda:0, dtype=torch.float32]\n",
      "GS[0]__ __ __  SE3: size=torch.Size([6, 2]), device=cuda:0, dtype=torch.float32\n",
      "GS[0][:,jj] SE3: size=torch.Size([6, 2]), device=cuda:0, dtype=torch.float32\n"
     ]
    },
    {
     "name": "stderr",
     "output_type": "stream",
     "text": [
      " 69%|██████▉   | 919/1333 [07:00<03:10,  2.17batch/s]"
     ]
    },
    {
     "name": "stdout",
     "output_type": "stream",
     "text": [
      "GS______ [SE3: size=torch.Size([6, 2]), device=cuda:0, dtype=torch.float32]\n",
      "GS[0]__ __ __  SE3: size=torch.Size([6, 2]), device=cuda:0, dtype=torch.float32\n",
      "GS[0][:,jj] SE3: size=torch.Size([6, 2]), device=cuda:0, dtype=torch.float32\n"
     ]
    },
    {
     "name": "stderr",
     "output_type": "stream",
     "text": [
      " 69%|██████▉   | 920/1333 [07:00<03:10,  2.17batch/s]"
     ]
    },
    {
     "name": "stdout",
     "output_type": "stream",
     "text": [
      "GS______ [SE3: size=torch.Size([6, 2]), device=cuda:0, dtype=torch.float32]\n",
      "GS[0]__ __ __  SE3: size=torch.Size([6, 2]), device=cuda:0, dtype=torch.float32\n",
      "GS[0][:,jj] SE3: size=torch.Size([6, 2]), device=cuda:0, dtype=torch.float32\n"
     ]
    },
    {
     "name": "stderr",
     "output_type": "stream",
     "text": [
      " 69%|██████▉   | 921/1333 [07:01<03:10,  2.16batch/s]"
     ]
    },
    {
     "name": "stdout",
     "output_type": "stream",
     "text": [
      "GS______ [SE3: size=torch.Size([6, 2]), device=cuda:0, dtype=torch.float32]\n",
      "GS[0]__ __ __  SE3: size=torch.Size([6, 2]), device=cuda:0, dtype=torch.float32\n",
      "GS[0][:,jj] SE3: size=torch.Size([6, 2]), device=cuda:0, dtype=torch.float32\n"
     ]
    },
    {
     "name": "stderr",
     "output_type": "stream",
     "text": [
      " 69%|██████▉   | 922/1333 [07:01<03:08,  2.18batch/s]"
     ]
    },
    {
     "name": "stdout",
     "output_type": "stream",
     "text": [
      "GS______ [SE3: size=torch.Size([6, 2]), device=cuda:0, dtype=torch.float32]\n",
      "GS[0]__ __ __  SE3: size=torch.Size([6, 2]), device=cuda:0, dtype=torch.float32\n",
      "GS[0][:,jj] SE3: size=torch.Size([6, 2]), device=cuda:0, dtype=torch.float32\n"
     ]
    },
    {
     "name": "stderr",
     "output_type": "stream",
     "text": [
      " 69%|██████▉   | 923/1333 [07:02<03:06,  2.20batch/s]"
     ]
    },
    {
     "name": "stdout",
     "output_type": "stream",
     "text": [
      "GS______ [SE3: size=torch.Size([6, 2]), device=cuda:0, dtype=torch.float32]\n",
      "GS[0]__ __ __  SE3: size=torch.Size([6, 2]), device=cuda:0, dtype=torch.float32\n",
      "GS[0][:,jj] SE3: size=torch.Size([6, 2]), device=cuda:0, dtype=torch.float32\n"
     ]
    },
    {
     "name": "stderr",
     "output_type": "stream",
     "text": [
      " 69%|██████▉   | 924/1333 [07:02<03:07,  2.18batch/s]"
     ]
    },
    {
     "name": "stdout",
     "output_type": "stream",
     "text": [
      "GS______ [SE3: size=torch.Size([6, 2]), device=cuda:0, dtype=torch.float32]\n",
      "GS[0]__ __ __  SE3: size=torch.Size([6, 2]), device=cuda:0, dtype=torch.float32\n",
      "GS[0][:,jj] SE3: size=torch.Size([6, 2]), device=cuda:0, dtype=torch.float32\n"
     ]
    },
    {
     "name": "stderr",
     "output_type": "stream",
     "text": [
      " 69%|██████▉   | 925/1333 [07:02<03:06,  2.19batch/s]"
     ]
    },
    {
     "name": "stdout",
     "output_type": "stream",
     "text": [
      "GS______ [SE3: size=torch.Size([6, 2]), device=cuda:0, dtype=torch.float32]\n",
      "GS[0]__ __ __  SE3: size=torch.Size([6, 2]), device=cuda:0, dtype=torch.float32\n",
      "GS[0][:,jj] SE3: size=torch.Size([6, 2]), device=cuda:0, dtype=torch.float32\n"
     ]
    },
    {
     "name": "stderr",
     "output_type": "stream",
     "text": [
      " 69%|██████▉   | 926/1333 [07:03<03:04,  2.20batch/s]"
     ]
    },
    {
     "name": "stdout",
     "output_type": "stream",
     "text": [
      "GS______ [SE3: size=torch.Size([6, 2]), device=cuda:0, dtype=torch.float32]\n",
      "GS[0]__ __ __  SE3: size=torch.Size([6, 2]), device=cuda:0, dtype=torch.float32\n",
      "GS[0][:,jj] SE3: size=torch.Size([6, 2]), device=cuda:0, dtype=torch.float32\n"
     ]
    },
    {
     "name": "stderr",
     "output_type": "stream",
     "text": [
      " 70%|██████▉   | 927/1333 [07:03<03:03,  2.22batch/s]"
     ]
    },
    {
     "name": "stdout",
     "output_type": "stream",
     "text": [
      "GS______ [SE3: size=torch.Size([6, 2]), device=cuda:0, dtype=torch.float32]\n",
      "GS[0]__ __ __  SE3: size=torch.Size([6, 2]), device=cuda:0, dtype=torch.float32\n",
      "GS[0][:,jj] SE3: size=torch.Size([6, 2]), device=cuda:0, dtype=torch.float32\n"
     ]
    },
    {
     "name": "stderr",
     "output_type": "stream",
     "text": [
      " 70%|██████▉   | 928/1333 [07:04<03:03,  2.21batch/s]"
     ]
    },
    {
     "name": "stdout",
     "output_type": "stream",
     "text": [
      "GS______ [SE3: size=torch.Size([6, 2]), device=cuda:0, dtype=torch.float32]\n",
      "GS[0]__ __ __  SE3: size=torch.Size([6, 2]), device=cuda:0, dtype=torch.float32\n",
      "GS[0][:,jj] SE3: size=torch.Size([6, 2]), device=cuda:0, dtype=torch.float32\n"
     ]
    },
    {
     "name": "stderr",
     "output_type": "stream",
     "text": [
      " 70%|██████▉   | 929/1333 [07:04<03:01,  2.22batch/s]"
     ]
    },
    {
     "name": "stdout",
     "output_type": "stream",
     "text": [
      "GS______ [SE3: size=torch.Size([6, 2]), device=cuda:0, dtype=torch.float32]\n",
      "GS[0]__ __ __  SE3: size=torch.Size([6, 2]), device=cuda:0, dtype=torch.float32\n",
      "GS[0][:,jj] SE3: size=torch.Size([6, 2]), device=cuda:0, dtype=torch.float32\n"
     ]
    },
    {
     "name": "stderr",
     "output_type": "stream",
     "text": [
      " 70%|██████▉   | 930/1333 [07:05<03:01,  2.22batch/s]"
     ]
    },
    {
     "name": "stdout",
     "output_type": "stream",
     "text": [
      "GS______ [SE3: size=torch.Size([6, 2]), device=cuda:0, dtype=torch.float32]\n",
      "GS[0]__ __ __  SE3: size=torch.Size([6, 2]), device=cuda:0, dtype=torch.float32\n",
      "GS[0][:,jj] SE3: size=torch.Size([6, 2]), device=cuda:0, dtype=torch.float32\n"
     ]
    },
    {
     "name": "stderr",
     "output_type": "stream",
     "text": [
      " 70%|██████▉   | 931/1333 [07:05<03:03,  2.20batch/s]"
     ]
    },
    {
     "name": "stdout",
     "output_type": "stream",
     "text": [
      "GS______ [SE3: size=torch.Size([6, 2]), device=cuda:0, dtype=torch.float32]\n",
      "GS[0]__ __ __  SE3: size=torch.Size([6, 2]), device=cuda:0, dtype=torch.float32\n",
      "GS[0][:,jj] SE3: size=torch.Size([6, 2]), device=cuda:0, dtype=torch.float32\n"
     ]
    },
    {
     "name": "stderr",
     "output_type": "stream",
     "text": [
      " 70%|██████▉   | 932/1333 [07:06<03:01,  2.21batch/s]"
     ]
    },
    {
     "name": "stdout",
     "output_type": "stream",
     "text": [
      "GS______ [SE3: size=torch.Size([6, 2]), device=cuda:0, dtype=torch.float32]\n",
      "GS[0]__ __ __  SE3: size=torch.Size([6, 2]), device=cuda:0, dtype=torch.float32\n",
      "GS[0][:,jj] SE3: size=torch.Size([6, 2]), device=cuda:0, dtype=torch.float32\n"
     ]
    },
    {
     "name": "stderr",
     "output_type": "stream",
     "text": [
      " 70%|██████▉   | 933/1333 [07:06<02:59,  2.22batch/s]"
     ]
    },
    {
     "name": "stdout",
     "output_type": "stream",
     "text": [
      "GS______ [SE3: size=torch.Size([6, 2]), device=cuda:0, dtype=torch.float32]\n",
      "GS[0]__ __ __  SE3: size=torch.Size([6, 2]), device=cuda:0, dtype=torch.float32\n",
      "GS[0][:,jj] SE3: size=torch.Size([6, 2]), device=cuda:0, dtype=torch.float32\n"
     ]
    },
    {
     "name": "stderr",
     "output_type": "stream",
     "text": [
      " 70%|███████   | 934/1333 [07:07<02:59,  2.22batch/s]"
     ]
    },
    {
     "name": "stdout",
     "output_type": "stream",
     "text": [
      "GS______ [SE3: size=torch.Size([6, 2]), device=cuda:0, dtype=torch.float32]\n",
      "GS[0]__ __ __  SE3: size=torch.Size([6, 2]), device=cuda:0, dtype=torch.float32\n",
      "GS[0][:,jj] SE3: size=torch.Size([6, 2]), device=cuda:0, dtype=torch.float32\n"
     ]
    },
    {
     "name": "stderr",
     "output_type": "stream",
     "text": [
      " 70%|███████   | 935/1333 [07:07<03:01,  2.19batch/s]"
     ]
    },
    {
     "name": "stdout",
     "output_type": "stream",
     "text": [
      "GS______ [SE3: size=torch.Size([6, 2]), device=cuda:0, dtype=torch.float32]\n",
      "GS[0]__ __ __  SE3: size=torch.Size([6, 2]), device=cuda:0, dtype=torch.float32\n",
      "GS[0][:,jj] SE3: size=torch.Size([6, 2]), device=cuda:0, dtype=torch.float32\n"
     ]
    },
    {
     "name": "stderr",
     "output_type": "stream",
     "text": [
      " 70%|███████   | 936/1333 [07:07<03:01,  2.19batch/s]"
     ]
    },
    {
     "name": "stdout",
     "output_type": "stream",
     "text": [
      "GS______ [SE3: size=torch.Size([6, 2]), device=cuda:0, dtype=torch.float32]\n",
      "GS[0]__ __ __  SE3: size=torch.Size([6, 2]), device=cuda:0, dtype=torch.float32\n",
      "GS[0][:,jj] SE3: size=torch.Size([6, 2]), device=cuda:0, dtype=torch.float32\n"
     ]
    },
    {
     "name": "stderr",
     "output_type": "stream",
     "text": [
      " 70%|███████   | 937/1333 [07:08<03:00,  2.20batch/s]"
     ]
    },
    {
     "name": "stdout",
     "output_type": "stream",
     "text": [
      "GS______ [SE3: size=torch.Size([6, 2]), device=cuda:0, dtype=torch.float32]\n",
      "GS[0]__ __ __  SE3: size=torch.Size([6, 2]), device=cuda:0, dtype=torch.float32\n",
      "GS[0][:,jj] SE3: size=torch.Size([6, 2]), device=cuda:0, dtype=torch.float32\n"
     ]
    },
    {
     "name": "stderr",
     "output_type": "stream",
     "text": [
      " 70%|███████   | 938/1333 [07:08<03:00,  2.18batch/s]"
     ]
    },
    {
     "name": "stdout",
     "output_type": "stream",
     "text": [
      "GS______ [SE3: size=torch.Size([6, 2]), device=cuda:0, dtype=torch.float32]\n",
      "GS[0]__ __ __  SE3: size=torch.Size([6, 2]), device=cuda:0, dtype=torch.float32\n",
      "GS[0][:,jj] SE3: size=torch.Size([6, 2]), device=cuda:0, dtype=torch.float32\n"
     ]
    },
    {
     "name": "stderr",
     "output_type": "stream",
     "text": [
      " 70%|███████   | 939/1333 [07:09<02:59,  2.19batch/s]"
     ]
    },
    {
     "name": "stdout",
     "output_type": "stream",
     "text": [
      "GS______ [SE3: size=torch.Size([6, 2]), device=cuda:0, dtype=torch.float32]\n",
      "GS[0]__ __ __  SE3: size=torch.Size([6, 2]), device=cuda:0, dtype=torch.float32\n",
      "GS[0][:,jj] SE3: size=torch.Size([6, 2]), device=cuda:0, dtype=torch.float32\n"
     ]
    },
    {
     "name": "stderr",
     "output_type": "stream",
     "text": [
      " 71%|███████   | 940/1333 [07:09<02:59,  2.19batch/s]"
     ]
    },
    {
     "name": "stdout",
     "output_type": "stream",
     "text": [
      "GS______ [SE3: size=torch.Size([6, 2]), device=cuda:0, dtype=torch.float32]\n",
      "GS[0]__ __ __  SE3: size=torch.Size([6, 2]), device=cuda:0, dtype=torch.float32\n",
      "GS[0][:,jj] SE3: size=torch.Size([6, 2]), device=cuda:0, dtype=torch.float32\n"
     ]
    },
    {
     "name": "stderr",
     "output_type": "stream",
     "text": [
      " 71%|███████   | 941/1333 [07:10<02:59,  2.18batch/s]"
     ]
    },
    {
     "name": "stdout",
     "output_type": "stream",
     "text": [
      "GS______ [SE3: size=torch.Size([6, 2]), device=cuda:0, dtype=torch.float32]\n",
      "GS[0]__ __ __  SE3: size=torch.Size([6, 2]), device=cuda:0, dtype=torch.float32\n",
      "GS[0][:,jj] SE3: size=torch.Size([6, 2]), device=cuda:0, dtype=torch.float32\n"
     ]
    },
    {
     "name": "stderr",
     "output_type": "stream",
     "text": [
      " 71%|███████   | 942/1333 [07:10<03:01,  2.16batch/s]"
     ]
    },
    {
     "name": "stdout",
     "output_type": "stream",
     "text": [
      "GS______ [SE3: size=torch.Size([6, 2]), device=cuda:0, dtype=torch.float32]\n",
      "GS[0]__ __ __  SE3: size=torch.Size([6, 2]), device=cuda:0, dtype=torch.float32\n",
      "GS[0][:,jj] SE3: size=torch.Size([6, 2]), device=cuda:0, dtype=torch.float32\n"
     ]
    },
    {
     "name": "stderr",
     "output_type": "stream",
     "text": [
      " 71%|███████   | 943/1333 [07:11<03:00,  2.17batch/s]"
     ]
    },
    {
     "name": "stdout",
     "output_type": "stream",
     "text": [
      "GS______ [SE3: size=torch.Size([6, 2]), device=cuda:0, dtype=torch.float32]\n",
      "GS[0]__ __ __  SE3: size=torch.Size([6, 2]), device=cuda:0, dtype=torch.float32\n",
      "GS[0][:,jj] SE3: size=torch.Size([6, 2]), device=cuda:0, dtype=torch.float32\n"
     ]
    },
    {
     "name": "stderr",
     "output_type": "stream",
     "text": [
      " 71%|███████   | 944/1333 [07:11<03:00,  2.16batch/s]"
     ]
    },
    {
     "name": "stdout",
     "output_type": "stream",
     "text": [
      "GS______ [SE3: size=torch.Size([6, 2]), device=cuda:0, dtype=torch.float32]\n",
      "GS[0]__ __ __  SE3: size=torch.Size([6, 2]), device=cuda:0, dtype=torch.float32\n",
      "GS[0][:,jj] SE3: size=torch.Size([6, 2]), device=cuda:0, dtype=torch.float32\n"
     ]
    },
    {
     "name": "stderr",
     "output_type": "stream",
     "text": [
      " 71%|███████   | 945/1333 [07:12<03:00,  2.15batch/s]"
     ]
    },
    {
     "name": "stdout",
     "output_type": "stream",
     "text": [
      "GS______ [SE3: size=torch.Size([6, 2]), device=cuda:0, dtype=torch.float32]\n",
      "GS[0]__ __ __  SE3: size=torch.Size([6, 2]), device=cuda:0, dtype=torch.float32\n",
      "GS[0][:,jj] SE3: size=torch.Size([6, 2]), device=cuda:0, dtype=torch.float32\n"
     ]
    },
    {
     "name": "stderr",
     "output_type": "stream",
     "text": [
      " 71%|███████   | 946/1333 [07:12<02:59,  2.16batch/s]"
     ]
    },
    {
     "name": "stdout",
     "output_type": "stream",
     "text": [
      "GS______ [SE3: size=torch.Size([6, 2]), device=cuda:0, dtype=torch.float32]\n",
      "GS[0]__ __ __  SE3: size=torch.Size([6, 2]), device=cuda:0, dtype=torch.float32\n",
      "GS[0][:,jj] SE3: size=torch.Size([6, 2]), device=cuda:0, dtype=torch.float32\n"
     ]
    },
    {
     "name": "stderr",
     "output_type": "stream",
     "text": [
      " 71%|███████   | 947/1333 [07:13<02:58,  2.16batch/s]"
     ]
    },
    {
     "name": "stdout",
     "output_type": "stream",
     "text": [
      "GS______ [SE3: size=torch.Size([6, 2]), device=cuda:0, dtype=torch.float32]\n",
      "GS[0]__ __ __  SE3: size=torch.Size([6, 2]), device=cuda:0, dtype=torch.float32\n",
      "GS[0][:,jj] SE3: size=torch.Size([6, 2]), device=cuda:0, dtype=torch.float32\n"
     ]
    },
    {
     "name": "stderr",
     "output_type": "stream",
     "text": [
      " 71%|███████   | 948/1333 [07:13<02:58,  2.16batch/s]"
     ]
    },
    {
     "name": "stdout",
     "output_type": "stream",
     "text": [
      "GS______ [SE3: size=torch.Size([6, 2]), device=cuda:0, dtype=torch.float32]\n",
      "GS[0]__ __ __  SE3: size=torch.Size([6, 2]), device=cuda:0, dtype=torch.float32\n",
      "GS[0][:,jj] SE3: size=torch.Size([6, 2]), device=cuda:0, dtype=torch.float32\n"
     ]
    },
    {
     "name": "stderr",
     "output_type": "stream",
     "text": [
      " 71%|███████   | 949/1333 [07:13<02:57,  2.16batch/s]"
     ]
    },
    {
     "name": "stdout",
     "output_type": "stream",
     "text": [
      "GS______ [SE3: size=torch.Size([6, 2]), device=cuda:0, dtype=torch.float32]\n",
      "GS[0]__ __ __  SE3: size=torch.Size([6, 2]), device=cuda:0, dtype=torch.float32\n",
      "GS[0][:,jj] SE3: size=torch.Size([6, 2]), device=cuda:0, dtype=torch.float32\n"
     ]
    },
    {
     "name": "stderr",
     "output_type": "stream",
     "text": [
      " 71%|███████▏  | 950/1333 [07:14<02:57,  2.16batch/s]"
     ]
    },
    {
     "name": "stdout",
     "output_type": "stream",
     "text": [
      "GS______ [SE3: size=torch.Size([6, 2]), device=cuda:0, dtype=torch.float32]\n",
      "GS[0]__ __ __  SE3: size=torch.Size([6, 2]), device=cuda:0, dtype=torch.float32\n",
      "GS[0][:,jj] SE3: size=torch.Size([6, 2]), device=cuda:0, dtype=torch.float32\n"
     ]
    },
    {
     "name": "stderr",
     "output_type": "stream",
     "text": [
      " 71%|███████▏  | 951/1333 [07:14<02:57,  2.15batch/s]"
     ]
    },
    {
     "name": "stdout",
     "output_type": "stream",
     "text": [
      "GS______ [SE3: size=torch.Size([6, 2]), device=cuda:0, dtype=torch.float32]\n",
      "GS[0]__ __ __  SE3: size=torch.Size([6, 2]), device=cuda:0, dtype=torch.float32\n",
      "GS[0][:,jj] SE3: size=torch.Size([6, 2]), device=cuda:0, dtype=torch.float32\n"
     ]
    },
    {
     "name": "stderr",
     "output_type": "stream",
     "text": [
      " 71%|███████▏  | 952/1333 [07:15<02:58,  2.13batch/s]"
     ]
    },
    {
     "name": "stdout",
     "output_type": "stream",
     "text": [
      "GS______ [SE3: size=torch.Size([6, 2]), device=cuda:0, dtype=torch.float32]\n",
      "GS[0]__ __ __  SE3: size=torch.Size([6, 2]), device=cuda:0, dtype=torch.float32\n",
      "GS[0][:,jj] SE3: size=torch.Size([6, 2]), device=cuda:0, dtype=torch.float32\n"
     ]
    },
    {
     "name": "stderr",
     "output_type": "stream",
     "text": [
      " 71%|███████▏  | 953/1333 [07:15<03:02,  2.08batch/s]"
     ]
    },
    {
     "name": "stdout",
     "output_type": "stream",
     "text": [
      "GS______ [SE3: size=torch.Size([6, 2]), device=cuda:0, dtype=torch.float32]\n",
      "GS[0]__ __ __  SE3: size=torch.Size([6, 2]), device=cuda:0, dtype=torch.float32\n",
      "GS[0][:,jj] SE3: size=torch.Size([6, 2]), device=cuda:0, dtype=torch.float32\n"
     ]
    },
    {
     "name": "stderr",
     "output_type": "stream",
     "text": [
      " 72%|███████▏  | 954/1333 [07:16<02:59,  2.11batch/s]"
     ]
    },
    {
     "name": "stdout",
     "output_type": "stream",
     "text": [
      "GS______ [SE3: size=torch.Size([6, 2]), device=cuda:0, dtype=torch.float32]\n",
      "GS[0]__ __ __  SE3: size=torch.Size([6, 2]), device=cuda:0, dtype=torch.float32\n",
      "GS[0][:,jj] SE3: size=torch.Size([6, 2]), device=cuda:0, dtype=torch.float32\n"
     ]
    },
    {
     "name": "stderr",
     "output_type": "stream",
     "text": [
      " 72%|███████▏  | 955/1333 [07:16<03:00,  2.10batch/s]"
     ]
    },
    {
     "name": "stdout",
     "output_type": "stream",
     "text": [
      "GS______ [SE3: size=torch.Size([6, 2]), device=cuda:0, dtype=torch.float32]\n",
      "GS[0]__ __ __  SE3: size=torch.Size([6, 2]), device=cuda:0, dtype=torch.float32\n",
      "GS[0][:,jj] SE3: size=torch.Size([6, 2]), device=cuda:0, dtype=torch.float32\n"
     ]
    },
    {
     "name": "stderr",
     "output_type": "stream",
     "text": [
      " 72%|███████▏  | 956/1333 [07:17<02:56,  2.14batch/s]"
     ]
    },
    {
     "name": "stdout",
     "output_type": "stream",
     "text": [
      "GS______ [SE3: size=torch.Size([6, 2]), device=cuda:0, dtype=torch.float32]\n",
      "GS[0]__ __ __  SE3: size=torch.Size([6, 2]), device=cuda:0, dtype=torch.float32\n",
      "GS[0][:,jj] SE3: size=torch.Size([6, 2]), device=cuda:0, dtype=torch.float32\n"
     ]
    },
    {
     "name": "stderr",
     "output_type": "stream",
     "text": [
      " 72%|███████▏  | 957/1333 [07:17<02:53,  2.16batch/s]"
     ]
    },
    {
     "name": "stdout",
     "output_type": "stream",
     "text": [
      "GS______ [SE3: size=torch.Size([6, 2]), device=cuda:0, dtype=torch.float32]\n",
      "GS[0]__ __ __  SE3: size=torch.Size([6, 2]), device=cuda:0, dtype=torch.float32\n",
      "GS[0][:,jj] SE3: size=torch.Size([6, 2]), device=cuda:0, dtype=torch.float32\n"
     ]
    },
    {
     "name": "stderr",
     "output_type": "stream",
     "text": [
      " 72%|███████▏  | 958/1333 [07:18<02:52,  2.18batch/s]"
     ]
    },
    {
     "name": "stdout",
     "output_type": "stream",
     "text": [
      "GS______ [SE3: size=torch.Size([6, 2]), device=cuda:0, dtype=torch.float32]\n",
      "GS[0]__ __ __  SE3: size=torch.Size([6, 2]), device=cuda:0, dtype=torch.float32\n",
      "GS[0][:,jj] SE3: size=torch.Size([6, 2]), device=cuda:0, dtype=torch.float32\n"
     ]
    },
    {
     "name": "stderr",
     "output_type": "stream",
     "text": [
      " 72%|███████▏  | 959/1333 [07:18<02:52,  2.17batch/s]"
     ]
    },
    {
     "name": "stdout",
     "output_type": "stream",
     "text": [
      "GS______ [SE3: size=torch.Size([6, 2]), device=cuda:0, dtype=torch.float32]\n",
      "GS[0]__ __ __  SE3: size=torch.Size([6, 2]), device=cuda:0, dtype=torch.float32\n",
      "GS[0][:,jj] SE3: size=torch.Size([6, 2]), device=cuda:0, dtype=torch.float32\n"
     ]
    },
    {
     "name": "stderr",
     "output_type": "stream",
     "text": [
      " 72%|███████▏  | 960/1333 [07:19<02:52,  2.16batch/s]"
     ]
    },
    {
     "name": "stdout",
     "output_type": "stream",
     "text": [
      "GS______ [SE3: size=torch.Size([6, 2]), device=cuda:0, dtype=torch.float32]\n",
      "GS[0]__ __ __  SE3: size=torch.Size([6, 2]), device=cuda:0, dtype=torch.float32\n",
      "GS[0][:,jj] SE3: size=torch.Size([6, 2]), device=cuda:0, dtype=torch.float32\n"
     ]
    },
    {
     "name": "stderr",
     "output_type": "stream",
     "text": [
      " 72%|███████▏  | 961/1333 [07:19<02:51,  2.17batch/s]"
     ]
    },
    {
     "name": "stdout",
     "output_type": "stream",
     "text": [
      "GS______ [SE3: size=torch.Size([6, 2]), device=cuda:0, dtype=torch.float32]\n",
      "GS[0]__ __ __  SE3: size=torch.Size([6, 2]), device=cuda:0, dtype=torch.float32\n",
      "GS[0][:,jj] SE3: size=torch.Size([6, 2]), device=cuda:0, dtype=torch.float32\n"
     ]
    },
    {
     "name": "stderr",
     "output_type": "stream",
     "text": [
      " 72%|███████▏  | 962/1333 [07:20<02:52,  2.16batch/s]"
     ]
    },
    {
     "name": "stdout",
     "output_type": "stream",
     "text": [
      "GS______ [SE3: size=torch.Size([6, 2]), device=cuda:0, dtype=torch.float32]\n",
      "GS[0]__ __ __  SE3: size=torch.Size([6, 2]), device=cuda:0, dtype=torch.float32\n",
      "GS[0][:,jj] SE3: size=torch.Size([6, 2]), device=cuda:0, dtype=torch.float32\n"
     ]
    },
    {
     "name": "stderr",
     "output_type": "stream",
     "text": [
      " 72%|███████▏  | 963/1333 [07:20<02:49,  2.18batch/s]"
     ]
    },
    {
     "name": "stdout",
     "output_type": "stream",
     "text": [
      "GS______ [SE3: size=torch.Size([6, 2]), device=cuda:0, dtype=torch.float32]\n",
      "GS[0]__ __ __  SE3: size=torch.Size([6, 2]), device=cuda:0, dtype=torch.float32\n",
      "GS[0][:,jj] SE3: size=torch.Size([6, 2]), device=cuda:0, dtype=torch.float32\n"
     ]
    },
    {
     "name": "stderr",
     "output_type": "stream",
     "text": [
      " 72%|███████▏  | 964/1333 [07:20<02:49,  2.18batch/s]"
     ]
    },
    {
     "name": "stdout",
     "output_type": "stream",
     "text": [
      "GS______ [SE3: size=torch.Size([6, 2]), device=cuda:0, dtype=torch.float32]\n",
      "GS[0]__ __ __  SE3: size=torch.Size([6, 2]), device=cuda:0, dtype=torch.float32\n",
      "GS[0][:,jj] SE3: size=torch.Size([6, 2]), device=cuda:0, dtype=torch.float32\n"
     ]
    },
    {
     "name": "stderr",
     "output_type": "stream",
     "text": [
      " 72%|███████▏  | 965/1333 [07:21<02:47,  2.19batch/s]"
     ]
    },
    {
     "name": "stdout",
     "output_type": "stream",
     "text": [
      "GS______ [SE3: size=torch.Size([6, 2]), device=cuda:0, dtype=torch.float32]\n",
      "GS[0]__ __ __  SE3: size=torch.Size([6, 2]), device=cuda:0, dtype=torch.float32\n",
      "GS[0][:,jj] SE3: size=torch.Size([6, 2]), device=cuda:0, dtype=torch.float32\n"
     ]
    },
    {
     "name": "stderr",
     "output_type": "stream",
     "text": [
      " 72%|███████▏  | 966/1333 [07:21<02:48,  2.18batch/s]"
     ]
    },
    {
     "name": "stdout",
     "output_type": "stream",
     "text": [
      "GS______ [SE3: size=torch.Size([6, 2]), device=cuda:0, dtype=torch.float32]\n",
      "GS[0]__ __ __  SE3: size=torch.Size([6, 2]), device=cuda:0, dtype=torch.float32\n",
      "GS[0][:,jj] SE3: size=torch.Size([6, 2]), device=cuda:0, dtype=torch.float32\n"
     ]
    },
    {
     "name": "stderr",
     "output_type": "stream",
     "text": [
      " 73%|███████▎  | 967/1333 [07:22<02:47,  2.19batch/s]"
     ]
    },
    {
     "name": "stdout",
     "output_type": "stream",
     "text": [
      "GS______ [SE3: size=torch.Size([6, 2]), device=cuda:0, dtype=torch.float32]\n",
      "GS[0]__ __ __  SE3: size=torch.Size([6, 2]), device=cuda:0, dtype=torch.float32\n",
      "GS[0][:,jj] SE3: size=torch.Size([6, 2]), device=cuda:0, dtype=torch.float32\n"
     ]
    },
    {
     "name": "stderr",
     "output_type": "stream",
     "text": [
      " 73%|███████▎  | 968/1333 [07:22<02:52,  2.12batch/s]"
     ]
    },
    {
     "name": "stdout",
     "output_type": "stream",
     "text": [
      "GS______ [SE3: size=torch.Size([6, 2]), device=cuda:0, dtype=torch.float32]\n",
      "GS[0]__ __ __  SE3: size=torch.Size([6, 2]), device=cuda:0, dtype=torch.float32\n",
      "GS[0][:,jj] SE3: size=torch.Size([6, 2]), device=cuda:0, dtype=torch.float32\n"
     ]
    },
    {
     "name": "stderr",
     "output_type": "stream",
     "text": [
      " 73%|███████▎  | 969/1333 [07:23<02:49,  2.15batch/s]"
     ]
    },
    {
     "name": "stdout",
     "output_type": "stream",
     "text": [
      "GS______ [SE3: size=torch.Size([6, 2]), device=cuda:0, dtype=torch.float32]\n",
      "GS[0]__ __ __  SE3: size=torch.Size([6, 2]), device=cuda:0, dtype=torch.float32\n",
      "GS[0][:,jj] SE3: size=torch.Size([6, 2]), device=cuda:0, dtype=torch.float32\n"
     ]
    },
    {
     "name": "stderr",
     "output_type": "stream",
     "text": [
      " 73%|███████▎  | 970/1333 [07:23<02:48,  2.16batch/s]"
     ]
    },
    {
     "name": "stdout",
     "output_type": "stream",
     "text": [
      "GS______ [SE3: size=torch.Size([6, 2]), device=cuda:0, dtype=torch.float32]\n",
      "GS[0]__ __ __  SE3: size=torch.Size([6, 2]), device=cuda:0, dtype=torch.float32\n",
      "GS[0][:,jj] SE3: size=torch.Size([6, 2]), device=cuda:0, dtype=torch.float32\n"
     ]
    },
    {
     "name": "stderr",
     "output_type": "stream",
     "text": [
      " 73%|███████▎  | 971/1333 [07:24<02:47,  2.17batch/s]"
     ]
    },
    {
     "name": "stdout",
     "output_type": "stream",
     "text": [
      "GS______ [SE3: size=torch.Size([6, 2]), device=cuda:0, dtype=torch.float32]\n",
      "GS[0]__ __ __  SE3: size=torch.Size([6, 2]), device=cuda:0, dtype=torch.float32\n",
      "GS[0][:,jj] SE3: size=torch.Size([6, 2]), device=cuda:0, dtype=torch.float32\n"
     ]
    },
    {
     "name": "stderr",
     "output_type": "stream",
     "text": [
      " 73%|███████▎  | 972/1333 [07:24<02:53,  2.08batch/s]"
     ]
    },
    {
     "name": "stdout",
     "output_type": "stream",
     "text": [
      "GS______ [SE3: size=torch.Size([6, 2]), device=cuda:0, dtype=torch.float32]\n",
      "GS[0]__ __ __  SE3: size=torch.Size([6, 2]), device=cuda:0, dtype=torch.float32\n",
      "GS[0][:,jj] SE3: size=torch.Size([6, 2]), device=cuda:0, dtype=torch.float32\n"
     ]
    },
    {
     "name": "stderr",
     "output_type": "stream",
     "text": [
      " 73%|███████▎  | 973/1333 [07:25<02:56,  2.04batch/s]"
     ]
    },
    {
     "name": "stdout",
     "output_type": "stream",
     "text": [
      "GS______ [SE3: size=torch.Size([6, 2]), device=cuda:0, dtype=torch.float32]\n",
      "GS[0]__ __ __  SE3: size=torch.Size([6, 2]), device=cuda:0, dtype=torch.float32\n",
      "GS[0][:,jj] SE3: size=torch.Size([6, 2]), device=cuda:0, dtype=torch.float32\n"
     ]
    },
    {
     "name": "stderr",
     "output_type": "stream",
     "text": [
      " 73%|███████▎  | 974/1333 [07:25<02:59,  2.00batch/s]"
     ]
    },
    {
     "name": "stdout",
     "output_type": "stream",
     "text": [
      "GS______ [SE3: size=torch.Size([6, 2]), device=cuda:0, dtype=torch.float32]\n",
      "GS[0]__ __ __  SE3: size=torch.Size([6, 2]), device=cuda:0, dtype=torch.float32\n",
      "GS[0][:,jj] SE3: size=torch.Size([6, 2]), device=cuda:0, dtype=torch.float32\n"
     ]
    },
    {
     "name": "stderr",
     "output_type": "stream",
     "text": [
      " 73%|███████▎  | 975/1333 [07:26<03:00,  1.98batch/s]"
     ]
    },
    {
     "name": "stdout",
     "output_type": "stream",
     "text": [
      "GS______ [SE3: size=torch.Size([6, 2]), device=cuda:0, dtype=torch.float32]\n",
      "GS[0]__ __ __  SE3: size=torch.Size([6, 2]), device=cuda:0, dtype=torch.float32\n",
      "GS[0][:,jj] SE3: size=torch.Size([6, 2]), device=cuda:0, dtype=torch.float32\n"
     ]
    },
    {
     "name": "stderr",
     "output_type": "stream",
     "text": [
      " 73%|███████▎  | 976/1333 [07:26<02:58,  2.00batch/s]"
     ]
    },
    {
     "name": "stdout",
     "output_type": "stream",
     "text": [
      "GS______ [SE3: size=torch.Size([6, 2]), device=cuda:0, dtype=torch.float32]\n",
      "GS[0]__ __ __  SE3: size=torch.Size([6, 2]), device=cuda:0, dtype=torch.float32\n",
      "GS[0][:,jj] SE3: size=torch.Size([6, 2]), device=cuda:0, dtype=torch.float32\n"
     ]
    },
    {
     "name": "stderr",
     "output_type": "stream",
     "text": [
      " 73%|███████▎  | 977/1333 [07:27<02:53,  2.06batch/s]"
     ]
    },
    {
     "name": "stdout",
     "output_type": "stream",
     "text": [
      "GS______ [SE3: size=torch.Size([6, 2]), device=cuda:0, dtype=torch.float32]\n",
      "GS[0]__ __ __  SE3: size=torch.Size([6, 2]), device=cuda:0, dtype=torch.float32\n",
      "GS[0][:,jj] SE3: size=torch.Size([6, 2]), device=cuda:0, dtype=torch.float32\n"
     ]
    },
    {
     "name": "stderr",
     "output_type": "stream",
     "text": [
      " 73%|███████▎  | 978/1333 [07:27<02:50,  2.08batch/s]"
     ]
    },
    {
     "name": "stdout",
     "output_type": "stream",
     "text": [
      "GS______ [SE3: size=torch.Size([6, 2]), device=cuda:0, dtype=torch.float32]\n",
      "GS[0]__ __ __  SE3: size=torch.Size([6, 2]), device=cuda:0, dtype=torch.float32\n",
      "GS[0][:,jj] SE3: size=torch.Size([6, 2]), device=cuda:0, dtype=torch.float32\n"
     ]
    },
    {
     "name": "stderr",
     "output_type": "stream",
     "text": [
      " 73%|███████▎  | 979/1333 [07:28<02:47,  2.11batch/s]"
     ]
    },
    {
     "name": "stdout",
     "output_type": "stream",
     "text": [
      "GS______ [SE3: size=torch.Size([6, 2]), device=cuda:0, dtype=torch.float32]\n",
      "GS[0]__ __ __  SE3: size=torch.Size([6, 2]), device=cuda:0, dtype=torch.float32\n",
      "GS[0][:,jj] SE3: size=torch.Size([6, 2]), device=cuda:0, dtype=torch.float32\n"
     ]
    },
    {
     "name": "stderr",
     "output_type": "stream",
     "text": [
      " 74%|███████▎  | 980/1333 [07:28<02:45,  2.14batch/s]"
     ]
    },
    {
     "name": "stdout",
     "output_type": "stream",
     "text": [
      "GS______ [SE3: size=torch.Size([6, 2]), device=cuda:0, dtype=torch.float32]\n",
      "GS[0]__ __ __  SE3: size=torch.Size([6, 2]), device=cuda:0, dtype=torch.float32\n",
      "GS[0][:,jj] SE3: size=torch.Size([6, 2]), device=cuda:0, dtype=torch.float32\n"
     ]
    },
    {
     "name": "stderr",
     "output_type": "stream",
     "text": [
      " 74%|███████▎  | 981/1333 [07:29<02:43,  2.16batch/s]"
     ]
    },
    {
     "name": "stdout",
     "output_type": "stream",
     "text": [
      "GS______ [SE3: size=torch.Size([6, 2]), device=cuda:0, dtype=torch.float32]\n",
      "GS[0]__ __ __  SE3: size=torch.Size([6, 2]), device=cuda:0, dtype=torch.float32\n",
      "GS[0][:,jj] SE3: size=torch.Size([6, 2]), device=cuda:0, dtype=torch.float32\n"
     ]
    },
    {
     "name": "stderr",
     "output_type": "stream",
     "text": [
      " 74%|███████▎  | 982/1333 [07:29<02:41,  2.17batch/s]"
     ]
    },
    {
     "name": "stdout",
     "output_type": "stream",
     "text": [
      "GS______ [SE3: size=torch.Size([6, 2]), device=cuda:0, dtype=torch.float32]\n",
      "GS[0]__ __ __  SE3: size=torch.Size([6, 2]), device=cuda:0, dtype=torch.float32\n",
      "GS[0][:,jj] SE3: size=torch.Size([6, 2]), device=cuda:0, dtype=torch.float32\n"
     ]
    },
    {
     "name": "stderr",
     "output_type": "stream",
     "text": [
      " 74%|███████▎  | 983/1333 [07:29<02:41,  2.17batch/s]"
     ]
    },
    {
     "name": "stdout",
     "output_type": "stream",
     "text": [
      "GS______ [SE3: size=torch.Size([6, 2]), device=cuda:0, dtype=torch.float32]\n",
      "GS[0]__ __ __  SE3: size=torch.Size([6, 2]), device=cuda:0, dtype=torch.float32\n",
      "GS[0][:,jj] SE3: size=torch.Size([6, 2]), device=cuda:0, dtype=torch.float32\n"
     ]
    },
    {
     "name": "stderr",
     "output_type": "stream",
     "text": [
      " 74%|███████▍  | 984/1333 [07:30<02:41,  2.16batch/s]"
     ]
    },
    {
     "name": "stdout",
     "output_type": "stream",
     "text": [
      "GS______ [SE3: size=torch.Size([6, 2]), device=cuda:0, dtype=torch.float32]\n",
      "GS[0]__ __ __  SE3: size=torch.Size([6, 2]), device=cuda:0, dtype=torch.float32\n",
      "GS[0][:,jj] SE3: size=torch.Size([6, 2]), device=cuda:0, dtype=torch.float32\n"
     ]
    },
    {
     "name": "stderr",
     "output_type": "stream",
     "text": [
      " 74%|███████▍  | 985/1333 [07:30<02:41,  2.16batch/s]"
     ]
    },
    {
     "name": "stdout",
     "output_type": "stream",
     "text": [
      "GS______ [SE3: size=torch.Size([6, 2]), device=cuda:0, dtype=torch.float32]\n",
      "GS[0]__ __ __  SE3: size=torch.Size([6, 2]), device=cuda:0, dtype=torch.float32\n",
      "GS[0][:,jj] SE3: size=torch.Size([6, 2]), device=cuda:0, dtype=torch.float32\n"
     ]
    },
    {
     "name": "stderr",
     "output_type": "stream",
     "text": [
      " 74%|███████▍  | 986/1333 [07:31<02:41,  2.15batch/s]"
     ]
    },
    {
     "name": "stdout",
     "output_type": "stream",
     "text": [
      "GS______ [SE3: size=torch.Size([6, 2]), device=cuda:0, dtype=torch.float32]\n",
      "GS[0]__ __ __  SE3: size=torch.Size([6, 2]), device=cuda:0, dtype=torch.float32\n",
      "GS[0][:,jj] SE3: size=torch.Size([6, 2]), device=cuda:0, dtype=torch.float32\n"
     ]
    },
    {
     "name": "stderr",
     "output_type": "stream",
     "text": [
      " 74%|███████▍  | 987/1333 [07:31<02:42,  2.13batch/s]"
     ]
    },
    {
     "name": "stdout",
     "output_type": "stream",
     "text": [
      "GS______ [SE3: size=torch.Size([6, 2]), device=cuda:0, dtype=torch.float32]\n",
      "GS[0]__ __ __  SE3: size=torch.Size([6, 2]), device=cuda:0, dtype=torch.float32\n",
      "GS[0][:,jj] SE3: size=torch.Size([6, 2]), device=cuda:0, dtype=torch.float32\n"
     ]
    },
    {
     "name": "stderr",
     "output_type": "stream",
     "text": [
      " 74%|███████▍  | 988/1333 [07:32<02:41,  2.13batch/s]"
     ]
    },
    {
     "name": "stdout",
     "output_type": "stream",
     "text": [
      "GS______ [SE3: size=torch.Size([6, 2]), device=cuda:0, dtype=torch.float32]\n",
      "GS[0]__ __ __  SE3: size=torch.Size([6, 2]), device=cuda:0, dtype=torch.float32\n",
      "GS[0][:,jj] SE3: size=torch.Size([6, 2]), device=cuda:0, dtype=torch.float32\n"
     ]
    },
    {
     "name": "stderr",
     "output_type": "stream",
     "text": [
      " 74%|███████▍  | 989/1333 [07:32<02:41,  2.13batch/s]"
     ]
    },
    {
     "name": "stdout",
     "output_type": "stream",
     "text": [
      "GS______ [SE3: size=torch.Size([6, 2]), device=cuda:0, dtype=torch.float32]\n",
      "GS[0]__ __ __  SE3: size=torch.Size([6, 2]), device=cuda:0, dtype=torch.float32\n",
      "GS[0][:,jj] SE3: size=torch.Size([6, 2]), device=cuda:0, dtype=torch.float32\n"
     ]
    },
    {
     "name": "stderr",
     "output_type": "stream",
     "text": [
      " 74%|███████▍  | 990/1333 [07:33<02:41,  2.13batch/s]"
     ]
    },
    {
     "name": "stdout",
     "output_type": "stream",
     "text": [
      "GS______ [SE3: size=torch.Size([6, 2]), device=cuda:0, dtype=torch.float32]\n",
      "GS[0]__ __ __  SE3: size=torch.Size([6, 2]), device=cuda:0, dtype=torch.float32\n",
      "GS[0][:,jj] SE3: size=torch.Size([6, 2]), device=cuda:0, dtype=torch.float32\n"
     ]
    },
    {
     "name": "stderr",
     "output_type": "stream",
     "text": [
      " 74%|███████▍  | 991/1333 [07:33<02:40,  2.13batch/s]"
     ]
    },
    {
     "name": "stdout",
     "output_type": "stream",
     "text": [
      "GS______ [SE3: size=torch.Size([6, 2]), device=cuda:0, dtype=torch.float32]\n",
      "GS[0]__ __ __  SE3: size=torch.Size([6, 2]), device=cuda:0, dtype=torch.float32\n",
      "GS[0][:,jj] SE3: size=torch.Size([6, 2]), device=cuda:0, dtype=torch.float32\n"
     ]
    },
    {
     "name": "stderr",
     "output_type": "stream",
     "text": [
      " 74%|███████▍  | 992/1333 [07:34<02:40,  2.12batch/s]"
     ]
    },
    {
     "name": "stdout",
     "output_type": "stream",
     "text": [
      "GS______ [SE3: size=torch.Size([6, 2]), device=cuda:0, dtype=torch.float32]\n",
      "GS[0]__ __ __  SE3: size=torch.Size([6, 2]), device=cuda:0, dtype=torch.float32\n",
      "GS[0][:,jj] SE3: size=torch.Size([6, 2]), device=cuda:0, dtype=torch.float32\n"
     ]
    },
    {
     "name": "stderr",
     "output_type": "stream",
     "text": [
      " 74%|███████▍  | 993/1333 [07:34<02:40,  2.12batch/s]"
     ]
    },
    {
     "name": "stdout",
     "output_type": "stream",
     "text": [
      "GS______ [SE3: size=torch.Size([6, 2]), device=cuda:0, dtype=torch.float32]\n",
      "GS[0]__ __ __  SE3: size=torch.Size([6, 2]), device=cuda:0, dtype=torch.float32\n",
      "GS[0][:,jj] SE3: size=torch.Size([6, 2]), device=cuda:0, dtype=torch.float32\n"
     ]
    },
    {
     "name": "stderr",
     "output_type": "stream",
     "text": [
      " 75%|███████▍  | 994/1333 [07:35<02:39,  2.12batch/s]"
     ]
    },
    {
     "name": "stdout",
     "output_type": "stream",
     "text": [
      "GS______ [SE3: size=torch.Size([6, 2]), device=cuda:0, dtype=torch.float32]\n",
      "GS[0]__ __ __  SE3: size=torch.Size([6, 2]), device=cuda:0, dtype=torch.float32\n",
      "GS[0][:,jj] SE3: size=torch.Size([6, 2]), device=cuda:0, dtype=torch.float32\n"
     ]
    },
    {
     "name": "stderr",
     "output_type": "stream",
     "text": [
      " 75%|███████▍  | 995/1333 [07:35<02:39,  2.12batch/s]"
     ]
    },
    {
     "name": "stdout",
     "output_type": "stream",
     "text": [
      "GS______ [SE3: size=torch.Size([6, 2]), device=cuda:0, dtype=torch.float32]\n",
      "GS[0]__ __ __  SE3: size=torch.Size([6, 2]), device=cuda:0, dtype=torch.float32\n",
      "GS[0][:,jj] SE3: size=torch.Size([6, 2]), device=cuda:0, dtype=torch.float32\n"
     ]
    },
    {
     "name": "stderr",
     "output_type": "stream",
     "text": [
      " 75%|███████▍  | 996/1333 [07:36<02:39,  2.12batch/s]"
     ]
    },
    {
     "name": "stdout",
     "output_type": "stream",
     "text": [
      "GS______ [SE3: size=torch.Size([6, 2]), device=cuda:0, dtype=torch.float32]\n",
      "GS[0]__ __ __  SE3: size=torch.Size([6, 2]), device=cuda:0, dtype=torch.float32\n",
      "GS[0][:,jj] SE3: size=torch.Size([6, 2]), device=cuda:0, dtype=torch.float32\n"
     ]
    },
    {
     "name": "stderr",
     "output_type": "stream",
     "text": [
      " 75%|███████▍  | 997/1333 [07:36<02:38,  2.12batch/s]"
     ]
    },
    {
     "name": "stdout",
     "output_type": "stream",
     "text": [
      "GS______ [SE3: size=torch.Size([6, 2]), device=cuda:0, dtype=torch.float32]\n",
      "GS[0]__ __ __  SE3: size=torch.Size([6, 2]), device=cuda:0, dtype=torch.float32\n",
      "GS[0][:,jj] SE3: size=torch.Size([6, 2]), device=cuda:0, dtype=torch.float32\n"
     ]
    },
    {
     "name": "stderr",
     "output_type": "stream",
     "text": [
      " 75%|███████▍  | 998/1333 [07:37<02:37,  2.13batch/s]"
     ]
    },
    {
     "name": "stdout",
     "output_type": "stream",
     "text": [
      "GS______ [SE3: size=torch.Size([6, 2]), device=cuda:0, dtype=torch.float32]\n",
      "GS[0]__ __ __  SE3: size=torch.Size([6, 2]), device=cuda:0, dtype=torch.float32\n",
      "GS[0][:,jj] SE3: size=torch.Size([6, 2]), device=cuda:0, dtype=torch.float32\n"
     ]
    },
    {
     "name": "stderr",
     "output_type": "stream",
     "text": [
      " 75%|███████▍  | 999/1333 [07:37<02:36,  2.14batch/s]"
     ]
    },
    {
     "name": "stdout",
     "output_type": "stream",
     "text": [
      "GS______ [SE3: size=torch.Size([6, 2]), device=cuda:0, dtype=torch.float32]\n",
      "GS[0]__ __ __  SE3: size=torch.Size([6, 2]), device=cuda:0, dtype=torch.float32\n",
      "GS[0][:,jj] SE3: size=torch.Size([6, 2]), device=cuda:0, dtype=torch.float32\n"
     ]
    },
    {
     "name": "stderr",
     "output_type": "stream",
     "text": [
      " 75%|███████▌  | 1000/1333 [07:37<02:36,  2.13batch/s]"
     ]
    },
    {
     "name": "stdout",
     "output_type": "stream",
     "text": [
      "GS______ [SE3: size=torch.Size([6, 2]), device=cuda:0, dtype=torch.float32]\n",
      "GS[0]__ __ __  SE3: size=torch.Size([6, 2]), device=cuda:0, dtype=torch.float32\n",
      "GS[0][:,jj] SE3: size=torch.Size([6, 2]), device=cuda:0, dtype=torch.float32\n"
     ]
    },
    {
     "name": "stderr",
     "output_type": "stream",
     "text": [
      " 75%|███████▌  | 1001/1333 [07:38<02:34,  2.15batch/s]"
     ]
    },
    {
     "name": "stdout",
     "output_type": "stream",
     "text": [
      "GS______ [SE3: size=torch.Size([6, 2]), device=cuda:0, dtype=torch.float32]\n",
      "GS[0]__ __ __  SE3: size=torch.Size([6, 2]), device=cuda:0, dtype=torch.float32\n",
      "GS[0][:,jj] SE3: size=torch.Size([6, 2]), device=cuda:0, dtype=torch.float32\n"
     ]
    },
    {
     "name": "stderr",
     "output_type": "stream",
     "text": [
      " 75%|███████▌  | 1002/1333 [07:38<02:33,  2.16batch/s]"
     ]
    },
    {
     "name": "stdout",
     "output_type": "stream",
     "text": [
      "GS______ [SE3: size=torch.Size([6, 2]), device=cuda:0, dtype=torch.float32]\n",
      "GS[0]__ __ __  SE3: size=torch.Size([6, 2]), device=cuda:0, dtype=torch.float32\n",
      "GS[0][:,jj] SE3: size=torch.Size([6, 2]), device=cuda:0, dtype=torch.float32\n"
     ]
    },
    {
     "name": "stderr",
     "output_type": "stream",
     "text": [
      " 75%|███████▌  | 1003/1333 [07:39<02:34,  2.13batch/s]"
     ]
    },
    {
     "name": "stdout",
     "output_type": "stream",
     "text": [
      "GS______ [SE3: size=torch.Size([6, 2]), device=cuda:0, dtype=torch.float32]\n",
      "GS[0]__ __ __  SE3: size=torch.Size([6, 2]), device=cuda:0, dtype=torch.float32\n",
      "GS[0][:,jj] SE3: size=torch.Size([6, 2]), device=cuda:0, dtype=torch.float32\n"
     ]
    },
    {
     "name": "stderr",
     "output_type": "stream",
     "text": [
      " 75%|███████▌  | 1004/1333 [07:39<02:37,  2.09batch/s]"
     ]
    },
    {
     "name": "stdout",
     "output_type": "stream",
     "text": [
      "GS______ [SE3: size=torch.Size([6, 2]), device=cuda:0, dtype=torch.float32]\n",
      "GS[0]__ __ __  SE3: size=torch.Size([6, 2]), device=cuda:0, dtype=torch.float32\n",
      "GS[0][:,jj] SE3: size=torch.Size([6, 2]), device=cuda:0, dtype=torch.float32\n"
     ]
    },
    {
     "name": "stderr",
     "output_type": "stream",
     "text": [
      " 75%|███████▌  | 1005/1333 [07:40<02:37,  2.08batch/s]"
     ]
    },
    {
     "name": "stdout",
     "output_type": "stream",
     "text": [
      "GS______ [SE3: size=torch.Size([6, 2]), device=cuda:0, dtype=torch.float32]\n",
      "GS[0]__ __ __  SE3: size=torch.Size([6, 2]), device=cuda:0, dtype=torch.float32\n",
      "GS[0][:,jj] SE3: size=torch.Size([6, 2]), device=cuda:0, dtype=torch.float32\n"
     ]
    },
    {
     "name": "stderr",
     "output_type": "stream",
     "text": [
      " 75%|███████▌  | 1006/1333 [07:40<02:35,  2.11batch/s]"
     ]
    },
    {
     "name": "stdout",
     "output_type": "stream",
     "text": [
      "GS______ [SE3: size=torch.Size([6, 2]), device=cuda:0, dtype=torch.float32]\n",
      "GS[0]__ __ __  SE3: size=torch.Size([6, 2]), device=cuda:0, dtype=torch.float32\n",
      "GS[0][:,jj] SE3: size=torch.Size([6, 2]), device=cuda:0, dtype=torch.float32\n"
     ]
    },
    {
     "name": "stderr",
     "output_type": "stream",
     "text": [
      " 76%|███████▌  | 1007/1333 [07:41<02:32,  2.14batch/s]"
     ]
    },
    {
     "name": "stdout",
     "output_type": "stream",
     "text": [
      "GS______ [SE3: size=torch.Size([6, 2]), device=cuda:0, dtype=torch.float32]\n",
      "GS[0]__ __ __  SE3: size=torch.Size([6, 2]), device=cuda:0, dtype=torch.float32\n",
      "GS[0][:,jj] SE3: size=torch.Size([6, 2]), device=cuda:0, dtype=torch.float32\n"
     ]
    },
    {
     "name": "stderr",
     "output_type": "stream",
     "text": [
      " 76%|███████▌  | 1008/1333 [07:41<02:30,  2.16batch/s]"
     ]
    },
    {
     "name": "stdout",
     "output_type": "stream",
     "text": [
      "GS______ [SE3: size=torch.Size([6, 2]), device=cuda:0, dtype=torch.float32]\n",
      "GS[0]__ __ __  SE3: size=torch.Size([6, 2]), device=cuda:0, dtype=torch.float32\n",
      "GS[0][:,jj] SE3: size=torch.Size([6, 2]), device=cuda:0, dtype=torch.float32\n"
     ]
    },
    {
     "name": "stderr",
     "output_type": "stream",
     "text": [
      " 76%|███████▌  | 1009/1333 [07:42<02:28,  2.18batch/s]"
     ]
    },
    {
     "name": "stdout",
     "output_type": "stream",
     "text": [
      "GS______ [SE3: size=torch.Size([6, 2]), device=cuda:0, dtype=torch.float32]\n",
      "GS[0]__ __ __  SE3: size=torch.Size([6, 2]), device=cuda:0, dtype=torch.float32\n",
      "GS[0][:,jj] SE3: size=torch.Size([6, 2]), device=cuda:0, dtype=torch.float32\n"
     ]
    },
    {
     "name": "stderr",
     "output_type": "stream",
     "text": [
      " 76%|███████▌  | 1010/1333 [07:42<02:27,  2.19batch/s]"
     ]
    },
    {
     "name": "stdout",
     "output_type": "stream",
     "text": [
      "GS______ [SE3: size=torch.Size([6, 2]), device=cuda:0, dtype=torch.float32]\n",
      "GS[0]__ __ __  SE3: size=torch.Size([6, 2]), device=cuda:0, dtype=torch.float32\n",
      "GS[0][:,jj] SE3: size=torch.Size([6, 2]), device=cuda:0, dtype=torch.float32\n"
     ]
    },
    {
     "name": "stderr",
     "output_type": "stream",
     "text": [
      " 76%|███████▌  | 1011/1333 [07:43<02:26,  2.20batch/s]"
     ]
    },
    {
     "name": "stdout",
     "output_type": "stream",
     "text": [
      "GS______ [SE3: size=torch.Size([6, 2]), device=cuda:0, dtype=torch.float32]\n",
      "GS[0]__ __ __  SE3: size=torch.Size([6, 2]), device=cuda:0, dtype=torch.float32\n",
      "GS[0][:,jj] SE3: size=torch.Size([6, 2]), device=cuda:0, dtype=torch.float32\n"
     ]
    },
    {
     "name": "stderr",
     "output_type": "stream",
     "text": [
      " 76%|███████▌  | 1012/1333 [07:43<02:25,  2.21batch/s]"
     ]
    },
    {
     "name": "stdout",
     "output_type": "stream",
     "text": [
      "GS______ [SE3: size=torch.Size([6, 2]), device=cuda:0, dtype=torch.float32]\n",
      "GS[0]__ __ __  SE3: size=torch.Size([6, 2]), device=cuda:0, dtype=torch.float32\n",
      "GS[0][:,jj] SE3: size=torch.Size([6, 2]), device=cuda:0, dtype=torch.float32\n"
     ]
    },
    {
     "name": "stderr",
     "output_type": "stream",
     "text": [
      " 76%|███████▌  | 1013/1333 [07:43<02:24,  2.21batch/s]"
     ]
    },
    {
     "name": "stdout",
     "output_type": "stream",
     "text": [
      "GS______ [SE3: size=torch.Size([6, 2]), device=cuda:0, dtype=torch.float32]\n",
      "GS[0]__ __ __  SE3: size=torch.Size([6, 2]), device=cuda:0, dtype=torch.float32\n",
      "GS[0][:,jj] SE3: size=torch.Size([6, 2]), device=cuda:0, dtype=torch.float32\n"
     ]
    },
    {
     "name": "stderr",
     "output_type": "stream",
     "text": [
      " 76%|███████▌  | 1014/1333 [07:44<02:23,  2.22batch/s]"
     ]
    },
    {
     "name": "stdout",
     "output_type": "stream",
     "text": [
      "GS______ [SE3: size=torch.Size([6, 2]), device=cuda:0, dtype=torch.float32]\n",
      "GS[0]__ __ __  SE3: size=torch.Size([6, 2]), device=cuda:0, dtype=torch.float32\n",
      "GS[0][:,jj] SE3: size=torch.Size([6, 2]), device=cuda:0, dtype=torch.float32\n"
     ]
    },
    {
     "name": "stderr",
     "output_type": "stream",
     "text": [
      " 76%|███████▌  | 1015/1333 [07:44<02:23,  2.22batch/s]"
     ]
    },
    {
     "name": "stdout",
     "output_type": "stream",
     "text": [
      "GS______ [SE3: size=torch.Size([6, 2]), device=cuda:0, dtype=torch.float32]\n",
      "GS[0]__ __ __  SE3: size=torch.Size([6, 2]), device=cuda:0, dtype=torch.float32\n",
      "GS[0][:,jj] SE3: size=torch.Size([6, 2]), device=cuda:0, dtype=torch.float32\n"
     ]
    },
    {
     "name": "stderr",
     "output_type": "stream",
     "text": [
      " 76%|███████▌  | 1016/1333 [07:45<02:22,  2.22batch/s]"
     ]
    },
    {
     "name": "stdout",
     "output_type": "stream",
     "text": [
      "GS______ [SE3: size=torch.Size([6, 2]), device=cuda:0, dtype=torch.float32]\n",
      "GS[0]__ __ __  SE3: size=torch.Size([6, 2]), device=cuda:0, dtype=torch.float32\n",
      "GS[0][:,jj] SE3: size=torch.Size([6, 2]), device=cuda:0, dtype=torch.float32\n"
     ]
    },
    {
     "name": "stderr",
     "output_type": "stream",
     "text": [
      " 76%|███████▋  | 1017/1333 [07:45<02:22,  2.22batch/s]"
     ]
    },
    {
     "name": "stdout",
     "output_type": "stream",
     "text": [
      "GS______ [SE3: size=torch.Size([6, 2]), device=cuda:0, dtype=torch.float32]\n",
      "GS[0]__ __ __  SE3: size=torch.Size([6, 2]), device=cuda:0, dtype=torch.float32\n",
      "GS[0][:,jj] SE3: size=torch.Size([6, 2]), device=cuda:0, dtype=torch.float32\n"
     ]
    },
    {
     "name": "stderr",
     "output_type": "stream",
     "text": [
      " 76%|███████▋  | 1018/1333 [07:46<02:22,  2.22batch/s]"
     ]
    },
    {
     "name": "stdout",
     "output_type": "stream",
     "text": [
      "GS______ [SE3: size=torch.Size([6, 2]), device=cuda:0, dtype=torch.float32]\n",
      "GS[0]__ __ __  SE3: size=torch.Size([6, 2]), device=cuda:0, dtype=torch.float32\n",
      "GS[0][:,jj] SE3: size=torch.Size([6, 2]), device=cuda:0, dtype=torch.float32\n"
     ]
    },
    {
     "name": "stderr",
     "output_type": "stream",
     "text": [
      " 76%|███████▋  | 1019/1333 [07:46<02:21,  2.21batch/s]"
     ]
    },
    {
     "name": "stdout",
     "output_type": "stream",
     "text": [
      "GS______ [SE3: size=torch.Size([6, 2]), device=cuda:0, dtype=torch.float32]\n",
      "GS[0]__ __ __  SE3: size=torch.Size([6, 2]), device=cuda:0, dtype=torch.float32\n",
      "GS[0][:,jj] SE3: size=torch.Size([6, 2]), device=cuda:0, dtype=torch.float32\n"
     ]
    },
    {
     "name": "stderr",
     "output_type": "stream",
     "text": [
      " 77%|███████▋  | 1020/1333 [07:47<02:21,  2.20batch/s]"
     ]
    },
    {
     "name": "stdout",
     "output_type": "stream",
     "text": [
      "GS______ [SE3: size=torch.Size([6, 2]), device=cuda:0, dtype=torch.float32]\n",
      "GS[0]__ __ __  SE3: size=torch.Size([6, 2]), device=cuda:0, dtype=torch.float32\n",
      "GS[0][:,jj] SE3: size=torch.Size([6, 2]), device=cuda:0, dtype=torch.float32\n"
     ]
    },
    {
     "name": "stderr",
     "output_type": "stream",
     "text": [
      " 77%|███████▋  | 1021/1333 [07:47<02:21,  2.21batch/s]"
     ]
    },
    {
     "name": "stdout",
     "output_type": "stream",
     "text": [
      "GS______ [SE3: size=torch.Size([6, 2]), device=cuda:0, dtype=torch.float32]\n",
      "GS[0]__ __ __  SE3: size=torch.Size([6, 2]), device=cuda:0, dtype=torch.float32\n",
      "GS[0][:,jj] SE3: size=torch.Size([6, 2]), device=cuda:0, dtype=torch.float32\n"
     ]
    },
    {
     "name": "stderr",
     "output_type": "stream",
     "text": [
      " 77%|███████▋  | 1022/1333 [07:48<02:21,  2.20batch/s]"
     ]
    },
    {
     "name": "stdout",
     "output_type": "stream",
     "text": [
      "GS______ [SE3: size=torch.Size([6, 2]), device=cuda:0, dtype=torch.float32]\n",
      "GS[0]__ __ __  SE3: size=torch.Size([6, 2]), device=cuda:0, dtype=torch.float32\n",
      "GS[0][:,jj] SE3: size=torch.Size([6, 2]), device=cuda:0, dtype=torch.float32\n"
     ]
    },
    {
     "name": "stderr",
     "output_type": "stream",
     "text": [
      " 77%|███████▋  | 1023/1333 [07:48<02:20,  2.20batch/s]"
     ]
    },
    {
     "name": "stdout",
     "output_type": "stream",
     "text": [
      "GS______ [SE3: size=torch.Size([6, 2]), device=cuda:0, dtype=torch.float32]\n",
      "GS[0]__ __ __  SE3: size=torch.Size([6, 2]), device=cuda:0, dtype=torch.float32\n",
      "GS[0][:,jj] SE3: size=torch.Size([6, 2]), device=cuda:0, dtype=torch.float32\n"
     ]
    },
    {
     "name": "stderr",
     "output_type": "stream",
     "text": [
      " 77%|███████▋  | 1024/1333 [07:48<02:20,  2.20batch/s]"
     ]
    },
    {
     "name": "stdout",
     "output_type": "stream",
     "text": [
      "GS______ [SE3: size=torch.Size([6, 2]), device=cuda:0, dtype=torch.float32]\n",
      "GS[0]__ __ __  SE3: size=torch.Size([6, 2]), device=cuda:0, dtype=torch.float32\n",
      "GS[0][:,jj] SE3: size=torch.Size([6, 2]), device=cuda:0, dtype=torch.float32\n"
     ]
    },
    {
     "name": "stderr",
     "output_type": "stream",
     "text": [
      " 77%|███████▋  | 1025/1333 [07:49<02:20,  2.19batch/s]"
     ]
    },
    {
     "name": "stdout",
     "output_type": "stream",
     "text": [
      "GS______ [SE3: size=torch.Size([6, 2]), device=cuda:0, dtype=torch.float32]\n",
      "GS[0]__ __ __  SE3: size=torch.Size([6, 2]), device=cuda:0, dtype=torch.float32\n",
      "GS[0][:,jj] SE3: size=torch.Size([6, 2]), device=cuda:0, dtype=torch.float32\n"
     ]
    },
    {
     "name": "stderr",
     "output_type": "stream",
     "text": [
      " 77%|███████▋  | 1026/1333 [07:49<02:20,  2.19batch/s]"
     ]
    },
    {
     "name": "stdout",
     "output_type": "stream",
     "text": [
      "GS______ [SE3: size=torch.Size([6, 2]), device=cuda:0, dtype=torch.float32]\n",
      "GS[0]__ __ __  SE3: size=torch.Size([6, 2]), device=cuda:0, dtype=torch.float32\n",
      "GS[0][:,jj] SE3: size=torch.Size([6, 2]), device=cuda:0, dtype=torch.float32\n"
     ]
    },
    {
     "name": "stderr",
     "output_type": "stream",
     "text": [
      " 77%|███████▋  | 1027/1333 [07:50<02:20,  2.18batch/s]"
     ]
    },
    {
     "name": "stdout",
     "output_type": "stream",
     "text": [
      "GS______ [SE3: size=torch.Size([6, 2]), device=cuda:0, dtype=torch.float32]\n",
      "GS[0]__ __ __  SE3: size=torch.Size([6, 2]), device=cuda:0, dtype=torch.float32\n",
      "GS[0][:,jj] SE3: size=torch.Size([6, 2]), device=cuda:0, dtype=torch.float32\n"
     ]
    },
    {
     "name": "stderr",
     "output_type": "stream",
     "text": [
      " 77%|███████▋  | 1028/1333 [07:50<02:20,  2.18batch/s]"
     ]
    },
    {
     "name": "stdout",
     "output_type": "stream",
     "text": [
      "GS______ [SE3: size=torch.Size([6, 2]), device=cuda:0, dtype=torch.float32]\n",
      "GS[0]__ __ __  SE3: size=torch.Size([6, 2]), device=cuda:0, dtype=torch.float32\n",
      "GS[0][:,jj] SE3: size=torch.Size([6, 2]), device=cuda:0, dtype=torch.float32\n"
     ]
    },
    {
     "name": "stderr",
     "output_type": "stream",
     "text": [
      " 77%|███████▋  | 1029/1333 [07:51<02:19,  2.18batch/s]"
     ]
    },
    {
     "name": "stdout",
     "output_type": "stream",
     "text": [
      "GS______ [SE3: size=torch.Size([6, 2]), device=cuda:0, dtype=torch.float32]\n",
      "GS[0]__ __ __  SE3: size=torch.Size([6, 2]), device=cuda:0, dtype=torch.float32\n",
      "GS[0][:,jj] SE3: size=torch.Size([6, 2]), device=cuda:0, dtype=torch.float32\n"
     ]
    },
    {
     "name": "stderr",
     "output_type": "stream",
     "text": [
      " 77%|███████▋  | 1030/1333 [07:51<02:19,  2.17batch/s]"
     ]
    },
    {
     "name": "stdout",
     "output_type": "stream",
     "text": [
      "GS______ [SE3: size=torch.Size([6, 2]), device=cuda:0, dtype=torch.float32]\n",
      "GS[0]__ __ __  SE3: size=torch.Size([6, 2]), device=cuda:0, dtype=torch.float32\n",
      "GS[0][:,jj] SE3: size=torch.Size([6, 2]), device=cuda:0, dtype=torch.float32\n"
     ]
    },
    {
     "name": "stderr",
     "output_type": "stream",
     "text": [
      " 77%|███████▋  | 1031/1333 [07:52<02:19,  2.17batch/s]"
     ]
    },
    {
     "name": "stdout",
     "output_type": "stream",
     "text": [
      "GS______ [SE3: size=torch.Size([6, 2]), device=cuda:0, dtype=torch.float32]\n",
      "GS[0]__ __ __  SE3: size=torch.Size([6, 2]), device=cuda:0, dtype=torch.float32\n",
      "GS[0][:,jj] SE3: size=torch.Size([6, 2]), device=cuda:0, dtype=torch.float32\n"
     ]
    },
    {
     "name": "stderr",
     "output_type": "stream",
     "text": [
      " 77%|███████▋  | 1032/1333 [07:52<02:17,  2.19batch/s]"
     ]
    },
    {
     "name": "stdout",
     "output_type": "stream",
     "text": [
      "GS______ [SE3: size=torch.Size([6, 2]), device=cuda:0, dtype=torch.float32]\n",
      "GS[0]__ __ __  SE3: size=torch.Size([6, 2]), device=cuda:0, dtype=torch.float32\n",
      "GS[0][:,jj] SE3: size=torch.Size([6, 2]), device=cuda:0, dtype=torch.float32\n"
     ]
    },
    {
     "name": "stderr",
     "output_type": "stream",
     "text": [
      " 77%|███████▋  | 1033/1333 [07:53<02:16,  2.19batch/s]"
     ]
    },
    {
     "name": "stdout",
     "output_type": "stream",
     "text": [
      "GS______ [SE3: size=torch.Size([6, 2]), device=cuda:0, dtype=torch.float32]\n",
      "GS[0]__ __ __  SE3: size=torch.Size([6, 2]), device=cuda:0, dtype=torch.float32\n",
      "GS[0][:,jj] SE3: size=torch.Size([6, 2]), device=cuda:0, dtype=torch.float32\n"
     ]
    },
    {
     "name": "stderr",
     "output_type": "stream",
     "text": [
      " 78%|███████▊  | 1034/1333 [07:53<02:15,  2.21batch/s]"
     ]
    },
    {
     "name": "stdout",
     "output_type": "stream",
     "text": [
      "GS______ [SE3: size=torch.Size([6, 2]), device=cuda:0, dtype=torch.float32]\n",
      "GS[0]__ __ __  SE3: size=torch.Size([6, 2]), device=cuda:0, dtype=torch.float32\n",
      "GS[0][:,jj] SE3: size=torch.Size([6, 2]), device=cuda:0, dtype=torch.float32\n"
     ]
    },
    {
     "name": "stderr",
     "output_type": "stream",
     "text": [
      " 78%|███████▊  | 1035/1333 [07:53<02:14,  2.21batch/s]"
     ]
    },
    {
     "name": "stdout",
     "output_type": "stream",
     "text": [
      "GS______ [SE3: size=torch.Size([6, 2]), device=cuda:0, dtype=torch.float32]\n",
      "GS[0]__ __ __  SE3: size=torch.Size([6, 2]), device=cuda:0, dtype=torch.float32\n",
      "GS[0][:,jj] SE3: size=torch.Size([6, 2]), device=cuda:0, dtype=torch.float32\n"
     ]
    },
    {
     "name": "stderr",
     "output_type": "stream",
     "text": [
      " 78%|███████▊  | 1036/1333 [07:54<02:13,  2.22batch/s]"
     ]
    },
    {
     "name": "stdout",
     "output_type": "stream",
     "text": [
      "GS______ [SE3: size=torch.Size([6, 2]), device=cuda:0, dtype=torch.float32]\n",
      "GS[0]__ __ __  SE3: size=torch.Size([6, 2]), device=cuda:0, dtype=torch.float32\n",
      "GS[0][:,jj] SE3: size=torch.Size([6, 2]), device=cuda:0, dtype=torch.float32\n"
     ]
    },
    {
     "name": "stderr",
     "output_type": "stream",
     "text": [
      " 78%|███████▊  | 1037/1333 [07:54<02:14,  2.20batch/s]"
     ]
    },
    {
     "name": "stdout",
     "output_type": "stream",
     "text": [
      "GS______ [SE3: size=torch.Size([6, 2]), device=cuda:0, dtype=torch.float32]\n",
      "GS[0]__ __ __  SE3: size=torch.Size([6, 2]), device=cuda:0, dtype=torch.float32\n",
      "GS[0][:,jj] SE3: size=torch.Size([6, 2]), device=cuda:0, dtype=torch.float32\n"
     ]
    },
    {
     "name": "stderr",
     "output_type": "stream",
     "text": [
      " 78%|███████▊  | 1038/1333 [07:55<02:12,  2.23batch/s]"
     ]
    },
    {
     "name": "stdout",
     "output_type": "stream",
     "text": [
      "GS______ [SE3: size=torch.Size([6, 2]), device=cuda:0, dtype=torch.float32]\n",
      "GS[0]__ __ __  SE3: size=torch.Size([6, 2]), device=cuda:0, dtype=torch.float32\n",
      "GS[0][:,jj] SE3: size=torch.Size([6, 2]), device=cuda:0, dtype=torch.float32\n"
     ]
    },
    {
     "name": "stderr",
     "output_type": "stream",
     "text": [
      " 78%|███████▊  | 1039/1333 [07:55<02:11,  2.24batch/s]"
     ]
    },
    {
     "name": "stdout",
     "output_type": "stream",
     "text": [
      "GS______ [SE3: size=torch.Size([6, 2]), device=cuda:0, dtype=torch.float32]\n",
      "GS[0]__ __ __  SE3: size=torch.Size([6, 2]), device=cuda:0, dtype=torch.float32\n",
      "GS[0][:,jj] SE3: size=torch.Size([6, 2]), device=cuda:0, dtype=torch.float32\n"
     ]
    },
    {
     "name": "stderr",
     "output_type": "stream",
     "text": [
      " 78%|███████▊  | 1040/1333 [07:56<02:10,  2.25batch/s]"
     ]
    },
    {
     "name": "stdout",
     "output_type": "stream",
     "text": [
      "GS______ [SE3: size=torch.Size([6, 2]), device=cuda:0, dtype=torch.float32]\n",
      "GS[0]__ __ __  SE3: size=torch.Size([6, 2]), device=cuda:0, dtype=torch.float32\n",
      "GS[0][:,jj] SE3: size=torch.Size([6, 2]), device=cuda:0, dtype=torch.float32\n"
     ]
    },
    {
     "name": "stderr",
     "output_type": "stream",
     "text": [
      " 78%|███████▊  | 1041/1333 [07:56<02:09,  2.25batch/s]"
     ]
    },
    {
     "name": "stdout",
     "output_type": "stream",
     "text": [
      "GS______ [SE3: size=torch.Size([6, 2]), device=cuda:0, dtype=torch.float32]\n",
      "GS[0]__ __ __  SE3: size=torch.Size([6, 2]), device=cuda:0, dtype=torch.float32\n",
      "GS[0][:,jj] SE3: size=torch.Size([6, 2]), device=cuda:0, dtype=torch.float32\n"
     ]
    },
    {
     "name": "stderr",
     "output_type": "stream",
     "text": [
      " 78%|███████▊  | 1042/1333 [07:57<02:10,  2.24batch/s]"
     ]
    },
    {
     "name": "stdout",
     "output_type": "stream",
     "text": [
      "GS______ [SE3: size=torch.Size([6, 2]), device=cuda:0, dtype=torch.float32]\n",
      "GS[0]__ __ __  SE3: size=torch.Size([6, 2]), device=cuda:0, dtype=torch.float32\n",
      "GS[0][:,jj] SE3: size=torch.Size([6, 2]), device=cuda:0, dtype=torch.float32\n"
     ]
    },
    {
     "name": "stderr",
     "output_type": "stream",
     "text": [
      " 78%|███████▊  | 1043/1333 [07:57<02:09,  2.24batch/s]"
     ]
    },
    {
     "name": "stdout",
     "output_type": "stream",
     "text": [
      "GS______ [SE3: size=torch.Size([6, 2]), device=cuda:0, dtype=torch.float32]\n",
      "GS[0]__ __ __  SE3: size=torch.Size([6, 2]), device=cuda:0, dtype=torch.float32\n",
      "GS[0][:,jj] SE3: size=torch.Size([6, 2]), device=cuda:0, dtype=torch.float32\n"
     ]
    },
    {
     "name": "stderr",
     "output_type": "stream",
     "text": [
      " 78%|███████▊  | 1044/1333 [07:57<02:09,  2.24batch/s]"
     ]
    },
    {
     "name": "stdout",
     "output_type": "stream",
     "text": [
      "GS______ [SE3: size=torch.Size([6, 2]), device=cuda:0, dtype=torch.float32]\n",
      "GS[0]__ __ __  SE3: size=torch.Size([6, 2]), device=cuda:0, dtype=torch.float32\n",
      "GS[0][:,jj] SE3: size=torch.Size([6, 2]), device=cuda:0, dtype=torch.float32\n"
     ]
    },
    {
     "name": "stderr",
     "output_type": "stream",
     "text": [
      " 78%|███████▊  | 1045/1333 [07:58<02:08,  2.24batch/s]"
     ]
    },
    {
     "name": "stdout",
     "output_type": "stream",
     "text": [
      "GS______ [SE3: size=torch.Size([6, 2]), device=cuda:0, dtype=torch.float32]\n",
      "GS[0]__ __ __  SE3: size=torch.Size([6, 2]), device=cuda:0, dtype=torch.float32\n",
      "GS[0][:,jj] SE3: size=torch.Size([6, 2]), device=cuda:0, dtype=torch.float32\n"
     ]
    },
    {
     "name": "stderr",
     "output_type": "stream",
     "text": [
      " 78%|███████▊  | 1046/1333 [07:58<02:09,  2.21batch/s]"
     ]
    },
    {
     "name": "stdout",
     "output_type": "stream",
     "text": [
      "GS______ [SE3: size=torch.Size([6, 2]), device=cuda:0, dtype=torch.float32]\n",
      "GS[0]__ __ __  SE3: size=torch.Size([6, 2]), device=cuda:0, dtype=torch.float32\n",
      "GS[0][:,jj] SE3: size=torch.Size([6, 2]), device=cuda:0, dtype=torch.float32\n"
     ]
    },
    {
     "name": "stderr",
     "output_type": "stream",
     "text": [
      " 79%|███████▊  | 1047/1333 [07:59<02:10,  2.20batch/s]"
     ]
    },
    {
     "name": "stdout",
     "output_type": "stream",
     "text": [
      "GS______ [SE3: size=torch.Size([6, 2]), device=cuda:0, dtype=torch.float32]\n",
      "GS[0]__ __ __  SE3: size=torch.Size([6, 2]), device=cuda:0, dtype=torch.float32\n",
      "GS[0][:,jj] SE3: size=torch.Size([6, 2]), device=cuda:0, dtype=torch.float32\n"
     ]
    },
    {
     "name": "stderr",
     "output_type": "stream",
     "text": [
      " 79%|███████▊  | 1048/1333 [07:59<02:09,  2.20batch/s]"
     ]
    },
    {
     "name": "stdout",
     "output_type": "stream",
     "text": [
      "GS______ [SE3: size=torch.Size([6, 2]), device=cuda:0, dtype=torch.float32]\n",
      "GS[0]__ __ __  SE3: size=torch.Size([6, 2]), device=cuda:0, dtype=torch.float32\n",
      "GS[0][:,jj] SE3: size=torch.Size([6, 2]), device=cuda:0, dtype=torch.float32\n"
     ]
    },
    {
     "name": "stderr",
     "output_type": "stream",
     "text": [
      " 79%|███████▊  | 1049/1333 [08:00<02:08,  2.21batch/s]"
     ]
    },
    {
     "name": "stdout",
     "output_type": "stream",
     "text": [
      "GS______ [SE3: size=torch.Size([6, 2]), device=cuda:0, dtype=torch.float32]\n",
      "GS[0]__ __ __  SE3: size=torch.Size([6, 2]), device=cuda:0, dtype=torch.float32\n",
      "GS[0][:,jj] SE3: size=torch.Size([6, 2]), device=cuda:0, dtype=torch.float32\n"
     ]
    },
    {
     "name": "stderr",
     "output_type": "stream",
     "text": [
      " 79%|███████▉  | 1050/1333 [08:00<02:08,  2.21batch/s]"
     ]
    },
    {
     "name": "stdout",
     "output_type": "stream",
     "text": [
      "GS______ [SE3: size=torch.Size([6, 2]), device=cuda:0, dtype=torch.float32]\n",
      "GS[0]__ __ __  SE3: size=torch.Size([6, 2]), device=cuda:0, dtype=torch.float32\n",
      "GS[0][:,jj] SE3: size=torch.Size([6, 2]), device=cuda:0, dtype=torch.float32\n"
     ]
    },
    {
     "name": "stderr",
     "output_type": "stream",
     "text": [
      " 79%|███████▉  | 1051/1333 [08:01<02:09,  2.19batch/s]"
     ]
    },
    {
     "name": "stdout",
     "output_type": "stream",
     "text": [
      "GS______ [SE3: size=torch.Size([6, 2]), device=cuda:0, dtype=torch.float32]\n",
      "GS[0]__ __ __  SE3: size=torch.Size([6, 2]), device=cuda:0, dtype=torch.float32\n",
      "GS[0][:,jj] SE3: size=torch.Size([6, 2]), device=cuda:0, dtype=torch.float32\n"
     ]
    },
    {
     "name": "stderr",
     "output_type": "stream",
     "text": [
      " 79%|███████▉  | 1052/1333 [08:01<02:08,  2.19batch/s]"
     ]
    },
    {
     "name": "stdout",
     "output_type": "stream",
     "text": [
      "GS______ [SE3: size=torch.Size([6, 2]), device=cuda:0, dtype=torch.float32]\n",
      "GS[0]__ __ __  SE3: size=torch.Size([6, 2]), device=cuda:0, dtype=torch.float32\n",
      "GS[0][:,jj] SE3: size=torch.Size([6, 2]), device=cuda:0, dtype=torch.float32\n"
     ]
    },
    {
     "name": "stderr",
     "output_type": "stream",
     "text": [
      " 79%|███████▉  | 1053/1333 [08:02<02:07,  2.20batch/s]"
     ]
    },
    {
     "name": "stdout",
     "output_type": "stream",
     "text": [
      "GS______ [SE3: size=torch.Size([6, 2]), device=cuda:0, dtype=torch.float32]\n",
      "GS[0]__ __ __  SE3: size=torch.Size([6, 2]), device=cuda:0, dtype=torch.float32\n",
      "GS[0][:,jj] SE3: size=torch.Size([6, 2]), device=cuda:0, dtype=torch.float32\n"
     ]
    },
    {
     "name": "stderr",
     "output_type": "stream",
     "text": [
      " 79%|███████▉  | 1054/1333 [08:02<02:06,  2.21batch/s]"
     ]
    },
    {
     "name": "stdout",
     "output_type": "stream",
     "text": [
      "GS______ [SE3: size=torch.Size([6, 2]), device=cuda:0, dtype=torch.float32]\n",
      "GS[0]__ __ __  SE3: size=torch.Size([6, 2]), device=cuda:0, dtype=torch.float32\n",
      "GS[0][:,jj] SE3: size=torch.Size([6, 2]), device=cuda:0, dtype=torch.float32\n"
     ]
    },
    {
     "name": "stderr",
     "output_type": "stream",
     "text": [
      " 79%|███████▉  | 1055/1333 [08:02<02:05,  2.21batch/s]"
     ]
    },
    {
     "name": "stdout",
     "output_type": "stream",
     "text": [
      "GS______ [SE3: size=torch.Size([6, 2]), device=cuda:0, dtype=torch.float32]\n",
      "GS[0]__ __ __  SE3: size=torch.Size([6, 2]), device=cuda:0, dtype=torch.float32\n",
      "GS[0][:,jj] SE3: size=torch.Size([6, 2]), device=cuda:0, dtype=torch.float32\n"
     ]
    },
    {
     "name": "stderr",
     "output_type": "stream",
     "text": [
      " 79%|███████▉  | 1056/1333 [08:03<02:04,  2.22batch/s]"
     ]
    },
    {
     "name": "stdout",
     "output_type": "stream",
     "text": [
      "GS______ [SE3: size=torch.Size([6, 2]), device=cuda:0, dtype=torch.float32]\n",
      "GS[0]__ __ __  SE3: size=torch.Size([6, 2]), device=cuda:0, dtype=torch.float32\n",
      "GS[0][:,jj] SE3: size=torch.Size([6, 2]), device=cuda:0, dtype=torch.float32\n"
     ]
    },
    {
     "name": "stderr",
     "output_type": "stream",
     "text": [
      " 79%|███████▉  | 1057/1333 [08:03<02:05,  2.20batch/s]"
     ]
    },
    {
     "name": "stdout",
     "output_type": "stream",
     "text": [
      "GS______ [SE3: size=torch.Size([6, 2]), device=cuda:0, dtype=torch.float32]\n",
      "GS[0]__ __ __  SE3: size=torch.Size([6, 2]), device=cuda:0, dtype=torch.float32\n",
      "GS[0][:,jj] SE3: size=torch.Size([6, 2]), device=cuda:0, dtype=torch.float32\n"
     ]
    },
    {
     "name": "stderr",
     "output_type": "stream",
     "text": [
      " 79%|███████▉  | 1058/1333 [08:04<02:04,  2.21batch/s]"
     ]
    },
    {
     "name": "stdout",
     "output_type": "stream",
     "text": [
      "GS______ [SE3: size=torch.Size([6, 2]), device=cuda:0, dtype=torch.float32]\n",
      "GS[0]__ __ __  SE3: size=torch.Size([6, 2]), device=cuda:0, dtype=torch.float32\n",
      "GS[0][:,jj] SE3: size=torch.Size([6, 2]), device=cuda:0, dtype=torch.float32\n"
     ]
    },
    {
     "name": "stderr",
     "output_type": "stream",
     "text": [
      " 79%|███████▉  | 1059/1333 [08:04<02:03,  2.21batch/s]"
     ]
    },
    {
     "name": "stdout",
     "output_type": "stream",
     "text": [
      "GS______ [SE3: size=torch.Size([6, 2]), device=cuda:0, dtype=torch.float32]\n",
      "GS[0]__ __ __  SE3: size=torch.Size([6, 2]), device=cuda:0, dtype=torch.float32\n",
      "GS[0][:,jj] SE3: size=torch.Size([6, 2]), device=cuda:0, dtype=torch.float32\n"
     ]
    },
    {
     "name": "stderr",
     "output_type": "stream",
     "text": [
      " 80%|███████▉  | 1060/1333 [08:05<02:04,  2.19batch/s]"
     ]
    },
    {
     "name": "stdout",
     "output_type": "stream",
     "text": [
      "GS______ [SE3: size=torch.Size([6, 2]), device=cuda:0, dtype=torch.float32]\n",
      "GS[0]__ __ __  SE3: size=torch.Size([6, 2]), device=cuda:0, dtype=torch.float32\n",
      "GS[0][:,jj] SE3: size=torch.Size([6, 2]), device=cuda:0, dtype=torch.float32\n"
     ]
    },
    {
     "name": "stderr",
     "output_type": "stream",
     "text": [
      " 80%|███████▉  | 1061/1333 [08:05<02:02,  2.21batch/s]"
     ]
    },
    {
     "name": "stdout",
     "output_type": "stream",
     "text": [
      "GS______ [SE3: size=torch.Size([6, 2]), device=cuda:0, dtype=torch.float32]\n",
      "GS[0]__ __ __  SE3: size=torch.Size([6, 2]), device=cuda:0, dtype=torch.float32\n",
      "GS[0][:,jj] SE3: size=torch.Size([6, 2]), device=cuda:0, dtype=torch.float32\n"
     ]
    },
    {
     "name": "stderr",
     "output_type": "stream",
     "text": [
      " 80%|███████▉  | 1062/1333 [08:06<02:03,  2.19batch/s]"
     ]
    },
    {
     "name": "stdout",
     "output_type": "stream",
     "text": [
      "GS______ [SE3: size=torch.Size([6, 2]), device=cuda:0, dtype=torch.float32]\n",
      "GS[0]__ __ __  SE3: size=torch.Size([6, 2]), device=cuda:0, dtype=torch.float32\n",
      "GS[0][:,jj] SE3: size=torch.Size([6, 2]), device=cuda:0, dtype=torch.float32\n"
     ]
    },
    {
     "name": "stderr",
     "output_type": "stream",
     "text": [
      " 80%|███████▉  | 1063/1333 [08:06<02:03,  2.18batch/s]"
     ]
    },
    {
     "name": "stdout",
     "output_type": "stream",
     "text": [
      "GS______ [SE3: size=torch.Size([6, 2]), device=cuda:0, dtype=torch.float32]\n",
      "GS[0]__ __ __  SE3: size=torch.Size([6, 2]), device=cuda:0, dtype=torch.float32\n",
      "GS[0][:,jj] SE3: size=torch.Size([6, 2]), device=cuda:0, dtype=torch.float32\n"
     ]
    },
    {
     "name": "stderr",
     "output_type": "stream",
     "text": [
      " 80%|███████▉  | 1064/1333 [08:07<02:03,  2.18batch/s]"
     ]
    },
    {
     "name": "stdout",
     "output_type": "stream",
     "text": [
      "GS______ [SE3: size=torch.Size([6, 2]), device=cuda:0, dtype=torch.float32]\n",
      "GS[0]__ __ __  SE3: size=torch.Size([6, 2]), device=cuda:0, dtype=torch.float32\n",
      "GS[0][:,jj] SE3: size=torch.Size([6, 2]), device=cuda:0, dtype=torch.float32\n"
     ]
    },
    {
     "name": "stderr",
     "output_type": "stream",
     "text": [
      " 80%|███████▉  | 1065/1333 [08:07<02:02,  2.19batch/s]"
     ]
    },
    {
     "name": "stdout",
     "output_type": "stream",
     "text": [
      "GS______ [SE3: size=torch.Size([6, 2]), device=cuda:0, dtype=torch.float32]\n",
      "GS[0]__ __ __  SE3: size=torch.Size([6, 2]), device=cuda:0, dtype=torch.float32\n",
      "GS[0][:,jj] SE3: size=torch.Size([6, 2]), device=cuda:0, dtype=torch.float32\n"
     ]
    },
    {
     "name": "stderr",
     "output_type": "stream",
     "text": [
      " 80%|███████▉  | 1066/1333 [08:07<02:01,  2.19batch/s]"
     ]
    },
    {
     "name": "stdout",
     "output_type": "stream",
     "text": [
      "GS______ [SE3: size=torch.Size([6, 2]), device=cuda:0, dtype=torch.float32]\n",
      "GS[0]__ __ __  SE3: size=torch.Size([6, 2]), device=cuda:0, dtype=torch.float32\n",
      "GS[0][:,jj] SE3: size=torch.Size([6, 2]), device=cuda:0, dtype=torch.float32\n"
     ]
    },
    {
     "name": "stderr",
     "output_type": "stream",
     "text": [
      " 80%|████████  | 1067/1333 [08:08<02:00,  2.21batch/s]"
     ]
    },
    {
     "name": "stdout",
     "output_type": "stream",
     "text": [
      "GS______ [SE3: size=torch.Size([6, 2]), device=cuda:0, dtype=torch.float32]\n",
      "GS[0]__ __ __  SE3: size=torch.Size([6, 2]), device=cuda:0, dtype=torch.float32\n",
      "GS[0][:,jj] SE3: size=torch.Size([6, 2]), device=cuda:0, dtype=torch.float32\n"
     ]
    },
    {
     "name": "stderr",
     "output_type": "stream",
     "text": [
      " 80%|████████  | 1068/1333 [08:08<02:00,  2.20batch/s]"
     ]
    },
    {
     "name": "stdout",
     "output_type": "stream",
     "text": [
      "GS______ [SE3: size=torch.Size([6, 2]), device=cuda:0, dtype=torch.float32]\n",
      "GS[0]__ __ __  SE3: size=torch.Size([6, 2]), device=cuda:0, dtype=torch.float32\n",
      "GS[0][:,jj] SE3: size=torch.Size([6, 2]), device=cuda:0, dtype=torch.float32\n"
     ]
    },
    {
     "name": "stderr",
     "output_type": "stream",
     "text": [
      " 80%|████████  | 1069/1333 [08:09<02:01,  2.17batch/s]"
     ]
    },
    {
     "name": "stdout",
     "output_type": "stream",
     "text": [
      "GS______ [SE3: size=torch.Size([6, 2]), device=cuda:0, dtype=torch.float32]\n",
      "GS[0]__ __ __  SE3: size=torch.Size([6, 2]), device=cuda:0, dtype=torch.float32\n",
      "GS[0][:,jj] SE3: size=torch.Size([6, 2]), device=cuda:0, dtype=torch.float32\n"
     ]
    },
    {
     "name": "stderr",
     "output_type": "stream",
     "text": [
      " 80%|████████  | 1070/1333 [08:09<02:00,  2.18batch/s]"
     ]
    },
    {
     "name": "stdout",
     "output_type": "stream",
     "text": [
      "GS______ [SE3: size=torch.Size([6, 2]), device=cuda:0, dtype=torch.float32]\n",
      "GS[0]__ __ __  SE3: size=torch.Size([6, 2]), device=cuda:0, dtype=torch.float32\n",
      "GS[0][:,jj] SE3: size=torch.Size([6, 2]), device=cuda:0, dtype=torch.float32\n"
     ]
    },
    {
     "name": "stderr",
     "output_type": "stream",
     "text": [
      " 80%|████████  | 1071/1333 [08:10<02:00,  2.17batch/s]"
     ]
    },
    {
     "name": "stdout",
     "output_type": "stream",
     "text": [
      "GS______ [SE3: size=torch.Size([6, 2]), device=cuda:0, dtype=torch.float32]\n",
      "GS[0]__ __ __  SE3: size=torch.Size([6, 2]), device=cuda:0, dtype=torch.float32\n",
      "GS[0][:,jj] SE3: size=torch.Size([6, 2]), device=cuda:0, dtype=torch.float32\n"
     ]
    },
    {
     "name": "stderr",
     "output_type": "stream",
     "text": [
      " 80%|████████  | 1072/1333 [08:10<02:00,  2.17batch/s]"
     ]
    },
    {
     "name": "stdout",
     "output_type": "stream",
     "text": [
      "GS______ [SE3: size=torch.Size([6, 2]), device=cuda:0, dtype=torch.float32]\n",
      "GS[0]__ __ __  SE3: size=torch.Size([6, 2]), device=cuda:0, dtype=torch.float32\n",
      "GS[0][:,jj] SE3: size=torch.Size([6, 2]), device=cuda:0, dtype=torch.float32\n"
     ]
    },
    {
     "name": "stderr",
     "output_type": "stream",
     "text": [
      " 80%|████████  | 1073/1333 [08:11<01:59,  2.17batch/s]"
     ]
    },
    {
     "name": "stdout",
     "output_type": "stream",
     "text": [
      "GS______ [SE3: size=torch.Size([6, 2]), device=cuda:0, dtype=torch.float32]\n",
      "GS[0]__ __ __  SE3: size=torch.Size([6, 2]), device=cuda:0, dtype=torch.float32\n",
      "GS[0][:,jj] SE3: size=torch.Size([6, 2]), device=cuda:0, dtype=torch.float32\n"
     ]
    },
    {
     "name": "stderr",
     "output_type": "stream",
     "text": [
      " 81%|████████  | 1074/1333 [08:11<01:59,  2.17batch/s]"
     ]
    },
    {
     "name": "stdout",
     "output_type": "stream",
     "text": [
      "GS______ [SE3: size=torch.Size([6, 2]), device=cuda:0, dtype=torch.float32]\n",
      "GS[0]__ __ __  SE3: size=torch.Size([6, 2]), device=cuda:0, dtype=torch.float32\n",
      "GS[0][:,jj] SE3: size=torch.Size([6, 2]), device=cuda:0, dtype=torch.float32\n"
     ]
    },
    {
     "name": "stderr",
     "output_type": "stream",
     "text": [
      " 81%|████████  | 1075/1333 [08:12<01:58,  2.18batch/s]"
     ]
    },
    {
     "name": "stdout",
     "output_type": "stream",
     "text": [
      "GS______ [SE3: size=torch.Size([6, 2]), device=cuda:0, dtype=torch.float32]\n",
      "GS[0]__ __ __  SE3: size=torch.Size([6, 2]), device=cuda:0, dtype=torch.float32\n",
      "GS[0][:,jj] SE3: size=torch.Size([6, 2]), device=cuda:0, dtype=torch.float32\n"
     ]
    },
    {
     "name": "stderr",
     "output_type": "stream",
     "text": [
      " 81%|████████  | 1076/1333 [08:12<01:57,  2.19batch/s]"
     ]
    },
    {
     "name": "stdout",
     "output_type": "stream",
     "text": [
      "GS______ [SE3: size=torch.Size([6, 2]), device=cuda:0, dtype=torch.float32]\n",
      "GS[0]__ __ __  SE3: size=torch.Size([6, 2]), device=cuda:0, dtype=torch.float32\n",
      "GS[0][:,jj] SE3: size=torch.Size([6, 2]), device=cuda:0, dtype=torch.float32\n"
     ]
    },
    {
     "name": "stderr",
     "output_type": "stream",
     "text": [
      " 81%|████████  | 1077/1333 [08:13<01:58,  2.15batch/s]"
     ]
    },
    {
     "name": "stdout",
     "output_type": "stream",
     "text": [
      "GS______ [SE3: size=torch.Size([6, 2]), device=cuda:0, dtype=torch.float32]\n",
      "GS[0]__ __ __  SE3: size=torch.Size([6, 2]), device=cuda:0, dtype=torch.float32\n",
      "GS[0][:,jj] SE3: size=torch.Size([6, 2]), device=cuda:0, dtype=torch.float32\n"
     ]
    },
    {
     "name": "stderr",
     "output_type": "stream",
     "text": [
      " 81%|████████  | 1078/1333 [08:13<01:57,  2.18batch/s]"
     ]
    },
    {
     "name": "stdout",
     "output_type": "stream",
     "text": [
      "GS______ [SE3: size=torch.Size([6, 2]), device=cuda:0, dtype=torch.float32]\n",
      "GS[0]__ __ __  SE3: size=torch.Size([6, 2]), device=cuda:0, dtype=torch.float32\n",
      "GS[0][:,jj] SE3: size=torch.Size([6, 2]), device=cuda:0, dtype=torch.float32\n"
     ]
    },
    {
     "name": "stderr",
     "output_type": "stream",
     "text": [
      " 81%|████████  | 1079/1333 [08:13<01:56,  2.18batch/s]"
     ]
    },
    {
     "name": "stdout",
     "output_type": "stream",
     "text": [
      "GS______ [SE3: size=torch.Size([6, 2]), device=cuda:0, dtype=torch.float32]\n",
      "GS[0]__ __ __  SE3: size=torch.Size([6, 2]), device=cuda:0, dtype=torch.float32\n",
      "GS[0][:,jj] SE3: size=torch.Size([6, 2]), device=cuda:0, dtype=torch.float32\n"
     ]
    },
    {
     "name": "stderr",
     "output_type": "stream",
     "text": [
      " 81%|████████  | 1080/1333 [08:14<01:57,  2.14batch/s]"
     ]
    },
    {
     "name": "stdout",
     "output_type": "stream",
     "text": [
      "GS______ [SE3: size=torch.Size([6, 2]), device=cuda:0, dtype=torch.float32]\n",
      "GS[0]__ __ __  SE3: size=torch.Size([6, 2]), device=cuda:0, dtype=torch.float32\n",
      "GS[0][:,jj] SE3: size=torch.Size([6, 2]), device=cuda:0, dtype=torch.float32\n"
     ]
    },
    {
     "name": "stderr",
     "output_type": "stream",
     "text": [
      " 81%|████████  | 1081/1333 [08:14<01:56,  2.16batch/s]"
     ]
    },
    {
     "name": "stdout",
     "output_type": "stream",
     "text": [
      "GS______ [SE3: size=torch.Size([6, 2]), device=cuda:0, dtype=torch.float32]\n",
      "GS[0]__ __ __  SE3: size=torch.Size([6, 2]), device=cuda:0, dtype=torch.float32\n",
      "GS[0][:,jj] SE3: size=torch.Size([6, 2]), device=cuda:0, dtype=torch.float32\n"
     ]
    },
    {
     "name": "stderr",
     "output_type": "stream",
     "text": [
      " 81%|████████  | 1082/1333 [08:15<01:55,  2.17batch/s]"
     ]
    },
    {
     "name": "stdout",
     "output_type": "stream",
     "text": [
      "GS______ [SE3: size=torch.Size([6, 2]), device=cuda:0, dtype=torch.float32]\n",
      "GS[0]__ __ __  SE3: size=torch.Size([6, 2]), device=cuda:0, dtype=torch.float32\n",
      "GS[0][:,jj] SE3: size=torch.Size([6, 2]), device=cuda:0, dtype=torch.float32\n"
     ]
    },
    {
     "name": "stderr",
     "output_type": "stream",
     "text": [
      " 81%|████████  | 1083/1333 [08:15<01:54,  2.18batch/s]"
     ]
    },
    {
     "name": "stdout",
     "output_type": "stream",
     "text": [
      "GS______ [SE3: size=torch.Size([6, 2]), device=cuda:0, dtype=torch.float32]\n",
      "GS[0]__ __ __  SE3: size=torch.Size([6, 2]), device=cuda:0, dtype=torch.float32\n",
      "GS[0][:,jj] SE3: size=torch.Size([6, 2]), device=cuda:0, dtype=torch.float32\n"
     ]
    },
    {
     "name": "stderr",
     "output_type": "stream",
     "text": [
      " 81%|████████▏ | 1084/1333 [08:16<01:54,  2.17batch/s]"
     ]
    },
    {
     "name": "stdout",
     "output_type": "stream",
     "text": [
      "GS______ [SE3: size=torch.Size([6, 2]), device=cuda:0, dtype=torch.float32]\n",
      "GS[0]__ __ __  SE3: size=torch.Size([6, 2]), device=cuda:0, dtype=torch.float32\n",
      "GS[0][:,jj] SE3: size=torch.Size([6, 2]), device=cuda:0, dtype=torch.float32\n"
     ]
    },
    {
     "name": "stderr",
     "output_type": "stream",
     "text": [
      " 81%|████████▏ | 1085/1333 [08:16<01:53,  2.19batch/s]"
     ]
    },
    {
     "name": "stdout",
     "output_type": "stream",
     "text": [
      "GS______ [SE3: size=torch.Size([6, 2]), device=cuda:0, dtype=torch.float32]\n",
      "GS[0]__ __ __  SE3: size=torch.Size([6, 2]), device=cuda:0, dtype=torch.float32\n",
      "GS[0][:,jj] SE3: size=torch.Size([6, 2]), device=cuda:0, dtype=torch.float32\n"
     ]
    },
    {
     "name": "stderr",
     "output_type": "stream",
     "text": [
      " 81%|████████▏ | 1086/1333 [08:17<01:52,  2.19batch/s]"
     ]
    },
    {
     "name": "stdout",
     "output_type": "stream",
     "text": [
      "GS______ [SE3: size=torch.Size([6, 2]), device=cuda:0, dtype=torch.float32]\n",
      "GS[0]__ __ __  SE3: size=torch.Size([6, 2]), device=cuda:0, dtype=torch.float32\n",
      "GS[0][:,jj] SE3: size=torch.Size([6, 2]), device=cuda:0, dtype=torch.float32\n"
     ]
    },
    {
     "name": "stderr",
     "output_type": "stream",
     "text": [
      " 82%|████████▏ | 1087/1333 [08:17<01:51,  2.20batch/s]"
     ]
    },
    {
     "name": "stdout",
     "output_type": "stream",
     "text": [
      "GS______ [SE3: size=torch.Size([6, 2]), device=cuda:0, dtype=torch.float32]\n",
      "GS[0]__ __ __  SE3: size=torch.Size([6, 2]), device=cuda:0, dtype=torch.float32\n",
      "GS[0][:,jj] SE3: size=torch.Size([6, 2]), device=cuda:0, dtype=torch.float32\n"
     ]
    },
    {
     "name": "stderr",
     "output_type": "stream",
     "text": [
      " 82%|████████▏ | 1088/1333 [08:18<01:52,  2.18batch/s]"
     ]
    },
    {
     "name": "stdout",
     "output_type": "stream",
     "text": [
      "GS______ [SE3: size=torch.Size([6, 2]), device=cuda:0, dtype=torch.float32]\n",
      "GS[0]__ __ __  SE3: size=torch.Size([6, 2]), device=cuda:0, dtype=torch.float32\n",
      "GS[0][:,jj] SE3: size=torch.Size([6, 2]), device=cuda:0, dtype=torch.float32\n"
     ]
    },
    {
     "name": "stderr",
     "output_type": "stream",
     "text": [
      " 82%|████████▏ | 1089/1333 [08:18<01:52,  2.17batch/s]"
     ]
    },
    {
     "name": "stdout",
     "output_type": "stream",
     "text": [
      "GS______ [SE3: size=torch.Size([6, 2]), device=cuda:0, dtype=torch.float32]\n",
      "GS[0]__ __ __  SE3: size=torch.Size([6, 2]), device=cuda:0, dtype=torch.float32\n",
      "GS[0][:,jj] SE3: size=torch.Size([6, 2]), device=cuda:0, dtype=torch.float32\n"
     ]
    },
    {
     "name": "stderr",
     "output_type": "stream",
     "text": [
      " 82%|████████▏ | 1090/1333 [08:19<01:51,  2.17batch/s]"
     ]
    },
    {
     "name": "stdout",
     "output_type": "stream",
     "text": [
      "GS______ [SE3: size=torch.Size([6, 2]), device=cuda:0, dtype=torch.float32]\n",
      "GS[0]__ __ __  SE3: size=torch.Size([6, 2]), device=cuda:0, dtype=torch.float32\n",
      "GS[0][:,jj] SE3: size=torch.Size([6, 2]), device=cuda:0, dtype=torch.float32\n"
     ]
    },
    {
     "name": "stderr",
     "output_type": "stream",
     "text": [
      " 82%|████████▏ | 1091/1333 [08:19<01:51,  2.18batch/s]"
     ]
    },
    {
     "name": "stdout",
     "output_type": "stream",
     "text": [
      "GS______ [SE3: size=torch.Size([6, 2]), device=cuda:0, dtype=torch.float32]\n",
      "GS[0]__ __ __  SE3: size=torch.Size([6, 2]), device=cuda:0, dtype=torch.float32\n",
      "GS[0][:,jj] SE3: size=torch.Size([6, 2]), device=cuda:0, dtype=torch.float32\n"
     ]
    },
    {
     "name": "stderr",
     "output_type": "stream",
     "text": [
      " 82%|████████▏ | 1092/1333 [08:19<01:51,  2.16batch/s]"
     ]
    },
    {
     "name": "stdout",
     "output_type": "stream",
     "text": [
      "GS______ [SE3: size=torch.Size([6, 2]), device=cuda:0, dtype=torch.float32]\n",
      "GS[0]__ __ __  SE3: size=torch.Size([6, 2]), device=cuda:0, dtype=torch.float32\n",
      "GS[0][:,jj] SE3: size=torch.Size([6, 2]), device=cuda:0, dtype=torch.float32\n"
     ]
    },
    {
     "name": "stderr",
     "output_type": "stream",
     "text": [
      " 82%|████████▏ | 1093/1333 [08:20<01:50,  2.17batch/s]"
     ]
    },
    {
     "name": "stdout",
     "output_type": "stream",
     "text": [
      "GS______ [SE3: size=torch.Size([6, 2]), device=cuda:0, dtype=torch.float32]\n",
      "GS[0]__ __ __  SE3: size=torch.Size([6, 2]), device=cuda:0, dtype=torch.float32\n",
      "GS[0][:,jj] SE3: size=torch.Size([6, 2]), device=cuda:0, dtype=torch.float32\n"
     ]
    },
    {
     "name": "stderr",
     "output_type": "stream",
     "text": [
      " 82%|████████▏ | 1094/1333 [08:20<01:49,  2.18batch/s]"
     ]
    },
    {
     "name": "stdout",
     "output_type": "stream",
     "text": [
      "GS______ [SE3: size=torch.Size([6, 2]), device=cuda:0, dtype=torch.float32]\n",
      "GS[0]__ __ __  SE3: size=torch.Size([6, 2]), device=cuda:0, dtype=torch.float32\n",
      "GS[0][:,jj] SE3: size=torch.Size([6, 2]), device=cuda:0, dtype=torch.float32\n"
     ]
    },
    {
     "name": "stderr",
     "output_type": "stream",
     "text": [
      " 82%|████████▏ | 1095/1333 [08:21<01:49,  2.17batch/s]"
     ]
    },
    {
     "name": "stdout",
     "output_type": "stream",
     "text": [
      "GS______ [SE3: size=torch.Size([6, 2]), device=cuda:0, dtype=torch.float32]\n",
      "GS[0]__ __ __  SE3: size=torch.Size([6, 2]), device=cuda:0, dtype=torch.float32\n",
      "GS[0][:,jj] SE3: size=torch.Size([6, 2]), device=cuda:0, dtype=torch.float32\n"
     ]
    },
    {
     "name": "stderr",
     "output_type": "stream",
     "text": [
      " 82%|████████▏ | 1096/1333 [08:21<01:49,  2.17batch/s]"
     ]
    },
    {
     "name": "stdout",
     "output_type": "stream",
     "text": [
      "GS______ [SE3: size=torch.Size([6, 2]), device=cuda:0, dtype=torch.float32]\n",
      "GS[0]__ __ __  SE3: size=torch.Size([6, 2]), device=cuda:0, dtype=torch.float32\n",
      "GS[0][:,jj] SE3: size=torch.Size([6, 2]), device=cuda:0, dtype=torch.float32\n"
     ]
    },
    {
     "name": "stderr",
     "output_type": "stream",
     "text": [
      " 82%|████████▏ | 1097/1333 [08:22<01:46,  2.21batch/s]"
     ]
    },
    {
     "name": "stdout",
     "output_type": "stream",
     "text": [
      "GS______ [SE3: size=torch.Size([6, 2]), device=cuda:0, dtype=torch.float32]\n",
      "GS[0]__ __ __  SE3: size=torch.Size([6, 2]), device=cuda:0, dtype=torch.float32\n",
      "GS[0][:,jj] SE3: size=torch.Size([6, 2]), device=cuda:0, dtype=torch.float32\n"
     ]
    },
    {
     "name": "stderr",
     "output_type": "stream",
     "text": [
      " 82%|████████▏ | 1098/1333 [08:22<01:46,  2.21batch/s]"
     ]
    },
    {
     "name": "stdout",
     "output_type": "stream",
     "text": [
      "GS______ [SE3: size=torch.Size([6, 2]), device=cuda:0, dtype=torch.float32]\n",
      "GS[0]__ __ __  SE3: size=torch.Size([6, 2]), device=cuda:0, dtype=torch.float32\n",
      "GS[0][:,jj] SE3: size=torch.Size([6, 2]), device=cuda:0, dtype=torch.float32\n"
     ]
    },
    {
     "name": "stderr",
     "output_type": "stream",
     "text": [
      " 82%|████████▏ | 1099/1333 [08:23<01:45,  2.23batch/s]"
     ]
    },
    {
     "name": "stdout",
     "output_type": "stream",
     "text": [
      "GS______ [SE3: size=torch.Size([6, 2]), device=cuda:0, dtype=torch.float32]\n",
      "GS[0]__ __ __  SE3: size=torch.Size([6, 2]), device=cuda:0, dtype=torch.float32\n",
      "GS[0][:,jj] SE3: size=torch.Size([6, 2]), device=cuda:0, dtype=torch.float32\n"
     ]
    },
    {
     "name": "stderr",
     "output_type": "stream",
     "text": [
      " 83%|████████▎ | 1100/1333 [08:23<01:46,  2.19batch/s]"
     ]
    },
    {
     "name": "stdout",
     "output_type": "stream",
     "text": [
      "GS______ [SE3: size=torch.Size([6, 2]), device=cuda:0, dtype=torch.float32]\n",
      "GS[0]__ __ __  SE3: size=torch.Size([6, 2]), device=cuda:0, dtype=torch.float32\n",
      "GS[0][:,jj] SE3: size=torch.Size([6, 2]), device=cuda:0, dtype=torch.float32\n"
     ]
    },
    {
     "name": "stderr",
     "output_type": "stream",
     "text": [
      " 83%|████████▎ | 1101/1333 [08:24<01:51,  2.08batch/s]"
     ]
    },
    {
     "name": "stdout",
     "output_type": "stream",
     "text": [
      "GS______ [SE3: size=torch.Size([6, 2]), device=cuda:0, dtype=torch.float32]\n",
      "GS[0]__ __ __  SE3: size=torch.Size([6, 2]), device=cuda:0, dtype=torch.float32\n",
      "GS[0][:,jj] SE3: size=torch.Size([6, 2]), device=cuda:0, dtype=torch.float32\n"
     ]
    },
    {
     "name": "stderr",
     "output_type": "stream",
     "text": [
      " 83%|████████▎ | 1102/1333 [08:24<01:50,  2.10batch/s]"
     ]
    },
    {
     "name": "stdout",
     "output_type": "stream",
     "text": [
      "GS______ [SE3: size=torch.Size([6, 2]), device=cuda:0, dtype=torch.float32]\n",
      "GS[0]__ __ __  SE3: size=torch.Size([6, 2]), device=cuda:0, dtype=torch.float32\n",
      "GS[0][:,jj] SE3: size=torch.Size([6, 2]), device=cuda:0, dtype=torch.float32\n"
     ]
    },
    {
     "name": "stderr",
     "output_type": "stream",
     "text": [
      " 83%|████████▎ | 1103/1333 [08:25<01:47,  2.13batch/s]"
     ]
    },
    {
     "name": "stdout",
     "output_type": "stream",
     "text": [
      "GS______ [SE3: size=torch.Size([6, 2]), device=cuda:0, dtype=torch.float32]\n",
      "GS[0]__ __ __  SE3: size=torch.Size([6, 2]), device=cuda:0, dtype=torch.float32\n",
      "GS[0][:,jj] SE3: size=torch.Size([6, 2]), device=cuda:0, dtype=torch.float32\n"
     ]
    },
    {
     "name": "stderr",
     "output_type": "stream",
     "text": [
      " 83%|████████▎ | 1104/1333 [08:25<01:47,  2.14batch/s]"
     ]
    },
    {
     "name": "stdout",
     "output_type": "stream",
     "text": [
      "GS______ [SE3: size=torch.Size([6, 2]), device=cuda:0, dtype=torch.float32]\n",
      "GS[0]__ __ __  SE3: size=torch.Size([6, 2]), device=cuda:0, dtype=torch.float32\n",
      "GS[0][:,jj] SE3: size=torch.Size([6, 2]), device=cuda:0, dtype=torch.float32\n"
     ]
    },
    {
     "name": "stderr",
     "output_type": "stream",
     "text": [
      " 83%|████████▎ | 1105/1333 [08:25<01:45,  2.16batch/s]"
     ]
    },
    {
     "name": "stdout",
     "output_type": "stream",
     "text": [
      "GS______ [SE3: size=torch.Size([6, 2]), device=cuda:0, dtype=torch.float32]\n",
      "GS[0]__ __ __  SE3: size=torch.Size([6, 2]), device=cuda:0, dtype=torch.float32\n",
      "GS[0][:,jj] SE3: size=torch.Size([6, 2]), device=cuda:0, dtype=torch.float32\n"
     ]
    },
    {
     "name": "stderr",
     "output_type": "stream",
     "text": [
      " 83%|████████▎ | 1106/1333 [08:26<01:43,  2.19batch/s]"
     ]
    },
    {
     "name": "stdout",
     "output_type": "stream",
     "text": [
      "GS______ [SE3: size=torch.Size([6, 2]), device=cuda:0, dtype=torch.float32]\n",
      "GS[0]__ __ __  SE3: size=torch.Size([6, 2]), device=cuda:0, dtype=torch.float32\n",
      "GS[0][:,jj] SE3: size=torch.Size([6, 2]), device=cuda:0, dtype=torch.float32\n"
     ]
    },
    {
     "name": "stderr",
     "output_type": "stream",
     "text": [
      " 83%|████████▎ | 1107/1333 [08:26<01:43,  2.18batch/s]"
     ]
    },
    {
     "name": "stdout",
     "output_type": "stream",
     "text": [
      "GS______ [SE3: size=torch.Size([6, 2]), device=cuda:0, dtype=torch.float32]\n",
      "GS[0]__ __ __  SE3: size=torch.Size([6, 2]), device=cuda:0, dtype=torch.float32\n",
      "GS[0][:,jj] SE3: size=torch.Size([6, 2]), device=cuda:0, dtype=torch.float32\n"
     ]
    },
    {
     "name": "stderr",
     "output_type": "stream",
     "text": [
      " 83%|████████▎ | 1108/1333 [08:27<01:42,  2.20batch/s]"
     ]
    },
    {
     "name": "stdout",
     "output_type": "stream",
     "text": [
      "GS______ [SE3: size=torch.Size([6, 2]), device=cuda:0, dtype=torch.float32]\n",
      "GS[0]__ __ __  SE3: size=torch.Size([6, 2]), device=cuda:0, dtype=torch.float32\n",
      "GS[0][:,jj] SE3: size=torch.Size([6, 2]), device=cuda:0, dtype=torch.float32\n"
     ]
    },
    {
     "name": "stderr",
     "output_type": "stream",
     "text": [
      " 83%|████████▎ | 1109/1333 [08:27<01:40,  2.23batch/s]"
     ]
    },
    {
     "name": "stdout",
     "output_type": "stream",
     "text": [
      "GS______ [SE3: size=torch.Size([6, 2]), device=cuda:0, dtype=torch.float32]\n",
      "GS[0]__ __ __  SE3: size=torch.Size([6, 2]), device=cuda:0, dtype=torch.float32\n",
      "GS[0][:,jj] SE3: size=torch.Size([6, 2]), device=cuda:0, dtype=torch.float32\n"
     ]
    },
    {
     "name": "stderr",
     "output_type": "stream",
     "text": [
      " 83%|████████▎ | 1110/1333 [08:28<01:40,  2.22batch/s]"
     ]
    },
    {
     "name": "stdout",
     "output_type": "stream",
     "text": [
      "GS______ [SE3: size=torch.Size([6, 2]), device=cuda:0, dtype=torch.float32]\n",
      "GS[0]__ __ __  SE3: size=torch.Size([6, 2]), device=cuda:0, dtype=torch.float32\n",
      "GS[0][:,jj] SE3: size=torch.Size([6, 2]), device=cuda:0, dtype=torch.float32\n"
     ]
    },
    {
     "name": "stderr",
     "output_type": "stream",
     "text": [
      " 83%|████████▎ | 1111/1333 [08:28<01:39,  2.24batch/s]"
     ]
    },
    {
     "name": "stdout",
     "output_type": "stream",
     "text": [
      "GS______ [SE3: size=torch.Size([6, 2]), device=cuda:0, dtype=torch.float32]\n",
      "GS[0]__ __ __  SE3: size=torch.Size([6, 2]), device=cuda:0, dtype=torch.float32\n",
      "GS[0][:,jj] SE3: size=torch.Size([6, 2]), device=cuda:0, dtype=torch.float32\n"
     ]
    },
    {
     "name": "stderr",
     "output_type": "stream",
     "text": [
      " 83%|████████▎ | 1112/1333 [08:29<01:38,  2.25batch/s]"
     ]
    },
    {
     "name": "stdout",
     "output_type": "stream",
     "text": [
      "GS______ [SE3: size=torch.Size([6, 2]), device=cuda:0, dtype=torch.float32]\n",
      "GS[0]__ __ __  SE3: size=torch.Size([6, 2]), device=cuda:0, dtype=torch.float32\n",
      "GS[0][:,jj] SE3: size=torch.Size([6, 2]), device=cuda:0, dtype=torch.float32\n"
     ]
    },
    {
     "name": "stderr",
     "output_type": "stream",
     "text": [
      " 83%|████████▎ | 1113/1333 [08:29<01:38,  2.22batch/s]"
     ]
    },
    {
     "name": "stdout",
     "output_type": "stream",
     "text": [
      "GS______ [SE3: size=torch.Size([6, 2]), device=cuda:0, dtype=torch.float32]\n",
      "GS[0]__ __ __  SE3: size=torch.Size([6, 2]), device=cuda:0, dtype=torch.float32\n",
      "GS[0][:,jj] SE3: size=torch.Size([6, 2]), device=cuda:0, dtype=torch.float32\n"
     ]
    },
    {
     "name": "stderr",
     "output_type": "stream",
     "text": [
      " 84%|████████▎ | 1114/1333 [08:29<01:38,  2.23batch/s]"
     ]
    },
    {
     "name": "stdout",
     "output_type": "stream",
     "text": [
      "GS______ [SE3: size=torch.Size([6, 2]), device=cuda:0, dtype=torch.float32]\n",
      "GS[0]__ __ __  SE3: size=torch.Size([6, 2]), device=cuda:0, dtype=torch.float32\n",
      "GS[0][:,jj] SE3: size=torch.Size([6, 2]), device=cuda:0, dtype=torch.float32\n"
     ]
    },
    {
     "name": "stderr",
     "output_type": "stream",
     "text": [
      " 84%|████████▎ | 1115/1333 [08:30<01:38,  2.22batch/s]"
     ]
    },
    {
     "name": "stdout",
     "output_type": "stream",
     "text": [
      "GS______ [SE3: size=torch.Size([6, 2]), device=cuda:0, dtype=torch.float32]\n",
      "GS[0]__ __ __  SE3: size=torch.Size([6, 2]), device=cuda:0, dtype=torch.float32\n",
      "GS[0][:,jj] SE3: size=torch.Size([6, 2]), device=cuda:0, dtype=torch.float32\n"
     ]
    },
    {
     "name": "stderr",
     "output_type": "stream",
     "text": [
      " 84%|████████▎ | 1116/1333 [08:30<01:37,  2.22batch/s]"
     ]
    },
    {
     "name": "stdout",
     "output_type": "stream",
     "text": [
      "GS______ [SE3: size=torch.Size([6, 2]), device=cuda:0, dtype=torch.float32]\n",
      "GS[0]__ __ __  SE3: size=torch.Size([6, 2]), device=cuda:0, dtype=torch.float32\n",
      "GS[0][:,jj] SE3: size=torch.Size([6, 2]), device=cuda:0, dtype=torch.float32\n"
     ]
    },
    {
     "name": "stderr",
     "output_type": "stream",
     "text": [
      " 84%|████████▍ | 1117/1333 [08:31<01:36,  2.24batch/s]"
     ]
    },
    {
     "name": "stdout",
     "output_type": "stream",
     "text": [
      "GS______ [SE3: size=torch.Size([6, 2]), device=cuda:0, dtype=torch.float32]\n",
      "GS[0]__ __ __  SE3: size=torch.Size([6, 2]), device=cuda:0, dtype=torch.float32\n",
      "GS[0][:,jj] SE3: size=torch.Size([6, 2]), device=cuda:0, dtype=torch.float32\n"
     ]
    },
    {
     "name": "stderr",
     "output_type": "stream",
     "text": [
      " 84%|████████▍ | 1118/1333 [08:31<01:35,  2.24batch/s]"
     ]
    },
    {
     "name": "stdout",
     "output_type": "stream",
     "text": [
      "GS______ [SE3: size=torch.Size([6, 2]), device=cuda:0, dtype=torch.float32]\n",
      "GS[0]__ __ __  SE3: size=torch.Size([6, 2]), device=cuda:0, dtype=torch.float32\n",
      "GS[0][:,jj] SE3: size=torch.Size([6, 2]), device=cuda:0, dtype=torch.float32\n"
     ]
    },
    {
     "name": "stderr",
     "output_type": "stream",
     "text": [
      " 84%|████████▍ | 1119/1333 [08:32<01:36,  2.21batch/s]"
     ]
    },
    {
     "name": "stdout",
     "output_type": "stream",
     "text": [
      "GS______ [SE3: size=torch.Size([6, 2]), device=cuda:0, dtype=torch.float32]\n",
      "GS[0]__ __ __  SE3: size=torch.Size([6, 2]), device=cuda:0, dtype=torch.float32\n",
      "GS[0][:,jj] SE3: size=torch.Size([6, 2]), device=cuda:0, dtype=torch.float32\n"
     ]
    },
    {
     "name": "stderr",
     "output_type": "stream",
     "text": [
      " 84%|████████▍ | 1120/1333 [08:32<01:36,  2.21batch/s]"
     ]
    },
    {
     "name": "stdout",
     "output_type": "stream",
     "text": [
      "GS______ [SE3: size=torch.Size([6, 2]), device=cuda:0, dtype=torch.float32]\n",
      "GS[0]__ __ __  SE3: size=torch.Size([6, 2]), device=cuda:0, dtype=torch.float32\n",
      "GS[0][:,jj] SE3: size=torch.Size([6, 2]), device=cuda:0, dtype=torch.float32\n"
     ]
    },
    {
     "name": "stderr",
     "output_type": "stream",
     "text": [
      " 84%|████████▍ | 1121/1333 [08:33<01:36,  2.20batch/s]"
     ]
    },
    {
     "name": "stdout",
     "output_type": "stream",
     "text": [
      "GS______ [SE3: size=torch.Size([6, 2]), device=cuda:0, dtype=torch.float32]\n",
      "GS[0]__ __ __  SE3: size=torch.Size([6, 2]), device=cuda:0, dtype=torch.float32\n",
      "GS[0][:,jj] SE3: size=torch.Size([6, 2]), device=cuda:0, dtype=torch.float32\n"
     ]
    },
    {
     "name": "stderr",
     "output_type": "stream",
     "text": [
      " 84%|████████▍ | 1122/1333 [08:33<01:36,  2.18batch/s]"
     ]
    },
    {
     "name": "stdout",
     "output_type": "stream",
     "text": [
      "GS______ [SE3: size=torch.Size([6, 2]), device=cuda:0, dtype=torch.float32]\n",
      "GS[0]__ __ __  SE3: size=torch.Size([6, 2]), device=cuda:0, dtype=torch.float32\n",
      "GS[0][:,jj] SE3: size=torch.Size([6, 2]), device=cuda:0, dtype=torch.float32\n"
     ]
    },
    {
     "name": "stderr",
     "output_type": "stream",
     "text": [
      " 84%|████████▍ | 1123/1333 [08:34<01:38,  2.13batch/s]"
     ]
    },
    {
     "name": "stdout",
     "output_type": "stream",
     "text": [
      "GS______ [SE3: size=torch.Size([6, 2]), device=cuda:0, dtype=torch.float32]\n",
      "GS[0]__ __ __  SE3: size=torch.Size([6, 2]), device=cuda:0, dtype=torch.float32\n",
      "GS[0][:,jj] SE3: size=torch.Size([6, 2]), device=cuda:0, dtype=torch.float32\n"
     ]
    },
    {
     "name": "stderr",
     "output_type": "stream",
     "text": [
      " 84%|████████▍ | 1124/1333 [08:34<01:40,  2.08batch/s]"
     ]
    },
    {
     "name": "stdout",
     "output_type": "stream",
     "text": [
      "GS______ [SE3: size=torch.Size([6, 2]), device=cuda:0, dtype=torch.float32]\n",
      "GS[0]__ __ __  SE3: size=torch.Size([6, 2]), device=cuda:0, dtype=torch.float32\n",
      "GS[0][:,jj] SE3: size=torch.Size([6, 2]), device=cuda:0, dtype=torch.float32\n"
     ]
    },
    {
     "name": "stderr",
     "output_type": "stream",
     "text": [
      " 84%|████████▍ | 1125/1333 [08:35<01:39,  2.09batch/s]"
     ]
    },
    {
     "name": "stdout",
     "output_type": "stream",
     "text": [
      "GS______ [SE3: size=torch.Size([6, 2]), device=cuda:0, dtype=torch.float32]\n",
      "GS[0]__ __ __  SE3: size=torch.Size([6, 2]), device=cuda:0, dtype=torch.float32\n",
      "GS[0][:,jj] SE3: size=torch.Size([6, 2]), device=cuda:0, dtype=torch.float32\n"
     ]
    },
    {
     "name": "stderr",
     "output_type": "stream",
     "text": [
      " 84%|████████▍ | 1126/1333 [08:35<01:38,  2.11batch/s]"
     ]
    },
    {
     "name": "stdout",
     "output_type": "stream",
     "text": [
      "GS______ [SE3: size=torch.Size([6, 2]), device=cuda:0, dtype=torch.float32]\n",
      "GS[0]__ __ __  SE3: size=torch.Size([6, 2]), device=cuda:0, dtype=torch.float32\n",
      "GS[0][:,jj] SE3: size=torch.Size([6, 2]), device=cuda:0, dtype=torch.float32\n"
     ]
    },
    {
     "name": "stderr",
     "output_type": "stream",
     "text": [
      " 85%|████████▍ | 1127/1333 [08:36<01:37,  2.12batch/s]"
     ]
    },
    {
     "name": "stdout",
     "output_type": "stream",
     "text": [
      "GS______ [SE3: size=torch.Size([6, 2]), device=cuda:0, dtype=torch.float32]\n",
      "GS[0]__ __ __  SE3: size=torch.Size([6, 2]), device=cuda:0, dtype=torch.float32\n",
      "GS[0][:,jj] SE3: size=torch.Size([6, 2]), device=cuda:0, dtype=torch.float32\n"
     ]
    },
    {
     "name": "stderr",
     "output_type": "stream",
     "text": [
      " 85%|████████▍ | 1128/1333 [08:36<01:36,  2.13batch/s]"
     ]
    },
    {
     "name": "stdout",
     "output_type": "stream",
     "text": [
      "GS______ [SE3: size=torch.Size([6, 2]), device=cuda:0, dtype=torch.float32]\n",
      "GS[0]__ __ __  SE3: size=torch.Size([6, 2]), device=cuda:0, dtype=torch.float32\n",
      "GS[0][:,jj] SE3: size=torch.Size([6, 2]), device=cuda:0, dtype=torch.float32\n"
     ]
    },
    {
     "name": "stderr",
     "output_type": "stream",
     "text": [
      " 85%|████████▍ | 1129/1333 [08:36<01:36,  2.12batch/s]"
     ]
    },
    {
     "name": "stdout",
     "output_type": "stream",
     "text": [
      "GS______ [SE3: size=torch.Size([6, 2]), device=cuda:0, dtype=torch.float32]\n",
      "GS[0]__ __ __  SE3: size=torch.Size([6, 2]), device=cuda:0, dtype=torch.float32\n",
      "GS[0][:,jj] SE3: size=torch.Size([6, 2]), device=cuda:0, dtype=torch.float32\n"
     ]
    },
    {
     "name": "stderr",
     "output_type": "stream",
     "text": [
      " 85%|████████▍ | 1130/1333 [08:37<01:34,  2.14batch/s]"
     ]
    },
    {
     "name": "stdout",
     "output_type": "stream",
     "text": [
      "GS______ [SE3: size=torch.Size([6, 2]), device=cuda:0, dtype=torch.float32]\n",
      "GS[0]__ __ __  SE3: size=torch.Size([6, 2]), device=cuda:0, dtype=torch.float32\n",
      "GS[0][:,jj] SE3: size=torch.Size([6, 2]), device=cuda:0, dtype=torch.float32\n"
     ]
    },
    {
     "name": "stderr",
     "output_type": "stream",
     "text": [
      " 85%|████████▍ | 1131/1333 [08:37<01:34,  2.13batch/s]"
     ]
    },
    {
     "name": "stdout",
     "output_type": "stream",
     "text": [
      "GS______ [SE3: size=torch.Size([6, 2]), device=cuda:0, dtype=torch.float32]\n",
      "GS[0]__ __ __  SE3: size=torch.Size([6, 2]), device=cuda:0, dtype=torch.float32\n",
      "GS[0][:,jj] SE3: size=torch.Size([6, 2]), device=cuda:0, dtype=torch.float32\n"
     ]
    },
    {
     "name": "stderr",
     "output_type": "stream",
     "text": [
      " 85%|████████▍ | 1132/1333 [08:38<01:34,  2.13batch/s]"
     ]
    },
    {
     "name": "stdout",
     "output_type": "stream",
     "text": [
      "GS______ [SE3: size=torch.Size([6, 2]), device=cuda:0, dtype=torch.float32]\n",
      "GS[0]__ __ __  SE3: size=torch.Size([6, 2]), device=cuda:0, dtype=torch.float32\n",
      "GS[0][:,jj] SE3: size=torch.Size([6, 2]), device=cuda:0, dtype=torch.float32\n"
     ]
    },
    {
     "name": "stderr",
     "output_type": "stream",
     "text": [
      " 85%|████████▍ | 1133/1333 [08:38<01:34,  2.12batch/s]"
     ]
    },
    {
     "name": "stdout",
     "output_type": "stream",
     "text": [
      "GS______ [SE3: size=torch.Size([6, 2]), device=cuda:0, dtype=torch.float32]\n",
      "GS[0]__ __ __  SE3: size=torch.Size([6, 2]), device=cuda:0, dtype=torch.float32\n",
      "GS[0][:,jj] SE3: size=torch.Size([6, 2]), device=cuda:0, dtype=torch.float32\n"
     ]
    },
    {
     "name": "stderr",
     "output_type": "stream",
     "text": [
      " 85%|████████▌ | 1134/1333 [08:39<01:32,  2.14batch/s]"
     ]
    },
    {
     "name": "stdout",
     "output_type": "stream",
     "text": [
      "GS______ [SE3: size=torch.Size([6, 2]), device=cuda:0, dtype=torch.float32]\n",
      "GS[0]__ __ __  SE3: size=torch.Size([6, 2]), device=cuda:0, dtype=torch.float32\n",
      "GS[0][:,jj] SE3: size=torch.Size([6, 2]), device=cuda:0, dtype=torch.float32\n"
     ]
    },
    {
     "name": "stderr",
     "output_type": "stream",
     "text": [
      " 85%|████████▌ | 1135/1333 [08:39<01:31,  2.16batch/s]"
     ]
    },
    {
     "name": "stdout",
     "output_type": "stream",
     "text": [
      "GS______ [SE3: size=torch.Size([6, 2]), device=cuda:0, dtype=torch.float32]\n",
      "GS[0]__ __ __  SE3: size=torch.Size([6, 2]), device=cuda:0, dtype=torch.float32\n",
      "GS[0][:,jj] SE3: size=torch.Size([6, 2]), device=cuda:0, dtype=torch.float32\n"
     ]
    },
    {
     "name": "stderr",
     "output_type": "stream",
     "text": [
      " 85%|████████▌ | 1136/1333 [08:40<01:30,  2.17batch/s]"
     ]
    },
    {
     "name": "stdout",
     "output_type": "stream",
     "text": [
      "GS______ [SE3: size=torch.Size([6, 2]), device=cuda:0, dtype=torch.float32]\n",
      "GS[0]__ __ __  SE3: size=torch.Size([6, 2]), device=cuda:0, dtype=torch.float32\n",
      "GS[0][:,jj] SE3: size=torch.Size([6, 2]), device=cuda:0, dtype=torch.float32\n"
     ]
    },
    {
     "name": "stderr",
     "output_type": "stream",
     "text": [
      " 85%|████████▌ | 1137/1333 [08:40<01:29,  2.18batch/s]"
     ]
    },
    {
     "name": "stdout",
     "output_type": "stream",
     "text": [
      "GS______ [SE3: size=torch.Size([6, 2]), device=cuda:0, dtype=torch.float32]\n",
      "GS[0]__ __ __  SE3: size=torch.Size([6, 2]), device=cuda:0, dtype=torch.float32\n",
      "GS[0][:,jj] SE3: size=torch.Size([6, 2]), device=cuda:0, dtype=torch.float32\n"
     ]
    },
    {
     "name": "stderr",
     "output_type": "stream",
     "text": [
      " 85%|████████▌ | 1138/1333 [08:41<01:29,  2.19batch/s]"
     ]
    },
    {
     "name": "stdout",
     "output_type": "stream",
     "text": [
      "GS______ [SE3: size=torch.Size([6, 2]), device=cuda:0, dtype=torch.float32]\n",
      "GS[0]__ __ __  SE3: size=torch.Size([6, 2]), device=cuda:0, dtype=torch.float32\n",
      "GS[0][:,jj] SE3: size=torch.Size([6, 2]), device=cuda:0, dtype=torch.float32\n"
     ]
    },
    {
     "name": "stderr",
     "output_type": "stream",
     "text": [
      " 85%|████████▌ | 1139/1333 [08:41<01:29,  2.17batch/s]"
     ]
    },
    {
     "name": "stdout",
     "output_type": "stream",
     "text": [
      "GS______ [SE3: size=torch.Size([6, 2]), device=cuda:0, dtype=torch.float32]\n",
      "GS[0]__ __ __  SE3: size=torch.Size([6, 2]), device=cuda:0, dtype=torch.float32\n",
      "GS[0][:,jj] SE3: size=torch.Size([6, 2]), device=cuda:0, dtype=torch.float32\n"
     ]
    },
    {
     "name": "stderr",
     "output_type": "stream",
     "text": [
      " 86%|████████▌ | 1140/1333 [08:42<01:28,  2.17batch/s]"
     ]
    },
    {
     "name": "stdout",
     "output_type": "stream",
     "text": [
      "GS______ [SE3: size=torch.Size([6, 2]), device=cuda:0, dtype=torch.float32]\n",
      "GS[0]__ __ __  SE3: size=torch.Size([6, 2]), device=cuda:0, dtype=torch.float32\n",
      "GS[0][:,jj] SE3: size=torch.Size([6, 2]), device=cuda:0, dtype=torch.float32\n"
     ]
    },
    {
     "name": "stderr",
     "output_type": "stream",
     "text": [
      " 86%|████████▌ | 1141/1333 [08:42<01:28,  2.18batch/s]"
     ]
    },
    {
     "name": "stdout",
     "output_type": "stream",
     "text": [
      "GS______ [SE3: size=torch.Size([6, 2]), device=cuda:0, dtype=torch.float32]\n",
      "GS[0]__ __ __  SE3: size=torch.Size([6, 2]), device=cuda:0, dtype=torch.float32\n",
      "GS[0][:,jj] SE3: size=torch.Size([6, 2]), device=cuda:0, dtype=torch.float32\n"
     ]
    },
    {
     "name": "stderr",
     "output_type": "stream",
     "text": [
      " 86%|████████▌ | 1142/1333 [08:42<01:27,  2.17batch/s]"
     ]
    },
    {
     "name": "stdout",
     "output_type": "stream",
     "text": [
      "GS______ [SE3: size=torch.Size([6, 2]), device=cuda:0, dtype=torch.float32]\n",
      "GS[0]__ __ __  SE3: size=torch.Size([6, 2]), device=cuda:0, dtype=torch.float32\n",
      "GS[0][:,jj] SE3: size=torch.Size([6, 2]), device=cuda:0, dtype=torch.float32\n"
     ]
    },
    {
     "name": "stderr",
     "output_type": "stream",
     "text": [
      " 86%|████████▌ | 1143/1333 [08:43<01:26,  2.18batch/s]"
     ]
    },
    {
     "name": "stdout",
     "output_type": "stream",
     "text": [
      "GS______ [SE3: size=torch.Size([6, 2]), device=cuda:0, dtype=torch.float32]\n",
      "GS[0]__ __ __  SE3: size=torch.Size([6, 2]), device=cuda:0, dtype=torch.float32\n",
      "GS[0][:,jj] SE3: size=torch.Size([6, 2]), device=cuda:0, dtype=torch.float32\n"
     ]
    },
    {
     "name": "stderr",
     "output_type": "stream",
     "text": [
      " 86%|████████▌ | 1144/1333 [08:43<01:27,  2.16batch/s]"
     ]
    },
    {
     "name": "stdout",
     "output_type": "stream",
     "text": [
      "GS______ [SE3: size=torch.Size([6, 2]), device=cuda:0, dtype=torch.float32]\n",
      "GS[0]__ __ __  SE3: size=torch.Size([6, 2]), device=cuda:0, dtype=torch.float32\n",
      "GS[0][:,jj] SE3: size=torch.Size([6, 2]), device=cuda:0, dtype=torch.float32\n"
     ]
    },
    {
     "name": "stderr",
     "output_type": "stream",
     "text": [
      " 86%|████████▌ | 1145/1333 [08:44<01:27,  2.15batch/s]"
     ]
    },
    {
     "name": "stdout",
     "output_type": "stream",
     "text": [
      "GS______ [SE3: size=torch.Size([6, 2]), device=cuda:0, dtype=torch.float32]\n",
      "GS[0]__ __ __  SE3: size=torch.Size([6, 2]), device=cuda:0, dtype=torch.float32\n",
      "GS[0][:,jj] SE3: size=torch.Size([6, 2]), device=cuda:0, dtype=torch.float32\n"
     ]
    },
    {
     "name": "stderr",
     "output_type": "stream",
     "text": [
      " 86%|████████▌ | 1146/1333 [08:44<01:27,  2.14batch/s]"
     ]
    },
    {
     "name": "stdout",
     "output_type": "stream",
     "text": [
      "GS______ [SE3: size=torch.Size([6, 2]), device=cuda:0, dtype=torch.float32]\n",
      "GS[0]__ __ __  SE3: size=torch.Size([6, 2]), device=cuda:0, dtype=torch.float32\n",
      "GS[0][:,jj] SE3: size=torch.Size([6, 2]), device=cuda:0, dtype=torch.float32\n"
     ]
    },
    {
     "name": "stderr",
     "output_type": "stream",
     "text": [
      " 86%|████████▌ | 1147/1333 [08:45<01:25,  2.18batch/s]"
     ]
    },
    {
     "name": "stdout",
     "output_type": "stream",
     "text": [
      "GS______ [SE3: size=torch.Size([6, 2]), device=cuda:0, dtype=torch.float32]\n",
      "GS[0]__ __ __  SE3: size=torch.Size([6, 2]), device=cuda:0, dtype=torch.float32\n",
      "GS[0][:,jj] SE3: size=torch.Size([6, 2]), device=cuda:0, dtype=torch.float32\n"
     ]
    },
    {
     "name": "stderr",
     "output_type": "stream",
     "text": [
      " 86%|████████▌ | 1148/1333 [08:45<01:26,  2.15batch/s]"
     ]
    },
    {
     "name": "stdout",
     "output_type": "stream",
     "text": [
      "GS______ [SE3: size=torch.Size([6, 2]), device=cuda:0, dtype=torch.float32]\n",
      "GS[0]__ __ __  SE3: size=torch.Size([6, 2]), device=cuda:0, dtype=torch.float32\n",
      "GS[0][:,jj] SE3: size=torch.Size([6, 2]), device=cuda:0, dtype=torch.float32\n"
     ]
    },
    {
     "name": "stderr",
     "output_type": "stream",
     "text": [
      " 86%|████████▌ | 1149/1333 [08:46<01:24,  2.18batch/s]"
     ]
    },
    {
     "name": "stdout",
     "output_type": "stream",
     "text": [
      "GS______ [SE3: size=torch.Size([6, 2]), device=cuda:0, dtype=torch.float32]\n",
      "GS[0]__ __ __  SE3: size=torch.Size([6, 2]), device=cuda:0, dtype=torch.float32\n",
      "GS[0][:,jj] SE3: size=torch.Size([6, 2]), device=cuda:0, dtype=torch.float32\n"
     ]
    },
    {
     "name": "stderr",
     "output_type": "stream",
     "text": [
      " 86%|████████▋ | 1150/1333 [08:46<01:22,  2.21batch/s]"
     ]
    },
    {
     "name": "stdout",
     "output_type": "stream",
     "text": [
      "GS______ [SE3: size=torch.Size([6, 2]), device=cuda:0, dtype=torch.float32]\n",
      "GS[0]__ __ __  SE3: size=torch.Size([6, 2]), device=cuda:0, dtype=torch.float32\n",
      "GS[0][:,jj] SE3: size=torch.Size([6, 2]), device=cuda:0, dtype=torch.float32\n"
     ]
    },
    {
     "name": "stderr",
     "output_type": "stream",
     "text": [
      " 86%|████████▋ | 1151/1333 [08:47<01:23,  2.19batch/s]"
     ]
    },
    {
     "name": "stdout",
     "output_type": "stream",
     "text": [
      "GS______ [SE3: size=torch.Size([6, 2]), device=cuda:0, dtype=torch.float32]\n",
      "GS[0]__ __ __  SE3: size=torch.Size([6, 2]), device=cuda:0, dtype=torch.float32\n",
      "GS[0][:,jj] SE3: size=torch.Size([6, 2]), device=cuda:0, dtype=torch.float32\n"
     ]
    },
    {
     "name": "stderr",
     "output_type": "stream",
     "text": [
      " 86%|████████▋ | 1152/1333 [08:47<01:21,  2.21batch/s]"
     ]
    },
    {
     "name": "stdout",
     "output_type": "stream",
     "text": [
      "GS______ [SE3: size=torch.Size([6, 2]), device=cuda:0, dtype=torch.float32]\n",
      "GS[0]__ __ __  SE3: size=torch.Size([6, 2]), device=cuda:0, dtype=torch.float32\n",
      "GS[0][:,jj] SE3: size=torch.Size([6, 2]), device=cuda:0, dtype=torch.float32\n"
     ]
    },
    {
     "name": "stderr",
     "output_type": "stream",
     "text": [
      " 86%|████████▋ | 1153/1333 [08:47<01:20,  2.23batch/s]"
     ]
    },
    {
     "name": "stdout",
     "output_type": "stream",
     "text": [
      "GS______ [SE3: size=torch.Size([6, 2]), device=cuda:0, dtype=torch.float32]\n",
      "GS[0]__ __ __  SE3: size=torch.Size([6, 2]), device=cuda:0, dtype=torch.float32\n",
      "GS[0][:,jj] SE3: size=torch.Size([6, 2]), device=cuda:0, dtype=torch.float32\n"
     ]
    },
    {
     "name": "stderr",
     "output_type": "stream",
     "text": [
      " 87%|████████▋ | 1154/1333 [08:48<01:20,  2.23batch/s]"
     ]
    },
    {
     "name": "stdout",
     "output_type": "stream",
     "text": [
      "GS______ [SE3: size=torch.Size([6, 2]), device=cuda:0, dtype=torch.float32]\n",
      "GS[0]__ __ __  SE3: size=torch.Size([6, 2]), device=cuda:0, dtype=torch.float32\n",
      "GS[0][:,jj] SE3: size=torch.Size([6, 2]), device=cuda:0, dtype=torch.float32\n"
     ]
    },
    {
     "name": "stderr",
     "output_type": "stream",
     "text": [
      " 87%|████████▋ | 1155/1333 [08:48<01:19,  2.23batch/s]"
     ]
    },
    {
     "name": "stdout",
     "output_type": "stream",
     "text": [
      "GS______ [SE3: size=torch.Size([6, 2]), device=cuda:0, dtype=torch.float32]\n",
      "GS[0]__ __ __  SE3: size=torch.Size([6, 2]), device=cuda:0, dtype=torch.float32\n",
      "GS[0][:,jj] SE3: size=torch.Size([6, 2]), device=cuda:0, dtype=torch.float32\n"
     ]
    },
    {
     "name": "stderr",
     "output_type": "stream",
     "text": [
      " 87%|████████▋ | 1156/1333 [08:49<01:21,  2.17batch/s]"
     ]
    },
    {
     "name": "stdout",
     "output_type": "stream",
     "text": [
      "GS______ [SE3: size=torch.Size([6, 2]), device=cuda:0, dtype=torch.float32]\n",
      "GS[0]__ __ __  SE3: size=torch.Size([6, 2]), device=cuda:0, dtype=torch.float32\n",
      "GS[0][:,jj] SE3: size=torch.Size([6, 2]), device=cuda:0, dtype=torch.float32\n"
     ]
    },
    {
     "name": "stderr",
     "output_type": "stream",
     "text": [
      " 87%|████████▋ | 1157/1333 [08:49<01:19,  2.21batch/s]"
     ]
    },
    {
     "name": "stdout",
     "output_type": "stream",
     "text": [
      "GS______ [SE3: size=torch.Size([6, 2]), device=cuda:0, dtype=torch.float32]\n",
      "GS[0]__ __ __  SE3: size=torch.Size([6, 2]), device=cuda:0, dtype=torch.float32\n",
      "GS[0][:,jj] SE3: size=torch.Size([6, 2]), device=cuda:0, dtype=torch.float32\n"
     ]
    },
    {
     "name": "stderr",
     "output_type": "stream",
     "text": [
      " 87%|████████▋ | 1158/1333 [08:50<01:18,  2.22batch/s]"
     ]
    },
    {
     "name": "stdout",
     "output_type": "stream",
     "text": [
      "GS______ [SE3: size=torch.Size([6, 2]), device=cuda:0, dtype=torch.float32]\n",
      "GS[0]__ __ __  SE3: size=torch.Size([6, 2]), device=cuda:0, dtype=torch.float32\n",
      "GS[0][:,jj] SE3: size=torch.Size([6, 2]), device=cuda:0, dtype=torch.float32\n"
     ]
    },
    {
     "name": "stderr",
     "output_type": "stream",
     "text": [
      " 87%|████████▋ | 1159/1333 [08:50<01:18,  2.20batch/s]"
     ]
    },
    {
     "name": "stdout",
     "output_type": "stream",
     "text": [
      "GS______ [SE3: size=torch.Size([6, 2]), device=cuda:0, dtype=torch.float32]\n",
      "GS[0]__ __ __  SE3: size=torch.Size([6, 2]), device=cuda:0, dtype=torch.float32\n",
      "GS[0][:,jj] SE3: size=torch.Size([6, 2]), device=cuda:0, dtype=torch.float32\n"
     ]
    },
    {
     "name": "stderr",
     "output_type": "stream",
     "text": [
      " 87%|████████▋ | 1160/1333 [08:51<01:18,  2.20batch/s]"
     ]
    },
    {
     "name": "stdout",
     "output_type": "stream",
     "text": [
      "GS______ [SE3: size=torch.Size([6, 2]), device=cuda:0, dtype=torch.float32]\n",
      "GS[0]__ __ __  SE3: size=torch.Size([6, 2]), device=cuda:0, dtype=torch.float32\n",
      "GS[0][:,jj] SE3: size=torch.Size([6, 2]), device=cuda:0, dtype=torch.float32\n"
     ]
    },
    {
     "name": "stderr",
     "output_type": "stream",
     "text": [
      " 87%|████████▋ | 1161/1333 [08:51<01:18,  2.20batch/s]"
     ]
    },
    {
     "name": "stdout",
     "output_type": "stream",
     "text": [
      "GS______ [SE3: size=torch.Size([6, 2]), device=cuda:0, dtype=torch.float32]\n",
      "GS[0]__ __ __  SE3: size=torch.Size([6, 2]), device=cuda:0, dtype=torch.float32\n",
      "GS[0][:,jj] SE3: size=torch.Size([6, 2]), device=cuda:0, dtype=torch.float32\n"
     ]
    },
    {
     "name": "stderr",
     "output_type": "stream",
     "text": [
      " 87%|████████▋ | 1162/1333 [08:52<01:17,  2.20batch/s]"
     ]
    },
    {
     "name": "stdout",
     "output_type": "stream",
     "text": [
      "GS______ [SE3: size=torch.Size([6, 2]), device=cuda:0, dtype=torch.float32]\n",
      "GS[0]__ __ __  SE3: size=torch.Size([6, 2]), device=cuda:0, dtype=torch.float32\n",
      "GS[0][:,jj] SE3: size=torch.Size([6, 2]), device=cuda:0, dtype=torch.float32\n"
     ]
    },
    {
     "name": "stderr",
     "output_type": "stream",
     "text": [
      " 87%|████████▋ | 1163/1333 [08:52<01:17,  2.21batch/s]"
     ]
    },
    {
     "name": "stdout",
     "output_type": "stream",
     "text": [
      "GS______ [SE3: size=torch.Size([6, 2]), device=cuda:0, dtype=torch.float32]\n",
      "GS[0]__ __ __  SE3: size=torch.Size([6, 2]), device=cuda:0, dtype=torch.float32\n",
      "GS[0][:,jj] SE3: size=torch.Size([6, 2]), device=cuda:0, dtype=torch.float32\n"
     ]
    },
    {
     "name": "stderr",
     "output_type": "stream",
     "text": [
      " 87%|████████▋ | 1164/1333 [08:52<01:17,  2.17batch/s]"
     ]
    },
    {
     "name": "stdout",
     "output_type": "stream",
     "text": [
      "GS______ [SE3: size=torch.Size([6, 2]), device=cuda:0, dtype=torch.float32]\n",
      "GS[0]__ __ __  SE3: size=torch.Size([6, 2]), device=cuda:0, dtype=torch.float32\n",
      "GS[0][:,jj] SE3: size=torch.Size([6, 2]), device=cuda:0, dtype=torch.float32\n"
     ]
    },
    {
     "name": "stderr",
     "output_type": "stream",
     "text": [
      " 87%|████████▋ | 1165/1333 [08:53<01:21,  2.07batch/s]"
     ]
    },
    {
     "name": "stdout",
     "output_type": "stream",
     "text": [
      "GS______ [SE3: size=torch.Size([6, 2]), device=cuda:0, dtype=torch.float32]\n",
      "GS[0]__ __ __  SE3: size=torch.Size([6, 2]), device=cuda:0, dtype=torch.float32\n",
      "GS[0][:,jj] SE3: size=torch.Size([6, 2]), device=cuda:0, dtype=torch.float32\n"
     ]
    },
    {
     "name": "stderr",
     "output_type": "stream",
     "text": [
      " 87%|████████▋ | 1166/1333 [08:54<01:22,  2.02batch/s]"
     ]
    },
    {
     "name": "stdout",
     "output_type": "stream",
     "text": [
      "GS______ [SE3: size=torch.Size([6, 2]), device=cuda:0, dtype=torch.float32]\n",
      "GS[0]__ __ __  SE3: size=torch.Size([6, 2]), device=cuda:0, dtype=torch.float32\n",
      "GS[0][:,jj] SE3: size=torch.Size([6, 2]), device=cuda:0, dtype=torch.float32\n"
     ]
    },
    {
     "name": "stderr",
     "output_type": "stream",
     "text": [
      " 88%|████████▊ | 1167/1333 [08:54<01:23,  1.99batch/s]"
     ]
    },
    {
     "name": "stdout",
     "output_type": "stream",
     "text": [
      "GS______ [SE3: size=torch.Size([6, 2]), device=cuda:0, dtype=torch.float32]\n",
      "GS[0]__ __ __  SE3: size=torch.Size([6, 2]), device=cuda:0, dtype=torch.float32\n",
      "GS[0][:,jj] SE3: size=torch.Size([6, 2]), device=cuda:0, dtype=torch.float32\n"
     ]
    },
    {
     "name": "stderr",
     "output_type": "stream",
     "text": [
      " 88%|████████▊ | 1168/1333 [08:55<01:23,  1.98batch/s]"
     ]
    },
    {
     "name": "stdout",
     "output_type": "stream",
     "text": [
      "GS______ [SE3: size=torch.Size([6, 2]), device=cuda:0, dtype=torch.float32]\n",
      "GS[0]__ __ __  SE3: size=torch.Size([6, 2]), device=cuda:0, dtype=torch.float32\n",
      "GS[0][:,jj] SE3: size=torch.Size([6, 2]), device=cuda:0, dtype=torch.float32\n"
     ]
    },
    {
     "name": "stderr",
     "output_type": "stream",
     "text": [
      " 88%|████████▊ | 1169/1333 [08:55<01:24,  1.95batch/s]"
     ]
    },
    {
     "name": "stdout",
     "output_type": "stream",
     "text": [
      "GS______ [SE3: size=torch.Size([6, 2]), device=cuda:0, dtype=torch.float32]\n",
      "GS[0]__ __ __  SE3: size=torch.Size([6, 2]), device=cuda:0, dtype=torch.float32\n",
      "GS[0][:,jj] SE3: size=torch.Size([6, 2]), device=cuda:0, dtype=torch.float32\n"
     ]
    },
    {
     "name": "stderr",
     "output_type": "stream",
     "text": [
      " 88%|████████▊ | 1170/1333 [08:56<01:22,  1.98batch/s]"
     ]
    },
    {
     "name": "stdout",
     "output_type": "stream",
     "text": [
      "GS______ [SE3: size=torch.Size([6, 2]), device=cuda:0, dtype=torch.float32]\n",
      "GS[0]__ __ __  SE3: size=torch.Size([6, 2]), device=cuda:0, dtype=torch.float32\n",
      "GS[0][:,jj] SE3: size=torch.Size([6, 2]), device=cuda:0, dtype=torch.float32\n"
     ]
    },
    {
     "name": "stderr",
     "output_type": "stream",
     "text": [
      " 88%|████████▊ | 1171/1333 [08:56<01:20,  2.00batch/s]"
     ]
    },
    {
     "name": "stdout",
     "output_type": "stream",
     "text": [
      "GS______ [SE3: size=torch.Size([6, 2]), device=cuda:0, dtype=torch.float32]\n",
      "GS[0]__ __ __  SE3: size=torch.Size([6, 2]), device=cuda:0, dtype=torch.float32\n",
      "GS[0][:,jj] SE3: size=torch.Size([6, 2]), device=cuda:0, dtype=torch.float32\n"
     ]
    },
    {
     "name": "stderr",
     "output_type": "stream",
     "text": [
      " 88%|████████▊ | 1172/1333 [08:57<01:19,  2.03batch/s]"
     ]
    },
    {
     "name": "stdout",
     "output_type": "stream",
     "text": [
      "GS______ [SE3: size=torch.Size([6, 2]), device=cuda:0, dtype=torch.float32]\n",
      "GS[0]__ __ __  SE3: size=torch.Size([6, 2]), device=cuda:0, dtype=torch.float32\n",
      "GS[0][:,jj] SE3: size=torch.Size([6, 2]), device=cuda:0, dtype=torch.float32\n"
     ]
    },
    {
     "name": "stderr",
     "output_type": "stream",
     "text": [
      " 88%|████████▊ | 1173/1333 [08:57<01:17,  2.06batch/s]"
     ]
    },
    {
     "name": "stdout",
     "output_type": "stream",
     "text": [
      "GS______ [SE3: size=torch.Size([6, 2]), device=cuda:0, dtype=torch.float32]\n",
      "GS[0]__ __ __  SE3: size=torch.Size([6, 2]), device=cuda:0, dtype=torch.float32\n",
      "GS[0][:,jj] SE3: size=torch.Size([6, 2]), device=cuda:0, dtype=torch.float32\n"
     ]
    },
    {
     "name": "stderr",
     "output_type": "stream",
     "text": [
      " 88%|████████▊ | 1174/1333 [08:58<01:17,  2.05batch/s]"
     ]
    },
    {
     "name": "stdout",
     "output_type": "stream",
     "text": [
      "GS______ [SE3: size=torch.Size([6, 2]), device=cuda:0, dtype=torch.float32]\n",
      "GS[0]__ __ __  SE3: size=torch.Size([6, 2]), device=cuda:0, dtype=torch.float32\n",
      "GS[0][:,jj] SE3: size=torch.Size([6, 2]), device=cuda:0, dtype=torch.float32\n"
     ]
    },
    {
     "name": "stderr",
     "output_type": "stream",
     "text": [
      " 88%|████████▊ | 1175/1333 [08:58<01:16,  2.06batch/s]"
     ]
    },
    {
     "name": "stdout",
     "output_type": "stream",
     "text": [
      "GS______ [SE3: size=torch.Size([6, 2]), device=cuda:0, dtype=torch.float32]\n",
      "GS[0]__ __ __  SE3: size=torch.Size([6, 2]), device=cuda:0, dtype=torch.float32\n",
      "GS[0][:,jj] SE3: size=torch.Size([6, 2]), device=cuda:0, dtype=torch.float32\n"
     ]
    },
    {
     "name": "stderr",
     "output_type": "stream",
     "text": [
      " 88%|████████▊ | 1176/1333 [08:58<01:15,  2.08batch/s]"
     ]
    },
    {
     "name": "stdout",
     "output_type": "stream",
     "text": [
      "GS______ [SE3: size=torch.Size([6, 2]), device=cuda:0, dtype=torch.float32]\n",
      "GS[0]__ __ __  SE3: size=torch.Size([6, 2]), device=cuda:0, dtype=torch.float32\n",
      "GS[0][:,jj] SE3: size=torch.Size([6, 2]), device=cuda:0, dtype=torch.float32\n"
     ]
    },
    {
     "name": "stderr",
     "output_type": "stream",
     "text": [
      " 88%|████████▊ | 1177/1333 [08:59<01:14,  2.09batch/s]"
     ]
    },
    {
     "name": "stdout",
     "output_type": "stream",
     "text": [
      "GS______ [SE3: size=torch.Size([6, 2]), device=cuda:0, dtype=torch.float32]\n",
      "GS[0]__ __ __  SE3: size=torch.Size([6, 2]), device=cuda:0, dtype=torch.float32\n",
      "GS[0][:,jj] SE3: size=torch.Size([6, 2]), device=cuda:0, dtype=torch.float32\n"
     ]
    },
    {
     "name": "stderr",
     "output_type": "stream",
     "text": [
      " 88%|████████▊ | 1178/1333 [08:59<01:13,  2.10batch/s]"
     ]
    },
    {
     "name": "stdout",
     "output_type": "stream",
     "text": [
      "GS______ [SE3: size=torch.Size([6, 2]), device=cuda:0, dtype=torch.float32]\n",
      "GS[0]__ __ __  SE3: size=torch.Size([6, 2]), device=cuda:0, dtype=torch.float32\n",
      "GS[0][:,jj] SE3: size=torch.Size([6, 2]), device=cuda:0, dtype=torch.float32\n"
     ]
    },
    {
     "name": "stderr",
     "output_type": "stream",
     "text": [
      " 88%|████████▊ | 1179/1333 [09:00<01:12,  2.11batch/s]"
     ]
    },
    {
     "name": "stdout",
     "output_type": "stream",
     "text": [
      "GS______ [SE3: size=torch.Size([6, 2]), device=cuda:0, dtype=torch.float32]\n",
      "GS[0]__ __ __  SE3: size=torch.Size([6, 2]), device=cuda:0, dtype=torch.float32\n",
      "GS[0][:,jj] SE3: size=torch.Size([6, 2]), device=cuda:0, dtype=torch.float32\n"
     ]
    },
    {
     "name": "stderr",
     "output_type": "stream",
     "text": [
      " 89%|████████▊ | 1180/1333 [09:00<01:13,  2.09batch/s]"
     ]
    },
    {
     "name": "stdout",
     "output_type": "stream",
     "text": [
      "GS______ [SE3: size=torch.Size([6, 2]), device=cuda:0, dtype=torch.float32]\n",
      "GS[0]__ __ __  SE3: size=torch.Size([6, 2]), device=cuda:0, dtype=torch.float32\n",
      "GS[0][:,jj] SE3: size=torch.Size([6, 2]), device=cuda:0, dtype=torch.float32\n"
     ]
    },
    {
     "name": "stderr",
     "output_type": "stream",
     "text": [
      " 89%|████████▊ | 1181/1333 [09:01<01:11,  2.12batch/s]"
     ]
    },
    {
     "name": "stdout",
     "output_type": "stream",
     "text": [
      "GS______ [SE3: size=torch.Size([6, 2]), device=cuda:0, dtype=torch.float32]\n",
      "GS[0]__ __ __  SE3: size=torch.Size([6, 2]), device=cuda:0, dtype=torch.float32\n",
      "GS[0][:,jj] SE3: size=torch.Size([6, 2]), device=cuda:0, dtype=torch.float32\n"
     ]
    },
    {
     "name": "stderr",
     "output_type": "stream",
     "text": [
      " 89%|████████▊ | 1182/1333 [09:01<01:11,  2.12batch/s]"
     ]
    },
    {
     "name": "stdout",
     "output_type": "stream",
     "text": [
      "GS______ [SE3: size=torch.Size([6, 2]), device=cuda:0, dtype=torch.float32]\n",
      "GS[0]__ __ __  SE3: size=torch.Size([6, 2]), device=cuda:0, dtype=torch.float32\n",
      "GS[0][:,jj] SE3: size=torch.Size([6, 2]), device=cuda:0, dtype=torch.float32\n"
     ]
    },
    {
     "name": "stderr",
     "output_type": "stream",
     "text": [
      " 89%|████████▊ | 1183/1333 [09:02<01:10,  2.12batch/s]"
     ]
    },
    {
     "name": "stdout",
     "output_type": "stream",
     "text": [
      "GS______ [SE3: size=torch.Size([6, 2]), device=cuda:0, dtype=torch.float32]\n",
      "GS[0]__ __ __  SE3: size=torch.Size([6, 2]), device=cuda:0, dtype=torch.float32\n",
      "GS[0][:,jj] SE3: size=torch.Size([6, 2]), device=cuda:0, dtype=torch.float32\n"
     ]
    },
    {
     "name": "stderr",
     "output_type": "stream",
     "text": [
      " 89%|████████▉ | 1184/1333 [09:02<01:10,  2.13batch/s]"
     ]
    },
    {
     "name": "stdout",
     "output_type": "stream",
     "text": [
      "GS______ [SE3: size=torch.Size([6, 2]), device=cuda:0, dtype=torch.float32]\n",
      "GS[0]__ __ __  SE3: size=torch.Size([6, 2]), device=cuda:0, dtype=torch.float32\n",
      "GS[0][:,jj] SE3: size=torch.Size([6, 2]), device=cuda:0, dtype=torch.float32\n"
     ]
    },
    {
     "name": "stderr",
     "output_type": "stream",
     "text": [
      " 89%|████████▉ | 1185/1333 [09:03<01:10,  2.11batch/s]"
     ]
    },
    {
     "name": "stdout",
     "output_type": "stream",
     "text": [
      "GS______ [SE3: size=torch.Size([6, 2]), device=cuda:0, dtype=torch.float32]\n",
      "GS[0]__ __ __  SE3: size=torch.Size([6, 2]), device=cuda:0, dtype=torch.float32\n",
      "GS[0][:,jj] SE3: size=torch.Size([6, 2]), device=cuda:0, dtype=torch.float32\n"
     ]
    },
    {
     "name": "stderr",
     "output_type": "stream",
     "text": [
      " 89%|████████▉ | 1186/1333 [09:03<01:10,  2.10batch/s]"
     ]
    },
    {
     "name": "stdout",
     "output_type": "stream",
     "text": [
      "GS______ [SE3: size=torch.Size([6, 2]), device=cuda:0, dtype=torch.float32]\n",
      "GS[0]__ __ __  SE3: size=torch.Size([6, 2]), device=cuda:0, dtype=torch.float32\n",
      "GS[0][:,jj] SE3: size=torch.Size([6, 2]), device=cuda:0, dtype=torch.float32\n"
     ]
    },
    {
     "name": "stderr",
     "output_type": "stream",
     "text": [
      " 89%|████████▉ | 1187/1333 [09:04<01:09,  2.10batch/s]"
     ]
    },
    {
     "name": "stdout",
     "output_type": "stream",
     "text": [
      "GS______ [SE3: size=torch.Size([6, 2]), device=cuda:0, dtype=torch.float32]\n",
      "GS[0]__ __ __  SE3: size=torch.Size([6, 2]), device=cuda:0, dtype=torch.float32\n",
      "GS[0][:,jj] SE3: size=torch.Size([6, 2]), device=cuda:0, dtype=torch.float32\n"
     ]
    },
    {
     "name": "stderr",
     "output_type": "stream",
     "text": [
      " 89%|████████▉ | 1188/1333 [09:04<01:08,  2.10batch/s]"
     ]
    },
    {
     "name": "stdout",
     "output_type": "stream",
     "text": [
      "GS______ [SE3: size=torch.Size([6, 2]), device=cuda:0, dtype=torch.float32]\n",
      "GS[0]__ __ __  SE3: size=torch.Size([6, 2]), device=cuda:0, dtype=torch.float32\n",
      "GS[0][:,jj] SE3: size=torch.Size([6, 2]), device=cuda:0, dtype=torch.float32\n"
     ]
    },
    {
     "name": "stderr",
     "output_type": "stream",
     "text": [
      " 89%|████████▉ | 1189/1333 [09:05<01:08,  2.11batch/s]"
     ]
    },
    {
     "name": "stdout",
     "output_type": "stream",
     "text": [
      "GS______ [SE3: size=torch.Size([6, 2]), device=cuda:0, dtype=torch.float32]\n",
      "GS[0]__ __ __  SE3: size=torch.Size([6, 2]), device=cuda:0, dtype=torch.float32\n",
      "GS[0][:,jj] SE3: size=torch.Size([6, 2]), device=cuda:0, dtype=torch.float32\n"
     ]
    },
    {
     "name": "stderr",
     "output_type": "stream",
     "text": [
      " 89%|████████▉ | 1190/1333 [09:05<01:07,  2.12batch/s]"
     ]
    },
    {
     "name": "stdout",
     "output_type": "stream",
     "text": [
      "GS______ [SE3: size=torch.Size([6, 2]), device=cuda:0, dtype=torch.float32]\n",
      "GS[0]__ __ __  SE3: size=torch.Size([6, 2]), device=cuda:0, dtype=torch.float32\n",
      "GS[0][:,jj] SE3: size=torch.Size([6, 2]), device=cuda:0, dtype=torch.float32\n"
     ]
    },
    {
     "name": "stderr",
     "output_type": "stream",
     "text": [
      " 89%|████████▉ | 1191/1333 [09:06<01:07,  2.12batch/s]"
     ]
    },
    {
     "name": "stdout",
     "output_type": "stream",
     "text": [
      "GS______ [SE3: size=torch.Size([6, 2]), device=cuda:0, dtype=torch.float32]\n",
      "GS[0]__ __ __  SE3: size=torch.Size([6, 2]), device=cuda:0, dtype=torch.float32\n",
      "GS[0][:,jj] SE3: size=torch.Size([6, 2]), device=cuda:0, dtype=torch.float32\n"
     ]
    },
    {
     "name": "stderr",
     "output_type": "stream",
     "text": [
      " 89%|████████▉ | 1192/1333 [09:06<01:06,  2.11batch/s]"
     ]
    },
    {
     "name": "stdout",
     "output_type": "stream",
     "text": [
      "GS______ [SE3: size=torch.Size([6, 2]), device=cuda:0, dtype=torch.float32]\n",
      "GS[0]__ __ __  SE3: size=torch.Size([6, 2]), device=cuda:0, dtype=torch.float32\n",
      "GS[0][:,jj] SE3: size=torch.Size([6, 2]), device=cuda:0, dtype=torch.float32\n"
     ]
    },
    {
     "name": "stderr",
     "output_type": "stream",
     "text": [
      " 89%|████████▉ | 1193/1333 [09:07<01:06,  2.10batch/s]"
     ]
    },
    {
     "name": "stdout",
     "output_type": "stream",
     "text": [
      "GS______ [SE3: size=torch.Size([6, 2]), device=cuda:0, dtype=torch.float32]\n",
      "GS[0]__ __ __  SE3: size=torch.Size([6, 2]), device=cuda:0, dtype=torch.float32\n",
      "GS[0][:,jj] SE3: size=torch.Size([6, 2]), device=cuda:0, dtype=torch.float32\n"
     ]
    },
    {
     "name": "stderr",
     "output_type": "stream",
     "text": [
      " 90%|████████▉ | 1194/1333 [09:07<01:06,  2.10batch/s]"
     ]
    },
    {
     "name": "stdout",
     "output_type": "stream",
     "text": [
      "GS______ [SE3: size=torch.Size([6, 2]), device=cuda:0, dtype=torch.float32]\n",
      "GS[0]__ __ __  SE3: size=torch.Size([6, 2]), device=cuda:0, dtype=torch.float32\n",
      "GS[0][:,jj] SE3: size=torch.Size([6, 2]), device=cuda:0, dtype=torch.float32\n"
     ]
    },
    {
     "name": "stderr",
     "output_type": "stream",
     "text": [
      " 90%|████████▉ | 1195/1333 [09:07<01:05,  2.09batch/s]"
     ]
    },
    {
     "name": "stdout",
     "output_type": "stream",
     "text": [
      "GS______ [SE3: size=torch.Size([6, 2]), device=cuda:0, dtype=torch.float32]\n",
      "GS[0]__ __ __  SE3: size=torch.Size([6, 2]), device=cuda:0, dtype=torch.float32\n",
      "GS[0][:,jj] SE3: size=torch.Size([6, 2]), device=cuda:0, dtype=torch.float32\n"
     ]
    },
    {
     "name": "stderr",
     "output_type": "stream",
     "text": [
      " 90%|████████▉ | 1196/1333 [09:08<01:05,  2.10batch/s]"
     ]
    },
    {
     "name": "stdout",
     "output_type": "stream",
     "text": [
      "GS______ [SE3: size=torch.Size([6, 2]), device=cuda:0, dtype=torch.float32]\n",
      "GS[0]__ __ __  SE3: size=torch.Size([6, 2]), device=cuda:0, dtype=torch.float32\n",
      "GS[0][:,jj] SE3: size=torch.Size([6, 2]), device=cuda:0, dtype=torch.float32\n"
     ]
    },
    {
     "name": "stderr",
     "output_type": "stream",
     "text": [
      " 90%|████████▉ | 1197/1333 [09:08<01:05,  2.08batch/s]"
     ]
    },
    {
     "name": "stdout",
     "output_type": "stream",
     "text": [
      "GS______ [SE3: size=torch.Size([6, 2]), device=cuda:0, dtype=torch.float32]\n",
      "GS[0]__ __ __  SE3: size=torch.Size([6, 2]), device=cuda:0, dtype=torch.float32\n",
      "GS[0][:,jj] SE3: size=torch.Size([6, 2]), device=cuda:0, dtype=torch.float32\n"
     ]
    },
    {
     "name": "stderr",
     "output_type": "stream",
     "text": [
      " 90%|████████▉ | 1198/1333 [09:09<01:05,  2.08batch/s]"
     ]
    },
    {
     "name": "stdout",
     "output_type": "stream",
     "text": [
      "GS______ [SE3: size=torch.Size([6, 2]), device=cuda:0, dtype=torch.float32]\n",
      "GS[0]__ __ __  SE3: size=torch.Size([6, 2]), device=cuda:0, dtype=torch.float32\n",
      "GS[0][:,jj] SE3: size=torch.Size([6, 2]), device=cuda:0, dtype=torch.float32\n"
     ]
    },
    {
     "name": "stderr",
     "output_type": "stream",
     "text": [
      " 90%|████████▉ | 1199/1333 [09:09<01:04,  2.09batch/s]"
     ]
    },
    {
     "name": "stdout",
     "output_type": "stream",
     "text": [
      "GS______ [SE3: size=torch.Size([6, 2]), device=cuda:0, dtype=torch.float32]\n",
      "GS[0]__ __ __  SE3: size=torch.Size([6, 2]), device=cuda:0, dtype=torch.float32\n",
      "GS[0][:,jj] SE3: size=torch.Size([6, 2]), device=cuda:0, dtype=torch.float32\n"
     ]
    },
    {
     "name": "stderr",
     "output_type": "stream",
     "text": [
      " 90%|█████████ | 1200/1333 [09:10<01:03,  2.09batch/s]"
     ]
    },
    {
     "name": "stdout",
     "output_type": "stream",
     "text": [
      "GS______ [SE3: size=torch.Size([6, 2]), device=cuda:0, dtype=torch.float32]\n",
      "GS[0]__ __ __  SE3: size=torch.Size([6, 2]), device=cuda:0, dtype=torch.float32\n",
      "GS[0][:,jj] SE3: size=torch.Size([6, 2]), device=cuda:0, dtype=torch.float32\n"
     ]
    },
    {
     "name": "stderr",
     "output_type": "stream",
     "text": [
      " 90%|█████████ | 1201/1333 [09:10<01:02,  2.11batch/s]"
     ]
    },
    {
     "name": "stdout",
     "output_type": "stream",
     "text": [
      "GS______ [SE3: size=torch.Size([6, 2]), device=cuda:0, dtype=torch.float32]\n",
      "GS[0]__ __ __  SE3: size=torch.Size([6, 2]), device=cuda:0, dtype=torch.float32\n",
      "GS[0][:,jj] SE3: size=torch.Size([6, 2]), device=cuda:0, dtype=torch.float32\n"
     ]
    },
    {
     "name": "stderr",
     "output_type": "stream",
     "text": [
      " 90%|█████████ | 1202/1333 [09:11<01:01,  2.13batch/s]"
     ]
    },
    {
     "name": "stdout",
     "output_type": "stream",
     "text": [
      "GS______ [SE3: size=torch.Size([6, 2]), device=cuda:0, dtype=torch.float32]\n",
      "GS[0]__ __ __  SE3: size=torch.Size([6, 2]), device=cuda:0, dtype=torch.float32\n",
      "GS[0][:,jj] SE3: size=torch.Size([6, 2]), device=cuda:0, dtype=torch.float32\n"
     ]
    },
    {
     "name": "stderr",
     "output_type": "stream",
     "text": [
      " 90%|█████████ | 1203/1333 [09:11<01:01,  2.10batch/s]"
     ]
    },
    {
     "name": "stdout",
     "output_type": "stream",
     "text": [
      "GS______ [SE3: size=torch.Size([6, 2]), device=cuda:0, dtype=torch.float32]\n",
      "GS[0]__ __ __  SE3: size=torch.Size([6, 2]), device=cuda:0, dtype=torch.float32\n",
      "GS[0][:,jj] SE3: size=torch.Size([6, 2]), device=cuda:0, dtype=torch.float32\n"
     ]
    },
    {
     "name": "stderr",
     "output_type": "stream",
     "text": [
      " 90%|█████████ | 1204/1333 [09:12<01:01,  2.11batch/s]"
     ]
    },
    {
     "name": "stdout",
     "output_type": "stream",
     "text": [
      "GS______ [SE3: size=torch.Size([6, 2]), device=cuda:0, dtype=torch.float32]\n",
      "GS[0]__ __ __  SE3: size=torch.Size([6, 2]), device=cuda:0, dtype=torch.float32\n",
      "GS[0][:,jj] SE3: size=torch.Size([6, 2]), device=cuda:0, dtype=torch.float32\n"
     ]
    },
    {
     "name": "stderr",
     "output_type": "stream",
     "text": [
      " 90%|█████████ | 1205/1333 [09:12<01:00,  2.12batch/s]"
     ]
    },
    {
     "name": "stdout",
     "output_type": "stream",
     "text": [
      "GS______ [SE3: size=torch.Size([6, 2]), device=cuda:0, dtype=torch.float32]\n",
      "GS[0]__ __ __  SE3: size=torch.Size([6, 2]), device=cuda:0, dtype=torch.float32\n",
      "GS[0][:,jj] SE3: size=torch.Size([6, 2]), device=cuda:0, dtype=torch.float32\n"
     ]
    },
    {
     "name": "stderr",
     "output_type": "stream",
     "text": [
      " 90%|█████████ | 1206/1333 [09:13<00:59,  2.12batch/s]"
     ]
    },
    {
     "name": "stdout",
     "output_type": "stream",
     "text": [
      "GS______ [SE3: size=torch.Size([6, 2]), device=cuda:0, dtype=torch.float32]\n",
      "GS[0]__ __ __  SE3: size=torch.Size([6, 2]), device=cuda:0, dtype=torch.float32\n",
      "GS[0][:,jj] SE3: size=torch.Size([6, 2]), device=cuda:0, dtype=torch.float32\n"
     ]
    },
    {
     "name": "stderr",
     "output_type": "stream",
     "text": [
      " 91%|█████████ | 1207/1333 [09:13<00:59,  2.11batch/s]"
     ]
    },
    {
     "name": "stdout",
     "output_type": "stream",
     "text": [
      "GS______ [SE3: size=torch.Size([6, 2]), device=cuda:0, dtype=torch.float32]\n",
      "GS[0]__ __ __  SE3: size=torch.Size([6, 2]), device=cuda:0, dtype=torch.float32\n",
      "GS[0][:,jj] SE3: size=torch.Size([6, 2]), device=cuda:0, dtype=torch.float32\n"
     ]
    },
    {
     "name": "stderr",
     "output_type": "stream",
     "text": [
      " 91%|█████████ | 1208/1333 [09:14<00:58,  2.13batch/s]"
     ]
    },
    {
     "name": "stdout",
     "output_type": "stream",
     "text": [
      "GS______ [SE3: size=torch.Size([6, 2]), device=cuda:0, dtype=torch.float32]\n",
      "GS[0]__ __ __  SE3: size=torch.Size([6, 2]), device=cuda:0, dtype=torch.float32\n",
      "GS[0][:,jj] SE3: size=torch.Size([6, 2]), device=cuda:0, dtype=torch.float32\n"
     ]
    },
    {
     "name": "stderr",
     "output_type": "stream",
     "text": [
      " 91%|█████████ | 1209/1333 [09:14<00:58,  2.12batch/s]"
     ]
    },
    {
     "name": "stdout",
     "output_type": "stream",
     "text": [
      "GS______ [SE3: size=torch.Size([6, 2]), device=cuda:0, dtype=torch.float32]\n",
      "GS[0]__ __ __  SE3: size=torch.Size([6, 2]), device=cuda:0, dtype=torch.float32\n",
      "GS[0][:,jj] SE3: size=torch.Size([6, 2]), device=cuda:0, dtype=torch.float32\n"
     ]
    },
    {
     "name": "stderr",
     "output_type": "stream",
     "text": [
      " 91%|█████████ | 1210/1333 [09:15<00:59,  2.08batch/s]"
     ]
    },
    {
     "name": "stdout",
     "output_type": "stream",
     "text": [
      "GS______ [SE3: size=torch.Size([6, 2]), device=cuda:0, dtype=torch.float32]\n",
      "GS[0]__ __ __  SE3: size=torch.Size([6, 2]), device=cuda:0, dtype=torch.float32\n",
      "GS[0][:,jj] SE3: size=torch.Size([6, 2]), device=cuda:0, dtype=torch.float32\n"
     ]
    },
    {
     "name": "stderr",
     "output_type": "stream",
     "text": [
      " 91%|█████████ | 1211/1333 [09:15<00:59,  2.03batch/s]"
     ]
    },
    {
     "name": "stdout",
     "output_type": "stream",
     "text": [
      "GS______ [SE3: size=torch.Size([6, 2]), device=cuda:0, dtype=torch.float32]\n",
      "GS[0]__ __ __  SE3: size=torch.Size([6, 2]), device=cuda:0, dtype=torch.float32\n",
      "GS[0][:,jj] SE3: size=torch.Size([6, 2]), device=cuda:0, dtype=torch.float32\n"
     ]
    },
    {
     "name": "stderr",
     "output_type": "stream",
     "text": [
      " 91%|█████████ | 1212/1333 [09:16<00:59,  2.03batch/s]"
     ]
    },
    {
     "name": "stdout",
     "output_type": "stream",
     "text": [
      "GS______ [SE3: size=torch.Size([6, 2]), device=cuda:0, dtype=torch.float32]\n",
      "GS[0]__ __ __  SE3: size=torch.Size([6, 2]), device=cuda:0, dtype=torch.float32\n",
      "GS[0][:,jj] SE3: size=torch.Size([6, 2]), device=cuda:0, dtype=torch.float32\n"
     ]
    },
    {
     "name": "stderr",
     "output_type": "stream",
     "text": [
      " 91%|█████████ | 1213/1333 [09:16<00:57,  2.07batch/s]"
     ]
    },
    {
     "name": "stdout",
     "output_type": "stream",
     "text": [
      "GS______ [SE3: size=torch.Size([6, 2]), device=cuda:0, dtype=torch.float32]\n",
      "GS[0]__ __ __  SE3: size=torch.Size([6, 2]), device=cuda:0, dtype=torch.float32\n",
      "GS[0][:,jj] SE3: size=torch.Size([6, 2]), device=cuda:0, dtype=torch.float32\n"
     ]
    },
    {
     "name": "stderr",
     "output_type": "stream",
     "text": [
      " 91%|█████████ | 1214/1333 [09:17<00:56,  2.11batch/s]"
     ]
    },
    {
     "name": "stdout",
     "output_type": "stream",
     "text": [
      "GS______ [SE3: size=torch.Size([6, 2]), device=cuda:0, dtype=torch.float32]\n",
      "GS[0]__ __ __  SE3: size=torch.Size([6, 2]), device=cuda:0, dtype=torch.float32\n",
      "GS[0][:,jj] SE3: size=torch.Size([6, 2]), device=cuda:0, dtype=torch.float32\n"
     ]
    },
    {
     "name": "stderr",
     "output_type": "stream",
     "text": [
      " 91%|█████████ | 1215/1333 [09:17<00:55,  2.12batch/s]"
     ]
    },
    {
     "name": "stdout",
     "output_type": "stream",
     "text": [
      "GS______ [SE3: size=torch.Size([6, 2]), device=cuda:0, dtype=torch.float32]\n",
      "GS[0]__ __ __  SE3: size=torch.Size([6, 2]), device=cuda:0, dtype=torch.float32\n",
      "GS[0][:,jj] SE3: size=torch.Size([6, 2]), device=cuda:0, dtype=torch.float32\n"
     ]
    },
    {
     "name": "stderr",
     "output_type": "stream",
     "text": [
      " 91%|█████████ | 1216/1333 [09:17<00:55,  2.12batch/s]"
     ]
    },
    {
     "name": "stdout",
     "output_type": "stream",
     "text": [
      "GS______ [SE3: size=torch.Size([6, 2]), device=cuda:0, dtype=torch.float32]\n",
      "GS[0]__ __ __  SE3: size=torch.Size([6, 2]), device=cuda:0, dtype=torch.float32\n",
      "GS[0][:,jj] SE3: size=torch.Size([6, 2]), device=cuda:0, dtype=torch.float32\n"
     ]
    },
    {
     "name": "stderr",
     "output_type": "stream",
     "text": [
      " 91%|█████████▏| 1217/1333 [09:18<00:54,  2.13batch/s]"
     ]
    },
    {
     "name": "stdout",
     "output_type": "stream",
     "text": [
      "GS______ [SE3: size=torch.Size([6, 2]), device=cuda:0, dtype=torch.float32]\n",
      "GS[0]__ __ __  SE3: size=torch.Size([6, 2]), device=cuda:0, dtype=torch.float32\n",
      "GS[0][:,jj] SE3: size=torch.Size([6, 2]), device=cuda:0, dtype=torch.float32\n"
     ]
    },
    {
     "name": "stderr",
     "output_type": "stream",
     "text": [
      " 91%|█████████▏| 1218/1333 [09:18<00:54,  2.11batch/s]"
     ]
    },
    {
     "name": "stdout",
     "output_type": "stream",
     "text": [
      "GS______ [SE3: size=torch.Size([6, 2]), device=cuda:0, dtype=torch.float32]\n",
      "GS[0]__ __ __  SE3: size=torch.Size([6, 2]), device=cuda:0, dtype=torch.float32\n",
      "GS[0][:,jj] SE3: size=torch.Size([6, 2]), device=cuda:0, dtype=torch.float32\n"
     ]
    },
    {
     "name": "stderr",
     "output_type": "stream",
     "text": [
      " 91%|█████████▏| 1219/1333 [09:19<00:53,  2.13batch/s]"
     ]
    },
    {
     "name": "stdout",
     "output_type": "stream",
     "text": [
      "GS______ [SE3: size=torch.Size([6, 2]), device=cuda:0, dtype=torch.float32]\n",
      "GS[0]__ __ __  SE3: size=torch.Size([6, 2]), device=cuda:0, dtype=torch.float32\n",
      "GS[0][:,jj] SE3: size=torch.Size([6, 2]), device=cuda:0, dtype=torch.float32\n"
     ]
    },
    {
     "name": "stderr",
     "output_type": "stream",
     "text": [
      " 92%|█████████▏| 1220/1333 [09:19<00:53,  2.12batch/s]"
     ]
    },
    {
     "name": "stdout",
     "output_type": "stream",
     "text": [
      "GS______ [SE3: size=torch.Size([6, 2]), device=cuda:0, dtype=torch.float32]\n",
      "GS[0]__ __ __  SE3: size=torch.Size([6, 2]), device=cuda:0, dtype=torch.float32\n",
      "GS[0][:,jj] SE3: size=torch.Size([6, 2]), device=cuda:0, dtype=torch.float32\n"
     ]
    },
    {
     "name": "stderr",
     "output_type": "stream",
     "text": [
      " 92%|█████████▏| 1221/1333 [09:20<00:52,  2.13batch/s]"
     ]
    },
    {
     "name": "stdout",
     "output_type": "stream",
     "text": [
      "GS______ [SE3: size=torch.Size([6, 2]), device=cuda:0, dtype=torch.float32]\n",
      "GS[0]__ __ __  SE3: size=torch.Size([6, 2]), device=cuda:0, dtype=torch.float32\n",
      "GS[0][:,jj] SE3: size=torch.Size([6, 2]), device=cuda:0, dtype=torch.float32\n"
     ]
    },
    {
     "name": "stderr",
     "output_type": "stream",
     "text": [
      " 92%|█████████▏| 1222/1333 [09:20<00:52,  2.10batch/s]"
     ]
    },
    {
     "name": "stdout",
     "output_type": "stream",
     "text": [
      "GS______ [SE3: size=torch.Size([6, 2]), device=cuda:0, dtype=torch.float32]\n",
      "GS[0]__ __ __  SE3: size=torch.Size([6, 2]), device=cuda:0, dtype=torch.float32\n",
      "GS[0][:,jj] SE3: size=torch.Size([6, 2]), device=cuda:0, dtype=torch.float32\n"
     ]
    },
    {
     "name": "stderr",
     "output_type": "stream",
     "text": [
      " 92%|█████████▏| 1223/1333 [09:21<00:51,  2.13batch/s]"
     ]
    },
    {
     "name": "stdout",
     "output_type": "stream",
     "text": [
      "GS______ [SE3: size=torch.Size([6, 2]), device=cuda:0, dtype=torch.float32]\n",
      "GS[0]__ __ __  SE3: size=torch.Size([6, 2]), device=cuda:0, dtype=torch.float32\n",
      "GS[0][:,jj] SE3: size=torch.Size([6, 2]), device=cuda:0, dtype=torch.float32\n"
     ]
    },
    {
     "name": "stderr",
     "output_type": "stream",
     "text": [
      " 92%|█████████▏| 1224/1333 [09:21<00:51,  2.10batch/s]"
     ]
    },
    {
     "name": "stdout",
     "output_type": "stream",
     "text": [
      "GS______ [SE3: size=torch.Size([6, 2]), device=cuda:0, dtype=torch.float32]\n",
      "GS[0]__ __ __  SE3: size=torch.Size([6, 2]), device=cuda:0, dtype=torch.float32\n",
      "GS[0][:,jj] SE3: size=torch.Size([6, 2]), device=cuda:0, dtype=torch.float32\n"
     ]
    },
    {
     "name": "stderr",
     "output_type": "stream",
     "text": [
      " 92%|█████████▏| 1225/1333 [09:22<00:51,  2.10batch/s]"
     ]
    },
    {
     "name": "stdout",
     "output_type": "stream",
     "text": [
      "GS______ [SE3: size=torch.Size([6, 2]), device=cuda:0, dtype=torch.float32]\n",
      "GS[0]__ __ __  SE3: size=torch.Size([6, 2]), device=cuda:0, dtype=torch.float32\n",
      "GS[0][:,jj] SE3: size=torch.Size([6, 2]), device=cuda:0, dtype=torch.float32\n"
     ]
    },
    {
     "name": "stderr",
     "output_type": "stream",
     "text": [
      " 92%|█████████▏| 1226/1333 [09:22<00:50,  2.11batch/s]"
     ]
    },
    {
     "name": "stdout",
     "output_type": "stream",
     "text": [
      "GS______ [SE3: size=torch.Size([6, 2]), device=cuda:0, dtype=torch.float32]\n",
      "GS[0]__ __ __  SE3: size=torch.Size([6, 2]), device=cuda:0, dtype=torch.float32\n",
      "GS[0][:,jj] SE3: size=torch.Size([6, 2]), device=cuda:0, dtype=torch.float32\n"
     ]
    },
    {
     "name": "stderr",
     "output_type": "stream",
     "text": [
      " 92%|█████████▏| 1227/1333 [09:23<00:50,  2.11batch/s]"
     ]
    },
    {
     "name": "stdout",
     "output_type": "stream",
     "text": [
      "GS______ [SE3: size=torch.Size([6, 2]), device=cuda:0, dtype=torch.float32]\n",
      "GS[0]__ __ __  SE3: size=torch.Size([6, 2]), device=cuda:0, dtype=torch.float32\n",
      "GS[0][:,jj] SE3: size=torch.Size([6, 2]), device=cuda:0, dtype=torch.float32\n"
     ]
    },
    {
     "name": "stderr",
     "output_type": "stream",
     "text": [
      " 92%|█████████▏| 1228/1333 [09:23<00:49,  2.12batch/s]"
     ]
    },
    {
     "name": "stdout",
     "output_type": "stream",
     "text": [
      "GS______ [SE3: size=torch.Size([6, 2]), device=cuda:0, dtype=torch.float32]\n",
      "GS[0]__ __ __  SE3: size=torch.Size([6, 2]), device=cuda:0, dtype=torch.float32\n",
      "GS[0][:,jj] SE3: size=torch.Size([6, 2]), device=cuda:0, dtype=torch.float32\n"
     ]
    },
    {
     "name": "stderr",
     "output_type": "stream",
     "text": [
      " 92%|█████████▏| 1229/1333 [09:24<00:48,  2.12batch/s]"
     ]
    },
    {
     "name": "stdout",
     "output_type": "stream",
     "text": [
      "GS______ [SE3: size=torch.Size([6, 2]), device=cuda:0, dtype=torch.float32]\n",
      "GS[0]__ __ __  SE3: size=torch.Size([6, 2]), device=cuda:0, dtype=torch.float32\n",
      "GS[0][:,jj] SE3: size=torch.Size([6, 2]), device=cuda:0, dtype=torch.float32\n"
     ]
    },
    {
     "name": "stderr",
     "output_type": "stream",
     "text": [
      " 92%|█████████▏| 1230/1333 [09:24<00:48,  2.11batch/s]"
     ]
    },
    {
     "name": "stdout",
     "output_type": "stream",
     "text": [
      "GS______ [SE3: size=torch.Size([6, 2]), device=cuda:0, dtype=torch.float32]\n",
      "GS[0]__ __ __  SE3: size=torch.Size([6, 2]), device=cuda:0, dtype=torch.float32\n",
      "GS[0][:,jj] SE3: size=torch.Size([6, 2]), device=cuda:0, dtype=torch.float32\n"
     ]
    },
    {
     "name": "stderr",
     "output_type": "stream",
     "text": [
      " 92%|█████████▏| 1231/1333 [09:25<00:47,  2.13batch/s]"
     ]
    },
    {
     "name": "stdout",
     "output_type": "stream",
     "text": [
      "GS______ [SE3: size=torch.Size([6, 2]), device=cuda:0, dtype=torch.float32]\n",
      "GS[0]__ __ __  SE3: size=torch.Size([6, 2]), device=cuda:0, dtype=torch.float32\n",
      "GS[0][:,jj] SE3: size=torch.Size([6, 2]), device=cuda:0, dtype=torch.float32\n"
     ]
    },
    {
     "name": "stderr",
     "output_type": "stream",
     "text": [
      " 92%|█████████▏| 1232/1333 [09:25<00:47,  2.14batch/s]"
     ]
    },
    {
     "name": "stdout",
     "output_type": "stream",
     "text": [
      "GS______ [SE3: size=torch.Size([6, 2]), device=cuda:0, dtype=torch.float32]\n",
      "GS[0]__ __ __  SE3: size=torch.Size([6, 2]), device=cuda:0, dtype=torch.float32\n",
      "GS[0][:,jj] SE3: size=torch.Size([6, 2]), device=cuda:0, dtype=torch.float32\n"
     ]
    },
    {
     "name": "stderr",
     "output_type": "stream",
     "text": [
      " 92%|█████████▏| 1233/1333 [09:26<00:47,  2.10batch/s]"
     ]
    },
    {
     "name": "stdout",
     "output_type": "stream",
     "text": [
      "GS______ [SE3: size=torch.Size([6, 2]), device=cuda:0, dtype=torch.float32]\n",
      "GS[0]__ __ __  SE3: size=torch.Size([6, 2]), device=cuda:0, dtype=torch.float32\n",
      "GS[0][:,jj] SE3: size=torch.Size([6, 2]), device=cuda:0, dtype=torch.float32\n"
     ]
    },
    {
     "name": "stderr",
     "output_type": "stream",
     "text": [
      " 93%|█████████▎| 1234/1333 [09:26<00:47,  2.11batch/s]"
     ]
    },
    {
     "name": "stdout",
     "output_type": "stream",
     "text": [
      "GS______ [SE3: size=torch.Size([6, 2]), device=cuda:0, dtype=torch.float32]\n",
      "GS[0]__ __ __  SE3: size=torch.Size([6, 2]), device=cuda:0, dtype=torch.float32\n",
      "GS[0][:,jj] SE3: size=torch.Size([6, 2]), device=cuda:0, dtype=torch.float32\n"
     ]
    },
    {
     "name": "stderr",
     "output_type": "stream",
     "text": [
      " 93%|█████████▎| 1235/1333 [09:26<00:46,  2.12batch/s]"
     ]
    },
    {
     "name": "stdout",
     "output_type": "stream",
     "text": [
      "GS______ [SE3: size=torch.Size([6, 2]), device=cuda:0, dtype=torch.float32]\n",
      "GS[0]__ __ __  SE3: size=torch.Size([6, 2]), device=cuda:0, dtype=torch.float32\n",
      "GS[0][:,jj] SE3: size=torch.Size([6, 2]), device=cuda:0, dtype=torch.float32\n"
     ]
    },
    {
     "name": "stderr",
     "output_type": "stream",
     "text": [
      " 93%|█████████▎| 1236/1333 [09:27<00:45,  2.11batch/s]"
     ]
    },
    {
     "name": "stdout",
     "output_type": "stream",
     "text": [
      "GS______ [SE3: size=torch.Size([6, 2]), device=cuda:0, dtype=torch.float32]\n",
      "GS[0]__ __ __  SE3: size=torch.Size([6, 2]), device=cuda:0, dtype=torch.float32\n",
      "GS[0][:,jj] SE3: size=torch.Size([6, 2]), device=cuda:0, dtype=torch.float32\n"
     ]
    },
    {
     "name": "stderr",
     "output_type": "stream",
     "text": [
      " 93%|█████████▎| 1237/1333 [09:27<00:45,  2.13batch/s]"
     ]
    },
    {
     "name": "stdout",
     "output_type": "stream",
     "text": [
      "GS______ [SE3: size=torch.Size([6, 2]), device=cuda:0, dtype=torch.float32]\n",
      "GS[0]__ __ __  SE3: size=torch.Size([6, 2]), device=cuda:0, dtype=torch.float32\n",
      "GS[0][:,jj] SE3: size=torch.Size([6, 2]), device=cuda:0, dtype=torch.float32\n"
     ]
    },
    {
     "name": "stderr",
     "output_type": "stream",
     "text": [
      " 93%|█████████▎| 1238/1333 [09:28<00:44,  2.13batch/s]"
     ]
    },
    {
     "name": "stdout",
     "output_type": "stream",
     "text": [
      "GS______ [SE3: size=torch.Size([6, 2]), device=cuda:0, dtype=torch.float32]\n",
      "GS[0]__ __ __  SE3: size=torch.Size([6, 2]), device=cuda:0, dtype=torch.float32\n",
      "GS[0][:,jj] SE3: size=torch.Size([6, 2]), device=cuda:0, dtype=torch.float32\n"
     ]
    },
    {
     "name": "stderr",
     "output_type": "stream",
     "text": [
      " 93%|█████████▎| 1239/1333 [09:28<00:44,  2.11batch/s]"
     ]
    },
    {
     "name": "stdout",
     "output_type": "stream",
     "text": [
      "GS______ [SE3: size=torch.Size([6, 2]), device=cuda:0, dtype=torch.float32]\n",
      "GS[0]__ __ __  SE3: size=torch.Size([6, 2]), device=cuda:0, dtype=torch.float32\n",
      "GS[0][:,jj] SE3: size=torch.Size([6, 2]), device=cuda:0, dtype=torch.float32\n"
     ]
    },
    {
     "name": "stderr",
     "output_type": "stream",
     "text": [
      " 93%|█████████▎| 1240/1333 [09:29<00:43,  2.12batch/s]"
     ]
    },
    {
     "name": "stdout",
     "output_type": "stream",
     "text": [
      "GS______ [SE3: size=torch.Size([6, 2]), device=cuda:0, dtype=torch.float32]\n",
      "GS[0]__ __ __  SE3: size=torch.Size([6, 2]), device=cuda:0, dtype=torch.float32\n",
      "GS[0][:,jj] SE3: size=torch.Size([6, 2]), device=cuda:0, dtype=torch.float32\n"
     ]
    },
    {
     "name": "stderr",
     "output_type": "stream",
     "text": [
      " 93%|█████████▎| 1241/1333 [09:29<00:43,  2.12batch/s]"
     ]
    },
    {
     "name": "stdout",
     "output_type": "stream",
     "text": [
      "GS______ [SE3: size=torch.Size([6, 2]), device=cuda:0, dtype=torch.float32]\n",
      "GS[0]__ __ __  SE3: size=torch.Size([6, 2]), device=cuda:0, dtype=torch.float32\n",
      "GS[0][:,jj] SE3: size=torch.Size([6, 2]), device=cuda:0, dtype=torch.float32\n"
     ]
    },
    {
     "name": "stderr",
     "output_type": "stream",
     "text": [
      " 93%|█████████▎| 1242/1333 [09:30<00:42,  2.12batch/s]"
     ]
    },
    {
     "name": "stdout",
     "output_type": "stream",
     "text": [
      "GS______ [SE3: size=torch.Size([6, 2]), device=cuda:0, dtype=torch.float32]\n",
      "GS[0]__ __ __  SE3: size=torch.Size([6, 2]), device=cuda:0, dtype=torch.float32\n",
      "GS[0][:,jj] SE3: size=torch.Size([6, 2]), device=cuda:0, dtype=torch.float32\n"
     ]
    },
    {
     "name": "stderr",
     "output_type": "stream",
     "text": [
      " 93%|█████████▎| 1243/1333 [09:30<00:42,  2.13batch/s]"
     ]
    },
    {
     "name": "stdout",
     "output_type": "stream",
     "text": [
      "GS______ [SE3: size=torch.Size([6, 2]), device=cuda:0, dtype=torch.float32]\n",
      "GS[0]__ __ __  SE3: size=torch.Size([6, 2]), device=cuda:0, dtype=torch.float32\n",
      "GS[0][:,jj] SE3: size=torch.Size([6, 2]), device=cuda:0, dtype=torch.float32\n"
     ]
    },
    {
     "name": "stderr",
     "output_type": "stream",
     "text": [
      " 93%|█████████▎| 1244/1333 [09:31<00:42,  2.11batch/s]"
     ]
    },
    {
     "name": "stdout",
     "output_type": "stream",
     "text": [
      "GS______ [SE3: size=torch.Size([6, 2]), device=cuda:0, dtype=torch.float32]\n",
      "GS[0]__ __ __  SE3: size=torch.Size([6, 2]), device=cuda:0, dtype=torch.float32\n",
      "GS[0][:,jj] SE3: size=torch.Size([6, 2]), device=cuda:0, dtype=torch.float32\n"
     ]
    },
    {
     "name": "stderr",
     "output_type": "stream",
     "text": [
      " 93%|█████████▎| 1245/1333 [09:31<00:41,  2.11batch/s]"
     ]
    },
    {
     "name": "stdout",
     "output_type": "stream",
     "text": [
      "GS______ [SE3: size=torch.Size([6, 2]), device=cuda:0, dtype=torch.float32]\n",
      "GS[0]__ __ __  SE3: size=torch.Size([6, 2]), device=cuda:0, dtype=torch.float32\n",
      "GS[0][:,jj] SE3: size=torch.Size([6, 2]), device=cuda:0, dtype=torch.float32\n"
     ]
    },
    {
     "name": "stderr",
     "output_type": "stream",
     "text": [
      " 93%|█████████▎| 1246/1333 [09:32<00:41,  2.10batch/s]"
     ]
    },
    {
     "name": "stdout",
     "output_type": "stream",
     "text": [
      "GS______ [SE3: size=torch.Size([6, 2]), device=cuda:0, dtype=torch.float32]\n",
      "GS[0]__ __ __  SE3: size=torch.Size([6, 2]), device=cuda:0, dtype=torch.float32\n",
      "GS[0][:,jj] SE3: size=torch.Size([6, 2]), device=cuda:0, dtype=torch.float32\n"
     ]
    },
    {
     "name": "stderr",
     "output_type": "stream",
     "text": [
      " 94%|█████████▎| 1247/1333 [09:32<00:41,  2.10batch/s]"
     ]
    },
    {
     "name": "stdout",
     "output_type": "stream",
     "text": [
      "GS______ [SE3: size=torch.Size([6, 2]), device=cuda:0, dtype=torch.float32]\n",
      "GS[0]__ __ __  SE3: size=torch.Size([6, 2]), device=cuda:0, dtype=torch.float32\n",
      "GS[0][:,jj] SE3: size=torch.Size([6, 2]), device=cuda:0, dtype=torch.float32\n"
     ]
    },
    {
     "name": "stderr",
     "output_type": "stream",
     "text": [
      " 94%|█████████▎| 1248/1333 [09:33<00:41,  2.07batch/s]"
     ]
    },
    {
     "name": "stdout",
     "output_type": "stream",
     "text": [
      "GS______ [SE3: size=torch.Size([6, 2]), device=cuda:0, dtype=torch.float32]\n",
      "GS[0]__ __ __  SE3: size=torch.Size([6, 2]), device=cuda:0, dtype=torch.float32\n",
      "GS[0][:,jj] SE3: size=torch.Size([6, 2]), device=cuda:0, dtype=torch.float32\n"
     ]
    },
    {
     "name": "stderr",
     "output_type": "stream",
     "text": [
      " 94%|█████████▎| 1249/1333 [09:33<00:40,  2.09batch/s]"
     ]
    },
    {
     "name": "stdout",
     "output_type": "stream",
     "text": [
      "GS______ [SE3: size=torch.Size([6, 2]), device=cuda:0, dtype=torch.float32]\n",
      "GS[0]__ __ __  SE3: size=torch.Size([6, 2]), device=cuda:0, dtype=torch.float32\n",
      "GS[0][:,jj] SE3: size=torch.Size([6, 2]), device=cuda:0, dtype=torch.float32\n"
     ]
    },
    {
     "name": "stderr",
     "output_type": "stream",
     "text": [
      " 94%|█████████▍| 1250/1333 [09:34<00:39,  2.08batch/s]"
     ]
    },
    {
     "name": "stdout",
     "output_type": "stream",
     "text": [
      "GS______ [SE3: size=torch.Size([6, 2]), device=cuda:0, dtype=torch.float32]\n",
      "GS[0]__ __ __  SE3: size=torch.Size([6, 2]), device=cuda:0, dtype=torch.float32\n",
      "GS[0][:,jj] SE3: size=torch.Size([6, 2]), device=cuda:0, dtype=torch.float32\n"
     ]
    },
    {
     "name": "stderr",
     "output_type": "stream",
     "text": [
      " 94%|█████████▍| 1251/1333 [09:34<00:39,  2.07batch/s]"
     ]
    },
    {
     "name": "stdout",
     "output_type": "stream",
     "text": [
      "GS______ [SE3: size=torch.Size([6, 2]), device=cuda:0, dtype=torch.float32]\n",
      "GS[0]__ __ __  SE3: size=torch.Size([6, 2]), device=cuda:0, dtype=torch.float32\n",
      "GS[0][:,jj] SE3: size=torch.Size([6, 2]), device=cuda:0, dtype=torch.float32\n"
     ]
    },
    {
     "name": "stderr",
     "output_type": "stream",
     "text": [
      " 94%|█████████▍| 1252/1333 [09:35<00:39,  2.07batch/s]"
     ]
    },
    {
     "name": "stdout",
     "output_type": "stream",
     "text": [
      "GS______ [SE3: size=torch.Size([6, 2]), device=cuda:0, dtype=torch.float32]\n",
      "GS[0]__ __ __  SE3: size=torch.Size([6, 2]), device=cuda:0, dtype=torch.float32\n",
      "GS[0][:,jj] SE3: size=torch.Size([6, 2]), device=cuda:0, dtype=torch.float32\n"
     ]
    },
    {
     "name": "stderr",
     "output_type": "stream",
     "text": [
      " 94%|█████████▍| 1253/1333 [09:35<00:38,  2.07batch/s]"
     ]
    },
    {
     "name": "stdout",
     "output_type": "stream",
     "text": [
      "GS______ [SE3: size=torch.Size([6, 2]), device=cuda:0, dtype=torch.float32]\n",
      "GS[0]__ __ __  SE3: size=torch.Size([6, 2]), device=cuda:0, dtype=torch.float32\n",
      "GS[0][:,jj] SE3: size=torch.Size([6, 2]), device=cuda:0, dtype=torch.float32\n"
     ]
    },
    {
     "name": "stderr",
     "output_type": "stream",
     "text": [
      " 94%|█████████▍| 1254/1333 [09:36<00:38,  2.03batch/s]"
     ]
    },
    {
     "name": "stdout",
     "output_type": "stream",
     "text": [
      "GS______ [SE3: size=torch.Size([6, 2]), device=cuda:0, dtype=torch.float32]\n",
      "GS[0]__ __ __  SE3: size=torch.Size([6, 2]), device=cuda:0, dtype=torch.float32\n",
      "GS[0][:,jj] SE3: size=torch.Size([6, 2]), device=cuda:0, dtype=torch.float32\n"
     ]
    },
    {
     "name": "stderr",
     "output_type": "stream",
     "text": [
      " 94%|█████████▍| 1255/1333 [09:36<00:38,  2.03batch/s]"
     ]
    },
    {
     "name": "stdout",
     "output_type": "stream",
     "text": [
      "GS______ [SE3: size=torch.Size([6, 2]), device=cuda:0, dtype=torch.float32]\n",
      "GS[0]__ __ __  SE3: size=torch.Size([6, 2]), device=cuda:0, dtype=torch.float32\n",
      "GS[0][:,jj] SE3: size=torch.Size([6, 2]), device=cuda:0, dtype=torch.float32\n"
     ]
    },
    {
     "name": "stderr",
     "output_type": "stream",
     "text": [
      " 94%|█████████▍| 1256/1333 [09:37<00:38,  2.02batch/s]"
     ]
    },
    {
     "name": "stdout",
     "output_type": "stream",
     "text": [
      "GS______ [SE3: size=torch.Size([6, 2]), device=cuda:0, dtype=torch.float32]\n",
      "GS[0]__ __ __  SE3: size=torch.Size([6, 2]), device=cuda:0, dtype=torch.float32\n",
      "GS[0][:,jj] SE3: size=torch.Size([6, 2]), device=cuda:0, dtype=torch.float32\n"
     ]
    },
    {
     "name": "stderr",
     "output_type": "stream",
     "text": [
      " 94%|█████████▍| 1257/1333 [09:37<00:37,  2.02batch/s]"
     ]
    },
    {
     "name": "stdout",
     "output_type": "stream",
     "text": [
      "GS______ [SE3: size=torch.Size([6, 2]), device=cuda:0, dtype=torch.float32]\n",
      "GS[0]__ __ __  SE3: size=torch.Size([6, 2]), device=cuda:0, dtype=torch.float32\n",
      "GS[0][:,jj] SE3: size=torch.Size([6, 2]), device=cuda:0, dtype=torch.float32\n"
     ]
    },
    {
     "name": "stderr",
     "output_type": "stream",
     "text": [
      " 94%|█████████▍| 1258/1333 [09:38<00:36,  2.03batch/s]"
     ]
    },
    {
     "name": "stdout",
     "output_type": "stream",
     "text": [
      "GS______ [SE3: size=torch.Size([6, 2]), device=cuda:0, dtype=torch.float32]\n",
      "GS[0]__ __ __  SE3: size=torch.Size([6, 2]), device=cuda:0, dtype=torch.float32\n",
      "GS[0][:,jj] SE3: size=torch.Size([6, 2]), device=cuda:0, dtype=torch.float32\n"
     ]
    },
    {
     "name": "stderr",
     "output_type": "stream",
     "text": [
      " 94%|█████████▍| 1259/1333 [09:38<00:36,  2.03batch/s]"
     ]
    },
    {
     "name": "stdout",
     "output_type": "stream",
     "text": [
      "GS______ [SE3: size=torch.Size([6, 2]), device=cuda:0, dtype=torch.float32]\n",
      "GS[0]__ __ __  SE3: size=torch.Size([6, 2]), device=cuda:0, dtype=torch.float32\n",
      "GS[0][:,jj] SE3: size=torch.Size([6, 2]), device=cuda:0, dtype=torch.float32\n"
     ]
    },
    {
     "name": "stderr",
     "output_type": "stream",
     "text": [
      " 95%|█████████▍| 1260/1333 [09:39<00:35,  2.05batch/s]"
     ]
    },
    {
     "name": "stdout",
     "output_type": "stream",
     "text": [
      "GS______ [SE3: size=torch.Size([6, 2]), device=cuda:0, dtype=torch.float32]\n",
      "GS[0]__ __ __  SE3: size=torch.Size([6, 2]), device=cuda:0, dtype=torch.float32\n",
      "GS[0][:,jj] SE3: size=torch.Size([6, 2]), device=cuda:0, dtype=torch.float32\n"
     ]
    },
    {
     "name": "stderr",
     "output_type": "stream",
     "text": [
      " 95%|█████████▍| 1261/1333 [09:39<00:34,  2.08batch/s]"
     ]
    },
    {
     "name": "stdout",
     "output_type": "stream",
     "text": [
      "GS______ [SE3: size=torch.Size([6, 2]), device=cuda:0, dtype=torch.float32]\n",
      "GS[0]__ __ __  SE3: size=torch.Size([6, 2]), device=cuda:0, dtype=torch.float32\n",
      "GS[0][:,jj] SE3: size=torch.Size([6, 2]), device=cuda:0, dtype=torch.float32\n"
     ]
    },
    {
     "name": "stderr",
     "output_type": "stream",
     "text": [
      " 95%|█████████▍| 1262/1333 [09:39<00:34,  2.06batch/s]"
     ]
    },
    {
     "name": "stdout",
     "output_type": "stream",
     "text": [
      "GS______ [SE3: size=torch.Size([6, 2]), device=cuda:0, dtype=torch.float32]\n",
      "GS[0]__ __ __  SE3: size=torch.Size([6, 2]), device=cuda:0, dtype=torch.float32\n",
      "GS[0][:,jj] SE3: size=torch.Size([6, 2]), device=cuda:0, dtype=torch.float32\n"
     ]
    },
    {
     "name": "stderr",
     "output_type": "stream",
     "text": [
      " 95%|█████████▍| 1263/1333 [09:40<00:33,  2.09batch/s]"
     ]
    },
    {
     "name": "stdout",
     "output_type": "stream",
     "text": [
      "GS______ [SE3: size=torch.Size([6, 2]), device=cuda:0, dtype=torch.float32]\n",
      "GS[0]__ __ __  SE3: size=torch.Size([6, 2]), device=cuda:0, dtype=torch.float32\n",
      "GS[0][:,jj] SE3: size=torch.Size([6, 2]), device=cuda:0, dtype=torch.float32\n"
     ]
    },
    {
     "name": "stderr",
     "output_type": "stream",
     "text": [
      " 95%|█████████▍| 1264/1333 [09:40<00:33,  2.07batch/s]"
     ]
    },
    {
     "name": "stdout",
     "output_type": "stream",
     "text": [
      "GS______ [SE3: size=torch.Size([6, 2]), device=cuda:0, dtype=torch.float32]\n",
      "GS[0]__ __ __  SE3: size=torch.Size([6, 2]), device=cuda:0, dtype=torch.float32\n",
      "GS[0][:,jj] SE3: size=torch.Size([6, 2]), device=cuda:0, dtype=torch.float32\n"
     ]
    },
    {
     "name": "stderr",
     "output_type": "stream",
     "text": [
      " 95%|█████████▍| 1265/1333 [09:41<00:32,  2.07batch/s]"
     ]
    },
    {
     "name": "stdout",
     "output_type": "stream",
     "text": [
      "GS______ [SE3: size=torch.Size([6, 2]), device=cuda:0, dtype=torch.float32]\n",
      "GS[0]__ __ __  SE3: size=torch.Size([6, 2]), device=cuda:0, dtype=torch.float32\n",
      "GS[0][:,jj] SE3: size=torch.Size([6, 2]), device=cuda:0, dtype=torch.float32\n"
     ]
    },
    {
     "name": "stderr",
     "output_type": "stream",
     "text": [
      " 95%|█████████▍| 1266/1333 [09:41<00:32,  2.05batch/s]"
     ]
    },
    {
     "name": "stdout",
     "output_type": "stream",
     "text": [
      "GS______ [SE3: size=torch.Size([6, 2]), device=cuda:0, dtype=torch.float32]\n",
      "GS[0]__ __ __  SE3: size=torch.Size([6, 2]), device=cuda:0, dtype=torch.float32\n",
      "GS[0][:,jj] SE3: size=torch.Size([6, 2]), device=cuda:0, dtype=torch.float32\n"
     ]
    },
    {
     "name": "stderr",
     "output_type": "stream",
     "text": [
      " 95%|█████████▌| 1267/1333 [09:42<00:34,  1.93batch/s]"
     ]
    },
    {
     "name": "stdout",
     "output_type": "stream",
     "text": [
      "GS______ [SE3: size=torch.Size([6, 2]), device=cuda:0, dtype=torch.float32]\n",
      "GS[0]__ __ __  SE3: size=torch.Size([6, 2]), device=cuda:0, dtype=torch.float32\n",
      "GS[0][:,jj] SE3: size=torch.Size([6, 2]), device=cuda:0, dtype=torch.float32\n"
     ]
    },
    {
     "name": "stderr",
     "output_type": "stream",
     "text": [
      " 95%|█████████▌| 1268/1333 [09:42<00:33,  1.96batch/s]"
     ]
    },
    {
     "name": "stdout",
     "output_type": "stream",
     "text": [
      "GS______ [SE3: size=torch.Size([6, 2]), device=cuda:0, dtype=torch.float32]\n",
      "GS[0]__ __ __  SE3: size=torch.Size([6, 2]), device=cuda:0, dtype=torch.float32\n",
      "GS[0][:,jj] SE3: size=torch.Size([6, 2]), device=cuda:0, dtype=torch.float32\n"
     ]
    },
    {
     "name": "stderr",
     "output_type": "stream",
     "text": [
      " 95%|█████████▌| 1269/1333 [09:43<00:31,  2.01batch/s]"
     ]
    },
    {
     "name": "stdout",
     "output_type": "stream",
     "text": [
      "GS______ [SE3: size=torch.Size([6, 2]), device=cuda:0, dtype=torch.float32]\n",
      "GS[0]__ __ __  SE3: size=torch.Size([6, 2]), device=cuda:0, dtype=torch.float32\n",
      "GS[0][:,jj] SE3: size=torch.Size([6, 2]), device=cuda:0, dtype=torch.float32\n"
     ]
    },
    {
     "name": "stderr",
     "output_type": "stream",
     "text": [
      " 95%|█████████▌| 1270/1333 [09:43<00:30,  2.04batch/s]"
     ]
    },
    {
     "name": "stdout",
     "output_type": "stream",
     "text": [
      "GS______ [SE3: size=torch.Size([6, 2]), device=cuda:0, dtype=torch.float32]\n",
      "GS[0]__ __ __  SE3: size=torch.Size([6, 2]), device=cuda:0, dtype=torch.float32\n",
      "GS[0][:,jj] SE3: size=torch.Size([6, 2]), device=cuda:0, dtype=torch.float32\n"
     ]
    },
    {
     "name": "stderr",
     "output_type": "stream",
     "text": [
      " 95%|█████████▌| 1271/1333 [09:44<00:30,  2.03batch/s]"
     ]
    },
    {
     "name": "stdout",
     "output_type": "stream",
     "text": [
      "GS______ [SE3: size=torch.Size([6, 2]), device=cuda:0, dtype=torch.float32]\n",
      "GS[0]__ __ __  SE3: size=torch.Size([6, 2]), device=cuda:0, dtype=torch.float32\n",
      "GS[0][:,jj] SE3: size=torch.Size([6, 2]), device=cuda:0, dtype=torch.float32\n"
     ]
    },
    {
     "name": "stderr",
     "output_type": "stream",
     "text": [
      " 95%|█████████▌| 1272/1333 [09:44<00:29,  2.04batch/s]"
     ]
    },
    {
     "name": "stdout",
     "output_type": "stream",
     "text": [
      "GS______ [SE3: size=torch.Size([6, 2]), device=cuda:0, dtype=torch.float32]\n",
      "GS[0]__ __ __  SE3: size=torch.Size([6, 2]), device=cuda:0, dtype=torch.float32\n",
      "GS[0][:,jj] SE3: size=torch.Size([6, 2]), device=cuda:0, dtype=torch.float32\n"
     ]
    },
    {
     "name": "stderr",
     "output_type": "stream",
     "text": [
      " 95%|█████████▌| 1273/1333 [09:45<00:29,  2.02batch/s]"
     ]
    },
    {
     "name": "stdout",
     "output_type": "stream",
     "text": [
      "GS______ [SE3: size=torch.Size([6, 2]), device=cuda:0, dtype=torch.float32]\n",
      "GS[0]__ __ __  SE3: size=torch.Size([6, 2]), device=cuda:0, dtype=torch.float32\n",
      "GS[0][:,jj] SE3: size=torch.Size([6, 2]), device=cuda:0, dtype=torch.float32\n"
     ]
    },
    {
     "name": "stderr",
     "output_type": "stream",
     "text": [
      " 96%|█████████▌| 1274/1333 [09:45<00:28,  2.04batch/s]"
     ]
    },
    {
     "name": "stdout",
     "output_type": "stream",
     "text": [
      "GS______ [SE3: size=torch.Size([6, 2]), device=cuda:0, dtype=torch.float32]\n",
      "GS[0]__ __ __  SE3: size=torch.Size([6, 2]), device=cuda:0, dtype=torch.float32\n",
      "GS[0][:,jj] SE3: size=torch.Size([6, 2]), device=cuda:0, dtype=torch.float32\n"
     ]
    },
    {
     "name": "stderr",
     "output_type": "stream",
     "text": [
      " 96%|█████████▌| 1275/1333 [09:46<00:28,  2.06batch/s]"
     ]
    },
    {
     "name": "stdout",
     "output_type": "stream",
     "text": [
      "GS______ [SE3: size=torch.Size([6, 2]), device=cuda:0, dtype=torch.float32]\n",
      "GS[0]__ __ __  SE3: size=torch.Size([6, 2]), device=cuda:0, dtype=torch.float32\n",
      "GS[0][:,jj] SE3: size=torch.Size([6, 2]), device=cuda:0, dtype=torch.float32\n"
     ]
    },
    {
     "name": "stderr",
     "output_type": "stream",
     "text": [
      " 96%|█████████▌| 1276/1333 [09:46<00:27,  2.08batch/s]"
     ]
    },
    {
     "name": "stdout",
     "output_type": "stream",
     "text": [
      "GS______ [SE3: size=torch.Size([6, 2]), device=cuda:0, dtype=torch.float32]\n",
      "GS[0]__ __ __  SE3: size=torch.Size([6, 2]), device=cuda:0, dtype=torch.float32\n",
      "GS[0][:,jj] SE3: size=torch.Size([6, 2]), device=cuda:0, dtype=torch.float32\n"
     ]
    },
    {
     "name": "stderr",
     "output_type": "stream",
     "text": [
      " 96%|█████████▌| 1277/1333 [09:47<00:26,  2.08batch/s]"
     ]
    },
    {
     "name": "stdout",
     "output_type": "stream",
     "text": [
      "GS______ [SE3: size=torch.Size([6, 2]), device=cuda:0, dtype=torch.float32]\n",
      "GS[0]__ __ __  SE3: size=torch.Size([6, 2]), device=cuda:0, dtype=torch.float32\n",
      "GS[0][:,jj] SE3: size=torch.Size([6, 2]), device=cuda:0, dtype=torch.float32\n"
     ]
    },
    {
     "name": "stderr",
     "output_type": "stream",
     "text": [
      " 96%|█████████▌| 1278/1333 [09:47<00:26,  2.10batch/s]"
     ]
    },
    {
     "name": "stdout",
     "output_type": "stream",
     "text": [
      "GS______ [SE3: size=torch.Size([6, 2]), device=cuda:0, dtype=torch.float32]\n",
      "GS[0]__ __ __  SE3: size=torch.Size([6, 2]), device=cuda:0, dtype=torch.float32\n",
      "GS[0][:,jj] SE3: size=torch.Size([6, 2]), device=cuda:0, dtype=torch.float32\n"
     ]
    },
    {
     "name": "stderr",
     "output_type": "stream",
     "text": [
      " 96%|█████████▌| 1279/1333 [09:48<00:25,  2.11batch/s]"
     ]
    },
    {
     "name": "stdout",
     "output_type": "stream",
     "text": [
      "GS______ [SE3: size=torch.Size([6, 2]), device=cuda:0, dtype=torch.float32]\n",
      "GS[0]__ __ __  SE3: size=torch.Size([6, 2]), device=cuda:0, dtype=torch.float32\n",
      "GS[0][:,jj] SE3: size=torch.Size([6, 2]), device=cuda:0, dtype=torch.float32\n"
     ]
    },
    {
     "name": "stderr",
     "output_type": "stream",
     "text": [
      " 96%|█████████▌| 1280/1333 [09:48<00:25,  2.10batch/s]"
     ]
    },
    {
     "name": "stdout",
     "output_type": "stream",
     "text": [
      "GS______ [SE3: size=torch.Size([6, 2]), device=cuda:0, dtype=torch.float32]\n",
      "GS[0]__ __ __  SE3: size=torch.Size([6, 2]), device=cuda:0, dtype=torch.float32\n",
      "GS[0][:,jj] SE3: size=torch.Size([6, 2]), device=cuda:0, dtype=torch.float32\n"
     ]
    },
    {
     "name": "stderr",
     "output_type": "stream",
     "text": [
      " 96%|█████████▌| 1281/1333 [09:49<00:24,  2.10batch/s]"
     ]
    },
    {
     "name": "stdout",
     "output_type": "stream",
     "text": [
      "GS______ [SE3: size=torch.Size([6, 2]), device=cuda:0, dtype=torch.float32]\n",
      "GS[0]__ __ __  SE3: size=torch.Size([6, 2]), device=cuda:0, dtype=torch.float32\n",
      "GS[0][:,jj] SE3: size=torch.Size([6, 2]), device=cuda:0, dtype=torch.float32\n"
     ]
    },
    {
     "name": "stderr",
     "output_type": "stream",
     "text": [
      " 96%|█████████▌| 1282/1333 [09:49<00:24,  2.10batch/s]"
     ]
    },
    {
     "name": "stdout",
     "output_type": "stream",
     "text": [
      "GS______ [SE3: size=torch.Size([6, 2]), device=cuda:0, dtype=torch.float32]\n",
      "GS[0]__ __ __  SE3: size=torch.Size([6, 2]), device=cuda:0, dtype=torch.float32\n",
      "GS[0][:,jj] SE3: size=torch.Size([6, 2]), device=cuda:0, dtype=torch.float32\n"
     ]
    },
    {
     "name": "stderr",
     "output_type": "stream",
     "text": [
      " 96%|█████████▌| 1283/1333 [09:50<00:24,  2.03batch/s]"
     ]
    },
    {
     "name": "stdout",
     "output_type": "stream",
     "text": [
      "GS______ [SE3: size=torch.Size([6, 2]), device=cuda:0, dtype=torch.float32]\n",
      "GS[0]__ __ __  SE3: size=torch.Size([6, 2]), device=cuda:0, dtype=torch.float32\n",
      "GS[0][:,jj] SE3: size=torch.Size([6, 2]), device=cuda:0, dtype=torch.float32\n"
     ]
    },
    {
     "name": "stderr",
     "output_type": "stream",
     "text": [
      " 96%|█████████▋| 1284/1333 [09:50<00:25,  1.94batch/s]"
     ]
    },
    {
     "name": "stdout",
     "output_type": "stream",
     "text": [
      "GS______ [SE3: size=torch.Size([6, 2]), device=cuda:0, dtype=torch.float32]\n",
      "GS[0]__ __ __  SE3: size=torch.Size([6, 2]), device=cuda:0, dtype=torch.float32\n",
      "GS[0][:,jj] SE3: size=torch.Size([6, 2]), device=cuda:0, dtype=torch.float32\n"
     ]
    },
    {
     "name": "stderr",
     "output_type": "stream",
     "text": [
      " 96%|█████████▋| 1285/1333 [09:51<00:23,  2.00batch/s]"
     ]
    },
    {
     "name": "stdout",
     "output_type": "stream",
     "text": [
      "GS______ [SE3: size=torch.Size([6, 2]), device=cuda:0, dtype=torch.float32]\n",
      "GS[0]__ __ __  SE3: size=torch.Size([6, 2]), device=cuda:0, dtype=torch.float32\n",
      "GS[0][:,jj] SE3: size=torch.Size([6, 2]), device=cuda:0, dtype=torch.float32\n"
     ]
    },
    {
     "name": "stderr",
     "output_type": "stream",
     "text": [
      " 96%|█████████▋| 1286/1333 [09:51<00:22,  2.05batch/s]"
     ]
    },
    {
     "name": "stdout",
     "output_type": "stream",
     "text": [
      "GS______ [SE3: size=torch.Size([6, 2]), device=cuda:0, dtype=torch.float32]\n",
      "GS[0]__ __ __  SE3: size=torch.Size([6, 2]), device=cuda:0, dtype=torch.float32\n",
      "GS[0][:,jj] SE3: size=torch.Size([6, 2]), device=cuda:0, dtype=torch.float32\n"
     ]
    },
    {
     "name": "stderr",
     "output_type": "stream",
     "text": [
      " 97%|█████████▋| 1287/1333 [09:52<00:22,  2.06batch/s]"
     ]
    },
    {
     "name": "stdout",
     "output_type": "stream",
     "text": [
      "GS______ [SE3: size=torch.Size([6, 2]), device=cuda:0, dtype=torch.float32]\n",
      "GS[0]__ __ __  SE3: size=torch.Size([6, 2]), device=cuda:0, dtype=torch.float32\n",
      "GS[0][:,jj] SE3: size=torch.Size([6, 2]), device=cuda:0, dtype=torch.float32\n"
     ]
    },
    {
     "name": "stderr",
     "output_type": "stream",
     "text": [
      " 97%|█████████▋| 1288/1333 [09:52<00:22,  2.01batch/s]"
     ]
    },
    {
     "name": "stdout",
     "output_type": "stream",
     "text": [
      "GS______ [SE3: size=torch.Size([6, 2]), device=cuda:0, dtype=torch.float32]\n",
      "GS[0]__ __ __  SE3: size=torch.Size([6, 2]), device=cuda:0, dtype=torch.float32\n",
      "GS[0][:,jj] SE3: size=torch.Size([6, 2]), device=cuda:0, dtype=torch.float32\n"
     ]
    },
    {
     "name": "stderr",
     "output_type": "stream",
     "text": [
      " 97%|█████████▋| 1289/1333 [09:53<00:22,  1.98batch/s]"
     ]
    },
    {
     "name": "stdout",
     "output_type": "stream",
     "text": [
      "GS______ [SE3: size=torch.Size([6, 2]), device=cuda:0, dtype=torch.float32]\n",
      "GS[0]__ __ __  SE3: size=torch.Size([6, 2]), device=cuda:0, dtype=torch.float32\n",
      "GS[0][:,jj] SE3: size=torch.Size([6, 2]), device=cuda:0, dtype=torch.float32\n"
     ]
    },
    {
     "name": "stderr",
     "output_type": "stream",
     "text": [
      " 97%|█████████▋| 1290/1333 [09:53<00:21,  1.98batch/s]"
     ]
    },
    {
     "name": "stdout",
     "output_type": "stream",
     "text": [
      "GS______ [SE3: size=torch.Size([6, 2]), device=cuda:0, dtype=torch.float32]\n",
      "GS[0]__ __ __  SE3: size=torch.Size([6, 2]), device=cuda:0, dtype=torch.float32\n",
      "GS[0][:,jj] SE3: size=torch.Size([6, 2]), device=cuda:0, dtype=torch.float32\n"
     ]
    },
    {
     "name": "stderr",
     "output_type": "stream",
     "text": [
      " 97%|█████████▋| 1291/1333 [09:54<00:20,  2.02batch/s]"
     ]
    },
    {
     "name": "stdout",
     "output_type": "stream",
     "text": [
      "GS______ [SE3: size=torch.Size([6, 2]), device=cuda:0, dtype=torch.float32]\n",
      "GS[0]__ __ __  SE3: size=torch.Size([6, 2]), device=cuda:0, dtype=torch.float32\n",
      "GS[0][:,jj] SE3: size=torch.Size([6, 2]), device=cuda:0, dtype=torch.float32\n"
     ]
    },
    {
     "name": "stderr",
     "output_type": "stream",
     "text": [
      " 97%|█████████▋| 1292/1333 [09:54<00:19,  2.06batch/s]"
     ]
    },
    {
     "name": "stdout",
     "output_type": "stream",
     "text": [
      "GS______ [SE3: size=torch.Size([6, 2]), device=cuda:0, dtype=torch.float32]\n",
      "GS[0]__ __ __  SE3: size=torch.Size([6, 2]), device=cuda:0, dtype=torch.float32\n",
      "GS[0][:,jj] SE3: size=torch.Size([6, 2]), device=cuda:0, dtype=torch.float32\n"
     ]
    },
    {
     "name": "stderr",
     "output_type": "stream",
     "text": [
      " 97%|█████████▋| 1293/1333 [09:55<00:19,  2.08batch/s]"
     ]
    },
    {
     "name": "stdout",
     "output_type": "stream",
     "text": [
      "GS______ [SE3: size=torch.Size([6, 2]), device=cuda:0, dtype=torch.float32]\n",
      "GS[0]__ __ __  SE3: size=torch.Size([6, 2]), device=cuda:0, dtype=torch.float32\n",
      "GS[0][:,jj] SE3: size=torch.Size([6, 2]), device=cuda:0, dtype=torch.float32\n"
     ]
    },
    {
     "name": "stderr",
     "output_type": "stream",
     "text": [
      " 97%|█████████▋| 1294/1333 [09:55<00:19,  2.00batch/s]"
     ]
    },
    {
     "name": "stdout",
     "output_type": "stream",
     "text": [
      "GS______ [SE3: size=torch.Size([6, 2]), device=cuda:0, dtype=torch.float32]\n",
      "GS[0]__ __ __  SE3: size=torch.Size([6, 2]), device=cuda:0, dtype=torch.float32\n",
      "GS[0][:,jj] SE3: size=torch.Size([6, 2]), device=cuda:0, dtype=torch.float32\n"
     ]
    },
    {
     "name": "stderr",
     "output_type": "stream",
     "text": [
      " 97%|█████████▋| 1295/1333 [09:56<00:19,  1.99batch/s]"
     ]
    },
    {
     "name": "stdout",
     "output_type": "stream",
     "text": [
      "GS______ [SE3: size=torch.Size([6, 2]), device=cuda:0, dtype=torch.float32]\n",
      "GS[0]__ __ __  SE3: size=torch.Size([6, 2]), device=cuda:0, dtype=torch.float32\n",
      "GS[0][:,jj] SE3: size=torch.Size([6, 2]), device=cuda:0, dtype=torch.float32\n"
     ]
    },
    {
     "name": "stderr",
     "output_type": "stream",
     "text": [
      " 97%|█████████▋| 1296/1333 [09:56<00:19,  1.90batch/s]"
     ]
    },
    {
     "name": "stdout",
     "output_type": "stream",
     "text": [
      "GS______ [SE3: size=torch.Size([6, 2]), device=cuda:0, dtype=torch.float32]\n",
      "GS[0]__ __ __  SE3: size=torch.Size([6, 2]), device=cuda:0, dtype=torch.float32\n",
      "GS[0][:,jj] SE3: size=torch.Size([6, 2]), device=cuda:0, dtype=torch.float32\n"
     ]
    },
    {
     "name": "stderr",
     "output_type": "stream",
     "text": [
      " 97%|█████████▋| 1297/1333 [09:57<00:19,  1.87batch/s]"
     ]
    },
    {
     "name": "stdout",
     "output_type": "stream",
     "text": [
      "GS______ [SE3: size=torch.Size([6, 2]), device=cuda:0, dtype=torch.float32]\n",
      "GS[0]__ __ __  SE3: size=torch.Size([6, 2]), device=cuda:0, dtype=torch.float32\n",
      "GS[0][:,jj] SE3: size=torch.Size([6, 2]), device=cuda:0, dtype=torch.float32\n"
     ]
    },
    {
     "name": "stderr",
     "output_type": "stream",
     "text": [
      " 97%|█████████▋| 1298/1333 [09:57<00:18,  1.86batch/s]"
     ]
    },
    {
     "name": "stdout",
     "output_type": "stream",
     "text": [
      "GS______ [SE3: size=torch.Size([6, 2]), device=cuda:0, dtype=torch.float32]\n",
      "GS[0]__ __ __  SE3: size=torch.Size([6, 2]), device=cuda:0, dtype=torch.float32\n",
      "GS[0][:,jj] SE3: size=torch.Size([6, 2]), device=cuda:0, dtype=torch.float32\n"
     ]
    },
    {
     "name": "stderr",
     "output_type": "stream",
     "text": [
      " 97%|█████████▋| 1299/1333 [09:58<00:18,  1.84batch/s]"
     ]
    },
    {
     "name": "stdout",
     "output_type": "stream",
     "text": [
      "GS______ [SE3: size=torch.Size([6, 2]), device=cuda:0, dtype=torch.float32]\n",
      "GS[0]__ __ __  SE3: size=torch.Size([6, 2]), device=cuda:0, dtype=torch.float32\n",
      "GS[0][:,jj] SE3: size=torch.Size([6, 2]), device=cuda:0, dtype=torch.float32\n"
     ]
    },
    {
     "name": "stderr",
     "output_type": "stream",
     "text": [
      " 98%|█████████▊| 1300/1333 [09:58<00:17,  1.92batch/s]"
     ]
    },
    {
     "name": "stdout",
     "output_type": "stream",
     "text": [
      "GS______ [SE3: size=torch.Size([6, 2]), device=cuda:0, dtype=torch.float32]\n",
      "GS[0]__ __ __  SE3: size=torch.Size([6, 2]), device=cuda:0, dtype=torch.float32\n",
      "GS[0][:,jj] SE3: size=torch.Size([6, 2]), device=cuda:0, dtype=torch.float32\n"
     ]
    },
    {
     "name": "stderr",
     "output_type": "stream",
     "text": [
      " 98%|█████████▊| 1301/1333 [09:59<00:16,  1.97batch/s]"
     ]
    },
    {
     "name": "stdout",
     "output_type": "stream",
     "text": [
      "GS______ [SE3: size=torch.Size([6, 2]), device=cuda:0, dtype=torch.float32]\n",
      "GS[0]__ __ __  SE3: size=torch.Size([6, 2]), device=cuda:0, dtype=torch.float32\n",
      "GS[0][:,jj] SE3: size=torch.Size([6, 2]), device=cuda:0, dtype=torch.float32\n"
     ]
    },
    {
     "name": "stderr",
     "output_type": "stream",
     "text": [
      " 98%|█████████▊| 1302/1333 [09:59<00:15,  2.02batch/s]"
     ]
    },
    {
     "name": "stdout",
     "output_type": "stream",
     "text": [
      "GS______ [SE3: size=torch.Size([6, 2]), device=cuda:0, dtype=torch.float32]\n",
      "GS[0]__ __ __  SE3: size=torch.Size([6, 2]), device=cuda:0, dtype=torch.float32\n",
      "GS[0][:,jj] SE3: size=torch.Size([6, 2]), device=cuda:0, dtype=torch.float32\n"
     ]
    },
    {
     "name": "stderr",
     "output_type": "stream",
     "text": [
      " 98%|█████████▊| 1303/1333 [10:00<00:14,  2.02batch/s]"
     ]
    },
    {
     "name": "stdout",
     "output_type": "stream",
     "text": [
      "GS______ [SE3: size=torch.Size([6, 2]), device=cuda:0, dtype=torch.float32]\n",
      "GS[0]__ __ __  SE3: size=torch.Size([6, 2]), device=cuda:0, dtype=torch.float32\n",
      "GS[0][:,jj] SE3: size=torch.Size([6, 2]), device=cuda:0, dtype=torch.float32\n"
     ]
    },
    {
     "name": "stderr",
     "output_type": "stream",
     "text": [
      " 98%|█████████▊| 1304/1333 [10:00<00:14,  2.03batch/s]"
     ]
    },
    {
     "name": "stdout",
     "output_type": "stream",
     "text": [
      "GS______ [SE3: size=torch.Size([6, 2]), device=cuda:0, dtype=torch.float32]\n",
      "GS[0]__ __ __  SE3: size=torch.Size([6, 2]), device=cuda:0, dtype=torch.float32\n",
      "GS[0][:,jj] SE3: size=torch.Size([6, 2]), device=cuda:0, dtype=torch.float32\n"
     ]
    },
    {
     "name": "stderr",
     "output_type": "stream",
     "text": [
      " 98%|█████████▊| 1305/1333 [10:01<00:13,  2.04batch/s]"
     ]
    },
    {
     "name": "stdout",
     "output_type": "stream",
     "text": [
      "GS______ [SE3: size=torch.Size([6, 2]), device=cuda:0, dtype=torch.float32]\n",
      "GS[0]__ __ __  SE3: size=torch.Size([6, 2]), device=cuda:0, dtype=torch.float32\n",
      "GS[0][:,jj] SE3: size=torch.Size([6, 2]), device=cuda:0, dtype=torch.float32\n"
     ]
    },
    {
     "name": "stderr",
     "output_type": "stream",
     "text": [
      " 98%|█████████▊| 1306/1333 [10:01<00:12,  2.09batch/s]"
     ]
    },
    {
     "name": "stdout",
     "output_type": "stream",
     "text": [
      "GS______ [SE3: size=torch.Size([6, 2]), device=cuda:0, dtype=torch.float32]\n",
      "GS[0]__ __ __  SE3: size=torch.Size([6, 2]), device=cuda:0, dtype=torch.float32\n",
      "GS[0][:,jj] SE3: size=torch.Size([6, 2]), device=cuda:0, dtype=torch.float32\n"
     ]
    },
    {
     "name": "stderr",
     "output_type": "stream",
     "text": [
      " 98%|█████████▊| 1307/1333 [10:02<00:12,  2.12batch/s]"
     ]
    },
    {
     "name": "stdout",
     "output_type": "stream",
     "text": [
      "GS______ [SE3: size=torch.Size([6, 2]), device=cuda:0, dtype=torch.float32]\n",
      "GS[0]__ __ __  SE3: size=torch.Size([6, 2]), device=cuda:0, dtype=torch.float32\n",
      "GS[0][:,jj] SE3: size=torch.Size([6, 2]), device=cuda:0, dtype=torch.float32\n"
     ]
    },
    {
     "name": "stderr",
     "output_type": "stream",
     "text": [
      " 98%|█████████▊| 1308/1333 [10:02<00:11,  2.12batch/s]"
     ]
    },
    {
     "name": "stdout",
     "output_type": "stream",
     "text": [
      "GS______ [SE3: size=torch.Size([6, 2]), device=cuda:0, dtype=torch.float32]\n",
      "GS[0]__ __ __  SE3: size=torch.Size([6, 2]), device=cuda:0, dtype=torch.float32\n",
      "GS[0][:,jj] SE3: size=torch.Size([6, 2]), device=cuda:0, dtype=torch.float32\n"
     ]
    },
    {
     "name": "stderr",
     "output_type": "stream",
     "text": [
      " 98%|█████████▊| 1309/1333 [10:03<00:11,  2.13batch/s]"
     ]
    },
    {
     "name": "stdout",
     "output_type": "stream",
     "text": [
      "GS______ [SE3: size=torch.Size([6, 2]), device=cuda:0, dtype=torch.float32]\n",
      "GS[0]__ __ __  SE3: size=torch.Size([6, 2]), device=cuda:0, dtype=torch.float32\n",
      "GS[0][:,jj] SE3: size=torch.Size([6, 2]), device=cuda:0, dtype=torch.float32\n"
     ]
    },
    {
     "name": "stderr",
     "output_type": "stream",
     "text": [
      " 98%|█████████▊| 1310/1333 [10:03<00:10,  2.12batch/s]"
     ]
    },
    {
     "name": "stdout",
     "output_type": "stream",
     "text": [
      "GS______ [SE3: size=torch.Size([6, 2]), device=cuda:0, dtype=torch.float32]\n",
      "GS[0]__ __ __  SE3: size=torch.Size([6, 2]), device=cuda:0, dtype=torch.float32\n",
      "GS[0][:,jj] SE3: size=torch.Size([6, 2]), device=cuda:0, dtype=torch.float32\n"
     ]
    },
    {
     "name": "stderr",
     "output_type": "stream",
     "text": [
      " 98%|█████████▊| 1311/1333 [10:04<00:10,  2.11batch/s]"
     ]
    },
    {
     "name": "stdout",
     "output_type": "stream",
     "text": [
      "GS______ [SE3: size=torch.Size([6, 2]), device=cuda:0, dtype=torch.float32]\n",
      "GS[0]__ __ __  SE3: size=torch.Size([6, 2]), device=cuda:0, dtype=torch.float32\n",
      "GS[0][:,jj] SE3: size=torch.Size([6, 2]), device=cuda:0, dtype=torch.float32\n"
     ]
    },
    {
     "name": "stderr",
     "output_type": "stream",
     "text": [
      " 98%|█████████▊| 1312/1333 [10:04<00:09,  2.11batch/s]"
     ]
    },
    {
     "name": "stdout",
     "output_type": "stream",
     "text": [
      "GS______ [SE3: size=torch.Size([6, 2]), device=cuda:0, dtype=torch.float32]\n",
      "GS[0]__ __ __  SE3: size=torch.Size([6, 2]), device=cuda:0, dtype=torch.float32\n",
      "GS[0][:,jj] SE3: size=torch.Size([6, 2]), device=cuda:0, dtype=torch.float32\n"
     ]
    },
    {
     "name": "stderr",
     "output_type": "stream",
     "text": [
      " 98%|█████████▊| 1313/1333 [10:05<00:09,  2.12batch/s]"
     ]
    },
    {
     "name": "stdout",
     "output_type": "stream",
     "text": [
      "GS______ [SE3: size=torch.Size([6, 2]), device=cuda:0, dtype=torch.float32]\n",
      "GS[0]__ __ __  SE3: size=torch.Size([6, 2]), device=cuda:0, dtype=torch.float32\n",
      "GS[0][:,jj] SE3: size=torch.Size([6, 2]), device=cuda:0, dtype=torch.float32\n"
     ]
    },
    {
     "name": "stderr",
     "output_type": "stream",
     "text": [
      " 99%|█████████▊| 1314/1333 [10:05<00:08,  2.12batch/s]"
     ]
    },
    {
     "name": "stdout",
     "output_type": "stream",
     "text": [
      "GS______ [SE3: size=torch.Size([6, 2]), device=cuda:0, dtype=torch.float32]\n",
      "GS[0]__ __ __  SE3: size=torch.Size([6, 2]), device=cuda:0, dtype=torch.float32\n",
      "GS[0][:,jj] SE3: size=torch.Size([6, 2]), device=cuda:0, dtype=torch.float32\n"
     ]
    },
    {
     "name": "stderr",
     "output_type": "stream",
     "text": [
      " 99%|█████████▊| 1315/1333 [10:05<00:08,  2.13batch/s]"
     ]
    },
    {
     "name": "stdout",
     "output_type": "stream",
     "text": [
      "GS______ [SE3: size=torch.Size([6, 2]), device=cuda:0, dtype=torch.float32]\n",
      "GS[0]__ __ __  SE3: size=torch.Size([6, 2]), device=cuda:0, dtype=torch.float32\n",
      "GS[0][:,jj] SE3: size=torch.Size([6, 2]), device=cuda:0, dtype=torch.float32\n"
     ]
    },
    {
     "name": "stderr",
     "output_type": "stream",
     "text": [
      " 99%|█████████▊| 1316/1333 [10:06<00:07,  2.14batch/s]"
     ]
    },
    {
     "name": "stdout",
     "output_type": "stream",
     "text": [
      "GS______ [SE3: size=torch.Size([6, 2]), device=cuda:0, dtype=torch.float32]\n",
      "GS[0]__ __ __  SE3: size=torch.Size([6, 2]), device=cuda:0, dtype=torch.float32\n",
      "GS[0][:,jj] SE3: size=torch.Size([6, 2]), device=cuda:0, dtype=torch.float32\n"
     ]
    },
    {
     "name": "stderr",
     "output_type": "stream",
     "text": [
      " 99%|█████████▉| 1317/1333 [10:06<00:07,  2.14batch/s]"
     ]
    },
    {
     "name": "stdout",
     "output_type": "stream",
     "text": [
      "GS______ [SE3: size=torch.Size([6, 2]), device=cuda:0, dtype=torch.float32]\n",
      "GS[0]__ __ __  SE3: size=torch.Size([6, 2]), device=cuda:0, dtype=torch.float32\n",
      "GS[0][:,jj] SE3: size=torch.Size([6, 2]), device=cuda:0, dtype=torch.float32\n"
     ]
    },
    {
     "name": "stderr",
     "output_type": "stream",
     "text": [
      " 99%|█████████▉| 1318/1333 [10:07<00:07,  2.14batch/s]"
     ]
    },
    {
     "name": "stdout",
     "output_type": "stream",
     "text": [
      "GS______ [SE3: size=torch.Size([6, 2]), device=cuda:0, dtype=torch.float32]\n",
      "GS[0]__ __ __  SE3: size=torch.Size([6, 2]), device=cuda:0, dtype=torch.float32\n",
      "GS[0][:,jj] SE3: size=torch.Size([6, 2]), device=cuda:0, dtype=torch.float32\n"
     ]
    },
    {
     "name": "stderr",
     "output_type": "stream",
     "text": [
      " 99%|█████████▉| 1319/1333 [10:07<00:06,  2.13batch/s]"
     ]
    },
    {
     "name": "stdout",
     "output_type": "stream",
     "text": [
      "GS______ [SE3: size=torch.Size([6, 2]), device=cuda:0, dtype=torch.float32]\n",
      "GS[0]__ __ __  SE3: size=torch.Size([6, 2]), device=cuda:0, dtype=torch.float32\n",
      "GS[0][:,jj] SE3: size=torch.Size([6, 2]), device=cuda:0, dtype=torch.float32\n"
     ]
    },
    {
     "name": "stderr",
     "output_type": "stream",
     "text": [
      " 99%|█████████▉| 1320/1333 [10:08<00:06,  2.13batch/s]"
     ]
    },
    {
     "name": "stdout",
     "output_type": "stream",
     "text": [
      "GS______ [SE3: size=torch.Size([6, 2]), device=cuda:0, dtype=torch.float32]\n",
      "GS[0]__ __ __  SE3: size=torch.Size([6, 2]), device=cuda:0, dtype=torch.float32\n",
      "GS[0][:,jj] SE3: size=torch.Size([6, 2]), device=cuda:0, dtype=torch.float32\n"
     ]
    },
    {
     "name": "stderr",
     "output_type": "stream",
     "text": [
      " 99%|█████████▉| 1321/1333 [10:08<00:05,  2.15batch/s]"
     ]
    },
    {
     "name": "stdout",
     "output_type": "stream",
     "text": [
      "GS______ [SE3: size=torch.Size([6, 2]), device=cuda:0, dtype=torch.float32]\n",
      "GS[0]__ __ __  SE3: size=torch.Size([6, 2]), device=cuda:0, dtype=torch.float32\n",
      "GS[0][:,jj] SE3: size=torch.Size([6, 2]), device=cuda:0, dtype=torch.float32\n"
     ]
    },
    {
     "name": "stderr",
     "output_type": "stream",
     "text": [
      " 99%|█████████▉| 1322/1333 [10:09<00:05,  2.13batch/s]"
     ]
    },
    {
     "name": "stdout",
     "output_type": "stream",
     "text": [
      "GS______ [SE3: size=torch.Size([6, 2]), device=cuda:0, dtype=torch.float32]\n",
      "GS[0]__ __ __  SE3: size=torch.Size([6, 2]), device=cuda:0, dtype=torch.float32\n",
      "GS[0][:,jj] SE3: size=torch.Size([6, 2]), device=cuda:0, dtype=torch.float32\n"
     ]
    },
    {
     "name": "stderr",
     "output_type": "stream",
     "text": [
      " 99%|█████████▉| 1323/1333 [10:09<00:04,  2.15batch/s]"
     ]
    },
    {
     "name": "stdout",
     "output_type": "stream",
     "text": [
      "GS______ [SE3: size=torch.Size([6, 2]), device=cuda:0, dtype=torch.float32]\n",
      "GS[0]__ __ __  SE3: size=torch.Size([6, 2]), device=cuda:0, dtype=torch.float32\n",
      "GS[0][:,jj] SE3: size=torch.Size([6, 2]), device=cuda:0, dtype=torch.float32\n"
     ]
    },
    {
     "name": "stderr",
     "output_type": "stream",
     "text": [
      " 99%|█████████▉| 1324/1333 [10:10<00:04,  2.16batch/s]"
     ]
    },
    {
     "name": "stdout",
     "output_type": "stream",
     "text": [
      "GS______ [SE3: size=torch.Size([6, 2]), device=cuda:0, dtype=torch.float32]\n",
      "GS[0]__ __ __  SE3: size=torch.Size([6, 2]), device=cuda:0, dtype=torch.float32\n",
      "GS[0][:,jj] SE3: size=torch.Size([6, 2]), device=cuda:0, dtype=torch.float32\n"
     ]
    },
    {
     "name": "stderr",
     "output_type": "stream",
     "text": [
      " 99%|█████████▉| 1325/1333 [10:10<00:03,  2.17batch/s]"
     ]
    },
    {
     "name": "stdout",
     "output_type": "stream",
     "text": [
      "GS______ [SE3: size=torch.Size([6, 2]), device=cuda:0, dtype=torch.float32]\n",
      "GS[0]__ __ __  SE3: size=torch.Size([6, 2]), device=cuda:0, dtype=torch.float32\n",
      "GS[0][:,jj] SE3: size=torch.Size([6, 2]), device=cuda:0, dtype=torch.float32\n"
     ]
    },
    {
     "name": "stderr",
     "output_type": "stream",
     "text": [
      " 99%|█████████▉| 1326/1333 [10:11<00:03,  2.18batch/s]"
     ]
    },
    {
     "name": "stdout",
     "output_type": "stream",
     "text": [
      "GS______ [SE3: size=torch.Size([6, 2]), device=cuda:0, dtype=torch.float32]\n",
      "GS[0]__ __ __  SE3: size=torch.Size([6, 2]), device=cuda:0, dtype=torch.float32\n",
      "GS[0][:,jj] SE3: size=torch.Size([6, 2]), device=cuda:0, dtype=torch.float32\n"
     ]
    },
    {
     "name": "stderr",
     "output_type": "stream",
     "text": [
      "100%|█████████▉| 1327/1333 [10:11<00:02,  2.17batch/s]"
     ]
    },
    {
     "name": "stdout",
     "output_type": "stream",
     "text": [
      "GS______ [SE3: size=torch.Size([6, 2]), device=cuda:0, dtype=torch.float32]\n",
      "GS[0]__ __ __  SE3: size=torch.Size([6, 2]), device=cuda:0, dtype=torch.float32\n",
      "GS[0][:,jj] SE3: size=torch.Size([6, 2]), device=cuda:0, dtype=torch.float32\n"
     ]
    },
    {
     "name": "stderr",
     "output_type": "stream",
     "text": [
      "100%|█████████▉| 1328/1333 [10:12<00:02,  2.16batch/s]"
     ]
    },
    {
     "name": "stdout",
     "output_type": "stream",
     "text": [
      "GS______ [SE3: size=torch.Size([6, 2]), device=cuda:0, dtype=torch.float32]\n",
      "GS[0]__ __ __  SE3: size=torch.Size([6, 2]), device=cuda:0, dtype=torch.float32\n",
      "GS[0][:,jj] SE3: size=torch.Size([6, 2]), device=cuda:0, dtype=torch.float32\n"
     ]
    },
    {
     "name": "stderr",
     "output_type": "stream",
     "text": [
      "100%|█████████▉| 1329/1333 [10:12<00:01,  2.17batch/s]"
     ]
    },
    {
     "name": "stdout",
     "output_type": "stream",
     "text": [
      "GS______ [SE3: size=torch.Size([6, 2]), device=cuda:0, dtype=torch.float32]\n",
      "GS[0]__ __ __  SE3: size=torch.Size([6, 2]), device=cuda:0, dtype=torch.float32\n",
      "GS[0][:,jj] SE3: size=torch.Size([6, 2]), device=cuda:0, dtype=torch.float32\n"
     ]
    },
    {
     "name": "stderr",
     "output_type": "stream",
     "text": [
      "100%|█████████▉| 1330/1333 [10:12<00:01,  2.14batch/s]"
     ]
    },
    {
     "name": "stdout",
     "output_type": "stream",
     "text": [
      "GS______ [SE3: size=torch.Size([6, 2]), device=cuda:0, dtype=torch.float32]\n",
      "GS[0]__ __ __  SE3: size=torch.Size([6, 2]), device=cuda:0, dtype=torch.float32\n",
      "GS[0][:,jj] SE3: size=torch.Size([6, 2]), device=cuda:0, dtype=torch.float32\n"
     ]
    },
    {
     "name": "stderr",
     "output_type": "stream",
     "text": [
      "100%|█████████▉| 1331/1333 [10:13<00:00,  2.14batch/s]"
     ]
    },
    {
     "name": "stdout",
     "output_type": "stream",
     "text": [
      "GS______ [SE3: size=torch.Size([6, 2]), device=cuda:0, dtype=torch.float32]\n",
      "GS[0]__ __ __  SE3: size=torch.Size([6, 2]), device=cuda:0, dtype=torch.float32\n",
      "GS[0][:,jj] SE3: size=torch.Size([6, 2]), device=cuda:0, dtype=torch.float32\n"
     ]
    },
    {
     "name": "stderr",
     "output_type": "stream",
     "text": [
      "100%|█████████▉| 1332/1333 [10:13<00:00,  2.14batch/s]"
     ]
    },
    {
     "name": "stdout",
     "output_type": "stream",
     "text": [
      "GS______ [SE3: size=torch.Size([6, 2]), device=cuda:0, dtype=torch.float32]\n",
      "GS[0]__ __ __  SE3: size=torch.Size([6, 2]), device=cuda:0, dtype=torch.float32\n",
      "GS[0][:,jj] SE3: size=torch.Size([6, 2]), device=cuda:0, dtype=torch.float32\n"
     ]
    },
    {
     "name": "stderr",
     "output_type": "stream",
     "text": [
      "100%|█████████▉| 1332/1333 [10:14<00:00,  2.17batch/s]\n"
     ]
    },
    {
     "ename": "RuntimeError",
     "evalue": "mat1 dim 1 must match mat2 dim 0",
     "output_type": "error",
     "traceback": [
      "\u001b[0;31m---------------------------------------------------------------------------\u001b[0m",
      "\u001b[0;31mRuntimeError\u001b[0m                              Traceback (most recent call last)",
      "Cell \u001b[0;32mIn[20], line 8\u001b[0m\n\u001b[1;32m      6\u001b[0m Ps_out \u001b[39m=\u001b[39m SE3(Ps\u001b[39m.\u001b[39mdata\u001b[39m.\u001b[39mclone())\n\u001b[1;32m      7\u001b[0m \u001b[39mwith\u001b[39;00m torch\u001b[39m.\u001b[39mno_grad():\n\u001b[0;32m----> 8\u001b[0m     poses_est \u001b[39m=\u001b[39m model(images, lines, Gs)\n\u001b[1;32m      9\u001b[0m \u001b[39m#print(poses)\u001b[39;00m\n\u001b[1;32m     10\u001b[0m geo_loss_tr, geo_loss_rot, geo_metrics \u001b[39m=\u001b[39mgeodesic_loss(Ps_out,poses_est,train_val\u001b[39m=\u001b[39m\u001b[39m'\u001b[39m\u001b[39mtest\u001b[39m\u001b[39m'\u001b[39m)\n",
      "File \u001b[0;32m~/anaconda3/envs/cuti/lib/python3.9/site-packages/torch/nn/modules/module.py:889\u001b[0m, in \u001b[0;36mModule._call_impl\u001b[0;34m(self, *input, **kwargs)\u001b[0m\n\u001b[1;32m    887\u001b[0m     result \u001b[39m=\u001b[39m \u001b[39mself\u001b[39m\u001b[39m.\u001b[39m_slow_forward(\u001b[39m*\u001b[39m\u001b[39minput\u001b[39m, \u001b[39m*\u001b[39m\u001b[39m*\u001b[39mkwargs)\n\u001b[1;32m    888\u001b[0m \u001b[39melse\u001b[39;00m:\n\u001b[0;32m--> 889\u001b[0m     result \u001b[39m=\u001b[39m \u001b[39mself\u001b[39;49m\u001b[39m.\u001b[39;49mforward(\u001b[39m*\u001b[39;49m\u001b[39minput\u001b[39;49m, \u001b[39m*\u001b[39;49m\u001b[39m*\u001b[39;49mkwargs)\n\u001b[1;32m    890\u001b[0m \u001b[39mfor\u001b[39;00m hook \u001b[39min\u001b[39;00m itertools\u001b[39m.\u001b[39mchain(\n\u001b[1;32m    891\u001b[0m         _global_forward_hooks\u001b[39m.\u001b[39mvalues(),\n\u001b[1;32m    892\u001b[0m         \u001b[39mself\u001b[39m\u001b[39m.\u001b[39m_forward_hooks\u001b[39m.\u001b[39mvalues()):\n\u001b[1;32m    893\u001b[0m     hook_result \u001b[39m=\u001b[39m hook(\u001b[39mself\u001b[39m, \u001b[39minput\u001b[39m, result)\n",
      "File \u001b[0;32m~/source/CuTi/cuti.py:105\u001b[0m, in \u001b[0;36mCuTi.forward\u001b[0;34m(self, images, lines, Gs)\u001b[0m\n\u001b[1;32m    103\u001b[0m output \u001b[39m=\u001b[39m output\u001b[39m.\u001b[39mpermute(\u001b[39m1\u001b[39m,\u001b[39m2\u001b[39m,\u001b[39m0\u001b[39m)\n\u001b[1;32m    104\u001b[0m \u001b[39m#print(\"output::::____\",output.shape)\u001b[39;00m\n\u001b[0;32m--> 105\u001b[0m output \u001b[39m=\u001b[39m \u001b[39mself\u001b[39;49m\u001b[39m.\u001b[39;49mlayer3(output)\n\u001b[1;32m    106\u001b[0m output \u001b[39m=\u001b[39m output\u001b[39m.\u001b[39mpermute(\u001b[39m2\u001b[39m,\u001b[39m0\u001b[39m,\u001b[39m1\u001b[39m)\n\u001b[1;32m    107\u001b[0m \u001b[39m#output = output.squeeze()\u001b[39;00m\n",
      "File \u001b[0;32m~/anaconda3/envs/cuti/lib/python3.9/site-packages/torch/nn/modules/module.py:889\u001b[0m, in \u001b[0;36mModule._call_impl\u001b[0;34m(self, *input, **kwargs)\u001b[0m\n\u001b[1;32m    887\u001b[0m     result \u001b[39m=\u001b[39m \u001b[39mself\u001b[39m\u001b[39m.\u001b[39m_slow_forward(\u001b[39m*\u001b[39m\u001b[39minput\u001b[39m, \u001b[39m*\u001b[39m\u001b[39m*\u001b[39mkwargs)\n\u001b[1;32m    888\u001b[0m \u001b[39melse\u001b[39;00m:\n\u001b[0;32m--> 889\u001b[0m     result \u001b[39m=\u001b[39m \u001b[39mself\u001b[39;49m\u001b[39m.\u001b[39;49mforward(\u001b[39m*\u001b[39;49m\u001b[39minput\u001b[39;49m, \u001b[39m*\u001b[39;49m\u001b[39m*\u001b[39;49mkwargs)\n\u001b[1;32m    890\u001b[0m \u001b[39mfor\u001b[39;00m hook \u001b[39min\u001b[39;00m itertools\u001b[39m.\u001b[39mchain(\n\u001b[1;32m    891\u001b[0m         _global_forward_hooks\u001b[39m.\u001b[39mvalues(),\n\u001b[1;32m    892\u001b[0m         \u001b[39mself\u001b[39m\u001b[39m.\u001b[39m_forward_hooks\u001b[39m.\u001b[39mvalues()):\n\u001b[1;32m    893\u001b[0m     hook_result \u001b[39m=\u001b[39m hook(\u001b[39mself\u001b[39m, \u001b[39minput\u001b[39m, result)\n",
      "File \u001b[0;32m~/anaconda3/envs/cuti/lib/python3.9/site-packages/torch/nn/modules/linear.py:94\u001b[0m, in \u001b[0;36mLinear.forward\u001b[0;34m(self, input)\u001b[0m\n\u001b[1;32m     93\u001b[0m \u001b[39mdef\u001b[39;00m \u001b[39mforward\u001b[39m(\u001b[39mself\u001b[39m, \u001b[39minput\u001b[39m: Tensor) \u001b[39m-\u001b[39m\u001b[39m>\u001b[39m Tensor:\n\u001b[0;32m---> 94\u001b[0m     \u001b[39mreturn\u001b[39;00m F\u001b[39m.\u001b[39;49mlinear(\u001b[39minput\u001b[39;49m, \u001b[39mself\u001b[39;49m\u001b[39m.\u001b[39;49mweight, \u001b[39mself\u001b[39;49m\u001b[39m.\u001b[39;49mbias)\n",
      "File \u001b[0;32m~/anaconda3/envs/cuti/lib/python3.9/site-packages/torch/nn/functional.py:1753\u001b[0m, in \u001b[0;36mlinear\u001b[0;34m(input, weight, bias)\u001b[0m\n\u001b[1;32m   1751\u001b[0m \u001b[39mif\u001b[39;00m has_torch_function_variadic(\u001b[39minput\u001b[39m, weight):\n\u001b[1;32m   1752\u001b[0m     \u001b[39mreturn\u001b[39;00m handle_torch_function(linear, (\u001b[39minput\u001b[39m, weight), \u001b[39minput\u001b[39m, weight, bias\u001b[39m=\u001b[39mbias)\n\u001b[0;32m-> 1753\u001b[0m \u001b[39mreturn\u001b[39;00m torch\u001b[39m.\u001b[39;49m_C\u001b[39m.\u001b[39;49m_nn\u001b[39m.\u001b[39;49mlinear(\u001b[39minput\u001b[39;49m, weight, bias)\n",
      "\u001b[0;31mRuntimeError\u001b[0m: mat1 dim 1 must match mat2 dim 0"
     ]
    }
   ],
   "source": [
    "with tqdm(test_loader, unit=\"batch\") as tepoch:\n",
    "    for i_batch, item in enumerate(tepoch):\n",
    "        images, poses, intrinsics, lines = [x.to(\"cuda\") for x in item]\n",
    "        Ps = SE3(poses) \n",
    "        Gs = SE3.IdentityLike(Ps)\n",
    "        Ps_out = SE3(Ps.data.clone())\n",
    "        with torch.no_grad():\n",
    "            poses_est = model(images, lines, Gs)\n",
    "        #print(poses)\n",
    "        geo_loss_tr, geo_loss_rot, geo_metrics =geodesic_loss(Ps_out,poses_est,train_val='test')\n",
    "        loss = 10 * geo_loss_tr + 10 * geo_loss_rot\n",
    "        loss_list.append(loss)"
   ]
  },
  {
   "cell_type": "code",
   "execution_count": 22,
   "metadata": {},
   "outputs": [
    {
     "name": "stdout",
     "output_type": "stream",
     "text": [
      "[tensor(23.7788, device='cuda:0'), tensor(18.3913, device='cuda:0'), tensor(24.7010, device='cuda:0'), tensor(15.2156, device='cuda:0'), tensor(15.6530, device='cuda:0'), tensor(19.6549, device='cuda:0'), tensor(18.1315, device='cuda:0'), tensor(21.3067, device='cuda:0'), tensor(16.0705, device='cuda:0'), tensor(18.7581, device='cuda:0'), tensor(16.7534, device='cuda:0'), tensor(22.4920, device='cuda:0'), tensor(13.9861, device='cuda:0'), tensor(11.9104, device='cuda:0'), tensor(17.3335, device='cuda:0'), tensor(17.4368, device='cuda:0'), tensor(14.2797, device='cuda:0'), tensor(19.9819, device='cuda:0'), tensor(28.6680, device='cuda:0'), tensor(19.8752, device='cuda:0'), tensor(13.6943, device='cuda:0'), tensor(15.1842, device='cuda:0'), tensor(12.0210, device='cuda:0'), tensor(19.6827, device='cuda:0'), tensor(16.9316, device='cuda:0'), tensor(13.0888, device='cuda:0'), tensor(18.5715, device='cuda:0'), tensor(22.4879, device='cuda:0'), tensor(13.3826, device='cuda:0'), tensor(20.5803, device='cuda:0'), tensor(19.0285, device='cuda:0'), tensor(19.1433, device='cuda:0'), tensor(19.6161, device='cuda:0'), tensor(22.4824, device='cuda:0'), tensor(18.6098, device='cuda:0'), tensor(17.9757, device='cuda:0'), tensor(26.8667, device='cuda:0'), tensor(21.9108, device='cuda:0'), tensor(22.7309, device='cuda:0'), tensor(14.6460, device='cuda:0'), tensor(18.6664, device='cuda:0'), tensor(21.0235, device='cuda:0'), tensor(23.0609, device='cuda:0'), tensor(23.9626, device='cuda:0'), tensor(16.5871, device='cuda:0'), tensor(23.1953, device='cuda:0'), tensor(15.6979, device='cuda:0'), tensor(21.2305, device='cuda:0'), tensor(15.5071, device='cuda:0'), tensor(21.9862, device='cuda:0'), tensor(18.9734, device='cuda:0'), tensor(15.9536, device='cuda:0'), tensor(9.2838, device='cuda:0'), tensor(8.8620, device='cuda:0'), tensor(16.7272, device='cuda:0'), tensor(13.0411, device='cuda:0'), tensor(18.7950, device='cuda:0'), tensor(18.8075, device='cuda:0'), tensor(21.1527, device='cuda:0'), tensor(20.2131, device='cuda:0'), tensor(19.8855, device='cuda:0'), tensor(14.2639, device='cuda:0'), tensor(16.6518, device='cuda:0'), tensor(17.5175, device='cuda:0'), tensor(18.6438, device='cuda:0'), tensor(16.4215, device='cuda:0'), tensor(19.5733, device='cuda:0'), tensor(23.0509, device='cuda:0'), tensor(22.5370, device='cuda:0'), tensor(20.1966, device='cuda:0'), tensor(16.3013, device='cuda:0'), tensor(12.1404, device='cuda:0'), tensor(9.8273, device='cuda:0'), tensor(13.5148, device='cuda:0'), tensor(18.2071, device='cuda:0'), tensor(16.7243, device='cuda:0'), tensor(22.4588, device='cuda:0'), tensor(18.3834, device='cuda:0'), tensor(18.1094, device='cuda:0'), tensor(18.4676, device='cuda:0'), tensor(16.2607, device='cuda:0'), tensor(16.6787, device='cuda:0'), tensor(16.2424, device='cuda:0'), tensor(17.9647, device='cuda:0'), tensor(11.9678, device='cuda:0'), tensor(13.6995, device='cuda:0'), tensor(21.1253, device='cuda:0'), tensor(20.2427, device='cuda:0'), tensor(17.7062, device='cuda:0'), tensor(23.9164, device='cuda:0'), tensor(23.0529, device='cuda:0'), tensor(15.9774, device='cuda:0'), tensor(20.2405, device='cuda:0'), tensor(23.1216, device='cuda:0'), tensor(18.0696, device='cuda:0'), tensor(20.1619, device='cuda:0'), tensor(12.9973, device='cuda:0'), tensor(17.9934, device='cuda:0'), tensor(15.7778, device='cuda:0'), tensor(17.7867, device='cuda:0'), tensor(8.8803, device='cuda:0'), tensor(14.4901, device='cuda:0'), tensor(15.1444, device='cuda:0'), tensor(16.2419, device='cuda:0'), tensor(11.1976, device='cuda:0'), tensor(13.7664, device='cuda:0'), tensor(12.4578, device='cuda:0'), tensor(15.9239, device='cuda:0'), tensor(13.6721, device='cuda:0'), tensor(12.1968, device='cuda:0'), tensor(12.9094, device='cuda:0'), tensor(13.9731, device='cuda:0'), tensor(23.3516, device='cuda:0'), tensor(19.4624, device='cuda:0'), tensor(19.9640, device='cuda:0'), tensor(18.0182, device='cuda:0'), tensor(21.6352, device='cuda:0'), tensor(16.4927, device='cuda:0'), tensor(27.5362, device='cuda:0'), tensor(11.6734, device='cuda:0'), tensor(23.6080, device='cuda:0'), tensor(13.3110, device='cuda:0'), tensor(23.9762, device='cuda:0'), tensor(14.3901, device='cuda:0'), tensor(15.6738, device='cuda:0'), tensor(22.2897, device='cuda:0'), tensor(16.9595, device='cuda:0'), tensor(18.9788, device='cuda:0'), tensor(23.4837, device='cuda:0'), tensor(18.3154, device='cuda:0'), tensor(21.7266, device='cuda:0'), tensor(10.4004, device='cuda:0'), tensor(20.1489, device='cuda:0'), tensor(15.1956, device='cuda:0'), tensor(16.7151, device='cuda:0'), tensor(13.9964, device='cuda:0'), tensor(17.1387, device='cuda:0'), tensor(13.3978, device='cuda:0'), tensor(17.7914, device='cuda:0'), tensor(21.1347, device='cuda:0'), tensor(20.0906, device='cuda:0'), tensor(15.0443, device='cuda:0'), tensor(20.6117, device='cuda:0'), tensor(29.0840, device='cuda:0'), tensor(16.9200, device='cuda:0'), tensor(13.1114, device='cuda:0'), tensor(13.8944, device='cuda:0'), tensor(15.8858, device='cuda:0'), tensor(20.1348, device='cuda:0'), tensor(17.1086, device='cuda:0'), tensor(18.1023, device='cuda:0'), tensor(18.6663, device='cuda:0'), tensor(16.1598, device='cuda:0'), tensor(14.4036, device='cuda:0'), tensor(15.1924, device='cuda:0'), tensor(13.4910, device='cuda:0'), tensor(11.9604, device='cuda:0'), tensor(14.0753, device='cuda:0'), tensor(16.2041, device='cuda:0'), tensor(11.8635, device='cuda:0'), tensor(15.5095, device='cuda:0'), tensor(20.0103, device='cuda:0'), tensor(12.6801, device='cuda:0'), tensor(17.5556, device='cuda:0'), tensor(23.3831, device='cuda:0'), tensor(21.0306, device='cuda:0'), tensor(17.6340, device='cuda:0'), tensor(15.3069, device='cuda:0'), tensor(12.1574, device='cuda:0'), tensor(15.7371, device='cuda:0'), tensor(12.8565, device='cuda:0'), tensor(13.7861, device='cuda:0'), tensor(14.9424, device='cuda:0'), tensor(18.7724, device='cuda:0'), tensor(17.5405, device='cuda:0'), tensor(14.4701, device='cuda:0'), tensor(20.6722, device='cuda:0'), tensor(12.6338, device='cuda:0'), tensor(11.6606, device='cuda:0'), tensor(19.3705, device='cuda:0'), tensor(16.9402, device='cuda:0'), tensor(19.6335, device='cuda:0'), tensor(19.8752, device='cuda:0'), tensor(19.2917, device='cuda:0'), tensor(14.9268, device='cuda:0'), tensor(13.5886, device='cuda:0'), tensor(18.1913, device='cuda:0'), tensor(18.6958, device='cuda:0'), tensor(18.1975, device='cuda:0'), tensor(13.7704, device='cuda:0'), tensor(20.1932, device='cuda:0'), tensor(16.6011, device='cuda:0'), tensor(20.5016, device='cuda:0'), tensor(11.1848, device='cuda:0'), tensor(14.6838, device='cuda:0'), tensor(22.8001, device='cuda:0'), tensor(13.0456, device='cuda:0'), tensor(13.7954, device='cuda:0'), tensor(11.0037, device='cuda:0'), tensor(24.5974, device='cuda:0'), tensor(15.1119, device='cuda:0'), tensor(19.7385, device='cuda:0'), tensor(19.2882, device='cuda:0'), tensor(20.2055, device='cuda:0'), tensor(14.5244, device='cuda:0'), tensor(13.7087, device='cuda:0'), tensor(21.4863, device='cuda:0'), tensor(20.1307, device='cuda:0'), tensor(16.2025, device='cuda:0'), tensor(16.7205, device='cuda:0'), tensor(17.7216, device='cuda:0'), tensor(16.9850, device='cuda:0'), tensor(12.0407, device='cuda:0'), tensor(10.0265, device='cuda:0'), tensor(32.2112, device='cuda:0'), tensor(18.1570, device='cuda:0'), tensor(17.8156, device='cuda:0'), tensor(16.7603, device='cuda:0'), tensor(20.2562, device='cuda:0'), tensor(17.3271, device='cuda:0'), tensor(22.6602, device='cuda:0'), tensor(17.1473, device='cuda:0'), tensor(27.2825, device='cuda:0'), tensor(22.7316, device='cuda:0'), tensor(15.0328, device='cuda:0'), tensor(21.6497, device='cuda:0'), tensor(16.7609, device='cuda:0'), tensor(14.3595, device='cuda:0'), tensor(22.9748, device='cuda:0'), tensor(19.8131, device='cuda:0'), tensor(19.8418, device='cuda:0'), tensor(19.9298, device='cuda:0'), tensor(19.1539, device='cuda:0'), tensor(17.9555, device='cuda:0'), tensor(17.2183, device='cuda:0'), tensor(23.8687, device='cuda:0'), tensor(22.2211, device='cuda:0'), tensor(20.0389, device='cuda:0'), tensor(25.4264, device='cuda:0'), tensor(15.6573, device='cuda:0'), tensor(15.2169, device='cuda:0'), tensor(17.0278, device='cuda:0'), tensor(24.7148, device='cuda:0'), tensor(22.6619, device='cuda:0'), tensor(16.9747, device='cuda:0'), tensor(17.3781, device='cuda:0'), tensor(17.1058, device='cuda:0'), tensor(17.4500, device='cuda:0'), tensor(15.4568, device='cuda:0'), tensor(17.4375, device='cuda:0'), tensor(16.8119, device='cuda:0'), tensor(17.2213, device='cuda:0'), tensor(26.4368, device='cuda:0'), tensor(14.9574, device='cuda:0'), tensor(15.9622, device='cuda:0'), tensor(18.6177, device='cuda:0'), tensor(14.2494, device='cuda:0'), tensor(20.1783, device='cuda:0'), tensor(13.5370, device='cuda:0'), tensor(15.9804, device='cuda:0'), tensor(12.5907, device='cuda:0'), tensor(15.5678, device='cuda:0'), tensor(16.8833, device='cuda:0'), tensor(14.7808, device='cuda:0'), tensor(14.5621, device='cuda:0'), tensor(17.3797, device='cuda:0'), tensor(13.7652, device='cuda:0'), tensor(11.1943, device='cuda:0'), tensor(15.0623, device='cuda:0'), tensor(15.2770, device='cuda:0'), tensor(14.7444, device='cuda:0'), tensor(14.2774, device='cuda:0'), tensor(16.1776, device='cuda:0'), tensor(14.6035, device='cuda:0'), tensor(11.5567, device='cuda:0'), tensor(15.9238, device='cuda:0'), tensor(13.1557, device='cuda:0'), tensor(14.1703, device='cuda:0'), tensor(17.3522, device='cuda:0'), tensor(17.9100, device='cuda:0'), tensor(17.2723, device='cuda:0'), tensor(14.6829, device='cuda:0'), tensor(17.4661, device='cuda:0'), tensor(15.0752, device='cuda:0'), tensor(17.1707, device='cuda:0'), tensor(16.6017, device='cuda:0'), tensor(20.9280, device='cuda:0'), tensor(11.9608, device='cuda:0'), tensor(15.2464, device='cuda:0'), tensor(21.6876, device='cuda:0'), tensor(18.2576, device='cuda:0'), tensor(15.0870, device='cuda:0'), tensor(25.4405, device='cuda:0'), tensor(16.4413, device='cuda:0'), tensor(20.5297, device='cuda:0'), tensor(19.1467, device='cuda:0'), tensor(16.8884, device='cuda:0'), tensor(17.1238, device='cuda:0'), tensor(15.0887, device='cuda:0'), tensor(13.0346, device='cuda:0'), tensor(17.8382, device='cuda:0'), tensor(18.0053, device='cuda:0'), tensor(18.4693, device='cuda:0'), tensor(15.2477, device='cuda:0'), tensor(17.2281, device='cuda:0'), tensor(20.2035, device='cuda:0'), tensor(14.4602, device='cuda:0'), tensor(18.6969, device='cuda:0'), tensor(18.2154, device='cuda:0'), tensor(23.0427, device='cuda:0'), tensor(15.4795, device='cuda:0'), tensor(13.7208, device='cuda:0'), tensor(16.2208, device='cuda:0'), tensor(11.6803, device='cuda:0'), tensor(19.5131, device='cuda:0'), tensor(16.3697, device='cuda:0'), tensor(20.0785, device='cuda:0'), tensor(14.3096, device='cuda:0'), tensor(12.6867, device='cuda:0'), tensor(16.7505, device='cuda:0'), tensor(17.6399, device='cuda:0'), tensor(13.5877, device='cuda:0'), tensor(18.0309, device='cuda:0'), tensor(17.4691, device='cuda:0'), tensor(24.4277, device='cuda:0'), tensor(13.0197, device='cuda:0'), tensor(17.2475, device='cuda:0'), tensor(21.5928, device='cuda:0'), tensor(14.3051, device='cuda:0'), tensor(16.1129, device='cuda:0'), tensor(19.2583, device='cuda:0'), tensor(11.4859, device='cuda:0'), tensor(26.8818, device='cuda:0'), tensor(14.6755, device='cuda:0'), tensor(22.3756, device='cuda:0'), tensor(20.2643, device='cuda:0'), tensor(22.8173, device='cuda:0'), tensor(15.4130, device='cuda:0'), tensor(13.6766, device='cuda:0'), tensor(19.5430, device='cuda:0'), tensor(13.9551, device='cuda:0'), tensor(11.7215, device='cuda:0'), tensor(16.4535, device='cuda:0'), tensor(18.0465, device='cuda:0'), tensor(18.6772, device='cuda:0'), tensor(12.9398, device='cuda:0'), tensor(12.1591, device='cuda:0'), tensor(17.0591, device='cuda:0'), tensor(16.8618, device='cuda:0'), tensor(17.2843, device='cuda:0'), tensor(18.7321, device='cuda:0'), tensor(19.3832, device='cuda:0'), tensor(19.7161, device='cuda:0'), tensor(27.1121, device='cuda:0'), tensor(13.1050, device='cuda:0'), tensor(12.8845, device='cuda:0'), tensor(22.0798, device='cuda:0'), tensor(18.1456, device='cuda:0'), tensor(18.3454, device='cuda:0'), tensor(17.4902, device='cuda:0'), tensor(14.2957, device='cuda:0'), tensor(21.5742, device='cuda:0'), tensor(14.4457, device='cuda:0'), tensor(14.2922, device='cuda:0'), tensor(17.9138, device='cuda:0'), tensor(15.8951, device='cuda:0'), tensor(18.7431, device='cuda:0'), tensor(15.7269, device='cuda:0'), tensor(17.9004, device='cuda:0'), tensor(17.6668, device='cuda:0'), tensor(17.7981, device='cuda:0'), tensor(17.8956, device='cuda:0'), tensor(16.6813, device='cuda:0'), tensor(18.5318, device='cuda:0'), tensor(22.4844, device='cuda:0'), tensor(22.8229, device='cuda:0'), tensor(16.1908, device='cuda:0'), tensor(18.1127, device='cuda:0'), tensor(21.6288, device='cuda:0'), tensor(21.5965, device='cuda:0'), tensor(18.3360, device='cuda:0'), tensor(19.6887, device='cuda:0'), tensor(15.2494, device='cuda:0'), tensor(21.0055, device='cuda:0'), tensor(12.4979, device='cuda:0'), tensor(16.5201, device='cuda:0'), tensor(13.6051, device='cuda:0'), tensor(19.8841, device='cuda:0'), tensor(18.9783, device='cuda:0'), tensor(25.0229, device='cuda:0'), tensor(18.8513, device='cuda:0'), tensor(19.0814, device='cuda:0'), tensor(13.6544, device='cuda:0'), tensor(17.7324, device='cuda:0'), tensor(16.0379, device='cuda:0'), tensor(19.7322, device='cuda:0'), tensor(19.6867, device='cuda:0'), tensor(17.7544, device='cuda:0'), tensor(19.9321, device='cuda:0'), tensor(17.3486, device='cuda:0'), tensor(21.0109, device='cuda:0'), tensor(17.8492, device='cuda:0'), tensor(12.5748, device='cuda:0'), tensor(15.4330, device='cuda:0'), tensor(16.1992, device='cuda:0'), tensor(17.6498, device='cuda:0'), tensor(16.0106, device='cuda:0'), tensor(17.4899, device='cuda:0'), tensor(20.6207, device='cuda:0'), tensor(17.1635, device='cuda:0'), tensor(13.9577, device='cuda:0'), tensor(19.0261, device='cuda:0'), tensor(16.4632, device='cuda:0'), tensor(15.5446, device='cuda:0'), tensor(15.1885, device='cuda:0'), tensor(20.0754, device='cuda:0'), tensor(16.6580, device='cuda:0'), tensor(12.3132, device='cuda:0'), tensor(20.9894, device='cuda:0'), tensor(18.5803, device='cuda:0'), tensor(17.3407, device='cuda:0'), tensor(15.7042, device='cuda:0'), tensor(15.3006, device='cuda:0'), tensor(16.2415, device='cuda:0'), tensor(18.3296, device='cuda:0'), tensor(17.8227, device='cuda:0'), tensor(17.7956, device='cuda:0'), tensor(16.2337, device='cuda:0'), tensor(13.8868, device='cuda:0'), tensor(19.8413, device='cuda:0'), tensor(16.0874, device='cuda:0'), tensor(22.0105, device='cuda:0'), tensor(20.1821, device='cuda:0'), tensor(18.1715, device='cuda:0'), tensor(21.4469, device='cuda:0'), tensor(20.0202, device='cuda:0'), tensor(20.1923, device='cuda:0'), tensor(18.3391, device='cuda:0'), tensor(14.3850, device='cuda:0'), tensor(12.8215, device='cuda:0'), tensor(16.8844, device='cuda:0'), tensor(17.2709, device='cuda:0'), tensor(18.3595, device='cuda:0'), tensor(14.9349, device='cuda:0'), tensor(17.5830, device='cuda:0'), tensor(23.9150, device='cuda:0'), tensor(29.1074, device='cuda:0'), tensor(17.0166, device='cuda:0'), tensor(12.2574, device='cuda:0'), tensor(13.3804, device='cuda:0'), tensor(14.9750, device='cuda:0'), tensor(17.2114, device='cuda:0'), tensor(18.1711, device='cuda:0'), tensor(16.7991, device='cuda:0'), tensor(17.1157, device='cuda:0'), tensor(20.1675, device='cuda:0'), tensor(15.9880, device='cuda:0'), tensor(15.9940, device='cuda:0'), tensor(19.6767, device='cuda:0'), tensor(13.5607, device='cuda:0'), tensor(15.8473, device='cuda:0'), tensor(15.9269, device='cuda:0'), tensor(15.9668, device='cuda:0'), tensor(15.6120, device='cuda:0'), tensor(20.5118, device='cuda:0'), tensor(17.3442, device='cuda:0'), tensor(14.8663, device='cuda:0'), tensor(14.2803, device='cuda:0'), tensor(19.6328, device='cuda:0'), tensor(21.0414, device='cuda:0'), tensor(19.0361, device='cuda:0'), tensor(17.0242, device='cuda:0'), tensor(18.3833, device='cuda:0'), tensor(14.1326, device='cuda:0'), tensor(18.7291, device='cuda:0'), tensor(20.0814, device='cuda:0'), tensor(13.9201, device='cuda:0'), tensor(21.7933, device='cuda:0'), tensor(18.9902, device='cuda:0'), tensor(16.2040, device='cuda:0'), tensor(14.6946, device='cuda:0'), tensor(21.4655, device='cuda:0'), tensor(17.4086, device='cuda:0'), tensor(19.0511, device='cuda:0'), tensor(20.5393, device='cuda:0'), tensor(21.8931, device='cuda:0'), tensor(21.0097, device='cuda:0'), tensor(23.9835, device='cuda:0'), tensor(18.0465, device='cuda:0'), tensor(20.6633, device='cuda:0'), tensor(20.3126, device='cuda:0'), tensor(17.7068, device='cuda:0'), tensor(16.1798, device='cuda:0'), tensor(13.8789, device='cuda:0'), tensor(13.7970, device='cuda:0'), tensor(13.9356, device='cuda:0'), tensor(15.4842, device='cuda:0'), tensor(15.4353, device='cuda:0'), tensor(17.2640, device='cuda:0'), tensor(16.7544, device='cuda:0'), tensor(22.6779, device='cuda:0'), tensor(18.7275, device='cuda:0'), tensor(20.0266, device='cuda:0'), tensor(14.9019, device='cuda:0'), tensor(21.8318, device='cuda:0'), tensor(17.3140, device='cuda:0'), tensor(17.4384, device='cuda:0'), tensor(18.5392, device='cuda:0'), tensor(15.7495, device='cuda:0'), tensor(15.7644, device='cuda:0'), tensor(14.7331, device='cuda:0'), tensor(15.1193, device='cuda:0'), tensor(11.3672, device='cuda:0'), tensor(13.7003, device='cuda:0'), tensor(19.2784, device='cuda:0'), tensor(16.1397, device='cuda:0'), tensor(15.5831, device='cuda:0'), tensor(16.2149, device='cuda:0'), tensor(15.9767, device='cuda:0'), tensor(11.9390, device='cuda:0'), tensor(15.1636, device='cuda:0'), tensor(15.7440, device='cuda:0'), tensor(15.4990, device='cuda:0'), tensor(19.1376, device='cuda:0'), tensor(17.7163, device='cuda:0'), tensor(15.1578, device='cuda:0'), tensor(17.6021, device='cuda:0'), tensor(20.1933, device='cuda:0'), tensor(16.3036, device='cuda:0'), tensor(19.9312, device='cuda:0'), tensor(18.8948, device='cuda:0'), tensor(21.3054, device='cuda:0'), tensor(17.6074, device='cuda:0'), tensor(12.3171, device='cuda:0'), tensor(14.1626, device='cuda:0'), tensor(16.0371, device='cuda:0'), tensor(20.1524, device='cuda:0'), tensor(17.8334, device='cuda:0'), tensor(15.0768, device='cuda:0'), tensor(18.6135, device='cuda:0'), tensor(19.6079, device='cuda:0'), tensor(19.7772, device='cuda:0'), tensor(18.7112, device='cuda:0'), tensor(18.3103, device='cuda:0'), tensor(19.3450, device='cuda:0'), tensor(28.8265, device='cuda:0'), tensor(16.1012, device='cuda:0'), tensor(17.0056, device='cuda:0'), tensor(26.2973, device='cuda:0'), tensor(13.8230, device='cuda:0'), tensor(24.4871, device='cuda:0'), tensor(17.5622, device='cuda:0'), tensor(16.3106, device='cuda:0'), tensor(17.4840, device='cuda:0'), tensor(19.1257, device='cuda:0'), tensor(14.8296, device='cuda:0'), tensor(14.6132, device='cuda:0'), tensor(13.6987, device='cuda:0'), tensor(15.1688, device='cuda:0'), tensor(13.7528, device='cuda:0'), tensor(15.2246, device='cuda:0'), tensor(17.7390, device='cuda:0'), tensor(24.9266, device='cuda:0'), tensor(22.6565, device='cuda:0'), tensor(19.9496, device='cuda:0'), tensor(15.3502, device='cuda:0'), tensor(18.1224, device='cuda:0'), tensor(14.3926, device='cuda:0'), tensor(15.2264, device='cuda:0'), tensor(16.4502, device='cuda:0'), tensor(14.2495, device='cuda:0'), tensor(15.4112, device='cuda:0'), tensor(16.1622, device='cuda:0'), tensor(16.5649, device='cuda:0'), tensor(13.4689, device='cuda:0'), tensor(19.7564, device='cuda:0'), tensor(14.8423, device='cuda:0'), tensor(17.3780, device='cuda:0'), tensor(11.6543, device='cuda:0'), tensor(16.1481, device='cuda:0'), tensor(15.5556, device='cuda:0'), tensor(15.5245, device='cuda:0'), tensor(17.0977, device='cuda:0'), tensor(20.4498, device='cuda:0'), tensor(18.3675, device='cuda:0'), tensor(12.7082, device='cuda:0'), tensor(15.6289, device='cuda:0'), tensor(24.8451, device='cuda:0'), tensor(15.1100, device='cuda:0'), tensor(16.1879, device='cuda:0'), tensor(22.2063, device='cuda:0'), tensor(23.5921, device='cuda:0'), tensor(18.5429, device='cuda:0'), tensor(18.1361, device='cuda:0'), tensor(10.3560, device='cuda:0'), tensor(21.4804, device='cuda:0'), tensor(11.7331, device='cuda:0'), tensor(25.1906, device='cuda:0'), tensor(12.5000, device='cuda:0'), tensor(21.6358, device='cuda:0'), tensor(10.1508, device='cuda:0'), tensor(13.8600, device='cuda:0'), tensor(12.0409, device='cuda:0'), tensor(20.0941, device='cuda:0'), tensor(15.0642, device='cuda:0'), tensor(16.0075, device='cuda:0'), tensor(16.8869, device='cuda:0'), tensor(19.0885, device='cuda:0'), tensor(18.6839, device='cuda:0'), tensor(20.1361, device='cuda:0'), tensor(18.4277, device='cuda:0'), tensor(15.6800, device='cuda:0'), tensor(16.4877, device='cuda:0'), tensor(14.2823, device='cuda:0'), tensor(21.1218, device='cuda:0'), tensor(12.1343, device='cuda:0'), tensor(24.2504, device='cuda:0'), tensor(20.2261, device='cuda:0'), tensor(16.9469, device='cuda:0'), tensor(18.7831, device='cuda:0'), tensor(18.1834, device='cuda:0'), tensor(23.4981, device='cuda:0'), tensor(19.2442, device='cuda:0'), tensor(14.7335, device='cuda:0'), tensor(15.4932, device='cuda:0'), tensor(17.6394, device='cuda:0'), tensor(18.1767, device='cuda:0'), tensor(21.3072, device='cuda:0'), tensor(16.6177, device='cuda:0'), tensor(14.3835, device='cuda:0'), tensor(14.6263, device='cuda:0'), tensor(19.0489, device='cuda:0'), tensor(15.3305, device='cuda:0'), tensor(14.6920, device='cuda:0'), tensor(12.3717, device='cuda:0'), tensor(19.0040, device='cuda:0'), tensor(14.6137, device='cuda:0'), tensor(17.6618, device='cuda:0'), tensor(19.4881, device='cuda:0'), tensor(19.4625, device='cuda:0'), tensor(15.0889, device='cuda:0'), tensor(14.0470, device='cuda:0'), tensor(18.9171, device='cuda:0'), tensor(21.2128, device='cuda:0'), tensor(14.7761, device='cuda:0'), tensor(15.0187, device='cuda:0'), tensor(18.7620, device='cuda:0'), tensor(15.1266, device='cuda:0'), tensor(17.2527, device='cuda:0'), tensor(14.2956, device='cuda:0'), tensor(19.1071, device='cuda:0'), tensor(11.3111, device='cuda:0'), tensor(21.2548, device='cuda:0'), tensor(15.5286, device='cuda:0'), tensor(14.8443, device='cuda:0'), tensor(17.6020, device='cuda:0'), tensor(16.8489, device='cuda:0'), tensor(18.5620, device='cuda:0'), tensor(14.1553, device='cuda:0'), tensor(14.4027, device='cuda:0'), tensor(14.6660, device='cuda:0'), tensor(22.2259, device='cuda:0'), tensor(16.0703, device='cuda:0'), tensor(25.6747, device='cuda:0'), tensor(22.6303, device='cuda:0'), tensor(20.7656, device='cuda:0'), tensor(19.4278, device='cuda:0'), tensor(15.3741, device='cuda:0'), tensor(18.9629, device='cuda:0'), tensor(17.2687, device='cuda:0'), tensor(19.9817, device='cuda:0'), tensor(15.4374, device='cuda:0'), tensor(18.5999, device='cuda:0'), tensor(22.2385, device='cuda:0'), tensor(17.3361, device='cuda:0'), tensor(18.4114, device='cuda:0'), tensor(15.0674, device='cuda:0'), tensor(19.6431, device='cuda:0'), tensor(16.3097, device='cuda:0'), tensor(12.3100, device='cuda:0'), tensor(25.1535, device='cuda:0'), tensor(18.0182, device='cuda:0'), tensor(19.0706, device='cuda:0'), tensor(17.6698, device='cuda:0'), tensor(17.4947, device='cuda:0'), tensor(18.2290, device='cuda:0'), tensor(18.8228, device='cuda:0'), tensor(23.6233, device='cuda:0'), tensor(9.6046, device='cuda:0'), tensor(17.8276, device='cuda:0'), tensor(18.1816, device='cuda:0'), tensor(11.9698, device='cuda:0'), tensor(16.5831, device='cuda:0'), tensor(20.1492, device='cuda:0'), tensor(24.3411, device='cuda:0'), tensor(20.5268, device='cuda:0'), tensor(20.8900, device='cuda:0'), tensor(17.8221, device='cuda:0'), tensor(19.4827, device='cuda:0'), tensor(22.3079, device='cuda:0'), tensor(16.1701, device='cuda:0'), tensor(18.7141, device='cuda:0'), tensor(22.2933, device='cuda:0'), tensor(16.5709, device='cuda:0'), tensor(19.8332, device='cuda:0'), tensor(20.3548, device='cuda:0'), tensor(15.5316, device='cuda:0'), tensor(20.7882, device='cuda:0'), tensor(17.4790, device='cuda:0'), tensor(7.6640, device='cuda:0'), tensor(20.0534, device='cuda:0'), tensor(9.3375, device='cuda:0'), tensor(27.3123, device='cuda:0'), tensor(18.7166, device='cuda:0'), tensor(14.8787, device='cuda:0'), tensor(25.4815, device='cuda:0'), tensor(29.1544, device='cuda:0'), tensor(11.4023, device='cuda:0'), tensor(16.0170, device='cuda:0'), tensor(15.0225, device='cuda:0'), tensor(11.8215, device='cuda:0'), tensor(11.6279, device='cuda:0'), tensor(9.8804, device='cuda:0'), tensor(12.0673, device='cuda:0'), tensor(14.2976, device='cuda:0'), tensor(22.2606, device='cuda:0'), tensor(20.6298, device='cuda:0'), tensor(21.1268, device='cuda:0'), tensor(18.9340, device='cuda:0'), tensor(19.4318, device='cuda:0'), tensor(15.5518, device='cuda:0'), tensor(19.2145, device='cuda:0'), tensor(21.2364, device='cuda:0'), tensor(21.4424, device='cuda:0'), tensor(20.4492, device='cuda:0'), tensor(18.8438, device='cuda:0'), tensor(11.6034, device='cuda:0'), tensor(11.7972, device='cuda:0'), tensor(21.2855, device='cuda:0'), tensor(15.0163, device='cuda:0'), tensor(18.7329, device='cuda:0'), tensor(16.3714, device='cuda:0'), tensor(21.3791, device='cuda:0'), tensor(15.8879, device='cuda:0'), tensor(20.0104, device='cuda:0'), tensor(22.2330, device='cuda:0'), tensor(13.6678, device='cuda:0'), tensor(15.2444, device='cuda:0'), tensor(17.9978, device='cuda:0'), tensor(18.5602, device='cuda:0'), tensor(21.3907, device='cuda:0'), tensor(22.5410, device='cuda:0'), tensor(15.4930, device='cuda:0'), tensor(13.0169, device='cuda:0'), tensor(24.4539, device='cuda:0'), tensor(18.2186, device='cuda:0'), tensor(22.9757, device='cuda:0'), tensor(22.7932, device='cuda:0'), tensor(34.3646, device='cuda:0'), tensor(29.1869, device='cuda:0'), tensor(24.6463, device='cuda:0'), tensor(14.0337, device='cuda:0'), tensor(16.1828, device='cuda:0'), tensor(15.9391, device='cuda:0'), tensor(14.5630, device='cuda:0'), tensor(16.3873, device='cuda:0'), tensor(17.3622, device='cuda:0'), tensor(16.7722, device='cuda:0'), tensor(17.7847, device='cuda:0'), tensor(15.5050, device='cuda:0'), tensor(13.4587, device='cuda:0'), tensor(21.0050, device='cuda:0'), tensor(17.3082, device='cuda:0'), tensor(24.7545, device='cuda:0'), tensor(17.2495, device='cuda:0'), tensor(24.0357, device='cuda:0'), tensor(17.8698, device='cuda:0'), tensor(18.5387, device='cuda:0'), tensor(13.5047, device='cuda:0'), tensor(13.8970, device='cuda:0'), tensor(15.6659, device='cuda:0'), tensor(21.9450, device='cuda:0'), tensor(12.9815, device='cuda:0'), tensor(14.6829, device='cuda:0'), tensor(21.4072, device='cuda:0'), tensor(20.8988, device='cuda:0'), tensor(19.1020, device='cuda:0'), tensor(22.8415, device='cuda:0'), tensor(22.1772, device='cuda:0'), tensor(19.9952, device='cuda:0'), tensor(18.9748, device='cuda:0'), tensor(22.6836, device='cuda:0'), tensor(21.0128, device='cuda:0'), tensor(17.4378, device='cuda:0'), tensor(17.4822, device='cuda:0'), tensor(21.2851, device='cuda:0'), tensor(24.4469, device='cuda:0'), tensor(16.2573, device='cuda:0'), tensor(18.0458, device='cuda:0'), tensor(23.2121, device='cuda:0'), tensor(19.3774, device='cuda:0'), tensor(24.8257, device='cuda:0'), tensor(16.1186, device='cuda:0'), tensor(14.8489, device='cuda:0'), tensor(13.4425, device='cuda:0'), tensor(22.3896, device='cuda:0'), tensor(21.2727, device='cuda:0'), tensor(15.2537, device='cuda:0'), tensor(17.4422, device='cuda:0'), tensor(23.0795, device='cuda:0'), tensor(19.0772, device='cuda:0'), tensor(20.9091, device='cuda:0'), tensor(16.3492, device='cuda:0'), tensor(15.0902, device='cuda:0'), tensor(15.3738, device='cuda:0'), tensor(20.6141, device='cuda:0'), tensor(16.7587, device='cuda:0'), tensor(22.8208, device='cuda:0'), tensor(17.9491, device='cuda:0'), tensor(18.6901, device='cuda:0'), tensor(21.1553, device='cuda:0'), tensor(19.3158, device='cuda:0'), tensor(19.0296, device='cuda:0'), tensor(15.5615, device='cuda:0'), tensor(20.5561, device='cuda:0'), tensor(16.2911, device='cuda:0'), tensor(18.6041, device='cuda:0'), tensor(18.3983, device='cuda:0'), tensor(20.1530, device='cuda:0'), tensor(19.0466, device='cuda:0'), tensor(20.7807, device='cuda:0'), tensor(15.8945, device='cuda:0'), tensor(15.8374, device='cuda:0'), tensor(14.9632, device='cuda:0'), tensor(14.4744, device='cuda:0'), tensor(16.9171, device='cuda:0'), tensor(12.7391, device='cuda:0'), tensor(19.8194, device='cuda:0'), tensor(17.6263, device='cuda:0'), tensor(17.9646, device='cuda:0'), tensor(13.6539, device='cuda:0'), tensor(15.1965, device='cuda:0'), tensor(17.9339, device='cuda:0'), tensor(16.9690, device='cuda:0'), tensor(16.1784, device='cuda:0'), tensor(18.7715, device='cuda:0'), tensor(12.6880, device='cuda:0'), tensor(18.4010, device='cuda:0'), tensor(21.7542, device='cuda:0'), tensor(17.2597, device='cuda:0'), tensor(23.3595, device='cuda:0'), tensor(23.2974, device='cuda:0'), tensor(16.5832, device='cuda:0'), tensor(13.8834, device='cuda:0'), tensor(17.8441, device='cuda:0'), tensor(13.7070, device='cuda:0'), tensor(16.8990, device='cuda:0'), tensor(18.2203, device='cuda:0'), tensor(18.3010, device='cuda:0'), tensor(20.6363, device='cuda:0'), tensor(22.3220, device='cuda:0'), tensor(20.2301, device='cuda:0'), tensor(23.3810, device='cuda:0'), tensor(15.6354, device='cuda:0'), tensor(16.1332, device='cuda:0'), tensor(18.4295, device='cuda:0'), tensor(11.6250, device='cuda:0'), tensor(19.1812, device='cuda:0'), tensor(20.6277, device='cuda:0'), tensor(19.8048, device='cuda:0'), tensor(20.0970, device='cuda:0'), tensor(19.6417, device='cuda:0'), tensor(16.3401, device='cuda:0'), tensor(22.3633, device='cuda:0'), tensor(22.1280, device='cuda:0'), tensor(18.3191, device='cuda:0'), tensor(15.5879, device='cuda:0'), tensor(18.6914, device='cuda:0'), tensor(16.3883, device='cuda:0'), tensor(21.4273, device='cuda:0'), tensor(22.7115, device='cuda:0'), tensor(19.3700, device='cuda:0'), tensor(13.8476, device='cuda:0'), tensor(14.3894, device='cuda:0'), tensor(19.6769, device='cuda:0'), tensor(16.5436, device='cuda:0'), tensor(15.0602, device='cuda:0'), tensor(15.6012, device='cuda:0'), tensor(11.9004, device='cuda:0'), tensor(17.9427, device='cuda:0'), tensor(12.8972, device='cuda:0'), tensor(15.0781, device='cuda:0'), tensor(19.2852, device='cuda:0'), tensor(17.7461, device='cuda:0'), tensor(15.2446, device='cuda:0'), tensor(14.8365, device='cuda:0'), tensor(13.7688, device='cuda:0'), tensor(15.3463, device='cuda:0'), tensor(14.3321, device='cuda:0'), tensor(16.3056, device='cuda:0'), tensor(13.4946, device='cuda:0'), tensor(20.3113, device='cuda:0'), tensor(20.2054, device='cuda:0'), tensor(20.5875, device='cuda:0'), tensor(17.3846, device='cuda:0'), tensor(13.7719, device='cuda:0'), tensor(15.2511, device='cuda:0'), tensor(13.1821, device='cuda:0'), tensor(16.1286, device='cuda:0'), tensor(18.8413, device='cuda:0'), tensor(14.6133, device='cuda:0'), tensor(16.6553, device='cuda:0'), tensor(16.6251, device='cuda:0'), tensor(16.1792, device='cuda:0'), tensor(19.0217, device='cuda:0'), tensor(15.5303, device='cuda:0'), tensor(15.5926, device='cuda:0'), tensor(15.6373, device='cuda:0'), tensor(15.3926, device='cuda:0'), tensor(11.8357, device='cuda:0'), tensor(20.2572, device='cuda:0'), tensor(17.9989, device='cuda:0'), tensor(18.5000, device='cuda:0'), tensor(17.4626, device='cuda:0'), tensor(15.0307, device='cuda:0'), tensor(23.9676, device='cuda:0'), tensor(16.3000, device='cuda:0'), tensor(17.7935, device='cuda:0'), tensor(21.2631, device='cuda:0'), tensor(15.8323, device='cuda:0'), tensor(18.4578, device='cuda:0'), tensor(18.1794, device='cuda:0'), tensor(22.7840, device='cuda:0'), tensor(18.4179, device='cuda:0'), tensor(14.9215, device='cuda:0'), tensor(15.1590, device='cuda:0'), tensor(16.2249, device='cuda:0'), tensor(14.9076, device='cuda:0'), tensor(17.9616, device='cuda:0'), tensor(15.9038, device='cuda:0'), tensor(19.4872, device='cuda:0'), tensor(13.1506, device='cuda:0'), tensor(18.2518, device='cuda:0'), tensor(19.1208, device='cuda:0'), tensor(14.5943, device='cuda:0'), tensor(22.6842, device='cuda:0'), tensor(18.5832, device='cuda:0'), tensor(19.2119, device='cuda:0'), tensor(16.4240, device='cuda:0'), tensor(20.7978, device='cuda:0'), tensor(17.7836, device='cuda:0'), tensor(17.4459, device='cuda:0'), tensor(14.2503, device='cuda:0'), tensor(23.7416, device='cuda:0'), tensor(27.4426, device='cuda:0'), tensor(15.2622, device='cuda:0'), tensor(20.8436, device='cuda:0'), tensor(20.3003, device='cuda:0'), tensor(24.4795, device='cuda:0'), tensor(20.6421, device='cuda:0'), tensor(17.5302, device='cuda:0'), tensor(23.0761, device='cuda:0'), tensor(18.7402, device='cuda:0'), tensor(16.2039, device='cuda:0'), tensor(29.1112, device='cuda:0'), tensor(22.9115, device='cuda:0'), tensor(20.5883, device='cuda:0'), tensor(21.9595, device='cuda:0'), tensor(16.6854, device='cuda:0'), tensor(13.9429, device='cuda:0'), tensor(19.3978, device='cuda:0'), tensor(15.4246, device='cuda:0'), tensor(15.9809, device='cuda:0'), tensor(19.6661, device='cuda:0'), tensor(13.0961, device='cuda:0'), tensor(14.4785, device='cuda:0'), tensor(15.6520, device='cuda:0'), tensor(14.6668, device='cuda:0'), tensor(19.1762, device='cuda:0'), tensor(14.5305, device='cuda:0'), tensor(13.2604, device='cuda:0'), tensor(15.8983, device='cuda:0'), tensor(17.9784, device='cuda:0'), tensor(16.1046, device='cuda:0'), tensor(18.5608, device='cuda:0'), tensor(14.6951, device='cuda:0'), tensor(16.2393, device='cuda:0'), tensor(18.5520, device='cuda:0'), tensor(21.1731, device='cuda:0'), tensor(16.5040, device='cuda:0'), tensor(16.2626, device='cuda:0'), tensor(16.5310, device='cuda:0'), tensor(15.5346, device='cuda:0'), tensor(21.7044, device='cuda:0'), tensor(26.7621, device='cuda:0'), tensor(20.4109, device='cuda:0'), tensor(18.6057, device='cuda:0'), tensor(19.6592, device='cuda:0'), tensor(21.2006, device='cuda:0'), tensor(12.9160, device='cuda:0'), tensor(15.7123, device='cuda:0'), tensor(15.8813, device='cuda:0'), tensor(12.6069, device='cuda:0'), tensor(13.3001, device='cuda:0'), tensor(21.9431, device='cuda:0'), tensor(15.0231, device='cuda:0'), tensor(13.3397, device='cuda:0'), tensor(19.5091, device='cuda:0'), tensor(13.1644, device='cuda:0'), tensor(22.1250, device='cuda:0'), tensor(14.7350, device='cuda:0'), tensor(18.6218, device='cuda:0'), tensor(17.1112, device='cuda:0'), tensor(15.2333, device='cuda:0'), tensor(18.6495, device='cuda:0'), tensor(13.9604, device='cuda:0'), tensor(13.4451, device='cuda:0'), tensor(15.7734, device='cuda:0'), tensor(19.2266, device='cuda:0'), tensor(19.1027, device='cuda:0'), tensor(21.2496, device='cuda:0'), tensor(14.5327, device='cuda:0'), tensor(20.3768, device='cuda:0'), tensor(15.8494, device='cuda:0'), tensor(19.8267, device='cuda:0'), tensor(18.5854, device='cuda:0'), tensor(18.2499, device='cuda:0'), tensor(17.4417, device='cuda:0'), tensor(16.0419, device='cuda:0'), tensor(18.9502, device='cuda:0'), tensor(20.5671, device='cuda:0'), tensor(14.6371, device='cuda:0'), tensor(17.4203, device='cuda:0'), tensor(20.1799, device='cuda:0'), tensor(13.2201, device='cuda:0'), tensor(20.6552, device='cuda:0'), tensor(13.8736, device='cuda:0'), tensor(18.2473, device='cuda:0'), tensor(15.9899, device='cuda:0'), tensor(13.3025, device='cuda:0'), tensor(16.3079, device='cuda:0'), tensor(16.2207, device='cuda:0'), tensor(12.3197, device='cuda:0'), tensor(26.6272, device='cuda:0'), tensor(11.8211, device='cuda:0'), tensor(15.9384, device='cuda:0'), tensor(14.4060, device='cuda:0'), tensor(17.8579, device='cuda:0'), tensor(21.3479, device='cuda:0'), tensor(21.1174, device='cuda:0'), tensor(11.3799, device='cuda:0'), tensor(15.2744, device='cuda:0'), tensor(12.2199, device='cuda:0'), tensor(17.5615, device='cuda:0'), tensor(17.6692, device='cuda:0'), tensor(11.3938, device='cuda:0'), tensor(9.6926, device='cuda:0'), tensor(16.1071, device='cuda:0'), tensor(20.9857, device='cuda:0'), tensor(18.4042, device='cuda:0'), tensor(18.7752, device='cuda:0'), tensor(16.7479, device='cuda:0'), tensor(15.7369, device='cuda:0'), tensor(19.3640, device='cuda:0'), tensor(14.0644, device='cuda:0'), tensor(14.3556, device='cuda:0'), tensor(17.4589, device='cuda:0'), tensor(22.5472, device='cuda:0'), tensor(16.7274, device='cuda:0'), tensor(18.6179, device='cuda:0'), tensor(14.5472, device='cuda:0'), tensor(18.4435, device='cuda:0'), tensor(17.2299, device='cuda:0'), tensor(16.2501, device='cuda:0'), tensor(23.7941, device='cuda:0'), tensor(15.5305, device='cuda:0'), tensor(17.6122, device='cuda:0'), tensor(18.1585, device='cuda:0'), tensor(19.4610, device='cuda:0'), tensor(16.8877, device='cuda:0'), tensor(18.5663, device='cuda:0'), tensor(16.6451, device='cuda:0'), tensor(17.2179, device='cuda:0'), tensor(19.7585, device='cuda:0'), tensor(27.4170, device='cuda:0'), tensor(21.0129, device='cuda:0'), tensor(17.4254, device='cuda:0'), tensor(17.6347, device='cuda:0'), tensor(12.2887, device='cuda:0'), tensor(11.2470, device='cuda:0'), tensor(15.1660, device='cuda:0'), tensor(17.6192, device='cuda:0'), tensor(13.0863, device='cuda:0'), tensor(20.2769, device='cuda:0'), tensor(18.3707, device='cuda:0'), tensor(14.8512, device='cuda:0'), tensor(13.7993, device='cuda:0'), tensor(16.0005, device='cuda:0'), tensor(18.6047, device='cuda:0'), tensor(13.9223, device='cuda:0'), tensor(12.2152, device='cuda:0'), tensor(15.2602, device='cuda:0'), tensor(16.7705, device='cuda:0'), tensor(16.8469, device='cuda:0'), tensor(17.4980, device='cuda:0'), tensor(14.1277, device='cuda:0'), tensor(16.5819, device='cuda:0'), tensor(14.2547, device='cuda:0'), tensor(10.4937, device='cuda:0'), tensor(14.7569, device='cuda:0'), tensor(11.8006, device='cuda:0'), tensor(16.8187, device='cuda:0'), tensor(22.5875, device='cuda:0'), tensor(14.1700, device='cuda:0'), tensor(13.9859, device='cuda:0'), tensor(13.5207, device='cuda:0'), tensor(16.9638, device='cuda:0'), tensor(12.7434, device='cuda:0'), tensor(11.4557, device='cuda:0'), tensor(17.8648, device='cuda:0'), tensor(14.4752, device='cuda:0'), tensor(13.9987, device='cuda:0'), tensor(19.4537, device='cuda:0'), tensor(15.9715, device='cuda:0'), tensor(16.5243, device='cuda:0'), tensor(11.8074, device='cuda:0'), tensor(12.6129, device='cuda:0'), tensor(14.2865, device='cuda:0'), tensor(25.6970, device='cuda:0'), tensor(21.0111, device='cuda:0'), tensor(20.9720, device='cuda:0'), tensor(19.7169, device='cuda:0'), tensor(25.4640, device='cuda:0'), tensor(18.7943, device='cuda:0'), tensor(15.8034, device='cuda:0'), tensor(14.6522, device='cuda:0'), tensor(12.9633, device='cuda:0'), tensor(18.9766, device='cuda:0'), tensor(16.5681, device='cuda:0'), tensor(17.0614, device='cuda:0'), tensor(10.0528, device='cuda:0'), tensor(18.0049, device='cuda:0'), tensor(13.0932, device='cuda:0'), tensor(21.4913, device='cuda:0'), tensor(25.0851, device='cuda:0'), tensor(12.1506, device='cuda:0'), tensor(12.3507, device='cuda:0'), tensor(12.5254, device='cuda:0'), tensor(13.0091, device='cuda:0'), tensor(12.0191, device='cuda:0'), tensor(15.4351, device='cuda:0'), tensor(13.6576, device='cuda:0'), tensor(13.2234, device='cuda:0'), tensor(14.5464, device='cuda:0'), tensor(13.7962, device='cuda:0'), tensor(17.1883, device='cuda:0'), tensor(11.5076, device='cuda:0'), tensor(15.5650, device='cuda:0'), tensor(13.4396, device='cuda:0'), tensor(13.8168, device='cuda:0'), tensor(14.0289, device='cuda:0'), tensor(21.0114, device='cuda:0'), tensor(13.4292, device='cuda:0'), tensor(19.9677, device='cuda:0'), tensor(12.4853, device='cuda:0'), tensor(17.2067, device='cuda:0'), tensor(11.0732, device='cuda:0'), tensor(16.8771, device='cuda:0'), tensor(16.0552, device='cuda:0'), tensor(15.1218, device='cuda:0'), tensor(12.5374, device='cuda:0'), tensor(20.7687, device='cuda:0'), tensor(18.1379, device='cuda:0'), tensor(24.6046, device='cuda:0'), tensor(15.5994, device='cuda:0'), tensor(24.2017, device='cuda:0'), tensor(19.1215, device='cuda:0'), tensor(20.5749, device='cuda:0'), tensor(16.6517, device='cuda:0'), tensor(22.2437, device='cuda:0'), tensor(20.6610, device='cuda:0'), tensor(14.0787, device='cuda:0'), tensor(16.4239, device='cuda:0'), tensor(20.9269, device='cuda:0'), tensor(19.5198, device='cuda:0'), tensor(20.0031, device='cuda:0'), tensor(27.1168, device='cuda:0'), tensor(19.9426, device='cuda:0'), tensor(14.4244, device='cuda:0'), tensor(18.8836, device='cuda:0'), tensor(15.2280, device='cuda:0'), tensor(16.9848, device='cuda:0'), tensor(13.0895, device='cuda:0'), tensor(15.6896, device='cuda:0'), tensor(24.0613, device='cuda:0'), tensor(20.5939, device='cuda:0'), tensor(23.9877, device='cuda:0'), tensor(20.7456, device='cuda:0'), tensor(22.7692, device='cuda:0'), tensor(13.8402, device='cuda:0'), tensor(25.4493, device='cuda:0'), tensor(24.0533, device='cuda:0'), tensor(21.2282, device='cuda:0'), tensor(21.2783, device='cuda:0'), tensor(19.8610, device='cuda:0'), tensor(25.5582, device='cuda:0'), tensor(17.6262, device='cuda:0'), tensor(25.3144, device='cuda:0'), tensor(17.6285, device='cuda:0'), tensor(26.1796, device='cuda:0'), tensor(24.3759, device='cuda:0'), tensor(25.8996, device='cuda:0'), tensor(22.3463, device='cuda:0'), tensor(21.8189, device='cuda:0'), tensor(29.1540, device='cuda:0'), tensor(23.0906, device='cuda:0'), tensor(28.6353, device='cuda:0'), tensor(27.2297, device='cuda:0'), tensor(22.9255, device='cuda:0'), tensor(24.4673, device='cuda:0'), tensor(18.2631, device='cuda:0'), tensor(22.7857, device='cuda:0'), tensor(23.4034, device='cuda:0'), tensor(12.6066, device='cuda:0'), tensor(20.3079, device='cuda:0'), tensor(17.3180, device='cuda:0'), tensor(12.6454, device='cuda:0'), tensor(22.2267, device='cuda:0'), tensor(13.5790, device='cuda:0'), tensor(13.9057, device='cuda:0'), tensor(9.6024, device='cuda:0'), tensor(17.2552, device='cuda:0'), tensor(16.0783, device='cuda:0'), tensor(22.5837, device='cuda:0'), tensor(17.6694, device='cuda:0'), tensor(12.2486, device='cuda:0'), tensor(12.3272, device='cuda:0'), tensor(17.5229, device='cuda:0'), tensor(15.8011, device='cuda:0'), tensor(18.0697, device='cuda:0'), tensor(19.0321, device='cuda:0'), tensor(16.6425, device='cuda:0'), tensor(17.1001, device='cuda:0'), tensor(14.8390, device='cuda:0'), tensor(16.1990, device='cuda:0'), tensor(15.8594, device='cuda:0'), tensor(14.4987, device='cuda:0'), tensor(12.1420, device='cuda:0'), tensor(17.2492, device='cuda:0'), tensor(17.0402, device='cuda:0'), tensor(13.7100, device='cuda:0'), tensor(13.9691, device='cuda:0'), tensor(13.5747, device='cuda:0'), tensor(15.4366, device='cuda:0'), tensor(19.5729, device='cuda:0'), tensor(13.6301, device='cuda:0'), tensor(18.6428, device='cuda:0'), tensor(10.6942, device='cuda:0'), tensor(11.4419, device='cuda:0'), tensor(13.5519, device='cuda:0'), tensor(12.7299, device='cuda:0'), tensor(19.6214, device='cuda:0'), tensor(24.2540, device='cuda:0'), tensor(22.1334, device='cuda:0'), tensor(15.3435, device='cuda:0'), tensor(15.7591, device='cuda:0'), tensor(19.1618, device='cuda:0'), tensor(19.0946, device='cuda:0'), tensor(20.0871, device='cuda:0'), tensor(22.5738, device='cuda:0'), tensor(26.4915, device='cuda:0'), tensor(31.8086, device='cuda:0'), tensor(11.9610, device='cuda:0'), tensor(18.3950, device='cuda:0'), tensor(17.4265, device='cuda:0'), tensor(15.8106, device='cuda:0'), tensor(20.2979, device='cuda:0'), tensor(20.8945, device='cuda:0'), tensor(24.3279, device='cuda:0'), tensor(19.9274, device='cuda:0'), tensor(20.4056, device='cuda:0'), tensor(16.5261, device='cuda:0'), tensor(16.5829, device='cuda:0'), tensor(24.4622, device='cuda:0'), tensor(34.9293, device='cuda:0'), tensor(19.3892, device='cuda:0'), tensor(31.4182, device='cuda:0'), tensor(26.4905, device='cuda:0'), tensor(33.3225, device='cuda:0'), tensor(27.2292, device='cuda:0'), tensor(29.1811, device='cuda:0'), tensor(26.2555, device='cuda:0'), tensor(19.0029, device='cuda:0'), tensor(32.8178, device='cuda:0'), tensor(24.2131, device='cuda:0'), tensor(39.9470, device='cuda:0'), tensor(17.4464, device='cuda:0'), tensor(14.7008, device='cuda:0'), tensor(15.0681, device='cuda:0'), tensor(15.1947, device='cuda:0'), tensor(19.0138, device='cuda:0'), tensor(23.7872, device='cuda:0'), tensor(31.3559, device='cuda:0'), tensor(13.6079, device='cuda:0'), tensor(13.5292, device='cuda:0'), tensor(13.1289, device='cuda:0'), tensor(15.3343, device='cuda:0'), tensor(16.4480, device='cuda:0'), tensor(21.0274, device='cuda:0'), tensor(17.1991, device='cuda:0'), tensor(11.9582, device='cuda:0'), tensor(18.3972, device='cuda:0'), tensor(30.1733, device='cuda:0'), tensor(35.0647, device='cuda:0'), tensor(17.9461, device='cuda:0'), tensor(19.1785, device='cuda:0'), tensor(18.4960, device='cuda:0'), tensor(30.2617, device='cuda:0'), tensor(23.9675, device='cuda:0'), tensor(18.8669, device='cuda:0'), tensor(34.0550, device='cuda:0'), tensor(23.2584, device='cuda:0'), tensor(18.0623, device='cuda:0'), tensor(18.6401, device='cuda:0'), tensor(18.1131, device='cuda:0'), tensor(23.1687, device='cuda:0'), tensor(27.2543, device='cuda:0'), tensor(27.2602, device='cuda:0'), tensor(17.4848, device='cuda:0'), tensor(21.0719, device='cuda:0'), tensor(20.6072, device='cuda:0'), tensor(17.6605, device='cuda:0')]\n"
     ]
    }
   ],
   "source": [
    "print(loss_list)"
   ]
  },
  {
   "cell_type": "code",
   "execution_count": null,
   "metadata": {},
   "outputs": [],
   "source": []
  }
 ],
 "metadata": {
  "kernelspec": {
   "display_name": "cuti",
   "language": "python",
   "name": "python3"
  },
  "language_info": {
   "codemirror_mode": {
    "name": "ipython",
    "version": 3
   },
   "file_extension": ".py",
   "mimetype": "text/x-python",
   "name": "python",
   "nbconvert_exporter": "python",
   "pygments_lexer": "ipython3",
   "version": "3.9.16"
  },
  "orig_nbformat": 4
 },
 "nbformat": 4,
 "nbformat_minor": 2
}
