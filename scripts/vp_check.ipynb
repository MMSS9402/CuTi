{
 "cells": [
  {
   "cell_type": "code",
   "execution_count": 2,
   "metadata": {},
   "outputs": [],
   "source": [
    "import os\n",
    "import json\n",
    "import math\n",
    "import random\n",
    "import glob\n",
    "import numpy as np\n",
    "import torch\n",
    "# from scipy import io\n",
    "# import skimage.io\n",
    "# import numpy.linalg as LA\n",
    "# import matplotlib.pyplot as plt\n",
    "# import skimage.transform\n",
    "# from torch.utils.data import Dataset\n",
    "# from torch.utils.data.dataloader import default_collate\n",
    "# import scipy.spatial.distance as scipy_spatial_dist\n",
    "# from vpd.config import C\n",
    "# from vpd.models.sphere.sphere_utils import gold_spiral_sampling_patch"
   ]
  },
  {
   "cell_type": "code",
   "execution_count": 4,
   "metadata": {},
   "outputs": [],
   "source": [
    "rootdir = \"/home/kmuvcl/dataset/data/scannet-vp\"\n",
    "split = \"train\"\n",
    "dirs = np.genfromtxt(f\"{rootdir}/scannetv2_{split}.txt\", dtype=str)"
   ]
  },
  {
   "cell_type": "code",
   "execution_count": 6,
   "metadata": {},
   "outputs": [
    {
     "data": {
      "text/plain": [
       "1201"
      ]
     },
     "execution_count": 6,
     "metadata": {},
     "output_type": "execute_result"
    }
   ],
   "source": [
    "len(dirs)"
   ]
  },
  {
   "cell_type": "code",
   "execution_count": 7,
   "metadata": {},
   "outputs": [],
   "source": [
    "filelist = sum([sorted(glob.glob(f\"{rootdir}/{d}/*.png\")) for d in dirs], [])"
   ]
  },
  {
   "cell_type": "code",
   "execution_count": 9,
   "metadata": {},
   "outputs": [
    {
     "data": {
      "text/plain": [
       "189916"
      ]
     },
     "execution_count": 9,
     "metadata": {},
     "output_type": "execute_result"
    }
   ],
   "source": [
    "len(dirs)\n",
    "len(filelist)"
   ]
  },
  {
   "cell_type": "code",
   "execution_count": 10,
   "metadata": {},
   "outputs": [
    {
     "ename": "NameError",
     "evalue": "name 'C' is not defined",
     "output_type": "error",
     "traceback": [
      "\u001b[0;31m---------------------------------------------------------------------------\u001b[0m",
      "\u001b[0;31mNameError\u001b[0m                                 Traceback (most recent call last)",
      "\u001b[1;32m/home/kmuvcl/source/CuTi/scripts/vp_check.ipynb Cell 6\u001b[0m line \u001b[0;36m2\n\u001b[1;32m      <a href='vscode-notebook-cell://ssh-remote%2B203.246.112.110/home/kmuvcl/source/CuTi/scripts/vp_check.ipynb#W5sdnNjb2RlLXJlbW90ZQ%3D%3D?line=0'>1</a>\u001b[0m \u001b[39mif\u001b[39;00m split \u001b[39m==\u001b[39m \u001b[39m\"\u001b[39m\u001b[39mtrain\u001b[39m\u001b[39m\"\u001b[39m:\n\u001b[0;32m----> <a href='vscode-notebook-cell://ssh-remote%2B203.246.112.110/home/kmuvcl/source/CuTi/scripts/vp_check.ipynb#W5sdnNjb2RlLXJlbW90ZQ%3D%3D?line=1'>2</a>\u001b[0m     num_train \u001b[39m=\u001b[39m \u001b[39mint\u001b[39m(\u001b[39mlen\u001b[39m(filelist) \u001b[39m*\u001b[39m C\u001b[39m.\u001b[39mio\u001b[39m.\u001b[39mpercentage)\n\u001b[1;32m      <a href='vscode-notebook-cell://ssh-remote%2B203.246.112.110/home/kmuvcl/source/CuTi/scripts/vp_check.ipynb#W5sdnNjb2RlLXJlbW90ZQ%3D%3D?line=2'>3</a>\u001b[0m     \u001b[39mself\u001b[39m\u001b[39m.\u001b[39mfilelist \u001b[39m=\u001b[39m filelist[\u001b[39m0\u001b[39m : num_train]\n\u001b[1;32m      <a href='vscode-notebook-cell://ssh-remote%2B203.246.112.110/home/kmuvcl/source/CuTi/scripts/vp_check.ipynb#W5sdnNjb2RlLXJlbW90ZQ%3D%3D?line=3'>4</a>\u001b[0m     \u001b[39mself\u001b[39m\u001b[39m.\u001b[39msize \u001b[39m=\u001b[39m \u001b[39mlen\u001b[39m(\u001b[39mself\u001b[39m\u001b[39m.\u001b[39mfilelist)\n",
      "\u001b[0;31mNameError\u001b[0m: name 'C' is not defined"
     ]
    }
   ],
   "source": [
    "if split == \"train\":\n",
    "    num_train = int(len(filelist) * C.io.percentage)\n",
    "    self.filelist = filelist[0 : num_train]\n",
    "    self.size = len(self.filelist)"
   ]
  },
  {
   "cell_type": "code",
   "execution_count": 18,
   "metadata": {},
   "outputs": [
    {
     "name": "stdout",
     "output_type": "stream",
     "text": [
      "[-0.99024556  0.11863917  0.07306044]\n"
     ]
    }
   ],
   "source": [
    "with np.load(filelist[0].replace(\"color.png\", \"vanish.npz\")) as npz:\n",
    "    print(npz['x'])\n",
    "    vpts = np.array([npz[d] for d in [\"x\", \"y\", \"z\"]])"
   ]
  },
  {
   "cell_type": "code",
   "execution_count": 14,
   "metadata": {},
   "outputs": [
    {
     "data": {
      "text/plain": [
       "array([[-0.99024556,  0.11863917,  0.07306044],\n",
       "       [ 0.01114918, -0.45520902,  0.89031495],\n",
       "       [ 0.13888343,  0.88244528,  0.44944641]])"
      ]
     },
     "execution_count": 14,
     "metadata": {},
     "output_type": "execute_result"
    }
   ],
   "source": [
    "vpts"
   ]
  },
  {
   "cell_type": "code",
   "execution_count": 15,
   "metadata": {},
   "outputs": [
    {
     "data": {
      "text/plain": [
       "array([-0.99024556,  0.11863917,  0.07306044])"
      ]
     },
     "execution_count": 15,
     "metadata": {},
     "output_type": "execute_result"
    }
   ],
   "source": [
    "vpts[0]"
   ]
  },
  {
   "cell_type": "code",
   "execution_count": null,
   "metadata": {},
   "outputs": [],
   "source": []
  }
 ],
 "metadata": {
  "kernelspec": {
   "display_name": "cuti",
   "language": "python",
   "name": "cuti"
  },
  "language_info": {
   "codemirror_mode": {
    "name": "ipython",
    "version": 3
   },
   "file_extension": ".py",
   "mimetype": "text/x-python",
   "name": "python",
   "nbconvert_exporter": "python",
   "pygments_lexer": "ipython3",
   "version": "3.9.16"
  },
  "orig_nbformat": 4
 },
 "nbformat": 4,
 "nbformat_minor": 2
}
