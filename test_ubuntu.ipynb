{
 "cells": [
  {
   "cell_type": "code",
   "execution_count": 7,
   "metadata": {},
   "outputs": [],
   "source": [
    "\n",
    "import numpy as np\n",
    "import torch\n",
    "import glob\n",
    "import cv2\n",
    "import os\n",
    "import os.path as osp\n",
    "import pickle\n",
    "import json\n",
    "import pandas as pd\n",
    "\n",
    "import numpy as np\n",
    "import torch\n",
    "import glob\n",
    "import cv2\n",
    "import os\n",
    "import os.path as osp\n",
    "import pickle\n",
    "import csv\n",
    "import numpy.linalg as LA\n",
    "import data.transforms as T"
   ]
  },
  {
   "cell_type": "code",
   "execution_count": 8,
   "metadata": {},
   "outputs": [],
   "source": [
    "def eul2rotm_ypr(euler):\n",
    "    R_x = np.array(\n",
    "        [\n",
    "            [1, 0, 0],\n",
    "            [0, np.cos(euler[0]), -np.sin(euler[0])],\n",
    "            [0, np.sin(euler[0]), np.cos(euler[0])],\n",
    "        ],\n",
    "        dtype=np.float32,\n",
    "    )\n",
    "\n",
    "    R_y = np.array(\n",
    "        [\n",
    "            [np.cos(euler[1]), 0, np.sin(euler[1])],\n",
    "            [0, 1, 0],\n",
    "            [-np.sin(euler[1]), 0, np.cos(euler[1])],\n",
    "        ],\n",
    "        dtype=np.float32,\n",
    "    )\n",
    "\n",
    "    R_z = np.array(\n",
    "        [\n",
    "            [np.cos(euler[2]), -np.sin(euler[2]), 0],\n",
    "            [np.sin(euler[2]), np.cos(euler[2]), 0],\n",
    "            [0, 0, 1],\n",
    "        ],\n",
    "        dtype=np.float32,\n",
    "    )\n",
    "\n",
    "    return np.dot(R_z, np.dot(R_x, R_y))\n",
    "\n",
    "\n",
    "def create_masks(image):\n",
    "    masks = torch.zeros((1, height, width), dtype=torch.uint8)\n",
    "    return masks\n",
    "\n",
    "\n",
    "def read_line_file(filename, min_line_length=10):\n",
    "    segs = []  # line segments\n",
    "    # csv 파일 열어서 Line 정보 가져오기\n",
    "    with open(filename, \"r\") as csvfile:\n",
    "        csvreader = csv.reader(csvfile)\n",
    "        for row in csvreader:\n",
    "            segs.append([float(row[0]), float(row[1]), float(row[2]), float(row[3])])\n",
    "    segs = np.array(segs, dtype=np.float32)\n",
    "    lengths = LA.norm(segs[:, 2:] - segs[:, :2], axis=1)\n",
    "    segs = segs[lengths > min_line_length]\n",
    "    return segs\n",
    "\n",
    "\n",
    "def normalize_segs(segs, pp, rho):\n",
    "    pp = np.array([pp[0], pp[1], pp[0], pp[1]], dtype=np.float32)\n",
    "    return rho * (segs - pp)\n",
    "\n",
    "\n",
    "def normalize_safe_np(v, axis=-1, eps=1e-6):\n",
    "    de = LA.norm(v, axis=axis, keepdims=True)\n",
    "    de = np.maximum(de, eps)\n",
    "    return v / de\n",
    "\n",
    "\n",
    "def segs2lines_np(segs):\n",
    "    ones = np.ones(len(segs))\n",
    "    ones = np.expand_dims(ones, axis=-1)\n",
    "    p1 = np.concatenate([segs[:, :2], ones], axis=-1)\n",
    "    p2 = np.concatenate([segs[:, 2:], ones], axis=-1)\n",
    "    lines = np.cross(p1, p2)\n",
    "    return normalize_safe_np(lines)\n",
    "\n",
    "\n",
    "def sample_segs_np(segs, num_sample, use_prob=True):\n",
    "    num_segs = len(segs)\n",
    "    sampled_segs = np.zeros([num_sample, 4], dtype=np.float32)\n",
    "    mask = np.zeros([num_sample, 1], dtype=np.float32)\n",
    "    if num_sample > num_segs:\n",
    "        sampled_segs[:num_segs] = segs\n",
    "        mask[:num_segs] = np.ones([num_segs, 1], dtype=np.float32)\n",
    "    else:\n",
    "        lengths = LA.norm(segs[:, 2:] - segs[:, :2], axis=-1)\n",
    "        prob = lengths / np.sum(lengths)\n",
    "        idxs = np.random.choice(segs.shape[0], num_sample, replace=True, p=prob)\n",
    "        sampled_segs = segs[idxs]\n",
    "        mask = np.ones([num_sample, 1], dtype=np.float32)\n",
    "    return sampled_segs, mask\n",
    "\n",
    "\n",
    "def sample_vert_segs_np(segs, thresh_theta=22.5):\n",
    "    lines = segs2lines_np(segs)\n",
    "    (a, b) = lines[:, 0], lines[:, 1]\n",
    "    theta = np.arctan2(np.abs(b), np.abs(a))\n",
    "    thresh_theta = np.radians(thresh_theta)\n",
    "    return segs[theta < thresh_theta]\n",
    "def make_transform(self):\n",
    "    return T.Compose(\n",
    "        [T.ToTensor(), T.Normalize([0.485, 0.456, 0.406], [0.229, 0.224, 0.225])]\n",
    "    )"
   ]
  },
  {
   "cell_type": "code",
   "execution_count": 2,
   "metadata": {},
   "outputs": [],
   "source": [
    "path = \"/home/moon/source/CuTi/matterport/mp3d_planercnn_json/cached_set_train.json\""
   ]
  },
  {
   "cell_type": "code",
   "execution_count": 3,
   "metadata": {},
   "outputs": [],
   "source": [
    "root = \"/home/moon/source/CuTi/matterport/\""
   ]
  },
  {
   "cell_type": "code",
   "execution_count": 4,
   "metadata": {},
   "outputs": [],
   "source": [
    "with open(osp.join(path)) as f:\n",
    "   split = json.load(f)"
   ]
  },
  {
   "cell_type": "code",
   "execution_count": 5,
   "metadata": {},
   "outputs": [
    {
     "data": {
      "text/plain": [
       "['rgb', '17DRP5sb8fy', '0_0_10.png']"
      ]
     },
     "execution_count": 5,
     "metadata": {},
     "output_type": "execute_result"
    }
   ],
   "source": [
    "(split['data'][0]['0']['file_name']).split('/')[6:]"
   ]
  },
  {
   "cell_type": "code",
   "execution_count": 5,
   "metadata": {},
   "outputs": [],
   "source": [
    "scene_info = {\n",
    "            \"images\": [],\n",
    "            \"poses\": [],\n",
    "            \"intrinsics\": [],\n",
    "            \"lines\": [],\n",
    "        }  # line 정보 추가\n",
    "base_pose = np.array([0, 0, 0, 0, 0, 0, 1])"
   ]
  },
  {
   "cell_type": "code",
   "execution_count": 9,
   "metadata": {},
   "outputs": [],
   "source": [
    "img_filename = []"
   ]
  },
  {
   "cell_type": "code",
   "execution_count": 10,
   "metadata": {},
   "outputs": [],
   "source": [
    "target = {}\n",
    "extra = {}"
   ]
  },
  {
   "cell_type": "code",
   "execution_count": 12,
   "metadata": {},
   "outputs": [
    {
     "name": "stdout",
     "output_type": "stream",
     "text": [
      "img: /home/moon/source/CuTi/matterport/rgb/17DRP5sb8fy/0_0_10.png\n",
      "['', 'home', 'moon', 'source', 'CuTi', 'matterport', 'rgb', '17DRP5sb8fy', '0_0_10.png']\n",
      "img: /home/moon/source/CuTi/matterport/rgb/17DRP5sb8fy/0_0_7.png\n",
      "['', 'home', 'moon', 'source', 'CuTi', 'matterport', 'rgb', '17DRP5sb8fy', '0_0_7.png']\n"
     ]
    },
    {
     "ename": "FileNotFoundError",
     "evalue": "[Errno 2] No such file or directory: '/home/moon/source/CuTi/matterport/rgb/17DRP5sb8fy/0_0_7_line.csv'",
     "output_type": "error",
     "traceback": [
      "\u001b[0;31m---------------------------------------------------------------------------\u001b[0m",
      "\u001b[0;31mFileNotFoundError\u001b[0m                         Traceback (most recent call last)",
      "\u001b[0;32m/tmp/ipykernel_365577/412996435.py\u001b[0m in \u001b[0;36m<module>\u001b[0;34m\u001b[0m\n\u001b[1;32m     31\u001b[0m         \u001b[0mline_name\u001b[0m \u001b[0;34m=\u001b[0m \u001b[0;34m\"/\"\u001b[0m\u001b[0;34m.\u001b[0m\u001b[0mjoin\u001b[0m\u001b[0;34m(\u001b[0m\u001b[0mline_name\u001b[0m\u001b[0;34m)\u001b[0m\u001b[0;34m\u001b[0m\u001b[0;34m\u001b[0m\u001b[0m\n\u001b[1;32m     32\u001b[0m \u001b[0;34m\u001b[0m\u001b[0m\n\u001b[0;32m---> 33\u001b[0;31m         \u001b[0morg_segs\u001b[0m \u001b[0;34m=\u001b[0m \u001b[0mread_line_file\u001b[0m\u001b[0;34m(\u001b[0m\u001b[0mline_name\u001b[0m\u001b[0;34m,\u001b[0m \u001b[0;36m10\u001b[0m\u001b[0;34m)\u001b[0m\u001b[0;34m\u001b[0m\u001b[0;34m\u001b[0m\u001b[0m\n\u001b[0m\u001b[1;32m     34\u001b[0m         \u001b[0mnum_segs\u001b[0m \u001b[0;34m=\u001b[0m \u001b[0mlen\u001b[0m\u001b[0;34m(\u001b[0m\u001b[0morg_segs\u001b[0m\u001b[0;34m)\u001b[0m\u001b[0;34m\u001b[0m\u001b[0;34m\u001b[0m\u001b[0m\n\u001b[1;32m     35\u001b[0m \u001b[0;34m\u001b[0m\u001b[0m\n",
      "\u001b[0;32m/tmp/ipykernel_365577/1470932574.py\u001b[0m in \u001b[0;36mread_line_file\u001b[0;34m(filename, min_line_length)\u001b[0m\n\u001b[1;32m     38\u001b[0m     \u001b[0msegs\u001b[0m \u001b[0;34m=\u001b[0m \u001b[0;34m[\u001b[0m\u001b[0;34m]\u001b[0m  \u001b[0;31m# line segments\u001b[0m\u001b[0;34m\u001b[0m\u001b[0;34m\u001b[0m\u001b[0m\n\u001b[1;32m     39\u001b[0m     \u001b[0;31m# csv 파일 열어서 Line 정보 가져오기\u001b[0m\u001b[0;34m\u001b[0m\u001b[0;34m\u001b[0m\u001b[0;34m\u001b[0m\u001b[0m\n\u001b[0;32m---> 40\u001b[0;31m     \u001b[0;32mwith\u001b[0m \u001b[0mopen\u001b[0m\u001b[0;34m(\u001b[0m\u001b[0mfilename\u001b[0m\u001b[0;34m,\u001b[0m \u001b[0;34m\"r\"\u001b[0m\u001b[0;34m)\u001b[0m \u001b[0;32mas\u001b[0m \u001b[0mcsvfile\u001b[0m\u001b[0;34m:\u001b[0m\u001b[0;34m\u001b[0m\u001b[0;34m\u001b[0m\u001b[0m\n\u001b[0m\u001b[1;32m     41\u001b[0m         \u001b[0mcsvreader\u001b[0m \u001b[0;34m=\u001b[0m \u001b[0mcsv\u001b[0m\u001b[0;34m.\u001b[0m\u001b[0mreader\u001b[0m\u001b[0;34m(\u001b[0m\u001b[0mcsvfile\u001b[0m\u001b[0;34m)\u001b[0m\u001b[0;34m\u001b[0m\u001b[0;34m\u001b[0m\u001b[0m\n\u001b[1;32m     42\u001b[0m         \u001b[0;32mfor\u001b[0m \u001b[0mrow\u001b[0m \u001b[0;32min\u001b[0m \u001b[0mcsvreader\u001b[0m\u001b[0;34m:\u001b[0m\u001b[0;34m\u001b[0m\u001b[0;34m\u001b[0m\u001b[0m\n",
      "\u001b[0;31mFileNotFoundError\u001b[0m: [Errno 2] No such file or directory: '/home/moon/source/CuTi/matterport/rgb/17DRP5sb8fy/0_0_7_line.csv'"
     ]
    }
   ],
   "source": [
    "for i in range(len(split[\"data\"])):\n",
    "    images = []\n",
    "    lines = []\n",
    "\n",
    "    for imgnum in [\"0\", \"1\"]:\n",
    "        img_name = os.path.join(\n",
    "            root,\n",
    "            \"/\".join(str(split[\"data\"][i][imgnum][\"file_name\"]).split(\"/\")[6:]),\n",
    "        )\n",
    "        print(\"img:\",img_name)\n",
    "        img_filename.append(img_name)\n",
    "        image = cv2.imread(img_name)\n",
    "        image = image[:, :, ::-1]  # convert to rgb'\n",
    "\n",
    "        org_image = image\n",
    "        org_h, org_w = image.shape[0], image.shape[1]\n",
    "        org_sz = np.array([org_h, org_w])\n",
    "\n",
    "        image = cv2.resize(image, dsize=(512, 512))\n",
    "        input_sz = np.array([512, 512])\n",
    "\n",
    "        ratio_x = float(512) / float(org_w)\n",
    "        ratio_y = float(512) / float(org_h)\n",
    "\n",
    "        pp = (org_w / 2, org_h / 2)\n",
    "        rho = 2.0 / np.minimum(org_w, org_h)\n",
    "\n",
    "        line_name = img_name.split(\"/\")\n",
    "        line_name[8] = img_name.split(\"/\")[8].split(\".\")[0] + \"_line.csv\"\n",
    "        line_name = \"/\".join(line_name)\n",
    "\n",
    "        try:\n",
    "            pd.read_csv(line_name)\n",
    "        except FileNotFoundError:\n",
    "            img = cv2.imread(img_name, 0)\n",
    "            lsd = cv2.createLineSegmentDetector(0)\n",
    "            lines = lsd.detect(img)[0]\n",
    "            drawn_img = lsd.drawSegments(img, lines)\n",
    "\n",
    "            Line_image_name = img_name.split(\"/\")\n",
    "            csv_file_name = img_name.split(\"/\")\n",
    "            Line_image_name[8] = (\n",
    "            img_name.split(\"/\")[8].split(\".\")[0]\n",
    "            + \"_line.\"\n",
    "            + img_name.split(\"/\")[8].split(\".\")[1]\n",
    "            )\n",
    "            csv_file_name[8] = img_name.split(\"/\")[8].split(\".\")[0] + \"_line.csv\"\n",
    "            Line_image_name = \"/\".join(Line_image_name)\n",
    "            csv_file_name = \"/\".join(csv_file_name)\n",
    "            print(\"cv2:\",Line_image_name)\n",
    "            cv2.imwrite(Line_image_name, drawn_img)\n",
    "            data_df = pd.DataFrame(lines[0][0])\n",
    "            data_df = data_df.T\n",
    "            for i in range(1, len(lines)):\n",
    "                data_df2 = pd.DataFrame(lines[i][0])\n",
    "                data_df2 = data_df2.T\n",
    "                data_df = pd.concat([data_df, data_df2])\n",
    "            print(\"cv3:\", csv_file_name)\n",
    "            data_df.to_csv(csv_file_name, index=False, header=None)\n",
    "\n",
    "\n",
    "        org_segs = read_line_file(line_name, 10)\n",
    "        num_segs = len(org_segs)\n",
    "\n",
    "        segs = normalize_segs(org_segs, pp=pp, rho=rho)\n",
    "\n",
    "        sampled_segs, line_mask = sample_segs_np(segs, 512)\n",
    "        sampled_lines = segs2lines_np(sampled_segs)\n",
    "\n",
    "        image = np.ascontiguousarray(image)\n",
    "\n",
    "        target[\"segs\"] = (\n",
    "            torch.from_numpy(np.ascontiguousarray(sampled_segs))\n",
    "            .contiguous()\n",
    "            .float()\n",
    "        )\n",
    "        target[\"lines\"] = (\n",
    "            torch.from_numpy(np.ascontiguousarray(sampled_lines))\n",
    "            .contiguous()\n",
    "            .float()\n",
    "        )\n",
    "        extra[\"lines\"] = target[\"lines\"].clone()\n",
    "\n",
    "data = make_transform(image, extra, target)"
   ]
  },
  {
   "cell_type": "code",
   "execution_count": 17,
   "metadata": {},
   "outputs": [
    {
     "ename": "FileNotFoundError",
     "evalue": "[Errno 2] No such file or directory: '/home/moon/source/CuTi/matterport/rgb/17DRP5sb8fy/0_0_7_line.csv'",
     "output_type": "error",
     "traceback": [
      "\u001b[0;31m---------------------------------------------------------------------------\u001b[0m",
      "\u001b[0;31mFileNotFoundError\u001b[0m                         Traceback (most recent call last)",
      "\u001b[0;32m/tmp/ipykernel_365577/2226431609.py\u001b[0m in \u001b[0;36m<module>\u001b[0;34m\u001b[0m\n\u001b[0;32m----> 1\u001b[0;31m \u001b[0;32mif\u001b[0m\u001b[0;34m(\u001b[0m\u001b[0mpd\u001b[0m\u001b[0;34m.\u001b[0m\u001b[0mread_csv\u001b[0m\u001b[0;34m(\u001b[0m\u001b[0;34m\"/home/moon/source/CuTi/matterport/rgb/17DRP5sb8fy/0_0_7_line.csv\"\u001b[0m\u001b[0;34m)\u001b[0m \u001b[0;34m==\u001b[0m \u001b[0;32mNone\u001b[0m\u001b[0;34m)\u001b[0m\u001b[0;34m:\u001b[0m\u001b[0;34m\u001b[0m\u001b[0;34m\u001b[0m\u001b[0m\n\u001b[0m\u001b[1;32m      2\u001b[0m     \u001b[0mprint\u001b[0m\u001b[0;34m(\u001b[0m\u001b[0;36m1\u001b[0m\u001b[0;34m)\u001b[0m\u001b[0;34m\u001b[0m\u001b[0;34m\u001b[0m\u001b[0m\n",
      "\u001b[0;32m~/.conda/envs/cuti/lib/python3.7/site-packages/pandas/util/_decorators.py\u001b[0m in \u001b[0;36mwrapper\u001b[0;34m(*args, **kwargs)\u001b[0m\n\u001b[1;32m    309\u001b[0m                     \u001b[0mstacklevel\u001b[0m\u001b[0;34m=\u001b[0m\u001b[0mstacklevel\u001b[0m\u001b[0;34m,\u001b[0m\u001b[0;34m\u001b[0m\u001b[0;34m\u001b[0m\u001b[0m\n\u001b[1;32m    310\u001b[0m                 )\n\u001b[0;32m--> 311\u001b[0;31m             \u001b[0;32mreturn\u001b[0m \u001b[0mfunc\u001b[0m\u001b[0;34m(\u001b[0m\u001b[0;34m*\u001b[0m\u001b[0margs\u001b[0m\u001b[0;34m,\u001b[0m \u001b[0;34m**\u001b[0m\u001b[0mkwargs\u001b[0m\u001b[0;34m)\u001b[0m\u001b[0;34m\u001b[0m\u001b[0;34m\u001b[0m\u001b[0m\n\u001b[0m\u001b[1;32m    312\u001b[0m \u001b[0;34m\u001b[0m\u001b[0m\n\u001b[1;32m    313\u001b[0m         \u001b[0;32mreturn\u001b[0m \u001b[0mwrapper\u001b[0m\u001b[0;34m\u001b[0m\u001b[0;34m\u001b[0m\u001b[0m\n",
      "\u001b[0;32m~/.conda/envs/cuti/lib/python3.7/site-packages/pandas/io/parsers/readers.py\u001b[0m in \u001b[0;36mread_csv\u001b[0;34m(filepath_or_buffer, sep, delimiter, header, names, index_col, usecols, squeeze, prefix, mangle_dupe_cols, dtype, engine, converters, true_values, false_values, skipinitialspace, skiprows, skipfooter, nrows, na_values, keep_default_na, na_filter, verbose, skip_blank_lines, parse_dates, infer_datetime_format, keep_date_col, date_parser, dayfirst, cache_dates, iterator, chunksize, compression, thousands, decimal, lineterminator, quotechar, quoting, doublequote, escapechar, comment, encoding, encoding_errors, dialect, error_bad_lines, warn_bad_lines, on_bad_lines, delim_whitespace, low_memory, memory_map, float_precision, storage_options)\u001b[0m\n\u001b[1;32m    584\u001b[0m     \u001b[0mkwds\u001b[0m\u001b[0;34m.\u001b[0m\u001b[0mupdate\u001b[0m\u001b[0;34m(\u001b[0m\u001b[0mkwds_defaults\u001b[0m\u001b[0;34m)\u001b[0m\u001b[0;34m\u001b[0m\u001b[0;34m\u001b[0m\u001b[0m\n\u001b[1;32m    585\u001b[0m \u001b[0;34m\u001b[0m\u001b[0m\n\u001b[0;32m--> 586\u001b[0;31m     \u001b[0;32mreturn\u001b[0m \u001b[0m_read\u001b[0m\u001b[0;34m(\u001b[0m\u001b[0mfilepath_or_buffer\u001b[0m\u001b[0;34m,\u001b[0m \u001b[0mkwds\u001b[0m\u001b[0;34m)\u001b[0m\u001b[0;34m\u001b[0m\u001b[0;34m\u001b[0m\u001b[0m\n\u001b[0m\u001b[1;32m    587\u001b[0m \u001b[0;34m\u001b[0m\u001b[0m\n\u001b[1;32m    588\u001b[0m \u001b[0;34m\u001b[0m\u001b[0m\n",
      "\u001b[0;32m~/.conda/envs/cuti/lib/python3.7/site-packages/pandas/io/parsers/readers.py\u001b[0m in \u001b[0;36m_read\u001b[0;34m(filepath_or_buffer, kwds)\u001b[0m\n\u001b[1;32m    480\u001b[0m \u001b[0;34m\u001b[0m\u001b[0m\n\u001b[1;32m    481\u001b[0m     \u001b[0;31m# Create the parser.\u001b[0m\u001b[0;34m\u001b[0m\u001b[0;34m\u001b[0m\u001b[0;34m\u001b[0m\u001b[0m\n\u001b[0;32m--> 482\u001b[0;31m     \u001b[0mparser\u001b[0m \u001b[0;34m=\u001b[0m \u001b[0mTextFileReader\u001b[0m\u001b[0;34m(\u001b[0m\u001b[0mfilepath_or_buffer\u001b[0m\u001b[0;34m,\u001b[0m \u001b[0;34m**\u001b[0m\u001b[0mkwds\u001b[0m\u001b[0;34m)\u001b[0m\u001b[0;34m\u001b[0m\u001b[0;34m\u001b[0m\u001b[0m\n\u001b[0m\u001b[1;32m    483\u001b[0m \u001b[0;34m\u001b[0m\u001b[0m\n\u001b[1;32m    484\u001b[0m     \u001b[0;32mif\u001b[0m \u001b[0mchunksize\u001b[0m \u001b[0;32mor\u001b[0m \u001b[0miterator\u001b[0m\u001b[0;34m:\u001b[0m\u001b[0;34m\u001b[0m\u001b[0;34m\u001b[0m\u001b[0m\n",
      "\u001b[0;32m~/.conda/envs/cuti/lib/python3.7/site-packages/pandas/io/parsers/readers.py\u001b[0m in \u001b[0;36m__init__\u001b[0;34m(self, f, engine, **kwds)\u001b[0m\n\u001b[1;32m    809\u001b[0m             \u001b[0mself\u001b[0m\u001b[0;34m.\u001b[0m\u001b[0moptions\u001b[0m\u001b[0;34m[\u001b[0m\u001b[0;34m\"has_index_names\"\u001b[0m\u001b[0;34m]\u001b[0m \u001b[0;34m=\u001b[0m \u001b[0mkwds\u001b[0m\u001b[0;34m[\u001b[0m\u001b[0;34m\"has_index_names\"\u001b[0m\u001b[0;34m]\u001b[0m\u001b[0;34m\u001b[0m\u001b[0;34m\u001b[0m\u001b[0m\n\u001b[1;32m    810\u001b[0m \u001b[0;34m\u001b[0m\u001b[0m\n\u001b[0;32m--> 811\u001b[0;31m         \u001b[0mself\u001b[0m\u001b[0;34m.\u001b[0m\u001b[0m_engine\u001b[0m \u001b[0;34m=\u001b[0m \u001b[0mself\u001b[0m\u001b[0;34m.\u001b[0m\u001b[0m_make_engine\u001b[0m\u001b[0;34m(\u001b[0m\u001b[0mself\u001b[0m\u001b[0;34m.\u001b[0m\u001b[0mengine\u001b[0m\u001b[0;34m)\u001b[0m\u001b[0;34m\u001b[0m\u001b[0;34m\u001b[0m\u001b[0m\n\u001b[0m\u001b[1;32m    812\u001b[0m \u001b[0;34m\u001b[0m\u001b[0m\n\u001b[1;32m    813\u001b[0m     \u001b[0;32mdef\u001b[0m \u001b[0mclose\u001b[0m\u001b[0;34m(\u001b[0m\u001b[0mself\u001b[0m\u001b[0;34m)\u001b[0m\u001b[0;34m:\u001b[0m\u001b[0;34m\u001b[0m\u001b[0;34m\u001b[0m\u001b[0m\n",
      "\u001b[0;32m~/.conda/envs/cuti/lib/python3.7/site-packages/pandas/io/parsers/readers.py\u001b[0m in \u001b[0;36m_make_engine\u001b[0;34m(self, engine)\u001b[0m\n\u001b[1;32m   1038\u001b[0m             )\n\u001b[1;32m   1039\u001b[0m         \u001b[0;31m# error: Too many arguments for \"ParserBase\"\u001b[0m\u001b[0;34m\u001b[0m\u001b[0;34m\u001b[0m\u001b[0;34m\u001b[0m\u001b[0m\n\u001b[0;32m-> 1040\u001b[0;31m         \u001b[0;32mreturn\u001b[0m \u001b[0mmapping\u001b[0m\u001b[0;34m[\u001b[0m\u001b[0mengine\u001b[0m\u001b[0;34m]\u001b[0m\u001b[0;34m(\u001b[0m\u001b[0mself\u001b[0m\u001b[0;34m.\u001b[0m\u001b[0mf\u001b[0m\u001b[0;34m,\u001b[0m \u001b[0;34m**\u001b[0m\u001b[0mself\u001b[0m\u001b[0;34m.\u001b[0m\u001b[0moptions\u001b[0m\u001b[0;34m)\u001b[0m  \u001b[0;31m# type: ignore[call-arg]\u001b[0m\u001b[0;34m\u001b[0m\u001b[0;34m\u001b[0m\u001b[0m\n\u001b[0m\u001b[1;32m   1041\u001b[0m \u001b[0;34m\u001b[0m\u001b[0m\n\u001b[1;32m   1042\u001b[0m     \u001b[0;32mdef\u001b[0m \u001b[0m_failover_to_python\u001b[0m\u001b[0;34m(\u001b[0m\u001b[0mself\u001b[0m\u001b[0;34m)\u001b[0m\u001b[0;34m:\u001b[0m\u001b[0;34m\u001b[0m\u001b[0;34m\u001b[0m\u001b[0m\n",
      "\u001b[0;32m~/.conda/envs/cuti/lib/python3.7/site-packages/pandas/io/parsers/c_parser_wrapper.py\u001b[0m in \u001b[0;36m__init__\u001b[0;34m(self, src, **kwds)\u001b[0m\n\u001b[1;32m     49\u001b[0m \u001b[0;34m\u001b[0m\u001b[0m\n\u001b[1;32m     50\u001b[0m         \u001b[0;31m# open handles\u001b[0m\u001b[0;34m\u001b[0m\u001b[0;34m\u001b[0m\u001b[0;34m\u001b[0m\u001b[0m\n\u001b[0;32m---> 51\u001b[0;31m         \u001b[0mself\u001b[0m\u001b[0;34m.\u001b[0m\u001b[0m_open_handles\u001b[0m\u001b[0;34m(\u001b[0m\u001b[0msrc\u001b[0m\u001b[0;34m,\u001b[0m \u001b[0mkwds\u001b[0m\u001b[0;34m)\u001b[0m\u001b[0;34m\u001b[0m\u001b[0;34m\u001b[0m\u001b[0m\n\u001b[0m\u001b[1;32m     52\u001b[0m         \u001b[0;32massert\u001b[0m \u001b[0mself\u001b[0m\u001b[0;34m.\u001b[0m\u001b[0mhandles\u001b[0m \u001b[0;32mis\u001b[0m \u001b[0;32mnot\u001b[0m \u001b[0;32mNone\u001b[0m\u001b[0;34m\u001b[0m\u001b[0;34m\u001b[0m\u001b[0m\n\u001b[1;32m     53\u001b[0m \u001b[0;34m\u001b[0m\u001b[0m\n",
      "\u001b[0;32m~/.conda/envs/cuti/lib/python3.7/site-packages/pandas/io/parsers/base_parser.py\u001b[0m in \u001b[0;36m_open_handles\u001b[0;34m(self, src, kwds)\u001b[0m\n\u001b[1;32m    227\u001b[0m             \u001b[0mmemory_map\u001b[0m\u001b[0;34m=\u001b[0m\u001b[0mkwds\u001b[0m\u001b[0;34m.\u001b[0m\u001b[0mget\u001b[0m\u001b[0;34m(\u001b[0m\u001b[0;34m\"memory_map\"\u001b[0m\u001b[0;34m,\u001b[0m \u001b[0;32mFalse\u001b[0m\u001b[0;34m)\u001b[0m\u001b[0;34m,\u001b[0m\u001b[0;34m\u001b[0m\u001b[0;34m\u001b[0m\u001b[0m\n\u001b[1;32m    228\u001b[0m             \u001b[0mstorage_options\u001b[0m\u001b[0;34m=\u001b[0m\u001b[0mkwds\u001b[0m\u001b[0;34m.\u001b[0m\u001b[0mget\u001b[0m\u001b[0;34m(\u001b[0m\u001b[0;34m\"storage_options\"\u001b[0m\u001b[0;34m,\u001b[0m \u001b[0;32mNone\u001b[0m\u001b[0;34m)\u001b[0m\u001b[0;34m,\u001b[0m\u001b[0;34m\u001b[0m\u001b[0;34m\u001b[0m\u001b[0m\n\u001b[0;32m--> 229\u001b[0;31m             \u001b[0merrors\u001b[0m\u001b[0;34m=\u001b[0m\u001b[0mkwds\u001b[0m\u001b[0;34m.\u001b[0m\u001b[0mget\u001b[0m\u001b[0;34m(\u001b[0m\u001b[0;34m\"encoding_errors\"\u001b[0m\u001b[0;34m,\u001b[0m \u001b[0;34m\"strict\"\u001b[0m\u001b[0;34m)\u001b[0m\u001b[0;34m,\u001b[0m\u001b[0;34m\u001b[0m\u001b[0;34m\u001b[0m\u001b[0m\n\u001b[0m\u001b[1;32m    230\u001b[0m         )\n\u001b[1;32m    231\u001b[0m \u001b[0;34m\u001b[0m\u001b[0m\n",
      "\u001b[0;32m~/.conda/envs/cuti/lib/python3.7/site-packages/pandas/io/common.py\u001b[0m in \u001b[0;36mget_handle\u001b[0;34m(path_or_buf, mode, encoding, compression, memory_map, is_text, errors, storage_options)\u001b[0m\n\u001b[1;32m    705\u001b[0m                 \u001b[0mencoding\u001b[0m\u001b[0;34m=\u001b[0m\u001b[0mioargs\u001b[0m\u001b[0;34m.\u001b[0m\u001b[0mencoding\u001b[0m\u001b[0;34m,\u001b[0m\u001b[0;34m\u001b[0m\u001b[0;34m\u001b[0m\u001b[0m\n\u001b[1;32m    706\u001b[0m                 \u001b[0merrors\u001b[0m\u001b[0;34m=\u001b[0m\u001b[0merrors\u001b[0m\u001b[0;34m,\u001b[0m\u001b[0;34m\u001b[0m\u001b[0;34m\u001b[0m\u001b[0m\n\u001b[0;32m--> 707\u001b[0;31m                 \u001b[0mnewline\u001b[0m\u001b[0;34m=\u001b[0m\u001b[0;34m\"\"\u001b[0m\u001b[0;34m,\u001b[0m\u001b[0;34m\u001b[0m\u001b[0;34m\u001b[0m\u001b[0m\n\u001b[0m\u001b[1;32m    708\u001b[0m             )\n\u001b[1;32m    709\u001b[0m         \u001b[0;32melse\u001b[0m\u001b[0;34m:\u001b[0m\u001b[0;34m\u001b[0m\u001b[0;34m\u001b[0m\u001b[0m\n",
      "\u001b[0;31mFileNotFoundError\u001b[0m: [Errno 2] No such file or directory: '/home/moon/source/CuTi/matterport/rgb/17DRP5sb8fy/0_0_7_line.csv'"
     ]
    }
   ],
   "source": [
    "if(pd.read_csv(\"/home/moon/source/CuTi/matterport/rgb/17DRP5sb8fy/0_0_7_line.csv\") == None):\n",
    "    print(1)\n"
   ]
  },
  {
   "cell_type": "code",
   "execution_count": 8,
   "metadata": {},
   "outputs": [
    {
     "data": {
      "text/plain": [
       "['/home/moon/source/CuTi/matterport/rgb/17DRP5sb8fy/0_0_10.png',\n",
       " '/home/moon/source/CuTi/matterport/rgb/17DRP5sb8fy/0_0_7.png']"
      ]
     },
     "execution_count": 8,
     "metadata": {},
     "output_type": "execute_result"
    }
   ],
   "source": [
    "scene_info[\"images\"][0]"
   ]
  },
  {
   "cell_type": "code",
   "execution_count": null,
   "metadata": {},
   "outputs": [],
   "source": []
  }
 ],
 "metadata": {
  "kernelspec": {
   "display_name": "Python 3.7.10 ('cuti')",
   "language": "python",
   "name": "python3"
  },
  "language_info": {
   "codemirror_mode": {
    "name": "ipython",
    "version": 3
   },
   "file_extension": ".py",
   "mimetype": "text/x-python",
   "name": "python",
   "nbconvert_exporter": "python",
   "pygments_lexer": "ipython3",
   "version": "3.7.10"
  },
  "orig_nbformat": 4,
  "vscode": {
   "interpreter": {
    "hash": "fdccdc6a073d743d654d19daae687ff6f0e702cd6f514c29e6e9c515c5833c43"
   }
  }
 },
 "nbformat": 4,
 "nbformat_minor": 2
}
