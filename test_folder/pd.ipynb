{
 "cells": [
  {
   "cell_type": "code",
   "execution_count": 139,
   "metadata": {},
   "outputs": [],
   "source": [
    "import pandas as pd"
   ]
  },
  {
   "cell_type": "code",
   "execution_count": 142,
   "metadata": {},
   "outputs": [],
   "source": [
    "rotation = pd.read_csv(\"/home/kmuvcl/source/CuTi/output/{cuti_matterport}/matterport_test/gt_rotation_magnitude_vs_error.csv\")"
   ]
  },
  {
   "cell_type": "code",
   "execution_count": 143,
   "metadata": {},
   "outputs": [
    {
     "data": {
      "text/html": [
       "<div>\n",
       "<style scoped>\n",
       "    .dataframe tbody tr th:only-of-type {\n",
       "        vertical-align: middle;\n",
       "    }\n",
       "\n",
       "    .dataframe tbody tr th {\n",
       "        vertical-align: top;\n",
       "    }\n",
       "\n",
       "    .dataframe thead th {\n",
       "        text-align: right;\n",
       "    }\n",
       "</style>\n",
       "<table border=\"1\" class=\"dataframe\">\n",
       "  <thead>\n",
       "    <tr style=\"text-align: right;\">\n",
       "      <th></th>\n",
       "      <th>gt</th>\n",
       "      <th>error</th>\n",
       "    </tr>\n",
       "  </thead>\n",
       "  <tbody>\n",
       "    <tr>\n",
       "      <th>0</th>\n",
       "      <td>45.93768</td>\n",
       "      <td>80.54583</td>\n",
       "    </tr>\n",
       "    <tr>\n",
       "      <th>1</th>\n",
       "      <td>153.70143</td>\n",
       "      <td>166.57883</td>\n",
       "    </tr>\n",
       "    <tr>\n",
       "      <th>2</th>\n",
       "      <td>49.19945</td>\n",
       "      <td>92.54064</td>\n",
       "    </tr>\n",
       "    <tr>\n",
       "      <th>3</th>\n",
       "      <td>55.30919</td>\n",
       "      <td>5.97135</td>\n",
       "    </tr>\n",
       "    <tr>\n",
       "      <th>4</th>\n",
       "      <td>39.19428</td>\n",
       "      <td>144.25634</td>\n",
       "    </tr>\n",
       "    <tr>\n",
       "      <th>...</th>\n",
       "      <td>...</td>\n",
       "      <td>...</td>\n",
       "    </tr>\n",
       "    <tr>\n",
       "      <th>7991</th>\n",
       "      <td>119.15277</td>\n",
       "      <td>49.30335</td>\n",
       "    </tr>\n",
       "    <tr>\n",
       "      <th>7992</th>\n",
       "      <td>127.06060</td>\n",
       "      <td>63.82082</td>\n",
       "    </tr>\n",
       "    <tr>\n",
       "      <th>7993</th>\n",
       "      <td>4.72945</td>\n",
       "      <td>14.18174</td>\n",
       "    </tr>\n",
       "    <tr>\n",
       "      <th>7994</th>\n",
       "      <td>134.30828</td>\n",
       "      <td>79.97058</td>\n",
       "    </tr>\n",
       "    <tr>\n",
       "      <th>7995</th>\n",
       "      <td>9.46178</td>\n",
       "      <td>6.22281</td>\n",
       "    </tr>\n",
       "  </tbody>\n",
       "</table>\n",
       "<p>7996 rows × 2 columns</p>\n",
       "</div>"
      ],
      "text/plain": [
       "             gt      error\n",
       "0      45.93768   80.54583\n",
       "1     153.70143  166.57883\n",
       "2      49.19945   92.54064\n",
       "3      55.30919    5.97135\n",
       "4      39.19428  144.25634\n",
       "...         ...        ...\n",
       "7991  119.15277   49.30335\n",
       "7992  127.06060   63.82082\n",
       "7993    4.72945   14.18174\n",
       "7994  134.30828   79.97058\n",
       "7995    9.46178    6.22281\n",
       "\n",
       "[7996 rows x 2 columns]"
      ]
     },
     "execution_count": 143,
     "metadata": {},
     "output_type": "execute_result"
    }
   ],
   "source": [
    "rotation"
   ]
  },
  {
   "cell_type": "code",
   "execution_count": 187,
   "metadata": {},
   "outputs": [
    {
     "name": "stdout",
     "output_type": "stream",
     "text": [
      "0\n",
      "3\n",
      "20\n",
      "38\n",
      "142\n",
      "197\n",
      "552\n",
      "591\n",
      "730\n",
      "980\n",
      "1930\n"
     ]
    }
   ],
   "source": [
    "min = 999999\n",
    "for i in range (7996):\n",
    "    if rotation['error'][i] <min:\n",
    "        min = rotation['error'][i]\n",
    "        print(i)"
   ]
  },
  {
   "cell_type": "code",
   "execution_count": 164,
   "metadata": {},
   "outputs": [
    {
     "data": {
      "text/plain": [
       "166.69445"
      ]
     },
     "execution_count": 164,
     "metadata": {},
     "output_type": "execute_result"
    }
   ],
   "source": [
    "rotation['error'][11]"
   ]
  },
  {
   "cell_type": "code",
   "execution_count": 165,
   "metadata": {},
   "outputs": [],
   "source": [
    "sum = 0\n",
    "for i in range(7996):\n",
    "    sum += rotation['error'][i]"
   ]
  },
  {
   "cell_type": "code",
   "execution_count": 166,
   "metadata": {},
   "outputs": [
    {
     "data": {
      "text/plain": [
       "58.537557969981194"
      ]
     },
     "execution_count": 166,
     "metadata": {},
     "output_type": "execute_result"
    }
   ],
   "source": [
    "sum/7995"
   ]
  },
  {
   "cell_type": "code",
   "execution_count": 167,
   "metadata": {},
   "outputs": [],
   "source": [
    "import cv2\n",
    "from tqdm import tqdm\n",
    "import numpy as np\n",
    "import torch\n",
    "import lietorch\n",
    "import os\n",
    "import glob\n",
    "import time\n",
    "import yaml\n",
    "import argparse\n",
    "\n",
    "import torch \n",
    "import torchvision\n",
    "import torchvision.models as models\n",
    "import torch.nn as nn\n",
    "import torch.nn.functional as F\n",
    "\n",
    "\n",
    "from collections import OrderedDict\n",
    "import pickle\n",
    "import json\n",
    "\n",
    "from lietorch import SE3"
   ]
  },
  {
   "cell_type": "code",
   "execution_count": 168,
   "metadata": {},
   "outputs": [],
   "source": [
    "with open(os.path.join('/home/kmuvcl/source/CuTi/matterport', 'mp3d_planercnn_json/cached_set_test.json')) as f:\n",
    "    test_split = json.load(f)"
   ]
  },
  {
   "cell_type": "code",
   "execution_count": 169,
   "metadata": {},
   "outputs": [],
   "source": [
    "dset = test_split"
   ]
  },
  {
   "cell_type": "code",
   "execution_count": 170,
   "metadata": {},
   "outputs": [
    {
     "name": "stderr",
     "output_type": "stream",
     "text": [
      "100%|██████████| 7996/7996 [00:00<00:00, 311662.17it/s]\n"
     ]
    }
   ],
   "source": [
    "image_path = []\n",
    "for i in tqdm(range(len(dset['data']))):\n",
    "    images = []\n",
    "    for imgnum in ['0', '1']:\n",
    "        img_name = os.path.join('/home/kmuvcl/source/CuTi/matterport', '/'.join(str(dset['data'][i][imgnum]['file_name']).split('/')[6:]))\n",
    "        images.append(img_name)\n",
    "        image_path.append(images)"
   ]
  },
  {
   "cell_type": "code",
   "execution_count": 171,
   "metadata": {},
   "outputs": [
    {
     "data": {
      "text/plain": [
       "['/home/kmuvcl/source/CuTi/matterport/rgb/2t7WUuJeko7/0_0_2.png',\n",
       " '/home/kmuvcl/source/CuTi/matterport/rgb/2t7WUuJeko7/0_0_42.png']"
      ]
     },
     "execution_count": 171,
     "metadata": {},
     "output_type": "execute_result"
    }
   ],
   "source": [
    "image_path[11]"
   ]
  },
  {
   "cell_type": "code",
   "execution_count": 190,
   "metadata": {},
   "outputs": [
    {
     "name": "stdout",
     "output_type": "stream",
     "text": [
      "['/home/kmuvcl/source/CuTi/matterport/rgb/5ZKStnWn8Zo/1_8_0.png', '/home/kmuvcl/source/CuTi/matterport/rgb/5ZKStnWn8Zo/1_8_16.png']\n",
      "3.28019\n",
      "0.0405\n"
     ]
    }
   ],
   "source": [
    "k = 1930\n",
    "print(image_path[k])\n",
    "print(rotation['gt'][k])\n",
    "print(rotation['error'][k])\n"
   ]
  },
  {
   "cell_type": "code",
   "execution_count": 191,
   "metadata": {},
   "outputs": [],
   "source": [
    "path = \"/home/kmuvcl/source/CuTi/output/{cuti_matterport}/matterport_test/gt_translation_magnitude_vs_error.csv\""
   ]
  },
  {
   "cell_type": "code",
   "execution_count": 192,
   "metadata": {},
   "outputs": [],
   "source": [
    "translation = pd.read_csv(path)"
   ]
  },
  {
   "cell_type": "code",
   "execution_count": 193,
   "metadata": {},
   "outputs": [
    {
     "data": {
      "text/html": [
       "<div>\n",
       "<style scoped>\n",
       "    .dataframe tbody tr th:only-of-type {\n",
       "        vertical-align: middle;\n",
       "    }\n",
       "\n",
       "    .dataframe tbody tr th {\n",
       "        vertical-align: top;\n",
       "    }\n",
       "\n",
       "    .dataframe thead th {\n",
       "        text-align: right;\n",
       "    }\n",
       "</style>\n",
       "<table border=\"1\" class=\"dataframe\">\n",
       "  <thead>\n",
       "    <tr style=\"text-align: right;\">\n",
       "      <th></th>\n",
       "      <th>gt</th>\n",
       "      <th>error</th>\n",
       "    </tr>\n",
       "  </thead>\n",
       "  <tbody>\n",
       "    <tr>\n",
       "      <th>0</th>\n",
       "      <td>2.52993</td>\n",
       "      <td>1.77624</td>\n",
       "    </tr>\n",
       "    <tr>\n",
       "      <th>1</th>\n",
       "      <td>2.56524</td>\n",
       "      <td>2.82192</td>\n",
       "    </tr>\n",
       "    <tr>\n",
       "      <th>2</th>\n",
       "      <td>1.60267</td>\n",
       "      <td>2.46138</td>\n",
       "    </tr>\n",
       "    <tr>\n",
       "      <th>3</th>\n",
       "      <td>2.00234</td>\n",
       "      <td>2.18873</td>\n",
       "    </tr>\n",
       "    <tr>\n",
       "      <th>4</th>\n",
       "      <td>4.89586</td>\n",
       "      <td>4.64310</td>\n",
       "    </tr>\n",
       "    <tr>\n",
       "      <th>...</th>\n",
       "      <td>...</td>\n",
       "      <td>...</td>\n",
       "    </tr>\n",
       "    <tr>\n",
       "      <th>7991</th>\n",
       "      <td>2.32336</td>\n",
       "      <td>1.60746</td>\n",
       "    </tr>\n",
       "    <tr>\n",
       "      <th>7992</th>\n",
       "      <td>2.83980</td>\n",
       "      <td>2.00807</td>\n",
       "    </tr>\n",
       "    <tr>\n",
       "      <th>7993</th>\n",
       "      <td>1.93534</td>\n",
       "      <td>0.78131</td>\n",
       "    </tr>\n",
       "    <tr>\n",
       "      <th>7994</th>\n",
       "      <td>3.59114</td>\n",
       "      <td>2.74775</td>\n",
       "    </tr>\n",
       "    <tr>\n",
       "      <th>7995</th>\n",
       "      <td>0.86106</td>\n",
       "      <td>1.20731</td>\n",
       "    </tr>\n",
       "  </tbody>\n",
       "</table>\n",
       "<p>7996 rows × 2 columns</p>\n",
       "</div>"
      ],
      "text/plain": [
       "           gt    error\n",
       "0     2.52993  1.77624\n",
       "1     2.56524  2.82192\n",
       "2     1.60267  2.46138\n",
       "3     2.00234  2.18873\n",
       "4     4.89586  4.64310\n",
       "...       ...      ...\n",
       "7991  2.32336  1.60746\n",
       "7992  2.83980  2.00807\n",
       "7993  1.93534  0.78131\n",
       "7994  3.59114  2.74775\n",
       "7995  0.86106  1.20731\n",
       "\n",
       "[7996 rows x 2 columns]"
      ]
     },
     "execution_count": 193,
     "metadata": {},
     "output_type": "execute_result"
    }
   ],
   "source": [
    "translation"
   ]
  },
  {
   "cell_type": "code",
   "execution_count": 210,
   "metadata": {},
   "outputs": [
    {
     "name": "stdout",
     "output_type": "stream",
     "text": [
      "437\n",
      "4303\n",
      "4681\n",
      "5950\n"
     ]
    }
   ],
   "source": [
    "for i in range(7996):\n",
    "    if(translation['error'][i]<0.08):\n",
    "        print(i)"
   ]
  },
  {
   "cell_type": "code",
   "execution_count": 213,
   "metadata": {},
   "outputs": [
    {
     "name": "stdout",
     "output_type": "stream",
     "text": [
      "['/home/kmuvcl/source/CuTi/matterport/rgb/pa4otMbVnkk/1_1_381.png', '/home/kmuvcl/source/CuTi/matterport/rgb/pa4otMbVnkk/1_1_410.png']\n",
      "0.54816\n",
      "0.03968\n"
     ]
    }
   ],
   "source": [
    "k = 4681\n",
    "print(image_path[k])\n",
    "print(translation['gt'][k])\n",
    "print(translation['error'][k])"
   ]
  },
  {
   "cell_type": "code",
   "execution_count": null,
   "metadata": {},
   "outputs": [],
   "source": []
  },
  {
   "cell_type": "code",
   "execution_count": null,
   "metadata": {},
   "outputs": [],
   "source": []
  }
 ],
 "metadata": {
  "kernelspec": {
   "display_name": "cuti",
   "language": "python",
   "name": "python3"
  },
  "language_info": {
   "codemirror_mode": {
    "name": "ipython",
    "version": 3
   },
   "file_extension": ".py",
   "mimetype": "text/x-python",
   "name": "python",
   "nbconvert_exporter": "python",
   "pygments_lexer": "ipython3",
   "version": "3.9.16"
  },
  "orig_nbformat": 4
 },
 "nbformat": 4,
 "nbformat_minor": 2
}
