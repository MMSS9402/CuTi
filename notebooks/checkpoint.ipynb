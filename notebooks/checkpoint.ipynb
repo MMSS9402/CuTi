{
 "cells": [
  {
   "cell_type": "code",
   "execution_count": 1,
   "metadata": {},
   "outputs": [
    {
     "name": "stderr",
     "output_type": "stream",
     "text": [
      "/home/kmuvcl/anaconda3/envs/cuti/lib/python3.9/site-packages/tqdm/auto.py:21: TqdmWarning: IProgress not found. Please update jupyter and ipywidgets. See https://ipywidgets.readthedocs.io/en/stable/user_install.html\n",
      "  from .autonotebook import tqdm as notebook_tqdm\n"
     ]
    }
   ],
   "source": [
    "import torch"
   ]
  },
  {
   "cell_type": "code",
   "execution_count": 2,
   "metadata": {},
   "outputs": [],
   "source": [
    "checkpoint1 = torch.load(\"/home/kmuvcl/source/CuTi/logs/runs/2023-09-30/14-32-18/checkpoints/epoch_001.ckpt\")\n",
    "checkpoint2 = torch.load(\"/home/kmuvcl/source/CuTi/logs/runs/2023-09-30/14-32-18/checkpoints/last.ckpt\")"
   ]
  },
  {
   "cell_type": "code",
   "execution_count": 91,
   "metadata": {},
   "outputs": [
    {
     "data": {
      "text/plain": [
       "odict_keys(['ctrlc.transformer.encoder.layers.0.self_attn.in_proj_weight', 'ctrlc.transformer.encoder.layers.0.self_attn.in_proj_bias', 'ctrlc.transformer.encoder.layers.0.self_attn.out_proj.weight', 'ctrlc.transformer.encoder.layers.0.self_attn.out_proj.bias', 'ctrlc.transformer.encoder.layers.0.linear1.weight', 'ctrlc.transformer.encoder.layers.0.linear1.bias', 'ctrlc.transformer.encoder.layers.0.linear2.weight', 'ctrlc.transformer.encoder.layers.0.linear2.bias', 'ctrlc.transformer.encoder.layers.0.norm1.weight', 'ctrlc.transformer.encoder.layers.0.norm1.bias', 'ctrlc.transformer.encoder.layers.0.norm2.weight', 'ctrlc.transformer.encoder.layers.0.norm2.bias', 'ctrlc.transformer.encoder.layers.1.self_attn.in_proj_weight', 'ctrlc.transformer.encoder.layers.1.self_attn.in_proj_bias', 'ctrlc.transformer.encoder.layers.1.self_attn.out_proj.weight', 'ctrlc.transformer.encoder.layers.1.self_attn.out_proj.bias', 'ctrlc.transformer.encoder.layers.1.linear1.weight', 'ctrlc.transformer.encoder.layers.1.linear1.bias', 'ctrlc.transformer.encoder.layers.1.linear2.weight', 'ctrlc.transformer.encoder.layers.1.linear2.bias', 'ctrlc.transformer.encoder.layers.1.norm1.weight', 'ctrlc.transformer.encoder.layers.1.norm1.bias', 'ctrlc.transformer.encoder.layers.1.norm2.weight', 'ctrlc.transformer.encoder.layers.1.norm2.bias', 'ctrlc.transformer.encoder.layers.2.self_attn.in_proj_weight', 'ctrlc.transformer.encoder.layers.2.self_attn.in_proj_bias', 'ctrlc.transformer.encoder.layers.2.self_attn.out_proj.weight', 'ctrlc.transformer.encoder.layers.2.self_attn.out_proj.bias', 'ctrlc.transformer.encoder.layers.2.linear1.weight', 'ctrlc.transformer.encoder.layers.2.linear1.bias', 'ctrlc.transformer.encoder.layers.2.linear2.weight', 'ctrlc.transformer.encoder.layers.2.linear2.bias', 'ctrlc.transformer.encoder.layers.2.norm1.weight', 'ctrlc.transformer.encoder.layers.2.norm1.bias', 'ctrlc.transformer.encoder.layers.2.norm2.weight', 'ctrlc.transformer.encoder.layers.2.norm2.bias', 'ctrlc.transformer.encoder.layers.3.self_attn.in_proj_weight', 'ctrlc.transformer.encoder.layers.3.self_attn.in_proj_bias', 'ctrlc.transformer.encoder.layers.3.self_attn.out_proj.weight', 'ctrlc.transformer.encoder.layers.3.self_attn.out_proj.bias', 'ctrlc.transformer.encoder.layers.3.linear1.weight', 'ctrlc.transformer.encoder.layers.3.linear1.bias', 'ctrlc.transformer.encoder.layers.3.linear2.weight', 'ctrlc.transformer.encoder.layers.3.linear2.bias', 'ctrlc.transformer.encoder.layers.3.norm1.weight', 'ctrlc.transformer.encoder.layers.3.norm1.bias', 'ctrlc.transformer.encoder.layers.3.norm2.weight', 'ctrlc.transformer.encoder.layers.3.norm2.bias', 'ctrlc.transformer.encoder.layers.4.self_attn.in_proj_weight', 'ctrlc.transformer.encoder.layers.4.self_attn.in_proj_bias', 'ctrlc.transformer.encoder.layers.4.self_attn.out_proj.weight', 'ctrlc.transformer.encoder.layers.4.self_attn.out_proj.bias', 'ctrlc.transformer.encoder.layers.4.linear1.weight', 'ctrlc.transformer.encoder.layers.4.linear1.bias', 'ctrlc.transformer.encoder.layers.4.linear2.weight', 'ctrlc.transformer.encoder.layers.4.linear2.bias', 'ctrlc.transformer.encoder.layers.4.norm1.weight', 'ctrlc.transformer.encoder.layers.4.norm1.bias', 'ctrlc.transformer.encoder.layers.4.norm2.weight', 'ctrlc.transformer.encoder.layers.4.norm2.bias', 'ctrlc.transformer.encoder.layers.5.self_attn.in_proj_weight', 'ctrlc.transformer.encoder.layers.5.self_attn.in_proj_bias', 'ctrlc.transformer.encoder.layers.5.self_attn.out_proj.weight', 'ctrlc.transformer.encoder.layers.5.self_attn.out_proj.bias', 'ctrlc.transformer.encoder.layers.5.linear1.weight', 'ctrlc.transformer.encoder.layers.5.linear1.bias', 'ctrlc.transformer.encoder.layers.5.linear2.weight', 'ctrlc.transformer.encoder.layers.5.linear2.bias', 'ctrlc.transformer.encoder.layers.5.norm1.weight', 'ctrlc.transformer.encoder.layers.5.norm1.bias', 'ctrlc.transformer.encoder.layers.5.norm2.weight', 'ctrlc.transformer.encoder.layers.5.norm2.bias', 'ctrlc.transformer.decoder.layers.0.self_attn.in_proj_weight', 'ctrlc.transformer.decoder.layers.0.self_attn.in_proj_bias', 'ctrlc.transformer.decoder.layers.0.self_attn.out_proj.weight', 'ctrlc.transformer.decoder.layers.0.self_attn.out_proj.bias', 'ctrlc.transformer.decoder.layers.0.multihead_attn.in_proj_weight', 'ctrlc.transformer.decoder.layers.0.multihead_attn.in_proj_bias', 'ctrlc.transformer.decoder.layers.0.multihead_attn.out_proj.weight', 'ctrlc.transformer.decoder.layers.0.multihead_attn.out_proj.bias', 'ctrlc.transformer.decoder.layers.0.linear1.weight', 'ctrlc.transformer.decoder.layers.0.linear1.bias', 'ctrlc.transformer.decoder.layers.0.linear2.weight', 'ctrlc.transformer.decoder.layers.0.linear2.bias', 'ctrlc.transformer.decoder.layers.0.norm1.weight', 'ctrlc.transformer.decoder.layers.0.norm1.bias', 'ctrlc.transformer.decoder.layers.0.norm2.weight', 'ctrlc.transformer.decoder.layers.0.norm2.bias', 'ctrlc.transformer.decoder.layers.0.norm3.weight', 'ctrlc.transformer.decoder.layers.0.norm3.bias', 'ctrlc.transformer.decoder.layers.1.self_attn.in_proj_weight', 'ctrlc.transformer.decoder.layers.1.self_attn.in_proj_bias', 'ctrlc.transformer.decoder.layers.1.self_attn.out_proj.weight', 'ctrlc.transformer.decoder.layers.1.self_attn.out_proj.bias', 'ctrlc.transformer.decoder.layers.1.multihead_attn.in_proj_weight', 'ctrlc.transformer.decoder.layers.1.multihead_attn.in_proj_bias', 'ctrlc.transformer.decoder.layers.1.multihead_attn.out_proj.weight', 'ctrlc.transformer.decoder.layers.1.multihead_attn.out_proj.bias', 'ctrlc.transformer.decoder.layers.1.linear1.weight', 'ctrlc.transformer.decoder.layers.1.linear1.bias', 'ctrlc.transformer.decoder.layers.1.linear2.weight', 'ctrlc.transformer.decoder.layers.1.linear2.bias', 'ctrlc.transformer.decoder.layers.1.norm1.weight', 'ctrlc.transformer.decoder.layers.1.norm1.bias', 'ctrlc.transformer.decoder.layers.1.norm2.weight', 'ctrlc.transformer.decoder.layers.1.norm2.bias', 'ctrlc.transformer.decoder.layers.1.norm3.weight', 'ctrlc.transformer.decoder.layers.1.norm3.bias', 'ctrlc.transformer.decoder.layers.2.self_attn.in_proj_weight', 'ctrlc.transformer.decoder.layers.2.self_attn.in_proj_bias', 'ctrlc.transformer.decoder.layers.2.self_attn.out_proj.weight', 'ctrlc.transformer.decoder.layers.2.self_attn.out_proj.bias', 'ctrlc.transformer.decoder.layers.2.multihead_attn.in_proj_weight', 'ctrlc.transformer.decoder.layers.2.multihead_attn.in_proj_bias', 'ctrlc.transformer.decoder.layers.2.multihead_attn.out_proj.weight', 'ctrlc.transformer.decoder.layers.2.multihead_attn.out_proj.bias', 'ctrlc.transformer.decoder.layers.2.linear1.weight', 'ctrlc.transformer.decoder.layers.2.linear1.bias', 'ctrlc.transformer.decoder.layers.2.linear2.weight', 'ctrlc.transformer.decoder.layers.2.linear2.bias', 'ctrlc.transformer.decoder.layers.2.norm1.weight', 'ctrlc.transformer.decoder.layers.2.norm1.bias', 'ctrlc.transformer.decoder.layers.2.norm2.weight', 'ctrlc.transformer.decoder.layers.2.norm2.bias', 'ctrlc.transformer.decoder.layers.2.norm3.weight', 'ctrlc.transformer.decoder.layers.2.norm3.bias', 'ctrlc.transformer.decoder.layers.3.self_attn.in_proj_weight', 'ctrlc.transformer.decoder.layers.3.self_attn.in_proj_bias', 'ctrlc.transformer.decoder.layers.3.self_attn.out_proj.weight', 'ctrlc.transformer.decoder.layers.3.self_attn.out_proj.bias', 'ctrlc.transformer.decoder.layers.3.multihead_attn.in_proj_weight', 'ctrlc.transformer.decoder.layers.3.multihead_attn.in_proj_bias', 'ctrlc.transformer.decoder.layers.3.multihead_attn.out_proj.weight', 'ctrlc.transformer.decoder.layers.3.multihead_attn.out_proj.bias', 'ctrlc.transformer.decoder.layers.3.linear1.weight', 'ctrlc.transformer.decoder.layers.3.linear1.bias', 'ctrlc.transformer.decoder.layers.3.linear2.weight', 'ctrlc.transformer.decoder.layers.3.linear2.bias', 'ctrlc.transformer.decoder.layers.3.norm1.weight', 'ctrlc.transformer.decoder.layers.3.norm1.bias', 'ctrlc.transformer.decoder.layers.3.norm2.weight', 'ctrlc.transformer.decoder.layers.3.norm2.bias', 'ctrlc.transformer.decoder.layers.3.norm3.weight', 'ctrlc.transformer.decoder.layers.3.norm3.bias', 'ctrlc.transformer.decoder.layers.4.self_attn.in_proj_weight', 'ctrlc.transformer.decoder.layers.4.self_attn.in_proj_bias', 'ctrlc.transformer.decoder.layers.4.self_attn.out_proj.weight', 'ctrlc.transformer.decoder.layers.4.self_attn.out_proj.bias', 'ctrlc.transformer.decoder.layers.4.multihead_attn.in_proj_weight', 'ctrlc.transformer.decoder.layers.4.multihead_attn.in_proj_bias', 'ctrlc.transformer.decoder.layers.4.multihead_attn.out_proj.weight', 'ctrlc.transformer.decoder.layers.4.multihead_attn.out_proj.bias', 'ctrlc.transformer.decoder.layers.4.linear1.weight', 'ctrlc.transformer.decoder.layers.4.linear1.bias', 'ctrlc.transformer.decoder.layers.4.linear2.weight', 'ctrlc.transformer.decoder.layers.4.linear2.bias', 'ctrlc.transformer.decoder.layers.4.norm1.weight', 'ctrlc.transformer.decoder.layers.4.norm1.bias', 'ctrlc.transformer.decoder.layers.4.norm2.weight', 'ctrlc.transformer.decoder.layers.4.norm2.bias', 'ctrlc.transformer.decoder.layers.4.norm3.weight', 'ctrlc.transformer.decoder.layers.4.norm3.bias', 'ctrlc.transformer.decoder.layers.5.self_attn.in_proj_weight', 'ctrlc.transformer.decoder.layers.5.self_attn.in_proj_bias', 'ctrlc.transformer.decoder.layers.5.self_attn.out_proj.weight', 'ctrlc.transformer.decoder.layers.5.self_attn.out_proj.bias', 'ctrlc.transformer.decoder.layers.5.multihead_attn.in_proj_weight', 'ctrlc.transformer.decoder.layers.5.multihead_attn.in_proj_bias', 'ctrlc.transformer.decoder.layers.5.multihead_attn.out_proj.weight', 'ctrlc.transformer.decoder.layers.5.multihead_attn.out_proj.bias', 'ctrlc.transformer.decoder.layers.5.linear1.weight', 'ctrlc.transformer.decoder.layers.5.linear1.bias', 'ctrlc.transformer.decoder.layers.5.linear2.weight', 'ctrlc.transformer.decoder.layers.5.linear2.bias', 'ctrlc.transformer.decoder.layers.5.norm1.weight', 'ctrlc.transformer.decoder.layers.5.norm1.bias', 'ctrlc.transformer.decoder.layers.5.norm2.weight', 'ctrlc.transformer.decoder.layers.5.norm2.bias', 'ctrlc.transformer.decoder.layers.5.norm3.weight', 'ctrlc.transformer.decoder.layers.5.norm3.bias', 'ctrlc.transformer.decoder.norm.weight', 'ctrlc.transformer.decoder.norm.bias', 'ctrlc.vp1_embed.weight', 'ctrlc.vp1_embed.bias', 'ctrlc.vp2_embed.weight', 'ctrlc.vp2_embed.bias', 'ctrlc.vp3_embed.weight', 'ctrlc.vp3_embed.bias', 'ctrlc.vp1_class_embed.weight', 'ctrlc.vp1_class_embed.bias', 'ctrlc.vp2_class_embed.weight', 'ctrlc.vp2_class_embed.bias', 'ctrlc.vp3_class_embed.weight', 'ctrlc.vp3_class_embed.bias', 'ctrlc.input_proj.weight', 'ctrlc.input_proj.bias', 'ctrlc.query_embed.weight', 'ctrlc.line_embed.weight', 'ctrlc.input_line_proj.weight', 'ctrlc.input_line_proj.bias', 'ctrlc.backbone.0.body.conv1.weight', 'ctrlc.backbone.0.body.bn1.weight', 'ctrlc.backbone.0.body.bn1.bias', 'ctrlc.backbone.0.body.bn1.running_mean', 'ctrlc.backbone.0.body.bn1.running_var', 'ctrlc.backbone.0.body.layer1.0.conv1.weight', 'ctrlc.backbone.0.body.layer1.0.bn1.weight', 'ctrlc.backbone.0.body.layer1.0.bn1.bias', 'ctrlc.backbone.0.body.layer1.0.bn1.running_mean', 'ctrlc.backbone.0.body.layer1.0.bn1.running_var', 'ctrlc.backbone.0.body.layer1.0.conv2.weight', 'ctrlc.backbone.0.body.layer1.0.bn2.weight', 'ctrlc.backbone.0.body.layer1.0.bn2.bias', 'ctrlc.backbone.0.body.layer1.0.bn2.running_mean', 'ctrlc.backbone.0.body.layer1.0.bn2.running_var', 'ctrlc.backbone.0.body.layer1.0.conv3.weight', 'ctrlc.backbone.0.body.layer1.0.bn3.weight', 'ctrlc.backbone.0.body.layer1.0.bn3.bias', 'ctrlc.backbone.0.body.layer1.0.bn3.running_mean', 'ctrlc.backbone.0.body.layer1.0.bn3.running_var', 'ctrlc.backbone.0.body.layer1.0.downsample.0.weight', 'ctrlc.backbone.0.body.layer1.0.downsample.1.weight', 'ctrlc.backbone.0.body.layer1.0.downsample.1.bias', 'ctrlc.backbone.0.body.layer1.0.downsample.1.running_mean', 'ctrlc.backbone.0.body.layer1.0.downsample.1.running_var', 'ctrlc.backbone.0.body.layer1.1.conv1.weight', 'ctrlc.backbone.0.body.layer1.1.bn1.weight', 'ctrlc.backbone.0.body.layer1.1.bn1.bias', 'ctrlc.backbone.0.body.layer1.1.bn1.running_mean', 'ctrlc.backbone.0.body.layer1.1.bn1.running_var', 'ctrlc.backbone.0.body.layer1.1.conv2.weight', 'ctrlc.backbone.0.body.layer1.1.bn2.weight', 'ctrlc.backbone.0.body.layer1.1.bn2.bias', 'ctrlc.backbone.0.body.layer1.1.bn2.running_mean', 'ctrlc.backbone.0.body.layer1.1.bn2.running_var', 'ctrlc.backbone.0.body.layer1.1.conv3.weight', 'ctrlc.backbone.0.body.layer1.1.bn3.weight', 'ctrlc.backbone.0.body.layer1.1.bn3.bias', 'ctrlc.backbone.0.body.layer1.1.bn3.running_mean', 'ctrlc.backbone.0.body.layer1.1.bn3.running_var', 'ctrlc.backbone.0.body.layer1.2.conv1.weight', 'ctrlc.backbone.0.body.layer1.2.bn1.weight', 'ctrlc.backbone.0.body.layer1.2.bn1.bias', 'ctrlc.backbone.0.body.layer1.2.bn1.running_mean', 'ctrlc.backbone.0.body.layer1.2.bn1.running_var', 'ctrlc.backbone.0.body.layer1.2.conv2.weight', 'ctrlc.backbone.0.body.layer1.2.bn2.weight', 'ctrlc.backbone.0.body.layer1.2.bn2.bias', 'ctrlc.backbone.0.body.layer1.2.bn2.running_mean', 'ctrlc.backbone.0.body.layer1.2.bn2.running_var', 'ctrlc.backbone.0.body.layer1.2.conv3.weight', 'ctrlc.backbone.0.body.layer1.2.bn3.weight', 'ctrlc.backbone.0.body.layer1.2.bn3.bias', 'ctrlc.backbone.0.body.layer1.2.bn3.running_mean', 'ctrlc.backbone.0.body.layer1.2.bn3.running_var', 'ctrlc.backbone.0.body.layer2.0.conv1.weight', 'ctrlc.backbone.0.body.layer2.0.bn1.weight', 'ctrlc.backbone.0.body.layer2.0.bn1.bias', 'ctrlc.backbone.0.body.layer2.0.bn1.running_mean', 'ctrlc.backbone.0.body.layer2.0.bn1.running_var', 'ctrlc.backbone.0.body.layer2.0.conv2.weight', 'ctrlc.backbone.0.body.layer2.0.bn2.weight', 'ctrlc.backbone.0.body.layer2.0.bn2.bias', 'ctrlc.backbone.0.body.layer2.0.bn2.running_mean', 'ctrlc.backbone.0.body.layer2.0.bn2.running_var', 'ctrlc.backbone.0.body.layer2.0.conv3.weight', 'ctrlc.backbone.0.body.layer2.0.bn3.weight', 'ctrlc.backbone.0.body.layer2.0.bn3.bias', 'ctrlc.backbone.0.body.layer2.0.bn3.running_mean', 'ctrlc.backbone.0.body.layer2.0.bn3.running_var', 'ctrlc.backbone.0.body.layer2.0.downsample.0.weight', 'ctrlc.backbone.0.body.layer2.0.downsample.1.weight', 'ctrlc.backbone.0.body.layer2.0.downsample.1.bias', 'ctrlc.backbone.0.body.layer2.0.downsample.1.running_mean', 'ctrlc.backbone.0.body.layer2.0.downsample.1.running_var', 'ctrlc.backbone.0.body.layer2.1.conv1.weight', 'ctrlc.backbone.0.body.layer2.1.bn1.weight', 'ctrlc.backbone.0.body.layer2.1.bn1.bias', 'ctrlc.backbone.0.body.layer2.1.bn1.running_mean', 'ctrlc.backbone.0.body.layer2.1.bn1.running_var', 'ctrlc.backbone.0.body.layer2.1.conv2.weight', 'ctrlc.backbone.0.body.layer2.1.bn2.weight', 'ctrlc.backbone.0.body.layer2.1.bn2.bias', 'ctrlc.backbone.0.body.layer2.1.bn2.running_mean', 'ctrlc.backbone.0.body.layer2.1.bn2.running_var', 'ctrlc.backbone.0.body.layer2.1.conv3.weight', 'ctrlc.backbone.0.body.layer2.1.bn3.weight', 'ctrlc.backbone.0.body.layer2.1.bn3.bias', 'ctrlc.backbone.0.body.layer2.1.bn3.running_mean', 'ctrlc.backbone.0.body.layer2.1.bn3.running_var', 'ctrlc.backbone.0.body.layer2.2.conv1.weight', 'ctrlc.backbone.0.body.layer2.2.bn1.weight', 'ctrlc.backbone.0.body.layer2.2.bn1.bias', 'ctrlc.backbone.0.body.layer2.2.bn1.running_mean', 'ctrlc.backbone.0.body.layer2.2.bn1.running_var', 'ctrlc.backbone.0.body.layer2.2.conv2.weight', 'ctrlc.backbone.0.body.layer2.2.bn2.weight', 'ctrlc.backbone.0.body.layer2.2.bn2.bias', 'ctrlc.backbone.0.body.layer2.2.bn2.running_mean', 'ctrlc.backbone.0.body.layer2.2.bn2.running_var', 'ctrlc.backbone.0.body.layer2.2.conv3.weight', 'ctrlc.backbone.0.body.layer2.2.bn3.weight', 'ctrlc.backbone.0.body.layer2.2.bn3.bias', 'ctrlc.backbone.0.body.layer2.2.bn3.running_mean', 'ctrlc.backbone.0.body.layer2.2.bn3.running_var', 'ctrlc.backbone.0.body.layer2.3.conv1.weight', 'ctrlc.backbone.0.body.layer2.3.bn1.weight', 'ctrlc.backbone.0.body.layer2.3.bn1.bias', 'ctrlc.backbone.0.body.layer2.3.bn1.running_mean', 'ctrlc.backbone.0.body.layer2.3.bn1.running_var', 'ctrlc.backbone.0.body.layer2.3.conv2.weight', 'ctrlc.backbone.0.body.layer2.3.bn2.weight', 'ctrlc.backbone.0.body.layer2.3.bn2.bias', 'ctrlc.backbone.0.body.layer2.3.bn2.running_mean', 'ctrlc.backbone.0.body.layer2.3.bn2.running_var', 'ctrlc.backbone.0.body.layer2.3.conv3.weight', 'ctrlc.backbone.0.body.layer2.3.bn3.weight', 'ctrlc.backbone.0.body.layer2.3.bn3.bias', 'ctrlc.backbone.0.body.layer2.3.bn3.running_mean', 'ctrlc.backbone.0.body.layer2.3.bn3.running_var', 'ctrlc.backbone.0.body.layer3.0.conv1.weight', 'ctrlc.backbone.0.body.layer3.0.bn1.weight', 'ctrlc.backbone.0.body.layer3.0.bn1.bias', 'ctrlc.backbone.0.body.layer3.0.bn1.running_mean', 'ctrlc.backbone.0.body.layer3.0.bn1.running_var', 'ctrlc.backbone.0.body.layer3.0.conv2.weight', 'ctrlc.backbone.0.body.layer3.0.bn2.weight', 'ctrlc.backbone.0.body.layer3.0.bn2.bias', 'ctrlc.backbone.0.body.layer3.0.bn2.running_mean', 'ctrlc.backbone.0.body.layer3.0.bn2.running_var', 'ctrlc.backbone.0.body.layer3.0.conv3.weight', 'ctrlc.backbone.0.body.layer3.0.bn3.weight', 'ctrlc.backbone.0.body.layer3.0.bn3.bias', 'ctrlc.backbone.0.body.layer3.0.bn3.running_mean', 'ctrlc.backbone.0.body.layer3.0.bn3.running_var', 'ctrlc.backbone.0.body.layer3.0.downsample.0.weight', 'ctrlc.backbone.0.body.layer3.0.downsample.1.weight', 'ctrlc.backbone.0.body.layer3.0.downsample.1.bias', 'ctrlc.backbone.0.body.layer3.0.downsample.1.running_mean', 'ctrlc.backbone.0.body.layer3.0.downsample.1.running_var', 'ctrlc.backbone.0.body.layer3.1.conv1.weight', 'ctrlc.backbone.0.body.layer3.1.bn1.weight', 'ctrlc.backbone.0.body.layer3.1.bn1.bias', 'ctrlc.backbone.0.body.layer3.1.bn1.running_mean', 'ctrlc.backbone.0.body.layer3.1.bn1.running_var', 'ctrlc.backbone.0.body.layer3.1.conv2.weight', 'ctrlc.backbone.0.body.layer3.1.bn2.weight', 'ctrlc.backbone.0.body.layer3.1.bn2.bias', 'ctrlc.backbone.0.body.layer3.1.bn2.running_mean', 'ctrlc.backbone.0.body.layer3.1.bn2.running_var', 'ctrlc.backbone.0.body.layer3.1.conv3.weight', 'ctrlc.backbone.0.body.layer3.1.bn3.weight', 'ctrlc.backbone.0.body.layer3.1.bn3.bias', 'ctrlc.backbone.0.body.layer3.1.bn3.running_mean', 'ctrlc.backbone.0.body.layer3.1.bn3.running_var', 'ctrlc.backbone.0.body.layer3.2.conv1.weight', 'ctrlc.backbone.0.body.layer3.2.bn1.weight', 'ctrlc.backbone.0.body.layer3.2.bn1.bias', 'ctrlc.backbone.0.body.layer3.2.bn1.running_mean', 'ctrlc.backbone.0.body.layer3.2.bn1.running_var', 'ctrlc.backbone.0.body.layer3.2.conv2.weight', 'ctrlc.backbone.0.body.layer3.2.bn2.weight', 'ctrlc.backbone.0.body.layer3.2.bn2.bias', 'ctrlc.backbone.0.body.layer3.2.bn2.running_mean', 'ctrlc.backbone.0.body.layer3.2.bn2.running_var', 'ctrlc.backbone.0.body.layer3.2.conv3.weight', 'ctrlc.backbone.0.body.layer3.2.bn3.weight', 'ctrlc.backbone.0.body.layer3.2.bn3.bias', 'ctrlc.backbone.0.body.layer3.2.bn3.running_mean', 'ctrlc.backbone.0.body.layer3.2.bn3.running_var', 'ctrlc.backbone.0.body.layer3.3.conv1.weight', 'ctrlc.backbone.0.body.layer3.3.bn1.weight', 'ctrlc.backbone.0.body.layer3.3.bn1.bias', 'ctrlc.backbone.0.body.layer3.3.bn1.running_mean', 'ctrlc.backbone.0.body.layer3.3.bn1.running_var', 'ctrlc.backbone.0.body.layer3.3.conv2.weight', 'ctrlc.backbone.0.body.layer3.3.bn2.weight', 'ctrlc.backbone.0.body.layer3.3.bn2.bias', 'ctrlc.backbone.0.body.layer3.3.bn2.running_mean', 'ctrlc.backbone.0.body.layer3.3.bn2.running_var', 'ctrlc.backbone.0.body.layer3.3.conv3.weight', 'ctrlc.backbone.0.body.layer3.3.bn3.weight', 'ctrlc.backbone.0.body.layer3.3.bn3.bias', 'ctrlc.backbone.0.body.layer3.3.bn3.running_mean', 'ctrlc.backbone.0.body.layer3.3.bn3.running_var', 'ctrlc.backbone.0.body.layer3.4.conv1.weight', 'ctrlc.backbone.0.body.layer3.4.bn1.weight', 'ctrlc.backbone.0.body.layer3.4.bn1.bias', 'ctrlc.backbone.0.body.layer3.4.bn1.running_mean', 'ctrlc.backbone.0.body.layer3.4.bn1.running_var', 'ctrlc.backbone.0.body.layer3.4.conv2.weight', 'ctrlc.backbone.0.body.layer3.4.bn2.weight', 'ctrlc.backbone.0.body.layer3.4.bn2.bias', 'ctrlc.backbone.0.body.layer3.4.bn2.running_mean', 'ctrlc.backbone.0.body.layer3.4.bn2.running_var', 'ctrlc.backbone.0.body.layer3.4.conv3.weight', 'ctrlc.backbone.0.body.layer3.4.bn3.weight', 'ctrlc.backbone.0.body.layer3.4.bn3.bias', 'ctrlc.backbone.0.body.layer3.4.bn3.running_mean', 'ctrlc.backbone.0.body.layer3.4.bn3.running_var', 'ctrlc.backbone.0.body.layer3.5.conv1.weight', 'ctrlc.backbone.0.body.layer3.5.bn1.weight', 'ctrlc.backbone.0.body.layer3.5.bn1.bias', 'ctrlc.backbone.0.body.layer3.5.bn1.running_mean', 'ctrlc.backbone.0.body.layer3.5.bn1.running_var', 'ctrlc.backbone.0.body.layer3.5.conv2.weight', 'ctrlc.backbone.0.body.layer3.5.bn2.weight', 'ctrlc.backbone.0.body.layer3.5.bn2.bias', 'ctrlc.backbone.0.body.layer3.5.bn2.running_mean', 'ctrlc.backbone.0.body.layer3.5.bn2.running_var', 'ctrlc.backbone.0.body.layer3.5.conv3.weight', 'ctrlc.backbone.0.body.layer3.5.bn3.weight', 'ctrlc.backbone.0.body.layer3.5.bn3.bias', 'ctrlc.backbone.0.body.layer3.5.bn3.running_mean', 'ctrlc.backbone.0.body.layer3.5.bn3.running_var', 'ctrlc.backbone.0.body.layer4.0.conv1.weight', 'ctrlc.backbone.0.body.layer4.0.bn1.weight', 'ctrlc.backbone.0.body.layer4.0.bn1.bias', 'ctrlc.backbone.0.body.layer4.0.bn1.running_mean', 'ctrlc.backbone.0.body.layer4.0.bn1.running_var', 'ctrlc.backbone.0.body.layer4.0.conv2.weight', 'ctrlc.backbone.0.body.layer4.0.bn2.weight', 'ctrlc.backbone.0.body.layer4.0.bn2.bias', 'ctrlc.backbone.0.body.layer4.0.bn2.running_mean', 'ctrlc.backbone.0.body.layer4.0.bn2.running_var', 'ctrlc.backbone.0.body.layer4.0.conv3.weight', 'ctrlc.backbone.0.body.layer4.0.bn3.weight', 'ctrlc.backbone.0.body.layer4.0.bn3.bias', 'ctrlc.backbone.0.body.layer4.0.bn3.running_mean', 'ctrlc.backbone.0.body.layer4.0.bn3.running_var', 'ctrlc.backbone.0.body.layer4.0.downsample.0.weight', 'ctrlc.backbone.0.body.layer4.0.downsample.1.weight', 'ctrlc.backbone.0.body.layer4.0.downsample.1.bias', 'ctrlc.backbone.0.body.layer4.0.downsample.1.running_mean', 'ctrlc.backbone.0.body.layer4.0.downsample.1.running_var', 'ctrlc.backbone.0.body.layer4.1.conv1.weight', 'ctrlc.backbone.0.body.layer4.1.bn1.weight', 'ctrlc.backbone.0.body.layer4.1.bn1.bias', 'ctrlc.backbone.0.body.layer4.1.bn1.running_mean', 'ctrlc.backbone.0.body.layer4.1.bn1.running_var', 'ctrlc.backbone.0.body.layer4.1.conv2.weight', 'ctrlc.backbone.0.body.layer4.1.bn2.weight', 'ctrlc.backbone.0.body.layer4.1.bn2.bias', 'ctrlc.backbone.0.body.layer4.1.bn2.running_mean', 'ctrlc.backbone.0.body.layer4.1.bn2.running_var', 'ctrlc.backbone.0.body.layer4.1.conv3.weight', 'ctrlc.backbone.0.body.layer4.1.bn3.weight', 'ctrlc.backbone.0.body.layer4.1.bn3.bias', 'ctrlc.backbone.0.body.layer4.1.bn3.running_mean', 'ctrlc.backbone.0.body.layer4.1.bn3.running_var', 'ctrlc.backbone.0.body.layer4.2.conv1.weight', 'ctrlc.backbone.0.body.layer4.2.bn1.weight', 'ctrlc.backbone.0.body.layer4.2.bn1.bias', 'ctrlc.backbone.0.body.layer4.2.bn1.running_mean', 'ctrlc.backbone.0.body.layer4.2.bn1.running_var', 'ctrlc.backbone.0.body.layer4.2.conv2.weight', 'ctrlc.backbone.0.body.layer4.2.bn2.weight', 'ctrlc.backbone.0.body.layer4.2.bn2.bias', 'ctrlc.backbone.0.body.layer4.2.bn2.running_mean', 'ctrlc.backbone.0.body.layer4.2.bn2.running_var', 'ctrlc.backbone.0.body.layer4.2.conv3.weight', 'ctrlc.backbone.0.body.layer4.2.bn3.weight', 'ctrlc.backbone.0.body.layer4.2.bn3.bias', 'ctrlc.backbone.0.body.layer4.2.bn3.running_mean', 'ctrlc.backbone.0.body.layer4.2.bn3.running_var', 'feature_embed.weight', 'feature_embed.bias', 'image_idx_embedding.weight', 'line_idx_embedding.weight', 'transformer_block.layers.0.q_proj.weight', 'transformer_block.layers.0.k_proj.weight', 'transformer_block.layers.0.v_proj.weight', 'transformer_block.layers.0.merge.weight', 'transformer_block.layers.0.mlp.0.weight', 'transformer_block.layers.0.mlp.2.weight', 'transformer_block.layers.0.norm1.weight', 'transformer_block.layers.0.norm1.bias', 'transformer_block.layers.0.norm2.weight', 'transformer_block.layers.0.norm2.bias', 'transformer_block.layers.1.q_proj.weight', 'transformer_block.layers.1.k_proj.weight', 'transformer_block.layers.1.v_proj.weight', 'transformer_block.layers.1.merge.weight', 'transformer_block.layers.1.mlp.0.weight', 'transformer_block.layers.1.mlp.2.weight', 'transformer_block.layers.1.norm1.weight', 'transformer_block.layers.1.norm1.bias', 'transformer_block.layers.1.norm2.weight', 'transformer_block.layers.1.norm2.bias', 'transformer_block.layers.2.q_proj.weight', 'transformer_block.layers.2.k_proj.weight', 'transformer_block.layers.2.v_proj.weight', 'transformer_block.layers.2.merge.weight', 'transformer_block.layers.2.mlp.0.weight', 'transformer_block.layers.2.mlp.2.weight', 'transformer_block.layers.2.norm1.weight', 'transformer_block.layers.2.norm1.bias', 'transformer_block.layers.2.norm2.weight', 'transformer_block.layers.2.norm2.bias', 'transformer_block.layers.3.q_proj.weight', 'transformer_block.layers.3.k_proj.weight', 'transformer_block.layers.3.v_proj.weight', 'transformer_block.layers.3.merge.weight', 'transformer_block.layers.3.mlp.0.weight', 'transformer_block.layers.3.mlp.2.weight', 'transformer_block.layers.3.norm1.weight', 'transformer_block.layers.3.norm1.bias', 'transformer_block.layers.3.norm2.weight', 'transformer_block.layers.3.norm2.bias', 'transformer_block.layers.4.q_proj.weight', 'transformer_block.layers.4.k_proj.weight', 'transformer_block.layers.4.v_proj.weight', 'transformer_block.layers.4.merge.weight', 'transformer_block.layers.4.mlp.0.weight', 'transformer_block.layers.4.mlp.2.weight', 'transformer_block.layers.4.norm1.weight', 'transformer_block.layers.4.norm1.bias', 'transformer_block.layers.4.norm2.weight', 'transformer_block.layers.4.norm2.bias', 'transformer_block.layers.5.q_proj.weight', 'transformer_block.layers.5.k_proj.weight', 'transformer_block.layers.5.v_proj.weight', 'transformer_block.layers.5.merge.weight', 'transformer_block.layers.5.mlp.0.weight', 'transformer_block.layers.5.mlp.2.weight', 'transformer_block.layers.5.norm1.weight', 'transformer_block.layers.5.norm1.bias', 'transformer_block.layers.5.norm2.weight', 'transformer_block.layers.5.norm2.bias', 'vptransformer_block.layers.0.q_proj.weight', 'vptransformer_block.layers.0.k_proj.weight', 'vptransformer_block.layers.0.v_proj.weight', 'vptransformer_block.layers.0.merge.weight', 'vptransformer_block.layers.0.proj.weight', 'vptransformer_block.layers.0.proj.bias', 'vptransformer_block.layers.0.norm1.weight', 'vptransformer_block.layers.0.norm1.bias', 'vptransformer_block.layers.0.norm2.weight', 'vptransformer_block.layers.0.norm2.bias', 'encoder_layer.self_attn.in_proj_weight', 'encoder_layer.self_attn.in_proj_bias', 'encoder_layer.self_attn.out_proj.weight', 'encoder_layer.self_attn.out_proj.bias', 'encoder_layer.linear1.weight', 'encoder_layer.linear1.bias', 'encoder_layer.linear2.weight', 'encoder_layer.linear2.bias', 'encoder_layer.norm1.weight', 'encoder_layer.norm1.bias', 'encoder_layer.norm2.weight', 'encoder_layer.norm2.bias', 'transformer_encoder.layers.0.self_attn.in_proj_weight', 'transformer_encoder.layers.0.self_attn.in_proj_bias', 'transformer_encoder.layers.0.self_attn.out_proj.weight', 'transformer_encoder.layers.0.self_attn.out_proj.bias', 'transformer_encoder.layers.0.linear1.weight', 'transformer_encoder.layers.0.linear1.bias', 'transformer_encoder.layers.0.linear2.weight', 'transformer_encoder.layers.0.linear2.bias', 'transformer_encoder.layers.0.norm1.weight', 'transformer_encoder.layers.0.norm1.bias', 'transformer_encoder.layers.0.norm2.weight', 'transformer_encoder.layers.0.norm2.bias', 'transformer_encoder.layers.1.self_attn.in_proj_weight', 'transformer_encoder.layers.1.self_attn.in_proj_bias', 'transformer_encoder.layers.1.self_attn.out_proj.weight', 'transformer_encoder.layers.1.self_attn.out_proj.bias', 'transformer_encoder.layers.1.linear1.weight', 'transformer_encoder.layers.1.linear1.bias', 'transformer_encoder.layers.1.linear2.weight', 'transformer_encoder.layers.1.linear2.bias', 'transformer_encoder.layers.1.norm1.weight', 'transformer_encoder.layers.1.norm1.bias', 'transformer_encoder.layers.1.norm2.weight', 'transformer_encoder.layers.1.norm2.bias', 'transformer_encoder.layers.2.self_attn.in_proj_weight', 'transformer_encoder.layers.2.self_attn.in_proj_bias', 'transformer_encoder.layers.2.self_attn.out_proj.weight', 'transformer_encoder.layers.2.self_attn.out_proj.bias', 'transformer_encoder.layers.2.linear1.weight', 'transformer_encoder.layers.2.linear1.bias', 'transformer_encoder.layers.2.linear2.weight', 'transformer_encoder.layers.2.linear2.bias', 'transformer_encoder.layers.2.norm1.weight', 'transformer_encoder.layers.2.norm1.bias', 'transformer_encoder.layers.2.norm2.weight', 'transformer_encoder.layers.2.norm2.bias', 'rotation_conv.0.weight', 'rotation_conv.2.weight', 'rotation_conv.4.weight', 'translation_regressor.0.weight', 'translation_regressor.0.bias', 'translation_regressor.2.weight', 'translation_regressor.2.bias', 'translation_regressor.4.weight', 'translation_regressor.4.bias', 'rotation_regressor.0.weight', 'rotation_regressor.0.bias', 'rotation_regressor.2.weight', 'rotation_regressor.2.bias', 'rotation_regressor.4.weight', 'rotation_regressor.4.bias', 'image_conv.0.weight', 'image_conv.2.weight', 'image_conv.4.weight', 'query_embed.weight'])"
      ]
     },
     "execution_count": 91,
     "metadata": {},
     "output_type": "execute_result"
    }
   ],
   "source": [
    "checkpoint1['state_dict'].keys()"
   ]
  },
  {
   "cell_type": "code",
   "execution_count": 110,
   "metadata": {},
   "outputs": [],
   "source": [
    "# del checkpoint1['state_dict']['ctrlc.transformer.encoder.layers.0.self_attn.in_proj_weight']\n",
    "del checkpoint1['state_dict']['ctrlc.transformer.encoder.layers.0.self_attn.out_proj.weight']\n",
    "del checkpoint1['state_dict']['ctrlc.transformer.encoder.layers.0.linear1.weight']\n",
    "del checkpoint1['state_dict']['ctrlc.transformer.encoder.layers.0.linear1.bias']\n",
    "del checkpoint1['state_dict']['ctrlc.transformer.encoder.layers.0.linear2.bias']\n",
    "del checkpoint1['state_dict']['ctrlc.transformer.encoder.layers.0.norm1.weight']\n",
    "del checkpoint1['state_dict']['ctrlc.transformer.encoder.layers.0.norm1.bias']\n",
    "del checkpoint1['state_dict']['ctrlc.transformer.encoder.layers.0.norm2.weight']\n",
    "del checkpoint1['state_dict']['ctrlc.transformer.encoder.layers.0.norm2.bias']\n",
    "del checkpoint1['state_dict']['ctrlc.transformer.encoder.layers.1.self_attn.in_proj_weight']\n",
    "del checkpoint1['state_dict']['ctrlc.transformer.encoder.layers.1.self_attn.in_proj_bias']\n",
    "del checkpoint1['state_dict']['ctrlc.transformer.encoder.layers.1.self_attn.out_proj.weight']\n",
    "del checkpoint1['state_dict']['ctrlc.transformer.encoder.layers.1.self_attn.out_proj.bias']\n",
    "del checkpoint1['state_dict']['ctrlc.transformer.encoder.layers.1.linear1.weight']\n",
    "del checkpoint1['state_dict']['ctrlc.transformer.encoder.layers.1.linear1.bias']\n",
    "del checkpoint1['state_dict']['ctrlc.transformer.encoder.layers.1.linear2.weight']\n",
    "del checkpoint1['state_dict']['ctrlc.transformer.encoder.layers.1.linear2.bias']\n",
    "del checkpoint1['state_dict']['ctrlc.transformer.encoder.layers.1.norm1.weight']\n",
    "del checkpoint1['state_dict']['ctrlc.transformer.encoder.layers.1.norm1.bias']\n",
    "del checkpoint1['state_dict']['ctrlc.transformer.encoder.layers.1.norm2.weight']\n"
   ]
  },
  {
   "cell_type": "code",
   "execution_count": 131,
   "metadata": {},
   "outputs": [
    {
     "data": {
      "text/plain": [
       "tensor([[-0.0637,  0.1005,  0.0044,  ..., -0.0040,  0.0830,  0.0699],\n",
       "        [ 0.0784,  0.0729,  0.0073,  ...,  0.0035,  0.0128,  0.0218],\n",
       "        [ 0.0981,  0.0441, -0.0145,  ..., -0.1041, -0.0757,  0.0977],\n",
       "        ...,\n",
       "        [-0.0020, -0.0676, -0.0246,  ..., -0.0980,  0.0134,  0.0308],\n",
       "        [-0.0984, -0.0381, -0.0330,  ..., -0.0069, -0.0793,  0.0817],\n",
       "        [-0.0422, -0.0361, -0.0014,  ..., -0.0535,  0.0805,  0.0678]],\n",
       "       device='cuda:0')"
      ]
     },
     "execution_count": 131,
     "metadata": {},
     "output_type": "execute_result"
    }
   ],
   "source": [
    "checkpoint1['state_dict']['transformer_block.layers.1.v_proj.weight']"
   ]
  },
  {
   "cell_type": "code",
   "execution_count": 113,
   "metadata": {},
   "outputs": [],
   "source": [
    "# del checkpoint2['state_dict']['ctrlc.transformer.encoder.layers.0.self_attn.in_proj_weight']\n",
    "del checkpoint2['state_dict']['ctrlc.transformer.encoder.layers.0.self_attn.out_proj.weight']\n",
    "del checkpoint2['state_dict']['ctrlc.transformer.encoder.layers.0.linear1.weight']\n",
    "del checkpoint2['state_dict']['ctrlc.transformer.encoder.layers.0.linear1.bias']\n",
    "del checkpoint2['state_dict']['ctrlc.transformer.encoder.layers.0.linear2.bias']\n",
    "del checkpoint2['state_dict']['ctrlc.transformer.encoder.layers.0.norm1.weight']\n",
    "del checkpoint2['state_dict']['ctrlc.transformer.encoder.layers.0.norm1.bias']\n",
    "del checkpoint2['state_dict']['ctrlc.transformer.encoder.layers.0.norm2.weight']\n",
    "del checkpoint2['state_dict']['ctrlc.transformer.encoder.layers.0.norm2.bias']\n",
    "del checkpoint2['state_dict']['ctrlc.transformer.encoder.layers.1.self_attn.in_proj_weight']\n",
    "del checkpoint2['state_dict']['ctrlc.transformer.encoder.layers.1.self_attn.in_proj_bias']\n",
    "del checkpoint2['state_dict']['ctrlc.transformer.encoder.layers.1.self_attn.out_proj.weight']\n",
    "del checkpoint2['state_dict']['ctrlc.transformer.encoder.layers.1.self_attn.out_proj.bias']\n",
    "del checkpoint2['state_dict']['ctrlc.transformer.encoder.layers.1.linear1.weight']\n",
    "del checkpoint2['state_dict']['ctrlc.transformer.encoder.layers.1.linear1.bias']\n",
    "del checkpoint2['state_dict']['ctrlc.transformer.encoder.layers.1.linear2.weight']\n",
    "del checkpoint2['state_dict']['ctrlc.transformer.encoder.layers.1.linear2.bias']\n",
    "del checkpoint2['state_dict']['ctrlc.transformer.encoder.layers.1.norm1.weight']\n",
    "del checkpoint2['state_dict']['ctrlc.transformer.encoder.layers.1.norm1.bias']\n",
    "del checkpoint2['state_dict']['ctrlc.transformer.encoder.layers.1.norm2.weight']"
   ]
  },
  {
   "cell_type": "code",
   "execution_count": 132,
   "metadata": {},
   "outputs": [
    {
     "data": {
      "text/plain": [
       "tensor([[-0.0646,  0.0999,  0.0013,  ..., -0.0070,  0.0788,  0.0677],\n",
       "        [ 0.0812,  0.0691,  0.0103,  ...,  0.0065,  0.0156,  0.0250],\n",
       "        [ 0.0995,  0.0440, -0.0117,  ..., -0.1008, -0.0782,  0.1003],\n",
       "        ...,\n",
       "        [ 0.0024, -0.0668, -0.0219,  ..., -0.0944,  0.0107,  0.0333],\n",
       "        [-0.1023, -0.0389, -0.0347,  ..., -0.0094, -0.0790,  0.0801],\n",
       "        [-0.0451, -0.0335, -0.0043,  ..., -0.0563,  0.0772,  0.0707]],\n",
       "       device='cuda:0')"
      ]
     },
     "execution_count": 132,
     "metadata": {},
     "output_type": "execute_result"
    }
   ],
   "source": [
    "checkpoint2['state_dict']['transformer_block.layers.1.v_proj.weight']"
   ]
  },
  {
   "cell_type": "code",
   "execution_count": null,
   "metadata": {},
   "outputs": [],
   "source": []
  }
 ],
 "metadata": {
  "kernelspec": {
   "display_name": "cuti",
   "language": "python",
   "name": "cuti"
  },
  "language_info": {
   "codemirror_mode": {
    "name": "ipython",
    "version": 3
   },
   "file_extension": ".py",
   "mimetype": "text/x-python",
   "name": "python",
   "nbconvert_exporter": "python",
   "pygments_lexer": "ipython3",
   "version": "3.9.16"
  },
  "orig_nbformat": 4
 },
 "nbformat": 4,
 "nbformat_minor": 2
}
