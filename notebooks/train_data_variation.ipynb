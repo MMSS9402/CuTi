{
 "cells": [
  {
   "cell_type": "code",
   "execution_count": 1,
   "metadata": {},
   "outputs": [
    {
     "name": "stderr",
     "output_type": "stream",
     "text": [
      "/home/kmuvcl/anaconda3/envs/cuti/lib/python3.9/site-packages/tqdm/auto.py:21: TqdmWarning: IProgress not found. Please update jupyter and ipywidgets. See https://ipywidgets.readthedocs.io/en/stable/user_install.html\n",
      "  from .autonotebook import tqdm as notebook_tqdm\n"
     ]
    }
   ],
   "source": [
    "import cv2\n",
    "from tqdm import tqdm\n",
    "import numpy as np\n",
    "import torch\n",
    "import lietorch\n",
    "import os\n",
    "import glob\n",
    "import time\n",
    "import yaml\n",
    "import argparse\n",
    "\n",
    "import torch \n",
    "import torchvision\n",
    "import torchvision.models as models\n",
    "import torch.nn as nn\n",
    "import torch.nn.functional as F\n",
    "from collections import OrderedDict\n",
    "import pickle\n",
    "import json\n",
    "\n",
    "from lietorch import SE3"
   ]
  },
  {
   "cell_type": "code",
   "execution_count": 2,
   "metadata": {},
   "outputs": [],
   "source": [
    "def eval_camera(predictions):\n",
    "    acc_threshold = {\n",
    "        \"tran\": 1.0,\n",
    "        \"rot\": 30,\n",
    "    }  # threshold for translation and rotation error to say prediction is correct.\n",
    "\n",
    "    gt_tran = np.vstack(predictions[\"camera\"][\"gts\"][\"tran\"])\n",
    "    gt_rot = np.vstack(predictions[\"camera\"][\"gts\"][\"rot\"])\n",
    "\n",
    "    \n",
    "    gt_mags = {\"tran\": np.linalg.norm(gt_tran, axis=1), \"rot\": 2 * np.arccos(gt_rot[:,0]) * 180 / np.pi}\n",
    "\n",
    "    tran_graph = np.stack([gt_mags['tran']],axis=1)\n",
    "    tran_graph_name = os.path.join('/home/kmuvcl/source/oldCuTi/CuTi/logs/train_data_output', 'gt_translation_magnitude_vs_error.csv')\n",
    "    np.savetxt(tran_graph_name, tran_graph, delimiter=',', fmt='%1.5f')\n",
    "\n",
    "    rot_graph = np.stack([gt_mags['rot']],axis=1)\n",
    "    rot_graph_name = os.path.join('/home/kmuvcl/source/oldCuTi/CuTi/logs/train_data_output', 'gt_rotation_magnitude_vs_error.csv')\n",
    "    np.savetxt(rot_graph_name, rot_graph, delimiter=',', fmt='%1.5f')\n",
    "    \n",
    "    return gt_mags"
   ]
  },
  {
   "cell_type": "code",
   "execution_count": 3,
   "metadata": {},
   "outputs": [],
   "source": [
    "path = \"/home/kmuvcl/source/oldCuTi/CuTi/matterport/mp3d_planercnn_json/cached_set_train.json\"\n",
    "root = \"/home/kmuvcl/source/oldCuTi/CuTi/matterport/\""
   ]
  },
  {
   "cell_type": "code",
   "execution_count": 4,
   "metadata": {},
   "outputs": [],
   "source": [
    "with open(path) as f:\n",
    "    dset = json.load(f)"
   ]
  },
  {
   "cell_type": "code",
   "execution_count": 8,
   "metadata": {},
   "outputs": [],
   "source": [
    "output_folder = 'matterport_test'\n",
    "\n",
    "predictions = {'camera': {'gts': {'tran': [], 'rot': []}}}\n"
   ]
  },
  {
   "cell_type": "code",
   "execution_count": 9,
   "metadata": {},
   "outputs": [
    {
     "name": "stderr",
     "output_type": "stream",
     "text": [
      "100%|██████████| 31932/31932 [00:00<00:00, 1317973.97it/s]\n"
     ]
    },
    {
     "data": {
      "text/plain": [
       "{'tran': array([1.62742394, 2.33641358, 2.54151281, ..., 2.25831571, 2.39713091,\n",
       "        0.61936957]),\n",
       " 'rot': array([35.60288554, 46.47683654, 72.11098195, ..., 29.76868208,\n",
       "        30.33125001, 14.3947895 ])}"
      ]
     },
     "execution_count": 9,
     "metadata": {},
     "output_type": "execute_result"
    }
   ],
   "source": [
    "for i in tqdm(range(len(dset['data']))):\n",
    "    #print(dset['data'][i]['rel_pose']['position'])\n",
    "    predictions['camera']['gts']['tran'].append(dset['data'][i]['rel_pose']['position'])\n",
    "    gt_rotation = dset['data'][i]['rel_pose']['rotation']\n",
    "    if gt_rotation[0] < 0: # normalize quaternions to have positive \"W\" (equivalent)\n",
    "        gt_rotation[0] *= -1\n",
    "        gt_rotation[1] *= -1\n",
    "        gt_rotation[2] *= -1\n",
    "        gt_rotation[3] *= -1\n",
    "    predictions['camera']['gts']['rot'].append(gt_rotation)\n",
    "eval_camera(predictions)"
   ]
  },
  {
   "cell_type": "code",
   "execution_count": 11,
   "metadata": {},
   "outputs": [],
   "source": [
    "import pandas as pd"
   ]
  },
  {
   "cell_type": "code",
   "execution_count": 12,
   "metadata": {},
   "outputs": [],
   "source": [
    "rotation = pd.read_csv(\"/home/kmuvcl/source/oldCuTi/CuTi/logs/train_data_output/gt_rotation_magnitude_vs_error.csv\")"
   ]
  },
  {
   "cell_type": "code",
   "execution_count": 15,
   "metadata": {},
   "outputs": [
    {
     "data": {
      "text/plain": [
       "53.803437193724164"
      ]
     },
     "execution_count": 15,
     "metadata": {},
     "output_type": "execute_result"
    }
   ],
   "source": [
    "rotation['gt'].mean()"
   ]
  },
  {
   "cell_type": "code",
   "execution_count": 17,
   "metadata": {},
   "outputs": [
    {
     "data": {
      "text/plain": [
       "31932"
      ]
     },
     "execution_count": 17,
     "metadata": {},
     "output_type": "execute_result"
    }
   ],
   "source": [
    "len(rotation['gt'])"
   ]
  },
  {
   "cell_type": "code",
   "execution_count": 18,
   "metadata": {},
   "outputs": [],
   "source": [
    "gt_rot = []\n",
    "for i in range(len(rotation['gt'])):\n",
    "    gt_rot.append(rotation['gt'][i])"
   ]
  },
  {
   "cell_type": "code",
   "execution_count": 20,
   "metadata": {},
   "outputs": [
    {
     "data": {
      "text/plain": [
       "31932"
      ]
     },
     "execution_count": 20,
     "metadata": {},
     "output_type": "execute_result"
    }
   ],
   "source": [
    "len(gt_rot)"
   ]
  },
  {
   "cell_type": "code",
   "execution_count": 16,
   "metadata": {},
   "outputs": [],
   "source": [
    "x = ['0-30','30-60','60-90','90-120','120-150','150-180']\n",
    "y = [0,0,0,0,0,0]"
   ]
  },
  {
   "cell_type": "code",
   "execution_count": 21,
   "metadata": {},
   "outputs": [],
   "source": [
    "for i in range(len(gt_rot)):\n",
    "    if gt_rot[i]>=0 and gt_rot[i]<30:\n",
    "        y[0] += 1\n",
    "    if gt_rot[i]>=30 and gt_rot[i]<60:\n",
    "        y[1] += 1\n",
    "    if gt_rot[i]>=60 and gt_rot[i]<90:\n",
    "        y[2] += 1\n",
    "    if gt_rot[i]>=90 and gt_rot[i]<120:\n",
    "        y[3] += 1\n",
    "    if gt_rot[i]>=120 and gt_rot[i]<150:\n",
    "        y[4] += 1\n",
    "    if gt_rot[i]>=150 and gt_rot[i]<180:\n",
    "        y[5] += 1\n",
    "    \n",
    "\n",
    "        "
   ]
  },
  {
   "cell_type": "code",
   "execution_count": 22,
   "metadata": {},
   "outputs": [],
   "source": [
    "import matplotlib.pyplot as plt\n",
    "import numpy as np"
   ]
  },
  {
   "cell_type": "code",
   "execution_count": 24,
   "metadata": {},
   "outputs": [
    {
     "data": {
      "image/png": "[encoded data removed]",
      "text/plain": [
       "<Figure size 640x480 with 1 Axes>"
      ]
     },
     "metadata": {},
     "output_type": "display_data"
    }
   ],
   "source": [
    "plt.title('rotation data')\n",
    "plt.bar(x, y)\n",
    "plt.show()"
   ]
  },
  {
   "cell_type": "code",
   "execution_count": 26,
   "metadata": {},
   "outputs": [],
   "source": [
    "translation = pd.read_csv(\"/home/kmuvcl/source/oldCuTi/CuTi/logs/train_data_output/gt_translation_magnitude_vs_error.csv\")"
   ]
  },
  {
   "cell_type": "code",
   "execution_count": 27,
   "metadata": {},
   "outputs": [],
   "source": [
    "gt_tra = []\n",
    "for i in range(len(translation['gt'])):\n",
    "    gt_tra.append(translation['gt'][i])"
   ]
  },
  {
   "cell_type": "code",
   "execution_count": 32,
   "metadata": {},
   "outputs": [],
   "source": [
    "x = ['0.0-0.5','0.5-1.0','1.0-1.5','1.5-2.0','2.0-2.5','2.5-3.0','3.0-3.5','else']\n",
    "y = [0,0,0,0,0,0,0,0]"
   ]
  },
  {
   "cell_type": "code",
   "execution_count": 33,
   "metadata": {},
   "outputs": [],
   "source": [
    "for i in range(len(gt_tra)):\n",
    "    if gt_tra[i]>=0 and gt_tra[i]<0.5:\n",
    "        y[0] += 1\n",
    "    elif gt_tra[i]>=0.5 and gt_tra[i]<1.0:\n",
    "        y[1] += 1\n",
    "    elif gt_tra[i]>=1.0 and gt_tra[i]<1.5:\n",
    "        y[2] += 1\n",
    "    elif gt_tra[i]>=1.5 and gt_tra[i]<2.0:\n",
    "        y[3] += 1\n",
    "    elif gt_tra[i]>=2.0 and gt_tra[i]<2.5:\n",
    "        y[4] += 1\n",
    "    elif gt_tra[i]>=2.5 and gt_tra[i]<3.0:\n",
    "        y[5] += 1\n",
    "    elif gt_tra[i]>=3.0 and gt_tra[i]<3.5:\n",
    "        y[6] += 1\n",
    "    else:\n",
    "        y[7] += 1\n",
    "    "
   ]
  },
  {
   "cell_type": "code",
   "execution_count": 34,
   "metadata": {},
   "outputs": [
    {
     "data": {
      "image/png": "[encoded data removed]",
      "text/plain": [
       "<Figure size 640x480 with 1 Axes>"
      ]
     },
     "metadata": {},
     "output_type": "display_data"
    }
   ],
   "source": [
    "plt.title('translation data')\n",
    "plt.bar(x,y)\n",
    "plt.show()"
   ]
  },
  {
   "cell_type": "code",
   "execution_count": null,
   "metadata": {},
   "outputs": [],
   "source": []
  }
 ],
 "metadata": {
  "kernelspec": {
   "display_name": "Python 3.9.16 ('cuti')",
   "language": "python",
   "name": "python3"
  },
  "language_info": {
   "codemirror_mode": {
    "name": "ipython",
    "version": 3
   },
   "file_extension": ".py",
   "mimetype": "text/x-python",
   "name": "python",
   "nbconvert_exporter": "python",
   "pygments_lexer": "ipython3",
   "version": "3.9.16"
  },
  "orig_nbformat": 4,
  "vscode": {
   "interpreter": {
    "hash": "167ed4d760c5bbb8b58639929312eda6fcad32a00c0382e2adffde024859406a"
   }
  }
 },
 "nbformat": 4,
 "nbformat_minor": 2
}
