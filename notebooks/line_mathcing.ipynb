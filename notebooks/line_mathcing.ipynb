{
 "cells": [
  {
   "cell_type": "code",
   "execution_count": 1,
   "metadata": {},
   "outputs": [],
   "source": [
    "import cv2\n",
    "import numpy as np"
   ]
  },
  {
   "cell_type": "code",
   "execution_count": 2,
   "metadata": {},
   "outputs": [],
   "source": [
    "def detect_lines_using_lsd(image):\n",
    "    # LSD 알고리즘을 사용하여 라인 검출\n",
    "    lsd = cv2.createLineSegmentDetector(0)\n",
    "    lines, _width, _prec, _nfa = lsd.detect(image)\n",
    "    return lines\n",
    "\n",
    "def are_lines_matching(line1, line2):\n",
    "    # 기울기와 길이를 사용하여 라인이 매칭되는지 확인\n",
    "    slope1 = (line1[0][3] - line1[0][1]) / (line1[0][2] - line1[0][0] + 1e-8)\n",
    "    slope2 = (line2[0][3] - line2[0][1]) / (line2[0][2] - line2[0][0] + 1e-8)\n",
    "\n",
    "    length1 = np.linalg.norm(np.array(line1[0][:2]) - np.array(line1[0][2:]))\n",
    "    length2 = np.linalg.norm(np.array(line2[0][:2]) - np.array(line2[0][2:]))\n",
    "\n",
    "    if abs(slope1 - slope2) < 0.1 and abs(length1 - length2) < 30:\n",
    "        return True\n",
    "    return False"
   ]
  },
  {
   "cell_type": "code",
   "execution_count": 3,
   "metadata": {},
   "outputs": [],
   "source": [
    "image1 = cv2.imread('/home/kmuvcl/source/oldCuTi/CuTi/matterport/rgb/2t7WUuJeko7/0_2_4.png', cv2.IMREAD_GRAYSCALE)\n",
    "image2 = cv2.imread('/home/kmuvcl/source/oldCuTi/CuTi/matterport/rgb/2t7WUuJeko7/0_2_5.png', cv2.IMREAD_GRAYSCALE)"
   ]
  },
  {
   "cell_type": "code",
   "execution_count": 5,
   "metadata": {},
   "outputs": [],
   "source": [
    "lines1 = detect_lines_using_lsd(image1)\n",
    "lines2 = detect_lines_using_lsd(image2)"
   ]
  },
  {
   "cell_type": "code",
   "execution_count": 6,
   "metadata": {},
   "outputs": [],
   "source": [
    "matched_pairs = []"
   ]
  },
  {
   "cell_type": "code",
   "execution_count": 7,
   "metadata": {},
   "outputs": [],
   "source": [
    "for i, lineA in enumerate(lines1):\n",
    "    for j, lineB in enumerate(lines2):\n",
    "        if are_lines_matching(lineA, lineB):\n",
    "            matched_pairs.append((i, j))"
   ]
  },
  {
   "cell_type": "code",
   "execution_count": 8,
   "metadata": {},
   "outputs": [],
   "source": [
    "for i, j in matched_pairs:\n",
    "    lineA = lines1[i][0]\n",
    "    lineB = lines2[j][0]\n",
    "    cv2.line(image1, (int(lineA[0]), int(lineA[1])), (int(lineA[2]), int(lineA[3])), (0, 255, 0), 2)\n",
    "    cv2.line(image2, (int(lineB[0]), int(lineB[1])), (int(lineB[2]), int(lineB[3])), (0, 255, 0), 2)"
   ]
  },
  {
   "cell_type": "code",
   "execution_count": 9,
   "metadata": {},
   "outputs": [
    {
     "data": {
      "text/plain": [
       "True"
      ]
     },
     "execution_count": 9,
     "metadata": {},
     "output_type": "execute_result"
    }
   ],
   "source": [
    "cv2.imwrite(\"Image1.png\", image1)"
   ]
  },
  {
   "cell_type": "code",
   "execution_count": 10,
   "metadata": {},
   "outputs": [
    {
     "data": {
      "text/plain": [
       "True"
      ]
     },
     "execution_count": 10,
     "metadata": {},
     "output_type": "execute_result"
    }
   ],
   "source": [
    "cv2.imwrite(\"Image2.png\", image2)"
   ]
  },
  {
   "cell_type": "code",
   "execution_count": null,
   "metadata": {},
   "outputs": [],
   "source": []
  }
 ],
 "metadata": {
  "kernelspec": {
   "display_name": "cuti",
   "language": "python",
   "name": "cuti"
  },
  "orig_nbformat": 4
 },
 "nbformat": 4,
 "nbformat_minor": 2
}
