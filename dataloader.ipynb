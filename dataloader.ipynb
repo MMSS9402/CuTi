{
 "cells": [
  {
   "cell_type": "code",
   "execution_count": 1,
   "metadata": {},
   "outputs": [],
   "source": [
    "from data.factory import dataset_factory\n",
    "from torch.utils.data import DataLoader"
   ]
  },
  {
   "cell_type": "code",
   "execution_count": null,
   "metadata": {},
   "outputs": [],
   "source": [
    "db = dataset_factory(\n",
    "            [\"matterport\"],\n",
    "            datapath=\"/home/moon/source/CuTi/matterport\",\n",
    "            subepoch=0,\n",
    "            is_training=True,\n",
    "            gpu=0,\n",
    "            streetlearn_interiornet_type=None,\n",
    "            use_mini_dataset=False,\n",
    "        )"
   ]
  }
 ],
 "metadata": {
  "kernelspec": {
   "display_name": "Python 3.7.10 ('cuti')",
   "language": "python",
   "name": "python3"
  },
  "language_info": {
   "codemirror_mode": {
    "name": "ipython",
    "version": 3
   },
   "file_extension": ".py",
   "mimetype": "text/x-python",
   "name": "python",
   "nbconvert_exporter": "python",
   "pygments_lexer": "ipython3",
   "version": "3.7.10"
  },
  "orig_nbformat": 4,
  "vscode": {
   "interpreter": {
    "hash": "fdccdc6a073d743d654d19daae687ff6f0e702cd6f514c29e6e9c515c5833c43"
   }
  }
 },
 "nbformat": 4,
 "nbformat_minor": 2
}
